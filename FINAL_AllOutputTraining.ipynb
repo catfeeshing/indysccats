{
 "cells": [
  {
   "cell_type": "markdown",
   "id": "6e2d2a87-8607-4181-bd40-12d764f0b691",
   "metadata": {},
   "source": [
    "# IndySCC Team 135 HIBOBCATS (UC Merced): How to Find My Cat"
   ]
  },
  {
   "cell_type": "markdown",
   "id": "02fb1cdd-d82c-4978-8f83-0b5a2b6e37fc",
   "metadata": {},
   "source": [
    "This is IndySCC Team 135's documentation as for how to We would like to start in the home directory\n",
    "i give up ill write this in colab"
   ]
  },
  {
   "cell_type": "code",
   "execution_count": 1,
   "id": "979f18c9-7b4f-4766-a9e2-96ad6dc921cd",
   "metadata": {},
   "outputs": [
    {
     "name": "stdout",
     "output_type": "stream",
     "text": [
      "/home/rocky\n"
     ]
    }
   ],
   "source": [
    "%cd ~\n",
    "\n",
    "# Where are you working?\n",
    "mydir = \"/home/rocky/FindMyCat/scratchCat1/\"\n",
    "\n",
    "# Where are datasets stored?\n",
    "datastore = \"datasets/\""
   ]
  },
  {
   "cell_type": "code",
   "execution_count": 2,
   "id": "db5ccd09-208b-4eff-bcb2-15e739921236",
   "metadata": {},
   "outputs": [],
   "source": [
    "# Pip installations\n",
    "\n",
    "!pip install ultralytics > /dev/null 2>&1\n",
    "!pip install roboflow > /dev/null 2>&1\n",
    "!pip install codecarbon > /dev/null 2>&1\n",
    "\n",
    "# ONLY FOR JUPYTER LAB\n",
    "!pip install python-dotenv > /dev/null 2>&1"
   ]
  },
  {
   "cell_type": "code",
   "execution_count": 3,
   "id": "c33f1bc3-70ce-46aa-a2b7-edaf390dd8e2",
   "metadata": {},
   "outputs": [],
   "source": [
    "# Loading dependencies\n",
    "\n",
    "import os\n",
    "from ultralytics import YOLO\n",
    "from roboflow import Roboflow\n",
    "from sklearn.model_selection import train_test_split\n",
    "import shutil\n",
    "from IPython.display import Image, display\n",
    "from codecarbon import track_emissions\n",
    "\n",
    "\n",
    "# ONLY FOR JUPYTER LAB ON JETSTREAM\n",
    "from dotenv import load_dotenv"
   ]
  },
  {
   "cell_type": "code",
   "execution_count": 5,
   "id": "2425b950-ccf3-4377-8ae6-9a9323060725",
   "metadata": {},
   "outputs": [],
   "source": [
    "# Use FIEF link + token to set up API access BEFORE proceeding.\n",
    "\n",
    "# !codecarbon\n",
    "\n",
    "# Emissions folder creation\n",
    "\n",
    "# if not os.path.exists(\"emissions\"):\n",
    "#     os.makedirs(\"emissions\")"
   ]
  },
  {
   "cell_type": "code",
   "execution_count": 6,
   "id": "89d3de2d-a3b1-427c-b510-8f64b7bfb3ea",
   "metadata": {},
   "outputs": [
    {
     "name": "stdout",
     "output_type": "stream",
     "text": [
      "FIEF \u001b[4;94mhttps://auth.codecarbon.io/codecarbon-dev\u001b[0m \n",
      "pkqh9CiOkp4MkPqRqM_k8Xc3mwBRpojS3RayIk1i5Pg\n",
      "Welcome to CodeCarbon configuration wizard\n",
      "Creating new config file\n",
      "Where do you want to put your config file ? [~/.codecarbon.config]: Config file created at /home/rocky/.codecarbon.config\n",
      "Current API endpoint is https://api.codecarbon.io. Press enter to continue or input other url [https://api.codecarbon.io]: \u001b[31m╭─\u001b[0m\u001b[31m────────────────────\u001b[0m\u001b[31m \u001b[0m\u001b[1;31mTraceback \u001b[0m\u001b[1;2;31m(most recent call last)\u001b[0m\u001b[31m \u001b[0m\u001b[31m─────────────────────\u001b[0m\u001b[31m─╮\u001b[0m\n",
      "\u001b[31m│\u001b[0m \u001b[2;33m/home/rocky/miniconda3/envs/jupyterlab/lib/python3.12/site-packages/codecarb\u001b[0m \u001b[31m│\u001b[0m\n",
      "\u001b[31m│\u001b[0m \u001b[2;33mon/cli/\u001b[0m\u001b[1;33mmain.py\u001b[0m:\u001b[94m188\u001b[0m in \u001b[92mconfig\u001b[0m                                                 \u001b[31m│\u001b[0m\n",
      "\u001b[31m│\u001b[0m                                                                              \u001b[31m│\u001b[0m\n",
      "\u001b[31m│\u001b[0m   \u001b[2m185 \u001b[0m\u001b[2m│   \u001b[0m)                                                                  \u001b[31m│\u001b[0m\n",
      "\u001b[31m│\u001b[0m   \u001b[2m186 \u001b[0m\u001b[2m│   \u001b[0moverwrite_local_config(\u001b[33m\"\u001b[0m\u001b[33mapi_endpoint\u001b[0m\u001b[33m\"\u001b[0m, api_endpoint, path=file_pat \u001b[31m│\u001b[0m\n",
      "\u001b[31m│\u001b[0m   \u001b[2m187 \u001b[0m\u001b[2m│   \u001b[0mapi = ApiClient(endpoint_url=api_endpoint)                         \u001b[31m│\u001b[0m\n",
      "\u001b[31m│\u001b[0m \u001b[31m❱ \u001b[0m188 \u001b[2m│   \u001b[0mapi.set_access_token(\u001b[1;4m_get_access_token()\u001b[0m)                          \u001b[31m│\u001b[0m\n",
      "\u001b[31m│\u001b[0m   \u001b[2m189 \u001b[0m\u001b[2m│   \u001b[0morganizations = api.get_list_organizations()                       \u001b[31m│\u001b[0m\n",
      "\u001b[31m│\u001b[0m   \u001b[2m190 \u001b[0m\u001b[2m│   \u001b[0morg = questionary_prompt(                                          \u001b[31m│\u001b[0m\n",
      "\u001b[31m│\u001b[0m   \u001b[2m191 \u001b[0m\u001b[2m│   │   \u001b[0m\u001b[33m\"\u001b[0m\u001b[33mPick existing organization from list or Create new organizati\u001b[0m \u001b[31m│\u001b[0m\n",
      "\u001b[31m│\u001b[0m                                                                              \u001b[31m│\u001b[0m\n",
      "\u001b[31m│\u001b[0m \u001b[33m╭─\u001b[0m\u001b[33m────────────────────────────────\u001b[0m\u001b[33m locals \u001b[0m\u001b[33m────────────────────────────────\u001b[0m\u001b[33m─╮\u001b[0m \u001b[31m│\u001b[0m\n",
      "\u001b[31m│\u001b[0m \u001b[33m│\u001b[0m          api = \u001b[1m<\u001b[0m\u001b[1;95mcodecarbon.core.api_client.ApiClient\u001b[0m\u001b[39m object at \u001b[0m          \u001b[33m│\u001b[0m \u001b[31m│\u001b[0m\n",
      "\u001b[31m│\u001b[0m \u001b[33m│\u001b[0m                \u001b[94m0x7f9a175d3170\u001b[0m\u001b[1m>\u001b[0m                                           \u001b[33m│\u001b[0m \u001b[31m│\u001b[0m\n",
      "\u001b[31m│\u001b[0m \u001b[33m│\u001b[0m api_endpoint = \u001b[33m' http://localhost:8008 '\u001b[0m                                 \u001b[33m│\u001b[0m \u001b[31m│\u001b[0m\n",
      "\u001b[31m│\u001b[0m \u001b[33m│\u001b[0m    file_path = \u001b[1;35mPosixPath\u001b[0m\u001b[1m(\u001b[0m\u001b[33m'/home/rocky/.codecarbon.config'\u001b[0m\u001b[1m)\u001b[0m               \u001b[33m│\u001b[0m \u001b[31m│\u001b[0m\n",
      "\u001b[31m│\u001b[0m \u001b[33m│\u001b[0m  global_path = \u001b[1;35mPosixPath\u001b[0m\u001b[1m(\u001b[0m\u001b[33m'/home/rocky/.codecarbon.config'\u001b[0m\u001b[1m)\u001b[0m               \u001b[33m│\u001b[0m \u001b[31m│\u001b[0m\n",
      "\u001b[31m│\u001b[0m \u001b[33m│\u001b[0m         home = \u001b[1;35mPosixPath\u001b[0m\u001b[1m(\u001b[0m\u001b[33m'/home/rocky'\u001b[0m\u001b[1m)\u001b[0m                                  \u001b[33m│\u001b[0m \u001b[31m│\u001b[0m\n",
      "\u001b[31m│\u001b[0m \u001b[33m╰──────────────────────────────────────────────────────────────────────────╯\u001b[0m \u001b[31m│\u001b[0m\n",
      "\u001b[31m│\u001b[0m                                                                              \u001b[31m│\u001b[0m\n",
      "\u001b[31m│\u001b[0m \u001b[2;33m/home/rocky/miniconda3/envs/jupyterlab/lib/python3.12/site-packages/codecarb\u001b[0m \u001b[31m│\u001b[0m\n",
      "\u001b[31m│\u001b[0m \u001b[2;33mon/cli/\u001b[0m\u001b[1;33mmain.py\u001b[0m:\u001b[94m106\u001b[0m in \u001b[92m_get_access_token\u001b[0m                                      \u001b[31m│\u001b[0m\n",
      "\u001b[31m│\u001b[0m                                                                              \u001b[31m│\u001b[0m\n",
      "\u001b[31m│\u001b[0m   \u001b[2m103 \u001b[0m                                                                       \u001b[31m│\u001b[0m\n",
      "\u001b[31m│\u001b[0m   \u001b[2m104 \u001b[0m                                                                       \u001b[31m│\u001b[0m\n",
      "\u001b[31m│\u001b[0m   \u001b[2m105 \u001b[0m\u001b[94mdef\u001b[0m \u001b[92m_get_access_token\u001b[0m():                                               \u001b[31m│\u001b[0m\n",
      "\u001b[31m│\u001b[0m \u001b[31m❱ \u001b[0m106 \u001b[2m│   \u001b[0maccess_token_info = \u001b[1;4mfief_auth.access_token_info()\u001b[0m                  \u001b[31m│\u001b[0m\n",
      "\u001b[31m│\u001b[0m   \u001b[2m107 \u001b[0m\u001b[2m│   \u001b[0maccess_token = access_token_info[\u001b[33m\"\u001b[0m\u001b[33maccess_token\u001b[0m\u001b[33m\"\u001b[0m]                   \u001b[31m│\u001b[0m\n",
      "\u001b[31m│\u001b[0m   \u001b[2m108 \u001b[0m\u001b[2m│   \u001b[0m\u001b[94mreturn\u001b[0m access_token                                                \u001b[31m│\u001b[0m\n",
      "\u001b[31m│\u001b[0m   \u001b[2m109 \u001b[0m                                                                       \u001b[31m│\u001b[0m\n",
      "\u001b[31m│\u001b[0m                                                                              \u001b[31m│\u001b[0m\n",
      "\u001b[31m│\u001b[0m \u001b[2;33m/home/rocky/miniconda3/envs/jupyterlab/lib/python3.12/site-packages/fief_cli\u001b[0m \u001b[31m│\u001b[0m\n",
      "\u001b[31m│\u001b[0m \u001b[2;33ment/integrations/\u001b[0m\u001b[1;33mcli.py\u001b[0m:\u001b[94m149\u001b[0m in \u001b[92maccess_token_info\u001b[0m                             \u001b[31m│\u001b[0m\n",
      "\u001b[31m│\u001b[0m                                                                              \u001b[31m│\u001b[0m\n",
      "\u001b[31m│\u001b[0m   \u001b[2m146 \u001b[0m\u001b[2;33m│   │   \u001b[0m\u001b[33m:raises: `fief_client.FiefAccessTokenExpired` if the access to\u001b[0m \u001b[31m│\u001b[0m\n",
      "\u001b[31m│\u001b[0m   \u001b[2m147 \u001b[0m\u001b[2;33m│   │   \u001b[0m\u001b[33m\"\"\"\u001b[0m                                                            \u001b[31m│\u001b[0m\n",
      "\u001b[31m│\u001b[0m   \u001b[2m148 \u001b[0m\u001b[2m│   │   \u001b[0m\u001b[94mif\u001b[0m \u001b[96mself\u001b[0m._tokens \u001b[95mis\u001b[0m \u001b[94mNone\u001b[0m:                                       \u001b[31m│\u001b[0m\n",
      "\u001b[31m│\u001b[0m \u001b[31m❱ \u001b[0m149 \u001b[2m│   │   │   \u001b[0m\u001b[1;4;94mraise\u001b[0m\u001b[1;4m FiefAuthNotAuthenticatedError()\u001b[0m                      \u001b[31m│\u001b[0m\n",
      "\u001b[31m│\u001b[0m   \u001b[2m150 \u001b[0m\u001b[2m│   │   \u001b[0m                                                               \u001b[31m│\u001b[0m\n",
      "\u001b[31m│\u001b[0m   \u001b[2m151 \u001b[0m\u001b[2m│   │   \u001b[0maccess_token = \u001b[96mself\u001b[0m._tokens[\u001b[33m\"\u001b[0m\u001b[33maccess_token\u001b[0m\u001b[33m\"\u001b[0m]                    \u001b[31m│\u001b[0m\n",
      "\u001b[31m│\u001b[0m   \u001b[2m152 \u001b[0m\u001b[2m│   │   \u001b[0m\u001b[94mtry\u001b[0m:                                                           \u001b[31m│\u001b[0m\n",
      "\u001b[31m│\u001b[0m                                                                              \u001b[31m│\u001b[0m\n",
      "\u001b[31m│\u001b[0m \u001b[33m╭─\u001b[0m\u001b[33m────────────────────────────────\u001b[0m\u001b[33m locals \u001b[0m\u001b[33m────────────────────────────────\u001b[0m\u001b[33m─╮\u001b[0m \u001b[31m│\u001b[0m\n",
      "\u001b[31m│\u001b[0m \u001b[33m│\u001b[0m refresh = \u001b[94mTrue\u001b[0m                                                           \u001b[33m│\u001b[0m \u001b[31m│\u001b[0m\n",
      "\u001b[31m│\u001b[0m \u001b[33m│\u001b[0m    self = \u001b[1m<\u001b[0m\u001b[1;95mfief_client.integrations.cli.FiefAuth\u001b[0m\u001b[39m object at \u001b[0m              \u001b[33m│\u001b[0m \u001b[31m│\u001b[0m\n",
      "\u001b[31m│\u001b[0m \u001b[33m│\u001b[0m           \u001b[94m0x7f9a1806e150\u001b[0m\u001b[1m>\u001b[0m                                                \u001b[33m│\u001b[0m \u001b[31m│\u001b[0m\n",
      "\u001b[31m│\u001b[0m \u001b[33m╰──────────────────────────────────────────────────────────────────────────╯\u001b[0m \u001b[31m│\u001b[0m\n",
      "\u001b[31m╰──────────────────────────────────────────────────────────────────────────────╯\u001b[0m\n",
      "\u001b[1;91mFiefAuthNotAuthenticatedError\u001b[0m\n"
     ]
    }
   ],
   "source": [
    "# CodeCarbon Logging\n",
    "\n",
    "!rm .codecarbon.config\n",
    "\n",
    "!echo -ne '\\n http://localhost:8008 \\n' | codecarbon config\n",
    "# pkqh9CiOkp4MkPqRqM_k8Xc3mwBRpojS3RayIk1i5Pg"
   ]
  },
  {
   "cell_type": "code",
   "execution_count": 7,
   "id": "9b0f5ec1-f236-41a5-a287-53566ed3b173",
   "metadata": {},
   "outputs": [
    {
     "name": "stdout",
     "output_type": "stream",
     "text": [
      "[codecarbon]\n",
      "api_endpoint =  http://localhost:8008 \n",
      "\n",
      "save_to_file = true\n"
     ]
    }
   ],
   "source": [
    "!echo \"save_to_file = true\" >> .codecarbon.config\n",
    "# !echo \"output_dir = home/rocky/FindMyCat/scratchCat1/emissions\" >> .codecarbon.config\n",
    "# !echo \"save_\" >> .codecarbon.config\n",
    "\n",
    "!cat .codecarbon.config"
   ]
  },
  {
   "cell_type": "code",
   "execution_count": 4,
   "id": "1052cae9-eed7-4a0e-afdf-cd651e1b1bb8",
   "metadata": {},
   "outputs": [
    {
     "name": "stdout",
     "output_type": "stream",
     "text": [
      "/home/rocky/FindMyCat/scratchCat1\n"
     ]
    },
    {
     "data": {
      "text/plain": [
       "'/home/rocky/FindMyCat/scratchCat1'"
      ]
     },
     "execution_count": 4,
     "metadata": {},
     "output_type": "execute_result"
    }
   ],
   "source": [
    "# Jetstream organisation ONLY\n",
    "\n",
    "# targetdir = \"scratchCat1/\"\n",
    "\n",
    "# %cd /home/rocky/FindMyCat/{targetdir}/\n",
    "# !sudo chmod 777 .\n",
    "%cd {mydir}\n",
    "%pwd"
   ]
  },
  {
   "cell_type": "code",
   "execution_count": 9,
   "id": "d9b829a4-d055-42dc-999b-d2c6aa308a44",
   "metadata": {},
   "outputs": [],
   "source": [
    "# Folder setup\n",
    "\n",
    "if not os.path.exists(\"datasets\"):\n",
    "    os.makedirs(\"datasets\")"
   ]
  },
  {
   "cell_type": "code",
   "execution_count": 10,
   "id": "34c033ab-05db-435c-9b4d-be9ba6cca2b8",
   "metadata": {},
   "outputs": [
    {
     "name": "stdout",
     "output_type": "stream",
     "text": [
      "loading Roboflow workspace...\n",
      "loading Roboflow project...\n"
     ]
    },
    {
     "name": "stderr",
     "output_type": "stream",
     "text": [
      "Downloading Dataset Version Zip in Cats-3 to yolov9:: 100%|████████████████████████████████████████████████████████████████████| 61862/61862 [00:02<00:00, 28754.63it/s]"
     ]
    },
    {
     "name": "stdout",
     "output_type": "stream",
     "text": [
      "\n"
     ]
    },
    {
     "name": "stderr",
     "output_type": "stream",
     "text": [
      "\n",
      "Extracting Dataset Version Zip to Cats-3 in yolov9:: 100%|████████████████████████████████████████████████████████████████████████| 5574/5574 [00:00<00:00, 7922.74it/s]\n"
     ]
    },
    {
     "name": "stdout",
     "output_type": "stream",
     "text": [
      "loading Roboflow workspace...\n",
      "loading Roboflow project...\n"
     ]
    },
    {
     "name": "stderr",
     "output_type": "stream",
     "text": [
      "Downloading Dataset Version Zip in cat_dataset-4 to yolov9:: 100%|████████████████████████████████████████████████████████████████| 6131/6131 [00:00<00:00, 9063.48it/s]"
     ]
    },
    {
     "name": "stdout",
     "output_type": "stream",
     "text": [
      "\n"
     ]
    },
    {
     "name": "stderr",
     "output_type": "stream",
     "text": [
      "\n",
      "Extracting Dataset Version Zip to cat_dataset-4 in yolov9:: 100%|███████████████████████████████████████████████████████████████████| 348/348 [00:00<00:00, 7596.91it/s]"
     ]
    },
    {
     "name": "stdout",
     "output_type": "stream",
     "text": [
      "loading Roboflow workspace...\n"
     ]
    },
    {
     "name": "stderr",
     "output_type": "stream",
     "text": [
      "\n"
     ]
    },
    {
     "name": "stdout",
     "output_type": "stream",
     "text": [
      "loading Roboflow project...\n"
     ]
    },
    {
     "name": "stderr",
     "output_type": "stream",
     "text": [
      "Downloading Dataset Version Zip in yokky-1 to yolov9:: 100%|███████████████████████████████████████████████████████████████████| 23190/23190 [00:00<00:00, 25912.18it/s]"
     ]
    },
    {
     "name": "stdout",
     "output_type": "stream",
     "text": [
      "\n"
     ]
    },
    {
     "name": "stderr",
     "output_type": "stream",
     "text": [
      "\n",
      "Extracting Dataset Version Zip to yokky-1 in yolov9:: 100%|███████████████████████████████████████████████████████████████████████| 1908/1908 [00:00<00:00, 8130.67it/s]"
     ]
    },
    {
     "name": "stdout",
     "output_type": "stream",
     "text": [
      "loading Roboflow workspace...\n"
     ]
    },
    {
     "name": "stderr",
     "output_type": "stream",
     "text": [
      "\n"
     ]
    },
    {
     "name": "stdout",
     "output_type": "stream",
     "text": [
      "loading Roboflow project...\n"
     ]
    },
    {
     "name": "stderr",
     "output_type": "stream",
     "text": [
      "Downloading Dataset Version Zip in Vebcam-cats-1 to yolov9:: 100%|█████████████████████████████████████████████████████████████████| 8441/8441 [00:14<00:00, 566.91it/s]"
     ]
    },
    {
     "name": "stdout",
     "output_type": "stream",
     "text": [
      "\n"
     ]
    },
    {
     "name": "stderr",
     "output_type": "stream",
     "text": [
      "\n",
      "Extracting Dataset Version Zip to Vebcam-cats-1 in yolov9:: 100%|███████████████████████████████████████████████████████████████████| 362/362 [00:00<00:00, 6453.32it/s]"
     ]
    },
    {
     "name": "stdout",
     "output_type": "stream",
     "text": [
      "loading Roboflow workspace...\n"
     ]
    },
    {
     "name": "stderr",
     "output_type": "stream",
     "text": [
      "\n"
     ]
    },
    {
     "name": "stdout",
     "output_type": "stream",
     "text": [
      "loading Roboflow project...\n"
     ]
    },
    {
     "name": "stderr",
     "output_type": "stream",
     "text": [
      "Downloading Dataset Version Zip in cat_detection-5 to yolov9:: 100%|██████████████████████████████████████████████████████████████| 3829/3829 [00:00<00:00, 6654.14it/s]"
     ]
    },
    {
     "name": "stdout",
     "output_type": "stream",
     "text": [
      "\n"
     ]
    },
    {
     "name": "stderr",
     "output_type": "stream",
     "text": [
      "\n",
      "Extracting Dataset Version Zip to cat_detection-5 in yolov9:: 100%|█████████████████████████████████████████████████████████████████| 776/776 [00:00<00:00, 8075.90it/s]"
     ]
    },
    {
     "name": "stdout",
     "output_type": "stream",
     "text": [
      "loading Roboflow workspace...\n"
     ]
    },
    {
     "name": "stderr",
     "output_type": "stream",
     "text": [
      "\n"
     ]
    },
    {
     "name": "stdout",
     "output_type": "stream",
     "text": [
      "loading Roboflow project...\n"
     ]
    },
    {
     "name": "stderr",
     "output_type": "stream",
     "text": [
      "Downloading Dataset Version Zip in catdetection-1 to yolov9:: 100%|████████████████████████████████████████████████████████████| 20166/20166 [00:01<00:00, 19958.05it/s]"
     ]
    },
    {
     "name": "stdout",
     "output_type": "stream",
     "text": [
      "\n"
     ]
    },
    {
     "name": "stderr",
     "output_type": "stream",
     "text": [
      "\n",
      "Extracting Dataset Version Zip to catdetection-1 in yolov9:: 100%|██████████████████████████████████████████████████████████████████| 812/812 [00:00<00:00, 6870.86it/s]"
     ]
    },
    {
     "name": "stdout",
     "output_type": "stream",
     "text": [
      "loading Roboflow workspace...\n"
     ]
    },
    {
     "name": "stderr",
     "output_type": "stream",
     "text": [
      "\n"
     ]
    },
    {
     "name": "stdout",
     "output_type": "stream",
     "text": [
      "loading Roboflow project...\n"
     ]
    },
    {
     "name": "stderr",
     "output_type": "stream",
     "text": [
      "Downloading Dataset Version Zip in Cats-Detector-1 to yolov9:: 100%|███████████████████████████████████████████████████████████| 18367/18367 [00:00<00:00, 20085.39it/s]"
     ]
    },
    {
     "name": "stdout",
     "output_type": "stream",
     "text": [
      "\n"
     ]
    },
    {
     "name": "stderr",
     "output_type": "stream",
     "text": [
      "\n",
      "Extracting Dataset Version Zip to Cats-Detector-1 in yolov9:: 100%|█████████████████████████████████████████████████████████████████| 776/776 [00:00<00:00, 6877.72it/s]"
     ]
    },
    {
     "name": "stdout",
     "output_type": "stream",
     "text": [
      "loading Roboflow workspace...\n"
     ]
    },
    {
     "name": "stderr",
     "output_type": "stream",
     "text": [
      "\n"
     ]
    },
    {
     "name": "stdout",
     "output_type": "stream",
     "text": [
      "loading Roboflow project...\n"
     ]
    },
    {
     "name": "stderr",
     "output_type": "stream",
     "text": [
      "Downloading Dataset Version Zip in cats_big-1 to yolov9:: 100%|██████████████████████████████████████████████████████████████| 311780/311780 [00:07<00:00, 41810.85it/s]"
     ]
    },
    {
     "name": "stdout",
     "output_type": "stream",
     "text": [
      "\n"
     ]
    },
    {
     "name": "stderr",
     "output_type": "stream",
     "text": [
      "\n",
      "Extracting Dataset Version Zip to cats_big-1 in yolov9:: 100%|██████████████████████████████████████████████████████████████████| 23694/23694 [00:03<00:00, 7247.58it/s]\n"
     ]
    }
   ],
   "source": [
    "# Roboflow dataset download\n",
    "load_dotenv()\n",
    "key = str(os.getenv('ROBOFLOW_KEY'))\n",
    "\n",
    "rf = Roboflow(api_key=key)\n",
    "project = rf.workspace(\"mohamed-traore-2ekkp\").project(\"cats-n9b87\")\n",
    "version = project.version(3)\n",
    "dataset = version.download(\"yolov9\")\n",
    "\n",
    "project = rf.workspace(\"kedidataset\").project(\"cat_dataset-60y1w\")\n",
    "version = project.version(4)\n",
    "dataset = version.download(\"yolov9\")\n",
    "\n",
    "project = rf.workspace(\"school-s37ic\").project(\"yokky\")\n",
    "version = project.version(1)\n",
    "dataset = version.download(\"yolov9\")\n",
    "\n",
    "project = rf.workspace(\"vebcam-cats\").project(\"vebcam-cats\")\n",
    "version = project.version(1)\n",
    "dataset = version.download(\"yolov9\")\n",
    "\n",
    "project = rf.workspace(\"otteo\").project(\"cat_detection-kidge\")\n",
    "version = project.version(5)\n",
    "dataset = version.download(\"yolov9\")\n",
    "\n",
    "project = rf.workspace(\"qb-d\").project(\"catdetection-gy4yk\")\n",
    "version = project.version(1)\n",
    "dataset = version.download(\"yolov9\")\n",
    "\n",
    "project = rf.workspace(\"ming-fatt\").project(\"cats-detector-gfray\")\n",
    "version = project.version(1)\n",
    "dataset = version.download(\"yolov9\")\n",
    "\n",
    "project = rf.workspace(\"danila-belsky-zqxkl\").project(\"cats_big-kheuo\")\n",
    "version = project.version(1)\n",
    "dataset = version.download(\"yolov9\")\n",
    "\n",
    "# Move datasets to appropriate location\n",
    "\n",
    "!mv Cats-3 datasets/\n",
    "!mv cat_dataset-4 datasets/ \n",
    "!mv yokky-1 datasets/\n",
    "!mv Vebcam-cats-1 datasets/\n",
    "!mv cat_detection-5 datasets/\n",
    "!mv catdetection-1 datasets/\n",
    "!mv Cats-Detector-1 datasets/\n",
    "!mv cats_big-1 datasets/"
   ]
  },
  {
   "cell_type": "code",
   "execution_count": 11,
   "id": "10a1243f-bcca-4e91-8d91-d5bac0b2e347",
   "metadata": {},
   "outputs": [
    {
     "name": "stdout",
     "output_type": "stream",
     "text": [
      "--2024-11-20 14:38:04--  https://submit.see240009.projects.jetstream-cloud.org/mystery-app/provided-examples.tar.gz\n",
      "Resolving submit.see240009.projects.jetstream-cloud.org (submit.see240009.projects.jetstream-cloud.org)... 149.165.152.49\n",
      "Connecting to submit.see240009.projects.jetstream-cloud.org (submit.see240009.projects.jetstream-cloud.org)|149.165.152.49|:443... connected.\n",
      "HTTP request sent, awaiting response... 200 OK\n",
      "Length: 4046918 (3.9M) [application/gzip]\n",
      "Saving to: ‘provided-examples.tar.gz’\n",
      "\n",
      "provided-examples.t 100%[===================>]   3.86M  --.-KB/s    in 0.01s   \n",
      "\n",
      "2024-11-20 14:38:04 (294 MB/s) - ‘provided-examples.tar.gz’ saved [4046918/4046918]\n",
      "\n"
     ]
    }
   ],
   "source": [
    "# Original 60 photos extraction\n",
    "\n",
    "if not os.path.exists(\"provided-examples/\"):\n",
    "    !wget https://submit.see240009.projects.jetstream-cloud.org/mystery-app/provided-examples.tar.gz\n",
    "    !tar -xf provided-examples.tar.gz > /dev/null 2>&1\n"
   ]
  },
  {
   "cell_type": "code",
   "execution_count": 12,
   "id": "bf98e471-55cc-4c20-9ed9-2c755e34fa41",
   "metadata": {},
   "outputs": [
    {
     "name": "stdout",
     "output_type": "stream",
     "text": [
      "86 25 13\n"
     ]
    }
   ],
   "source": [
    "# Original 60 photos extraction\n",
    "\n",
    "original_dataset_path = mydir+\"provided-examples\"\n",
    "new_dataset_path = mydir+\"datasets/provided-examples\"\n",
    "images_path = os.path.join(original_dataset_path, \"images\")\n",
    "labels_path = os.path.join(original_dataset_path, \"labels\")\n",
    "\n",
    "output_dirs = {\n",
    "    \"train\": {\"images\": \"train/images\", \"labels\": \"train/labels\"},\n",
    "    \"test\": {\"images\": \"test/images\", \"labels\": \"test/labels\"},\n",
    "    \"valid\": {\"images\": \"valid/images\", \"labels\": \"valid/labels\"}\n",
    "}\n",
    "# %pwd\n",
    "\n",
    "for split, paths in output_dirs.items():\n",
    "    for path in paths.values():\n",
    "        if os.path.exists(os.path.join(new_dataset_path, path)):\n",
    "            break\n",
    "        else:\n",
    "            os.makedirs(os.path.join(new_dataset_path, path))\n",
    "\n",
    "image_files = sorted(os.listdir(images_path))\n",
    "label_files = sorted(os.listdir(labels_path))\n",
    "\n",
    "assert len(image_files) == len(label_files), \"Mismatch between images and labels.\"\n",
    "pairs = list(zip(image_files, label_files))\n",
    "\n",
    "train_pairs, temp_pairs = train_test_split(pairs, test_size=0.3, random_state=42)\n",
    "test_pairs, valid_pairs = train_test_split(temp_pairs, test_size=0.333, random_state=42)  # 10% valid, 20% test\n",
    "\n",
    "print(len(train_pairs), len(test_pairs),len(valid_pairs))\n",
    "\n",
    "splits = {\n",
    "    \"train\": train_pairs,\n",
    "    \"test\": test_pairs,\n",
    "    \"valid\": valid_pairs\n",
    "}\n",
    "\n",
    "for split, pairs in splits.items():\n",
    "    for img_file, label_file in pairs:\n",
    "        shutil.copy(os.path.join(images_path, img_file), os.path.join(new_dataset_path, output_dirs[split][\"images\"], img_file))\n",
    "        shutil.copy(os.path.join(labels_path, label_file), os.path.join(new_dataset_path, output_dirs[split][\"labels\"], label_file))\n"
   ]
  },
  {
   "cell_type": "code",
   "execution_count": 13,
   "id": "6fa5a6be-e6b1-4e81-a519-b737a4b983b2",
   "metadata": {},
   "outputs": [
    {
     "name": "stdout",
     "output_type": "stream",
     "text": [
      "{'Cats-3': '/home/rocky/FindMyCat/scratchCat1/datasets/Cats-3', 'provided-examples': '/home/rocky/FindMyCat/scratchCat1/datasets/provided-examples', 'cat_dataset-4': '/home/rocky/FindMyCat/scratchCat1/datasets/cat_dataset-4', 'yokka-1': '/home/rocky/FindMyCat/scratchCat1/datasets/yokka-1', 'Vebcam-cats-1': '/home/rocky/FindMyCat/scratchCat1/datasets/Vebcam-cats-1', 'cat_detection-5': '/home/rocky/FindMyCat/scratchCat1/datasets/cat_detection-5', 'catdetection-1': '/home/rocky/FindMyCat/scratchCat1/datasets/catdetection-1', 'Cats-Detector-1': '/home/rocky/FindMyCat/scratchCat1/datasets/Cats-Detector-1', 'cats_big-1': '/home/rocky/FindMyCat/scratchCat1/datasets/cats_big-1'}\n"
     ]
    }
   ],
   "source": [
    "# Combining Datasets\n",
    "\n",
    "# !mv Cats-3 datasets/\n",
    "# !mv cat_dataset-4 datasets/ \n",
    "# !mv yokky-1 datasets/\n",
    "# !mv Vebcam-cats-1 datasets/\n",
    "# !mv cat_detection-5 datasets/\n",
    "# !mv catdetection-1 datasets/\n",
    "# !mv Cats-Detector-1 datasets/\n",
    "# !mv cats_big-1 datasets/\n",
    "\n",
    "# TRAINING DATASETS ONLY\n",
    "all_datasets = [\"Cats-3\",\"provided-examples\",\"cat_dataset-4\",\"yokka-1\",\"Vebcam-cats-1\",\"cat_detection-5\",\"catdetection-1\",\"Cats-Detector-1\",\"cats_big-1\"]\n",
    "\n",
    "all_dataset_split_paths = {}\n",
    "\n",
    "# Define paths for the datasets post-splitting into train/test/val\n",
    "datasets_base_path = mydir+\"datasets\"\n",
    "# provided_examples_path = os.path.join(datasets_base_path, \"provided-examples\")\n",
    "# cats3_path = os.path.join(datasets_base_path, \"Cats-3\")\n",
    "# output_path = os.path.join(datasets_base_path, \"combined-dataset\")\n",
    "\n",
    "for dataset_name in all_datasets:\n",
    "    # {all_datasets[i]}_path = os.path.join(datasets_base_path, all_datasets[i])\n",
    "    all_dataset_split_paths[dataset_name] = os.path.join(datasets_base_path, dataset_name)\n",
    "\n",
    "print(all_dataset_split_paths)\n",
    "\n",
    "output_path = os.path.join(datasets_base_path, \"combined-dataset\")\n"
   ]
  },
  {
   "cell_type": "code",
   "execution_count": 14,
   "id": "15ceb658-4f20-45f0-a7f9-36c50865e0d7",
   "metadata": {},
   "outputs": [
    {
     "name": "stdout",
     "output_type": "stream",
     "text": [
      "Datasets combined successfully!\n"
     ]
    }
   ],
   "source": [
    "def combine_datasets(dataset_paths, output_path):\n",
    "    \"\"\"Combines multiple datasets into a single YOLO-formatted dataset.\n",
    "\n",
    "    Args:\n",
    "        dataset_paths (list): A list of paths to the individual datasets. Each dataset \n",
    "                               should have 'train', 'test', and 'valid' subdirectories\n",
    "                               containing 'images' and 'labels'.\n",
    "        output_path (str): The path to the output directory where the combined dataset\n",
    "                            will be saved.\n",
    "    \"\"\"\n",
    "\n",
    "    # Output directories for the combined dataset\n",
    "    output_dirs = {\n",
    "        \"train\": {\"images\": \"train/images\", \"labels\": \"train/labels\"},\n",
    "        \"test\": {\"images\": \"test/images\", \"labels\": \"test/labels\"},\n",
    "        \"valid\": {\"images\": \"valid/images\", \"labels\": \"valid/labels\"}\n",
    "    }\n",
    "\n",
    "    # Create combined dataset directories\n",
    "    for split, paths in output_dirs.items():\n",
    "        for path in paths.values():\n",
    "            os.makedirs(os.path.join(output_path, path), exist_ok=True)\n",
    "\n",
    "    # Helper function to collect images and labels (unchanged)\n",
    "    def collect_pairs(base_path, split):\n",
    "        images_dir = os.path.join(base_path, split, \"images\")\n",
    "        labels_dir = os.path.join(base_path, split, \"labels\")\n",
    "    \n",
    "        image_files = sorted(os.listdir(images_dir))\n",
    "        label_files = sorted(os.listdir(labels_dir))\n",
    "    \n",
    "        pairs = []\n",
    "        for img_file in image_files:\n",
    "            label_file = img_file.replace(\".jpg\", \".txt\").replace(\".png\", \".txt\")\n",
    "            if label_file in label_files:\n",
    "                pairs.append((os.path.join(images_dir, img_file), os.path.join(labels_dir, label_file)))\n",
    "        return pairs\n",
    "\n",
    "    # Collect pairs from all datasets\n",
    "    splits = [\"train\", \"test\", \"valid\"]\n",
    "    all_pairs = {\"train\": [], \"test\": [], \"valid\": []}\n",
    "\n",
    "    for dataset_path in dataset_paths:\n",
    "        for split in splits:\n",
    "            split_path = os.path.join(dataset_path, split) # Create the split path here\n",
    "            if os.path.exists(split_path): # Check if the split path exists\n",
    "                all_pairs[split].extend(collect_pairs(dataset_path, split))\n",
    "\n",
    "    # Consolidate pairs into the output directory (unchanged)\n",
    "    for split, pairs in all_pairs.items():\n",
    "        for img_path, label_path in pairs:\n",
    "            split_dirs = output_dirs[split]\n",
    "            shutil.copy(img_path, os.path.join(output_path, split_dirs[\"images\"], os.path.basename(img_path)))\n",
    "            shutil.copy(label_path, os.path.join(output_path, split_dirs[\"labels\"], os.path.basename(label_path)))\n",
    "    \n",
    "    print(\"Datasets combined successfully!\")\n",
    "\n",
    "combine_datasets(list(all_dataset_split_paths.values()), output_path)"
   ]
  },
  {
   "cell_type": "code",
   "execution_count": 15,
   "id": "fcb3a1f2-1776-4562-9056-cbd02823b598",
   "metadata": {},
   "outputs": [
    {
     "name": "stdout",
     "output_type": "stream",
     "text": [
      "rm: cannot remove '/home/rocky/FindMyCat/scratchCat1/datasets/combined-dataset/train/labels.cache': No such file or directory\n",
      "rm: cannot remove '/home/rocky/FindMyCat/scratchCat1/datasets/combined-dataset/test/labels.cache': No such file or directory\n",
      "rm: cannot remove '/home/rocky/FindMyCat/scratchCat1/datasets/combined-dataset/valid/labels.cache': No such file or directory\n"
     ]
    }
   ],
   "source": [
    "data_yaml_path = \"data.yaml\"\n",
    "\n",
    "if os.path.exists(data_yaml_path):\n",
    "    !rm data.yaml\n",
    "\n",
    "!touch data.yaml\n",
    "\n",
    "final_dataset_path = mydir+datastore+\"combined-dataset\"\n",
    "\n",
    "!rm {final_dataset_path}/train/labels.cache\n",
    "!rm {final_dataset_path}/test/labels.cache\n",
    "!rm {final_dataset_path}/valid/labels.cache\n",
    "\n",
    "with open(data_yaml_path, 'w') as f:\n",
    "    f.write(f\"path: {final_dataset_path}\\n\")  # Absolute path is usually better\n",
    "    f.write(\"train: ./train\\n\")\n",
    "    f.write(\"val: ./valid\\n\")  # Ultralytics uses \"val\"\n",
    "    f.write(\"test: ./test\\n\")\n",
    "    f.write(\"nc: 1\\n\")\n",
    "    f.write(\"names: ['cat']\\n\")\n",
    "    f.close()"
   ]
  },
  {
   "cell_type": "code",
   "execution_count": 16,
   "id": "8c69d196-ce10-4981-bc71-e95279d10283",
   "metadata": {},
   "outputs": [
    {
     "name": "stdout",
     "output_type": "stream",
     "text": [
      "Downloading https://github.com/ultralytics/assets/releases/download/v8.3.0/yolov9m.pt to 'yolov9m.pt'...\n"
     ]
    },
    {
     "name": "stderr",
     "output_type": "stream",
     "text": [
      "100%|██████████████████████████████████████████████████████████████████████████████████████████████████████████████████████████████| 39.1M/39.1M [00:04<00:00, 8.88MB/s]\n"
     ]
    }
   ],
   "source": [
    "model = YOLO(\"yolov9m.pt\")"
   ]
  },
  {
   "cell_type": "code",
   "execution_count": 17,
   "id": "e185b07c-18dc-485b-8d3d-192ecba81c57",
   "metadata": {},
   "outputs": [
    {
     "name": "stdout",
     "output_type": "stream",
     "text": [
      "YOLOv9m summary: 603 layers, 20,216,160 parameters, 0 gradients, 77.9 GFLOPs\n"
     ]
    },
    {
     "data": {
      "text/plain": [
       "(603, 20216160, 0, 77.86652160000001)"
      ]
     },
     "execution_count": 17,
     "metadata": {},
     "output_type": "execute_result"
    }
   ],
   "source": [
    "model.info()"
   ]
  },
  {
   "cell_type": "markdown",
   "id": "e615c08e-ff25-4f26-9099-16da7f07fa0b",
   "metadata": {},
   "source": [
    "Flags:\n",
    "epochs=200\n",
    "imgsz=640\n",
    "patience=100\n",
    "batch=0.80\n",
    "cache=True\n",
    "device=0\n",
    "single_cls=True\n",
    "save=True\n",
    "save_period=10\n",
    "cos_lr=True\n",
    "dropout=0.3\n",
    "plots=True"
   ]
  },
  {
   "cell_type": "code",
   "execution_count": 18,
   "id": "2000328f-db59-49a3-8c47-effdedddbd87",
   "metadata": {},
   "outputs": [
    {
     "name": "stderr",
     "output_type": "stream",
     "text": [
      "[codecarbon INFO @ 14:38:17] [setup] RAM Tracking...\n",
      "[codecarbon INFO @ 14:38:17] [setup] GPU Tracking...\n",
      "[codecarbon INFO @ 14:38:17] Tracking Nvidia GPU via pynvml\n",
      "[codecarbon INFO @ 14:38:17] [setup] CPU Tracking...\n",
      "[codecarbon WARNING @ 14:38:17] No CPU tracking mode found. Falling back on CPU constant mode. \n",
      " Linux OS detected: Please ensure RAPL files exist at \\sys\\class\\powercap\\intel-rapl to measure CPU\n",
      "\n",
      "[codecarbon WARNING @ 14:38:17] We saw that you have a AMD EPYC-Milan Processor but we don't know it. Please contact us.\n",
      "[codecarbon INFO @ 14:38:17] CPU Model on constant consumption mode: AMD EPYC-Milan Processor\n",
      "[codecarbon INFO @ 14:38:17] >>> Tracker's metadata:\n",
      "[codecarbon INFO @ 14:38:17]   Platform system: Linux-6.1.118-1.el9.elrepo.x86_64-x86_64-with-glibc2.34\n",
      "[codecarbon INFO @ 14:38:17]   Python version: 3.12.7\n",
      "[codecarbon INFO @ 14:38:17]   CodeCarbon version: 2.7.4\n",
      "[codecarbon INFO @ 14:38:17]   Available RAM : 114.633 GB\n",
      "[codecarbon INFO @ 14:38:17]   CPU count: 32\n",
      "[codecarbon INFO @ 14:38:17]   CPU model: AMD EPYC-Milan Processor\n",
      "[codecarbon INFO @ 14:38:17]   GPU count: 1\n",
      "[codecarbon INFO @ 14:38:17]   GPU model: 1 x NVIDIA A100-SXM4-40GB\n",
      "[codecarbon INFO @ 14:38:20] Saving emissions data to file /home/rocky/FindMyCat/scratchCat1/emissions.csv\n"
     ]
    },
    {
     "name": "stdout",
     "output_type": "stream",
     "text": [
      "Ultralytics 8.3.34 🚀 Python-3.12.7 torch-2.5.1+cu124 CUDA:0 (NVIDIA A100-SXM4-40GB, 40444MiB)\n",
      "\u001b[34m\u001b[1mengine/trainer: \u001b[0mtask=detect, mode=train, model=yolov9m.pt, data=data.yaml, epochs=100, time=None, patience=20, batch=0.95, imgsz=640, save=True, save_period=10, cache=True, device=0, workers=8, project=None, name=train, exist_ok=False, pretrained=True, optimizer=auto, verbose=True, seed=0, deterministic=True, single_cls=True, rect=False, cos_lr=True, close_mosaic=10, resume=False, amp=True, fraction=1.0, profile=False, freeze=None, multi_scale=False, overlap_mask=True, mask_ratio=4, dropout=0.2, val=True, split=val, save_json=False, save_hybrid=False, conf=None, iou=0.7, max_det=300, half=False, dnn=False, plots=True, source=None, vid_stride=1, stream_buffer=False, visualize=False, augment=False, agnostic_nms=False, classes=None, retina_masks=False, embed=None, show=False, save_frames=False, save_txt=False, save_conf=False, save_crop=False, show_labels=True, show_conf=True, show_boxes=True, line_width=None, format=torchscript, keras=False, optimize=False, int8=False, dynamic=False, simplify=True, opset=None, workspace=4, nms=False, lr0=0.01, lrf=0.01, momentum=0.937, weight_decay=0.0005, warmup_epochs=3.0, warmup_momentum=0.8, warmup_bias_lr=0.1, box=7.5, cls=0.5, dfl=1.5, pose=12.0, kobj=1.0, label_smoothing=0.0, nbs=64, hsv_h=0.015, hsv_s=0.7, hsv_v=0.4, degrees=0.0, translate=0.1, scale=0.5, shear=0.0, perspective=0.0, flipud=0.0, fliplr=0.5, bgr=0.0, mosaic=1.0, mixup=0.0, copy_paste=0.0, copy_paste_mode=flip, auto_augment=randaugment, erasing=0.4, crop_fraction=1.0, cfg=None, tracker=botsort.yaml, save_dir=runs/detect/train\n",
      "Overriding model.yaml nc=80 with nc=1\n",
      "\n",
      "                   from  n    params  module                                       arguments                     \n",
      "  0                  -1  1       928  ultralytics.nn.modules.conv.Conv             [3, 32, 3, 2]                 \n",
      "  1                  -1  1     18560  ultralytics.nn.modules.conv.Conv             [32, 64, 3, 2]                \n",
      "  2                  -1  1    171648  ultralytics.nn.modules.block.RepNCSPELAN4    [64, 128, 128, 64, 1]         \n",
      "  3                  -1  1    276960  ultralytics.nn.modules.block.AConv           [128, 240]                    \n",
      "  4                  -1  1    629520  ultralytics.nn.modules.block.RepNCSPELAN4    [240, 240, 240, 120, 1]       \n",
      "  5                  -1  1    778320  ultralytics.nn.modules.block.AConv           [240, 360]                    \n",
      "  6                  -1  1   1414080  ultralytics.nn.modules.block.RepNCSPELAN4    [360, 360, 360, 180, 1]       \n",
      "  7                  -1  1   1556160  ultralytics.nn.modules.block.AConv           [360, 480]                    \n",
      "  8                  -1  1   2511840  ultralytics.nn.modules.block.RepNCSPELAN4    [480, 480, 480, 240, 1]       \n",
      "  9                  -1  1    577440  ultralytics.nn.modules.block.SPPELAN         [480, 480, 240]               \n",
      " 10                  -1  1         0  torch.nn.modules.upsampling.Upsample         [None, 2, 'nearest']          \n",
      " 11             [-1, 6]  1         0  ultralytics.nn.modules.conv.Concat           [1]                           \n",
      " 12                  -1  1   1586880  ultralytics.nn.modules.block.RepNCSPELAN4    [840, 360, 360, 180, 1]       \n",
      " 13                  -1  1         0  torch.nn.modules.upsampling.Upsample         [None, 2, 'nearest']          \n",
      " 14             [-1, 4]  1         0  ultralytics.nn.modules.conv.Concat           [1]                           \n",
      " 15                  -1  1    715920  ultralytics.nn.modules.block.RepNCSPELAN4    [600, 240, 240, 120, 1]       \n",
      " 16                  -1  1    397808  ultralytics.nn.modules.block.AConv           [240, 184]                    \n",
      " 17            [-1, 12]  1         0  ultralytics.nn.modules.conv.Concat           [1]                           \n",
      " 18                  -1  1   1480320  ultralytics.nn.modules.block.RepNCSPELAN4    [544, 360, 360, 180, 1]       \n",
      " 19                  -1  1    778080  ultralytics.nn.modules.block.AConv           [360, 240]                    \n",
      " 20             [-1, 9]  1         0  ultralytics.nn.modules.conv.Concat           [1]                           \n",
      " 21                  -1  1   2627040  ultralytics.nn.modules.block.RepNCSPELAN4    [720, 480, 480, 240, 1]       \n",
      " 22        [15, 18, 21]  1   4637539  ultralytics.nn.modules.head.Detect           [1, [240, 360, 480]]          \n",
      "YOLOv9m summary: 603 layers, 20,159,043 parameters, 20,159,027 gradients, 77.5 GFLOPs\n",
      "\n",
      "Transferred 901/907 items from pretrained weights\n",
      "\u001b[34m\u001b[1mTensorBoard: \u001b[0mStart with 'tensorboard --logdir runs/detect/train', view at http://localhost:6006/\n",
      "Freezing layer 'model.22.dfl.conv.weight'\n",
      "\u001b[34m\u001b[1mAMP: \u001b[0mrunning Automatic Mixed Precision (AMP) checks...\n",
      "Downloading https://github.com/ultralytics/assets/releases/download/v8.3.0/yolo11n.pt to 'yolo11n.pt'...\n"
     ]
    },
    {
     "name": "stderr",
     "output_type": "stream",
     "text": [
      "100%|██████████████████████████████████████████████████████████████████████████████████████████████████████████████████████████████| 5.35M/5.35M [00:02<00:00, 2.59MB/s]\n"
     ]
    },
    {
     "name": "stdout",
     "output_type": "stream",
     "text": [
      "\u001b[34m\u001b[1mAMP: \u001b[0mchecks passed ✅\n"
     ]
    },
    {
     "name": "stderr",
     "output_type": "stream",
     "text": [
      "\u001b[34m\u001b[1mtrain: \u001b[0mScanning /home/rocky/FindMyCat/scratchCat1/datasets/combined-dataset/train/labels... 7618 images, 431 backgrounds, 70 corrupt:  64%|██████▍   | 7618/11902 [00:06\u001b[0m[codecarbon INFO @ 14:38:35] Energy consumed for RAM : 0.000179 kWh. RAM Power : 42.987337589263916 W\n",
      "[codecarbon INFO @ 14:38:35] Energy consumed for all GPUs : 0.000227 kWh. Total GPU Power : 54.32396990876807 W\n",
      "[codecarbon INFO @ 14:38:35] Energy consumed for all CPUs : 0.000177 kWh. Total CPU Power : 42.5 W\n",
      "[codecarbon INFO @ 14:38:35] 0.000583 kWh of electricity used since the beginning.\n",
      "\u001b[34m\u001b[1mtrain: \u001b[0mScanning /home/rocky/FindMyCat/scratchCat1/datasets/combined-dataset/train/labels... 11902 images, 1672 backgrounds, 111 corrupt: 100%|██████████| 11902/11902 [0\u001b[0m"
     ]
    },
    {
     "name": "stdout",
     "output_type": "stream",
     "text": [
      "\u001b[34m\u001b[1mtrain: \u001b[0mWARNING ⚠️ /home/rocky/FindMyCat/scratchCat1/datasets/combined-dataset/train/images/066a8514-b906-49b8-995c-4c2d6d6061f9_jpg.rf.f77ed2231c7657551556cd59e24c3b17.jpg: ignoring corrupt image/label: Label class 5 exceeds dataset class count 1. Possible class labels are 0-0\n",
      "\u001b[34m\u001b[1mtrain: \u001b[0mWARNING ⚠️ /home/rocky/FindMyCat/scratchCat1/datasets/combined-dataset/train/images/073847c9-c3e0-4e68-a939-20f2d186cd82_jpg.rf.97e4aac9b537cb411a4a726bad9c3e36.jpg: ignoring corrupt image/label: Label class 6 exceeds dataset class count 1. Possible class labels are 0-0\n",
      "\u001b[34m\u001b[1mtrain: \u001b[0mWARNING ⚠️ /home/rocky/FindMyCat/scratchCat1/datasets/combined-dataset/train/images/0e559139-381c-4155-a996-fbea82a0c05d_jpg.rf.3c31371b68dae28f1c208cddce53145e.jpg: ignoring corrupt image/label: Label class 5 exceeds dataset class count 1. Possible class labels are 0-0\n",
      "\u001b[34m\u001b[1mtrain: \u001b[0mWARNING ⚠️ /home/rocky/FindMyCat/scratchCat1/datasets/combined-dataset/train/images/1174dcf4-2e6b-4d0b-b338-df639182a9d7_jpg.rf.d44c826dc120050745ea45d38469f6f9.jpg: ignoring corrupt image/label: Label class 5 exceeds dataset class count 1. Possible class labels are 0-0\n",
      "\u001b[34m\u001b[1mtrain: \u001b[0mWARNING ⚠️ /home/rocky/FindMyCat/scratchCat1/datasets/combined-dataset/train/images/16e75227-f66f-4d1a-abbf-82a5fd135763_jpg.rf.8b9eab26eed2bf82d1e2e0ae61f5246c.jpg: ignoring corrupt image/label: Label class 5 exceeds dataset class count 1. Possible class labels are 0-0\n",
      "\u001b[34m\u001b[1mtrain: \u001b[0mWARNING ⚠️ /home/rocky/FindMyCat/scratchCat1/datasets/combined-dataset/train/images/16e97112-fe0d-4f1f-b3da-9f3a80571f00_jpg.rf.000637694ff68161a2aa4951e054b379.jpg: ignoring corrupt image/label: Label class 6 exceeds dataset class count 1. Possible class labels are 0-0\n",
      "\u001b[34m\u001b[1mtrain: \u001b[0mWARNING ⚠️ /home/rocky/FindMyCat/scratchCat1/datasets/combined-dataset/train/images/18cdb22b-cd16-4ad0-970e-d761b083e88a_jpg.rf.cad0df90f3283d9242643d30e124bb62.jpg: ignoring corrupt image/label: Label class 5 exceeds dataset class count 1. Possible class labels are 0-0\n",
      "\u001b[34m\u001b[1mtrain: \u001b[0mWARNING ⚠️ /home/rocky/FindMyCat/scratchCat1/datasets/combined-dataset/train/images/192ec9c2-8bb1-4b2e-b01d-9e918a914898_jpg.rf.64e6ae59ae8c7608e02b54a80d5cae9e.jpg: ignoring corrupt image/label: Label class 5 exceeds dataset class count 1. Possible class labels are 0-0\n",
      "\u001b[34m\u001b[1mtrain: \u001b[0mWARNING ⚠️ /home/rocky/FindMyCat/scratchCat1/datasets/combined-dataset/train/images/2013010711390213112_jpg.rf.6d7b9709773087524886111f27c31a6b.jpg: ignoring corrupt image/label: Label class 3 exceeds dataset class count 1. Possible class labels are 0-0\n",
      "\u001b[34m\u001b[1mtrain: \u001b[0mWARNING ⚠️ /home/rocky/FindMyCat/scratchCat1/datasets/combined-dataset/train/images/2013010711390213118_jpg.rf.73743cfcd203a565e3da5980018537b8.jpg: ignoring corrupt image/label: Label class 5 exceeds dataset class count 1. Possible class labels are 0-0\n",
      "\u001b[34m\u001b[1mtrain: \u001b[0mWARNING ⚠️ /home/rocky/FindMyCat/scratchCat1/datasets/combined-dataset/train/images/2013010711390213119_jpg.rf.80750b9a5749922a39ac56a10ae8c3ce.jpg: ignoring corrupt image/label: Label class 5 exceeds dataset class count 1. Possible class labels are 0-0\n",
      "\u001b[34m\u001b[1mtrain: \u001b[0mWARNING ⚠️ /home/rocky/FindMyCat/scratchCat1/datasets/combined-dataset/train/images/2013010711390213120_jpg.rf.c24a92639987eef27c2b1579a97fa973.jpg: ignoring corrupt image/label: Label class 2 exceeds dataset class count 1. Possible class labels are 0-0\n",
      "\u001b[34m\u001b[1mtrain: \u001b[0mWARNING ⚠️ /home/rocky/FindMyCat/scratchCat1/datasets/combined-dataset/train/images/2013010711390213121_jpg.rf.c7ce251bee17129c8e4bb14a7ed55723.jpg: ignoring corrupt image/label: Label class 3 exceeds dataset class count 1. Possible class labels are 0-0\n",
      "\u001b[34m\u001b[1mtrain: \u001b[0mWARNING ⚠️ /home/rocky/FindMyCat/scratchCat1/datasets/combined-dataset/train/images/2040379f-dd40-4299-bca7-9cd6e5d7024f_jpg.rf.db0a197c8b9325035210e8c92caacf8b.jpg: ignoring corrupt image/label: Label class 6 exceeds dataset class count 1. Possible class labels are 0-0\n",
      "\u001b[34m\u001b[1mtrain: \u001b[0mWARNING ⚠️ /home/rocky/FindMyCat/scratchCat1/datasets/combined-dataset/train/images/2400a9be-28f0-4d20-818b-f929f36c1c0d_jpg.rf.9235f34106ba52157ccc7b9ec058c62a.jpg: ignoring corrupt image/label: Label class 5 exceeds dataset class count 1. Possible class labels are 0-0\n",
      "\u001b[34m\u001b[1mtrain: \u001b[0mWARNING ⚠️ /home/rocky/FindMyCat/scratchCat1/datasets/combined-dataset/train/images/285ad8fb-2b07-4f1e-98f6-dd6d517b0174_jpg.rf.115ed71f13abdcd0d4357b5070efaa71.jpg: ignoring corrupt image/label: Label class 5 exceeds dataset class count 1. Possible class labels are 0-0\n",
      "\u001b[34m\u001b[1mtrain: \u001b[0mWARNING ⚠️ /home/rocky/FindMyCat/scratchCat1/datasets/combined-dataset/train/images/2bd9fcd1-62c3-4eac-986e-c27b43cba0a7_jpg.rf.8aaa866788425fc9322b1516e1092517.jpg: ignoring corrupt image/label: Label class 5 exceeds dataset class count 1. Possible class labels are 0-0\n",
      "\u001b[34m\u001b[1mtrain: \u001b[0mWARNING ⚠️ /home/rocky/FindMyCat/scratchCat1/datasets/combined-dataset/train/images/320f0e25-1a5e-4bb4-96d6-1e250b02104e_jpg.rf.b8351a37ffcdce2f5e37fcca00bfdb8e.jpg: ignoring corrupt image/label: Label class 5 exceeds dataset class count 1. Possible class labels are 0-0\n",
      "\u001b[34m\u001b[1mtrain: \u001b[0mWARNING ⚠️ /home/rocky/FindMyCat/scratchCat1/datasets/combined-dataset/train/images/35607174-45b1-42e6-b64b-7cc346962e7c_jpg.rf.46100bb167aa45957ea04b5c6b15bf29.jpg: ignoring corrupt image/label: Label class 5 exceeds dataset class count 1. Possible class labels are 0-0\n",
      "\u001b[34m\u001b[1mtrain: \u001b[0mWARNING ⚠️ /home/rocky/FindMyCat/scratchCat1/datasets/combined-dataset/train/images/39255e9c-e164-42d7-b280-7366c96aa038_jpg.rf.38a72ed107c4e6d8846eda0a7cf699f2.jpg: ignoring corrupt image/label: Label class 4 exceeds dataset class count 1. Possible class labels are 0-0\n",
      "\u001b[34m\u001b[1mtrain: \u001b[0mWARNING ⚠️ /home/rocky/FindMyCat/scratchCat1/datasets/combined-dataset/train/images/396895ae-04d6-44e6-b377-c8ddc22d54af_jpg.rf.1a234c5545a674b7aef00a3a1ff8094c.jpg: ignoring corrupt image/label: Label class 6 exceeds dataset class count 1. Possible class labels are 0-0\n",
      "\u001b[34m\u001b[1mtrain: \u001b[0mWARNING ⚠️ /home/rocky/FindMyCat/scratchCat1/datasets/combined-dataset/train/images/3e5d0a6f-94bd-4887-aa82-214367dbe2ce_jpg.rf.f0705ffd9b1f2a2675a7fc779f0a3782.jpg: ignoring corrupt image/label: Label class 5 exceeds dataset class count 1. Possible class labels are 0-0\n",
      "\u001b[34m\u001b[1mtrain: \u001b[0mWARNING ⚠️ /home/rocky/FindMyCat/scratchCat1/datasets/combined-dataset/train/images/432aefeb-0827-441c-94ad-34342e04eafa_jpg.rf.e98f5b37438738ff132a06b77a6d404e.jpg: ignoring corrupt image/label: Label class 5 exceeds dataset class count 1. Possible class labels are 0-0\n",
      "\u001b[34m\u001b[1mtrain: \u001b[0mWARNING ⚠️ /home/rocky/FindMyCat/scratchCat1/datasets/combined-dataset/train/images/4643ec3c-ad6c-48f2-ab14-0841d350b2d0_jpg.rf.2fa1682a16cf1c8e92b2eaa214852614.jpg: ignoring corrupt image/label: Label class 5 exceeds dataset class count 1. Possible class labels are 0-0\n",
      "\u001b[34m\u001b[1mtrain: \u001b[0mWARNING ⚠️ /home/rocky/FindMyCat/scratchCat1/datasets/combined-dataset/train/images/48fafd44-7370-4cc7-8be2-75caaace2082_jpg.rf.4a86ded83e988f5a534882292d2c813d.jpg: ignoring corrupt image/label: Label class 5 exceeds dataset class count 1. Possible class labels are 0-0\n",
      "\u001b[34m\u001b[1mtrain: \u001b[0mWARNING ⚠️ /home/rocky/FindMyCat/scratchCat1/datasets/combined-dataset/train/images/4a64e23a-7ab0-4883-950a-b61113518460_jpg.rf.1ec8db0c4a5f786ecb41fa23f725a623.jpg: ignoring corrupt image/label: Label class 5 exceeds dataset class count 1. Possible class labels are 0-0\n",
      "\u001b[34m\u001b[1mtrain: \u001b[0mWARNING ⚠️ /home/rocky/FindMyCat/scratchCat1/datasets/combined-dataset/train/images/4adca938-3aa0-4da5-803a-99fece8d0796_jpg.rf.ac72dcf1b56f49843928ede667ba2f05.jpg: ignoring corrupt image/label: Label class 5 exceeds dataset class count 1. Possible class labels are 0-0\n",
      "\u001b[34m\u001b[1mtrain: \u001b[0mWARNING ⚠️ /home/rocky/FindMyCat/scratchCat1/datasets/combined-dataset/train/images/4c957fef-ceab-426e-808d-544e71162837_jpg.rf.2bcc27a8cbb65d21d7b4fc4acfdd05d7.jpg: ignoring corrupt image/label: Label class 5 exceeds dataset class count 1. Possible class labels are 0-0\n",
      "\u001b[34m\u001b[1mtrain: \u001b[0mWARNING ⚠️ /home/rocky/FindMyCat/scratchCat1/datasets/combined-dataset/train/images/520ca8cd-a5b8-4c97-a57a-85be6fd8b497_jpg.rf.323345adf0f7ce7159df72f3a168bca6.jpg: ignoring corrupt image/label: Label class 5 exceeds dataset class count 1. Possible class labels are 0-0\n",
      "\u001b[34m\u001b[1mtrain: \u001b[0mWARNING ⚠️ /home/rocky/FindMyCat/scratchCat1/datasets/combined-dataset/train/images/52_jpg.rf.0c3518e64a95885cede3cbd1efb9219e.jpg: ignoring corrupt image/label: Label class 2 exceeds dataset class count 1. Possible class labels are 0-0\n",
      "\u001b[34m\u001b[1mtrain: \u001b[0mWARNING ⚠️ /home/rocky/FindMyCat/scratchCat1/datasets/combined-dataset/train/images/54545_jpg.rf.d0c1dba2c9b76403833a0f1688f71370.jpg: ignoring corrupt image/label: Label class 2 exceeds dataset class count 1. Possible class labels are 0-0\n",
      "\u001b[34m\u001b[1mtrain: \u001b[0mWARNING ⚠️ /home/rocky/FindMyCat/scratchCat1/datasets/combined-dataset/train/images/56fac286-b306-42d8-92c5-5f1082e42d14_jpg.rf.e8fe62288ffab9fb01cf1be83ecec689.jpg: ignoring corrupt image/label: Label class 5 exceeds dataset class count 1. Possible class labels are 0-0\n",
      "\u001b[34m\u001b[1mtrain: \u001b[0mWARNING ⚠️ /home/rocky/FindMyCat/scratchCat1/datasets/combined-dataset/train/images/58d0fee0-b6ad-45f5-b192-0e4d65042152_jpg.rf.4b5e6c888863bfe090157db1c77f094e.jpg: ignoring corrupt image/label: Label class 5 exceeds dataset class count 1. Possible class labels are 0-0\n",
      "\u001b[34m\u001b[1mtrain: \u001b[0mWARNING ⚠️ /home/rocky/FindMyCat/scratchCat1/datasets/combined-dataset/train/images/5e44e2b8-ec1e-4f1d-b2c1-2388893b505a_jpg.rf.5ad2e3691eeaede673022f6c30bc75da.jpg: ignoring corrupt image/label: Label class 5 exceeds dataset class count 1. Possible class labels are 0-0\n",
      "\u001b[34m\u001b[1mtrain: \u001b[0mWARNING ⚠️ /home/rocky/FindMyCat/scratchCat1/datasets/combined-dataset/train/images/6360ae2d-9d6d-4ee0-a945-e1d4f57a79be_jpg.rf.bf314b45cb528578103e9ab12e587d1e.jpg: ignoring corrupt image/label: Label class 5 exceeds dataset class count 1. Possible class labels are 0-0\n",
      "\u001b[34m\u001b[1mtrain: \u001b[0mWARNING ⚠️ /home/rocky/FindMyCat/scratchCat1/datasets/combined-dataset/train/images/66_jpg.rf.6a278f8ee0229e6cf467b9af3b090396.jpg: ignoring corrupt image/label: Label class 2 exceeds dataset class count 1. Possible class labels are 0-0\n",
      "\u001b[34m\u001b[1mtrain: \u001b[0mWARNING ⚠️ /home/rocky/FindMyCat/scratchCat1/datasets/combined-dataset/train/images/683347f9-42f3-4eb2-98dc-9b564fff7fe5_jpg.rf.6f933069c50c3066f63e70f9a760b73b.jpg: ignoring corrupt image/label: Label class 6 exceeds dataset class count 1. Possible class labels are 0-0\n",
      "\u001b[34m\u001b[1mtrain: \u001b[0mWARNING ⚠️ /home/rocky/FindMyCat/scratchCat1/datasets/combined-dataset/train/images/6c15ed44-b992-4d3f-8edc-1e554f8eb6bf_jpg.rf.243674d20b8b6e87f5436ba8fb1ab0c6.jpg: ignoring corrupt image/label: Label class 2 exceeds dataset class count 1. Possible class labels are 0-0\n",
      "\u001b[34m\u001b[1mtrain: \u001b[0mWARNING ⚠️ /home/rocky/FindMyCat/scratchCat1/datasets/combined-dataset/train/images/6dbb9ab1-9120-4fa8-aa54-8c9b810a7f28_jpg.rf.ab6de8cedded022e93fbe1625f4e59be.jpg: ignoring corrupt image/label: Label class 5 exceeds dataset class count 1. Possible class labels are 0-0\n",
      "\u001b[34m\u001b[1mtrain: \u001b[0mWARNING ⚠️ /home/rocky/FindMyCat/scratchCat1/datasets/combined-dataset/train/images/7ae1a54a-674a-463f-a04f-353e9a088f57_jpg.rf.276cc2efa434f681e0b7b4a15cab31b6.jpg: ignoring corrupt image/label: Label class 5 exceeds dataset class count 1. Possible class labels are 0-0\n",
      "\u001b[34m\u001b[1mtrain: \u001b[0mWARNING ⚠️ /home/rocky/FindMyCat/scratchCat1/datasets/combined-dataset/train/images/7d05b53f-9854-490e-8d29-0ec10e149deb_jpg.rf.b7bcf1f39972922428079d33d377b0d4.jpg: ignoring corrupt image/label: Label class 5 exceeds dataset class count 1. Possible class labels are 0-0\n",
      "\u001b[34m\u001b[1mtrain: \u001b[0mWARNING ⚠️ /home/rocky/FindMyCat/scratchCat1/datasets/combined-dataset/train/images/82f5ff2d-ff07-4197-9c55-909204ab22f8_jpg.rf.073e73131aaedf1c56481006758d3268.jpg: ignoring corrupt image/label: Label class 5 exceeds dataset class count 1. Possible class labels are 0-0\n",
      "\u001b[34m\u001b[1mtrain: \u001b[0mWARNING ⚠️ /home/rocky/FindMyCat/scratchCat1/datasets/combined-dataset/train/images/83adf935-2f05-477c-8c7b-48b9af0e8b08_jpg.rf.60f1ce56fc116b6658f70f7cb053ede8.jpg: ignoring corrupt image/label: Label class 5 exceeds dataset class count 1. Possible class labels are 0-0\n",
      "\u001b[34m\u001b[1mtrain: \u001b[0mWARNING ⚠️ /home/rocky/FindMyCat/scratchCat1/datasets/combined-dataset/train/images/853dc8b1-96eb-40a4-8516-a5d949421b79_jpg.rf.140be4fb718f97eae064e990e01e2601.jpg: ignoring corrupt image/label: Label class 5 exceeds dataset class count 1. Possible class labels are 0-0\n",
      "\u001b[34m\u001b[1mtrain: \u001b[0mWARNING ⚠️ /home/rocky/FindMyCat/scratchCat1/datasets/combined-dataset/train/images/8770e061-e97f-4699-b2ca-9483cb181174_jpg.rf.e73af4d1e5eb1b6dc213a1283c979b50.jpg: ignoring corrupt image/label: Label class 5 exceeds dataset class count 1. Possible class labels are 0-0\n",
      "\u001b[34m\u001b[1mtrain: \u001b[0mWARNING ⚠️ /home/rocky/FindMyCat/scratchCat1/datasets/combined-dataset/train/images/8d7d0cac-ee99-43df-a002-231165138c69_jpg.rf.347427888e4c484246e5ecbd0bccb99a.jpg: ignoring corrupt image/label: Label class 5 exceeds dataset class count 1. Possible class labels are 0-0\n",
      "\u001b[34m\u001b[1mtrain: \u001b[0mWARNING ⚠️ /home/rocky/FindMyCat/scratchCat1/datasets/combined-dataset/train/images/9dfe9f08-0c72-46c3-b4cd-1781f258a3d8_jpg.rf.9e43b6ffd19b135450a276ca33a48ba6.jpg: ignoring corrupt image/label: Label class 5 exceeds dataset class count 1. Possible class labels are 0-0\n",
      "\u001b[34m\u001b[1mtrain: \u001b[0mWARNING ⚠️ /home/rocky/FindMyCat/scratchCat1/datasets/combined-dataset/train/images/a21f1edb-fccd-4a06-85e6-839b0e81b04f_jpg.rf.334dd17f1051a7c542d67b83022349f3.jpg: ignoring corrupt image/label: Label class 6 exceeds dataset class count 1. Possible class labels are 0-0\n",
      "\u001b[34m\u001b[1mtrain: \u001b[0mWARNING ⚠️ /home/rocky/FindMyCat/scratchCat1/datasets/combined-dataset/train/images/a2e6a203-c292-40af-bb9d-c26c9e720ca7_jpg.rf.ea4a2a5485b2915704fe5f27969cedd3.jpg: ignoring corrupt image/label: Label class 5 exceeds dataset class count 1. Possible class labels are 0-0\n",
      "\u001b[34m\u001b[1mtrain: \u001b[0mWARNING ⚠️ /home/rocky/FindMyCat/scratchCat1/datasets/combined-dataset/train/images/a42eb41e-7fc0-4692-9271-52ddc70720c7_jpg.rf.9e25da36944943b6f3cb722b7cb9928f.jpg: ignoring corrupt image/label: Label class 5 exceeds dataset class count 1. Possible class labels are 0-0\n",
      "\u001b[34m\u001b[1mtrain: \u001b[0mWARNING ⚠️ /home/rocky/FindMyCat/scratchCat1/datasets/combined-dataset/train/images/a4849f01-c5dc-4133-816e-e8120865b79d_jpg.rf.f4a56ca7b60b4141efc42dfea11a2d16.jpg: ignoring corrupt image/label: Label class 6 exceeds dataset class count 1. Possible class labels are 0-0\n",
      "\u001b[34m\u001b[1mtrain: \u001b[0mWARNING ⚠️ /home/rocky/FindMyCat/scratchCat1/datasets/combined-dataset/train/images/a4b4661e-bcb1-4f5d-88bd-bfe9424c6210_jpg.rf.4213a4cca2ce3bd5e61394eccf60c8d3.jpg: ignoring corrupt image/label: Label class 3 exceeds dataset class count 1. Possible class labels are 0-0\n",
      "\u001b[34m\u001b[1mtrain: \u001b[0mWARNING ⚠️ /home/rocky/FindMyCat/scratchCat1/datasets/combined-dataset/train/images/ac9079a6-5e0c-4395-bc0f-8332b9194ec8_jpg.rf.516a1b79906de8e06f4557caeb2f3f63.jpg: ignoring corrupt image/label: Label class 6 exceeds dataset class count 1. Possible class labels are 0-0\n",
      "\u001b[34m\u001b[1mtrain: \u001b[0mWARNING ⚠️ /home/rocky/FindMyCat/scratchCat1/datasets/combined-dataset/train/images/ad82088d-747e-479b-b09e-2bb0ed281ac2_jpg.rf.a01ff58bf1f848460123ff7a4ce9f092.jpg: ignoring corrupt image/label: Label class 5 exceeds dataset class count 1. Possible class labels are 0-0\n",
      "\u001b[34m\u001b[1mtrain: \u001b[0mWARNING ⚠️ /home/rocky/FindMyCat/scratchCat1/datasets/combined-dataset/train/images/ae949b04-5f1c-420b-ac31-c5ed86926b89_jpg.rf.a27b84f4c1f2d3be328a0dd19ecd2131.jpg: ignoring corrupt image/label: Label class 6 exceeds dataset class count 1. Possible class labels are 0-0\n",
      "\u001b[34m\u001b[1mtrain: \u001b[0mWARNING ⚠️ /home/rocky/FindMyCat/scratchCat1/datasets/combined-dataset/train/images/af93290c-2b40-40c8-9d74-0eb950d1e550_jpg.rf.d60623f85d43a6d76310ac1dde6ccb02.jpg: ignoring corrupt image/label: Label class 5 exceeds dataset class count 1. Possible class labels are 0-0\n",
      "\u001b[34m\u001b[1mtrain: \u001b[0mWARNING ⚠️ /home/rocky/FindMyCat/scratchCat1/datasets/combined-dataset/train/images/b0db1ed0-e237-4e28-b5e8-71e929b49899_jpg.rf.120ab992cb414daca54479f3b4d9a1fe.jpg: ignoring corrupt image/label: Label class 6 exceeds dataset class count 1. Possible class labels are 0-0\n",
      "\u001b[34m\u001b[1mtrain: \u001b[0mWARNING ⚠️ /home/rocky/FindMyCat/scratchCat1/datasets/combined-dataset/train/images/c3ecdd7f-fe45-4d60-bebf-ad248e31213e_jpg.rf.4b95b1da924cb6a175aabbd47852aff0.jpg: ignoring corrupt image/label: Label class 5 exceeds dataset class count 1. Possible class labels are 0-0\n",
      "\u001b[34m\u001b[1mtrain: \u001b[0mWARNING ⚠️ /home/rocky/FindMyCat/scratchCat1/datasets/combined-dataset/train/images/c4fec89f-15d0-4714-b7a4-0ba1245e14d7_jpg.rf.34316d5a78063d4be02778fe30194ea4.jpg: ignoring corrupt image/label: Label class 5 exceeds dataset class count 1. Possible class labels are 0-0\n",
      "\u001b[34m\u001b[1mtrain: \u001b[0mWARNING ⚠️ /home/rocky/FindMyCat/scratchCat1/datasets/combined-dataset/train/images/cb29c0f6-4b1f-419a-839c-e92d811df531_jpg.rf.267d1c618fa0aa4070235a7b42ec78eb.jpg: ignoring corrupt image/label: Label class 5 exceeds dataset class count 1. Possible class labels are 0-0\n",
      "\u001b[34m\u001b[1mtrain: \u001b[0mWARNING ⚠️ /home/rocky/FindMyCat/scratchCat1/datasets/combined-dataset/train/images/cd577ef3-d288-4d32-88af-b8592adfc632_jpg.rf.110f7910f8d3e2beba4705ab5b623c34.jpg: ignoring corrupt image/label: Label class 6 exceeds dataset class count 1. Possible class labels are 0-0\n",
      "\u001b[34m\u001b[1mtrain: \u001b[0mWARNING ⚠️ /home/rocky/FindMyCat/scratchCat1/datasets/combined-dataset/train/images/ce41d53e-9ef6-4e09-8fb0-5e5d6123b51c_jpg.rf.e3562e1679d2d28081d96cf3215dcb7b.jpg: ignoring corrupt image/label: Label class 5 exceeds dataset class count 1. Possible class labels are 0-0\n",
      "\u001b[34m\u001b[1mtrain: \u001b[0mWARNING ⚠️ /home/rocky/FindMyCat/scratchCat1/datasets/combined-dataset/train/images/d24dedc8-1376-4773-bccd-40d40fea05cb_jpg.rf.7e7266f53e7d04a1d69e670c0a723a0c.jpg: ignoring corrupt image/label: Label class 5 exceeds dataset class count 1. Possible class labels are 0-0\n",
      "\u001b[34m\u001b[1mtrain: \u001b[0mWARNING ⚠️ /home/rocky/FindMyCat/scratchCat1/datasets/combined-dataset/train/images/d368e30d-31ce-414c-91be-36db0301b8f6_jpg.rf.39dd86301a5e20b6d59526828c176974.jpg: ignoring corrupt image/label: Label class 5 exceeds dataset class count 1. Possible class labels are 0-0\n",
      "\u001b[34m\u001b[1mtrain: \u001b[0mWARNING ⚠️ /home/rocky/FindMyCat/scratchCat1/datasets/combined-dataset/train/images/dc7a97b0-dcc9-4994-b628-cffd1e9634ca_jpg.rf.ba8811671ddfdc047efa4da7423df3b7.jpg: ignoring corrupt image/label: Label class 5 exceeds dataset class count 1. Possible class labels are 0-0\n",
      "\u001b[34m\u001b[1mtrain: \u001b[0mWARNING ⚠️ /home/rocky/FindMyCat/scratchCat1/datasets/combined-dataset/train/images/ddcaf14b-7c9e-4c11-b831-5ad217be3bfa_jpg.rf.030a206581c935efc7532c33ff1a1e79.jpg: ignoring corrupt image/label: Label class 5 exceeds dataset class count 1. Possible class labels are 0-0\n",
      "\u001b[34m\u001b[1mtrain: \u001b[0mWARNING ⚠️ /home/rocky/FindMyCat/scratchCat1/datasets/combined-dataset/train/images/de2aff66-0d9d-4e52-9e03-77f4596f8896_jpg.rf.7fa8d5ce5b3c0b8885801e039961fa68.jpg: ignoring corrupt image/label: Label class 4 exceeds dataset class count 1. Possible class labels are 0-0\n",
      "\u001b[34m\u001b[1mtrain: \u001b[0mWARNING ⚠️ /home/rocky/FindMyCat/scratchCat1/datasets/combined-dataset/train/images/e46a2c36-4bab-468a-a42e-ff982fa2c69a_jpg.rf.765016753ebf74ae5a009773caf891be.jpg: ignoring corrupt image/label: Label class 5 exceeds dataset class count 1. Possible class labels are 0-0\n",
      "\u001b[34m\u001b[1mtrain: \u001b[0mWARNING ⚠️ /home/rocky/FindMyCat/scratchCat1/datasets/combined-dataset/train/images/e4ea66f7-78dc-4264-b64b-d0a0013ccf52_jpg.rf.c4cb6f4939b1bed8b2e07ad2d14fa0fd.jpg: ignoring corrupt image/label: Label class 5 exceeds dataset class count 1. Possible class labels are 0-0\n",
      "\u001b[34m\u001b[1mtrain: \u001b[0mWARNING ⚠️ /home/rocky/FindMyCat/scratchCat1/datasets/combined-dataset/train/images/ea448547-183a-43a8-8ef4-8066aaf3a0bd_jpg.rf.19405255a16944999730228b8563fe5f.jpg: ignoring corrupt image/label: Label class 6 exceeds dataset class count 1. Possible class labels are 0-0\n",
      "\u001b[34m\u001b[1mtrain: \u001b[0mWARNING ⚠️ /home/rocky/FindMyCat/scratchCat1/datasets/combined-dataset/train/images/ivqxasceu3aemg6wgybx16u4nyvmo8pa_jpg.rf.9afd41c849d6adf0bca313f174e85747.jpg: ignoring corrupt image/label: Label class 6 exceeds dataset class count 1. Possible class labels are 0-0\n",
      "\u001b[34m\u001b[1mtrain: \u001b[0mWARNING ⚠️ /home/rocky/FindMyCat/scratchCat1/datasets/combined-dataset/train/images/scale_2400_jpg.rf.b597a87670629181eab6d4d4d46706e1.jpg: ignoring corrupt image/label: Label class 3 exceeds dataset class count 1. Possible class labels are 0-0\n",
      "\u001b[34m\u001b[1mtrain: \u001b[0mWARNING ⚠️ /home/rocky/FindMyCat/scratchCat1/datasets/combined-dataset/train/images/yt-UR66VgcaFUk-0002_jpg.rf.df72d44d0ae7aeb82f49a885dd26367d.jpg: ignoring corrupt image/label: Label class 5 exceeds dataset class count 1. Possible class labels are 0-0\n",
      "\u001b[34m\u001b[1mtrain: \u001b[0mWARNING ⚠️ /home/rocky/FindMyCat/scratchCat1/datasets/combined-dataset/train/images/yt-UR66VgcaFUk-0003_jpg.rf.aad3c521f74866c469424907a637761c.jpg: ignoring corrupt image/label: Label class 2 exceeds dataset class count 1. Possible class labels are 0-0\n",
      "\u001b[34m\u001b[1mtrain: \u001b[0mWARNING ⚠️ /home/rocky/FindMyCat/scratchCat1/datasets/combined-dataset/train/images/yt-UR66VgcaFUk-0004_jpg.rf.cd65b3c59a1ba3f01ae1a45fbb2b4022.jpg: ignoring corrupt image/label: Label class 2 exceeds dataset class count 1. Possible class labels are 0-0\n",
      "\u001b[34m\u001b[1mtrain: \u001b[0mWARNING ⚠️ /home/rocky/FindMyCat/scratchCat1/datasets/combined-dataset/train/images/yt-UR66VgcaFUk-0008_jpg.rf.acb7ce2ec679c4cd96302c2ec8b609c8.jpg: ignoring corrupt image/label: Label class 5 exceeds dataset class count 1. Possible class labels are 0-0\n",
      "\u001b[34m\u001b[1mtrain: \u001b[0mWARNING ⚠️ /home/rocky/FindMyCat/scratchCat1/datasets/combined-dataset/train/images/yt-UR66VgcaFUk-0010_jpg.rf.9d02dd359adc78dfcfc51a3d8af52bb7.jpg: ignoring corrupt image/label: Label class 5 exceeds dataset class count 1. Possible class labels are 0-0\n",
      "\u001b[34m\u001b[1mtrain: \u001b[0mWARNING ⚠️ /home/rocky/FindMyCat/scratchCat1/datasets/combined-dataset/train/images/yt-UR66VgcaFUk-0011_jpg.rf.17136aaffc79202edc62c7f98664ebec.jpg: ignoring corrupt image/label: Label class 5 exceeds dataset class count 1. Possible class labels are 0-0\n",
      "\u001b[34m\u001b[1mtrain: \u001b[0mWARNING ⚠️ /home/rocky/FindMyCat/scratchCat1/datasets/combined-dataset/train/images/yt-UR66VgcaFUk-0012_jpg.rf.70eb8ce5e2e3f811bc04e34e5db02bc6.jpg: ignoring corrupt image/label: Label class 2 exceeds dataset class count 1. Possible class labels are 0-0\n",
      "\u001b[34m\u001b[1mtrain: \u001b[0mWARNING ⚠️ /home/rocky/FindMyCat/scratchCat1/datasets/combined-dataset/train/images/yt-UR66VgcaFUk-0014_jpg.rf.19b71e539cb3d9dd8b5610b51f8e0775.jpg: ignoring corrupt image/label: Label class 5 exceeds dataset class count 1. Possible class labels are 0-0\n",
      "\u001b[34m\u001b[1mtrain: \u001b[0mWARNING ⚠️ /home/rocky/FindMyCat/scratchCat1/datasets/combined-dataset/train/images/yt-UR66VgcaFUk-0015_jpg.rf.ebbfd536385d0b0cd922e16f4f9a2fc0.jpg: ignoring corrupt image/label: Label class 5 exceeds dataset class count 1. Possible class labels are 0-0\n",
      "\u001b[34m\u001b[1mtrain: \u001b[0mWARNING ⚠️ /home/rocky/FindMyCat/scratchCat1/datasets/combined-dataset/train/images/yt-UR66VgcaFUk-0017_jpg.rf.aacb56ef2596e469bdec2e39326efd1d.jpg: ignoring corrupt image/label: Label class 2 exceeds dataset class count 1. Possible class labels are 0-0\n",
      "\u001b[34m\u001b[1mtrain: \u001b[0mWARNING ⚠️ /home/rocky/FindMyCat/scratchCat1/datasets/combined-dataset/train/images/yt-UR66VgcaFUk-0021_jpg.rf.8a75c8baf826982b706cb1835251e2be.jpg: ignoring corrupt image/label: Label class 2 exceeds dataset class count 1. Possible class labels are 0-0\n",
      "\u001b[34m\u001b[1mtrain: \u001b[0mWARNING ⚠️ /home/rocky/FindMyCat/scratchCat1/datasets/combined-dataset/train/images/yt-UR66VgcaFUk-0022_jpg.rf.d82bdffa27753e20595756a41df48fdc.jpg: ignoring corrupt image/label: Label class 2 exceeds dataset class count 1. Possible class labels are 0-0\n",
      "\u001b[34m\u001b[1mtrain: \u001b[0mWARNING ⚠️ /home/rocky/FindMyCat/scratchCat1/datasets/combined-dataset/train/images/yt-UR66VgcaFUk-0024_jpg.rf.049471deaf49d70c4958789453c3b232.jpg: ignoring corrupt image/label: Label class 5 exceeds dataset class count 1. Possible class labels are 0-0\n",
      "\u001b[34m\u001b[1mtrain: \u001b[0mWARNING ⚠️ /home/rocky/FindMyCat/scratchCat1/datasets/combined-dataset/train/images/yt-UR66VgcaFUk-0025_jpg.rf.8c5ca3013e2444fe921c7932d1661ef3.jpg: ignoring corrupt image/label: Label class 5 exceeds dataset class count 1. Possible class labels are 0-0\n",
      "\u001b[34m\u001b[1mtrain: \u001b[0mWARNING ⚠️ /home/rocky/FindMyCat/scratchCat1/datasets/combined-dataset/train/images/yt-UR66VgcaFUk-0027_jpg.rf.588a9133c8bea4170132740122f6ac22.jpg: ignoring corrupt image/label: Label class 2 exceeds dataset class count 1. Possible class labels are 0-0\n",
      "\u001b[34m\u001b[1mtrain: \u001b[0mWARNING ⚠️ /home/rocky/FindMyCat/scratchCat1/datasets/combined-dataset/train/images/yt-UR66VgcaFUk-0028_jpg.rf.b0133fded934531d284149a9e14b418d.jpg: ignoring corrupt image/label: Label class 2 exceeds dataset class count 1. Possible class labels are 0-0\n",
      "\u001b[34m\u001b[1mtrain: \u001b[0mWARNING ⚠️ /home/rocky/FindMyCat/scratchCat1/datasets/combined-dataset/train/images/yt-UR66VgcaFUk-0030_jpg.rf.6aea805d8ebd1c2c20dd5c6a0da0b51a.jpg: ignoring corrupt image/label: Label class 6 exceeds dataset class count 1. Possible class labels are 0-0\n",
      "\u001b[34m\u001b[1mtrain: \u001b[0mWARNING ⚠️ /home/rocky/FindMyCat/scratchCat1/datasets/combined-dataset/train/images/yt-UR66VgcaFUk-0031_jpg.rf.a5af2f8e1c94ef8ff9ec87cad94e5027.jpg: ignoring corrupt image/label: Label class 5 exceeds dataset class count 1. Possible class labels are 0-0\n",
      "\u001b[34m\u001b[1mtrain: \u001b[0mWARNING ⚠️ /home/rocky/FindMyCat/scratchCat1/datasets/combined-dataset/train/images/yt-UR66VgcaFUk-0032_jpg.rf.ce9791aa7a33374fed015f5fb66e931c.jpg: ignoring corrupt image/label: Label class 5 exceeds dataset class count 1. Possible class labels are 0-0\n",
      "\u001b[34m\u001b[1mtrain: \u001b[0mWARNING ⚠️ /home/rocky/FindMyCat/scratchCat1/datasets/combined-dataset/train/images/yt-UR66VgcaFUk-0035_jpg.rf.8f22236cdcf77315cbc11d8099f8be0c.jpg: ignoring corrupt image/label: Label class 2 exceeds dataset class count 1. Possible class labels are 0-0\n",
      "\u001b[34m\u001b[1mtrain: \u001b[0mWARNING ⚠️ /home/rocky/FindMyCat/scratchCat1/datasets/combined-dataset/train/images/yt-UR66VgcaFUk-0037_jpg.rf.ba516fcbcb86cfb1b936887a8b0cb368.jpg: ignoring corrupt image/label: Label class 5 exceeds dataset class count 1. Possible class labels are 0-0\n",
      "\u001b[34m\u001b[1mtrain: \u001b[0mWARNING ⚠️ /home/rocky/FindMyCat/scratchCat1/datasets/combined-dataset/train/images/yt-UR66VgcaFUk-0038_jpg.rf.5957acfbed2e49869ccb57fcf6306858.jpg: ignoring corrupt image/label: Label class 3 exceeds dataset class count 1. Possible class labels are 0-0\n",
      "\u001b[34m\u001b[1mtrain: \u001b[0mWARNING ⚠️ /home/rocky/FindMyCat/scratchCat1/datasets/combined-dataset/train/images/yt-UR66VgcaFUk-0040_jpg.rf.2ec1a40b842a542737cf5b59640d7f4c.jpg: ignoring corrupt image/label: Label class 5 exceeds dataset class count 1. Possible class labels are 0-0\n",
      "\u001b[34m\u001b[1mtrain: \u001b[0mWARNING ⚠️ /home/rocky/FindMyCat/scratchCat1/datasets/combined-dataset/train/images/yt-UR66VgcaFUk-0041_jpg.rf.0ba3e4eb0caf8d0810f74aa3a4ae4072.jpg: ignoring corrupt image/label: Label class 5 exceeds dataset class count 1. Possible class labels are 0-0\n",
      "\u001b[34m\u001b[1mtrain: \u001b[0mWARNING ⚠️ /home/rocky/FindMyCat/scratchCat1/datasets/combined-dataset/train/images/yt-UR66VgcaFUk-0044_jpg.rf.217ecab0af0113b7682ac7ed3fef1494.jpg: ignoring corrupt image/label: Label class 5 exceeds dataset class count 1. Possible class labels are 0-0\n",
      "\u001b[34m\u001b[1mtrain: \u001b[0mWARNING ⚠️ /home/rocky/FindMyCat/scratchCat1/datasets/combined-dataset/train/images/yt-UR66VgcaFUk-0045_jpg.rf.5fd012f74082477f182e1325c0232713.jpg: ignoring corrupt image/label: Label class 5 exceeds dataset class count 1. Possible class labels are 0-0\n",
      "\u001b[34m\u001b[1mtrain: \u001b[0mWARNING ⚠️ /home/rocky/FindMyCat/scratchCat1/datasets/combined-dataset/train/images/yt-UR66VgcaFUk-0047_jpg.rf.4c88186310eeaf273311ba77b5d047fc.jpg: ignoring corrupt image/label: Label class 5 exceeds dataset class count 1. Possible class labels are 0-0\n",
      "\u001b[34m\u001b[1mtrain: \u001b[0mWARNING ⚠️ /home/rocky/FindMyCat/scratchCat1/datasets/combined-dataset/train/images/yt-UR66VgcaFUk-0051_jpg.rf.c338fb6cedec1607a8176e554b13b059.jpg: ignoring corrupt image/label: Label class 6 exceeds dataset class count 1. Possible class labels are 0-0\n",
      "\u001b[34m\u001b[1mtrain: \u001b[0mWARNING ⚠️ /home/rocky/FindMyCat/scratchCat1/datasets/combined-dataset/train/images/yt-UR66VgcaFUk-0052_jpg.rf.a57786db320b7d286c7df8652069e42c.jpg: ignoring corrupt image/label: Label class 5 exceeds dataset class count 1. Possible class labels are 0-0\n",
      "\u001b[34m\u001b[1mtrain: \u001b[0mWARNING ⚠️ /home/rocky/FindMyCat/scratchCat1/datasets/combined-dataset/train/images/yt-gY0YK6xEeGY-0000_jpg.rf.e0a189f2fed873d1b47d95aa39319e54.jpg: ignoring corrupt image/label: Label class 2 exceeds dataset class count 1. Possible class labels are 0-0\n",
      "\u001b[34m\u001b[1mtrain: \u001b[0mWARNING ⚠️ /home/rocky/FindMyCat/scratchCat1/datasets/combined-dataset/train/images/yt-gY0YK6xEeGY-0002_jpg.rf.4030e0a200eec6b06417b09ba35784d4.jpg: ignoring corrupt image/label: Label class 2 exceeds dataset class count 1. Possible class labels are 0-0\n",
      "\u001b[34m\u001b[1mtrain: \u001b[0mWARNING ⚠️ /home/rocky/FindMyCat/scratchCat1/datasets/combined-dataset/train/images/yt-gY0YK6xEeGY-0003_jpg.rf.be67abd82723538794fbeec1d877d85c.jpg: ignoring corrupt image/label: Label class 2 exceeds dataset class count 1. Possible class labels are 0-0\n",
      "\u001b[34m\u001b[1mtrain: \u001b[0mWARNING ⚠️ /home/rocky/FindMyCat/scratchCat1/datasets/combined-dataset/train/images/yt-gY0YK6xEeGY-0004_jpg.rf.6494e2879ad2dfcce7082f62e64886ed.jpg: ignoring corrupt image/label: Label class 2 exceeds dataset class count 1. Possible class labels are 0-0\n",
      "\u001b[34m\u001b[1mtrain: \u001b[0mWARNING ⚠️ /home/rocky/FindMyCat/scratchCat1/datasets/combined-dataset/train/images/yt-gY0YK6xEeGY-0005_jpg.rf.65c16147e39679a5c755d622c196a5a6.jpg: ignoring corrupt image/label: Label class 2 exceeds dataset class count 1. Possible class labels are 0-0\n",
      "\u001b[34m\u001b[1mtrain: \u001b[0mWARNING ⚠️ /home/rocky/FindMyCat/scratchCat1/datasets/combined-dataset/train/images/yt-gY0YK6xEeGY-0006_jpg.rf.e507bc4b8eb6dbb199efd00ce6b27fa1.jpg: ignoring corrupt image/label: Label class 2 exceeds dataset class count 1. Possible class labels are 0-0\n",
      "\u001b[34m\u001b[1mtrain: \u001b[0mWARNING ⚠️ /home/rocky/FindMyCat/scratchCat1/datasets/combined-dataset/train/images/yt-gY0YK6xEeGY-0007_jpg.rf.d4fded5e2457c8768c8470a0ebbbfa90.jpg: ignoring corrupt image/label: Label class 2 exceeds dataset class count 1. Possible class labels are 0-0\n",
      "\u001b[34m\u001b[1mtrain: \u001b[0mWARNING ⚠️ /home/rocky/FindMyCat/scratchCat1/datasets/combined-dataset/train/images/yt-gY0YK6xEeGY-0008_jpg.rf.8be9fcd243149a3b30f6499fcf6aa40b.jpg: ignoring corrupt image/label: Label class 2 exceeds dataset class count 1. Possible class labels are 0-0\n",
      "\u001b[34m\u001b[1mtrain: \u001b[0mWARNING ⚠️ /home/rocky/FindMyCat/scratchCat1/datasets/combined-dataset/train/images/yt-gY0YK6xEeGY-0010_jpg.rf.7dcd6b06c99c3d95833d97e19007095b.jpg: ignoring corrupt image/label: Label class 2 exceeds dataset class count 1. Possible class labels are 0-0\n",
      "\u001b[34m\u001b[1mtrain: \u001b[0mWARNING ⚠️ /home/rocky/FindMyCat/scratchCat1/datasets/combined-dataset/train/images/yt-gY0YK6xEeGY-0012_jpg.rf.3cd54eeb5c07c75b692084f21ef1485c.jpg: ignoring corrupt image/label: Label class 2 exceeds dataset class count 1. Possible class labels are 0-0\n"
     ]
    },
    {
     "name": "stderr",
     "output_type": "stream",
     "text": [
      "\n"
     ]
    },
    {
     "name": "stdout",
     "output_type": "stream",
     "text": [
      "\u001b[34m\u001b[1mtrain: \u001b[0mNew cache created: /home/rocky/FindMyCat/scratchCat1/datasets/combined-dataset/train/labels.cache\n",
      "WARNING ⚠️ Box and segment counts should be equal, but got len(segments) = 4, len(boxes) = 13172. To resolve this only boxes will be used and all segments will be removed. To avoid this please supply either a detect or segment dataset, not a detect-segment mixed dataset.\n",
      "WARNING ⚠️ cache='ram' may produce non-deterministic training results. Consider cache='disk' as a deterministic alternative if your disk space allows.\n"
     ]
    },
    {
     "name": "stderr",
     "output_type": "stream",
     "text": [
      "\u001b[34m\u001b[1mtrain: \u001b[0mCaching images (13.5GB RAM): 100%|██████████| 11791/11791 [00:04<00:00, 2941.40it/s]\u001b[0m\n"
     ]
    },
    {
     "name": "stdout",
     "output_type": "stream",
     "text": [
      "\u001b[34m\u001b[1malbumentations: \u001b[0mBlur(p=0.01, blur_limit=(3, 7)), MedianBlur(p=0.01, blur_limit=(3, 7)), ToGray(p=0.01, num_output_channels=3, method='weighted_average'), CLAHE(p=0.01, clip_limit=(1.0, 4.0), tile_grid_size=(8, 8))\n",
      "\u001b[34m\u001b[1mAutoBatch: \u001b[0mComputing optimal batch size for imgsz=640 at 95.0% CUDA memory utilization.\n",
      "\u001b[34m\u001b[1mAutoBatch: \u001b[0mCUDA:0 (NVIDIA A100-SXM4-40GB) 39.50G total, 0.21G reserved, 0.19G allocated, 39.10G free\n",
      "      Params      GFLOPs  GPU_mem (GB)  forward (ms) backward (ms)                   input                  output\n",
      "    20159043       77.55         0.740         78.03         267.4        (1, 3, 640, 640)                    list\n",
      "    20159043       155.1         1.204            43            75        (2, 3, 640, 640)                    list\n",
      "    20159043       310.2         2.233         46.22         66.92        (4, 3, 640, 640)                    list\n",
      "    20159043       620.4         4.152         51.39          72.2        (8, 3, 640, 640)                    list\n",
      "    20159043        1241         8.080         55.72         86.57       (16, 3, 640, 640)                    list\n",
      "    20159043        2482        15.758          98.8         141.8       (32, 3, 640, 640)                    list\n",
      "    20159043        4963        31.101         196.2         244.4       (64, 3, 640, 640)                    list\n",
      "\u001b[34m\u001b[1mAutoBatch: \u001b[0mUsing batch-size 76 for CUDA:0 37.32G/39.50G (94%) ✅\n"
     ]
    },
    {
     "name": "stderr",
     "output_type": "stream",
     "text": [
      "\u001b[34m\u001b[1mtrain: \u001b[0mScanning /home/rocky/FindMyCat/scratchCat1/datasets/combined-dataset/train/labels.cache... 11902 images, 1672 backgrounds, 111 corrupt: 100%|██████████| 11902/11\u001b[0m"
     ]
    },
    {
     "name": "stdout",
     "output_type": "stream",
     "text": [
      "\u001b[34m\u001b[1mtrain: \u001b[0mWARNING ⚠️ /home/rocky/FindMyCat/scratchCat1/datasets/combined-dataset/train/images/066a8514-b906-49b8-995c-4c2d6d6061f9_jpg.rf.f77ed2231c7657551556cd59e24c3b17.jpg: ignoring corrupt image/label: Label class 5 exceeds dataset class count 1. Possible class labels are 0-0\n",
      "\u001b[34m\u001b[1mtrain: \u001b[0mWARNING ⚠️ /home/rocky/FindMyCat/scratchCat1/datasets/combined-dataset/train/images/073847c9-c3e0-4e68-a939-20f2d186cd82_jpg.rf.97e4aac9b537cb411a4a726bad9c3e36.jpg: ignoring corrupt image/label: Label class 6 exceeds dataset class count 1. Possible class labels are 0-0\n",
      "\u001b[34m\u001b[1mtrain: \u001b[0mWARNING ⚠️ /home/rocky/FindMyCat/scratchCat1/datasets/combined-dataset/train/images/0e559139-381c-4155-a996-fbea82a0c05d_jpg.rf.3c31371b68dae28f1c208cddce53145e.jpg: ignoring corrupt image/label: Label class 5 exceeds dataset class count 1. Possible class labels are 0-0\n",
      "\u001b[34m\u001b[1mtrain: \u001b[0mWARNING ⚠️ /home/rocky/FindMyCat/scratchCat1/datasets/combined-dataset/train/images/1174dcf4-2e6b-4d0b-b338-df639182a9d7_jpg.rf.d44c826dc120050745ea45d38469f6f9.jpg: ignoring corrupt image/label: Label class 5 exceeds dataset class count 1. Possible class labels are 0-0\n",
      "\u001b[34m\u001b[1mtrain: \u001b[0mWARNING ⚠️ /home/rocky/FindMyCat/scratchCat1/datasets/combined-dataset/train/images/16e75227-f66f-4d1a-abbf-82a5fd135763_jpg.rf.8b9eab26eed2bf82d1e2e0ae61f5246c.jpg: ignoring corrupt image/label: Label class 5 exceeds dataset class count 1. Possible class labels are 0-0\n",
      "\u001b[34m\u001b[1mtrain: \u001b[0mWARNING ⚠️ /home/rocky/FindMyCat/scratchCat1/datasets/combined-dataset/train/images/16e97112-fe0d-4f1f-b3da-9f3a80571f00_jpg.rf.000637694ff68161a2aa4951e054b379.jpg: ignoring corrupt image/label: Label class 6 exceeds dataset class count 1. Possible class labels are 0-0\n",
      "\u001b[34m\u001b[1mtrain: \u001b[0mWARNING ⚠️ /home/rocky/FindMyCat/scratchCat1/datasets/combined-dataset/train/images/18cdb22b-cd16-4ad0-970e-d761b083e88a_jpg.rf.cad0df90f3283d9242643d30e124bb62.jpg: ignoring corrupt image/label: Label class 5 exceeds dataset class count 1. Possible class labels are 0-0\n",
      "\u001b[34m\u001b[1mtrain: \u001b[0mWARNING ⚠️ /home/rocky/FindMyCat/scratchCat1/datasets/combined-dataset/train/images/192ec9c2-8bb1-4b2e-b01d-9e918a914898_jpg.rf.64e6ae59ae8c7608e02b54a80d5cae9e.jpg: ignoring corrupt image/label: Label class 5 exceeds dataset class count 1. Possible class labels are 0-0\n",
      "\u001b[34m\u001b[1mtrain: \u001b[0mWARNING ⚠️ /home/rocky/FindMyCat/scratchCat1/datasets/combined-dataset/train/images/2013010711390213112_jpg.rf.6d7b9709773087524886111f27c31a6b.jpg: ignoring corrupt image/label: Label class 3 exceeds dataset class count 1. Possible class labels are 0-0\n",
      "\u001b[34m\u001b[1mtrain: \u001b[0mWARNING ⚠️ /home/rocky/FindMyCat/scratchCat1/datasets/combined-dataset/train/images/2013010711390213118_jpg.rf.73743cfcd203a565e3da5980018537b8.jpg: ignoring corrupt image/label: Label class 5 exceeds dataset class count 1. Possible class labels are 0-0\n",
      "\u001b[34m\u001b[1mtrain: \u001b[0mWARNING ⚠️ /home/rocky/FindMyCat/scratchCat1/datasets/combined-dataset/train/images/2013010711390213119_jpg.rf.80750b9a5749922a39ac56a10ae8c3ce.jpg: ignoring corrupt image/label: Label class 5 exceeds dataset class count 1. Possible class labels are 0-0\n",
      "\u001b[34m\u001b[1mtrain: \u001b[0mWARNING ⚠️ /home/rocky/FindMyCat/scratchCat1/datasets/combined-dataset/train/images/2013010711390213120_jpg.rf.c24a92639987eef27c2b1579a97fa973.jpg: ignoring corrupt image/label: Label class 2 exceeds dataset class count 1. Possible class labels are 0-0\n",
      "\u001b[34m\u001b[1mtrain: \u001b[0mWARNING ⚠️ /home/rocky/FindMyCat/scratchCat1/datasets/combined-dataset/train/images/2013010711390213121_jpg.rf.c7ce251bee17129c8e4bb14a7ed55723.jpg: ignoring corrupt image/label: Label class 3 exceeds dataset class count 1. Possible class labels are 0-0\n",
      "\u001b[34m\u001b[1mtrain: \u001b[0mWARNING ⚠️ /home/rocky/FindMyCat/scratchCat1/datasets/combined-dataset/train/images/2040379f-dd40-4299-bca7-9cd6e5d7024f_jpg.rf.db0a197c8b9325035210e8c92caacf8b.jpg: ignoring corrupt image/label: Label class 6 exceeds dataset class count 1. Possible class labels are 0-0\n",
      "\u001b[34m\u001b[1mtrain: \u001b[0mWARNING ⚠️ /home/rocky/FindMyCat/scratchCat1/datasets/combined-dataset/train/images/2400a9be-28f0-4d20-818b-f929f36c1c0d_jpg.rf.9235f34106ba52157ccc7b9ec058c62a.jpg: ignoring corrupt image/label: Label class 5 exceeds dataset class count 1. Possible class labels are 0-0\n",
      "\u001b[34m\u001b[1mtrain: \u001b[0mWARNING ⚠️ /home/rocky/FindMyCat/scratchCat1/datasets/combined-dataset/train/images/285ad8fb-2b07-4f1e-98f6-dd6d517b0174_jpg.rf.115ed71f13abdcd0d4357b5070efaa71.jpg: ignoring corrupt image/label: Label class 5 exceeds dataset class count 1. Possible class labels are 0-0\n",
      "\u001b[34m\u001b[1mtrain: \u001b[0mWARNING ⚠️ /home/rocky/FindMyCat/scratchCat1/datasets/combined-dataset/train/images/2bd9fcd1-62c3-4eac-986e-c27b43cba0a7_jpg.rf.8aaa866788425fc9322b1516e1092517.jpg: ignoring corrupt image/label: Label class 5 exceeds dataset class count 1. Possible class labels are 0-0\n",
      "\u001b[34m\u001b[1mtrain: \u001b[0mWARNING ⚠️ /home/rocky/FindMyCat/scratchCat1/datasets/combined-dataset/train/images/320f0e25-1a5e-4bb4-96d6-1e250b02104e_jpg.rf.b8351a37ffcdce2f5e37fcca00bfdb8e.jpg: ignoring corrupt image/label: Label class 5 exceeds dataset class count 1. Possible class labels are 0-0\n",
      "\u001b[34m\u001b[1mtrain: \u001b[0mWARNING ⚠️ /home/rocky/FindMyCat/scratchCat1/datasets/combined-dataset/train/images/35607174-45b1-42e6-b64b-7cc346962e7c_jpg.rf.46100bb167aa45957ea04b5c6b15bf29.jpg: ignoring corrupt image/label: Label class 5 exceeds dataset class count 1. Possible class labels are 0-0\n",
      "\u001b[34m\u001b[1mtrain: \u001b[0mWARNING ⚠️ /home/rocky/FindMyCat/scratchCat1/datasets/combined-dataset/train/images/39255e9c-e164-42d7-b280-7366c96aa038_jpg.rf.38a72ed107c4e6d8846eda0a7cf699f2.jpg: ignoring corrupt image/label: Label class 4 exceeds dataset class count 1. Possible class labels are 0-0\n",
      "\u001b[34m\u001b[1mtrain: \u001b[0mWARNING ⚠️ /home/rocky/FindMyCat/scratchCat1/datasets/combined-dataset/train/images/396895ae-04d6-44e6-b377-c8ddc22d54af_jpg.rf.1a234c5545a674b7aef00a3a1ff8094c.jpg: ignoring corrupt image/label: Label class 6 exceeds dataset class count 1. Possible class labels are 0-0\n",
      "\u001b[34m\u001b[1mtrain: \u001b[0mWARNING ⚠️ /home/rocky/FindMyCat/scratchCat1/datasets/combined-dataset/train/images/3e5d0a6f-94bd-4887-aa82-214367dbe2ce_jpg.rf.f0705ffd9b1f2a2675a7fc779f0a3782.jpg: ignoring corrupt image/label: Label class 5 exceeds dataset class count 1. Possible class labels are 0-0\n",
      "\u001b[34m\u001b[1mtrain: \u001b[0mWARNING ⚠️ /home/rocky/FindMyCat/scratchCat1/datasets/combined-dataset/train/images/432aefeb-0827-441c-94ad-34342e04eafa_jpg.rf.e98f5b37438738ff132a06b77a6d404e.jpg: ignoring corrupt image/label: Label class 5 exceeds dataset class count 1. Possible class labels are 0-0\n",
      "\u001b[34m\u001b[1mtrain: \u001b[0mWARNING ⚠️ /home/rocky/FindMyCat/scratchCat1/datasets/combined-dataset/train/images/4643ec3c-ad6c-48f2-ab14-0841d350b2d0_jpg.rf.2fa1682a16cf1c8e92b2eaa214852614.jpg: ignoring corrupt image/label: Label class 5 exceeds dataset class count 1. Possible class labels are 0-0\n",
      "\u001b[34m\u001b[1mtrain: \u001b[0mWARNING ⚠️ /home/rocky/FindMyCat/scratchCat1/datasets/combined-dataset/train/images/48fafd44-7370-4cc7-8be2-75caaace2082_jpg.rf.4a86ded83e988f5a534882292d2c813d.jpg: ignoring corrupt image/label: Label class 5 exceeds dataset class count 1. Possible class labels are 0-0\n",
      "\u001b[34m\u001b[1mtrain: \u001b[0mWARNING ⚠️ /home/rocky/FindMyCat/scratchCat1/datasets/combined-dataset/train/images/4a64e23a-7ab0-4883-950a-b61113518460_jpg.rf.1ec8db0c4a5f786ecb41fa23f725a623.jpg: ignoring corrupt image/label: Label class 5 exceeds dataset class count 1. Possible class labels are 0-0\n",
      "\u001b[34m\u001b[1mtrain: \u001b[0mWARNING ⚠️ /home/rocky/FindMyCat/scratchCat1/datasets/combined-dataset/train/images/4adca938-3aa0-4da5-803a-99fece8d0796_jpg.rf.ac72dcf1b56f49843928ede667ba2f05.jpg: ignoring corrupt image/label: Label class 5 exceeds dataset class count 1. Possible class labels are 0-0\n",
      "\u001b[34m\u001b[1mtrain: \u001b[0mWARNING ⚠️ /home/rocky/FindMyCat/scratchCat1/datasets/combined-dataset/train/images/4c957fef-ceab-426e-808d-544e71162837_jpg.rf.2bcc27a8cbb65d21d7b4fc4acfdd05d7.jpg: ignoring corrupt image/label: Label class 5 exceeds dataset class count 1. Possible class labels are 0-0\n",
      "\u001b[34m\u001b[1mtrain: \u001b[0mWARNING ⚠️ /home/rocky/FindMyCat/scratchCat1/datasets/combined-dataset/train/images/520ca8cd-a5b8-4c97-a57a-85be6fd8b497_jpg.rf.323345adf0f7ce7159df72f3a168bca6.jpg: ignoring corrupt image/label: Label class 5 exceeds dataset class count 1. Possible class labels are 0-0\n",
      "\u001b[34m\u001b[1mtrain: \u001b[0mWARNING ⚠️ /home/rocky/FindMyCat/scratchCat1/datasets/combined-dataset/train/images/52_jpg.rf.0c3518e64a95885cede3cbd1efb9219e.jpg: ignoring corrupt image/label: Label class 2 exceeds dataset class count 1. Possible class labels are 0-0\n",
      "\u001b[34m\u001b[1mtrain: \u001b[0mWARNING ⚠️ /home/rocky/FindMyCat/scratchCat1/datasets/combined-dataset/train/images/54545_jpg.rf.d0c1dba2c9b76403833a0f1688f71370.jpg: ignoring corrupt image/label: Label class 2 exceeds dataset class count 1. Possible class labels are 0-0\n",
      "\u001b[34m\u001b[1mtrain: \u001b[0mWARNING ⚠️ /home/rocky/FindMyCat/scratchCat1/datasets/combined-dataset/train/images/56fac286-b306-42d8-92c5-5f1082e42d14_jpg.rf.e8fe62288ffab9fb01cf1be83ecec689.jpg: ignoring corrupt image/label: Label class 5 exceeds dataset class count 1. Possible class labels are 0-0\n",
      "\u001b[34m\u001b[1mtrain: \u001b[0mWARNING ⚠️ /home/rocky/FindMyCat/scratchCat1/datasets/combined-dataset/train/images/58d0fee0-b6ad-45f5-b192-0e4d65042152_jpg.rf.4b5e6c888863bfe090157db1c77f094e.jpg: ignoring corrupt image/label: Label class 5 exceeds dataset class count 1. Possible class labels are 0-0\n",
      "\u001b[34m\u001b[1mtrain: \u001b[0mWARNING ⚠️ /home/rocky/FindMyCat/scratchCat1/datasets/combined-dataset/train/images/5e44e2b8-ec1e-4f1d-b2c1-2388893b505a_jpg.rf.5ad2e3691eeaede673022f6c30bc75da.jpg: ignoring corrupt image/label: Label class 5 exceeds dataset class count 1. Possible class labels are 0-0\n",
      "\u001b[34m\u001b[1mtrain: \u001b[0mWARNING ⚠️ /home/rocky/FindMyCat/scratchCat1/datasets/combined-dataset/train/images/6360ae2d-9d6d-4ee0-a945-e1d4f57a79be_jpg.rf.bf314b45cb528578103e9ab12e587d1e.jpg: ignoring corrupt image/label: Label class 5 exceeds dataset class count 1. Possible class labels are 0-0\n",
      "\u001b[34m\u001b[1mtrain: \u001b[0mWARNING ⚠️ /home/rocky/FindMyCat/scratchCat1/datasets/combined-dataset/train/images/66_jpg.rf.6a278f8ee0229e6cf467b9af3b090396.jpg: ignoring corrupt image/label: Label class 2 exceeds dataset class count 1. Possible class labels are 0-0\n",
      "\u001b[34m\u001b[1mtrain: \u001b[0mWARNING ⚠️ /home/rocky/FindMyCat/scratchCat1/datasets/combined-dataset/train/images/683347f9-42f3-4eb2-98dc-9b564fff7fe5_jpg.rf.6f933069c50c3066f63e70f9a760b73b.jpg: ignoring corrupt image/label: Label class 6 exceeds dataset class count 1. Possible class labels are 0-0\n",
      "\u001b[34m\u001b[1mtrain: \u001b[0mWARNING ⚠️ /home/rocky/FindMyCat/scratchCat1/datasets/combined-dataset/train/images/6c15ed44-b992-4d3f-8edc-1e554f8eb6bf_jpg.rf.243674d20b8b6e87f5436ba8fb1ab0c6.jpg: ignoring corrupt image/label: Label class 2 exceeds dataset class count 1. Possible class labels are 0-0\n",
      "\u001b[34m\u001b[1mtrain: \u001b[0mWARNING ⚠️ /home/rocky/FindMyCat/scratchCat1/datasets/combined-dataset/train/images/6dbb9ab1-9120-4fa8-aa54-8c9b810a7f28_jpg.rf.ab6de8cedded022e93fbe1625f4e59be.jpg: ignoring corrupt image/label: Label class 5 exceeds dataset class count 1. Possible class labels are 0-0\n",
      "\u001b[34m\u001b[1mtrain: \u001b[0mWARNING ⚠️ /home/rocky/FindMyCat/scratchCat1/datasets/combined-dataset/train/images/7ae1a54a-674a-463f-a04f-353e9a088f57_jpg.rf.276cc2efa434f681e0b7b4a15cab31b6.jpg: ignoring corrupt image/label: Label class 5 exceeds dataset class count 1. Possible class labels are 0-0\n",
      "\u001b[34m\u001b[1mtrain: \u001b[0mWARNING ⚠️ /home/rocky/FindMyCat/scratchCat1/datasets/combined-dataset/train/images/7d05b53f-9854-490e-8d29-0ec10e149deb_jpg.rf.b7bcf1f39972922428079d33d377b0d4.jpg: ignoring corrupt image/label: Label class 5 exceeds dataset class count 1. Possible class labels are 0-0\n",
      "\u001b[34m\u001b[1mtrain: \u001b[0mWARNING ⚠️ /home/rocky/FindMyCat/scratchCat1/datasets/combined-dataset/train/images/82f5ff2d-ff07-4197-9c55-909204ab22f8_jpg.rf.073e73131aaedf1c56481006758d3268.jpg: ignoring corrupt image/label: Label class 5 exceeds dataset class count 1. Possible class labels are 0-0\n",
      "\u001b[34m\u001b[1mtrain: \u001b[0mWARNING ⚠️ /home/rocky/FindMyCat/scratchCat1/datasets/combined-dataset/train/images/83adf935-2f05-477c-8c7b-48b9af0e8b08_jpg.rf.60f1ce56fc116b6658f70f7cb053ede8.jpg: ignoring corrupt image/label: Label class 5 exceeds dataset class count 1. Possible class labels are 0-0\n",
      "\u001b[34m\u001b[1mtrain: \u001b[0mWARNING ⚠️ /home/rocky/FindMyCat/scratchCat1/datasets/combined-dataset/train/images/853dc8b1-96eb-40a4-8516-a5d949421b79_jpg.rf.140be4fb718f97eae064e990e01e2601.jpg: ignoring corrupt image/label: Label class 5 exceeds dataset class count 1. Possible class labels are 0-0\n",
      "\u001b[34m\u001b[1mtrain: \u001b[0mWARNING ⚠️ /home/rocky/FindMyCat/scratchCat1/datasets/combined-dataset/train/images/8770e061-e97f-4699-b2ca-9483cb181174_jpg.rf.e73af4d1e5eb1b6dc213a1283c979b50.jpg: ignoring corrupt image/label: Label class 5 exceeds dataset class count 1. Possible class labels are 0-0\n",
      "\u001b[34m\u001b[1mtrain: \u001b[0mWARNING ⚠️ /home/rocky/FindMyCat/scratchCat1/datasets/combined-dataset/train/images/8d7d0cac-ee99-43df-a002-231165138c69_jpg.rf.347427888e4c484246e5ecbd0bccb99a.jpg: ignoring corrupt image/label: Label class 5 exceeds dataset class count 1. Possible class labels are 0-0\n",
      "\u001b[34m\u001b[1mtrain: \u001b[0mWARNING ⚠️ /home/rocky/FindMyCat/scratchCat1/datasets/combined-dataset/train/images/9dfe9f08-0c72-46c3-b4cd-1781f258a3d8_jpg.rf.9e43b6ffd19b135450a276ca33a48ba6.jpg: ignoring corrupt image/label: Label class 5 exceeds dataset class count 1. Possible class labels are 0-0\n",
      "\u001b[34m\u001b[1mtrain: \u001b[0mWARNING ⚠️ /home/rocky/FindMyCat/scratchCat1/datasets/combined-dataset/train/images/a21f1edb-fccd-4a06-85e6-839b0e81b04f_jpg.rf.334dd17f1051a7c542d67b83022349f3.jpg: ignoring corrupt image/label: Label class 6 exceeds dataset class count 1. Possible class labels are 0-0\n",
      "\u001b[34m\u001b[1mtrain: \u001b[0mWARNING ⚠️ /home/rocky/FindMyCat/scratchCat1/datasets/combined-dataset/train/images/a2e6a203-c292-40af-bb9d-c26c9e720ca7_jpg.rf.ea4a2a5485b2915704fe5f27969cedd3.jpg: ignoring corrupt image/label: Label class 5 exceeds dataset class count 1. Possible class labels are 0-0\n",
      "\u001b[34m\u001b[1mtrain: \u001b[0mWARNING ⚠️ /home/rocky/FindMyCat/scratchCat1/datasets/combined-dataset/train/images/a42eb41e-7fc0-4692-9271-52ddc70720c7_jpg.rf.9e25da36944943b6f3cb722b7cb9928f.jpg: ignoring corrupt image/label: Label class 5 exceeds dataset class count 1. Possible class labels are 0-0\n",
      "\u001b[34m\u001b[1mtrain: \u001b[0mWARNING ⚠️ /home/rocky/FindMyCat/scratchCat1/datasets/combined-dataset/train/images/a4849f01-c5dc-4133-816e-e8120865b79d_jpg.rf.f4a56ca7b60b4141efc42dfea11a2d16.jpg: ignoring corrupt image/label: Label class 6 exceeds dataset class count 1. Possible class labels are 0-0\n",
      "\u001b[34m\u001b[1mtrain: \u001b[0mWARNING ⚠️ /home/rocky/FindMyCat/scratchCat1/datasets/combined-dataset/train/images/a4b4661e-bcb1-4f5d-88bd-bfe9424c6210_jpg.rf.4213a4cca2ce3bd5e61394eccf60c8d3.jpg: ignoring corrupt image/label: Label class 3 exceeds dataset class count 1. Possible class labels are 0-0\n",
      "\u001b[34m\u001b[1mtrain: \u001b[0mWARNING ⚠️ /home/rocky/FindMyCat/scratchCat1/datasets/combined-dataset/train/images/ac9079a6-5e0c-4395-bc0f-8332b9194ec8_jpg.rf.516a1b79906de8e06f4557caeb2f3f63.jpg: ignoring corrupt image/label: Label class 6 exceeds dataset class count 1. Possible class labels are 0-0\n",
      "\u001b[34m\u001b[1mtrain: \u001b[0mWARNING ⚠️ /home/rocky/FindMyCat/scratchCat1/datasets/combined-dataset/train/images/ad82088d-747e-479b-b09e-2bb0ed281ac2_jpg.rf.a01ff58bf1f848460123ff7a4ce9f092.jpg: ignoring corrupt image/label: Label class 5 exceeds dataset class count 1. Possible class labels are 0-0\n",
      "\u001b[34m\u001b[1mtrain: \u001b[0mWARNING ⚠️ /home/rocky/FindMyCat/scratchCat1/datasets/combined-dataset/train/images/ae949b04-5f1c-420b-ac31-c5ed86926b89_jpg.rf.a27b84f4c1f2d3be328a0dd19ecd2131.jpg: ignoring corrupt image/label: Label class 6 exceeds dataset class count 1. Possible class labels are 0-0\n",
      "\u001b[34m\u001b[1mtrain: \u001b[0mWARNING ⚠️ /home/rocky/FindMyCat/scratchCat1/datasets/combined-dataset/train/images/af93290c-2b40-40c8-9d74-0eb950d1e550_jpg.rf.d60623f85d43a6d76310ac1dde6ccb02.jpg: ignoring corrupt image/label: Label class 5 exceeds dataset class count 1. Possible class labels are 0-0\n",
      "\u001b[34m\u001b[1mtrain: \u001b[0mWARNING ⚠️ /home/rocky/FindMyCat/scratchCat1/datasets/combined-dataset/train/images/b0db1ed0-e237-4e28-b5e8-71e929b49899_jpg.rf.120ab992cb414daca54479f3b4d9a1fe.jpg: ignoring corrupt image/label: Label class 6 exceeds dataset class count 1. Possible class labels are 0-0\n",
      "\u001b[34m\u001b[1mtrain: \u001b[0mWARNING ⚠️ /home/rocky/FindMyCat/scratchCat1/datasets/combined-dataset/train/images/c3ecdd7f-fe45-4d60-bebf-ad248e31213e_jpg.rf.4b95b1da924cb6a175aabbd47852aff0.jpg: ignoring corrupt image/label: Label class 5 exceeds dataset class count 1. Possible class labels are 0-0\n",
      "\u001b[34m\u001b[1mtrain: \u001b[0mWARNING ⚠️ /home/rocky/FindMyCat/scratchCat1/datasets/combined-dataset/train/images/c4fec89f-15d0-4714-b7a4-0ba1245e14d7_jpg.rf.34316d5a78063d4be02778fe30194ea4.jpg: ignoring corrupt image/label: Label class 5 exceeds dataset class count 1. Possible class labels are 0-0\n",
      "\u001b[34m\u001b[1mtrain: \u001b[0mWARNING ⚠️ /home/rocky/FindMyCat/scratchCat1/datasets/combined-dataset/train/images/cb29c0f6-4b1f-419a-839c-e92d811df531_jpg.rf.267d1c618fa0aa4070235a7b42ec78eb.jpg: ignoring corrupt image/label: Label class 5 exceeds dataset class count 1. Possible class labels are 0-0\n",
      "\u001b[34m\u001b[1mtrain: \u001b[0mWARNING ⚠️ /home/rocky/FindMyCat/scratchCat1/datasets/combined-dataset/train/images/cd577ef3-d288-4d32-88af-b8592adfc632_jpg.rf.110f7910f8d3e2beba4705ab5b623c34.jpg: ignoring corrupt image/label: Label class 6 exceeds dataset class count 1. Possible class labels are 0-0\n",
      "\u001b[34m\u001b[1mtrain: \u001b[0mWARNING ⚠️ /home/rocky/FindMyCat/scratchCat1/datasets/combined-dataset/train/images/ce41d53e-9ef6-4e09-8fb0-5e5d6123b51c_jpg.rf.e3562e1679d2d28081d96cf3215dcb7b.jpg: ignoring corrupt image/label: Label class 5 exceeds dataset class count 1. Possible class labels are 0-0\n",
      "\u001b[34m\u001b[1mtrain: \u001b[0mWARNING ⚠️ /home/rocky/FindMyCat/scratchCat1/datasets/combined-dataset/train/images/d24dedc8-1376-4773-bccd-40d40fea05cb_jpg.rf.7e7266f53e7d04a1d69e670c0a723a0c.jpg: ignoring corrupt image/label: Label class 5 exceeds dataset class count 1. Possible class labels are 0-0\n",
      "\u001b[34m\u001b[1mtrain: \u001b[0mWARNING ⚠️ /home/rocky/FindMyCat/scratchCat1/datasets/combined-dataset/train/images/d368e30d-31ce-414c-91be-36db0301b8f6_jpg.rf.39dd86301a5e20b6d59526828c176974.jpg: ignoring corrupt image/label: Label class 5 exceeds dataset class count 1. Possible class labels are 0-0\n",
      "\u001b[34m\u001b[1mtrain: \u001b[0mWARNING ⚠️ /home/rocky/FindMyCat/scratchCat1/datasets/combined-dataset/train/images/dc7a97b0-dcc9-4994-b628-cffd1e9634ca_jpg.rf.ba8811671ddfdc047efa4da7423df3b7.jpg: ignoring corrupt image/label: Label class 5 exceeds dataset class count 1. Possible class labels are 0-0\n",
      "\u001b[34m\u001b[1mtrain: \u001b[0mWARNING ⚠️ /home/rocky/FindMyCat/scratchCat1/datasets/combined-dataset/train/images/ddcaf14b-7c9e-4c11-b831-5ad217be3bfa_jpg.rf.030a206581c935efc7532c33ff1a1e79.jpg: ignoring corrupt image/label: Label class 5 exceeds dataset class count 1. Possible class labels are 0-0\n",
      "\u001b[34m\u001b[1mtrain: \u001b[0mWARNING ⚠️ /home/rocky/FindMyCat/scratchCat1/datasets/combined-dataset/train/images/de2aff66-0d9d-4e52-9e03-77f4596f8896_jpg.rf.7fa8d5ce5b3c0b8885801e039961fa68.jpg: ignoring corrupt image/label: Label class 4 exceeds dataset class count 1. Possible class labels are 0-0\n",
      "\u001b[34m\u001b[1mtrain: \u001b[0mWARNING ⚠️ /home/rocky/FindMyCat/scratchCat1/datasets/combined-dataset/train/images/e46a2c36-4bab-468a-a42e-ff982fa2c69a_jpg.rf.765016753ebf74ae5a009773caf891be.jpg: ignoring corrupt image/label: Label class 5 exceeds dataset class count 1. Possible class labels are 0-0\n",
      "\u001b[34m\u001b[1mtrain: \u001b[0mWARNING ⚠️ /home/rocky/FindMyCat/scratchCat1/datasets/combined-dataset/train/images/e4ea66f7-78dc-4264-b64b-d0a0013ccf52_jpg.rf.c4cb6f4939b1bed8b2e07ad2d14fa0fd.jpg: ignoring corrupt image/label: Label class 5 exceeds dataset class count 1. Possible class labels are 0-0\n",
      "\u001b[34m\u001b[1mtrain: \u001b[0mWARNING ⚠️ /home/rocky/FindMyCat/scratchCat1/datasets/combined-dataset/train/images/ea448547-183a-43a8-8ef4-8066aaf3a0bd_jpg.rf.19405255a16944999730228b8563fe5f.jpg: ignoring corrupt image/label: Label class 6 exceeds dataset class count 1. Possible class labels are 0-0\n",
      "\u001b[34m\u001b[1mtrain: \u001b[0mWARNING ⚠️ /home/rocky/FindMyCat/scratchCat1/datasets/combined-dataset/train/images/ivqxasceu3aemg6wgybx16u4nyvmo8pa_jpg.rf.9afd41c849d6adf0bca313f174e85747.jpg: ignoring corrupt image/label: Label class 6 exceeds dataset class count 1. Possible class labels are 0-0\n",
      "\u001b[34m\u001b[1mtrain: \u001b[0mWARNING ⚠️ /home/rocky/FindMyCat/scratchCat1/datasets/combined-dataset/train/images/scale_2400_jpg.rf.b597a87670629181eab6d4d4d46706e1.jpg: ignoring corrupt image/label: Label class 3 exceeds dataset class count 1. Possible class labels are 0-0\n",
      "\u001b[34m\u001b[1mtrain: \u001b[0mWARNING ⚠️ /home/rocky/FindMyCat/scratchCat1/datasets/combined-dataset/train/images/yt-UR66VgcaFUk-0002_jpg.rf.df72d44d0ae7aeb82f49a885dd26367d.jpg: ignoring corrupt image/label: Label class 5 exceeds dataset class count 1. Possible class labels are 0-0\n",
      "\u001b[34m\u001b[1mtrain: \u001b[0mWARNING ⚠️ /home/rocky/FindMyCat/scratchCat1/datasets/combined-dataset/train/images/yt-UR66VgcaFUk-0003_jpg.rf.aad3c521f74866c469424907a637761c.jpg: ignoring corrupt image/label: Label class 2 exceeds dataset class count 1. Possible class labels are 0-0\n",
      "\u001b[34m\u001b[1mtrain: \u001b[0mWARNING ⚠️ /home/rocky/FindMyCat/scratchCat1/datasets/combined-dataset/train/images/yt-UR66VgcaFUk-0004_jpg.rf.cd65b3c59a1ba3f01ae1a45fbb2b4022.jpg: ignoring corrupt image/label: Label class 2 exceeds dataset class count 1. Possible class labels are 0-0\n",
      "\u001b[34m\u001b[1mtrain: \u001b[0mWARNING ⚠️ /home/rocky/FindMyCat/scratchCat1/datasets/combined-dataset/train/images/yt-UR66VgcaFUk-0008_jpg.rf.acb7ce2ec679c4cd96302c2ec8b609c8.jpg: ignoring corrupt image/label: Label class 5 exceeds dataset class count 1. Possible class labels are 0-0\n",
      "\u001b[34m\u001b[1mtrain: \u001b[0mWARNING ⚠️ /home/rocky/FindMyCat/scratchCat1/datasets/combined-dataset/train/images/yt-UR66VgcaFUk-0010_jpg.rf.9d02dd359adc78dfcfc51a3d8af52bb7.jpg: ignoring corrupt image/label: Label class 5 exceeds dataset class count 1. Possible class labels are 0-0\n",
      "\u001b[34m\u001b[1mtrain: \u001b[0mWARNING ⚠️ /home/rocky/FindMyCat/scratchCat1/datasets/combined-dataset/train/images/yt-UR66VgcaFUk-0011_jpg.rf.17136aaffc79202edc62c7f98664ebec.jpg: ignoring corrupt image/label: Label class 5 exceeds dataset class count 1. Possible class labels are 0-0\n",
      "\u001b[34m\u001b[1mtrain: \u001b[0mWARNING ⚠️ /home/rocky/FindMyCat/scratchCat1/datasets/combined-dataset/train/images/yt-UR66VgcaFUk-0012_jpg.rf.70eb8ce5e2e3f811bc04e34e5db02bc6.jpg: ignoring corrupt image/label: Label class 2 exceeds dataset class count 1. Possible class labels are 0-0\n",
      "\u001b[34m\u001b[1mtrain: \u001b[0mWARNING ⚠️ /home/rocky/FindMyCat/scratchCat1/datasets/combined-dataset/train/images/yt-UR66VgcaFUk-0014_jpg.rf.19b71e539cb3d9dd8b5610b51f8e0775.jpg: ignoring corrupt image/label: Label class 5 exceeds dataset class count 1. Possible class labels are 0-0\n",
      "\u001b[34m\u001b[1mtrain: \u001b[0mWARNING ⚠️ /home/rocky/FindMyCat/scratchCat1/datasets/combined-dataset/train/images/yt-UR66VgcaFUk-0015_jpg.rf.ebbfd536385d0b0cd922e16f4f9a2fc0.jpg: ignoring corrupt image/label: Label class 5 exceeds dataset class count 1. Possible class labels are 0-0\n",
      "\u001b[34m\u001b[1mtrain: \u001b[0mWARNING ⚠️ /home/rocky/FindMyCat/scratchCat1/datasets/combined-dataset/train/images/yt-UR66VgcaFUk-0017_jpg.rf.aacb56ef2596e469bdec2e39326efd1d.jpg: ignoring corrupt image/label: Label class 2 exceeds dataset class count 1. Possible class labels are 0-0\n",
      "\u001b[34m\u001b[1mtrain: \u001b[0mWARNING ⚠️ /home/rocky/FindMyCat/scratchCat1/datasets/combined-dataset/train/images/yt-UR66VgcaFUk-0021_jpg.rf.8a75c8baf826982b706cb1835251e2be.jpg: ignoring corrupt image/label: Label class 2 exceeds dataset class count 1. Possible class labels are 0-0\n",
      "\u001b[34m\u001b[1mtrain: \u001b[0mWARNING ⚠️ /home/rocky/FindMyCat/scratchCat1/datasets/combined-dataset/train/images/yt-UR66VgcaFUk-0022_jpg.rf.d82bdffa27753e20595756a41df48fdc.jpg: ignoring corrupt image/label: Label class 2 exceeds dataset class count 1. Possible class labels are 0-0\n",
      "\u001b[34m\u001b[1mtrain: \u001b[0mWARNING ⚠️ /home/rocky/FindMyCat/scratchCat1/datasets/combined-dataset/train/images/yt-UR66VgcaFUk-0024_jpg.rf.049471deaf49d70c4958789453c3b232.jpg: ignoring corrupt image/label: Label class 5 exceeds dataset class count 1. Possible class labels are 0-0\n",
      "\u001b[34m\u001b[1mtrain: \u001b[0mWARNING ⚠️ /home/rocky/FindMyCat/scratchCat1/datasets/combined-dataset/train/images/yt-UR66VgcaFUk-0025_jpg.rf.8c5ca3013e2444fe921c7932d1661ef3.jpg: ignoring corrupt image/label: Label class 5 exceeds dataset class count 1. Possible class labels are 0-0\n",
      "\u001b[34m\u001b[1mtrain: \u001b[0mWARNING ⚠️ /home/rocky/FindMyCat/scratchCat1/datasets/combined-dataset/train/images/yt-UR66VgcaFUk-0027_jpg.rf.588a9133c8bea4170132740122f6ac22.jpg: ignoring corrupt image/label: Label class 2 exceeds dataset class count 1. Possible class labels are 0-0\n",
      "\u001b[34m\u001b[1mtrain: \u001b[0mWARNING ⚠️ /home/rocky/FindMyCat/scratchCat1/datasets/combined-dataset/train/images/yt-UR66VgcaFUk-0028_jpg.rf.b0133fded934531d284149a9e14b418d.jpg: ignoring corrupt image/label: Label class 2 exceeds dataset class count 1. Possible class labels are 0-0\n",
      "\u001b[34m\u001b[1mtrain: \u001b[0mWARNING ⚠️ /home/rocky/FindMyCat/scratchCat1/datasets/combined-dataset/train/images/yt-UR66VgcaFUk-0030_jpg.rf.6aea805d8ebd1c2c20dd5c6a0da0b51a.jpg: ignoring corrupt image/label: Label class 6 exceeds dataset class count 1. Possible class labels are 0-0\n",
      "\u001b[34m\u001b[1mtrain: \u001b[0mWARNING ⚠️ /home/rocky/FindMyCat/scratchCat1/datasets/combined-dataset/train/images/yt-UR66VgcaFUk-0031_jpg.rf.a5af2f8e1c94ef8ff9ec87cad94e5027.jpg: ignoring corrupt image/label: Label class 5 exceeds dataset class count 1. Possible class labels are 0-0\n",
      "\u001b[34m\u001b[1mtrain: \u001b[0mWARNING ⚠️ /home/rocky/FindMyCat/scratchCat1/datasets/combined-dataset/train/images/yt-UR66VgcaFUk-0032_jpg.rf.ce9791aa7a33374fed015f5fb66e931c.jpg: ignoring corrupt image/label: Label class 5 exceeds dataset class count 1. Possible class labels are 0-0\n",
      "\u001b[34m\u001b[1mtrain: \u001b[0mWARNING ⚠️ /home/rocky/FindMyCat/scratchCat1/datasets/combined-dataset/train/images/yt-UR66VgcaFUk-0035_jpg.rf.8f22236cdcf77315cbc11d8099f8be0c.jpg: ignoring corrupt image/label: Label class 2 exceeds dataset class count 1. Possible class labels are 0-0\n",
      "\u001b[34m\u001b[1mtrain: \u001b[0mWARNING ⚠️ /home/rocky/FindMyCat/scratchCat1/datasets/combined-dataset/train/images/yt-UR66VgcaFUk-0037_jpg.rf.ba516fcbcb86cfb1b936887a8b0cb368.jpg: ignoring corrupt image/label: Label class 5 exceeds dataset class count 1. Possible class labels are 0-0\n",
      "\u001b[34m\u001b[1mtrain: \u001b[0mWARNING ⚠️ /home/rocky/FindMyCat/scratchCat1/datasets/combined-dataset/train/images/yt-UR66VgcaFUk-0038_jpg.rf.5957acfbed2e49869ccb57fcf6306858.jpg: ignoring corrupt image/label: Label class 3 exceeds dataset class count 1. Possible class labels are 0-0\n",
      "\u001b[34m\u001b[1mtrain: \u001b[0mWARNING ⚠️ /home/rocky/FindMyCat/scratchCat1/datasets/combined-dataset/train/images/yt-UR66VgcaFUk-0040_jpg.rf.2ec1a40b842a542737cf5b59640d7f4c.jpg: ignoring corrupt image/label: Label class 5 exceeds dataset class count 1. Possible class labels are 0-0\n",
      "\u001b[34m\u001b[1mtrain: \u001b[0mWARNING ⚠️ /home/rocky/FindMyCat/scratchCat1/datasets/combined-dataset/train/images/yt-UR66VgcaFUk-0041_jpg.rf.0ba3e4eb0caf8d0810f74aa3a4ae4072.jpg: ignoring corrupt image/label: Label class 5 exceeds dataset class count 1. Possible class labels are 0-0\n",
      "\u001b[34m\u001b[1mtrain: \u001b[0mWARNING ⚠️ /home/rocky/FindMyCat/scratchCat1/datasets/combined-dataset/train/images/yt-UR66VgcaFUk-0044_jpg.rf.217ecab0af0113b7682ac7ed3fef1494.jpg: ignoring corrupt image/label: Label class 5 exceeds dataset class count 1. Possible class labels are 0-0\n",
      "\u001b[34m\u001b[1mtrain: \u001b[0mWARNING ⚠️ /home/rocky/FindMyCat/scratchCat1/datasets/combined-dataset/train/images/yt-UR66VgcaFUk-0045_jpg.rf.5fd012f74082477f182e1325c0232713.jpg: ignoring corrupt image/label: Label class 5 exceeds dataset class count 1. Possible class labels are 0-0\n",
      "\u001b[34m\u001b[1mtrain: \u001b[0mWARNING ⚠️ /home/rocky/FindMyCat/scratchCat1/datasets/combined-dataset/train/images/yt-UR66VgcaFUk-0047_jpg.rf.4c88186310eeaf273311ba77b5d047fc.jpg: ignoring corrupt image/label: Label class 5 exceeds dataset class count 1. Possible class labels are 0-0\n",
      "\u001b[34m\u001b[1mtrain: \u001b[0mWARNING ⚠️ /home/rocky/FindMyCat/scratchCat1/datasets/combined-dataset/train/images/yt-UR66VgcaFUk-0051_jpg.rf.c338fb6cedec1607a8176e554b13b059.jpg: ignoring corrupt image/label: Label class 6 exceeds dataset class count 1. Possible class labels are 0-0\n",
      "\u001b[34m\u001b[1mtrain: \u001b[0mWARNING ⚠️ /home/rocky/FindMyCat/scratchCat1/datasets/combined-dataset/train/images/yt-UR66VgcaFUk-0052_jpg.rf.a57786db320b7d286c7df8652069e42c.jpg: ignoring corrupt image/label: Label class 5 exceeds dataset class count 1. Possible class labels are 0-0\n",
      "\u001b[34m\u001b[1mtrain: \u001b[0mWARNING ⚠️ /home/rocky/FindMyCat/scratchCat1/datasets/combined-dataset/train/images/yt-gY0YK6xEeGY-0000_jpg.rf.e0a189f2fed873d1b47d95aa39319e54.jpg: ignoring corrupt image/label: Label class 2 exceeds dataset class count 1. Possible class labels are 0-0\n",
      "\u001b[34m\u001b[1mtrain: \u001b[0mWARNING ⚠️ /home/rocky/FindMyCat/scratchCat1/datasets/combined-dataset/train/images/yt-gY0YK6xEeGY-0002_jpg.rf.4030e0a200eec6b06417b09ba35784d4.jpg: ignoring corrupt image/label: Label class 2 exceeds dataset class count 1. Possible class labels are 0-0\n",
      "\u001b[34m\u001b[1mtrain: \u001b[0mWARNING ⚠️ /home/rocky/FindMyCat/scratchCat1/datasets/combined-dataset/train/images/yt-gY0YK6xEeGY-0003_jpg.rf.be67abd82723538794fbeec1d877d85c.jpg: ignoring corrupt image/label: Label class 2 exceeds dataset class count 1. Possible class labels are 0-0\n",
      "\u001b[34m\u001b[1mtrain: \u001b[0mWARNING ⚠️ /home/rocky/FindMyCat/scratchCat1/datasets/combined-dataset/train/images/yt-gY0YK6xEeGY-0004_jpg.rf.6494e2879ad2dfcce7082f62e64886ed.jpg: ignoring corrupt image/label: Label class 2 exceeds dataset class count 1. Possible class labels are 0-0\n",
      "\u001b[34m\u001b[1mtrain: \u001b[0mWARNING ⚠️ /home/rocky/FindMyCat/scratchCat1/datasets/combined-dataset/train/images/yt-gY0YK6xEeGY-0005_jpg.rf.65c16147e39679a5c755d622c196a5a6.jpg: ignoring corrupt image/label: Label class 2 exceeds dataset class count 1. Possible class labels are 0-0\n",
      "\u001b[34m\u001b[1mtrain: \u001b[0mWARNING ⚠️ /home/rocky/FindMyCat/scratchCat1/datasets/combined-dataset/train/images/yt-gY0YK6xEeGY-0006_jpg.rf.e507bc4b8eb6dbb199efd00ce6b27fa1.jpg: ignoring corrupt image/label: Label class 2 exceeds dataset class count 1. Possible class labels are 0-0\n",
      "\u001b[34m\u001b[1mtrain: \u001b[0mWARNING ⚠️ /home/rocky/FindMyCat/scratchCat1/datasets/combined-dataset/train/images/yt-gY0YK6xEeGY-0007_jpg.rf.d4fded5e2457c8768c8470a0ebbbfa90.jpg: ignoring corrupt image/label: Label class 2 exceeds dataset class count 1. Possible class labels are 0-0\n",
      "\u001b[34m\u001b[1mtrain: \u001b[0mWARNING ⚠️ /home/rocky/FindMyCat/scratchCat1/datasets/combined-dataset/train/images/yt-gY0YK6xEeGY-0008_jpg.rf.8be9fcd243149a3b30f6499fcf6aa40b.jpg: ignoring corrupt image/label: Label class 2 exceeds dataset class count 1. Possible class labels are 0-0\n",
      "\u001b[34m\u001b[1mtrain: \u001b[0mWARNING ⚠️ /home/rocky/FindMyCat/scratchCat1/datasets/combined-dataset/train/images/yt-gY0YK6xEeGY-0010_jpg.rf.7dcd6b06c99c3d95833d97e19007095b.jpg: ignoring corrupt image/label: Label class 2 exceeds dataset class count 1. Possible class labels are 0-0\n",
      "\u001b[34m\u001b[1mtrain: \u001b[0mWARNING ⚠️ /home/rocky/FindMyCat/scratchCat1/datasets/combined-dataset/train/images/yt-gY0YK6xEeGY-0012_jpg.rf.3cd54eeb5c07c75b692084f21ef1485c.jpg: ignoring corrupt image/label: Label class 2 exceeds dataset class count 1. Possible class labels are 0-0\n",
      "WARNING ⚠️ Box and segment counts should be equal, but got len(segments) = 4, len(boxes) = 13172. To resolve this only boxes will be used and all segments will be removed. To avoid this please supply either a detect or segment dataset, not a detect-segment mixed dataset.\n",
      "WARNING ⚠️ cache='ram' may produce non-deterministic training results. Consider cache='disk' as a deterministic alternative if your disk space allows.\n"
     ]
    },
    {
     "name": "stderr",
     "output_type": "stream",
     "text": [
      "\n",
      "\u001b[34m\u001b[1mtrain: \u001b[0mCaching images (1.0GB RAM):   7%|▋         | 867/11791 [00:00<00:03, 2872.21it/s]\u001b[0m[codecarbon INFO @ 14:38:50] Energy consumed for RAM : 0.000358 kWh. RAM Power : 42.987337589263916 W\n",
      "[codecarbon INFO @ 14:38:50] Energy consumed for all GPUs : 0.000513 kWh. Total GPU Power : 68.84069399904435 W\n",
      "[codecarbon INFO @ 14:38:50] Energy consumed for all CPUs : 0.000354 kWh. Total CPU Power : 42.5 W\n",
      "[codecarbon INFO @ 14:38:50] 0.001226 kWh of electricity used since the beginning.\n",
      "\u001b[34m\u001b[1mtrain: \u001b[0mCaching images (13.5GB RAM): 100%|██████████| 11791/11791 [00:04<00:00, 2928.42it/s]\u001b[0m"
     ]
    },
    {
     "name": "stdout",
     "output_type": "stream",
     "text": [
      "\u001b[34m\u001b[1malbumentations: \u001b[0mBlur(p=0.01, blur_limit=(3, 7)), MedianBlur(p=0.01, blur_limit=(3, 7)), ToGray(p=0.01, num_output_channels=3, method='weighted_average'), CLAHE(p=0.01, clip_limit=(1.0, 4.0), tile_grid_size=(8, 8))\n"
     ]
    },
    {
     "name": "stderr",
     "output_type": "stream",
     "text": [
      "\n",
      "\u001b[34m\u001b[1mval: \u001b[0mScanning /home/rocky/FindMyCat/scratchCat1/datasets/combined-dataset/valid/labels... 2876 images, 488 backgrounds, 32 corrupt: 100%|██████████| 2876/2876 [00:02<00\u001b[0m\n"
     ]
    },
    {
     "name": "stdout",
     "output_type": "stream",
     "text": [
      "\u001b[34m\u001b[1mval: \u001b[0mWARNING ⚠️ /home/rocky/FindMyCat/scratchCat1/datasets/combined-dataset/valid/images/0f2da5ef-124e-4917-8f96-78e4f90c0b32_jpg.rf.f1c53ac49660d7cfa71963b48303ddb0.jpg: ignoring corrupt image/label: Label class 2 exceeds dataset class count 1. Possible class labels are 0-0\n",
      "\u001b[34m\u001b[1mval: \u001b[0mWARNING ⚠️ /home/rocky/FindMyCat/scratchCat1/datasets/combined-dataset/valid/images/1c72c86f-4846-465a-a6ee-87f91d04a8c7_jpg.rf.bbbc00035f4a66fa489487c029cb1dad.jpg: ignoring corrupt image/label: Label class 6 exceeds dataset class count 1. Possible class labels are 0-0\n",
      "\u001b[34m\u001b[1mval: \u001b[0mWARNING ⚠️ /home/rocky/FindMyCat/scratchCat1/datasets/combined-dataset/valid/images/2013010711390213123_jpg.rf.9ab468cd1d338ca599a96ef4b7ecfd28.jpg: ignoring corrupt image/label: Label class 3 exceeds dataset class count 1. Possible class labels are 0-0\n",
      "\u001b[34m\u001b[1mval: \u001b[0mWARNING ⚠️ /home/rocky/FindMyCat/scratchCat1/datasets/combined-dataset/valid/images/2013010711390213124_jpg.rf.da4f1e5e5ae484fb2a7fc38366c0a5ff.jpg: ignoring corrupt image/label: Label class 2 exceeds dataset class count 1. Possible class labels are 0-0\n",
      "\u001b[34m\u001b[1mval: \u001b[0mWARNING ⚠️ /home/rocky/FindMyCat/scratchCat1/datasets/combined-dataset/valid/images/300eb14f-9d9e-4c04-88c9-239dd498a044_jpg.rf.c0569dc7f1f8bdaa362b043f44d0900f.jpg: ignoring corrupt image/label: Label class 5 exceeds dataset class count 1. Possible class labels are 0-0\n",
      "\u001b[34m\u001b[1mval: \u001b[0mWARNING ⚠️ /home/rocky/FindMyCat/scratchCat1/datasets/combined-dataset/valid/images/3bd0ff4f-aa2e-455c-a6c6-bbe74394ccee_jpg.rf.ddda68d0f0b61dbc211febcc8f00c42b.jpg: ignoring corrupt image/label: Label class 5 exceeds dataset class count 1. Possible class labels are 0-0\n",
      "\u001b[34m\u001b[1mval: \u001b[0mWARNING ⚠️ /home/rocky/FindMyCat/scratchCat1/datasets/combined-dataset/valid/images/467e8444-fd26-4159-90a7-9b9b72373893_jpg.rf.9f454cb70bfa16c42f9bea55bc6fd321.jpg: ignoring corrupt image/label: Label class 5 exceeds dataset class count 1. Possible class labels are 0-0\n",
      "\u001b[34m\u001b[1mval: \u001b[0mWARNING ⚠️ /home/rocky/FindMyCat/scratchCat1/datasets/combined-dataset/valid/images/47c90418-00fe-4be3-b039-f91662464c77_jpg.rf.4082860860a59b94369edb496e7111ed.jpg: ignoring corrupt image/label: Label class 5 exceeds dataset class count 1. Possible class labels are 0-0\n",
      "\u001b[34m\u001b[1mval: \u001b[0mWARNING ⚠️ /home/rocky/FindMyCat/scratchCat1/datasets/combined-dataset/valid/images/4b990882-65fa-44c8-884d-6fbfb70f86d1_jpg.rf.9eaa139348b03595fa64b115f872a5bd.jpg: ignoring corrupt image/label: Label class 5 exceeds dataset class count 1. Possible class labels are 0-0\n",
      "\u001b[34m\u001b[1mval: \u001b[0mWARNING ⚠️ /home/rocky/FindMyCat/scratchCat1/datasets/combined-dataset/valid/images/66cde5da-86ee-4010-8af3-58a6ee2a15d1_jpg.rf.5ab069100532ce9cf8a2a10292f49b29.jpg: ignoring corrupt image/label: Label class 5 exceeds dataset class count 1. Possible class labels are 0-0\n",
      "\u001b[34m\u001b[1mval: \u001b[0mWARNING ⚠️ /home/rocky/FindMyCat/scratchCat1/datasets/combined-dataset/valid/images/7c86113a-2db6-4068-a2c2-fd426f369509_jpg.rf.d2eaf528b21ac5dd6436dc274147c294.jpg: ignoring corrupt image/label: Label class 5 exceeds dataset class count 1. Possible class labels are 0-0\n",
      "\u001b[34m\u001b[1mval: \u001b[0mWARNING ⚠️ /home/rocky/FindMyCat/scratchCat1/datasets/combined-dataset/valid/images/7e335748-8d9a-48a3-a89b-46d2560d7138_jpg.rf.e1600b2a35535e340f9221a203a61047.jpg: ignoring corrupt image/label: Label class 5 exceeds dataset class count 1. Possible class labels are 0-0\n",
      "\u001b[34m\u001b[1mval: \u001b[0mWARNING ⚠️ /home/rocky/FindMyCat/scratchCat1/datasets/combined-dataset/valid/images/813fd3f6-58b7-4969-880b-f1624ab7d4a8_jpg.rf.b623d3db7c5f7015357e2c42ccffc9b0.jpg: ignoring corrupt image/label: Label class 5 exceeds dataset class count 1. Possible class labels are 0-0\n",
      "\u001b[34m\u001b[1mval: \u001b[0mWARNING ⚠️ /home/rocky/FindMyCat/scratchCat1/datasets/combined-dataset/valid/images/8d10072c-59d2-4cce-a182-a5613ac17ddd_jpg.rf.c1b191cc11ab60e95aef5abace985037.jpg: ignoring corrupt image/label: Label class 5 exceeds dataset class count 1. Possible class labels are 0-0\n",
      "\u001b[34m\u001b[1mval: \u001b[0mWARNING ⚠️ /home/rocky/FindMyCat/scratchCat1/datasets/combined-dataset/valid/images/a0ecc4e8-6fc2-4b37-b080-d5e61b7b711e_jpg.rf.ee74691e6ba4e44c3184895223ed2555.jpg: ignoring corrupt image/label: Label class 5 exceeds dataset class count 1. Possible class labels are 0-0\n",
      "\u001b[34m\u001b[1mval: \u001b[0mWARNING ⚠️ /home/rocky/FindMyCat/scratchCat1/datasets/combined-dataset/valid/images/cb9eea71-4f06-47ed-ad11-4ea47873fb0b_jpg.rf.d029410b5c2c61ce39ddc4fd55d36c34.jpg: ignoring corrupt image/label: Label class 5 exceeds dataset class count 1. Possible class labels are 0-0\n",
      "\u001b[34m\u001b[1mval: \u001b[0mWARNING ⚠️ /home/rocky/FindMyCat/scratchCat1/datasets/combined-dataset/valid/images/df4f909c-df85-433a-912e-cef28eef8a51_jpg.rf.b666b4dc0f1f8b8058ddbd82ad6ea764.jpg: ignoring corrupt image/label: Label class 5 exceeds dataset class count 1. Possible class labels are 0-0\n",
      "\u001b[34m\u001b[1mval: \u001b[0mWARNING ⚠️ /home/rocky/FindMyCat/scratchCat1/datasets/combined-dataset/valid/images/e1e1060d-a30d-4478-a0b7-129b0ee51b6a_jpg.rf.aedebbad5be083ec68d4381cd3e279ac.jpg: ignoring corrupt image/label: Label class 2 exceeds dataset class count 1. Possible class labels are 0-0\n",
      "\u001b[34m\u001b[1mval: \u001b[0mWARNING ⚠️ /home/rocky/FindMyCat/scratchCat1/datasets/combined-dataset/valid/images/e97cfc98-4841-4eb7-aa8b-b63723202f88_jpg.rf.a1bb69fa89a6f191eef84dae5599ab9a.jpg: ignoring corrupt image/label: Label class 5 exceeds dataset class count 1. Possible class labels are 0-0\n",
      "\u001b[34m\u001b[1mval: \u001b[0mWARNING ⚠️ /home/rocky/FindMyCat/scratchCat1/datasets/combined-dataset/valid/images/f37acafd-5b07-42e3-9990-cdfbd8ba4ff8_jpg.rf.d7f32b8b2bb0de175bde7b1e04a82395.jpg: ignoring corrupt image/label: Label class 5 exceeds dataset class count 1. Possible class labels are 0-0\n",
      "\u001b[34m\u001b[1mval: \u001b[0mWARNING ⚠️ /home/rocky/FindMyCat/scratchCat1/datasets/combined-dataset/valid/images/gayka-1_jpg.rf.3e9fc52aed3fcba987b78aee5c650efc.jpg: ignoring corrupt image/label: Label class 5 exceeds dataset class count 1. Possible class labels are 0-0\n",
      "\u001b[34m\u001b[1mval: \u001b[0mWARNING ⚠️ /home/rocky/FindMyCat/scratchCat1/datasets/combined-dataset/valid/images/yt-UR66VgcaFUk-0009_jpg.rf.f93d61b5886669a719af9ea11349a8a2.jpg: ignoring corrupt image/label: Label class 5 exceeds dataset class count 1. Possible class labels are 0-0\n",
      "\u001b[34m\u001b[1mval: \u001b[0mWARNING ⚠️ /home/rocky/FindMyCat/scratchCat1/datasets/combined-dataset/valid/images/yt-UR66VgcaFUk-0013_jpg.rf.f040b5f00b849c57df74262e5ffc4d24.jpg: ignoring corrupt image/label: Label class 5 exceeds dataset class count 1. Possible class labels are 0-0\n",
      "\u001b[34m\u001b[1mval: \u001b[0mWARNING ⚠️ /home/rocky/FindMyCat/scratchCat1/datasets/combined-dataset/valid/images/yt-UR66VgcaFUk-0026_jpg.rf.e889f2a741b89a8755c78d6f0e174e50.jpg: ignoring corrupt image/label: Label class 5 exceeds dataset class count 1. Possible class labels are 0-0\n",
      "\u001b[34m\u001b[1mval: \u001b[0mWARNING ⚠️ /home/rocky/FindMyCat/scratchCat1/datasets/combined-dataset/valid/images/yt-UR66VgcaFUk-0033_jpg.rf.7179100557facb90a407d50ef69d16d6.jpg: ignoring corrupt image/label: Label class 2 exceeds dataset class count 1. Possible class labels are 0-0\n",
      "\u001b[34m\u001b[1mval: \u001b[0mWARNING ⚠️ /home/rocky/FindMyCat/scratchCat1/datasets/combined-dataset/valid/images/yt-UR66VgcaFUk-0034_jpg.rf.4dd2ecd693e7a896be68d769cefee220.jpg: ignoring corrupt image/label: Label class 5 exceeds dataset class count 1. Possible class labels are 0-0\n",
      "\u001b[34m\u001b[1mval: \u001b[0mWARNING ⚠️ /home/rocky/FindMyCat/scratchCat1/datasets/combined-dataset/valid/images/yt-UR66VgcaFUk-0039_jpg.rf.fcd368a4d4521d6e52fb454ffad25f8e.jpg: ignoring corrupt image/label: Label class 6 exceeds dataset class count 1. Possible class labels are 0-0\n",
      "\u001b[34m\u001b[1mval: \u001b[0mWARNING ⚠️ /home/rocky/FindMyCat/scratchCat1/datasets/combined-dataset/valid/images/yt-UR66VgcaFUk-0043_jpg.rf.09ba0be63be8573bf8c1071b9e957eed.jpg: ignoring corrupt image/label: Label class 5 exceeds dataset class count 1. Possible class labels are 0-0\n",
      "\u001b[34m\u001b[1mval: \u001b[0mWARNING ⚠️ /home/rocky/FindMyCat/scratchCat1/datasets/combined-dataset/valid/images/yt-UR66VgcaFUk-0054_jpg.rf.2d3cc88c369f00c2c05b86f0a5731cea.jpg: ignoring corrupt image/label: Label class 5 exceeds dataset class count 1. Possible class labels are 0-0\n",
      "\u001b[34m\u001b[1mval: \u001b[0mWARNING ⚠️ /home/rocky/FindMyCat/scratchCat1/datasets/combined-dataset/valid/images/yt-gY0YK6xEeGY-0001_jpg.rf.f783e1c6624b1b0302312cd132999b6c.jpg: ignoring corrupt image/label: Label class 2 exceeds dataset class count 1. Possible class labels are 0-0\n",
      "\u001b[34m\u001b[1mval: \u001b[0mWARNING ⚠️ /home/rocky/FindMyCat/scratchCat1/datasets/combined-dataset/valid/images/yt-gY0YK6xEeGY-0009_jpg.rf.1755b97ff90cbc27379fa7fcef0b28e7.jpg: ignoring corrupt image/label: Label class 2 exceeds dataset class count 1. Possible class labels are 0-0\n",
      "\u001b[34m\u001b[1mval: \u001b[0mWARNING ⚠️ /home/rocky/FindMyCat/scratchCat1/datasets/combined-dataset/valid/images/yt-gY0YK6xEeGY-0011_jpg.rf.41e760808ca7071a01dcd2aeb57ac126.jpg: ignoring corrupt image/label: Label class 2 exceeds dataset class count 1. Possible class labels are 0-0\n",
      "\u001b[34m\u001b[1mval: \u001b[0mNew cache created: /home/rocky/FindMyCat/scratchCat1/datasets/combined-dataset/valid/labels.cache\n",
      "WARNING ⚠️ cache='ram' may produce non-deterministic training results. Consider cache='disk' as a deterministic alternative if your disk space allows.\n"
     ]
    },
    {
     "name": "stderr",
     "output_type": "stream",
     "text": [
      "\u001b[34m\u001b[1mval: \u001b[0mCaching images (3.3GB RAM): 100%|██████████| 2844/2844 [00:02<00:00, 1315.84it/s]\u001b[0m\n",
      "[codecarbon INFO @ 14:39:05] Energy consumed for RAM : 0.000541 kWh. RAM Power : 42.987337589263916 W\n",
      "[codecarbon INFO @ 14:39:05] Energy consumed for all GPUs : 0.000755 kWh. Total GPU Power : 56.76380009589173 W\n",
      "[codecarbon INFO @ 14:39:05] Energy consumed for all CPUs : 0.000542 kWh. Total CPU Power : 42.5 W\n",
      "[codecarbon INFO @ 14:39:05] 0.001839 kWh of electricity used since the beginning.\n"
     ]
    },
    {
     "name": "stdout",
     "output_type": "stream",
     "text": [
      "Plotting labels to runs/detect/train/labels.jpg... \n",
      "\u001b[34m\u001b[1moptimizer:\u001b[0m 'optimizer=auto' found, ignoring 'lr0=0.01' and 'momentum=0.937' and determining best 'optimizer', 'lr0' and 'momentum' automatically... \n",
      "\u001b[34m\u001b[1moptimizer:\u001b[0m SGD(lr=0.01, momentum=0.9) with parameter groups 149 weight(decay=0.0), 156 weight(decay=0.00059375), 155 bias(decay=0.0)\n"
     ]
    },
    {
     "name": "stderr",
     "output_type": "stream",
     "text": [
      "[codecarbon INFO @ 14:39:20] Energy consumed for RAM : 0.000716 kWh. RAM Power : 42.987337589263916 W\n",
      "[codecarbon INFO @ 14:39:20] Energy consumed for all GPUs : 0.000987 kWh. Total GPU Power : 56.949941424182086 W\n",
      "[codecarbon INFO @ 14:39:20] Energy consumed for all CPUs : 0.000715 kWh. Total CPU Power : 42.5 W\n",
      "[codecarbon INFO @ 14:39:20] 0.002418 kWh of electricity used since the beginning.\n"
     ]
    },
    {
     "name": "stdout",
     "output_type": "stream",
     "text": [
      "\u001b[34m\u001b[1mTensorBoard: \u001b[0mmodel graph visualization added ✅\n",
      "Image sizes 640 train, 640 val\n",
      "Using 8 dataloader workers\n",
      "Logging results to \u001b[1mruns/detect/train\u001b[0m\n",
      "Starting training for 100 epochs...\n",
      "\n",
      "      Epoch    GPU_mem   box_loss   cls_loss   dfl_loss  Instances       Size\n"
     ]
    },
    {
     "name": "stderr",
     "output_type": "stream",
     "text": [
      "      1/100      38.1G      1.145      2.885      1.612        187        640:   5%|▌         | 8/156 [00:06<01:42,  1.45it/s][codecarbon INFO @ 14:39:35] Energy consumed for RAM : 0.000895 kWh. RAM Power : 42.987337589263916 W\n",
      "[codecarbon INFO @ 14:39:35] Energy consumed for all GPUs : 0.001500 kWh. Total GPU Power : 123.37716696091114 W\n",
      "[codecarbon INFO @ 14:39:35] Energy consumed for all CPUs : 0.000892 kWh. Total CPU Power : 42.5 W\n",
      "[codecarbon INFO @ 14:39:35] 0.003287 kWh of electricity used since the beginning.\n",
      "      1/100      38.1G      1.117      2.241      1.621        196        640:  20%|█▉        | 31/156 [00:21<01:21,  1.53it/s][codecarbon INFO @ 14:39:50] Energy consumed for RAM : 0.001074 kWh. RAM Power : 42.987337589263916 W\n",
      "[codecarbon INFO @ 14:39:50] Energy consumed for all GPUs : 0.002533 kWh. Total GPU Power : 247.84039669542858 W\n",
      "[codecarbon INFO @ 14:39:50] Energy consumed for all CPUs : 0.001069 kWh. Total CPU Power : 42.5 W\n",
      "[codecarbon INFO @ 14:39:50] 0.004676 kWh of electricity used since the beginning.\n",
      "      1/100      38.1G      1.052      1.809       1.57        167        640:  35%|███▍      | 54/156 [00:36<01:06,  1.53it/s][codecarbon INFO @ 14:40:05] Energy consumed for RAM : 0.001253 kWh. RAM Power : 42.987337589263916 W\n",
      "[codecarbon INFO @ 14:40:05] Energy consumed for all GPUs : 0.003583 kWh. Total GPU Power : 252.08263971485383 W\n",
      "[codecarbon INFO @ 14:40:05] Energy consumed for all CPUs : 0.001246 kWh. Total CPU Power : 42.5 W\n",
      "[codecarbon INFO @ 14:40:05] 0.006082 kWh of electricity used since the beginning.\n",
      "      1/100      38.1G     0.9984      1.557      1.523        180        640:  49%|████▉     | 77/156 [00:51<00:51,  1.53it/s][codecarbon INFO @ 14:40:20] Energy consumed for RAM : 0.001432 kWh. RAM Power : 42.987337589263916 W\n",
      "[codecarbon INFO @ 14:40:20] Energy consumed for all GPUs : 0.004644 kWh. Total GPU Power : 254.64002118276125 W\n",
      "[codecarbon INFO @ 14:40:20] Energy consumed for all CPUs : 0.001423 kWh. Total CPU Power : 42.5 W\n",
      "[codecarbon INFO @ 14:40:20] 0.007499 kWh of electricity used since the beginning.\n",
      "[codecarbon ERROR @ 14:40:20] Region:  not found for Country with ISO CODE : USA\n",
      "Traceback (most recent call last):\n",
      "  File \"/home/rocky/miniconda3/envs/jupyterlab/lib/python3.12/site-packages/codecarbon/core/emissions.py\", line 142, in get_private_infra_emissions\n",
      "    return self.get_region_emissions(energy, geo)\n",
      "           ^^^^^^^^^^^^^^^^^^^^^^^^^^^^^^^^^^^^^^\n",
      "  File \"/home/rocky/miniconda3/envs/jupyterlab/lib/python3.12/site-packages/codecarbon/core/emissions.py\", line 168, in get_region_emissions\n",
      "    raise ValueError(\n",
      "ValueError: Region:  not found for Country with ISO CODE : USA\n",
      "[codecarbon WARNING @ 14:40:20] Regional emissions retrieval failed. Falling back on country emissions.\n",
      "[codecarbon INFO @ 14:40:20] 0.022982 g.CO2eq/s mean an estimation of 724.7745275619766 kg.CO2eq/year\n",
      "      1/100      38.1G     0.9509      1.384      1.481        172        640:  64%|██████▍   | 100/156 [01:06<00:36,  1.53it/s][codecarbon INFO @ 14:40:35] Energy consumed for RAM : 0.001611 kWh. RAM Power : 42.987337589263916 W\n",
      "[codecarbon INFO @ 14:40:35] Energy consumed for all GPUs : 0.005713 kWh. Total GPU Power : 256.7347358771157 W\n",
      "[codecarbon INFO @ 14:40:35] Energy consumed for all CPUs : 0.001600 kWh. Total CPU Power : 42.5 W\n",
      "[codecarbon INFO @ 14:40:35] 0.008925 kWh of electricity used since the beginning.\n",
      "      1/100      38.1G     0.9131      1.263      1.446        186        640:  79%|███████▉  | 123/156 [01:21<00:21,  1.53it/s][codecarbon INFO @ 14:40:50] Energy consumed for RAM : 0.001790 kWh. RAM Power : 42.987337589263916 W\n",
      "[codecarbon INFO @ 14:40:50] Energy consumed for all GPUs : 0.006780 kWh. Total GPU Power : 256.1037679706306 W\n",
      "[codecarbon INFO @ 14:40:50] Energy consumed for all CPUs : 0.001777 kWh. Total CPU Power : 42.5 W\n",
      "[codecarbon INFO @ 14:40:50] 0.010348 kWh of electricity used since the beginning.\n",
      "      1/100      38.1G     0.8838      1.167      1.418        206        640:  94%|█████████▎| 146/156 [01:36<00:06,  1.53it/s][codecarbon INFO @ 14:41:05] Energy consumed for RAM : 0.001969 kWh. RAM Power : 42.987337589263916 W\n",
      "[codecarbon INFO @ 14:41:05] Energy consumed for all GPUs : 0.007858 kWh. Total GPU Power : 258.9425530011864 W\n",
      "[codecarbon INFO @ 14:41:05] Energy consumed for all CPUs : 0.001954 kWh. Total CPU Power : 42.5 W\n",
      "[codecarbon INFO @ 14:41:05] 0.011782 kWh of electricity used since the beginning.\n",
      "      1/100      38.1G     0.8745      1.134      1.409         26        640: 100%|██████████| 156/156 [01:42<00:00,  1.52it/s]\n",
      "                 Class     Images  Instances      Box(P          R      mAP50  mAP50-95):  68%|██████▊   | 13/19 [00:08<00:03,  1.60it/s][codecarbon INFO @ 14:41:20] Energy consumed for RAM : 0.002148 kWh. RAM Power : 42.987337589263916 W\n",
      "[codecarbon INFO @ 14:41:20] Energy consumed for all GPUs : 0.008814 kWh. Total GPU Power : 229.48716497635968 W\n",
      "[codecarbon INFO @ 14:41:20] Energy consumed for all CPUs : 0.002132 kWh. Total CPU Power : 42.5 W\n",
      "[codecarbon INFO @ 14:41:20] 0.013094 kWh of electricity used since the beginning.\n",
      "                 Class     Images  Instances      Box(P          R      mAP50  mAP50-95): 100%|██████████| 19/19 [00:11<00:00,  1.58it/s]"
     ]
    },
    {
     "name": "stdout",
     "output_type": "stream",
     "text": [
      "                   all       2844       3135      0.724      0.765      0.772      0.563\n"
     ]
    },
    {
     "name": "stderr",
     "output_type": "stream",
     "text": [
      "\n"
     ]
    },
    {
     "name": "stdout",
     "output_type": "stream",
     "text": [
      "\n",
      "      Epoch    GPU_mem   box_loss   cls_loss   dfl_loss  Instances       Size\n"
     ]
    },
    {
     "name": "stderr",
     "output_type": "stream",
     "text": [
      "      2/100        38G     0.7148     0.6225      1.251        180        640:  10%|▉         | 15/156 [00:09<01:32,  1.53it/s][codecarbon INFO @ 14:41:35] Energy consumed for RAM : 0.002327 kWh. RAM Power : 42.987337589263916 W\n",
      "[codecarbon INFO @ 14:41:35] Energy consumed for all GPUs : 0.009732 kWh. Total GPU Power : 220.63009031139566 W\n",
      "[codecarbon INFO @ 14:41:35] Energy consumed for all CPUs : 0.002308 kWh. Total CPU Power : 42.5 W\n",
      "[codecarbon INFO @ 14:41:35] 0.014367 kWh of electricity used since the beginning.\n",
      "      2/100        38G     0.7217     0.6165      1.242        146        640:  24%|██▍       | 38/156 [00:24<01:17,  1.53it/s][codecarbon INFO @ 14:41:50] Energy consumed for RAM : 0.002506 kWh. RAM Power : 42.987337589263916 W\n",
      "[codecarbon INFO @ 14:41:50] Energy consumed for all GPUs : 0.010801 kWh. Total GPU Power : 256.7905150474663 W\n",
      "[codecarbon INFO @ 14:41:50] Energy consumed for all CPUs : 0.002486 kWh. Total CPU Power : 42.5 W\n",
      "[codecarbon INFO @ 14:41:50] 0.015793 kWh of electricity used since the beginning.\n",
      "      2/100        38G     0.7192     0.6098      1.235        188        640:  38%|███▊      | 60/156 [00:39<01:03,  1.52it/s][codecarbon INFO @ 14:42:05] Energy consumed for RAM : 0.002685 kWh. RAM Power : 42.987337589263916 W\n",
      "[codecarbon INFO @ 14:42:05] Energy consumed for all GPUs : 0.011871 kWh. Total GPU Power : 256.8882085513809 W\n",
      "[codecarbon INFO @ 14:42:05] Energy consumed for all CPUs : 0.002663 kWh. Total CPU Power : 42.5 W\n",
      "[codecarbon INFO @ 14:42:05] 0.017219 kWh of electricity used since the beginning.\n",
      "      2/100        38G     0.7161     0.6028      1.233        184        640:  53%|█████▎    | 83/156 [00:54<00:47,  1.53it/s][codecarbon INFO @ 14:42:20] Energy consumed for RAM : 0.002864 kWh. RAM Power : 42.987337589263916 W\n",
      "[codecarbon INFO @ 14:42:20] Energy consumed for all GPUs : 0.012939 kWh. Total GPU Power : 256.31425698639646 W\n",
      "[codecarbon INFO @ 14:42:20] Energy consumed for all CPUs : 0.002840 kWh. Total CPU Power : 42.5 W\n",
      "[codecarbon INFO @ 14:42:20] 0.018643 kWh of electricity used since the beginning.\n",
      "[codecarbon ERROR @ 14:42:20] Region:  not found for Country with ISO CODE : USA\n",
      "Traceback (most recent call last):\n",
      "  File \"/home/rocky/miniconda3/envs/jupyterlab/lib/python3.12/site-packages/codecarbon/core/emissions.py\", line 142, in get_private_infra_emissions\n",
      "    return self.get_region_emissions(energy, geo)\n",
      "           ^^^^^^^^^^^^^^^^^^^^^^^^^^^^^^^^^^^^^^\n",
      "  File \"/home/rocky/miniconda3/envs/jupyterlab/lib/python3.12/site-packages/codecarbon/core/emissions.py\", line 168, in get_region_emissions\n",
      "    raise ValueError(\n",
      "ValueError: Region:  not found for Country with ISO CODE : USA\n",
      "[codecarbon WARNING @ 14:42:20] Regional emissions retrieval failed. Falling back on country emissions.\n",
      "[codecarbon INFO @ 14:42:20] 0.034308 g.CO2eq/s mean an estimation of 1,081.9414878654557 kg.CO2eq/year\n",
      "      2/100        38G     0.7164        0.6      1.236        175        640:  68%|██████▊   | 106/156 [01:09<00:32,  1.52it/s][codecarbon INFO @ 14:42:35] Energy consumed for RAM : 0.003043 kWh. RAM Power : 42.987337589263916 W\n",
      "[codecarbon INFO @ 14:42:35] Energy consumed for all GPUs : 0.014011 kWh. Total GPU Power : 257.3870048510521 W\n",
      "[codecarbon INFO @ 14:42:35] Energy consumed for all CPUs : 0.003017 kWh. Total CPU Power : 42.5 W\n",
      "[codecarbon INFO @ 14:42:35] 0.020071 kWh of electricity used since the beginning.\n",
      "      2/100        38G     0.7197     0.6015       1.24        163        640:  83%|████████▎ | 129/156 [01:24<00:17,  1.53it/s][codecarbon INFO @ 14:42:50] Energy consumed for RAM : 0.003222 kWh. RAM Power : 42.987337589263916 W\n",
      "[codecarbon INFO @ 14:42:50] Energy consumed for all GPUs : 0.015083 kWh. Total GPU Power : 257.41675507152763 W\n",
      "[codecarbon INFO @ 14:42:50] Energy consumed for all CPUs : 0.003194 kWh. Total CPU Power : 42.5 W\n",
      "[codecarbon INFO @ 14:42:50] 0.021499 kWh of electricity used since the beginning.\n",
      "      2/100        38G     0.7208     0.6039      1.242        170        640:  97%|█████████▋| 152/156 [01:39<00:02,  1.53it/s][codecarbon INFO @ 14:43:05] Energy consumed for RAM : 0.003401 kWh. RAM Power : 42.987337589263916 W\n",
      "[codecarbon INFO @ 14:43:05] Energy consumed for all GPUs : 0.016160 kWh. Total GPU Power : 258.5618534723946 W\n",
      "[codecarbon INFO @ 14:43:05] Energy consumed for all CPUs : 0.003371 kWh. Total CPU Power : 42.5 W\n",
      "[codecarbon INFO @ 14:43:05] 0.022932 kWh of electricity used since the beginning.\n",
      "      2/100        38G     0.7222     0.6046      1.242         24        640: 100%|██████████| 156/156 [01:41<00:00,  1.53it/s]\n",
      "                 Class     Images  Instances      Box(P          R      mAP50  mAP50-95): 100%|██████████| 19/19 [00:12<00:00,  1.58it/s]"
     ]
    },
    {
     "name": "stdout",
     "output_type": "stream",
     "text": [
      "                   all       2844       3135      0.855      0.749      0.832      0.584\n"
     ]
    },
    {
     "name": "stderr",
     "output_type": "stream",
     "text": [
      "\n"
     ]
    },
    {
     "name": "stdout",
     "output_type": "stream",
     "text": [
      "\n",
      "      Epoch    GPU_mem   box_loss   cls_loss   dfl_loss  Instances       Size\n"
     ]
    },
    {
     "name": "stderr",
     "output_type": "stream",
     "text": [
      "  0%|          | 0/156 [00:00<?, ?it/s][codecarbon INFO @ 14:43:20] Energy consumed for RAM : 0.003580 kWh. RAM Power : 42.987337589263916 W\n",
      "[codecarbon INFO @ 14:43:20] Energy consumed for all GPUs : 0.017029 kWh. Total GPU Power : 208.55951208714873 W\n",
      "[codecarbon INFO @ 14:43:20] Energy consumed for all CPUs : 0.003548 kWh. Total CPU Power : 42.5 W\n",
      "[codecarbon INFO @ 14:43:20] 0.024157 kWh of electricity used since the beginning.\n",
      "      3/100      37.9G     0.7535     0.6217      1.273        167        640:  15%|█▍        | 23/156 [00:15<01:26,  1.53it/s][codecarbon INFO @ 14:43:35] Energy consumed for RAM : 0.003759 kWh. RAM Power : 42.987337589263916 W\n",
      "[codecarbon INFO @ 14:43:35] Energy consumed for all GPUs : 0.018101 kWh. Total GPU Power : 257.41648130127857 W\n",
      "[codecarbon INFO @ 14:43:35] Energy consumed for all CPUs : 0.003725 kWh. Total CPU Power : 42.5 W\n",
      "[codecarbon INFO @ 14:43:35] 0.025586 kWh of electricity used since the beginning.\n",
      "      3/100      37.9G     0.7543     0.6321       1.28        187        640:  29%|██▉       | 46/156 [00:30<01:11,  1.53it/s][codecarbon INFO @ 14:43:50] Energy consumed for RAM : 0.003938 kWh. RAM Power : 42.987337589263916 W\n",
      "[codecarbon INFO @ 14:43:50] Energy consumed for all GPUs : 0.019173 kWh. Total GPU Power : 257.3592970330389 W\n",
      "[codecarbon INFO @ 14:43:50] Energy consumed for all CPUs : 0.003902 kWh. Total CPU Power : 42.5 W\n",
      "[codecarbon INFO @ 14:43:50] 0.027014 kWh of electricity used since the beginning.\n",
      "      3/100      37.9G     0.7562     0.6442      1.289        178        640:  44%|████▍     | 69/156 [00:45<00:56,  1.53it/s][codecarbon INFO @ 14:44:05] Energy consumed for RAM : 0.004117 kWh. RAM Power : 42.987337589263916 W\n",
      "[codecarbon INFO @ 14:44:05] Energy consumed for all GPUs : 0.020247 kWh. Total GPU Power : 257.7655848947404 W\n",
      "[codecarbon INFO @ 14:44:05] Energy consumed for all CPUs : 0.004079 kWh. Total CPU Power : 42.5 W\n",
      "[codecarbon INFO @ 14:44:05] 0.028444 kWh of electricity used since the beginning.\n",
      "      3/100      37.9G     0.7674     0.6494      1.294        188        640:  59%|█████▉    | 92/156 [01:00<00:41,  1.53it/s][codecarbon INFO @ 14:44:20] Energy consumed for RAM : 0.004296 kWh. RAM Power : 42.987337589263916 W\n",
      "[codecarbon INFO @ 14:44:20] Energy consumed for all GPUs : 0.021322 kWh. Total GPU Power : 258.0906315165338 W\n",
      "[codecarbon INFO @ 14:44:20] Energy consumed for all CPUs : 0.004256 kWh. Total CPU Power : 42.5 W\n",
      "[codecarbon INFO @ 14:44:20] 0.029875 kWh of electricity used since the beginning.\n",
      "[codecarbon ERROR @ 14:44:20] Region:  not found for Country with ISO CODE : USA\n",
      "Traceback (most recent call last):\n",
      "  File \"/home/rocky/miniconda3/envs/jupyterlab/lib/python3.12/site-packages/codecarbon/core/emissions.py\", line 142, in get_private_infra_emissions\n",
      "    return self.get_region_emissions(energy, geo)\n",
      "           ^^^^^^^^^^^^^^^^^^^^^^^^^^^^^^^^^^^^^^\n",
      "  File \"/home/rocky/miniconda3/envs/jupyterlab/lib/python3.12/site-packages/codecarbon/core/emissions.py\", line 168, in get_region_emissions\n",
      "    raise ValueError(\n",
      "ValueError: Region:  not found for Country with ISO CODE : USA\n",
      "[codecarbon WARNING @ 14:44:20] Regional emissions retrieval failed. Falling back on country emissions.\n",
      "[codecarbon INFO @ 14:44:20] 0.034582 g.CO2eq/s mean an estimation of 1,090.5878170025137 kg.CO2eq/year\n",
      "      3/100      37.9G     0.7783     0.6597        1.3        164        640:  73%|███████▎  | 114/156 [01:14<00:27,  1.53it/s][codecarbon INFO @ 14:44:35] Energy consumed for RAM : 0.004475 kWh. RAM Power : 42.987337589263916 W\n",
      "[codecarbon INFO @ 14:44:35] Energy consumed for all GPUs : 0.022401 kWh. Total GPU Power : 258.93289043216424 W\n",
      "[codecarbon INFO @ 14:44:35] Energy consumed for all CPUs : 0.004433 kWh. Total CPU Power : 42.5 W\n",
      "[codecarbon INFO @ 14:44:35] 0.031310 kWh of electricity used since the beginning.\n",
      "      3/100      37.9G     0.7948      0.676      1.309        167        640:  88%|████████▊ | 137/156 [01:29<00:12,  1.53it/s][codecarbon INFO @ 14:44:50] Energy consumed for RAM : 0.004654 kWh. RAM Power : 42.987337589263916 W\n",
      "[codecarbon INFO @ 14:44:50] Energy consumed for all GPUs : 0.023475 kWh. Total GPU Power : 257.85944758804845 W\n",
      "[codecarbon INFO @ 14:44:50] Energy consumed for all CPUs : 0.004610 kWh. Total CPU Power : 42.5 W\n",
      "[codecarbon INFO @ 14:44:50] 0.032740 kWh of electricity used since the beginning.\n",
      "      3/100      37.9G     0.8088     0.6894      1.319         28        640: 100%|██████████| 156/156 [01:41<00:00,  1.54it/s]\n",
      "                 Class     Images  Instances      Box(P          R      mAP50  mAP50-95):  26%|██▋       | 5/19 [00:03<00:08,  1.57it/s][codecarbon INFO @ 14:45:05] Energy consumed for RAM : 0.004834 kWh. RAM Power : 42.987337589263916 W\n",
      "[codecarbon INFO @ 14:45:05] Energy consumed for all GPUs : 0.024506 kWh. Total GPU Power : 247.61523765423047 W\n",
      "[codecarbon INFO @ 14:45:05] Energy consumed for all CPUs : 0.004788 kWh. Total CPU Power : 42.5 W\n",
      "[codecarbon INFO @ 14:45:05] 0.034127 kWh of electricity used since the beginning.\n",
      "                 Class     Images  Instances      Box(P          R      mAP50  mAP50-95): 100%|██████████| 19/19 [00:11<00:00,  1.62it/s]\n"
     ]
    },
    {
     "name": "stdout",
     "output_type": "stream",
     "text": [
      "                   all       2844       3135      0.125      0.152     0.0548     0.0207\n",
      "\n",
      "      Epoch    GPU_mem   box_loss   cls_loss   dfl_loss  Instances       Size\n"
     ]
    },
    {
     "name": "stderr",
     "output_type": "stream",
     "text": [
      "      4/100      37.9G     0.9552     0.8339      1.399        177        640:   4%|▍         | 7/156 [00:05<01:41,  1.46it/s][codecarbon INFO @ 14:45:20] Energy consumed for RAM : 0.005013 kWh. RAM Power : 42.987337589263916 W\n",
      "[codecarbon INFO @ 14:45:20] Energy consumed for all GPUs : 0.025391 kWh. Total GPU Power : 212.3833268434404 W\n",
      "[codecarbon INFO @ 14:45:20] Energy consumed for all CPUs : 0.004965 kWh. Total CPU Power : 42.5 W\n",
      "[codecarbon INFO @ 14:45:20] 0.035368 kWh of electricity used since the beginning.\n",
      "      4/100      37.9G      0.928     0.8025      1.384        164        640:  19%|█▉        | 30/156 [00:20<01:22,  1.53it/s][codecarbon INFO @ 14:45:35] Energy consumed for RAM : 0.005192 kWh. RAM Power : 42.987337589263916 W\n",
      "[codecarbon INFO @ 14:45:35] Energy consumed for all GPUs : 0.026465 kWh. Total GPU Power : 257.8877389898491 W\n",
      "[codecarbon INFO @ 14:45:35] Energy consumed for all CPUs : 0.005142 kWh. Total CPU Power : 42.5 W\n",
      "[codecarbon INFO @ 14:45:35] 0.036798 kWh of electricity used since the beginning.\n",
      "      4/100      37.9G     0.9145        0.8      1.373        184        640:  34%|███▍      | 53/156 [00:35<01:07,  1.52it/s][codecarbon INFO @ 14:45:50] Energy consumed for RAM : 0.005371 kWh. RAM Power : 42.987337589263916 W\n",
      "[codecarbon INFO @ 14:45:50] Energy consumed for all GPUs : 0.027531 kWh. Total GPU Power : 255.69092498072445 W\n",
      "[codecarbon INFO @ 14:45:50] Energy consumed for all CPUs : 0.005319 kWh. Total CPU Power : 42.5 W\n",
      "[codecarbon INFO @ 14:45:50] 0.038221 kWh of electricity used since the beginning.\n",
      "      4/100      37.9G     0.9011     0.7815       1.36        184        640:  49%|████▊     | 76/156 [00:50<00:52,  1.52it/s][codecarbon INFO @ 14:46:05] Energy consumed for RAM : 0.005550 kWh. RAM Power : 42.987337589263916 W\n",
      "[codecarbon INFO @ 14:46:05] Energy consumed for all GPUs : 0.028592 kWh. Total GPU Power : 254.73637322523956 W\n",
      "[codecarbon INFO @ 14:46:05] Energy consumed for all CPUs : 0.005496 kWh. Total CPU Power : 42.5 W\n",
      "[codecarbon INFO @ 14:46:05] 0.039638 kWh of electricity used since the beginning.\n",
      "      4/100      37.9G     0.9005     0.7836      1.361        164        640:  63%|██████▎   | 98/156 [01:05<00:38,  1.52it/s][codecarbon INFO @ 14:46:20] Energy consumed for RAM : 0.005729 kWh. RAM Power : 42.987337589263916 W\n",
      "[codecarbon INFO @ 14:46:20] Energy consumed for all GPUs : 0.029667 kWh. Total GPU Power : 257.92920360707177 W\n",
      "[codecarbon INFO @ 14:46:20] Energy consumed for all CPUs : 0.005673 kWh. Total CPU Power : 42.5 W\n",
      "[codecarbon INFO @ 14:46:20] 0.041068 kWh of electricity used since the beginning.\n",
      "[codecarbon ERROR @ 14:46:20] Region:  not found for Country with ISO CODE : USA\n",
      "Traceback (most recent call last):\n",
      "  File \"/home/rocky/miniconda3/envs/jupyterlab/lib/python3.12/site-packages/codecarbon/core/emissions.py\", line 142, in get_private_infra_emissions\n",
      "    return self.get_region_emissions(energy, geo)\n",
      "           ^^^^^^^^^^^^^^^^^^^^^^^^^^^^^^^^^^^^^^\n",
      "  File \"/home/rocky/miniconda3/envs/jupyterlab/lib/python3.12/site-packages/codecarbon/core/emissions.py\", line 168, in get_region_emissions\n",
      "    raise ValueError(\n",
      "ValueError: Region:  not found for Country with ISO CODE : USA\n",
      "[codecarbon WARNING @ 14:46:20] Regional emissions retrieval failed. Falling back on country emissions.\n",
      "[codecarbon INFO @ 14:46:20] 0.034460 g.CO2eq/s mean an estimation of 1,086.732600429905 kg.CO2eq/year\n",
      "      4/100      37.9G     0.8909     0.7765      1.356        189        640:  78%|███████▊  | 121/156 [01:20<00:23,  1.52it/s][codecarbon INFO @ 14:46:35] Energy consumed for RAM : 0.005908 kWh. RAM Power : 42.987337589263916 W\n",
      "[codecarbon INFO @ 14:46:35] Energy consumed for all GPUs : 0.030734 kWh. Total GPU Power : 256.2932702498015 W\n",
      "[codecarbon INFO @ 14:46:35] Energy consumed for all CPUs : 0.005850 kWh. Total CPU Power : 42.5 W\n",
      "[codecarbon INFO @ 14:46:35] 0.042492 kWh of electricity used since the beginning.\n",
      "      4/100      37.9G     0.8835     0.7689       1.35        183        640:  92%|█████████▏| 144/156 [01:35<00:07,  1.51it/s][codecarbon INFO @ 14:46:50] Energy consumed for RAM : 0.006087 kWh. RAM Power : 42.987337589263916 W\n",
      "[codecarbon INFO @ 14:46:50] Energy consumed for all GPUs : 0.031801 kWh. Total GPU Power : 256.2558638061701 W\n",
      "[codecarbon INFO @ 14:46:50] Energy consumed for all CPUs : 0.006027 kWh. Total CPU Power : 42.5 W\n",
      "[codecarbon INFO @ 14:46:50] 0.043916 kWh of electricity used since the beginning.\n",
      "      4/100      37.9G     0.8791     0.7636      1.348         18        640: 100%|██████████| 156/156 [01:42<00:00,  1.52it/s]\n",
      "                 Class     Images  Instances      Box(P          R      mAP50  mAP50-95):  63%|██████▎   | 12/19 [00:07<00:04,  1.62it/s][codecarbon INFO @ 14:47:05] Energy consumed for RAM : 0.006266 kWh. RAM Power : 42.987337589263916 W\n",
      "[codecarbon INFO @ 14:47:05] Energy consumed for all GPUs : 0.032787 kWh. Total GPU Power : 236.5654934600838 W\n",
      "[codecarbon INFO @ 14:47:05] Energy consumed for all CPUs : 0.006204 kWh. Total CPU Power : 42.5 W\n",
      "[codecarbon INFO @ 14:47:05] 0.045257 kWh of electricity used since the beginning.\n",
      "                 Class     Images  Instances      Box(P          R      mAP50  mAP50-95): 100%|██████████| 19/19 [00:11<00:00,  1.63it/s]"
     ]
    },
    {
     "name": "stdout",
     "output_type": "stream",
     "text": [
      "                   all       2844       3135      0.518      0.565      0.471      0.229\n"
     ]
    },
    {
     "name": "stderr",
     "output_type": "stream",
     "text": [
      "\n"
     ]
    },
    {
     "name": "stdout",
     "output_type": "stream",
     "text": [
      "\n",
      "      Epoch    GPU_mem   box_loss   cls_loss   dfl_loss  Instances       Size\n"
     ]
    },
    {
     "name": "stderr",
     "output_type": "stream",
     "text": [
      "      5/100        38G     0.8353     0.6938      1.305        158        640:   9%|▉         | 14/156 [00:09<01:33,  1.52it/s][codecarbon INFO @ 14:47:20] Energy consumed for RAM : 0.006445 kWh. RAM Power : 42.987337589263916 W\n",
      "[codecarbon INFO @ 14:47:20] Energy consumed for all GPUs : 0.033724 kWh. Total GPU Power : 224.90908778289756 W\n",
      "[codecarbon INFO @ 14:47:20] Energy consumed for all CPUs : 0.006381 kWh. Total CPU Power : 42.5 W\n",
      "[codecarbon INFO @ 14:47:20] 0.046550 kWh of electricity used since the beginning.\n",
      "      5/100        38G     0.8238      0.688      1.306        167        640:  24%|██▎       | 37/156 [00:24<01:18,  1.53it/s][codecarbon INFO @ 14:47:35] Energy consumed for RAM : 0.006624 kWh. RAM Power : 42.987337589263916 W\n",
      "[codecarbon INFO @ 14:47:35] Energy consumed for all GPUs : 0.034793 kWh. Total GPU Power : 256.7151756332043 W\n",
      "[codecarbon INFO @ 14:47:35] Energy consumed for all CPUs : 0.006558 kWh. Total CPU Power : 42.5 W\n",
      "[codecarbon INFO @ 14:47:35] 0.047976 kWh of electricity used since the beginning.\n",
      "      5/100        38G     0.8156     0.6777      1.304        158        640:  38%|███▊      | 60/156 [00:40<01:02,  1.52it/s][codecarbon INFO @ 14:47:50] Energy consumed for RAM : 0.006803 kWh. RAM Power : 42.987337589263916 W\n",
      "[codecarbon INFO @ 14:47:50] Energy consumed for all GPUs : 0.035866 kWh. Total GPU Power : 257.51017820363404 W\n",
      "[codecarbon INFO @ 14:47:50] Energy consumed for all CPUs : 0.006736 kWh. Total CPU Power : 42.5 W\n",
      "[codecarbon INFO @ 14:47:50] 0.049404 kWh of electricity used since the beginning.\n",
      "      5/100        38G     0.8073     0.6684        1.3        173        640:  53%|█████▎    | 83/156 [00:55<00:47,  1.52it/s][codecarbon INFO @ 14:48:05] Energy consumed for RAM : 0.006982 kWh. RAM Power : 42.987337589263916 W\n",
      "[codecarbon INFO @ 14:48:05] Energy consumed for all GPUs : 0.036939 kWh. Total GPU Power : 257.7489502876049 W\n",
      "[codecarbon INFO @ 14:48:05] Energy consumed for all CPUs : 0.006913 kWh. Total CPU Power : 42.5 W\n",
      "[codecarbon INFO @ 14:48:05] 0.050834 kWh of electricity used since the beginning.\n",
      "      5/100        38G     0.7997     0.6608      1.295        164        640:  68%|██████▊   | 106/156 [01:10<00:32,  1.52it/s][codecarbon INFO @ 14:48:20] Energy consumed for RAM : 0.007161 kWh. RAM Power : 42.987337589263916 W\n",
      "[codecarbon INFO @ 14:48:20] Energy consumed for all GPUs : 0.038005 kWh. Total GPU Power : 255.82600461036847 W\n",
      "[codecarbon INFO @ 14:48:20] Energy consumed for all CPUs : 0.007090 kWh. Total CPU Power : 42.5 W\n",
      "[codecarbon INFO @ 14:48:20] 0.052256 kWh of electricity used since the beginning.\n",
      "[codecarbon ERROR @ 14:48:20] Region:  not found for Country with ISO CODE : USA\n",
      "Traceback (most recent call last):\n",
      "  File \"/home/rocky/miniconda3/envs/jupyterlab/lib/python3.12/site-packages/codecarbon/core/emissions.py\", line 142, in get_private_infra_emissions\n",
      "    return self.get_region_emissions(energy, geo)\n",
      "           ^^^^^^^^^^^^^^^^^^^^^^^^^^^^^^^^^^^^^^\n",
      "  File \"/home/rocky/miniconda3/envs/jupyterlab/lib/python3.12/site-packages/codecarbon/core/emissions.py\", line 168, in get_region_emissions\n",
      "    raise ValueError(\n",
      "ValueError: Region:  not found for Country with ISO CODE : USA\n",
      "[codecarbon WARNING @ 14:48:20] Regional emissions retrieval failed. Falling back on country emissions.\n",
      "[codecarbon INFO @ 14:48:20] 0.034444 g.CO2eq/s mean an estimation of 1,086.2191111140564 kg.CO2eq/year\n",
      "      5/100        38G     0.7952     0.6585      1.291        180        640:  82%|████████▏ | 128/156 [01:24<00:18,  1.52it/s][codecarbon INFO @ 14:48:35] Energy consumed for RAM : 0.007340 kWh. RAM Power : 42.987337589263916 W\n",
      "[codecarbon INFO @ 14:48:35] Energy consumed for all GPUs : 0.039077 kWh. Total GPU Power : 257.407454162532 W\n",
      "[codecarbon INFO @ 14:48:35] Energy consumed for all CPUs : 0.007267 kWh. Total CPU Power : 42.5 W\n",
      "[codecarbon INFO @ 14:48:35] 0.053684 kWh of electricity used since the beginning.\n",
      "      5/100        38G     0.7905     0.6541      1.287        177        640:  97%|█████████▋| 151/156 [01:39<00:03,  1.52it/s][codecarbon INFO @ 14:48:50] Energy consumed for RAM : 0.007519 kWh. RAM Power : 42.987337589263916 W\n",
      "[codecarbon INFO @ 14:48:50] Energy consumed for all GPUs : 0.040146 kWh. Total GPU Power : 256.58079704038835 W\n",
      "[codecarbon INFO @ 14:48:50] Energy consumed for all CPUs : 0.007444 kWh. Total CPU Power : 42.5 W\n",
      "[codecarbon INFO @ 14:48:50] 0.055109 kWh of electricity used since the beginning.\n",
      "      5/100        38G     0.7875     0.6526      1.285         22        640: 100%|██████████| 156/156 [01:42<00:00,  1.52it/s]\n",
      "                 Class     Images  Instances      Box(P          R      mAP50  mAP50-95): 100%|██████████| 19/19 [00:11<00:00,  1.59it/s]"
     ]
    },
    {
     "name": "stdout",
     "output_type": "stream",
     "text": [
      "                   all       2844       3135      0.489      0.511      0.477      0.253\n"
     ]
    },
    {
     "name": "stderr",
     "output_type": "stream",
     "text": [
      "\n",
      "[codecarbon INFO @ 14:49:05] Energy consumed for RAM : 0.007703 kWh. RAM Power : 42.987337589263916 W\n",
      "[codecarbon INFO @ 14:49:05] Energy consumed for all GPUs : 0.041050 kWh. Total GPU Power : 212.0184702977497 W\n",
      "[codecarbon INFO @ 14:49:05] Energy consumed for all CPUs : 0.007625 kWh. Total CPU Power : 42.5 W\n",
      "[codecarbon INFO @ 14:49:05] 0.056378 kWh of electricity used since the beginning.\n"
     ]
    },
    {
     "name": "stdout",
     "output_type": "stream",
     "text": [
      "\n",
      "      Epoch    GPU_mem   box_loss   cls_loss   dfl_loss  Instances       Size\n"
     ]
    },
    {
     "name": "stderr",
     "output_type": "stream",
     "text": [
      "      6/100      37.9G     0.7378     0.6245      1.257        189        640:  14%|█▍        | 22/156 [00:14<01:28,  1.52it/s][codecarbon INFO @ 14:49:20] Energy consumed for RAM : 0.007882 kWh. RAM Power : 42.987337589263916 W\n",
      "[codecarbon INFO @ 14:49:20] Energy consumed for all GPUs : 0.042105 kWh. Total GPU Power : 253.21512663356893 W\n",
      "[codecarbon INFO @ 14:49:20] Energy consumed for all CPUs : 0.007802 kWh. Total CPU Power : 42.5 W\n",
      "[codecarbon INFO @ 14:49:20] 0.057789 kWh of electricity used since the beginning.\n",
      "      6/100      37.9G     0.7469     0.6234      1.265        176        640:  29%|██▉       | 45/156 [00:29<01:12,  1.52it/s][codecarbon INFO @ 14:49:35] Energy consumed for RAM : 0.008061 kWh. RAM Power : 42.987337589263916 W\n",
      "[codecarbon INFO @ 14:49:35] Energy consumed for all GPUs : 0.043174 kWh. Total GPU Power : 256.6714869671164 W\n",
      "[codecarbon INFO @ 14:49:35] Energy consumed for all CPUs : 0.007979 kWh. Total CPU Power : 42.5 W\n",
      "[codecarbon INFO @ 14:49:35] 0.059214 kWh of electricity used since the beginning.\n",
      "      6/100      37.9G      0.737     0.6095      1.256        164        640:  44%|████▎     | 68/156 [00:44<00:57,  1.52it/s][codecarbon INFO @ 14:49:50] Energy consumed for RAM : 0.008240 kWh. RAM Power : 42.987337589263916 W\n",
      "[codecarbon INFO @ 14:49:50] Energy consumed for all GPUs : 0.044245 kWh. Total GPU Power : 257.0772097365033 W\n",
      "[codecarbon INFO @ 14:49:50] Energy consumed for all CPUs : 0.008156 kWh. Total CPU Power : 42.5 W\n",
      "[codecarbon INFO @ 14:49:50] 0.060641 kWh of electricity used since the beginning.\n",
      "      6/100      37.9G     0.7317     0.5953       1.25        189        640:  58%|█████▊    | 91/156 [00:59<00:42,  1.53it/s][codecarbon INFO @ 14:50:05] Energy consumed for RAM : 0.008419 kWh. RAM Power : 42.987337589263916 W\n",
      "[codecarbon INFO @ 14:50:05] Energy consumed for all GPUs : 0.045312 kWh. Total GPU Power : 256.3287188325379 W\n",
      "[codecarbon INFO @ 14:50:05] Energy consumed for all CPUs : 0.008333 kWh. Total CPU Power : 42.5 W\n",
      "[codecarbon INFO @ 14:50:05] 0.062065 kWh of electricity used since the beginning.\n",
      "      6/100      37.9G     0.7276     0.5895      1.247        145        640:  73%|███████▎  | 114/156 [01:14<00:27,  1.52it/s][codecarbon INFO @ 14:50:20] Energy consumed for RAM : 0.008598 kWh. RAM Power : 42.987337589263916 W\n",
      "[codecarbon INFO @ 14:50:20] Energy consumed for all GPUs : 0.046391 kWh. Total GPU Power : 258.9330898308838 W\n",
      "[codecarbon INFO @ 14:50:20] Energy consumed for all CPUs : 0.008510 kWh. Total CPU Power : 42.5 W\n",
      "[codecarbon INFO @ 14:50:20] 0.063499 kWh of electricity used since the beginning.\n",
      "[codecarbon ERROR @ 14:50:20] Region:  not found for Country with ISO CODE : USA\n",
      "Traceback (most recent call last):\n",
      "  File \"/home/rocky/miniconda3/envs/jupyterlab/lib/python3.12/site-packages/codecarbon/core/emissions.py\", line 142, in get_private_infra_emissions\n",
      "    return self.get_region_emissions(energy, geo)\n",
      "           ^^^^^^^^^^^^^^^^^^^^^^^^^^^^^^^^^^^^^^\n",
      "  File \"/home/rocky/miniconda3/envs/jupyterlab/lib/python3.12/site-packages/codecarbon/core/emissions.py\", line 168, in get_region_emissions\n",
      "    raise ValueError(\n",
      "ValueError: Region:  not found for Country with ISO CODE : USA\n",
      "[codecarbon WARNING @ 14:50:20] Regional emissions retrieval failed. Falling back on country emissions.\n",
      "[codecarbon INFO @ 14:50:20] 0.034515 g.CO2eq/s mean an estimation of 1,088.4628339145995 kg.CO2eq/year\n",
      "      6/100      37.9G     0.7238     0.5839      1.243        154        640:  87%|████████▋ | 136/156 [01:29<00:13,  1.52it/s][codecarbon INFO @ 14:50:35] Energy consumed for RAM : 0.008777 kWh. RAM Power : 42.987337589263916 W\n",
      "[codecarbon INFO @ 14:50:35] Energy consumed for all GPUs : 0.047461 kWh. Total GPU Power : 256.9304715948159 W\n",
      "[codecarbon INFO @ 14:50:35] Energy consumed for all CPUs : 0.008688 kWh. Total CPU Power : 42.5 W\n",
      "[codecarbon INFO @ 14:50:35] 0.064926 kWh of electricity used since the beginning.\n",
      "      6/100      37.9G     0.7193     0.5808      1.239         21        640: 100%|██████████| 156/156 [01:42<00:00,  1.53it/s]\n",
      "                 Class     Images  Instances      Box(P          R      mAP50  mAP50-95):  21%|██        | 4/19 [00:02<00:09,  1.53it/s][codecarbon INFO @ 14:50:50] Energy consumed for RAM : 0.008956 kWh. RAM Power : 42.987337589263916 W\n",
      "[codecarbon INFO @ 14:50:50] Energy consumed for all GPUs : 0.048500 kWh. Total GPU Power : 249.3878029950025 W\n",
      "[codecarbon INFO @ 14:50:50] Energy consumed for all CPUs : 0.008865 kWh. Total CPU Power : 42.5 W\n",
      "[codecarbon INFO @ 14:50:50] 0.066321 kWh of electricity used since the beginning.\n",
      "                 Class     Images  Instances      Box(P          R      mAP50  mAP50-95): 100%|██████████| 19/19 [00:11<00:00,  1.62it/s]"
     ]
    },
    {
     "name": "stdout",
     "output_type": "stream",
     "text": [
      "                   all       2844       3135      0.765      0.665       0.77      0.474\n"
     ]
    },
    {
     "name": "stderr",
     "output_type": "stream",
     "text": [
      "\n"
     ]
    },
    {
     "name": "stdout",
     "output_type": "stream",
     "text": [
      "\n",
      "      Epoch    GPU_mem   box_loss   cls_loss   dfl_loss  Instances       Size\n"
     ]
    },
    {
     "name": "stderr",
     "output_type": "stream",
     "text": [
      "      7/100        38G     0.7223     0.5859      1.244        180        640:   4%|▍         | 6/156 [00:04<01:44,  1.44it/s][codecarbon INFO @ 14:51:05] Energy consumed for RAM : 0.009135 kWh. RAM Power : 42.987337589263916 W\n",
      "[codecarbon INFO @ 14:51:05] Energy consumed for all GPUs : 0.049384 kWh. Total GPU Power : 212.24489976855864 W\n",
      "[codecarbon INFO @ 14:51:05] Energy consumed for all CPUs : 0.009042 kWh. Total CPU Power : 42.5 W\n",
      "[codecarbon INFO @ 14:51:05] 0.067561 kWh of electricity used since the beginning.\n",
      "      7/100        38G     0.6987     0.5725      1.232        162        640:  19%|█▊        | 29/156 [00:19<01:23,  1.52it/s][codecarbon INFO @ 14:51:20] Energy consumed for RAM : 0.009314 kWh. RAM Power : 42.987337589263916 W\n",
      "[codecarbon INFO @ 14:51:20] Energy consumed for all GPUs : 0.050447 kWh. Total GPU Power : 255.21150372407513 W\n",
      "[codecarbon INFO @ 14:51:20] Energy consumed for all CPUs : 0.009219 kWh. Total CPU Power : 42.5 W\n",
      "[codecarbon INFO @ 14:51:20] 0.068980 kWh of electricity used since the beginning.\n",
      "      7/100        38G     0.6872     0.5584      1.219        167        640:  33%|███▎      | 52/156 [00:34<01:08,  1.53it/s][codecarbon INFO @ 14:51:35] Energy consumed for RAM : 0.009493 kWh. RAM Power : 42.987337589263916 W\n",
      "[codecarbon INFO @ 14:51:35] Energy consumed for all GPUs : 0.051513 kWh. Total GPU Power : 255.92981594138786 W\n",
      "[codecarbon INFO @ 14:51:35] Energy consumed for all CPUs : 0.009396 kWh. Total CPU Power : 42.5 W\n",
      "[codecarbon INFO @ 14:51:35] 0.070402 kWh of electricity used since the beginning.\n",
      "      7/100        38G     0.6822     0.5504      1.212        154        640:  48%|████▊     | 75/156 [00:49<00:53,  1.53it/s][codecarbon INFO @ 14:51:50] Energy consumed for RAM : 0.009672 kWh. RAM Power : 42.987337589263916 W\n",
      "[codecarbon INFO @ 14:51:50] Energy consumed for all GPUs : 0.052585 kWh. Total GPU Power : 257.29239501618014 W\n",
      "[codecarbon INFO @ 14:51:50] Energy consumed for all CPUs : 0.009573 kWh. Total CPU Power : 42.5 W\n",
      "[codecarbon INFO @ 14:51:50] 0.071830 kWh of electricity used since the beginning.\n",
      "      7/100        38G     0.6781     0.5458      1.206        178        640:  63%|██████▎   | 98/156 [01:04<00:38,  1.52it/s][codecarbon INFO @ 14:52:05] Energy consumed for RAM : 0.009851 kWh. RAM Power : 42.987337589263916 W\n",
      "[codecarbon INFO @ 14:52:05] Energy consumed for all GPUs : 0.053657 kWh. Total GPU Power : 257.2340484504904 W\n",
      "[codecarbon INFO @ 14:52:05] Energy consumed for all CPUs : 0.009750 kWh. Total CPU Power : 42.5 W\n",
      "[codecarbon INFO @ 14:52:05] 0.073258 kWh of electricity used since the beginning.\n",
      "      7/100        38G     0.6728     0.5405      1.199        165        640:  78%|███████▊  | 121/156 [01:20<00:22,  1.53it/s][codecarbon INFO @ 14:52:20] Energy consumed for RAM : 0.010030 kWh. RAM Power : 42.987337589263916 W\n",
      "[codecarbon INFO @ 14:52:20] Energy consumed for all GPUs : 0.054732 kWh. Total GPU Power : 258.0722055578975 W\n",
      "[codecarbon INFO @ 14:52:20] Energy consumed for all CPUs : 0.009927 kWh. Total CPU Power : 42.5 W\n",
      "[codecarbon INFO @ 14:52:20] 0.074689 kWh of electricity used since the beginning.\n",
      "[codecarbon ERROR @ 14:52:20] Region:  not found for Country with ISO CODE : USA\n",
      "Traceback (most recent call last):\n",
      "  File \"/home/rocky/miniconda3/envs/jupyterlab/lib/python3.12/site-packages/codecarbon/core/emissions.py\", line 142, in get_private_infra_emissions\n",
      "    return self.get_region_emissions(energy, geo)\n",
      "           ^^^^^^^^^^^^^^^^^^^^^^^^^^^^^^^^^^^^^^\n",
      "  File \"/home/rocky/miniconda3/envs/jupyterlab/lib/python3.12/site-packages/codecarbon/core/emissions.py\", line 168, in get_region_emissions\n",
      "    raise ValueError(\n",
      "ValueError: Region:  not found for Country with ISO CODE : USA\n",
      "[codecarbon WARNING @ 14:52:20] Regional emissions retrieval failed. Falling back on country emissions.\n",
      "[codecarbon INFO @ 14:52:20] 0.034450 g.CO2eq/s mean an estimation of 1,086.420000492517 kg.CO2eq/year\n",
      "      7/100        38G     0.6719     0.5396        1.2        177        640:  92%|█████████▏| 143/156 [01:34<00:08,  1.52it/s][codecarbon INFO @ 14:52:35] Energy consumed for RAM : 0.010209 kWh. RAM Power : 42.987337589263916 W\n",
      "[codecarbon INFO @ 14:52:35] Energy consumed for all GPUs : 0.055802 kWh. Total GPU Power : 257.01525769104535 W\n",
      "[codecarbon INFO @ 14:52:35] Energy consumed for all CPUs : 0.010104 kWh. Total CPU Power : 42.5 W\n",
      "[codecarbon INFO @ 14:52:35] 0.076116 kWh of electricity used since the beginning.\n",
      "      7/100        38G     0.6726     0.5414      1.199         20        640: 100%|██████████| 156/156 [01:42<00:00,  1.52it/s]\n",
      "                 Class     Images  Instances      Box(P          R      mAP50  mAP50-95):  58%|█████▊    | 11/19 [00:07<00:04,  1.61it/s][codecarbon INFO @ 14:52:51] Energy consumed for RAM : 0.010389 kWh. RAM Power : 42.987337589263916 W\n",
      "[codecarbon INFO @ 14:52:51] Energy consumed for all GPUs : 0.056767 kWh. Total GPU Power : 231.1047569549136 W\n",
      "[codecarbon INFO @ 14:52:51] Energy consumed for all CPUs : 0.010282 kWh. Total CPU Power : 42.5 W\n",
      "[codecarbon INFO @ 14:52:51] 0.077437 kWh of electricity used since the beginning.\n",
      "                 Class     Images  Instances      Box(P          R      mAP50  mAP50-95): 100%|██████████| 19/19 [00:12<00:00,  1.57it/s]"
     ]
    },
    {
     "name": "stdout",
     "output_type": "stream",
     "text": [
      "                   all       2844       3135      0.688      0.671      0.693      0.449\n"
     ]
    },
    {
     "name": "stderr",
     "output_type": "stream",
     "text": [
      "\n"
     ]
    },
    {
     "name": "stdout",
     "output_type": "stream",
     "text": [
      "\n",
      "      Epoch    GPU_mem   box_loss   cls_loss   dfl_loss  Instances       Size\n"
     ]
    },
    {
     "name": "stderr",
     "output_type": "stream",
     "text": [
      "      8/100      37.9G     0.6603       0.52       1.19        158        640:   9%|▉         | 14/156 [00:09<01:33,  1.52it/s][codecarbon INFO @ 14:53:06] Energy consumed for RAM : 0.010568 kWh. RAM Power : 42.987337589263916 W\n",
      "[codecarbon INFO @ 14:53:06] Energy consumed for all GPUs : 0.057735 kWh. Total GPU Power : 232.39788006045458 W\n",
      "[codecarbon INFO @ 14:53:06] Energy consumed for all CPUs : 0.010459 kWh. Total CPU Power : 42.5 W\n",
      "[codecarbon INFO @ 14:53:06] 0.078761 kWh of electricity used since the beginning.\n",
      "      8/100      37.9G     0.6478      0.505      1.178        182        640:  24%|██▎       | 37/156 [00:24<01:18,  1.52it/s][codecarbon INFO @ 14:53:21] Energy consumed for RAM : 0.010747 kWh. RAM Power : 42.987337589263916 W\n",
      "[codecarbon INFO @ 14:53:21] Energy consumed for all GPUs : 0.058804 kWh. Total GPU Power : 256.6595246926355 W\n",
      "[codecarbon INFO @ 14:53:21] Energy consumed for all CPUs : 0.010636 kWh. Total CPU Power : 42.5 W\n",
      "[codecarbon INFO @ 14:53:21] 0.080186 kWh of electricity used since the beginning.\n",
      "      8/100      37.9G     0.6411     0.5019      1.178        192        640:  38%|███▊      | 59/156 [00:38<01:03,  1.52it/s][codecarbon INFO @ 14:53:36] Energy consumed for RAM : 0.010926 kWh. RAM Power : 42.987337589263916 W\n",
      "[codecarbon INFO @ 14:53:36] Energy consumed for all GPUs : 0.059872 kWh. Total GPU Power : 256.40601158178106 W\n",
      "[codecarbon INFO @ 14:53:36] Energy consumed for all CPUs : 0.010813 kWh. Total CPU Power : 42.5 W\n",
      "[codecarbon INFO @ 14:53:36] 0.081611 kWh of electricity used since the beginning.\n",
      "      8/100      37.9G     0.6428     0.4972       1.18        178        640:  53%|█████▎    | 82/156 [00:53<00:48,  1.52it/s][codecarbon INFO @ 14:53:51] Energy consumed for RAM : 0.011105 kWh. RAM Power : 42.987337589263916 W\n",
      "[codecarbon INFO @ 14:53:51] Energy consumed for all GPUs : 0.060941 kWh. Total GPU Power : 256.5886581735444 W\n",
      "[codecarbon INFO @ 14:53:51] Energy consumed for all CPUs : 0.010990 kWh. Total CPU Power : 42.5 W\n",
      "[codecarbon INFO @ 14:53:51] 0.083036 kWh of electricity used since the beginning.\n",
      "      8/100      37.9G     0.6413     0.4992      1.179        170        640:  67%|██████▋   | 105/156 [01:09<00:33,  1.52it/s][codecarbon INFO @ 14:54:06] Energy consumed for RAM : 0.011284 kWh. RAM Power : 42.987337589263916 W\n",
      "[codecarbon INFO @ 14:54:06] Energy consumed for all GPUs : 0.062010 kWh. Total GPU Power : 256.51202801345846 W\n",
      "[codecarbon INFO @ 14:54:06] Energy consumed for all CPUs : 0.011167 kWh. Total CPU Power : 42.5 W\n",
      "[codecarbon INFO @ 14:54:06] 0.084460 kWh of electricity used since the beginning.\n",
      "      8/100      37.9G     0.6406     0.4984      1.178        183        640:  82%|████████▏ | 128/156 [01:24<00:18,  1.52it/s][codecarbon INFO @ 14:54:21] Energy consumed for RAM : 0.011463 kWh. RAM Power : 42.987337589263916 W\n",
      "[codecarbon INFO @ 14:54:21] Energy consumed for all GPUs : 0.063078 kWh. Total GPU Power : 256.3948073382948 W\n",
      "[codecarbon INFO @ 14:54:21] Energy consumed for all CPUs : 0.011344 kWh. Total CPU Power : 42.5 W\n",
      "[codecarbon INFO @ 14:54:21] 0.085885 kWh of electricity used since the beginning.\n",
      "[codecarbon ERROR @ 14:54:21] Region:  not found for Country with ISO CODE : USA\n",
      "Traceback (most recent call last):\n",
      "  File \"/home/rocky/miniconda3/envs/jupyterlab/lib/python3.12/site-packages/codecarbon/core/emissions.py\", line 142, in get_private_infra_emissions\n",
      "    return self.get_region_emissions(energy, geo)\n",
      "           ^^^^^^^^^^^^^^^^^^^^^^^^^^^^^^^^^^^^^^\n",
      "  File \"/home/rocky/miniconda3/envs/jupyterlab/lib/python3.12/site-packages/codecarbon/core/emissions.py\", line 168, in get_region_emissions\n",
      "    raise ValueError(\n",
      "ValueError: Region:  not found for Country with ISO CODE : USA\n",
      "[codecarbon WARNING @ 14:54:21] Regional emissions retrieval failed. Falling back on country emissions.\n",
      "[codecarbon INFO @ 14:54:21] 0.034461 g.CO2eq/s mean an estimation of 1,086.7565801028925 kg.CO2eq/year\n",
      "      8/100      37.9G     0.6373     0.4963      1.175        179        640:  97%|█████████▋| 151/156 [01:39<00:03,  1.52it/s][codecarbon INFO @ 14:54:36] Energy consumed for RAM : 0.011642 kWh. RAM Power : 42.987337589263916 W\n",
      "[codecarbon INFO @ 14:54:36] Energy consumed for all GPUs : 0.064144 kWh. Total GPU Power : 255.97044893774122 W\n",
      "[codecarbon INFO @ 14:54:36] Energy consumed for all CPUs : 0.011521 kWh. Total CPU Power : 42.5 W\n",
      "[codecarbon INFO @ 14:54:36] 0.087308 kWh of electricity used since the beginning.\n",
      "      8/100      37.9G     0.6377     0.4971      1.175         21        640: 100%|██████████| 156/156 [01:42<00:00,  1.53it/s]\n",
      "                 Class     Images  Instances      Box(P          R      mAP50  mAP50-95): 100%|██████████| 19/19 [00:11<00:00,  1.64it/s]"
     ]
    },
    {
     "name": "stdout",
     "output_type": "stream",
     "text": [
      "                   all       2844       3135      0.793      0.738      0.774      0.529\n"
     ]
    },
    {
     "name": "stderr",
     "output_type": "stream",
     "text": [
      "\n",
      "[codecarbon INFO @ 14:54:51] Energy consumed for RAM : 0.011823 kWh. RAM Power : 42.987337589263916 W\n",
      "[codecarbon INFO @ 14:54:51] Energy consumed for all GPUs : 0.065053 kWh. Total GPU Power : 215.40425634941064 W\n",
      "[codecarbon INFO @ 14:54:51] Energy consumed for all CPUs : 0.011700 kWh. Total CPU Power : 42.5 W\n",
      "[codecarbon INFO @ 14:54:51] 0.088576 kWh of electricity used since the beginning.\n"
     ]
    },
    {
     "name": "stdout",
     "output_type": "stream",
     "text": [
      "\n",
      "      Epoch    GPU_mem   box_loss   cls_loss   dfl_loss  Instances       Size\n"
     ]
    },
    {
     "name": "stderr",
     "output_type": "stream",
     "text": [
      "      9/100        38G     0.6338     0.4907      1.167        157        640:  13%|█▎        | 21/156 [00:14<01:28,  1.52it/s][codecarbon INFO @ 14:55:06] Energy consumed for RAM : 0.012002 kWh. RAM Power : 42.987337589263916 W\n",
      "[codecarbon INFO @ 14:55:06] Energy consumed for all GPUs : 0.066086 kWh. Total GPU Power : 247.97258889599516 W\n",
      "[codecarbon INFO @ 14:55:06] Energy consumed for all CPUs : 0.011878 kWh. Total CPU Power : 42.5 W\n",
      "[codecarbon INFO @ 14:55:06] 0.089965 kWh of electricity used since the beginning.\n",
      "      9/100        38G     0.6284     0.4822      1.164        160        640:  28%|██▊       | 44/156 [00:29<01:13,  1.52it/s][codecarbon INFO @ 14:55:21] Energy consumed for RAM : 0.012181 kWh. RAM Power : 42.987337589263916 W\n",
      "[codecarbon INFO @ 14:55:21] Energy consumed for all GPUs : 0.067154 kWh. Total GPU Power : 256.55365699475203 W\n",
      "[codecarbon INFO @ 14:55:21] Energy consumed for all CPUs : 0.012055 kWh. Total CPU Power : 42.5 W\n",
      "[codecarbon INFO @ 14:55:21] 0.091390 kWh of electricity used since the beginning.\n",
      "      9/100        38G     0.6199     0.4797      1.157        181        640:  43%|████▎     | 67/156 [00:44<00:58,  1.53it/s][codecarbon INFO @ 14:55:36] Energy consumed for RAM : 0.012360 kWh. RAM Power : 42.987337589263916 W\n",
      "[codecarbon INFO @ 14:55:36] Energy consumed for all GPUs : 0.068220 kWh. Total GPU Power : 255.7748538424526 W\n",
      "[codecarbon INFO @ 14:55:36] Energy consumed for all CPUs : 0.012232 kWh. Total CPU Power : 42.5 W\n",
      "[codecarbon INFO @ 14:55:36] 0.092812 kWh of electricity used since the beginning.\n",
      "      9/100        38G     0.6159     0.4789      1.157        157        640:  58%|█████▊    | 90/156 [00:59<00:43,  1.52it/s][codecarbon INFO @ 14:55:51] Energy consumed for RAM : 0.012539 kWh. RAM Power : 42.987337589263916 W\n",
      "[codecarbon INFO @ 14:55:51] Energy consumed for all GPUs : 0.069292 kWh. Total GPU Power : 257.36818472368367 W\n",
      "[codecarbon INFO @ 14:55:51] Energy consumed for all CPUs : 0.012409 kWh. Total CPU Power : 42.5 W\n",
      "[codecarbon INFO @ 14:55:51] 0.094240 kWh of electricity used since the beginning.\n",
      "      9/100        38G     0.6127     0.4771      1.157        191        640:  72%|███████▏  | 113/156 [01:14<00:28,  1.52it/s][codecarbon INFO @ 14:56:06] Energy consumed for RAM : 0.012718 kWh. RAM Power : 42.987337589263916 W\n",
      "[codecarbon INFO @ 14:56:06] Energy consumed for all GPUs : 0.070361 kWh. Total GPU Power : 256.65101729083005 W\n",
      "[codecarbon INFO @ 14:56:06] Energy consumed for all CPUs : 0.012586 kWh. Total CPU Power : 42.5 W\n",
      "[codecarbon INFO @ 14:56:06] 0.095665 kWh of electricity used since the beginning.\n",
      "      9/100        38G     0.6081     0.4752      1.153        166        640:  87%|████████▋ | 136/156 [01:29<00:13,  1.52it/s][codecarbon INFO @ 14:56:21] Energy consumed for RAM : 0.012897 kWh. RAM Power : 42.987337589263916 W\n",
      "[codecarbon INFO @ 14:56:21] Energy consumed for all GPUs : 0.071429 kWh. Total GPU Power : 256.465909343875 W\n",
      "[codecarbon INFO @ 14:56:21] Energy consumed for all CPUs : 0.012763 kWh. Total CPU Power : 42.5 W\n",
      "[codecarbon INFO @ 14:56:21] 0.097089 kWh of electricity used since the beginning.\n",
      "[codecarbon ERROR @ 14:56:21] Region:  not found for Country with ISO CODE : USA\n",
      "Traceback (most recent call last):\n",
      "  File \"/home/rocky/miniconda3/envs/jupyterlab/lib/python3.12/site-packages/codecarbon/core/emissions.py\", line 142, in get_private_infra_emissions\n",
      "    return self.get_region_emissions(energy, geo)\n",
      "           ^^^^^^^^^^^^^^^^^^^^^^^^^^^^^^^^^^^^^^\n",
      "  File \"/home/rocky/miniconda3/envs/jupyterlab/lib/python3.12/site-packages/codecarbon/core/emissions.py\", line 168, in get_region_emissions\n",
      "    raise ValueError(\n",
      "ValueError: Region:  not found for Country with ISO CODE : USA\n",
      "[codecarbon WARNING @ 14:56:21] Regional emissions retrieval failed. Falling back on country emissions.\n",
      "[codecarbon INFO @ 14:56:21] 0.034443 g.CO2eq/s mean an estimation of 1,086.1921593081086 kg.CO2eq/year\n",
      "      9/100        38G     0.6047     0.4718      1.152         22        640: 100%|██████████| 156/156 [01:42<00:00,  1.52it/s]\n",
      "                 Class     Images  Instances      Box(P          R      mAP50  mAP50-95):  16%|█▌        | 3/19 [00:02<00:11,  1.38it/s][codecarbon INFO @ 14:56:36] Energy consumed for RAM : 0.013077 kWh. RAM Power : 42.987337589263916 W\n",
      "[codecarbon INFO @ 14:56:36] Energy consumed for all GPUs : 0.072458 kWh. Total GPU Power : 246.68084852262345 W\n",
      "[codecarbon INFO @ 14:56:36] Energy consumed for all CPUs : 0.012940 kWh. Total CPU Power : 42.5 W\n",
      "[codecarbon INFO @ 14:56:36] 0.098475 kWh of electricity used since the beginning.\n",
      "                 Class     Images  Instances      Box(P          R      mAP50  mAP50-95): 100%|██████████| 19/19 [00:11<00:00,  1.62it/s]"
     ]
    },
    {
     "name": "stdout",
     "output_type": "stream",
     "text": [
      "                   all       2844       3135      0.891      0.836      0.917      0.726\n"
     ]
    },
    {
     "name": "stderr",
     "output_type": "stream",
     "text": [
      "\n"
     ]
    },
    {
     "name": "stdout",
     "output_type": "stream",
     "text": [
      "\n",
      "      Epoch    GPU_mem   box_loss   cls_loss   dfl_loss  Instances       Size\n"
     ]
    },
    {
     "name": "stderr",
     "output_type": "stream",
     "text": [
      "     10/100      37.9G     0.5772     0.4398      1.135        180        640:   4%|▍         | 6/156 [00:03<01:38,  1.52it/s][codecarbon INFO @ 14:56:51] Energy consumed for RAM : 0.013256 kWh. RAM Power : 42.987337589263916 W\n",
      "[codecarbon INFO @ 14:56:51] Energy consumed for all GPUs : 0.073368 kWh. Total GPU Power : 218.44622015118523 W\n",
      "[codecarbon INFO @ 14:56:51] Energy consumed for all CPUs : 0.013117 kWh. Total CPU Power : 42.5 W\n",
      "[codecarbon INFO @ 14:56:51] 0.099741 kWh of electricity used since the beginning.\n",
      "     10/100      37.9G     0.5901     0.4658      1.148        163        640:  19%|█▊        | 29/156 [00:19<01:23,  1.52it/s][codecarbon INFO @ 14:57:06] Energy consumed for RAM : 0.013435 kWh. RAM Power : 42.987337589263916 W\n",
      "[codecarbon INFO @ 14:57:06] Energy consumed for all GPUs : 0.074430 kWh. Total GPU Power : 255.0750276999885 W\n",
      "[codecarbon INFO @ 14:57:06] Energy consumed for all CPUs : 0.013294 kWh. Total CPU Power : 42.5 W\n",
      "[codecarbon INFO @ 14:57:06] 0.101159 kWh of electricity used since the beginning.\n",
      "     10/100      37.9G     0.5816     0.4626      1.143        182        640:  33%|███▎      | 52/156 [00:34<01:08,  1.52it/s][codecarbon INFO @ 14:57:21] Energy consumed for RAM : 0.013614 kWh. RAM Power : 42.987337589263916 W\n",
      "[codecarbon INFO @ 14:57:21] Energy consumed for all GPUs : 0.075498 kWh. Total GPU Power : 256.51558091745846 W\n",
      "[codecarbon INFO @ 14:57:21] Energy consumed for all CPUs : 0.013471 kWh. Total CPU Power : 42.5 W\n",
      "[codecarbon INFO @ 14:57:21] 0.102584 kWh of electricity used since the beginning.\n",
      "     10/100      37.9G     0.5775     0.4566      1.139        172        640:  48%|████▊     | 75/156 [00:49<00:53,  1.52it/s][codecarbon INFO @ 14:57:36] Energy consumed for RAM : 0.013793 kWh. RAM Power : 42.987337589263916 W\n",
      "[codecarbon INFO @ 14:57:36] Energy consumed for all GPUs : 0.076556 kWh. Total GPU Power : 253.88935086990267 W\n",
      "[codecarbon INFO @ 14:57:36] Energy consumed for all CPUs : 0.013649 kWh. Total CPU Power : 42.5 W\n",
      "[codecarbon INFO @ 14:57:36] 0.103997 kWh of electricity used since the beginning.\n",
      "     10/100      37.9G     0.5782     0.4545      1.138        174        640:  63%|██████▎   | 98/156 [01:04<00:38,  1.52it/s][codecarbon INFO @ 14:57:51] Energy consumed for RAM : 0.013972 kWh. RAM Power : 42.987337589263916 W\n",
      "[codecarbon INFO @ 14:57:51] Energy consumed for all GPUs : 0.077627 kWh. Total GPU Power : 257.19594856340217 W\n",
      "[codecarbon INFO @ 14:57:51] Energy consumed for all CPUs : 0.013826 kWh. Total CPU Power : 42.5 W\n",
      "[codecarbon INFO @ 14:57:51] 0.105425 kWh of electricity used since the beginning.\n",
      "     10/100      37.9G     0.5745     0.4491      1.134        175        640:  77%|███████▋  | 120/156 [01:18<00:23,  1.52it/s][codecarbon INFO @ 14:58:06] Energy consumed for RAM : 0.014151 kWh. RAM Power : 42.987337589263916 W\n",
      "[codecarbon INFO @ 14:58:06] Energy consumed for all GPUs : 0.078697 kWh. Total GPU Power : 256.85325915804043 W\n",
      "[codecarbon INFO @ 14:58:06] Energy consumed for all CPUs : 0.014003 kWh. Total CPU Power : 42.5 W\n",
      "[codecarbon INFO @ 14:58:06] 0.106851 kWh of electricity used since the beginning.\n",
      "     10/100      37.9G     0.5755     0.4464      1.135        179        640:  92%|█████████▏| 143/156 [01:33<00:08,  1.52it/s][codecarbon INFO @ 14:58:21] Energy consumed for RAM : 0.014330 kWh. RAM Power : 42.987337589263916 W\n",
      "[codecarbon INFO @ 14:58:21] Energy consumed for all GPUs : 0.079765 kWh. Total GPU Power : 256.45405413288137 W\n",
      "[codecarbon INFO @ 14:58:21] Energy consumed for all CPUs : 0.014180 kWh. Total CPU Power : 42.5 W\n",
      "[codecarbon INFO @ 14:58:21] 0.108275 kWh of electricity used since the beginning.\n",
      "[codecarbon ERROR @ 14:58:21] Region:  not found for Country with ISO CODE : USA\n",
      "Traceback (most recent call last):\n",
      "  File \"/home/rocky/miniconda3/envs/jupyterlab/lib/python3.12/site-packages/codecarbon/core/emissions.py\", line 142, in get_private_infra_emissions\n",
      "    return self.get_region_emissions(energy, geo)\n",
      "           ^^^^^^^^^^^^^^^^^^^^^^^^^^^^^^^^^^^^^^\n",
      "  File \"/home/rocky/miniconda3/envs/jupyterlab/lib/python3.12/site-packages/codecarbon/core/emissions.py\", line 168, in get_region_emissions\n",
      "    raise ValueError(\n",
      "ValueError: Region:  not found for Country with ISO CODE : USA\n",
      "[codecarbon WARNING @ 14:58:21] Regional emissions retrieval failed. Falling back on country emissions.\n",
      "[codecarbon INFO @ 14:58:21] 0.034434 g.CO2eq/s mean an estimation of 1,085.9166281143632 kg.CO2eq/year\n",
      "     10/100      37.9G     0.5754     0.4456      1.136         27        640: 100%|██████████| 156/156 [01:41<00:00,  1.53it/s]\n",
      "                 Class     Images  Instances      Box(P          R      mAP50  mAP50-95):  58%|█████▊    | 11/19 [00:07<00:04,  1.61it/s][codecarbon INFO @ 14:58:36] Energy consumed for RAM : 0.014509 kWh. RAM Power : 42.987337589263916 W\n",
      "[codecarbon INFO @ 14:58:36] Energy consumed for all GPUs : 0.080740 kWh. Total GPU Power : 233.8596990661489 W\n",
      "[codecarbon INFO @ 14:58:36] Energy consumed for all CPUs : 0.014357 kWh. Total CPU Power : 42.5 W\n",
      "[codecarbon INFO @ 14:58:36] 0.109605 kWh of electricity used since the beginning.\n",
      "                 Class     Images  Instances      Box(P          R      mAP50  mAP50-95): 100%|██████████| 19/19 [00:11<00:00,  1.60it/s]"
     ]
    },
    {
     "name": "stdout",
     "output_type": "stream",
     "text": [
      "                   all       2844       3135      0.897      0.789      0.886      0.681\n"
     ]
    },
    {
     "name": "stderr",
     "output_type": "stream",
     "text": [
      "\n"
     ]
    },
    {
     "name": "stdout",
     "output_type": "stream",
     "text": [
      "\n",
      "      Epoch    GPU_mem   box_loss   cls_loss   dfl_loss  Instances       Size\n"
     ]
    },
    {
     "name": "stderr",
     "output_type": "stream",
     "text": [
      "     11/100        38G     0.5867     0.4569      1.156        159        640:   8%|▊         | 13/156 [00:09<01:33,  1.52it/s][codecarbon INFO @ 14:58:51] Energy consumed for RAM : 0.014688 kWh. RAM Power : 42.987337589263916 W\n",
      "[codecarbon INFO @ 14:58:51] Energy consumed for all GPUs : 0.081683 kWh. Total GPU Power : 226.48566651139566 W\n",
      "[codecarbon INFO @ 14:58:51] Energy consumed for all CPUs : 0.014534 kWh. Total CPU Power : 42.5 W\n",
      "[codecarbon INFO @ 14:58:51] 0.110905 kWh of electricity used since the beginning.\n",
      "     11/100        38G     0.5814     0.4517      1.145        168        640:  23%|██▎       | 36/156 [00:24<01:18,  1.53it/s][codecarbon INFO @ 14:59:06] Energy consumed for RAM : 0.014867 kWh. RAM Power : 42.987337589263916 W\n",
      "[codecarbon INFO @ 14:59:06] Energy consumed for all GPUs : 0.082754 kWh. Total GPU Power : 257.1785921179228 W\n",
      "[codecarbon INFO @ 14:59:06] Energy consumed for all CPUs : 0.014711 kWh. Total CPU Power : 42.5 W\n",
      "[codecarbon INFO @ 14:59:06] 0.112332 kWh of electricity used since the beginning.\n",
      "     11/100        38G     0.5802      0.448      1.136        181        640:  38%|███▊      | 59/156 [00:39<01:03,  1.54it/s][codecarbon INFO @ 14:59:21] Energy consumed for RAM : 0.015046 kWh. RAM Power : 42.987337589263916 W\n",
      "[codecarbon INFO @ 14:59:21] Energy consumed for all GPUs : 0.083821 kWh. Total GPU Power : 256.01882969017 W\n",
      "[codecarbon INFO @ 14:59:21] Energy consumed for all CPUs : 0.014888 kWh. Total CPU Power : 42.5 W\n",
      "[codecarbon INFO @ 14:59:21] 0.113755 kWh of electricity used since the beginning.\n",
      "     11/100        38G     0.5752     0.4414      1.131        177        640:  53%|█████▎    | 82/156 [00:54<00:48,  1.54it/s][codecarbon INFO @ 14:59:36] Energy consumed for RAM : 0.015225 kWh. RAM Power : 42.987337589263916 W\n",
      "[codecarbon INFO @ 14:59:36] Energy consumed for all GPUs : 0.084897 kWh. Total GPU Power : 258.4907958694395 W\n",
      "[codecarbon INFO @ 14:59:36] Energy consumed for all CPUs : 0.015065 kWh. Total CPU Power : 42.5 W\n",
      "[codecarbon INFO @ 14:59:36] 0.115188 kWh of electricity used since the beginning.\n",
      "     11/100        38G     0.5709     0.4388      1.128        186        640:  67%|██████▋   | 105/156 [01:09<00:33,  1.54it/s][codecarbon INFO @ 14:59:51] Energy consumed for RAM : 0.015404 kWh. RAM Power : 42.987337589263916 W\n",
      "[codecarbon INFO @ 14:59:51] Energy consumed for all GPUs : 0.085971 kWh. Total GPU Power : 257.80918918866035 W\n",
      "[codecarbon INFO @ 14:59:51] Energy consumed for all CPUs : 0.015242 kWh. Total CPU Power : 42.5 W\n",
      "[codecarbon INFO @ 14:59:51] 0.116618 kWh of electricity used since the beginning.\n",
      "     11/100        38G     0.5677     0.4354      1.125        168        640:  82%|████████▏ | 128/156 [01:24<00:18,  1.54it/s][codecarbon INFO @ 15:00:06] Energy consumed for RAM : 0.015583 kWh. RAM Power : 42.987337589263916 W\n",
      "[codecarbon INFO @ 15:00:06] Energy consumed for all GPUs : 0.087050 kWh. Total GPU Power : 259.0184988098681 W\n",
      "[codecarbon INFO @ 15:00:06] Energy consumed for all CPUs : 0.015419 kWh. Total CPU Power : 42.5 W\n",
      "[codecarbon INFO @ 15:00:06] 0.118053 kWh of electricity used since the beginning.\n",
      "     11/100        38G     0.5686     0.4354      1.127        178        640:  97%|█████████▋| 151/156 [01:39<00:03,  1.53it/s][codecarbon INFO @ 15:00:21] Energy consumed for RAM : 0.015762 kWh. RAM Power : 42.987337589263916 W\n",
      "[codecarbon INFO @ 15:00:21] Energy consumed for all GPUs : 0.088126 kWh. Total GPU Power : 258.2573068127242 W\n",
      "[codecarbon INFO @ 15:00:21] Energy consumed for all CPUs : 0.015596 kWh. Total CPU Power : 42.5 W\n",
      "[codecarbon INFO @ 15:00:21] 0.119485 kWh of electricity used since the beginning.\n",
      "[codecarbon ERROR @ 15:00:21] Region:  not found for Country with ISO CODE : USA\n",
      "Traceback (most recent call last):\n",
      "  File \"/home/rocky/miniconda3/envs/jupyterlab/lib/python3.12/site-packages/codecarbon/core/emissions.py\", line 142, in get_private_infra_emissions\n",
      "    return self.get_region_emissions(energy, geo)\n",
      "           ^^^^^^^^^^^^^^^^^^^^^^^^^^^^^^^^^^^^^^\n",
      "  File \"/home/rocky/miniconda3/envs/jupyterlab/lib/python3.12/site-packages/codecarbon/core/emissions.py\", line 168, in get_region_emissions\n",
      "    raise ValueError(\n",
      "ValueError: Region:  not found for Country with ISO CODE : USA\n",
      "[codecarbon WARNING @ 15:00:21] Regional emissions retrieval failed. Falling back on country emissions.\n",
      "[codecarbon INFO @ 15:00:21] 0.034513 g.CO2eq/s mean an estimation of 1,088.389331739641 kg.CO2eq/year\n",
      "     11/100        38G     0.5682     0.4348      1.127         24        640: 100%|██████████| 156/156 [01:41<00:00,  1.53it/s]\n",
      "                 Class     Images  Instances      Box(P          R      mAP50  mAP50-95): 100%|██████████| 19/19 [00:11<00:00,  1.60it/s]"
     ]
    },
    {
     "name": "stdout",
     "output_type": "stream",
     "text": [
      "                   all       2844       3135      0.926      0.875      0.939      0.752\n"
     ]
    },
    {
     "name": "stderr",
     "output_type": "stream",
     "text": [
      "\n",
      "[codecarbon INFO @ 15:00:36] Energy consumed for RAM : 0.015947 kWh. RAM Power : 42.987337589263916 W\n",
      "[codecarbon INFO @ 15:00:36] Energy consumed for all GPUs : 0.089030 kWh. Total GPU Power : 210.38299449813076 W\n",
      "[codecarbon INFO @ 15:00:36] Energy consumed for all CPUs : 0.015779 kWh. Total CPU Power : 42.5 W\n",
      "[codecarbon INFO @ 15:00:36] 0.120756 kWh of electricity used since the beginning.\n"
     ]
    },
    {
     "name": "stdout",
     "output_type": "stream",
     "text": [
      "\n",
      "      Epoch    GPU_mem   box_loss   cls_loss   dfl_loss  Instances       Size\n"
     ]
    },
    {
     "name": "stderr",
     "output_type": "stream",
     "text": [
      "     12/100      37.9G     0.5653      0.428      1.127        172        640:  14%|█▍        | 22/156 [00:14<01:27,  1.53it/s][codecarbon INFO @ 15:00:51] Energy consumed for RAM : 0.016126 kWh. RAM Power : 42.987337589263916 W\n",
      "[codecarbon INFO @ 15:00:51] Energy consumed for all GPUs : 0.090090 kWh. Total GPU Power : 254.40271130389098 W\n",
      "[codecarbon INFO @ 15:00:51] Energy consumed for all CPUs : 0.015956 kWh. Total CPU Power : 42.5 W\n",
      "[codecarbon INFO @ 15:00:51] 0.122172 kWh of electricity used since the beginning.\n",
      "     12/100      37.9G     0.5589      0.424       1.12        174        640:  29%|██▉       | 45/156 [00:29<01:12,  1.53it/s][codecarbon INFO @ 15:01:06] Energy consumed for RAM : 0.016305 kWh. RAM Power : 42.987337589263916 W\n",
      "[codecarbon INFO @ 15:01:06] Energy consumed for all GPUs : 0.091160 kWh. Total GPU Power : 256.9941061343839 W\n",
      "[codecarbon INFO @ 15:01:06] Energy consumed for all CPUs : 0.016133 kWh. Total CPU Power : 42.5 W\n",
      "[codecarbon INFO @ 15:01:06] 0.123598 kWh of electricity used since the beginning.\n",
      "     12/100      37.9G     0.5554     0.4224      1.116        172        640:  44%|████▎     | 68/156 [00:44<00:57,  1.53it/s][codecarbon INFO @ 15:01:21] Energy consumed for RAM : 0.016484 kWh. RAM Power : 42.987337589263916 W\n",
      "[codecarbon INFO @ 15:01:21] Energy consumed for all GPUs : 0.092235 kWh. Total GPU Power : 258.0898080021321 W\n",
      "[codecarbon INFO @ 15:01:21] Energy consumed for all CPUs : 0.016310 kWh. Total CPU Power : 42.5 W\n",
      "[codecarbon INFO @ 15:01:21] 0.125029 kWh of electricity used since the beginning.\n",
      "     12/100      37.9G     0.5527     0.4228      1.114        162        640:  58%|█████▊    | 91/156 [00:59<00:42,  1.53it/s][codecarbon INFO @ 15:01:36] Energy consumed for RAM : 0.016663 kWh. RAM Power : 42.987337589263916 W\n",
      "[codecarbon INFO @ 15:01:36] Energy consumed for all GPUs : 0.093309 kWh. Total GPU Power : 257.74127554434745 W\n",
      "[codecarbon INFO @ 15:01:36] Energy consumed for all CPUs : 0.016487 kWh. Total CPU Power : 42.5 W\n",
      "[codecarbon INFO @ 15:01:36] 0.126459 kWh of electricity used since the beginning.\n",
      "     12/100      37.9G     0.5499       0.42      1.112        172        640:  73%|███████▎  | 114/156 [01:14<00:27,  1.53it/s][codecarbon INFO @ 15:01:51] Energy consumed for RAM : 0.016842 kWh. RAM Power : 42.987337589263916 W\n",
      "[codecarbon INFO @ 15:01:51] Energy consumed for all GPUs : 0.094380 kWh. Total GPU Power : 257.0921057928752 W\n",
      "[codecarbon INFO @ 15:01:51] Energy consumed for all CPUs : 0.016664 kWh. Total CPU Power : 42.5 W\n",
      "[codecarbon INFO @ 15:01:51] 0.127886 kWh of electricity used since the beginning.\n",
      "     12/100      37.9G     0.5504     0.4199      1.113        178        640:  88%|████████▊ | 137/156 [01:29<00:12,  1.53it/s][codecarbon INFO @ 15:02:06] Energy consumed for RAM : 0.017021 kWh. RAM Power : 42.987337589263916 W\n",
      "[codecarbon INFO @ 15:02:06] Energy consumed for all GPUs : 0.095457 kWh. Total GPU Power : 258.50819531432853 W\n",
      "[codecarbon INFO @ 15:02:06] Energy consumed for all CPUs : 0.016841 kWh. Total CPU Power : 42.5 W\n",
      "[codecarbon INFO @ 15:02:06] 0.129319 kWh of electricity used since the beginning.\n",
      "     12/100      37.9G     0.5515     0.4209      1.114         16        640: 100%|██████████| 156/156 [01:41<00:00,  1.54it/s]\n",
      "                 Class     Images  Instances      Box(P          R      mAP50  mAP50-95):  26%|██▋       | 5/19 [00:03<00:09,  1.52it/s][codecarbon INFO @ 15:02:21] Energy consumed for RAM : 0.017200 kWh. RAM Power : 42.987337589263916 W\n",
      "[codecarbon INFO @ 15:02:21] Energy consumed for all GPUs : 0.096488 kWh. Total GPU Power : 247.50949612343024 W\n",
      "[codecarbon INFO @ 15:02:21] Energy consumed for all CPUs : 0.017019 kWh. Total CPU Power : 42.5 W\n",
      "[codecarbon INFO @ 15:02:21] 0.130707 kWh of electricity used since the beginning.\n",
      "[codecarbon ERROR @ 15:02:21] Region:  not found for Country with ISO CODE : USA\n",
      "Traceback (most recent call last):\n",
      "  File \"/home/rocky/miniconda3/envs/jupyterlab/lib/python3.12/site-packages/codecarbon/core/emissions.py\", line 142, in get_private_infra_emissions\n",
      "    return self.get_region_emissions(energy, geo)\n",
      "           ^^^^^^^^^^^^^^^^^^^^^^^^^^^^^^^^^^^^^^\n",
      "  File \"/home/rocky/miniconda3/envs/jupyterlab/lib/python3.12/site-packages/codecarbon/core/emissions.py\", line 168, in get_region_emissions\n",
      "    raise ValueError(\n",
      "ValueError: Region:  not found for Country with ISO CODE : USA\n",
      "[codecarbon WARNING @ 15:02:21] Regional emissions retrieval failed. Falling back on country emissions.\n",
      "[codecarbon INFO @ 15:02:21] 0.034414 g.CO2eq/s mean an estimation of 1,085.2815747469795 kg.CO2eq/year\n",
      "                 Class     Images  Instances      Box(P          R      mAP50  mAP50-95): 100%|██████████| 19/19 [00:11<00:00,  1.61it/s]"
     ]
    },
    {
     "name": "stdout",
     "output_type": "stream",
     "text": [
      "                   all       2844       3135      0.899      0.834        0.9      0.704\n"
     ]
    },
    {
     "name": "stderr",
     "output_type": "stream",
     "text": [
      "\n"
     ]
    },
    {
     "name": "stdout",
     "output_type": "stream",
     "text": [
      "\n",
      "      Epoch    GPU_mem   box_loss   cls_loss   dfl_loss  Instances       Size\n"
     ]
    },
    {
     "name": "stderr",
     "output_type": "stream",
     "text": [
      "     13/100        38G     0.5722     0.4539      1.138        170        640:   4%|▍         | 7/156 [00:05<01:41,  1.47it/s][codecarbon INFO @ 15:02:36] Energy consumed for RAM : 0.017379 kWh. RAM Power : 42.987337589263916 W\n",
      "[codecarbon INFO @ 15:02:36] Energy consumed for all GPUs : 0.097385 kWh. Total GPU Power : 215.45439339076748 W\n",
      "[codecarbon INFO @ 15:02:36] Energy consumed for all CPUs : 0.017196 kWh. Total CPU Power : 42.5 W\n",
      "[codecarbon INFO @ 15:02:36] 0.131960 kWh of electricity used since the beginning.\n",
      "     13/100        38G     0.5601     0.4323       1.12        162        640:  19%|█▉        | 30/156 [00:20<01:22,  1.53it/s][codecarbon INFO @ 15:02:51] Energy consumed for RAM : 0.017558 kWh. RAM Power : 42.987337589263916 W\n",
      "[codecarbon INFO @ 15:02:51] Energy consumed for all GPUs : 0.098457 kWh. Total GPU Power : 257.30796894437464 W\n",
      "[codecarbon INFO @ 15:02:51] Energy consumed for all CPUs : 0.017373 kWh. Total CPU Power : 42.5 W\n",
      "[codecarbon INFO @ 15:02:51] 0.133388 kWh of electricity used since the beginning.\n",
      "     13/100        38G      0.544     0.4185       1.11        173        640:  34%|███▍      | 53/156 [00:35<01:07,  1.53it/s][codecarbon INFO @ 15:03:06] Energy consumed for RAM : 0.017737 kWh. RAM Power : 42.987337589263916 W\n",
      "[codecarbon INFO @ 15:03:06] Energy consumed for all GPUs : 0.099529 kWh. Total GPU Power : 257.33376456871815 W\n",
      "[codecarbon INFO @ 15:03:06] Energy consumed for all CPUs : 0.017550 kWh. Total CPU Power : 42.5 W\n",
      "[codecarbon INFO @ 15:03:06] 0.134816 kWh of electricity used since the beginning.\n",
      "     13/100        38G     0.5393     0.4151      1.104        171        640:  49%|████▊     | 76/156 [00:50<00:52,  1.53it/s][codecarbon INFO @ 15:03:21] Energy consumed for RAM : 0.017916 kWh. RAM Power : 42.987337589263916 W\n",
      "[codecarbon INFO @ 15:03:21] Energy consumed for all GPUs : 0.100603 kWh. Total GPU Power : 257.86912957463153 W\n",
      "[codecarbon INFO @ 15:03:21] Energy consumed for all CPUs : 0.017727 kWh. Total CPU Power : 42.5 W\n",
      "[codecarbon INFO @ 15:03:21] 0.136247 kWh of electricity used since the beginning.\n",
      "     13/100        38G     0.5351     0.4094        1.1        159        640:  63%|██████▎   | 99/156 [01:05<00:37,  1.53it/s][codecarbon INFO @ 15:03:36] Energy consumed for RAM : 0.018096 kWh. RAM Power : 42.987337589263916 W\n",
      "[codecarbon INFO @ 15:03:36] Energy consumed for all GPUs : 0.101676 kWh. Total GPU Power : 257.5231103204073 W\n",
      "[codecarbon INFO @ 15:03:36] Energy consumed for all CPUs : 0.017904 kWh. Total CPU Power : 42.5 W\n",
      "[codecarbon INFO @ 15:03:36] 0.137676 kWh of electricity used since the beginning.\n",
      "     13/100        38G     0.5334      0.407      1.099        185        640:  78%|███████▊  | 122/156 [01:20<00:22,  1.53it/s][codecarbon INFO @ 15:03:51] Energy consumed for RAM : 0.018275 kWh. RAM Power : 42.987337589263916 W\n",
      "[codecarbon INFO @ 15:03:51] Energy consumed for all GPUs : 0.102741 kWh. Total GPU Power : 255.64370677949216 W\n",
      "[codecarbon INFO @ 15:03:51] Energy consumed for all CPUs : 0.018081 kWh. Total CPU Power : 42.5 W\n",
      "[codecarbon INFO @ 15:03:51] 0.139097 kWh of electricity used since the beginning.\n",
      "     13/100        38G     0.5338     0.4061        1.1        156        640:  93%|█████████▎| 145/156 [01:35<00:07,  1.53it/s][codecarbon INFO @ 15:04:06] Energy consumed for RAM : 0.018454 kWh. RAM Power : 42.987337589263916 W\n",
      "[codecarbon INFO @ 15:04:06] Energy consumed for all GPUs : 0.103816 kWh. Total GPU Power : 258.18014384259124 W\n",
      "[codecarbon INFO @ 15:04:06] Energy consumed for all CPUs : 0.018258 kWh. Total CPU Power : 42.5 W\n",
      "[codecarbon INFO @ 15:04:06] 0.140528 kWh of electricity used since the beginning.\n",
      "     13/100        38G     0.5336      0.406      1.101         27        640: 100%|██████████| 156/156 [01:42<00:00,  1.53it/s]\n",
      "                 Class     Images  Instances      Box(P          R      mAP50  mAP50-95):  63%|██████▎   | 12/19 [00:07<00:04,  1.61it/s][codecarbon INFO @ 15:04:21] Energy consumed for RAM : 0.018633 kWh. RAM Power : 42.987337589263916 W\n",
      "[codecarbon INFO @ 15:04:21] Energy consumed for all GPUs : 0.104792 kWh. Total GPU Power : 234.18564303941017 W\n",
      "[codecarbon INFO @ 15:04:21] Energy consumed for all CPUs : 0.018435 kWh. Total CPU Power : 42.5 W\n",
      "[codecarbon INFO @ 15:04:21] 0.141860 kWh of electricity used since the beginning.\n",
      "[codecarbon ERROR @ 15:04:21] Region:  not found for Country with ISO CODE : USA\n",
      "Traceback (most recent call last):\n",
      "  File \"/home/rocky/miniconda3/envs/jupyterlab/lib/python3.12/site-packages/codecarbon/core/emissions.py\", line 142, in get_private_infra_emissions\n",
      "    return self.get_region_emissions(energy, geo)\n",
      "           ^^^^^^^^^^^^^^^^^^^^^^^^^^^^^^^^^^^^^^\n",
      "  File \"/home/rocky/miniconda3/envs/jupyterlab/lib/python3.12/site-packages/codecarbon/core/emissions.py\", line 168, in get_region_emissions\n",
      "    raise ValueError(\n",
      "ValueError: Region:  not found for Country with ISO CODE : USA\n",
      "[codecarbon WARNING @ 15:04:21] Regional emissions retrieval failed. Falling back on country emissions.\n",
      "[codecarbon INFO @ 15:04:21] 0.034338 g.CO2eq/s mean an estimation of 1,082.8713093524239 kg.CO2eq/year\n",
      "                 Class     Images  Instances      Box(P          R      mAP50  mAP50-95): 100%|██████████| 19/19 [00:11<00:00,  1.59it/s]"
     ]
    },
    {
     "name": "stdout",
     "output_type": "stream",
     "text": [
      "                   all       2844       3135      0.935      0.888      0.946      0.767\n"
     ]
    },
    {
     "name": "stderr",
     "output_type": "stream",
     "text": [
      "\n"
     ]
    },
    {
     "name": "stdout",
     "output_type": "stream",
     "text": [
      "\n",
      "      Epoch    GPU_mem   box_loss   cls_loss   dfl_loss  Instances       Size\n"
     ]
    },
    {
     "name": "stderr",
     "output_type": "stream",
     "text": [
      "     14/100        38G      0.528     0.4032      1.095        167        640:  10%|▉         | 15/156 [00:09<01:32,  1.53it/s][codecarbon INFO @ 15:04:36] Energy consumed for RAM : 0.018812 kWh. RAM Power : 42.987337589263916 W\n",
      "[codecarbon INFO @ 15:04:36] Energy consumed for all GPUs : 0.105766 kWh. Total GPU Power : 233.89529479775092 W\n",
      "[codecarbon INFO @ 15:04:36] Energy consumed for all CPUs : 0.018612 kWh. Total CPU Power : 42.5 W\n",
      "[codecarbon INFO @ 15:04:36] 0.143190 kWh of electricity used since the beginning.\n",
      "     14/100        38G     0.5373     0.4089      1.096        178        640:  24%|██▍       | 38/156 [00:24<01:16,  1.53it/s][codecarbon INFO @ 15:04:51] Energy consumed for RAM : 0.018991 kWh. RAM Power : 42.987337589263916 W\n",
      "[codecarbon INFO @ 15:04:51] Energy consumed for all GPUs : 0.106841 kWh. Total GPU Power : 257.97249291611587 W\n",
      "[codecarbon INFO @ 15:04:51] Energy consumed for all CPUs : 0.018789 kWh. Total CPU Power : 42.5 W\n",
      "[codecarbon INFO @ 15:04:51] 0.144621 kWh of electricity used since the beginning.\n",
      "     14/100        38G     0.5284     0.4018      1.085        193        640:  39%|███▉      | 61/156 [00:39<01:02,  1.53it/s][codecarbon INFO @ 15:05:06] Energy consumed for RAM : 0.019170 kWh. RAM Power : 42.987337589263916 W\n",
      "[codecarbon INFO @ 15:05:06] Energy consumed for all GPUs : 0.107916 kWh. Total GPU Power : 258.02806420314533 W\n",
      "[codecarbon INFO @ 15:05:06] Energy consumed for all CPUs : 0.018966 kWh. Total CPU Power : 42.5 W\n",
      "[codecarbon INFO @ 15:05:06] 0.146052 kWh of electricity used since the beginning.\n",
      "     14/100        38G     0.5291     0.4012      1.085        156        640:  54%|█████▍    | 84/156 [00:54<00:47,  1.53it/s][codecarbon INFO @ 15:05:21] Energy consumed for RAM : 0.019349 kWh. RAM Power : 42.987337589263916 W\n",
      "[codecarbon INFO @ 15:05:21] Energy consumed for all GPUs : 0.108991 kWh. Total GPU Power : 258.2217917795863 W\n",
      "[codecarbon INFO @ 15:05:21] Energy consumed for all CPUs : 0.019144 kWh. Total CPU Power : 42.5 W\n",
      "[codecarbon INFO @ 15:05:21] 0.147483 kWh of electricity used since the beginning.\n",
      "     14/100        38G     0.5219     0.3979      1.084        161        640:  69%|██████▊   | 107/156 [01:09<00:32,  1.53it/s][codecarbon INFO @ 15:05:36] Energy consumed for RAM : 0.019528 kWh. RAM Power : 42.987337589263916 W\n",
      "[codecarbon INFO @ 15:05:36] Energy consumed for all GPUs : 0.110056 kWh. Total GPU Power : 255.66342392934627 W\n",
      "[codecarbon INFO @ 15:05:36] Energy consumed for all CPUs : 0.019321 kWh. Total CPU Power : 42.5 W\n",
      "[codecarbon INFO @ 15:05:36] 0.148905 kWh of electricity used since the beginning.\n",
      "     14/100        38G     0.5215     0.3963      1.085        162        640:  83%|████████▎ | 130/156 [01:25<00:16,  1.53it/s][codecarbon INFO @ 15:05:51] Energy consumed for RAM : 0.019707 kWh. RAM Power : 42.987337589263916 W\n",
      "[codecarbon INFO @ 15:05:51] Energy consumed for all GPUs : 0.111132 kWh. Total GPU Power : 258.2524059103738 W\n",
      "[codecarbon INFO @ 15:05:51] Energy consumed for all CPUs : 0.019498 kWh. Total CPU Power : 42.5 W\n",
      "[codecarbon INFO @ 15:05:51] 0.150336 kWh of electricity used since the beginning.\n",
      "     14/100        38G     0.5187     0.3956      1.084        176        640:  98%|█████████▊| 153/156 [01:40<00:01,  1.53it/s][codecarbon INFO @ 15:06:06] Energy consumed for RAM : 0.019886 kWh. RAM Power : 42.987337589263916 W\n",
      "[codecarbon INFO @ 15:06:06] Energy consumed for all GPUs : 0.112210 kWh. Total GPU Power : 258.7927407135172 W\n",
      "[codecarbon INFO @ 15:06:06] Energy consumed for all CPUs : 0.019675 kWh. Total CPU Power : 42.5 W\n",
      "[codecarbon INFO @ 15:06:06] 0.151771 kWh of electricity used since the beginning.\n",
      "     14/100        38G     0.5187     0.3964      1.085         21        640: 100%|██████████| 156/156 [01:41<00:00,  1.54it/s]\n",
      "                 Class     Images  Instances      Box(P          R      mAP50  mAP50-95): 100%|██████████| 19/19 [00:11<00:00,  1.65it/s]"
     ]
    },
    {
     "name": "stdout",
     "output_type": "stream",
     "text": [
      "                   all       2844       3135      0.938      0.877      0.938      0.755\n"
     ]
    },
    {
     "name": "stderr",
     "output_type": "stream",
     "text": [
      "\n"
     ]
    },
    {
     "name": "stdout",
     "output_type": "stream",
     "text": [
      "\n",
      "      Epoch    GPU_mem   box_loss   cls_loss   dfl_loss  Instances       Size\n"
     ]
    },
    {
     "name": "stderr",
     "output_type": "stream",
     "text": [
      "     15/100      37.9G     0.4955     0.4027      1.094        165        640:   1%|▏         | 2/156 [00:01<01:42,  1.51it/s][codecarbon INFO @ 15:06:21] Energy consumed for RAM : 0.020065 kWh. RAM Power : 42.987337589263916 W\n",
      "[codecarbon INFO @ 15:06:21] Energy consumed for all GPUs : 0.113125 kWh. Total GPU Power : 219.60745294146577 W\n",
      "[codecarbon INFO @ 15:06:21] Energy consumed for all CPUs : 0.019852 kWh. Total CPU Power : 42.5 W\n",
      "[codecarbon INFO @ 15:06:21] 0.153042 kWh of electricity used since the beginning.\n",
      "[codecarbon ERROR @ 15:06:21] Region:  not found for Country with ISO CODE : USA\n",
      "Traceback (most recent call last):\n",
      "  File \"/home/rocky/miniconda3/envs/jupyterlab/lib/python3.12/site-packages/codecarbon/core/emissions.py\", line 142, in get_private_infra_emissions\n",
      "    return self.get_region_emissions(energy, geo)\n",
      "           ^^^^^^^^^^^^^^^^^^^^^^^^^^^^^^^^^^^^^^\n",
      "  File \"/home/rocky/miniconda3/envs/jupyterlab/lib/python3.12/site-packages/codecarbon/core/emissions.py\", line 168, in get_region_emissions\n",
      "    raise ValueError(\n",
      "ValueError: Region:  not found for Country with ISO CODE : USA\n",
      "[codecarbon WARNING @ 15:06:21] Regional emissions retrieval failed. Falling back on country emissions.\n",
      "[codecarbon INFO @ 15:06:21] 0.034426 g.CO2eq/s mean an estimation of 1,085.6713824502963 kg.CO2eq/year\n",
      "     15/100      37.9G     0.5095      0.388      1.091        194        640:  15%|█▌        | 24/156 [00:15<01:26,  1.53it/s][codecarbon INFO @ 15:06:36] Energy consumed for RAM : 0.020244 kWh. RAM Power : 42.987337589263916 W\n",
      "[codecarbon INFO @ 15:06:36] Energy consumed for all GPUs : 0.114192 kWh. Total GPU Power : 256.14621853559134 W\n",
      "[codecarbon INFO @ 15:06:36] Energy consumed for all CPUs : 0.020029 kWh. Total CPU Power : 42.5 W\n",
      "[codecarbon INFO @ 15:06:36] 0.154465 kWh of electricity used since the beginning.\n",
      "     15/100      37.9G     0.5011     0.3848      1.084        165        640:  30%|███       | 47/156 [00:30<01:11,  1.53it/s][codecarbon INFO @ 15:06:51] Energy consumed for RAM : 0.020423 kWh. RAM Power : 42.987337589263916 W\n",
      "[codecarbon INFO @ 15:06:51] Energy consumed for all GPUs : 0.115267 kWh. Total GPU Power : 258.1794259827052 W\n",
      "[codecarbon INFO @ 15:06:51] Energy consumed for all CPUs : 0.020206 kWh. Total CPU Power : 42.5 W\n",
      "[codecarbon INFO @ 15:06:51] 0.155896 kWh of electricity used since the beginning.\n",
      "     15/100      37.9G      0.502     0.3892      1.082        183        640:  45%|████▍     | 70/156 [00:45<00:56,  1.53it/s][codecarbon INFO @ 15:07:06] Energy consumed for RAM : 0.020602 kWh. RAM Power : 42.987337589263916 W\n",
      "[codecarbon INFO @ 15:07:06] Energy consumed for all GPUs : 0.116343 kWh. Total GPU Power : 258.43185064847916 W\n",
      "[codecarbon INFO @ 15:07:06] Energy consumed for all CPUs : 0.020383 kWh. Total CPU Power : 42.5 W\n",
      "[codecarbon INFO @ 15:07:06] 0.157329 kWh of electricity used since the beginning.\n",
      "     15/100      37.9G     0.5022     0.3865       1.08        200        640:  60%|█████▉    | 93/156 [01:00<00:41,  1.53it/s][codecarbon INFO @ 15:07:21] Energy consumed for RAM : 0.020781 kWh. RAM Power : 42.987337589263916 W\n",
      "[codecarbon INFO @ 15:07:21] Energy consumed for all GPUs : 0.117420 kWh. Total GPU Power : 258.33740777420206 W\n",
      "[codecarbon INFO @ 15:07:21] Energy consumed for all CPUs : 0.020560 kWh. Total CPU Power : 42.5 W\n",
      "[codecarbon INFO @ 15:07:21] 0.158761 kWh of electricity used since the beginning.\n",
      "     15/100      37.9G     0.5043      0.387       1.08        185        640:  74%|███████▍  | 116/156 [01:15<00:26,  1.53it/s][codecarbon INFO @ 15:07:36] Energy consumed for RAM : 0.020960 kWh. RAM Power : 42.987337589263916 W\n",
      "[codecarbon INFO @ 15:07:36] Energy consumed for all GPUs : 0.118496 kWh. Total GPU Power : 258.43082524265316 W\n",
      "[codecarbon INFO @ 15:07:36] Energy consumed for all CPUs : 0.020737 kWh. Total CPU Power : 42.5 W\n",
      "[codecarbon INFO @ 15:07:36] 0.160193 kWh of electricity used since the beginning.\n",
      "     15/100      37.9G     0.5039     0.3859      1.079        178        640:  89%|████████▉ | 139/156 [01:30<00:11,  1.52it/s][codecarbon INFO @ 15:07:51] Energy consumed for RAM : 0.021139 kWh. RAM Power : 42.987337589263916 W\n",
      "[codecarbon INFO @ 15:07:51] Energy consumed for all GPUs : 0.119562 kWh. Total GPU Power : 255.85404825780915 W\n",
      "[codecarbon INFO @ 15:07:51] Energy consumed for all CPUs : 0.020914 kWh. Total CPU Power : 42.5 W\n",
      "[codecarbon INFO @ 15:07:51] 0.161615 kWh of electricity used since the beginning.\n",
      "     15/100      37.9G     0.5035     0.3862      1.079         27        640: 100%|██████████| 156/156 [01:41<00:00,  1.54it/s]\n",
      "                 Class     Images  Instances      Box(P          R      mAP50  mAP50-95):  37%|███▋      | 7/19 [00:04<00:07,  1.53it/s][codecarbon INFO @ 15:08:06] Energy consumed for RAM : 0.021318 kWh. RAM Power : 42.987337589263916 W\n",
      "[codecarbon INFO @ 15:08:06] Energy consumed for all GPUs : 0.120581 kWh. Total GPU Power : 244.797292807085 W\n",
      "[codecarbon INFO @ 15:08:06] Energy consumed for all CPUs : 0.021091 kWh. Total CPU Power : 42.5 W\n",
      "[codecarbon INFO @ 15:08:06] 0.162991 kWh of electricity used since the beginning.\n",
      "                 Class     Images  Instances      Box(P          R      mAP50  mAP50-95): 100%|██████████| 19/19 [00:11<00:00,  1.62it/s]"
     ]
    },
    {
     "name": "stdout",
     "output_type": "stream",
     "text": [
      "                   all       2844       3135      0.909      0.875      0.931      0.754\n"
     ]
    },
    {
     "name": "stderr",
     "output_type": "stream",
     "text": [
      "\n"
     ]
    },
    {
     "name": "stdout",
     "output_type": "stream",
     "text": [
      "\n",
      "      Epoch    GPU_mem   box_loss   cls_loss   dfl_loss  Instances       Size\n"
     ]
    },
    {
     "name": "stderr",
     "output_type": "stream",
     "text": [
      "     16/100        38G     0.5152     0.3919      1.072        194        640:   6%|▌         | 9/156 [00:06<01:37,  1.50it/s][codecarbon INFO @ 15:08:21] Energy consumed for RAM : 0.021497 kWh. RAM Power : 42.987337589263916 W\n",
      "[codecarbon INFO @ 15:08:21] Energy consumed for all GPUs : 0.121512 kWh. Total GPU Power : 223.50143133406795 W\n",
      "[codecarbon INFO @ 15:08:21] Energy consumed for all CPUs : 0.021268 kWh. Total CPU Power : 42.5 W\n",
      "[codecarbon INFO @ 15:08:21] 0.164278 kWh of electricity used since the beginning.\n",
      "[codecarbon ERROR @ 15:08:21] Region:  not found for Country with ISO CODE : USA\n",
      "Traceback (most recent call last):\n",
      "  File \"/home/rocky/miniconda3/envs/jupyterlab/lib/python3.12/site-packages/codecarbon/core/emissions.py\", line 142, in get_private_infra_emissions\n",
      "    return self.get_region_emissions(energy, geo)\n",
      "           ^^^^^^^^^^^^^^^^^^^^^^^^^^^^^^^^^^^^^^\n",
      "  File \"/home/rocky/miniconda3/envs/jupyterlab/lib/python3.12/site-packages/codecarbon/core/emissions.py\", line 168, in get_region_emissions\n",
      "    raise ValueError(\n",
      "ValueError: Region:  not found for Country with ISO CODE : USA\n",
      "[codecarbon WARNING @ 15:08:21] Regional emissions retrieval failed. Falling back on country emissions.\n",
      "[codecarbon INFO @ 15:08:21] 0.034595 g.CO2eq/s mean an estimation of 1,090.9893357796514 kg.CO2eq/year\n",
      "     16/100        38G     0.5135     0.3959      1.076        173        640:  21%|██        | 32/156 [00:21<01:20,  1.53it/s][codecarbon INFO @ 15:08:36] Energy consumed for RAM : 0.021676 kWh. RAM Power : 42.987337589263916 W\n",
      "[codecarbon INFO @ 15:08:36] Energy consumed for all GPUs : 0.122576 kWh. Total GPU Power : 255.33554810581182 W\n",
      "[codecarbon INFO @ 15:08:36] Energy consumed for all CPUs : 0.021446 kWh. Total CPU Power : 42.5 W\n",
      "[codecarbon INFO @ 15:08:36] 0.165698 kWh of electricity used since the beginning.\n",
      "     16/100        38G     0.5045     0.3906      1.075        187        640:  35%|███▌      | 55/156 [00:36<01:05,  1.53it/s][codecarbon INFO @ 15:08:51] Energy consumed for RAM : 0.021855 kWh. RAM Power : 42.987337589263916 W\n",
      "[codecarbon INFO @ 15:08:51] Energy consumed for all GPUs : 0.123655 kWh. Total GPU Power : 258.9706302272975 W\n",
      "[codecarbon INFO @ 15:08:51] Energy consumed for all CPUs : 0.021623 kWh. Total CPU Power : 42.5 W\n",
      "[codecarbon INFO @ 15:08:51] 0.167132 kWh of electricity used since the beginning.\n",
      "     16/100        38G     0.5002     0.3868      1.071        181        640:  50%|█████     | 78/156 [00:51<00:50,  1.53it/s][codecarbon INFO @ 15:09:06] Energy consumed for RAM : 0.022034 kWh. RAM Power : 42.987337589263916 W\n",
      "[codecarbon INFO @ 15:09:06] Energy consumed for all GPUs : 0.124734 kWh. Total GPU Power : 259.05495002437584 W\n",
      "[codecarbon INFO @ 15:09:06] Energy consumed for all CPUs : 0.021800 kWh. Total CPU Power : 42.5 W\n",
      "[codecarbon INFO @ 15:09:06] 0.168568 kWh of electricity used since the beginning.\n",
      "     16/100        38G     0.4995      0.386      1.072        165        640:  65%|██████▍   | 101/156 [01:06<00:35,  1.54it/s][codecarbon INFO @ 15:09:21] Energy consumed for RAM : 0.022213 kWh. RAM Power : 42.987337589263916 W\n",
      "[codecarbon INFO @ 15:09:21] Energy consumed for all GPUs : 0.125817 kWh. Total GPU Power : 259.9664360205151 W\n",
      "[codecarbon INFO @ 15:09:21] Energy consumed for all CPUs : 0.021977 kWh. Total CPU Power : 42.5 W\n",
      "[codecarbon INFO @ 15:09:21] 0.170007 kWh of electricity used since the beginning.\n",
      "     16/100        38G     0.4973     0.3812       1.07        184        640:  79%|███████▉  | 124/156 [01:21<00:20,  1.54it/s][codecarbon INFO @ 15:09:36] Energy consumed for RAM : 0.022392 kWh. RAM Power : 42.987337589263916 W\n",
      "[codecarbon INFO @ 15:09:36] Energy consumed for all GPUs : 0.126887 kWh. Total GPU Power : 256.988433730078 W\n",
      "[codecarbon INFO @ 15:09:36] Energy consumed for all CPUs : 0.022154 kWh. Total CPU Power : 42.5 W\n",
      "[codecarbon INFO @ 15:09:36] 0.171433 kWh of electricity used since the beginning.\n",
      "     16/100        38G     0.4948      0.381       1.07        171        640:  94%|█████████▍| 147/156 [01:36<00:05,  1.54it/s][codecarbon INFO @ 15:09:51] Energy consumed for RAM : 0.022571 kWh. RAM Power : 42.987337589263916 W\n",
      "[codecarbon INFO @ 15:09:51] Energy consumed for all GPUs : 0.127968 kWh. Total GPU Power : 259.48259878028824 W\n",
      "[codecarbon INFO @ 15:09:51] Energy consumed for all CPUs : 0.022331 kWh. Total CPU Power : 42.5 W\n",
      "[codecarbon INFO @ 15:09:51] 0.172870 kWh of electricity used since the beginning.\n",
      "     16/100        38G     0.4925     0.3796      1.068         26        640: 100%|██████████| 156/156 [01:41<00:00,  1.53it/s]\n",
      "                 Class     Images  Instances      Box(P          R      mAP50  mAP50-95):  79%|███████▉  | 15/19 [00:09<00:02,  1.64it/s][codecarbon INFO @ 15:10:06] Energy consumed for RAM : 0.022750 kWh. RAM Power : 42.987337589263916 W\n",
      "[codecarbon INFO @ 15:10:06] Energy consumed for all GPUs : 0.128931 kWh. Total GPU Power : 231.38349846748847 W\n",
      "[codecarbon INFO @ 15:10:06] Energy consumed for all CPUs : 0.022508 kWh. Total CPU Power : 42.5 W\n",
      "[codecarbon INFO @ 15:10:06] 0.174190 kWh of electricity used since the beginning.\n",
      "                 Class     Images  Instances      Box(P          R      mAP50  mAP50-95): 100%|██████████| 19/19 [00:11<00:00,  1.64it/s]"
     ]
    },
    {
     "name": "stdout",
     "output_type": "stream",
     "text": [
      "                   all       2844       3135      0.951      0.884      0.942      0.779\n"
     ]
    },
    {
     "name": "stderr",
     "output_type": "stream",
     "text": [
      "\n"
     ]
    },
    {
     "name": "stdout",
     "output_type": "stream",
     "text": [
      "\n",
      "      Epoch    GPU_mem   box_loss   cls_loss   dfl_loss  Instances       Size\n"
     ]
    },
    {
     "name": "stderr",
     "output_type": "stream",
     "text": [
      "     17/100        38G     0.4955     0.3834      1.071        192        640:  12%|█▏        | 18/156 [00:11<01:30,  1.53it/s][codecarbon INFO @ 15:10:21] Energy consumed for RAM : 0.022929 kWh. RAM Power : 42.987337589263916 W\n",
      "[codecarbon INFO @ 15:10:21] Energy consumed for all GPUs : 0.129937 kWh. Total GPU Power : 241.52452220350938 W\n",
      "[codecarbon INFO @ 15:10:21] Energy consumed for all CPUs : 0.022685 kWh. Total CPU Power : 42.5 W\n",
      "[codecarbon INFO @ 15:10:21] 0.175552 kWh of electricity used since the beginning.\n",
      "[codecarbon ERROR @ 15:10:21] Region:  not found for Country with ISO CODE : USA\n",
      "Traceback (most recent call last):\n",
      "  File \"/home/rocky/miniconda3/envs/jupyterlab/lib/python3.12/site-packages/codecarbon/core/emissions.py\", line 142, in get_private_infra_emissions\n",
      "    return self.get_region_emissions(energy, geo)\n",
      "           ^^^^^^^^^^^^^^^^^^^^^^^^^^^^^^^^^^^^^^\n",
      "  File \"/home/rocky/miniconda3/envs/jupyterlab/lib/python3.12/site-packages/codecarbon/core/emissions.py\", line 168, in get_region_emissions\n",
      "    raise ValueError(\n",
      "ValueError: Region:  not found for Country with ISO CODE : USA\n",
      "[codecarbon WARNING @ 15:10:21] Regional emissions retrieval failed. Falling back on country emissions.\n",
      "[codecarbon INFO @ 15:10:21] 0.034710 g.CO2eq/s mean an estimation of 1,094.6167215911814 kg.CO2eq/year\n",
      "     17/100        38G     0.4938     0.3748      1.073        168        640:  26%|██▋       | 41/156 [00:26<01:14,  1.54it/s][codecarbon INFO @ 15:10:36] Energy consumed for RAM : 0.023109 kWh. RAM Power : 42.987337589263916 W\n",
      "[codecarbon INFO @ 15:10:36] Energy consumed for all GPUs : 0.131013 kWh. Total GPU Power : 258.223168598437 W\n",
      "[codecarbon INFO @ 15:10:36] Energy consumed for all CPUs : 0.022862 kWh. Total CPU Power : 42.5 W\n",
      "[codecarbon INFO @ 15:10:36] 0.176983 kWh of electricity used since the beginning.\n",
      "     17/100        38G     0.4886     0.3694      1.068        174        640:  41%|████      | 64/156 [00:41<01:00,  1.53it/s][codecarbon INFO @ 15:10:51] Energy consumed for RAM : 0.023288 kWh. RAM Power : 42.987337589263916 W\n",
      "[codecarbon INFO @ 15:10:51] Energy consumed for all GPUs : 0.132091 kWh. Total GPU Power : 258.7514174686798 W\n",
      "[codecarbon INFO @ 15:10:51] Energy consumed for all CPUs : 0.023039 kWh. Total CPU Power : 42.5 W\n",
      "[codecarbon INFO @ 15:10:51] 0.178417 kWh of electricity used since the beginning.\n",
      "     17/100        38G     0.4877     0.3683      1.065        172        640:  56%|█████▌    | 87/156 [00:56<00:44,  1.54it/s][codecarbon INFO @ 15:11:06] Energy consumed for RAM : 0.023467 kWh. RAM Power : 42.987337589263916 W\n",
      "[codecarbon INFO @ 15:11:06] Energy consumed for all GPUs : 0.133165 kWh. Total GPU Power : 257.80845878155947 W\n",
      "[codecarbon INFO @ 15:11:06] Energy consumed for all CPUs : 0.023216 kWh. Total CPU Power : 42.5 W\n",
      "[codecarbon INFO @ 15:11:06] 0.179847 kWh of electricity used since the beginning.\n",
      "     17/100        38G     0.4849     0.3649      1.064        160        640:  71%|███████   | 110/156 [01:11<00:29,  1.53it/s][codecarbon INFO @ 15:11:21] Energy consumed for RAM : 0.023646 kWh. RAM Power : 42.987337589263916 W\n",
      "[codecarbon INFO @ 15:11:21] Energy consumed for all GPUs : 0.134242 kWh. Total GPU Power : 258.70082981713284 W\n",
      "[codecarbon INFO @ 15:11:21] Energy consumed for all CPUs : 0.023393 kWh. Total CPU Power : 42.5 W\n",
      "[codecarbon INFO @ 15:11:21] 0.181281 kWh of electricity used since the beginning.\n",
      "     17/100        38G     0.4835     0.3641      1.064        175        640:  85%|████████▌ | 133/156 [01:26<00:14,  1.54it/s][codecarbon INFO @ 15:11:36] Energy consumed for RAM : 0.023825 kWh. RAM Power : 42.987337589263916 W\n",
      "[codecarbon INFO @ 15:11:36] Energy consumed for all GPUs : 0.135317 kWh. Total GPU Power : 258.0846899535391 W\n",
      "[codecarbon INFO @ 15:11:36] Energy consumed for all CPUs : 0.023571 kWh. Total CPU Power : 42.5 W\n",
      "[codecarbon INFO @ 15:11:36] 0.182713 kWh of electricity used since the beginning.\n",
      "     17/100        38G     0.4828     0.3641      1.065         26        640: 100%|██████████| 156/156 [01:41<00:00,  1.54it/s]\n",
      "                 Class     Images  Instances      Box(P          R      mAP50  mAP50-95):   5%|▌         | 1/19 [00:00<00:15,  1.14it/s][codecarbon INFO @ 15:11:51] Energy consumed for RAM : 0.024004 kWh. RAM Power : 42.987337589263916 W\n",
      "[codecarbon INFO @ 15:11:51] Energy consumed for all GPUs : 0.136364 kWh. Total GPU Power : 251.19489833665992 W\n",
      "[codecarbon INFO @ 15:11:51] Energy consumed for all CPUs : 0.023748 kWh. Total CPU Power : 42.5 W\n",
      "[codecarbon INFO @ 15:11:51] 0.184115 kWh of electricity used since the beginning.\n",
      "                 Class     Images  Instances      Box(P          R      mAP50  mAP50-95): 100%|██████████| 19/19 [00:11<00:00,  1.61it/s]"
     ]
    },
    {
     "name": "stdout",
     "output_type": "stream",
     "text": [
      "                   all       2844       3135      0.939      0.904      0.947      0.799\n"
     ]
    },
    {
     "name": "stderr",
     "output_type": "stream",
     "text": [
      "\n"
     ]
    },
    {
     "name": "stdout",
     "output_type": "stream",
     "text": [
      "\n",
      "      Epoch    GPU_mem   box_loss   cls_loss   dfl_loss  Instances       Size\n"
     ]
    },
    {
     "name": "stderr",
     "output_type": "stream",
     "text": [
      "     18/100        38G     0.4728     0.3703      1.059        177        640:   3%|▎         | 4/156 [00:02<01:41,  1.50it/s][codecarbon INFO @ 15:12:06] Energy consumed for RAM : 0.024183 kWh. RAM Power : 42.987337589263916 W\n",
      "[codecarbon INFO @ 15:12:06] Energy consumed for all GPUs : 0.137261 kWh. Total GPU Power : 215.32748015561634 W\n",
      "[codecarbon INFO @ 15:12:06] Energy consumed for all CPUs : 0.023925 kWh. Total CPU Power : 42.5 W\n",
      "[codecarbon INFO @ 15:12:06] 0.185368 kWh of electricity used since the beginning.\n",
      "     18/100        38G     0.4752     0.3673      1.058        175        640:  17%|█▋        | 27/156 [00:17<01:24,  1.53it/s][codecarbon INFO @ 15:12:21] Energy consumed for RAM : 0.024362 kWh. RAM Power : 42.987337589263916 W\n",
      "[codecarbon INFO @ 15:12:21] Energy consumed for all GPUs : 0.138322 kWh. Total GPU Power : 254.6994736126199 W\n",
      "[codecarbon INFO @ 15:12:21] Energy consumed for all CPUs : 0.024102 kWh. Total CPU Power : 42.5 W\n",
      "[codecarbon INFO @ 15:12:21] 0.186785 kWh of electricity used since the beginning.\n",
      "[codecarbon ERROR @ 15:12:21] Region:  not found for Country with ISO CODE : USA\n",
      "Traceback (most recent call last):\n",
      "  File \"/home/rocky/miniconda3/envs/jupyterlab/lib/python3.12/site-packages/codecarbon/core/emissions.py\", line 142, in get_private_infra_emissions\n",
      "    return self.get_region_emissions(energy, geo)\n",
      "           ^^^^^^^^^^^^^^^^^^^^^^^^^^^^^^^^^^^^^^\n",
      "  File \"/home/rocky/miniconda3/envs/jupyterlab/lib/python3.12/site-packages/codecarbon/core/emissions.py\", line 168, in get_region_emissions\n",
      "    raise ValueError(\n",
      "ValueError: Region:  not found for Country with ISO CODE : USA\n",
      "[codecarbon WARNING @ 15:12:21] Regional emissions retrieval failed. Falling back on country emissions.\n",
      "[codecarbon INFO @ 15:12:21] 0.034585 g.CO2eq/s mean an estimation of 1,090.6775721324304 kg.CO2eq/year\n",
      "     18/100        38G     0.4705     0.3595      1.052        169        640:  32%|███▏      | 50/156 [00:32<01:09,  1.53it/s][codecarbon INFO @ 15:12:36] Energy consumed for RAM : 0.024541 kWh. RAM Power : 42.987337589263916 W\n",
      "[codecarbon INFO @ 15:12:36] Energy consumed for all GPUs : 0.139393 kWh. Total GPU Power : 257.1166415474908 W\n",
      "[codecarbon INFO @ 15:12:36] Energy consumed for all CPUs : 0.024279 kWh. Total CPU Power : 42.5 W\n",
      "[codecarbon INFO @ 15:12:36] 0.188212 kWh of electricity used since the beginning.\n",
      "     18/100        38G     0.4736       0.36      1.055        158        640:  47%|████▋     | 73/156 [00:47<00:54,  1.53it/s][codecarbon INFO @ 15:12:51] Energy consumed for RAM : 0.024720 kWh. RAM Power : 42.987337589263916 W\n",
      "[codecarbon INFO @ 15:12:51] Energy consumed for all GPUs : 0.140469 kWh. Total GPU Power : 258.5027881147672 W\n",
      "[codecarbon INFO @ 15:12:51] Energy consumed for all CPUs : 0.024456 kWh. Total CPU Power : 42.5 W\n",
      "[codecarbon INFO @ 15:12:51] 0.189645 kWh of electricity used since the beginning.\n",
      "     18/100        38G     0.4709     0.3599      1.052        178        640:  62%|██████▏   | 96/156 [01:02<00:39,  1.53it/s][codecarbon INFO @ 15:13:06] Energy consumed for RAM : 0.024899 kWh. RAM Power : 42.987337589263916 W\n",
      "[codecarbon INFO @ 15:13:06] Energy consumed for all GPUs : 0.141542 kWh. Total GPU Power : 257.46329962763656 W\n",
      "[codecarbon INFO @ 15:13:06] Energy consumed for all CPUs : 0.024633 kWh. Total CPU Power : 42.5 W\n",
      "[codecarbon INFO @ 15:13:06] 0.191074 kWh of electricity used since the beginning.\n",
      "     18/100        38G     0.4695     0.3591      1.052        151        640:  76%|███████▌  | 118/156 [01:17<00:25,  1.52it/s][codecarbon INFO @ 15:13:21] Energy consumed for RAM : 0.025078 kWh. RAM Power : 42.987337589263916 W\n",
      "[codecarbon INFO @ 15:13:21] Energy consumed for all GPUs : 0.142618 kWh. Total GPU Power : 258.49207552620754 W\n",
      "[codecarbon INFO @ 15:13:21] Energy consumed for all CPUs : 0.024810 kWh. Total CPU Power : 42.5 W\n",
      "[codecarbon INFO @ 15:13:21] 0.192506 kWh of electricity used since the beginning.\n",
      "     18/100        38G       0.47     0.3597      1.054        171        640:  90%|█████████ | 141/156 [01:32<00:09,  1.52it/s][codecarbon INFO @ 15:13:36] Energy consumed for RAM : 0.025257 kWh. RAM Power : 42.987337589263916 W\n",
      "[codecarbon INFO @ 15:13:36] Energy consumed for all GPUs : 0.143683 kWh. Total GPU Power : 255.5595771030266 W\n",
      "[codecarbon INFO @ 15:13:36] Energy consumed for all CPUs : 0.024987 kWh. Total CPU Power : 42.5 W\n",
      "[codecarbon INFO @ 15:13:36] 0.193927 kWh of electricity used since the beginning.\n",
      "     18/100        38G     0.4716     0.3601      1.057         23        640: 100%|██████████| 156/156 [01:41<00:00,  1.53it/s]\n",
      "                 Class     Images  Instances      Box(P          R      mAP50  mAP50-95):  42%|████▏     | 8/19 [00:05<00:07,  1.50it/s][codecarbon INFO @ 15:13:51] Energy consumed for RAM : 0.025436 kWh. RAM Power : 42.987337589263916 W\n",
      "[codecarbon INFO @ 15:13:51] Energy consumed for all GPUs : 0.144672 kWh. Total GPU Power : 237.48030203507977 W\n",
      "[codecarbon INFO @ 15:13:51] Energy consumed for all CPUs : 0.025164 kWh. Total CPU Power : 42.5 W\n",
      "[codecarbon INFO @ 15:13:51] 0.195273 kWh of electricity used since the beginning.\n",
      "                 Class     Images  Instances      Box(P          R      mAP50  mAP50-95): 100%|██████████| 19/19 [00:12<00:00,  1.57it/s]"
     ]
    },
    {
     "name": "stdout",
     "output_type": "stream",
     "text": [
      "                   all       2844       3135      0.926      0.878      0.941      0.776\n"
     ]
    },
    {
     "name": "stderr",
     "output_type": "stream",
     "text": [
      "\n"
     ]
    },
    {
     "name": "stdout",
     "output_type": "stream",
     "text": [
      "\n",
      "      Epoch    GPU_mem   box_loss   cls_loss   dfl_loss  Instances       Size\n"
     ]
    },
    {
     "name": "stderr",
     "output_type": "stream",
     "text": [
      "     19/100        38G     0.4539     0.3446      1.055        182        640:   7%|▋         | 11/156 [00:07<01:35,  1.52it/s][codecarbon INFO @ 15:14:06] Energy consumed for RAM : 0.025615 kWh. RAM Power : 42.987337589263916 W\n",
      "[codecarbon INFO @ 15:14:06] Energy consumed for all GPUs : 0.145622 kWh. Total GPU Power : 228.0297689726892 W\n",
      "[codecarbon INFO @ 15:14:06] Energy consumed for all CPUs : 0.025341 kWh. Total CPU Power : 42.5 W\n",
      "[codecarbon INFO @ 15:14:06] 0.196579 kWh of electricity used since the beginning.\n",
      "     19/100        38G     0.4616     0.3547      1.056        142        640:  22%|██▏       | 34/156 [00:22<01:20,  1.52it/s][codecarbon INFO @ 15:14:21] Energy consumed for RAM : 0.025794 kWh. RAM Power : 42.987337589263916 W\n",
      "[codecarbon INFO @ 15:14:21] Energy consumed for all GPUs : 0.146691 kWh. Total GPU Power : 256.50556855201944 W\n",
      "[codecarbon INFO @ 15:14:21] Energy consumed for all CPUs : 0.025518 kWh. Total CPU Power : 42.5 W\n",
      "[codecarbon INFO @ 15:14:21] 0.198003 kWh of electricity used since the beginning.\n",
      "[codecarbon ERROR @ 15:14:21] Region:  not found for Country with ISO CODE : USA\n",
      "Traceback (most recent call last):\n",
      "  File \"/home/rocky/miniconda3/envs/jupyterlab/lib/python3.12/site-packages/codecarbon/core/emissions.py\", line 142, in get_private_infra_emissions\n",
      "    return self.get_region_emissions(energy, geo)\n",
      "           ^^^^^^^^^^^^^^^^^^^^^^^^^^^^^^^^^^^^^^\n",
      "  File \"/home/rocky/miniconda3/envs/jupyterlab/lib/python3.12/site-packages/codecarbon/core/emissions.py\", line 168, in get_region_emissions\n",
      "    raise ValueError(\n",
      "ValueError: Region:  not found for Country with ISO CODE : USA\n",
      "[codecarbon WARNING @ 15:14:21] Regional emissions retrieval failed. Falling back on country emissions.\n",
      "[codecarbon INFO @ 15:14:21] 0.034539 g.CO2eq/s mean an estimation of 1,089.2072466545803 kg.CO2eq/year\n",
      "     19/100        38G     0.4618     0.3521      1.058        164        640:  37%|███▋      | 57/156 [00:37<01:05,  1.52it/s][codecarbon INFO @ 15:14:36] Energy consumed for RAM : 0.025973 kWh. RAM Power : 42.987337589263916 W\n",
      "[codecarbon INFO @ 15:14:36] Energy consumed for all GPUs : 0.147764 kWh. Total GPU Power : 257.70684251706064 W\n",
      "[codecarbon INFO @ 15:14:36] Energy consumed for all CPUs : 0.025695 kWh. Total CPU Power : 42.5 W\n",
      "[codecarbon INFO @ 15:14:36] 0.199433 kWh of electricity used since the beginning.\n",
      "     19/100        38G     0.4618     0.3517      1.057        172        640:  51%|█████▏    | 80/156 [00:52<00:49,  1.52it/s][codecarbon INFO @ 15:14:51] Energy consumed for RAM : 0.026152 kWh. RAM Power : 42.987337589263916 W\n",
      "[codecarbon INFO @ 15:14:51] Energy consumed for all GPUs : 0.148839 kWh. Total GPU Power : 257.94343055148397 W\n",
      "[codecarbon INFO @ 15:14:51] Energy consumed for all CPUs : 0.025872 kWh. Total CPU Power : 42.5 W\n",
      "[codecarbon INFO @ 15:14:51] 0.200863 kWh of electricity used since the beginning.\n",
      "     19/100        38G     0.4597     0.3488      1.055        186        640:  66%|██████▌   | 103/156 [01:07<00:34,  1.52it/s][codecarbon INFO @ 15:15:06] Energy consumed for RAM : 0.026331 kWh. RAM Power : 42.987337589263916 W\n",
      "[codecarbon INFO @ 15:15:06] Energy consumed for all GPUs : 0.149908 kWh. Total GPU Power : 256.82328527556007 W\n",
      "[codecarbon INFO @ 15:15:06] Energy consumed for all CPUs : 0.026050 kWh. Total CPU Power : 42.5 W\n",
      "[codecarbon INFO @ 15:15:06] 0.202289 kWh of electricity used since the beginning.\n",
      "     19/100        38G     0.4612     0.3491      1.056        186        640:  81%|████████  | 126/156 [01:22<00:19,  1.52it/s][codecarbon INFO @ 15:15:21] Energy consumed for RAM : 0.026510 kWh. RAM Power : 42.987337589263916 W\n",
      "[codecarbon INFO @ 15:15:21] Energy consumed for all GPUs : 0.150983 kWh. Total GPU Power : 257.9586167625743 W\n",
      "[codecarbon INFO @ 15:15:21] Energy consumed for all CPUs : 0.026227 kWh. Total CPU Power : 42.5 W\n",
      "[codecarbon INFO @ 15:15:21] 0.203720 kWh of electricity used since the beginning.\n",
      "     19/100        38G     0.4603     0.3488      1.054        158        640:  95%|█████████▍| 148/156 [01:37<00:05,  1.52it/s][codecarbon INFO @ 15:15:36] Energy consumed for RAM : 0.026689 kWh. RAM Power : 42.987337589263916 W\n",
      "[codecarbon INFO @ 15:15:36] Energy consumed for all GPUs : 0.152054 kWh. Total GPU Power : 257.2247499897915 W\n",
      "[codecarbon INFO @ 15:15:36] Energy consumed for all CPUs : 0.026404 kWh. Total CPU Power : 42.5 W\n",
      "[codecarbon INFO @ 15:15:36] 0.205147 kWh of electricity used since the beginning.\n",
      "     19/100        38G       0.46     0.3479      1.053         25        640: 100%|██████████| 156/156 [01:41<00:00,  1.53it/s]\n",
      "                 Class     Images  Instances      Box(P          R      mAP50  mAP50-95):  89%|████████▉ | 17/19 [00:10<00:01,  1.82it/s][codecarbon INFO @ 15:15:51] Energy consumed for RAM : 0.026869 kWh. RAM Power : 42.987337589263916 W\n",
      "[codecarbon INFO @ 15:15:51] Energy consumed for all GPUs : 0.153020 kWh. Total GPU Power : 231.4139929034766 W\n",
      "[codecarbon INFO @ 15:15:51] Energy consumed for all CPUs : 0.026581 kWh. Total CPU Power : 42.5 W\n",
      "[codecarbon INFO @ 15:15:51] 0.206470 kWh of electricity used since the beginning.\n",
      "                 Class     Images  Instances      Box(P          R      mAP50  mAP50-95): 100%|██████████| 19/19 [00:11<00:00,  1.65it/s]"
     ]
    },
    {
     "name": "stdout",
     "output_type": "stream",
     "text": [
      "                   all       2844       3135       0.95      0.903      0.957      0.823\n"
     ]
    },
    {
     "name": "stderr",
     "output_type": "stream",
     "text": [
      "\n"
     ]
    },
    {
     "name": "stdout",
     "output_type": "stream",
     "text": [
      "\n",
      "      Epoch    GPU_mem   box_loss   cls_loss   dfl_loss  Instances       Size\n"
     ]
    },
    {
     "name": "stderr",
     "output_type": "stream",
     "text": [
      "     20/100        38G     0.4576     0.3412      1.056        168        640:  13%|█▎        | 20/156 [00:13<01:28,  1.53it/s][codecarbon INFO @ 15:16:06] Energy consumed for RAM : 0.027048 kWh. RAM Power : 42.987337589263916 W\n",
      "[codecarbon INFO @ 15:16:06] Energy consumed for all GPUs : 0.154012 kWh. Total GPU Power : 238.10483338458232 W\n",
      "[codecarbon INFO @ 15:16:06] Energy consumed for all CPUs : 0.026758 kWh. Total CPU Power : 42.5 W\n",
      "[codecarbon INFO @ 15:16:06] 0.207817 kWh of electricity used since the beginning.\n",
      "     20/100        38G     0.4574     0.3472      1.056        179        640:  27%|██▋       | 42/156 [00:27<01:14,  1.53it/s][codecarbon INFO @ 15:16:21] Energy consumed for RAM : 0.027227 kWh. RAM Power : 42.987337589263916 W\n",
      "[codecarbon INFO @ 15:16:21] Energy consumed for all GPUs : 0.155087 kWh. Total GPU Power : 258.1530900432225 W\n",
      "[codecarbon INFO @ 15:16:21] Energy consumed for all CPUs : 0.026935 kWh. Total CPU Power : 42.5 W\n",
      "[codecarbon INFO @ 15:16:21] 0.209249 kWh of electricity used since the beginning.\n",
      "[codecarbon ERROR @ 15:16:21] Region:  not found for Country with ISO CODE : USA\n",
      "Traceback (most recent call last):\n",
      "  File \"/home/rocky/miniconda3/envs/jupyterlab/lib/python3.12/site-packages/codecarbon/core/emissions.py\", line 142, in get_private_infra_emissions\n",
      "    return self.get_region_emissions(energy, geo)\n",
      "           ^^^^^^^^^^^^^^^^^^^^^^^^^^^^^^^^^^^^^^\n",
      "  File \"/home/rocky/miniconda3/envs/jupyterlab/lib/python3.12/site-packages/codecarbon/core/emissions.py\", line 168, in get_region_emissions\n",
      "    raise ValueError(\n",
      "ValueError: Region:  not found for Country with ISO CODE : USA\n",
      "[codecarbon WARNING @ 15:16:21] Regional emissions retrieval failed. Falling back on country emissions.\n",
      "[codecarbon INFO @ 15:16:21] 0.034617 g.CO2eq/s mean an estimation of 1,091.6687940119552 kg.CO2eq/year\n",
      "     20/100        38G     0.4579     0.3453      1.056        154        640:  42%|████▏     | 65/156 [00:42<00:59,  1.53it/s][codecarbon INFO @ 15:16:36] Energy consumed for RAM : 0.027406 kWh. RAM Power : 42.987337589263916 W\n",
      "[codecarbon INFO @ 15:16:36] Energy consumed for all GPUs : 0.156161 kWh. Total GPU Power : 257.86835498151146 W\n",
      "[codecarbon INFO @ 15:16:36] Energy consumed for all CPUs : 0.027112 kWh. Total CPU Power : 42.5 W\n",
      "[codecarbon INFO @ 15:16:36] 0.210680 kWh of electricity used since the beginning.\n",
      "     20/100        38G     0.4546     0.3438      1.054        177        640:  56%|█████▋    | 88/156 [00:57<00:44,  1.53it/s][codecarbon INFO @ 15:16:51] Energy consumed for RAM : 0.027585 kWh. RAM Power : 42.987337589263916 W\n",
      "[codecarbon INFO @ 15:16:51] Energy consumed for all GPUs : 0.157236 kWh. Total GPU Power : 257.99322378731597 W\n",
      "[codecarbon INFO @ 15:16:51] Energy consumed for all CPUs : 0.027289 kWh. Total CPU Power : 42.5 W\n",
      "[codecarbon INFO @ 15:16:51] 0.212110 kWh of electricity used since the beginning.\n",
      "     20/100        38G     0.4541     0.3467      1.054        185        640:  71%|███████   | 111/156 [01:12<00:29,  1.53it/s][codecarbon INFO @ 15:17:06] Energy consumed for RAM : 0.027764 kWh. RAM Power : 42.987337589263916 W\n",
      "[codecarbon INFO @ 15:17:06] Energy consumed for all GPUs : 0.158310 kWh. Total GPU Power : 257.8736935421045 W\n",
      "[codecarbon INFO @ 15:17:06] Energy consumed for all CPUs : 0.027466 kWh. Total CPU Power : 42.5 W\n",
      "[codecarbon INFO @ 15:17:06] 0.213540 kWh of electricity used since the beginning.\n",
      "     20/100        38G     0.4529     0.3439      1.053        177        640:  86%|████████▌ | 134/156 [01:27<00:14,  1.53it/s][codecarbon INFO @ 15:17:21] Energy consumed for RAM : 0.027943 kWh. RAM Power : 42.987337589263916 W\n",
      "[codecarbon INFO @ 15:17:21] Energy consumed for all GPUs : 0.159375 kWh. Total GPU Power : 255.5763640746379 W\n",
      "[codecarbon INFO @ 15:17:21] Energy consumed for all CPUs : 0.027644 kWh. Total CPU Power : 42.5 W\n",
      "[codecarbon INFO @ 15:17:21] 0.214961 kWh of electricity used since the beginning.\n",
      "     20/100        38G     0.4536     0.3449      1.051         32        640: 100%|██████████| 156/156 [01:41<00:00,  1.53it/s]\n",
      "                 Class     Images  Instances      Box(P          R      mAP50  mAP50-95):   5%|▌         | 1/19 [00:00<00:15,  1.14it/s][codecarbon INFO @ 15:17:36] Energy consumed for RAM : 0.028122 kWh. RAM Power : 42.987337589263916 W\n",
      "[codecarbon INFO @ 15:17:36] Energy consumed for all GPUs : 0.160427 kWh. Total GPU Power : 252.72982041719138 W\n",
      "[codecarbon INFO @ 15:17:36] Energy consumed for all CPUs : 0.027821 kWh. Total CPU Power : 42.5 W\n",
      "[codecarbon INFO @ 15:17:36] 0.216370 kWh of electricity used since the beginning.\n",
      "                 Class     Images  Instances      Box(P          R      mAP50  mAP50-95): 100%|██████████| 19/19 [00:11<00:00,  1.63it/s]"
     ]
    },
    {
     "name": "stdout",
     "output_type": "stream",
     "text": [
      "                   all       2844       3135      0.944      0.907      0.962       0.82\n"
     ]
    },
    {
     "name": "stderr",
     "output_type": "stream",
     "text": [
      "\n"
     ]
    },
    {
     "name": "stdout",
     "output_type": "stream",
     "text": [
      "\n",
      "      Epoch    GPU_mem   box_loss   cls_loss   dfl_loss  Instances       Size\n"
     ]
    },
    {
     "name": "stderr",
     "output_type": "stream",
     "text": [
      "     21/100        38G     0.4438     0.3424      1.032        176        640:   3%|▎         | 5/156 [00:03<01:40,  1.50it/s][codecarbon INFO @ 15:17:51] Energy consumed for RAM : 0.028301 kWh. RAM Power : 42.987337589263916 W\n",
      "[codecarbon INFO @ 15:17:51] Energy consumed for all GPUs : 0.161343 kWh. Total GPU Power : 219.83051399912097 W\n",
      "[codecarbon INFO @ 15:17:51] Energy consumed for all CPUs : 0.027998 kWh. Total CPU Power : 42.5 W\n",
      "[codecarbon INFO @ 15:17:51] 0.217642 kWh of electricity used since the beginning.\n",
      "     21/100        38G     0.4437     0.3315      1.029        164        640:  18%|█▊        | 28/156 [00:18<01:23,  1.53it/s][codecarbon INFO @ 15:18:06] Energy consumed for RAM : 0.028480 kWh. RAM Power : 42.987337589263916 W\n",
      "[codecarbon INFO @ 15:18:06] Energy consumed for all GPUs : 0.162416 kWh. Total GPU Power : 257.56663486717576 W\n",
      "[codecarbon INFO @ 15:18:06] Energy consumed for all CPUs : 0.028175 kWh. Total CPU Power : 42.5 W\n",
      "[codecarbon INFO @ 15:18:06] 0.219071 kWh of electricity used since the beginning.\n",
      "     21/100        38G      0.446     0.3304      1.032        171        640:  33%|███▎      | 51/156 [00:33<01:08,  1.53it/s][codecarbon INFO @ 15:18:21] Energy consumed for RAM : 0.028659 kWh. RAM Power : 42.987337589263916 W\n",
      "[codecarbon INFO @ 15:18:21] Energy consumed for all GPUs : 0.163492 kWh. Total GPU Power : 258.2303723177076 W\n",
      "[codecarbon INFO @ 15:18:21] Energy consumed for all CPUs : 0.028352 kWh. Total CPU Power : 42.5 W\n",
      "[codecarbon INFO @ 15:18:21] 0.220503 kWh of electricity used since the beginning.\n",
      "[codecarbon ERROR @ 15:18:21] Region:  not found for Country with ISO CODE : USA\n",
      "Traceback (most recent call last):\n",
      "  File \"/home/rocky/miniconda3/envs/jupyterlab/lib/python3.12/site-packages/codecarbon/core/emissions.py\", line 142, in get_private_infra_emissions\n",
      "    return self.get_region_emissions(energy, geo)\n",
      "           ^^^^^^^^^^^^^^^^^^^^^^^^^^^^^^^^^^^^^^\n",
      "  File \"/home/rocky/miniconda3/envs/jupyterlab/lib/python3.12/site-packages/codecarbon/core/emissions.py\", line 168, in get_region_emissions\n",
      "    raise ValueError(\n",
      "ValueError: Region:  not found for Country with ISO CODE : USA\n",
      "[codecarbon WARNING @ 15:18:21] Regional emissions retrieval failed. Falling back on country emissions.\n",
      "[codecarbon INFO @ 15:18:21] 0.034648 g.CO2eq/s mean an estimation of 1,092.6676321650068 kg.CO2eq/year\n",
      "     21/100        38G      0.448      0.334      1.034        187        640:  47%|████▋     | 74/156 [00:48<00:54,  1.52it/s][codecarbon INFO @ 15:18:36] Energy consumed for RAM : 0.028838 kWh. RAM Power : 42.987337589263916 W\n",
      "[codecarbon INFO @ 15:18:36] Energy consumed for all GPUs : 0.164568 kWh. Total GPU Power : 258.3324646941906 W\n",
      "[codecarbon INFO @ 15:18:36] Energy consumed for all CPUs : 0.028529 kWh. Total CPU Power : 42.5 W\n",
      "[codecarbon INFO @ 15:18:36] 0.221935 kWh of electricity used since the beginning.\n",
      "     21/100        38G     0.4509      0.336      1.037        165        640:  62%|██████▏   | 97/156 [01:03<00:38,  1.53it/s][codecarbon INFO @ 15:18:51] Energy consumed for RAM : 0.029017 kWh. RAM Power : 42.987337589263916 W\n",
      "[codecarbon INFO @ 15:18:51] Energy consumed for all GPUs : 0.165647 kWh. Total GPU Power : 259.11340602413554 W\n",
      "[codecarbon INFO @ 15:18:51] Energy consumed for all CPUs : 0.028706 kWh. Total CPU Power : 42.5 W\n",
      "[codecarbon INFO @ 15:18:51] 0.223371 kWh of electricity used since the beginning.\n",
      "     21/100        38G     0.4502     0.3348      1.037        176        640:  77%|███████▋  | 120/156 [01:18<00:23,  1.53it/s][codecarbon INFO @ 15:19:06] Energy consumed for RAM : 0.029196 kWh. RAM Power : 42.987337589263916 W\n",
      "[codecarbon INFO @ 15:19:06] Energy consumed for all GPUs : 0.166716 kWh. Total GPU Power : 256.641827268136 W\n",
      "[codecarbon INFO @ 15:19:06] Energy consumed for all CPUs : 0.028883 kWh. Total CPU Power : 42.5 W\n",
      "[codecarbon INFO @ 15:19:06] 0.224796 kWh of electricity used since the beginning.\n",
      "     21/100        38G     0.4492      0.334      1.036        153        640:  92%|█████████▏| 143/156 [01:33<00:08,  1.53it/s][codecarbon INFO @ 15:19:21] Energy consumed for RAM : 0.029375 kWh. RAM Power : 42.987337589263916 W\n",
      "[codecarbon INFO @ 15:19:21] Energy consumed for all GPUs : 0.167791 kWh. Total GPU Power : 258.0760974612411 W\n",
      "[codecarbon INFO @ 15:19:21] Energy consumed for all CPUs : 0.029060 kWh. Total CPU Power : 42.5 W\n",
      "[codecarbon INFO @ 15:19:21] 0.226227 kWh of electricity used since the beginning.\n",
      "     21/100        38G     0.4487     0.3335      1.035         28        640: 100%|██████████| 156/156 [01:41<00:00,  1.54it/s]\n",
      "                 Class     Images  Instances      Box(P          R      mAP50  mAP50-95):  53%|█████▎    | 10/19 [00:06<00:05,  1.52it/s][codecarbon INFO @ 15:19:36] Energy consumed for RAM : 0.029554 kWh. RAM Power : 42.987337589263916 W\n",
      "[codecarbon INFO @ 15:19:36] Energy consumed for all GPUs : 0.168771 kWh. Total GPU Power : 235.27847874575755 W\n",
      "[codecarbon INFO @ 15:19:36] Energy consumed for all CPUs : 0.029237 kWh. Total CPU Power : 42.5 W\n",
      "[codecarbon INFO @ 15:19:36] 0.227563 kWh of electricity used since the beginning.\n",
      "                 Class     Images  Instances      Box(P          R      mAP50  mAP50-95): 100%|██████████| 19/19 [00:12<00:00,  1.57it/s]"
     ]
    },
    {
     "name": "stdout",
     "output_type": "stream",
     "text": [
      "                   all       2844       3135      0.937      0.896      0.952      0.809\n"
     ]
    },
    {
     "name": "stderr",
     "output_type": "stream",
     "text": [
      "\n"
     ]
    },
    {
     "name": "stdout",
     "output_type": "stream",
     "text": [
      "\n",
      "      Epoch    GPU_mem   box_loss   cls_loss   dfl_loss  Instances       Size\n"
     ]
    },
    {
     "name": "stderr",
     "output_type": "stream",
     "text": [
      "     22/100        38G     0.4572     0.3443      1.036        183        640:   8%|▊         | 13/156 [00:08<01:33,  1.53it/s][codecarbon INFO @ 15:19:51] Energy consumed for RAM : 0.029733 kWh. RAM Power : 42.987337589263916 W\n",
      "[codecarbon INFO @ 15:19:51] Energy consumed for all GPUs : 0.169739 kWh. Total GPU Power : 232.34182438164225 W\n",
      "[codecarbon INFO @ 15:19:51] Energy consumed for all CPUs : 0.029414 kWh. Total CPU Power : 42.5 W\n",
      "[codecarbon INFO @ 15:19:51] 0.228887 kWh of electricity used since the beginning.\n",
      "     22/100        38G     0.4471     0.3357      1.033        188        640:  23%|██▎       | 36/156 [00:23<01:18,  1.53it/s][codecarbon INFO @ 15:20:06] Energy consumed for RAM : 0.029912 kWh. RAM Power : 42.987337589263916 W\n",
      "[codecarbon INFO @ 15:20:06] Energy consumed for all GPUs : 0.170810 kWh. Total GPU Power : 257.18557008397073 W\n",
      "[codecarbon INFO @ 15:20:06] Energy consumed for all CPUs : 0.029591 kWh. Total CPU Power : 42.5 W\n",
      "[codecarbon INFO @ 15:20:06] 0.230314 kWh of electricity used since the beginning.\n",
      "     22/100        38G     0.4478     0.3374      1.036        167        640:  38%|███▊      | 59/156 [00:38<01:03,  1.53it/s][codecarbon INFO @ 15:20:21] Energy consumed for RAM : 0.030091 kWh. RAM Power : 42.987337589263916 W\n",
      "[codecarbon INFO @ 15:20:21] Energy consumed for all GPUs : 0.171884 kWh. Total GPU Power : 257.72375965379047 W\n",
      "[codecarbon INFO @ 15:20:21] Energy consumed for all CPUs : 0.029769 kWh. Total CPU Power : 42.5 W\n",
      "[codecarbon INFO @ 15:20:21] 0.231744 kWh of electricity used since the beginning.\n",
      "[codecarbon ERROR @ 15:20:21] Region:  not found for Country with ISO CODE : USA\n",
      "Traceback (most recent call last):\n",
      "  File \"/home/rocky/miniconda3/envs/jupyterlab/lib/python3.12/site-packages/codecarbon/core/emissions.py\", line 142, in get_private_infra_emissions\n",
      "    return self.get_region_emissions(energy, geo)\n",
      "           ^^^^^^^^^^^^^^^^^^^^^^^^^^^^^^^^^^^^^^\n",
      "  File \"/home/rocky/miniconda3/envs/jupyterlab/lib/python3.12/site-packages/codecarbon/core/emissions.py\", line 168, in get_region_emissions\n",
      "    raise ValueError(\n",
      "ValueError: Region:  not found for Country with ISO CODE : USA\n",
      "[codecarbon WARNING @ 15:20:21] Regional emissions retrieval failed. Falling back on country emissions.\n",
      "[codecarbon INFO @ 15:20:21] 0.034609 g.CO2eq/s mean an estimation of 1,091.4409852169929 kg.CO2eq/year\n",
      "     22/100        38G     0.4429     0.3334      1.036        201        640:  53%|█████▎    | 82/156 [00:53<00:48,  1.53it/s][codecarbon INFO @ 15:20:36] Energy consumed for RAM : 0.030271 kWh. RAM Power : 42.987337589263916 W\n",
      "[codecarbon INFO @ 15:20:36] Energy consumed for all GPUs : 0.172960 kWh. Total GPU Power : 258.3169261712145 W\n",
      "[codecarbon INFO @ 15:20:36] Energy consumed for all CPUs : 0.029946 kWh. Total CPU Power : 42.5 W\n",
      "[codecarbon INFO @ 15:20:36] 0.233176 kWh of electricity used since the beginning.\n",
      "     22/100        38G     0.4417     0.3316      1.035        177        640:  67%|██████▋   | 105/156 [01:08<00:33,  1.53it/s][codecarbon INFO @ 15:20:51] Energy consumed for RAM : 0.030450 kWh. RAM Power : 42.987337589263916 W\n",
      "[codecarbon INFO @ 15:20:51] Energy consumed for all GPUs : 0.174025 kWh. Total GPU Power : 255.63385933944082 W\n",
      "[codecarbon INFO @ 15:20:51] Energy consumed for all CPUs : 0.030123 kWh. Total CPU Power : 42.5 W\n",
      "[codecarbon INFO @ 15:20:51] 0.234597 kWh of electricity used since the beginning.\n",
      "     22/100        38G     0.4406     0.3327      1.035        172        640:  82%|████████▏ | 128/156 [01:23<00:18,  1.53it/s][codecarbon INFO @ 15:21:06] Energy consumed for RAM : 0.030629 kWh. RAM Power : 42.987337589263916 W\n",
      "[codecarbon INFO @ 15:21:06] Energy consumed for all GPUs : 0.175100 kWh. Total GPU Power : 258.06529060303734 W\n",
      "[codecarbon INFO @ 15:21:06] Energy consumed for all CPUs : 0.030300 kWh. Total CPU Power : 42.5 W\n",
      "[codecarbon INFO @ 15:21:06] 0.236028 kWh of electricity used since the beginning.\n",
      "     22/100        38G     0.4402     0.3322      1.034        189        640:  97%|█████████▋| 151/156 [01:38<00:03,  1.53it/s][codecarbon INFO @ 15:21:21] Energy consumed for RAM : 0.030808 kWh. RAM Power : 42.987337589263916 W\n",
      "[codecarbon INFO @ 15:21:21] Energy consumed for all GPUs : 0.176176 kWh. Total GPU Power : 258.28645020044746 W\n",
      "[codecarbon INFO @ 15:21:21] Energy consumed for all CPUs : 0.030477 kWh. Total CPU Power : 42.5 W\n",
      "[codecarbon INFO @ 15:21:21] 0.237460 kWh of electricity used since the beginning.\n",
      "     22/100        38G     0.4412     0.3332      1.034         33        640: 100%|██████████| 156/156 [01:41<00:00,  1.54it/s]\n",
      "                 Class     Images  Instances      Box(P          R      mAP50  mAP50-95): 100%|██████████| 19/19 [00:11<00:00,  1.58it/s]"
     ]
    },
    {
     "name": "stdout",
     "output_type": "stream",
     "text": [
      "                   all       2844       3135       0.94      0.902      0.959      0.824\n"
     ]
    },
    {
     "name": "stderr",
     "output_type": "stream",
     "text": [
      "\n",
      "[codecarbon INFO @ 15:21:36] Energy consumed for RAM : 0.030987 kWh. RAM Power : 42.987337589263916 W\n",
      "[codecarbon INFO @ 15:21:36] Energy consumed for all GPUs : 0.177084 kWh. Total GPU Power : 218.08275485555788 W\n",
      "[codecarbon INFO @ 15:21:36] Energy consumed for all CPUs : 0.030654 kWh. Total CPU Power : 42.5 W\n",
      "[codecarbon INFO @ 15:21:36] 0.238725 kWh of electricity used since the beginning.\n"
     ]
    },
    {
     "name": "stdout",
     "output_type": "stream",
     "text": [
      "\n",
      "      Epoch    GPU_mem   box_loss   cls_loss   dfl_loss  Instances       Size\n"
     ]
    },
    {
     "name": "stderr",
     "output_type": "stream",
     "text": [
      "     23/100        38G     0.4355     0.3271      1.027        210        640:  13%|█▎        | 21/156 [00:13<01:28,  1.52it/s][codecarbon INFO @ 15:21:51] Energy consumed for RAM : 0.031166 kWh. RAM Power : 42.987337589263916 W\n",
      "[codecarbon INFO @ 15:21:51] Energy consumed for all GPUs : 0.178116 kWh. Total GPU Power : 247.67799758990864 W\n",
      "[codecarbon INFO @ 15:21:51] Energy consumed for all CPUs : 0.030831 kWh. Total CPU Power : 42.5 W\n",
      "[codecarbon INFO @ 15:21:51] 0.240113 kWh of electricity used since the beginning.\n",
      "     23/100        38G     0.4317     0.3249      1.028        183        640:  28%|██▊       | 44/156 [00:28<01:13,  1.53it/s][codecarbon INFO @ 15:22:06] Energy consumed for RAM : 0.031345 kWh. RAM Power : 42.987337589263916 W\n",
      "[codecarbon INFO @ 15:22:06] Energy consumed for all GPUs : 0.179191 kWh. Total GPU Power : 258.0169165592024 W\n",
      "[codecarbon INFO @ 15:22:06] Energy consumed for all CPUs : 0.031008 kWh. Total CPU Power : 42.5 W\n",
      "[codecarbon INFO @ 15:22:06] 0.241544 kWh of electricity used since the beginning.\n",
      "     23/100        38G     0.4334     0.3274      1.029        193        640:  43%|████▎     | 67/156 [00:43<00:58,  1.53it/s][codecarbon INFO @ 15:22:21] Energy consumed for RAM : 0.031524 kWh. RAM Power : 42.987337589263916 W\n",
      "[codecarbon INFO @ 15:22:21] Energy consumed for all GPUs : 0.180271 kWh. Total GPU Power : 259.298507941846 W\n",
      "[codecarbon INFO @ 15:22:21] Energy consumed for all CPUs : 0.031185 kWh. Total CPU Power : 42.5 W\n",
      "[codecarbon INFO @ 15:22:21] 0.242980 kWh of electricity used since the beginning.\n",
      "[codecarbon ERROR @ 15:22:21] Region:  not found for Country with ISO CODE : USA\n",
      "Traceback (most recent call last):\n",
      "  File \"/home/rocky/miniconda3/envs/jupyterlab/lib/python3.12/site-packages/codecarbon/core/emissions.py\", line 142, in get_private_infra_emissions\n",
      "    return self.get_region_emissions(energy, geo)\n",
      "           ^^^^^^^^^^^^^^^^^^^^^^^^^^^^^^^^^^^^^^\n",
      "  File \"/home/rocky/miniconda3/envs/jupyterlab/lib/python3.12/site-packages/codecarbon/core/emissions.py\", line 168, in get_region_emissions\n",
      "    raise ValueError(\n",
      "ValueError: Region:  not found for Country with ISO CODE : USA\n",
      "[codecarbon WARNING @ 15:22:21] Regional emissions retrieval failed. Falling back on country emissions.\n",
      "[codecarbon INFO @ 15:22:21] 0.034594 g.CO2eq/s mean an estimation of 1,090.9456298019343 kg.CO2eq/year\n",
      "     23/100        38G     0.4332     0.3285      1.028        176        640:  58%|█████▊    | 90/156 [00:58<00:43,  1.53it/s][codecarbon INFO @ 15:22:36] Energy consumed for RAM : 0.031703 kWh. RAM Power : 42.987337589263916 W\n",
      "[codecarbon INFO @ 15:22:36] Energy consumed for all GPUs : 0.181340 kWh. Total GPU Power : 256.74145888751167 W\n",
      "[codecarbon INFO @ 15:22:36] Energy consumed for all CPUs : 0.031362 kWh. Total CPU Power : 42.5 W\n",
      "[codecarbon INFO @ 15:22:36] 0.244405 kWh of electricity used since the beginning.\n",
      "     23/100        38G     0.4312     0.3277      1.027        189        640:  72%|███████▏  | 113/156 [01:13<00:28,  1.53it/s][codecarbon INFO @ 15:22:51] Energy consumed for RAM : 0.031882 kWh. RAM Power : 42.987337589263916 W\n",
      "[codecarbon INFO @ 15:22:51] Energy consumed for all GPUs : 0.182418 kWh. Total GPU Power : 258.81351680835303 W\n",
      "[codecarbon INFO @ 15:22:51] Energy consumed for all CPUs : 0.031539 kWh. Total CPU Power : 42.5 W\n",
      "[codecarbon INFO @ 15:22:51] 0.245840 kWh of electricity used since the beginning.\n",
      "     23/100        38G     0.4306     0.3268      1.027        190        640:  87%|████████▋ | 136/156 [01:28<00:13,  1.53it/s][codecarbon INFO @ 15:23:06] Energy consumed for RAM : 0.032061 kWh. RAM Power : 42.987337589263916 W\n",
      "[codecarbon INFO @ 15:23:06] Energy consumed for all GPUs : 0.183497 kWh. Total GPU Power : 258.8273425490663 W\n",
      "[codecarbon INFO @ 15:23:06] Energy consumed for all CPUs : 0.031716 kWh. Total CPU Power : 42.5 W\n",
      "[codecarbon INFO @ 15:23:06] 0.247274 kWh of electricity used since the beginning.\n",
      "     23/100        38G     0.4312      0.328      1.029         35        640: 100%|██████████| 156/156 [01:41<00:00,  1.54it/s]\n",
      "                 Class     Images  Instances      Box(P          R      mAP50  mAP50-95):  16%|█▌        | 3/19 [00:02<00:11,  1.34it/s][codecarbon INFO @ 15:23:21] Energy consumed for RAM : 0.032240 kWh. RAM Power : 42.987337589263916 W\n",
      "[codecarbon INFO @ 15:23:21] Energy consumed for all GPUs : 0.184527 kWh. Total GPU Power : 247.49334753989564 W\n",
      "[codecarbon INFO @ 15:23:21] Energy consumed for all CPUs : 0.031893 kWh. Total CPU Power : 42.5 W\n",
      "[codecarbon INFO @ 15:23:21] 0.248661 kWh of electricity used since the beginning.\n",
      "                 Class     Images  Instances      Box(P          R      mAP50  mAP50-95): 100%|██████████| 19/19 [00:11<00:00,  1.60it/s]"
     ]
    },
    {
     "name": "stdout",
     "output_type": "stream",
     "text": [
      "                   all       2844       3135      0.961      0.914      0.963      0.831\n"
     ]
    },
    {
     "name": "stderr",
     "output_type": "stream",
     "text": [
      "\n"
     ]
    },
    {
     "name": "stdout",
     "output_type": "stream",
     "text": [
      "\n",
      "      Epoch    GPU_mem   box_loss   cls_loss   dfl_loss  Instances       Size\n"
     ]
    },
    {
     "name": "stderr",
     "output_type": "stream",
     "text": [
      "     24/100        38G     0.4305     0.3226      1.031        157        640:   4%|▍         | 7/156 [00:04<01:37,  1.52it/s][codecarbon INFO @ 15:23:36] Energy consumed for RAM : 0.032419 kWh. RAM Power : 42.987337589263916 W\n",
      "[codecarbon INFO @ 15:23:36] Energy consumed for all GPUs : 0.185445 kWh. Total GPU Power : 220.24828277856426 W\n",
      "[codecarbon INFO @ 15:23:36] Energy consumed for all CPUs : 0.032071 kWh. Total CPU Power : 42.5 W\n",
      "[codecarbon INFO @ 15:23:36] 0.249934 kWh of electricity used since the beginning.\n",
      "     24/100        38G     0.4299     0.3289      1.037        183        640:  19%|█▉        | 30/156 [00:19<01:22,  1.53it/s][codecarbon INFO @ 15:23:51] Energy consumed for RAM : 0.032598 kWh. RAM Power : 42.987337589263916 W\n",
      "[codecarbon INFO @ 15:23:51] Energy consumed for all GPUs : 0.186517 kWh. Total GPU Power : 257.41556158011247 W\n",
      "[codecarbon INFO @ 15:23:51] Energy consumed for all CPUs : 0.032248 kWh. Total CPU Power : 42.5 W\n",
      "[codecarbon INFO @ 15:23:51] 0.251363 kWh of electricity used since the beginning.\n",
      "     24/100        38G     0.4278     0.3282      1.035        196        640:  34%|███▍      | 53/156 [00:34<01:07,  1.53it/s][codecarbon INFO @ 15:24:06] Energy consumed for RAM : 0.032777 kWh. RAM Power : 42.987337589263916 W\n",
      "[codecarbon INFO @ 15:24:06] Energy consumed for all GPUs : 0.187591 kWh. Total GPU Power : 257.82217461525795 W\n",
      "[codecarbon INFO @ 15:24:06] Energy consumed for all CPUs : 0.032425 kWh. Total CPU Power : 42.5 W\n",
      "[codecarbon INFO @ 15:24:06] 0.252793 kWh of electricity used since the beginning.\n",
      "     24/100        38G     0.4259     0.3246       1.03        182        640:  49%|████▊     | 76/156 [00:49<00:52,  1.53it/s][codecarbon INFO @ 15:24:21] Energy consumed for RAM : 0.032956 kWh. RAM Power : 42.987337589263916 W\n",
      "[codecarbon INFO @ 15:24:21] Energy consumed for all GPUs : 0.188668 kWh. Total GPU Power : 258.50416519320925 W\n",
      "[codecarbon INFO @ 15:24:21] Energy consumed for all CPUs : 0.032602 kWh. Total CPU Power : 42.5 W\n",
      "[codecarbon INFO @ 15:24:21] 0.254226 kWh of electricity used since the beginning.\n",
      "[codecarbon ERROR @ 15:24:21] Region:  not found for Country with ISO CODE : USA\n",
      "Traceback (most recent call last):\n",
      "  File \"/home/rocky/miniconda3/envs/jupyterlab/lib/python3.12/site-packages/codecarbon/core/emissions.py\", line 142, in get_private_infra_emissions\n",
      "    return self.get_region_emissions(energy, geo)\n",
      "           ^^^^^^^^^^^^^^^^^^^^^^^^^^^^^^^^^^^^^^\n",
      "  File \"/home/rocky/miniconda3/envs/jupyterlab/lib/python3.12/site-packages/codecarbon/core/emissions.py\", line 168, in get_region_emissions\n",
      "    raise ValueError(\n",
      "ValueError: Region:  not found for Country with ISO CODE : USA\n",
      "[codecarbon WARNING @ 15:24:21] Regional emissions retrieval failed. Falling back on country emissions.\n",
      "[codecarbon INFO @ 15:24:21] 0.034624 g.CO2eq/s mean an estimation of 1,091.9050566674339 kg.CO2eq/year\n",
      "     24/100        38G     0.4236     0.3217      1.025        163        640:  63%|██████▎   | 99/156 [01:04<00:37,  1.53it/s][codecarbon INFO @ 15:24:36] Energy consumed for RAM : 0.033135 kWh. RAM Power : 42.987337589263916 W\n",
      "[codecarbon INFO @ 15:24:36] Energy consumed for all GPUs : 0.189745 kWh. Total GPU Power : 258.6154945476851 W\n",
      "[codecarbon INFO @ 15:24:36] Energy consumed for all CPUs : 0.032779 kWh. Total CPU Power : 42.5 W\n",
      "[codecarbon INFO @ 15:24:36] 0.255659 kWh of electricity used since the beginning.\n",
      "     24/100        38G     0.4234     0.3195      1.025        181        640:  78%|███████▊  | 122/156 [01:19<00:22,  1.53it/s][codecarbon INFO @ 15:24:51] Energy consumed for RAM : 0.033314 kWh. RAM Power : 42.987337589263916 W\n",
      "[codecarbon INFO @ 15:24:51] Energy consumed for all GPUs : 0.190817 kWh. Total GPU Power : 257.4496761339444 W\n",
      "[codecarbon INFO @ 15:24:51] Energy consumed for all CPUs : 0.032956 kWh. Total CPU Power : 42.5 W\n",
      "[codecarbon INFO @ 15:24:51] 0.257088 kWh of electricity used since the beginning.\n",
      "     24/100        38G     0.4251     0.3195      1.026        184        640:  93%|█████████▎| 145/156 [01:34<00:07,  1.53it/s][codecarbon INFO @ 15:25:06] Energy consumed for RAM : 0.033493 kWh. RAM Power : 42.987337589263916 W\n",
      "[codecarbon INFO @ 15:25:06] Energy consumed for all GPUs : 0.191898 kWh. Total GPU Power : 259.29625294085207 W\n",
      "[codecarbon INFO @ 15:25:06] Energy consumed for all CPUs : 0.033133 kWh. Total CPU Power : 42.5 W\n",
      "[codecarbon INFO @ 15:25:06] 0.258524 kWh of electricity used since the beginning.\n",
      "     24/100        38G     0.4238       0.32      1.025         31        640: 100%|██████████| 156/156 [01:41<00:00,  1.54it/s]\n",
      "                 Class     Images  Instances      Box(P          R      mAP50  mAP50-95):  63%|██████▎   | 12/19 [00:07<00:04,  1.65it/s][codecarbon INFO @ 15:25:21] Energy consumed for RAM : 0.033672 kWh. RAM Power : 42.987337589263916 W\n",
      "[codecarbon INFO @ 15:25:21] Energy consumed for all GPUs : 0.192874 kWh. Total GPU Power : 234.49333886508785 W\n",
      "[codecarbon INFO @ 15:25:21] Energy consumed for all CPUs : 0.033310 kWh. Total CPU Power : 42.5 W\n",
      "[codecarbon INFO @ 15:25:21] 0.259857 kWh of electricity used since the beginning.\n",
      "                 Class     Images  Instances      Box(P          R      mAP50  mAP50-95): 100%|██████████| 19/19 [00:11<00:00,  1.62it/s]"
     ]
    },
    {
     "name": "stdout",
     "output_type": "stream",
     "text": [
      "                   all       2844       3135      0.947       0.91      0.965      0.836\n"
     ]
    },
    {
     "name": "stderr",
     "output_type": "stream",
     "text": [
      "\n"
     ]
    },
    {
     "name": "stdout",
     "output_type": "stream",
     "text": [
      "\n",
      "      Epoch    GPU_mem   box_loss   cls_loss   dfl_loss  Instances       Size\n"
     ]
    },
    {
     "name": "stderr",
     "output_type": "stream",
     "text": [
      "     25/100        38G     0.4295     0.3341      1.043        166        640:  10%|▉         | 15/156 [00:09<01:32,  1.53it/s][codecarbon INFO @ 15:25:36] Energy consumed for RAM : 0.033851 kWh. RAM Power : 42.987337589263916 W\n",
      "[codecarbon INFO @ 15:25:36] Energy consumed for all GPUs : 0.193861 kWh. Total GPU Power : 236.8022261877365 W\n",
      "[codecarbon INFO @ 15:25:36] Energy consumed for all CPUs : 0.033487 kWh. Total CPU Power : 42.5 W\n",
      "[codecarbon INFO @ 15:25:36] 0.261199 kWh of electricity used since the beginning.\n",
      "     25/100        38G     0.4205     0.3233       1.03        175        640:  24%|██▍       | 38/156 [00:24<01:17,  1.52it/s][codecarbon INFO @ 15:25:51] Energy consumed for RAM : 0.034030 kWh. RAM Power : 42.987337589263916 W\n",
      "[codecarbon INFO @ 15:25:51] Energy consumed for all GPUs : 0.194934 kWh. Total GPU Power : 257.63767116169066 W\n",
      "[codecarbon INFO @ 15:25:51] Energy consumed for all CPUs : 0.033664 kWh. Total CPU Power : 42.5 W\n",
      "[codecarbon INFO @ 15:25:51] 0.262629 kWh of electricity used since the beginning.\n",
      "     25/100        38G     0.4179     0.3166      1.025        178        640:  39%|███▉      | 61/156 [00:39<01:02,  1.53it/s][codecarbon INFO @ 15:26:06] Energy consumed for RAM : 0.034209 kWh. RAM Power : 42.987337589263916 W\n",
      "[codecarbon INFO @ 15:26:06] Energy consumed for all GPUs : 0.196009 kWh. Total GPU Power : 258.15330338064155 W\n",
      "[codecarbon INFO @ 15:26:06] Energy consumed for all CPUs : 0.033841 kWh. Total CPU Power : 42.5 W\n",
      "[codecarbon INFO @ 15:26:06] 0.264060 kWh of electricity used since the beginning.\n",
      "     25/100        38G     0.4151      0.315      1.023        170        640:  54%|█████▍    | 84/156 [00:54<00:47,  1.53it/s][codecarbon INFO @ 15:26:21] Energy consumed for RAM : 0.034389 kWh. RAM Power : 42.987337589263916 W\n",
      "[codecarbon INFO @ 15:26:21] Energy consumed for all GPUs : 0.197089 kWh. Total GPU Power : 259.27676989951834 W\n",
      "[codecarbon INFO @ 15:26:21] Energy consumed for all CPUs : 0.034018 kWh. Total CPU Power : 42.5 W\n",
      "[codecarbon INFO @ 15:26:21] 0.265496 kWh of electricity used since the beginning.\n",
      "[codecarbon ERROR @ 15:26:21] Region:  not found for Country with ISO CODE : USA\n",
      "Traceback (most recent call last):\n",
      "  File \"/home/rocky/miniconda3/envs/jupyterlab/lib/python3.12/site-packages/codecarbon/core/emissions.py\", line 142, in get_private_infra_emissions\n",
      "    return self.get_region_emissions(energy, geo)\n",
      "           ^^^^^^^^^^^^^^^^^^^^^^^^^^^^^^^^^^^^^^\n",
      "  File \"/home/rocky/miniconda3/envs/jupyterlab/lib/python3.12/site-packages/codecarbon/core/emissions.py\", line 168, in get_region_emissions\n",
      "    raise ValueError(\n",
      "ValueError: Region:  not found for Country with ISO CODE : USA\n",
      "[codecarbon WARNING @ 15:26:21] Regional emissions retrieval failed. Falling back on country emissions.\n",
      "[codecarbon INFO @ 15:26:21] 0.034700 g.CO2eq/s mean an estimation of 1,094.2865948480899 kg.CO2eq/year\n",
      "     25/100        38G     0.4144     0.3145      1.021        188        640:  69%|██████▊   | 107/156 [01:10<00:32,  1.53it/s][codecarbon INFO @ 15:26:36] Energy consumed for RAM : 0.034568 kWh. RAM Power : 42.987337589263916 W\n",
      "[codecarbon INFO @ 15:26:36] Energy consumed for all GPUs : 0.198165 kWh. Total GPU Power : 258.1191264032319 W\n",
      "[codecarbon INFO @ 15:26:36] Energy consumed for all CPUs : 0.034195 kWh. Total CPU Power : 42.5 W\n",
      "[codecarbon INFO @ 15:26:36] 0.266928 kWh of electricity used since the beginning.\n",
      "     25/100        38G     0.4137     0.3142       1.02        159        640:  83%|████████▎ | 130/156 [01:25<00:17,  1.53it/s][codecarbon INFO @ 15:26:51] Energy consumed for RAM : 0.034747 kWh. RAM Power : 42.987337589263916 W\n",
      "[codecarbon INFO @ 15:26:51] Energy consumed for all GPUs : 0.199241 kWh. Total GPU Power : 258.38814856758023 W\n",
      "[codecarbon INFO @ 15:26:51] Energy consumed for all CPUs : 0.034373 kWh. Total CPU Power : 42.5 W\n",
      "[codecarbon INFO @ 15:26:51] 0.268360 kWh of electricity used since the beginning.\n",
      "     25/100        38G     0.4138     0.3134      1.018        164        640:  98%|█████████▊| 153/156 [01:40<00:01,  1.53it/s][codecarbon INFO @ 15:27:06] Energy consumed for RAM : 0.034926 kWh. RAM Power : 42.987337589263916 W\n",
      "[codecarbon INFO @ 15:27:06] Energy consumed for all GPUs : 0.200300 kWh. Total GPU Power : 254.37394553664876 W\n",
      "[codecarbon INFO @ 15:27:06] Energy consumed for all CPUs : 0.034550 kWh. Total CPU Power : 42.5 W\n",
      "[codecarbon INFO @ 15:27:06] 0.269776 kWh of electricity used since the beginning.\n",
      "     25/100        38G      0.415     0.3138      1.019         22        640: 100%|██████████| 156/156 [01:41<00:00,  1.53it/s]\n",
      "                 Class     Images  Instances      Box(P          R      mAP50  mAP50-95): 100%|██████████| 19/19 [00:11<00:00,  1.60it/s]"
     ]
    },
    {
     "name": "stdout",
     "output_type": "stream",
     "text": [
      "                   all       2844       3135      0.947      0.914      0.965      0.835\n"
     ]
    },
    {
     "name": "stderr",
     "output_type": "stream",
     "text": [
      "\n"
     ]
    },
    {
     "name": "stdout",
     "output_type": "stream",
     "text": [
      "\n",
      "      Epoch    GPU_mem   box_loss   cls_loss   dfl_loss  Instances       Size\n"
     ]
    },
    {
     "name": "stderr",
     "output_type": "stream",
     "text": [
      "     26/100        38G     0.4353     0.2976      1.028        170        640:   1%|          | 1/156 [00:00<01:50,  1.40it/s][codecarbon INFO @ 15:27:21] Energy consumed for RAM : 0.035105 kWh. RAM Power : 42.987337589263916 W\n",
      "[codecarbon INFO @ 15:27:21] Energy consumed for all GPUs : 0.201191 kWh. Total GPU Power : 213.82594346081584 W\n",
      "[codecarbon INFO @ 15:27:21] Energy consumed for all CPUs : 0.034727 kWh. Total CPU Power : 42.5 W\n",
      "[codecarbon INFO @ 15:27:21] 0.271022 kWh of electricity used since the beginning.\n",
      "     26/100        38G     0.4148     0.3007      1.022        169        640:  15%|█▌        | 24/156 [00:15<01:25,  1.54it/s][codecarbon INFO @ 15:27:36] Energy consumed for RAM : 0.035284 kWh. RAM Power : 42.987337589263916 W\n",
      "[codecarbon INFO @ 15:27:36] Energy consumed for all GPUs : 0.202265 kWh. Total GPU Power : 257.7500816628006 W\n",
      "[codecarbon INFO @ 15:27:36] Energy consumed for all CPUs : 0.034904 kWh. Total CPU Power : 42.5 W\n",
      "[codecarbon INFO @ 15:27:36] 0.272452 kWh of electricity used since the beginning.\n",
      "     26/100        38G     0.4196      0.306      1.024        175        640:  30%|███       | 47/156 [00:30<01:11,  1.52it/s][codecarbon INFO @ 15:27:51] Energy consumed for RAM : 0.035463 kWh. RAM Power : 42.987337589263916 W\n",
      "[codecarbon INFO @ 15:27:51] Energy consumed for all GPUs : 0.203333 kWh. Total GPU Power : 256.4002966724227 W\n",
      "[codecarbon INFO @ 15:27:51] Energy consumed for all CPUs : 0.035081 kWh. Total CPU Power : 42.5 W\n",
      "[codecarbon INFO @ 15:27:51] 0.273876 kWh of electricity used since the beginning.\n",
      "     26/100        38G     0.4164     0.3077      1.024        177        640:  45%|████▍     | 70/156 [00:45<00:56,  1.53it/s][codecarbon INFO @ 15:28:06] Energy consumed for RAM : 0.035642 kWh. RAM Power : 42.987337589263916 W\n",
      "[codecarbon INFO @ 15:28:06] Energy consumed for all GPUs : 0.204407 kWh. Total GPU Power : 257.78769653914986 W\n",
      "[codecarbon INFO @ 15:28:06] Energy consumed for all CPUs : 0.035258 kWh. Total CPU Power : 42.5 W\n",
      "[codecarbon INFO @ 15:28:06] 0.275306 kWh of electricity used since the beginning.\n",
      "     26/100        38G     0.4156     0.3087      1.025        181        640:  60%|█████▉    | 93/156 [01:00<00:41,  1.53it/s][codecarbon INFO @ 15:28:21] Energy consumed for RAM : 0.035821 kWh. RAM Power : 42.987337589263916 W\n",
      "[codecarbon INFO @ 15:28:21] Energy consumed for all GPUs : 0.205481 kWh. Total GPU Power : 257.9491305468573 W\n",
      "[codecarbon INFO @ 15:28:21] Energy consumed for all CPUs : 0.035435 kWh. Total CPU Power : 42.5 W\n",
      "[codecarbon INFO @ 15:28:21] 0.276737 kWh of electricity used since the beginning.\n",
      "[codecarbon ERROR @ 15:28:21] Region:  not found for Country with ISO CODE : USA\n",
      "Traceback (most recent call last):\n",
      "  File \"/home/rocky/miniconda3/envs/jupyterlab/lib/python3.12/site-packages/codecarbon/core/emissions.py\", line 142, in get_private_infra_emissions\n",
      "    return self.get_region_emissions(energy, geo)\n",
      "           ^^^^^^^^^^^^^^^^^^^^^^^^^^^^^^^^^^^^^^\n",
      "  File \"/home/rocky/miniconda3/envs/jupyterlab/lib/python3.12/site-packages/codecarbon/core/emissions.py\", line 168, in get_region_emissions\n",
      "    raise ValueError(\n",
      "ValueError: Region:  not found for Country with ISO CODE : USA\n",
      "[codecarbon WARNING @ 15:28:21] Regional emissions retrieval failed. Falling back on country emissions.\n",
      "[codecarbon INFO @ 15:28:21] 0.034608 g.CO2eq/s mean an estimation of 1,091.4091883117717 kg.CO2eq/year\n",
      "     26/100        38G     0.4145     0.3083      1.024        168        640:  74%|███████▎  | 115/156 [01:15<00:26,  1.53it/s][codecarbon INFO @ 15:28:36] Energy consumed for RAM : 0.036000 kWh. RAM Power : 42.987337589263916 W\n",
      "[codecarbon INFO @ 15:28:36] Energy consumed for all GPUs : 0.206559 kWh. Total GPU Power : 258.86110657262503 W\n",
      "[codecarbon INFO @ 15:28:36] Energy consumed for all CPUs : 0.035612 kWh. Total CPU Power : 42.5 W\n",
      "[codecarbon INFO @ 15:28:36] 0.278171 kWh of electricity used since the beginning.\n",
      "     26/100        38G     0.4137     0.3082      1.023        184        640:  88%|████████▊ | 138/156 [01:30<00:11,  1.53it/s][codecarbon INFO @ 15:28:51] Energy consumed for RAM : 0.036179 kWh. RAM Power : 42.987337589263916 W\n",
      "[codecarbon INFO @ 15:28:51] Energy consumed for all GPUs : 0.207638 kWh. Total GPU Power : 258.9038459461895 W\n",
      "[codecarbon INFO @ 15:28:51] Energy consumed for all CPUs : 0.035789 kWh. Total CPU Power : 42.5 W\n",
      "[codecarbon INFO @ 15:28:51] 0.279606 kWh of electricity used since the beginning.\n",
      "     26/100        38G     0.4122     0.3087       1.02         31        640: 100%|██████████| 156/156 [01:41<00:00,  1.53it/s]\n",
      "                 Class     Images  Instances      Box(P          R      mAP50  mAP50-95):  32%|███▏      | 6/19 [00:04<00:08,  1.53it/s][codecarbon INFO @ 15:29:06] Energy consumed for RAM : 0.036358 kWh. RAM Power : 42.987337589263916 W\n",
      "[codecarbon INFO @ 15:29:06] Energy consumed for all GPUs : 0.208639 kWh. Total GPU Power : 240.24920059748513 W\n",
      "[codecarbon INFO @ 15:29:06] Energy consumed for all CPUs : 0.035966 kWh. Total CPU Power : 42.5 W\n",
      "[codecarbon INFO @ 15:29:06] 0.280963 kWh of electricity used since the beginning.\n",
      "                 Class     Images  Instances      Box(P          R      mAP50  mAP50-95): 100%|██████████| 19/19 [00:11<00:00,  1.62it/s]"
     ]
    },
    {
     "name": "stdout",
     "output_type": "stream",
     "text": [
      "                   all       2844       3135      0.949      0.912      0.966      0.829\n"
     ]
    },
    {
     "name": "stderr",
     "output_type": "stream",
     "text": [
      "\n"
     ]
    },
    {
     "name": "stdout",
     "output_type": "stream",
     "text": [
      "\n",
      "      Epoch    GPU_mem   box_loss   cls_loss   dfl_loss  Instances       Size\n"
     ]
    },
    {
     "name": "stderr",
     "output_type": "stream",
     "text": [
      "     27/100        38G     0.4071     0.2972      1.015        175        640:   6%|▋         | 10/156 [00:06<01:35,  1.52it/s][codecarbon INFO @ 15:29:21] Energy consumed for RAM : 0.036537 kWh. RAM Power : 42.987337589263916 W\n",
      "[codecarbon INFO @ 15:29:21] Energy consumed for all GPUs : 0.209598 kWh. Total GPU Power : 230.35728798463833 W\n",
      "[codecarbon INFO @ 15:29:21] Energy consumed for all CPUs : 0.036143 kWh. Total CPU Power : 42.5 W\n",
      "[codecarbon INFO @ 15:29:21] 0.282278 kWh of electricity used since the beginning.\n",
      "     27/100        38G     0.4026     0.3006      1.011        191        640:  21%|██        | 32/156 [00:21<01:22,  1.50it/s][codecarbon INFO @ 15:29:36] Energy consumed for RAM : 0.036716 kWh. RAM Power : 42.987337589263916 W\n",
      "[codecarbon INFO @ 15:29:36] Energy consumed for all GPUs : 0.210666 kWh. Total GPU Power : 256.45944560798745 W\n",
      "[codecarbon INFO @ 15:29:36] Energy consumed for all CPUs : 0.036320 kWh. Total CPU Power : 42.5 W\n",
      "[codecarbon INFO @ 15:29:36] 0.283702 kWh of electricity used since the beginning.\n",
      "     27/100        38G        inf     0.3049      1.013        184        640:  35%|███▌      | 55/156 [00:36<01:06,  1.51it/s][codecarbon INFO @ 15:29:51] Energy consumed for RAM : 0.036895 kWh. RAM Power : 42.987337589263916 W\n",
      "[codecarbon INFO @ 15:29:51] Energy consumed for all GPUs : 0.211726 kWh. Total GPU Power : 254.40253486560087 W\n",
      "[codecarbon INFO @ 15:29:51] Energy consumed for all CPUs : 0.036497 kWh. Total CPU Power : 42.5 W\n",
      "[codecarbon INFO @ 15:29:51] 0.285118 kWh of electricity used since the beginning.\n",
      "     27/100        38G        inf     0.3039      1.012        177        640:  50%|█████     | 78/156 [00:51<00:51,  1.52it/s][codecarbon INFO @ 15:30:06] Energy consumed for RAM : 0.037074 kWh. RAM Power : 42.987337589263916 W\n",
      "[codecarbon INFO @ 15:30:06] Energy consumed for all GPUs : 0.212796 kWh. Total GPU Power : 256.84089967670565 W\n",
      "[codecarbon INFO @ 15:30:06] Energy consumed for all CPUs : 0.036675 kWh. Total CPU Power : 42.5 W\n",
      "[codecarbon INFO @ 15:30:06] 0.286544 kWh of electricity used since the beginning.\n",
      "     27/100        38G        inf     0.3042      1.013        170        640:  65%|██████▍   | 101/156 [01:06<00:36,  1.51it/s][codecarbon INFO @ 15:30:21] Energy consumed for RAM : 0.037253 kWh. RAM Power : 42.987337589263916 W\n",
      "[codecarbon INFO @ 15:30:21] Energy consumed for all GPUs : 0.213869 kWh. Total GPU Power : 257.67982211071995 W\n",
      "[codecarbon INFO @ 15:30:21] Energy consumed for all CPUs : 0.036852 kWh. Total CPU Power : 42.5 W\n",
      "[codecarbon INFO @ 15:30:21] 0.287974 kWh of electricity used since the beginning.\n",
      "[codecarbon ERROR @ 15:30:21] Region:  not found for Country with ISO CODE : USA\n",
      "Traceback (most recent call last):\n",
      "  File \"/home/rocky/miniconda3/envs/jupyterlab/lib/python3.12/site-packages/codecarbon/core/emissions.py\", line 142, in get_private_infra_emissions\n",
      "    return self.get_region_emissions(energy, geo)\n",
      "           ^^^^^^^^^^^^^^^^^^^^^^^^^^^^^^^^^^^^^^\n",
      "  File \"/home/rocky/miniconda3/envs/jupyterlab/lib/python3.12/site-packages/codecarbon/core/emissions.py\", line 168, in get_region_emissions\n",
      "    raise ValueError(\n",
      "ValueError: Region:  not found for Country with ISO CODE : USA\n",
      "[codecarbon WARNING @ 15:30:21] Regional emissions retrieval failed. Falling back on country emissions.\n",
      "[codecarbon INFO @ 15:30:21] 0.034597 g.CO2eq/s mean an estimation of 1,091.0435421551338 kg.CO2eq/year\n",
      "     27/100        38G        inf      0.305      1.014        182        640:  79%|███████▉  | 123/156 [01:21<00:21,  1.52it/s][codecarbon INFO @ 15:30:36] Energy consumed for RAM : 0.037432 kWh. RAM Power : 42.987337589263916 W\n",
      "[codecarbon INFO @ 15:30:36] Energy consumed for all GPUs : 0.214940 kWh. Total GPU Power : 257.19336260530923 W\n",
      "[codecarbon INFO @ 15:30:36] Energy consumed for all CPUs : 0.037029 kWh. Total CPU Power : 42.5 W\n",
      "[codecarbon INFO @ 15:30:36] 0.289401 kWh of electricity used since the beginning.\n",
      "     27/100        38G        inf     0.3045      1.014        153        640:  94%|█████████▎| 146/156 [01:36<00:06,  1.52it/s][codecarbon INFO @ 15:30:51] Energy consumed for RAM : 0.037611 kWh. RAM Power : 42.987337589263916 W\n",
      "[codecarbon INFO @ 15:30:51] Energy consumed for all GPUs : 0.216011 kWh. Total GPU Power : 256.90062633379677 W\n",
      "[codecarbon INFO @ 15:30:51] Energy consumed for all CPUs : 0.037206 kWh. Total CPU Power : 42.5 W\n",
      "[codecarbon INFO @ 15:30:51] 0.290828 kWh of electricity used since the beginning.\n",
      "     27/100        38G        inf     0.3046      1.014         26        640: 100%|██████████| 156/156 [01:42<00:00,  1.52it/s]\n",
      "                 Class     Images  Instances      Box(P          R      mAP50  mAP50-95):  68%|██████▊   | 13/19 [00:08<00:03,  1.61it/s][codecarbon INFO @ 15:31:06] Energy consumed for RAM : 0.037790 kWh. RAM Power : 42.987337589263916 W\n",
      "[codecarbon INFO @ 15:31:06] Energy consumed for all GPUs : 0.216964 kWh. Total GPU Power : 228.86787620914862 W\n",
      "[codecarbon INFO @ 15:31:06] Energy consumed for all CPUs : 0.037383 kWh. Total CPU Power : 42.5 W\n",
      "[codecarbon INFO @ 15:31:06] 0.292137 kWh of electricity used since the beginning.\n",
      "                 Class     Images  Instances      Box(P          R      mAP50  mAP50-95): 100%|██████████| 19/19 [00:11<00:00,  1.59it/s]"
     ]
    },
    {
     "name": "stdout",
     "output_type": "stream",
     "text": [
      "                   all       2844       3135      0.962      0.917      0.967      0.841\n"
     ]
    },
    {
     "name": "stderr",
     "output_type": "stream",
     "text": [
      "\n"
     ]
    },
    {
     "name": "stdout",
     "output_type": "stream",
     "text": [
      "\n",
      "      Epoch    GPU_mem   box_loss   cls_loss   dfl_loss  Instances       Size\n"
     ]
    },
    {
     "name": "stderr",
     "output_type": "stream",
     "text": [
      "     28/100        38G     0.3973     0.2945     0.9992        176        640:  10%|█         | 16/156 [00:10<01:31,  1.52it/s][codecarbon INFO @ 15:31:21] Energy consumed for RAM : 0.037969 kWh. RAM Power : 42.987337589263916 W\n",
      "[codecarbon INFO @ 15:31:21] Energy consumed for all GPUs : 0.217959 kWh. Total GPU Power : 238.80626143802382 W\n",
      "[codecarbon INFO @ 15:31:21] Energy consumed for all CPUs : 0.037560 kWh. Total CPU Power : 42.5 W\n",
      "[codecarbon INFO @ 15:31:21] 0.293488 kWh of electricity used since the beginning.\n",
      "     28/100        38G     0.3981     0.3023      1.005        173        640:  25%|██▌       | 39/156 [00:25<01:16,  1.53it/s][codecarbon INFO @ 15:31:36] Energy consumed for RAM : 0.038148 kWh. RAM Power : 42.987337589263916 W\n",
      "[codecarbon INFO @ 15:31:36] Energy consumed for all GPUs : 0.219027 kWh. Total GPU Power : 256.53183285843335 W\n",
      "[codecarbon INFO @ 15:31:36] Energy consumed for all CPUs : 0.037737 kWh. Total CPU Power : 42.5 W\n",
      "[codecarbon INFO @ 15:31:36] 0.294913 kWh of electricity used since the beginning.\n",
      "     28/100        38G     0.4026     0.3036      1.005        160        640:  40%|███▉      | 62/156 [00:40<01:01,  1.52it/s][codecarbon INFO @ 15:31:51] Energy consumed for RAM : 0.038327 kWh. RAM Power : 42.987337589263916 W\n",
      "[codecarbon INFO @ 15:31:51] Energy consumed for all GPUs : 0.220098 kWh. Total GPU Power : 256.9741463889323 W\n",
      "[codecarbon INFO @ 15:31:51] Energy consumed for all CPUs : 0.037914 kWh. Total CPU Power : 42.5 W\n",
      "[codecarbon INFO @ 15:31:51] 0.296339 kWh of electricity used since the beginning.\n",
      "     28/100        38G     0.4023     0.3031      1.005        201        640:  54%|█████▍    | 85/156 [00:55<00:46,  1.53it/s][codecarbon INFO @ 15:32:06] Energy consumed for RAM : 0.038506 kWh. RAM Power : 42.987337589263916 W\n",
      "[codecarbon INFO @ 15:32:06] Energy consumed for all GPUs : 0.221173 kWh. Total GPU Power : 258.0565936741298 W\n",
      "[codecarbon INFO @ 15:32:06] Energy consumed for all CPUs : 0.038091 kWh. Total CPU Power : 42.5 W\n",
      "[codecarbon INFO @ 15:32:06] 0.297770 kWh of electricity used since the beginning.\n",
      "     28/100        38G     0.4002     0.3014      1.004        194        640:  69%|██████▉   | 108/156 [01:10<00:31,  1.52it/s][codecarbon INFO @ 15:32:21] Energy consumed for RAM : 0.038686 kWh. RAM Power : 42.987337589263916 W\n",
      "[codecarbon INFO @ 15:32:21] Energy consumed for all GPUs : 0.222245 kWh. Total GPU Power : 257.36539450114606 W\n",
      "[codecarbon INFO @ 15:32:21] Energy consumed for all CPUs : 0.038268 kWh. Total CPU Power : 42.5 W\n",
      "[codecarbon INFO @ 15:32:21] 0.299199 kWh of electricity used since the beginning.\n",
      "[codecarbon ERROR @ 15:32:21] Region:  not found for Country with ISO CODE : USA\n",
      "Traceback (most recent call last):\n",
      "  File \"/home/rocky/miniconda3/envs/jupyterlab/lib/python3.12/site-packages/codecarbon/core/emissions.py\", line 142, in get_private_infra_emissions\n",
      "    return self.get_region_emissions(energy, geo)\n",
      "           ^^^^^^^^^^^^^^^^^^^^^^^^^^^^^^^^^^^^^^\n",
      "  File \"/home/rocky/miniconda3/envs/jupyterlab/lib/python3.12/site-packages/codecarbon/core/emissions.py\", line 168, in get_region_emissions\n",
      "    raise ValueError(\n",
      "ValueError: Region:  not found for Country with ISO CODE : USA\n",
      "[codecarbon WARNING @ 15:32:21] Regional emissions retrieval failed. Falling back on country emissions.\n",
      "[codecarbon INFO @ 15:32:21] 0.034558 g.CO2eq/s mean an estimation of 1,089.8330493680971 kg.CO2eq/year\n",
      "     28/100        38G     0.3976     0.2998      1.002        155        640:  84%|████████▍ | 131/156 [01:25<00:16,  1.52it/s][codecarbon INFO @ 15:32:36] Energy consumed for RAM : 0.038865 kWh. RAM Power : 42.987337589263916 W\n",
      "[codecarbon INFO @ 15:32:36] Energy consumed for all GPUs : 0.223321 kWh. Total GPU Power : 258.3160655920374 W\n",
      "[codecarbon INFO @ 15:32:36] Energy consumed for all CPUs : 0.038445 kWh. Total CPU Power : 42.5 W\n",
      "[codecarbon INFO @ 15:32:36] 0.300631 kWh of electricity used since the beginning.\n",
      "     28/100        38G     0.3964     0.2983      1.002        172        640:  99%|█████████▊| 154/156 [01:41<00:01,  1.53it/s][codecarbon INFO @ 15:32:51] Energy consumed for RAM : 0.039044 kWh. RAM Power : 42.987337589263916 W\n",
      "[codecarbon INFO @ 15:32:51] Energy consumed for all GPUs : 0.224385 kWh. Total GPU Power : 255.4671788119311 W\n",
      "[codecarbon INFO @ 15:32:51] Energy consumed for all CPUs : 0.038622 kWh. Total CPU Power : 42.5 W\n",
      "[codecarbon INFO @ 15:32:51] 0.302051 kWh of electricity used since the beginning.\n",
      "     28/100        38G     0.3974     0.2992      1.003         23        640: 100%|██████████| 156/156 [01:41<00:00,  1.53it/s]\n",
      "                 Class     Images  Instances      Box(P          R      mAP50  mAP50-95): 100%|██████████| 19/19 [00:11<00:00,  1.59it/s]"
     ]
    },
    {
     "name": "stdout",
     "output_type": "stream",
     "text": [
      "                   all       2844       3135      0.969      0.904      0.967      0.849\n"
     ]
    },
    {
     "name": "stderr",
     "output_type": "stream",
     "text": [
      "\n"
     ]
    },
    {
     "name": "stdout",
     "output_type": "stream",
     "text": [
      "\n",
      "      Epoch    GPU_mem   box_loss   cls_loss   dfl_loss  Instances       Size\n"
     ]
    },
    {
     "name": "stderr",
     "output_type": "stream",
     "text": [
      "     29/100        38G     0.4213     0.3006      0.998        192        640:   1%|          | 1/156 [00:00<01:46,  1.46it/s][codecarbon INFO @ 15:33:06] Energy consumed for RAM : 0.039223 kWh. RAM Power : 42.987337589263916 W\n",
      "[codecarbon INFO @ 15:33:06] Energy consumed for all GPUs : 0.225272 kWh. Total GPU Power : 212.95906486287225 W\n",
      "[codecarbon INFO @ 15:33:06] Energy consumed for all CPUs : 0.038799 kWh. Total CPU Power : 42.5 W\n",
      "[codecarbon INFO @ 15:33:06] 0.303294 kWh of electricity used since the beginning.\n",
      "     29/100        38G     0.3995     0.2984      1.012        190        640:  15%|█▌        | 24/156 [00:15<01:26,  1.53it/s][codecarbon INFO @ 15:33:21] Energy consumed for RAM : 0.039402 kWh. RAM Power : 42.987337589263916 W\n",
      "[codecarbon INFO @ 15:33:21] Energy consumed for all GPUs : 0.226340 kWh. Total GPU Power : 256.394717473726 W\n",
      "[codecarbon INFO @ 15:33:21] Energy consumed for all CPUs : 0.038977 kWh. Total CPU Power : 42.5 W\n",
      "[codecarbon INFO @ 15:33:21] 0.304718 kWh of electricity used since the beginning.\n",
      "     29/100        38G      0.395     0.2926      1.012        171        640:  30%|███       | 47/156 [00:30<01:11,  1.53it/s][codecarbon INFO @ 15:33:36] Energy consumed for RAM : 0.039581 kWh. RAM Power : 42.987337589263916 W\n",
      "[codecarbon INFO @ 15:33:36] Energy consumed for all GPUs : 0.227418 kWh. Total GPU Power : 258.84571953172394 W\n",
      "[codecarbon INFO @ 15:33:36] Energy consumed for all CPUs : 0.039154 kWh. Total CPU Power : 42.5 W\n",
      "[codecarbon INFO @ 15:33:36] 0.306152 kWh of electricity used since the beginning.\n",
      "     29/100        38G     0.3923     0.2928      1.011        157        640:  45%|████▍     | 70/156 [00:45<00:56,  1.53it/s][codecarbon INFO @ 15:33:51] Energy consumed for RAM : 0.039760 kWh. RAM Power : 42.987337589263916 W\n",
      "[codecarbon INFO @ 15:33:51] Energy consumed for all GPUs : 0.228496 kWh. Total GPU Power : 258.7294527759645 W\n",
      "[codecarbon INFO @ 15:33:51] Energy consumed for all CPUs : 0.039331 kWh. Total CPU Power : 42.5 W\n",
      "[codecarbon INFO @ 15:33:51] 0.307586 kWh of electricity used since the beginning.\n",
      "     29/100        38G     0.3925     0.2936       1.01        178        640:  60%|█████▉    | 93/156 [01:00<00:41,  1.53it/s][codecarbon INFO @ 15:34:06] Energy consumed for RAM : 0.039939 kWh. RAM Power : 42.987337589263916 W\n",
      "[codecarbon INFO @ 15:34:06] Energy consumed for all GPUs : 0.229574 kWh. Total GPU Power : 258.8117270304406 W\n",
      "[codecarbon INFO @ 15:34:06] Energy consumed for all CPUs : 0.039508 kWh. Total CPU Power : 42.5 W\n",
      "[codecarbon INFO @ 15:34:06] 0.309021 kWh of electricity used since the beginning.\n",
      "     29/100        38G     0.3927     0.2939      1.007        141        640:  74%|███████▍  | 116/156 [01:15<00:26,  1.53it/s][codecarbon INFO @ 15:34:21] Energy consumed for RAM : 0.040118 kWh. RAM Power : 42.987337589263916 W\n",
      "[codecarbon INFO @ 15:34:21] Energy consumed for all GPUs : 0.230647 kWh. Total GPU Power : 257.6429934818961 W\n",
      "[codecarbon INFO @ 15:34:21] Energy consumed for all CPUs : 0.039685 kWh. Total CPU Power : 42.5 W\n",
      "[codecarbon INFO @ 15:34:21] 0.310450 kWh of electricity used since the beginning.\n",
      "[codecarbon ERROR @ 15:34:21] Region:  not found for Country with ISO CODE : USA\n",
      "Traceback (most recent call last):\n",
      "  File \"/home/rocky/miniconda3/envs/jupyterlab/lib/python3.12/site-packages/codecarbon/core/emissions.py\", line 142, in get_private_infra_emissions\n",
      "    return self.get_region_emissions(energy, geo)\n",
      "           ^^^^^^^^^^^^^^^^^^^^^^^^^^^^^^^^^^^^^^\n",
      "  File \"/home/rocky/miniconda3/envs/jupyterlab/lib/python3.12/site-packages/codecarbon/core/emissions.py\", line 168, in get_region_emissions\n",
      "    raise ValueError(\n",
      "ValueError: Region:  not found for Country with ISO CODE : USA\n",
      "[codecarbon WARNING @ 15:34:21] Regional emissions retrieval failed. Falling back on country emissions.\n",
      "[codecarbon INFO @ 15:34:21] 0.034641 g.CO2eq/s mean an estimation of 1,092.4527742693758 kg.CO2eq/year\n",
      "     29/100        38G     0.3926     0.2937      1.005        190        640:  89%|████████▉ | 139/156 [01:30<00:11,  1.54it/s][codecarbon INFO @ 15:34:36] Energy consumed for RAM : 0.040297 kWh. RAM Power : 42.987337589263916 W\n",
      "[codecarbon INFO @ 15:34:36] Energy consumed for all GPUs : 0.231718 kWh. Total GPU Power : 256.9526464351909 W\n",
      "[codecarbon INFO @ 15:34:36] Energy consumed for all CPUs : 0.039862 kWh. Total CPU Power : 42.5 W\n",
      "[codecarbon INFO @ 15:34:36] 0.311877 kWh of electricity used since the beginning.\n",
      "     29/100        38G     0.3922      0.294      1.005         21        640: 100%|██████████| 156/156 [01:41<00:00,  1.54it/s]\n",
      "                 Class     Images  Instances      Box(P          R      mAP50  mAP50-95):  37%|███▋      | 7/19 [00:04<00:07,  1.53it/s][codecarbon INFO @ 15:34:51] Energy consumed for RAM : 0.040476 kWh. RAM Power : 42.987337589263916 W\n",
      "[codecarbon INFO @ 15:34:51] Energy consumed for all GPUs : 0.232726 kWh. Total GPU Power : 242.0969124334061 W\n",
      "[codecarbon INFO @ 15:34:51] Energy consumed for all CPUs : 0.040039 kWh. Total CPU Power : 42.5 W\n",
      "[codecarbon INFO @ 15:34:51] 0.313241 kWh of electricity used since the beginning.\n",
      "                 Class     Images  Instances      Box(P          R      mAP50  mAP50-95): 100%|██████████| 19/19 [00:11<00:00,  1.62it/s]"
     ]
    },
    {
     "name": "stdout",
     "output_type": "stream",
     "text": [
      "                   all       2844       3135      0.959      0.914      0.971      0.851\n"
     ]
    },
    {
     "name": "stderr",
     "output_type": "stream",
     "text": [
      "\n"
     ]
    },
    {
     "name": "stdout",
     "output_type": "stream",
     "text": [
      "\n",
      "      Epoch    GPU_mem   box_loss   cls_loss   dfl_loss  Instances       Size\n"
     ]
    },
    {
     "name": "stderr",
     "output_type": "stream",
     "text": [
      "     30/100        38G     0.3836     0.2817      0.996        162        640:   6%|▋         | 10/156 [00:06<01:37,  1.50it/s][codecarbon INFO @ 15:35:06] Energy consumed for RAM : 0.040655 kWh. RAM Power : 42.987337589263916 W\n",
      "[codecarbon INFO @ 15:35:06] Energy consumed for all GPUs : 0.233678 kWh. Total GPU Power : 228.47723919153466 W\n",
      "[codecarbon INFO @ 15:35:06] Energy consumed for all CPUs : 0.040216 kWh. Total CPU Power : 42.5 W\n",
      "[codecarbon INFO @ 15:35:06] 0.314549 kWh of electricity used since the beginning.\n",
      "     30/100        38G     0.3838     0.2862     0.9971        183        640:  21%|██        | 33/156 [00:21<01:20,  1.53it/s][codecarbon INFO @ 15:35:21] Energy consumed for RAM : 0.040834 kWh. RAM Power : 42.987337589263916 W\n",
      "[codecarbon INFO @ 15:35:21] Energy consumed for all GPUs : 0.234754 kWh. Total GPU Power : 258.46370043682685 W\n",
      "[codecarbon INFO @ 15:35:21] Energy consumed for all CPUs : 0.040393 kWh. Total CPU Power : 42.5 W\n",
      "[codecarbon INFO @ 15:35:21] 0.315982 kWh of electricity used since the beginning.\n",
      "     30/100        38G     0.3813     0.2873     0.9985        181        640:  36%|███▌      | 56/156 [00:36<01:05,  1.53it/s][codecarbon INFO @ 15:35:36] Energy consumed for RAM : 0.041013 kWh. RAM Power : 42.987337589263916 W\n",
      "[codecarbon INFO @ 15:35:36] Energy consumed for all GPUs : 0.235833 kWh. Total GPU Power : 258.9930966667223 W\n",
      "[codecarbon INFO @ 15:35:36] Energy consumed for all CPUs : 0.040570 kWh. Total CPU Power : 42.5 W\n",
      "[codecarbon INFO @ 15:35:36] 0.317417 kWh of electricity used since the beginning.\n",
      "     30/100        38G      0.381     0.2857          1        176        640:  51%|█████     | 79/156 [00:51<00:50,  1.53it/s][codecarbon INFO @ 15:35:51] Energy consumed for RAM : 0.041192 kWh. RAM Power : 42.987337589263916 W\n",
      "[codecarbon INFO @ 15:35:51] Energy consumed for all GPUs : 0.236918 kWh. Total GPU Power : 260.39528174636473 W\n",
      "[codecarbon INFO @ 15:35:51] Energy consumed for all CPUs : 0.040747 kWh. Total CPU Power : 42.5 W\n",
      "[codecarbon INFO @ 15:35:51] 0.318857 kWh of electricity used since the beginning.\n",
      "     30/100        38G     0.3812     0.2872     0.9994        169        640:  65%|██████▌   | 102/156 [01:06<00:35,  1.53it/s][codecarbon INFO @ 15:36:06] Energy consumed for RAM : 0.041371 kWh. RAM Power : 42.987337589263916 W\n",
      "[codecarbon INFO @ 15:36:06] Energy consumed for all GPUs : 0.237999 kWh. Total GPU Power : 259.40250149137654 W\n",
      "[codecarbon INFO @ 15:36:06] Energy consumed for all CPUs : 0.040924 kWh. Total CPU Power : 42.5 W\n",
      "[codecarbon INFO @ 15:36:06] 0.320294 kWh of electricity used since the beginning.\n",
      "     30/100        38G     0.3828     0.2873          1        181        640:  80%|████████  | 125/156 [01:21<00:20,  1.52it/s][codecarbon INFO @ 15:36:21] Energy consumed for RAM : 0.041550 kWh. RAM Power : 42.987337589263916 W\n",
      "[codecarbon INFO @ 15:36:21] Energy consumed for all GPUs : 0.239065 kWh. Total GPU Power : 255.9561071104723 W\n",
      "[codecarbon INFO @ 15:36:21] Energy consumed for all CPUs : 0.041102 kWh. Total CPU Power : 42.5 W\n",
      "[codecarbon INFO @ 15:36:21] 0.321717 kWh of electricity used since the beginning.\n",
      "[codecarbon ERROR @ 15:36:21] Region:  not found for Country with ISO CODE : USA\n",
      "Traceback (most recent call last):\n",
      "  File \"/home/rocky/miniconda3/envs/jupyterlab/lib/python3.12/site-packages/codecarbon/core/emissions.py\", line 142, in get_private_infra_emissions\n",
      "    return self.get_region_emissions(energy, geo)\n",
      "           ^^^^^^^^^^^^^^^^^^^^^^^^^^^^^^^^^^^^^^\n",
      "  File \"/home/rocky/miniconda3/envs/jupyterlab/lib/python3.12/site-packages/codecarbon/core/emissions.py\", line 168, in get_region_emissions\n",
      "    raise ValueError(\n",
      "ValueError: Region:  not found for Country with ISO CODE : USA\n",
      "[codecarbon WARNING @ 15:36:21] Regional emissions retrieval failed. Falling back on country emissions.\n",
      "[codecarbon INFO @ 15:36:21] 0.034687 g.CO2eq/s mean an estimation of 1,093.898207064742 kg.CO2eq/year\n",
      "     30/100        38G     0.3826     0.2873     0.9997        195        640:  95%|█████████▍| 148/156 [01:36<00:05,  1.52it/s][codecarbon INFO @ 15:36:36] Energy consumed for RAM : 0.041729 kWh. RAM Power : 42.987337589263916 W\n",
      "[codecarbon INFO @ 15:36:36] Energy consumed for all GPUs : 0.240147 kWh. Total GPU Power : 259.79619698252185 W\n",
      "[codecarbon INFO @ 15:36:36] Energy consumed for all CPUs : 0.041279 kWh. Total CPU Power : 42.5 W\n",
      "[codecarbon INFO @ 15:36:36] 0.323155 kWh of electricity used since the beginning.\n",
      "     30/100        38G     0.3828     0.2871     0.9994         20        640: 100%|██████████| 156/156 [01:41<00:00,  1.53it/s]\n",
      "                 Class     Images  Instances      Box(P          R      mAP50  mAP50-95):  79%|███████▉  | 15/19 [00:09<00:02,  1.58it/s][codecarbon INFO @ 15:36:51] Energy consumed for RAM : 0.041908 kWh. RAM Power : 42.987337589263916 W\n",
      "[codecarbon INFO @ 15:36:51] Energy consumed for all GPUs : 0.241098 kWh. Total GPU Power : 228.2646676877351 W\n",
      "[codecarbon INFO @ 15:36:51] Energy consumed for all CPUs : 0.041456 kWh. Total CPU Power : 42.5 W\n",
      "[codecarbon INFO @ 15:36:51] 0.324462 kWh of electricity used since the beginning.\n",
      "                 Class     Images  Instances      Box(P          R      mAP50  mAP50-95): 100%|██████████| 19/19 [00:11<00:00,  1.60it/s]"
     ]
    },
    {
     "name": "stdout",
     "output_type": "stream",
     "text": [
      "                   all       2844       3135      0.952      0.921       0.97      0.852\n"
     ]
    },
    {
     "name": "stderr",
     "output_type": "stream",
     "text": [
      "\n"
     ]
    },
    {
     "name": "stdout",
     "output_type": "stream",
     "text": [
      "\n",
      "      Epoch    GPU_mem   box_loss   cls_loss   dfl_loss  Instances       Size\n"
     ]
    },
    {
     "name": "stderr",
     "output_type": "stream",
     "text": [
      "     31/100        38G     0.3908     0.3052     0.9935        189        640:  12%|█▏        | 18/156 [00:11<01:30,  1.52it/s][codecarbon INFO @ 15:37:06] Energy consumed for RAM : 0.042087 kWh. RAM Power : 42.987337589263916 W\n",
      "[codecarbon INFO @ 15:37:06] Energy consumed for all GPUs : 0.242098 kWh. Total GPU Power : 240.07596630358026 W\n",
      "[codecarbon INFO @ 15:37:06] Energy consumed for all CPUs : 0.041633 kWh. Total CPU Power : 42.5 W\n",
      "[codecarbon INFO @ 15:37:06] 0.325818 kWh of electricity used since the beginning.\n",
      "     31/100        38G     0.3918     0.2947     0.9945        198        640:  26%|██▋       | 41/156 [00:27<01:16,  1.51it/s][codecarbon INFO @ 15:37:21] Energy consumed for RAM : 0.042266 kWh. RAM Power : 42.987337589263916 W\n",
      "[codecarbon INFO @ 15:37:21] Energy consumed for all GPUs : 0.243168 kWh. Total GPU Power : 257.0555133388519 W\n",
      "[codecarbon INFO @ 15:37:21] Energy consumed for all CPUs : 0.041810 kWh. Total CPU Power : 42.5 W\n",
      "[codecarbon INFO @ 15:37:21] 0.327244 kWh of electricity used since the beginning.\n",
      "     31/100        38G     0.3858      0.289      0.992        185        640:  41%|████      | 64/156 [00:42<01:00,  1.53it/s][codecarbon INFO @ 15:37:36] Energy consumed for RAM : 0.042445 kWh. RAM Power : 42.987337589263916 W\n",
      "[codecarbon INFO @ 15:37:36] Energy consumed for all GPUs : 0.244247 kWh. Total GPU Power : 259.11538080014867 W\n",
      "[codecarbon INFO @ 15:37:36] Energy consumed for all CPUs : 0.041987 kWh. Total CPU Power : 42.5 W\n",
      "[codecarbon INFO @ 15:37:36] 0.328680 kWh of electricity used since the beginning.\n",
      "     31/100        38G     0.3824     0.2865     0.9916        176        640:  56%|█████▌    | 87/156 [00:57<00:45,  1.53it/s][codecarbon INFO @ 15:37:51] Energy consumed for RAM : 0.042624 kWh. RAM Power : 42.987337589263916 W\n",
      "[codecarbon INFO @ 15:37:51] Energy consumed for all GPUs : 0.245327 kWh. Total GPU Power : 259.1832576679958 W\n",
      "[codecarbon INFO @ 15:37:51] Energy consumed for all CPUs : 0.042164 kWh. Total CPU Power : 42.5 W\n",
      "[codecarbon INFO @ 15:37:51] 0.330115 kWh of electricity used since the beginning.\n",
      "     31/100        38G     0.3815     0.2866     0.9925        178        640:  71%|███████   | 110/156 [01:12<00:30,  1.53it/s][codecarbon INFO @ 15:38:06] Energy consumed for RAM : 0.042803 kWh. RAM Power : 42.987337589263916 W\n",
      "[codecarbon INFO @ 15:38:06] Energy consumed for all GPUs : 0.246410 kWh. Total GPU Power : 259.9883794977405 W\n",
      "[codecarbon INFO @ 15:38:06] Energy consumed for all CPUs : 0.042341 kWh. Total CPU Power : 42.5 W\n",
      "[codecarbon INFO @ 15:38:06] 0.331554 kWh of electricity used since the beginning.\n",
      "     31/100        38G     0.3813     0.2866     0.9943        189        640:  85%|████████▌ | 133/156 [01:27<00:15,  1.53it/s][codecarbon INFO @ 15:38:21] Energy consumed for RAM : 0.042982 kWh. RAM Power : 42.987337589263916 W\n",
      "[codecarbon INFO @ 15:38:21] Energy consumed for all GPUs : 0.247493 kWh. Total GPU Power : 259.89885857450446 W\n",
      "[codecarbon INFO @ 15:38:21] Energy consumed for all CPUs : 0.042518 kWh. Total CPU Power : 42.5 W\n",
      "[codecarbon INFO @ 15:38:21] 0.332993 kWh of electricity used since the beginning.\n",
      "[codecarbon ERROR @ 15:38:21] Region:  not found for Country with ISO CODE : USA\n",
      "Traceback (most recent call last):\n",
      "  File \"/home/rocky/miniconda3/envs/jupyterlab/lib/python3.12/site-packages/codecarbon/core/emissions.py\", line 142, in get_private_infra_emissions\n",
      "    return self.get_region_emissions(energy, geo)\n",
      "           ^^^^^^^^^^^^^^^^^^^^^^^^^^^^^^^^^^^^^^\n",
      "  File \"/home/rocky/miniconda3/envs/jupyterlab/lib/python3.12/site-packages/codecarbon/core/emissions.py\", line 168, in get_region_emissions\n",
      "    raise ValueError(\n",
      "ValueError: Region:  not found for Country with ISO CODE : USA\n",
      "[codecarbon WARNING @ 15:38:21] Regional emissions retrieval failed. Falling back on country emissions.\n",
      "[codecarbon INFO @ 15:38:21] 0.034719 g.CO2eq/s mean an estimation of 1,094.9010301866942 kg.CO2eq/year\n",
      "     31/100        38G     0.3809     0.2872     0.9949         17        640: 100%|██████████| 156/156 [01:41<00:00,  1.53it/s]\n",
      "                 Class     Images  Instances      Box(P          R      mAP50  mAP50-95):   0%|          | 0/19 [00:00<?, ?it/s][codecarbon INFO @ 15:38:36] Energy consumed for RAM : 0.043163 kWh. RAM Power : 42.987337589263916 W\n",
      "[codecarbon INFO @ 15:38:36] Energy consumed for all GPUs : 0.248572 kWh. Total GPU Power : 257.2618552702487 W\n",
      "[codecarbon INFO @ 15:38:36] Energy consumed for all CPUs : 0.042696 kWh. Total CPU Power : 42.5 W\n",
      "[codecarbon INFO @ 15:38:36] 0.334431 kWh of electricity used since the beginning.\n",
      "                 Class     Images  Instances      Box(P          R      mAP50  mAP50-95): 100%|██████████| 19/19 [00:11<00:00,  1.65it/s]"
     ]
    },
    {
     "name": "stdout",
     "output_type": "stream",
     "text": [
      "                   all       2844       3135       0.96      0.917      0.966      0.847\n"
     ]
    },
    {
     "name": "stderr",
     "output_type": "stream",
     "text": [
      "\n"
     ]
    },
    {
     "name": "stdout",
     "output_type": "stream",
     "text": [
      "\n",
      "      Epoch    GPU_mem   box_loss   cls_loss   dfl_loss  Instances       Size\n"
     ]
    },
    {
     "name": "stderr",
     "output_type": "stream",
     "text": [
      "     32/100        38G     0.3766     0.2839     0.9927        165        640:   3%|▎         | 4/156 [00:02<01:41,  1.50it/s][codecarbon INFO @ 15:38:51] Energy consumed for RAM : 0.043342 kWh. RAM Power : 42.987337589263916 W\n",
      "[codecarbon INFO @ 15:38:51] Energy consumed for all GPUs : 0.249477 kWh. Total GPU Power : 217.28137860772313 W\n",
      "[codecarbon INFO @ 15:38:51] Energy consumed for all CPUs : 0.042873 kWh. Total CPU Power : 42.5 W\n",
      "[codecarbon INFO @ 15:38:51] 0.335692 kWh of electricity used since the beginning.\n",
      "     32/100        38G     0.3719     0.2774     0.9931        173        640:  17%|█▋        | 27/156 [00:17<01:24,  1.52it/s][codecarbon INFO @ 15:39:06] Energy consumed for RAM : 0.043521 kWh. RAM Power : 42.987337589263916 W\n",
      "[codecarbon INFO @ 15:39:06] Energy consumed for all GPUs : 0.250544 kWh. Total GPU Power : 256.1771884319421 W\n",
      "[codecarbon INFO @ 15:39:06] Energy consumed for all CPUs : 0.043051 kWh. Total CPU Power : 42.5 W\n",
      "[codecarbon INFO @ 15:39:06] 0.337115 kWh of electricity used since the beginning.\n",
      "     32/100        38G     0.3829     0.2884          1        169        640:  32%|███▏      | 50/156 [00:32<01:09,  1.53it/s][codecarbon INFO @ 15:39:21] Energy consumed for RAM : 0.043700 kWh. RAM Power : 42.987337589263916 W\n",
      "[codecarbon INFO @ 15:39:21] Energy consumed for all GPUs : 0.251616 kWh. Total GPU Power : 257.49866504958266 W\n",
      "[codecarbon INFO @ 15:39:21] Energy consumed for all CPUs : 0.043228 kWh. Total CPU Power : 42.5 W\n",
      "[codecarbon INFO @ 15:39:21] 0.338544 kWh of electricity used since the beginning.\n",
      "     32/100        38G     0.3827     0.2902          1        145        640:  47%|████▋     | 73/156 [00:47<00:54,  1.53it/s][codecarbon INFO @ 15:39:36] Energy consumed for RAM : 0.043879 kWh. RAM Power : 42.987337589263916 W\n",
      "[codecarbon INFO @ 15:39:36] Energy consumed for all GPUs : 0.252694 kWh. Total GPU Power : 258.58612180563506 W\n",
      "[codecarbon INFO @ 15:39:36] Energy consumed for all CPUs : 0.043405 kWh. Total CPU Power : 42.5 W\n",
      "[codecarbon INFO @ 15:39:36] 0.339977 kWh of electricity used since the beginning.\n",
      "     32/100        38G     0.3804     0.2892     0.9973        167        640:  61%|██████    | 95/156 [01:02<00:40,  1.52it/s][codecarbon INFO @ 15:39:51] Energy consumed for RAM : 0.044058 kWh. RAM Power : 42.987337589263916 W\n",
      "[codecarbon INFO @ 15:39:51] Energy consumed for all GPUs : 0.253774 kWh. Total GPU Power : 259.29548753711555 W\n",
      "[codecarbon INFO @ 15:39:51] Energy consumed for all CPUs : 0.043582 kWh. Total CPU Power : 42.5 W\n",
      "[codecarbon INFO @ 15:39:51] 0.341414 kWh of electricity used since the beginning.\n",
      "     32/100        38G     0.3798     0.2864     0.9971        173        640:  76%|███████▌  | 118/156 [01:17<00:24,  1.52it/s][codecarbon INFO @ 15:40:06] Energy consumed for RAM : 0.044237 kWh. RAM Power : 42.987337589263916 W\n",
      "[codecarbon INFO @ 15:40:06] Energy consumed for all GPUs : 0.254851 kWh. Total GPU Power : 258.7048020848653 W\n",
      "[codecarbon INFO @ 15:40:06] Energy consumed for all CPUs : 0.043759 kWh. Total CPU Power : 42.5 W\n",
      "[codecarbon INFO @ 15:40:06] 0.342847 kWh of electricity used since the beginning.\n",
      "     32/100        38G     0.3794      0.286     0.9963        162        640:  90%|█████████ | 141/156 [01:32<00:09,  1.53it/s][codecarbon INFO @ 15:40:21] Energy consumed for RAM : 0.044416 kWh. RAM Power : 42.987337589263916 W\n",
      "[codecarbon INFO @ 15:40:21] Energy consumed for all GPUs : 0.255926 kWh. Total GPU Power : 258.05387348367 W\n",
      "[codecarbon INFO @ 15:40:21] Energy consumed for all CPUs : 0.043936 kWh. Total CPU Power : 42.5 W\n",
      "[codecarbon INFO @ 15:40:21] 0.344278 kWh of electricity used since the beginning.\n",
      "[codecarbon ERROR @ 15:40:21] Region:  not found for Country with ISO CODE : USA\n",
      "Traceback (most recent call last):\n",
      "  File \"/home/rocky/miniconda3/envs/jupyterlab/lib/python3.12/site-packages/codecarbon/core/emissions.py\", line 142, in get_private_infra_emissions\n",
      "    return self.get_region_emissions(energy, geo)\n",
      "           ^^^^^^^^^^^^^^^^^^^^^^^^^^^^^^^^^^^^^^\n",
      "  File \"/home/rocky/miniconda3/envs/jupyterlab/lib/python3.12/site-packages/codecarbon/core/emissions.py\", line 168, in get_region_emissions\n",
      "    raise ValueError(\n",
      "ValueError: Region:  not found for Country with ISO CODE : USA\n",
      "[codecarbon WARNING @ 15:40:21] Regional emissions retrieval failed. Falling back on country emissions.\n",
      "[codecarbon INFO @ 15:40:21] 0.034715 g.CO2eq/s mean an estimation of 1,094.7718451409169 kg.CO2eq/year\n",
      "     32/100        38G     0.3782     0.2854      0.996         26        640: 100%|██████████| 156/156 [01:41<00:00,  1.53it/s]\n",
      "                 Class     Images  Instances      Box(P          R      mAP50  mAP50-95):  47%|████▋     | 9/19 [00:05<00:06,  1.56it/s][codecarbon INFO @ 15:40:36] Energy consumed for RAM : 0.044595 kWh. RAM Power : 42.987337589263916 W\n",
      "[codecarbon INFO @ 15:40:36] Energy consumed for all GPUs : 0.256928 kWh. Total GPU Power : 240.45694437117618 W\n",
      "[codecarbon INFO @ 15:40:36] Energy consumed for all CPUs : 0.044113 kWh. Total CPU Power : 42.5 W\n",
      "[codecarbon INFO @ 15:40:36] 0.345636 kWh of electricity used since the beginning.\n",
      "                 Class     Images  Instances      Box(P          R      mAP50  mAP50-95): 100%|██████████| 19/19 [00:11<00:00,  1.67it/s]"
     ]
    },
    {
     "name": "stdout",
     "output_type": "stream",
     "text": [
      "                   all       2844       3135      0.965      0.925      0.971      0.857\n"
     ]
    },
    {
     "name": "stderr",
     "output_type": "stream",
     "text": [
      "\n"
     ]
    },
    {
     "name": "stdout",
     "output_type": "stream",
     "text": [
      "\n",
      "      Epoch    GPU_mem   box_loss   cls_loss   dfl_loss  Instances       Size\n"
     ]
    },
    {
     "name": "stderr",
     "output_type": "stream",
     "text": [
      "     33/100        38G      0.378     0.2969      1.008        171        640:   8%|▊         | 12/156 [00:07<01:34,  1.52it/s][codecarbon INFO @ 15:40:51] Energy consumed for RAM : 0.044774 kWh. RAM Power : 42.987337589263916 W\n",
      "[codecarbon INFO @ 15:40:51] Energy consumed for all GPUs : 0.257894 kWh. Total GPU Power : 231.96982556510977 W\n",
      "[codecarbon INFO @ 15:40:51] Energy consumed for all CPUs : 0.044290 kWh. Total CPU Power : 42.5 W\n",
      "[codecarbon INFO @ 15:40:51] 0.346959 kWh of electricity used since the beginning.\n",
      "     33/100        38G     0.3744     0.2866      1.003        176        640:  22%|██▏       | 35/156 [00:23<01:19,  1.53it/s][codecarbon INFO @ 15:41:06] Energy consumed for RAM : 0.044953 kWh. RAM Power : 42.987337589263916 W\n",
      "[codecarbon INFO @ 15:41:06] Energy consumed for all GPUs : 0.258970 kWh. Total GPU Power : 258.2998267350526 W\n",
      "[codecarbon INFO @ 15:41:06] Energy consumed for all CPUs : 0.044467 kWh. Total CPU Power : 42.5 W\n",
      "[codecarbon INFO @ 15:41:06] 0.348391 kWh of electricity used since the beginning.\n",
      "     33/100        38G     0.3691     0.2843     0.9996        164        640:  37%|███▋      | 58/156 [00:38<01:04,  1.53it/s][codecarbon INFO @ 15:41:21] Energy consumed for RAM : 0.045132 kWh. RAM Power : 42.987337589263916 W\n",
      "[codecarbon INFO @ 15:41:21] Energy consumed for all GPUs : 0.260040 kWh. Total GPU Power : 256.9142604238516 W\n",
      "[codecarbon INFO @ 15:41:21] Energy consumed for all CPUs : 0.044644 kWh. Total CPU Power : 42.5 W\n",
      "[codecarbon INFO @ 15:41:21] 0.349817 kWh of electricity used since the beginning.\n",
      "     33/100        38G     0.3675     0.2815     0.9973        175        640:  52%|█████▏    | 81/156 [00:53<00:49,  1.53it/s][codecarbon INFO @ 15:41:36] Energy consumed for RAM : 0.045311 kWh. RAM Power : 42.987337589263916 W\n",
      "[codecarbon INFO @ 15:41:36] Energy consumed for all GPUs : 0.261121 kWh. Total GPU Power : 259.39480837229235 W\n",
      "[codecarbon INFO @ 15:41:36] Energy consumed for all CPUs : 0.044821 kWh. Total CPU Power : 42.5 W\n",
      "[codecarbon INFO @ 15:41:36] 0.351254 kWh of electricity used since the beginning.\n",
      "     33/100        38G     0.3689     0.2815     0.9973        178        640:  67%|██████▋   | 104/156 [01:08<00:34,  1.52it/s][codecarbon INFO @ 15:41:51] Energy consumed for RAM : 0.045490 kWh. RAM Power : 42.987337589263916 W\n",
      "[codecarbon INFO @ 15:41:51] Energy consumed for all GPUs : 0.262193 kWh. Total GPU Power : 257.3676940223302 W\n",
      "[codecarbon INFO @ 15:41:51] Energy consumed for all CPUs : 0.044998 kWh. Total CPU Power : 42.5 W\n",
      "[codecarbon INFO @ 15:41:51] 0.352682 kWh of electricity used since the beginning.\n",
      "     33/100        38G     0.3684     0.2797     0.9961        172        640:  81%|████████▏ | 127/156 [01:23<00:18,  1.53it/s][codecarbon INFO @ 15:42:06] Energy consumed for RAM : 0.045669 kWh. RAM Power : 42.987337589263916 W\n",
      "[codecarbon INFO @ 15:42:06] Energy consumed for all GPUs : 0.263271 kWh. Total GPU Power : 258.76372497945295 W\n",
      "[codecarbon INFO @ 15:42:06] Energy consumed for all CPUs : 0.045175 kWh. Total CPU Power : 42.5 W\n",
      "[codecarbon INFO @ 15:42:06] 0.354116 kWh of electricity used since the beginning.\n",
      "     33/100        38G     0.3689     0.2796      0.995        181        640:  96%|█████████▌| 149/156 [01:37<00:04,  1.53it/s][codecarbon INFO @ 15:42:21] Energy consumed for RAM : 0.045848 kWh. RAM Power : 42.987337589263916 W\n",
      "[codecarbon INFO @ 15:42:21] Energy consumed for all GPUs : 0.264344 kWh. Total GPU Power : 257.5359659418162 W\n",
      "[codecarbon INFO @ 15:42:21] Energy consumed for all CPUs : 0.045353 kWh. Total CPU Power : 42.5 W\n",
      "[codecarbon INFO @ 15:42:21] 0.355545 kWh of electricity used since the beginning.\n",
      "[codecarbon ERROR @ 15:42:21] Region:  not found for Country with ISO CODE : USA\n",
      "Traceback (most recent call last):\n",
      "  File \"/home/rocky/miniconda3/envs/jupyterlab/lib/python3.12/site-packages/codecarbon/core/emissions.py\", line 142, in get_private_infra_emissions\n",
      "    return self.get_region_emissions(energy, geo)\n",
      "           ^^^^^^^^^^^^^^^^^^^^^^^^^^^^^^^^^^^^^^\n",
      "  File \"/home/rocky/miniconda3/envs/jupyterlab/lib/python3.12/site-packages/codecarbon/core/emissions.py\", line 168, in get_region_emissions\n",
      "    raise ValueError(\n",
      "ValueError: Region:  not found for Country with ISO CODE : USA\n",
      "[codecarbon WARNING @ 15:42:21] Regional emissions retrieval failed. Falling back on country emissions.\n",
      "[codecarbon INFO @ 15:42:21] 0.034686 g.CO2eq/s mean an estimation of 1,093.8689598973358 kg.CO2eq/year\n",
      "     33/100        38G     0.3698     0.2799     0.9951         32        640: 100%|██████████| 156/156 [01:41<00:00,  1.53it/s]\n",
      "                 Class     Images  Instances      Box(P          R      mAP50  mAP50-95): 100%|██████████| 19/19 [00:11<00:00,  1.97it/s][codecarbon INFO @ 15:42:36] Energy consumed for RAM : 0.046027 kWh. RAM Power : 42.987337589263916 W\n",
      "                 Class     Images  Instances      Box(P          R      mAP50  mAP50-95): 100%|██████████| 19/19 [00:11<00:00,  1.65it/s]\n",
      "[codecarbon INFO @ 15:42:36] Energy consumed for all GPUs : 0.265299 kWh. Total GPU Power : 229.3966448968138 W\n",
      "[codecarbon INFO @ 15:42:36] Energy consumed for all CPUs : 0.045530 kWh. Total CPU Power : 42.5 W\n",
      "[codecarbon INFO @ 15:42:36] 0.356856 kWh of electricity used since the beginning.\n"
     ]
    },
    {
     "name": "stdout",
     "output_type": "stream",
     "text": [
      "                   all       2844       3135      0.945      0.932      0.974      0.862\n",
      "\n",
      "      Epoch    GPU_mem   box_loss   cls_loss   dfl_loss  Instances       Size\n"
     ]
    },
    {
     "name": "stderr",
     "output_type": "stream",
     "text": [
      "     34/100      37.9G     0.3748     0.2803     0.9873        166        640:  13%|█▎        | 20/156 [00:13<01:29,  1.52it/s][codecarbon INFO @ 15:42:51] Energy consumed for RAM : 0.046206 kWh. RAM Power : 42.987337589263916 W\n",
      "[codecarbon INFO @ 15:42:51] Energy consumed for all GPUs : 0.266311 kWh. Total GPU Power : 242.8099903195161 W\n",
      "[codecarbon INFO @ 15:42:51] Energy consumed for all CPUs : 0.045707 kWh. Total CPU Power : 42.5 W\n",
      "[codecarbon INFO @ 15:42:51] 0.358224 kWh of electricity used since the beginning.\n",
      "     34/100      37.9G     0.3716     0.2784     0.9895        164        640:  28%|██▊       | 43/156 [00:28<01:13,  1.53it/s][codecarbon INFO @ 15:43:06] Energy consumed for RAM : 0.046385 kWh. RAM Power : 42.987337589263916 W\n",
      "[codecarbon INFO @ 15:43:06] Energy consumed for all GPUs : 0.267389 kWh. Total GPU Power : 258.97353228098166 W\n",
      "[codecarbon INFO @ 15:43:06] Energy consumed for all CPUs : 0.045884 kWh. Total CPU Power : 42.5 W\n",
      "[codecarbon INFO @ 15:43:06] 0.359658 kWh of electricity used since the beginning.\n",
      "     34/100      37.9G     0.3685     0.2759     0.9891        164        640:  42%|████▏     | 66/156 [00:43<00:58,  1.54it/s][codecarbon INFO @ 15:43:21] Energy consumed for RAM : 0.046565 kWh. RAM Power : 42.987337589263916 W\n",
      "[codecarbon INFO @ 15:43:21] Energy consumed for all GPUs : 0.268461 kWh. Total GPU Power : 257.2681014374566 W\n",
      "[codecarbon INFO @ 15:43:21] Energy consumed for all CPUs : 0.046061 kWh. Total CPU Power : 42.5 W\n",
      "[codecarbon INFO @ 15:43:21] 0.361086 kWh of electricity used since the beginning.\n",
      "     34/100      37.9G     0.3673     0.2756     0.9887        188        640:  57%|█████▋    | 89/156 [00:58<00:43,  1.53it/s][codecarbon INFO @ 15:43:36] Energy consumed for RAM : 0.046744 kWh. RAM Power : 42.987337589263916 W\n",
      "[codecarbon INFO @ 15:43:36] Energy consumed for all GPUs : 0.269540 kWh. Total GPU Power : 259.08316055674334 W\n",
      "[codecarbon INFO @ 15:43:36] Energy consumed for all CPUs : 0.046238 kWh. Total CPU Power : 42.5 W\n",
      "[codecarbon INFO @ 15:43:36] 0.362522 kWh of electricity used since the beginning.\n",
      "     34/100      37.9G     0.3691     0.2747     0.9915        189        640:  72%|███████▏  | 112/156 [01:13<00:28,  1.54it/s][codecarbon INFO @ 15:43:51] Energy consumed for RAM : 0.046923 kWh. RAM Power : 42.987337589263916 W\n",
      "[codecarbon INFO @ 15:43:51] Energy consumed for all GPUs : 0.270626 kWh. Total GPU Power : 260.6414081881319 W\n",
      "[codecarbon INFO @ 15:43:51] Energy consumed for all CPUs : 0.046415 kWh. Total CPU Power : 42.5 W\n",
      "[codecarbon INFO @ 15:43:51] 0.363963 kWh of electricity used since the beginning.\n",
      "     34/100      37.9G     0.3679     0.2737     0.9914        165        640:  87%|████████▋ | 135/156 [01:28<00:13,  1.53it/s][codecarbon INFO @ 15:44:06] Energy consumed for RAM : 0.047102 kWh. RAM Power : 42.987337589263916 W\n",
      "[codecarbon INFO @ 15:44:06] Energy consumed for all GPUs : 0.271708 kWh. Total GPU Power : 259.87870275658184 W\n",
      "[codecarbon INFO @ 15:44:06] Energy consumed for all CPUs : 0.046592 kWh. Total CPU Power : 42.5 W\n",
      "[codecarbon INFO @ 15:44:06] 0.365402 kWh of electricity used since the beginning.\n",
      "     34/100      37.9G     0.3655     0.2727     0.9903         30        640: 100%|██████████| 156/156 [01:41<00:00,  1.54it/s]\n",
      "                 Class     Images  Instances      Box(P          R      mAP50  mAP50-95):  16%|█▌        | 3/19 [00:01<00:10,  1.55it/s][codecarbon INFO @ 15:44:21] Energy consumed for RAM : 0.047281 kWh. RAM Power : 42.987337589263916 W\n",
      "[codecarbon INFO @ 15:44:21] Energy consumed for all GPUs : 0.272760 kWh. Total GPU Power : 252.46783776503707 W\n",
      "[codecarbon INFO @ 15:44:21] Energy consumed for all CPUs : 0.046769 kWh. Total CPU Power : 42.5 W\n",
      "[codecarbon INFO @ 15:44:21] 0.366810 kWh of electricity used since the beginning.\n",
      "[codecarbon ERROR @ 15:44:21] Region:  not found for Country with ISO CODE : USA\n",
      "Traceback (most recent call last):\n",
      "  File \"/home/rocky/miniconda3/envs/jupyterlab/lib/python3.12/site-packages/codecarbon/core/emissions.py\", line 142, in get_private_infra_emissions\n",
      "    return self.get_region_emissions(energy, geo)\n",
      "           ^^^^^^^^^^^^^^^^^^^^^^^^^^^^^^^^^^^^^^\n",
      "  File \"/home/rocky/miniconda3/envs/jupyterlab/lib/python3.12/site-packages/codecarbon/core/emissions.py\", line 168, in get_region_emissions\n",
      "    raise ValueError(\n",
      "ValueError: Region:  not found for Country with ISO CODE : USA\n",
      "[codecarbon WARNING @ 15:44:21] Regional emissions retrieval failed. Falling back on country emissions.\n",
      "[codecarbon INFO @ 15:44:21] 0.034683 g.CO2eq/s mean an estimation of 1,093.7508734868668 kg.CO2eq/year\n",
      "                 Class     Images  Instances      Box(P          R      mAP50  mAP50-95): 100%|██████████| 19/19 [00:11<00:00,  1.69it/s]"
     ]
    },
    {
     "name": "stdout",
     "output_type": "stream",
     "text": [
      "                   all       2844       3135      0.953      0.941      0.973      0.861\n"
     ]
    },
    {
     "name": "stderr",
     "output_type": "stream",
     "text": [
      "\n"
     ]
    },
    {
     "name": "stdout",
     "output_type": "stream",
     "text": [
      "\n",
      "      Epoch    GPU_mem   box_loss   cls_loss   dfl_loss  Instances       Size\n"
     ]
    },
    {
     "name": "stderr",
     "output_type": "stream",
     "text": [
      "     35/100        38G     0.3697     0.2795     0.9966        158        640:   4%|▍         | 6/156 [00:04<01:43,  1.45it/s][codecarbon INFO @ 15:44:36] Energy consumed for RAM : 0.047460 kWh. RAM Power : 42.987337589263916 W\n",
      "[codecarbon INFO @ 15:44:36] Energy consumed for all GPUs : 0.273674 kWh. Total GPU Power : 219.3979491879091 W\n",
      "[codecarbon INFO @ 15:44:36] Energy consumed for all CPUs : 0.046946 kWh. Total CPU Power : 42.5 W\n",
      "[codecarbon INFO @ 15:44:36] 0.368080 kWh of electricity used since the beginning.\n",
      "     35/100        38G     0.3674     0.2756     0.9883        161        640:  19%|█▊        | 29/156 [00:19<01:23,  1.52it/s][codecarbon INFO @ 15:44:51] Energy consumed for RAM : 0.047639 kWh. RAM Power : 42.987337589263916 W\n",
      "[codecarbon INFO @ 15:44:51] Energy consumed for all GPUs : 0.274745 kWh. Total GPU Power : 257.2310794605737 W\n",
      "[codecarbon INFO @ 15:44:51] Energy consumed for all CPUs : 0.047123 kWh. Total CPU Power : 42.5 W\n",
      "[codecarbon INFO @ 15:44:51] 0.369507 kWh of electricity used since the beginning.\n",
      "     35/100        38G      0.361     0.2735     0.9844        188        640:  33%|███▎      | 52/156 [00:34<01:07,  1.53it/s][codecarbon INFO @ 15:45:06] Energy consumed for RAM : 0.047818 kWh. RAM Power : 42.987337589263916 W\n",
      "[codecarbon INFO @ 15:45:06] Energy consumed for all GPUs : 0.275818 kWh. Total GPU Power : 257.5210262089377 W\n",
      "[codecarbon INFO @ 15:45:06] Energy consumed for all CPUs : 0.047300 kWh. Total CPU Power : 42.5 W\n",
      "[codecarbon INFO @ 15:45:06] 0.370936 kWh of electricity used since the beginning.\n",
      "     35/100        38G     0.3585     0.2722      0.984        159        640:  48%|████▊     | 75/156 [00:49<00:53,  1.52it/s][codecarbon INFO @ 15:45:21] Energy consumed for RAM : 0.047997 kWh. RAM Power : 42.987337589263916 W\n",
      "[codecarbon INFO @ 15:45:21] Energy consumed for all GPUs : 0.276895 kWh. Total GPU Power : 258.702872698817 W\n",
      "[codecarbon INFO @ 15:45:21] Energy consumed for all CPUs : 0.047477 kWh. Total CPU Power : 42.5 W\n",
      "[codecarbon INFO @ 15:45:21] 0.372370 kWh of electricity used since the beginning.\n",
      "     35/100        38G     0.3598     0.2725     0.9864        186        640:  63%|██████▎   | 98/156 [01:04<00:37,  1.53it/s][codecarbon INFO @ 15:45:36] Energy consumed for RAM : 0.048176 kWh. RAM Power : 42.987337589263916 W\n",
      "[codecarbon INFO @ 15:45:36] Energy consumed for all GPUs : 0.277972 kWh. Total GPU Power : 258.4391837589163 W\n",
      "[codecarbon INFO @ 15:45:36] Energy consumed for all CPUs : 0.047654 kWh. Total CPU Power : 42.5 W\n",
      "[codecarbon INFO @ 15:45:36] 0.373802 kWh of electricity used since the beginning.\n",
      "     35/100        38G     0.3605     0.2721     0.9878        166        640:  78%|███████▊  | 121/156 [01:19<00:22,  1.53it/s][codecarbon INFO @ 15:45:51] Energy consumed for RAM : 0.048355 kWh. RAM Power : 42.987337589263916 W\n",
      "[codecarbon INFO @ 15:45:51] Energy consumed for all GPUs : 0.279048 kWh. Total GPU Power : 258.32131425163925 W\n",
      "[codecarbon INFO @ 15:45:51] Energy consumed for all CPUs : 0.047832 kWh. Total CPU Power : 42.5 W\n",
      "[codecarbon INFO @ 15:45:51] 0.375234 kWh of electricity used since the beginning.\n",
      "     35/100        38G     0.3596     0.2714     0.9883        167        640:  92%|█████████▏| 144/156 [01:34<00:07,  1.53it/s][codecarbon INFO @ 15:46:06] Energy consumed for RAM : 0.048534 kWh. RAM Power : 42.987337589263916 W\n",
      "[codecarbon INFO @ 15:46:06] Energy consumed for all GPUs : 0.280128 kWh. Total GPU Power : 259.39844305608307 W\n",
      "[codecarbon INFO @ 15:46:06] Energy consumed for all CPUs : 0.048009 kWh. Total CPU Power : 42.5 W\n",
      "[codecarbon INFO @ 15:46:06] 0.376671 kWh of electricity used since the beginning.\n",
      "     35/100        38G     0.3595     0.2713     0.9885         26        640: 100%|██████████| 156/156 [01:42<00:00,  1.53it/s]\n",
      "                 Class     Images  Instances      Box(P          R      mAP50  mAP50-95):  63%|██████▎   | 12/19 [00:07<00:04,  1.66it/s][codecarbon INFO @ 15:46:21] Energy consumed for RAM : 0.048713 kWh. RAM Power : 42.987337589263916 W\n",
      "[codecarbon INFO @ 15:46:21] Energy consumed for all GPUs : 0.281102 kWh. Total GPU Power : 233.7725655992811 W\n",
      "[codecarbon INFO @ 15:46:21] Energy consumed for all CPUs : 0.048186 kWh. Total CPU Power : 42.5 W\n",
      "[codecarbon INFO @ 15:46:21] 0.378001 kWh of electricity used since the beginning.\n",
      "[codecarbon ERROR @ 15:46:21] Region:  not found for Country with ISO CODE : USA\n",
      "Traceback (most recent call last):\n",
      "  File \"/home/rocky/miniconda3/envs/jupyterlab/lib/python3.12/site-packages/codecarbon/core/emissions.py\", line 142, in get_private_infra_emissions\n",
      "    return self.get_region_emissions(energy, geo)\n",
      "           ^^^^^^^^^^^^^^^^^^^^^^^^^^^^^^^^^^^^^^\n",
      "  File \"/home/rocky/miniconda3/envs/jupyterlab/lib/python3.12/site-packages/codecarbon/core/emissions.py\", line 168, in get_region_emissions\n",
      "    raise ValueError(\n",
      "ValueError: Region:  not found for Country with ISO CODE : USA\n",
      "[codecarbon WARNING @ 15:46:21] Regional emissions retrieval failed. Falling back on country emissions.\n",
      "[codecarbon INFO @ 15:46:21] 0.034455 g.CO2eq/s mean an estimation of 1,086.5863656831996 kg.CO2eq/year\n",
      "                 Class     Images  Instances      Box(P          R      mAP50  mAP50-95): 100%|██████████| 19/19 [00:11<00:00,  1.65it/s]"
     ]
    },
    {
     "name": "stdout",
     "output_type": "stream",
     "text": [
      "                   all       2844       3135      0.966      0.924      0.977      0.866\n"
     ]
    },
    {
     "name": "stderr",
     "output_type": "stream",
     "text": [
      "\n"
     ]
    },
    {
     "name": "stdout",
     "output_type": "stream",
     "text": [
      "\n",
      "      Epoch    GPU_mem   box_loss   cls_loss   dfl_loss  Instances       Size\n"
     ]
    },
    {
     "name": "stderr",
     "output_type": "stream",
     "text": [
      "     36/100        38G     0.3557     0.2678      0.988        200        640:  10%|▉         | 15/156 [00:09<01:31,  1.53it/s][codecarbon INFO @ 15:46:36] Energy consumed for RAM : 0.048892 kWh. RAM Power : 42.987337589263916 W\n",
      "[codecarbon INFO @ 15:46:36] Energy consumed for all GPUs : 0.282099 kWh. Total GPU Power : 239.44680389324964 W\n",
      "[codecarbon INFO @ 15:46:36] Energy consumed for all CPUs : 0.048363 kWh. Total CPU Power : 42.5 W\n",
      "[codecarbon INFO @ 15:46:36] 0.379354 kWh of electricity used since the beginning.\n",
      "     36/100        38G     0.3516     0.2668     0.9822        182        640:  24%|██▍       | 38/156 [00:24<01:17,  1.53it/s][codecarbon INFO @ 15:46:51] Energy consumed for RAM : 0.049071 kWh. RAM Power : 42.987337589263916 W\n",
      "[codecarbon INFO @ 15:46:51] Energy consumed for all GPUs : 0.283174 kWh. Total GPU Power : 258.0585400697982 W\n",
      "[codecarbon INFO @ 15:46:51] Energy consumed for all CPUs : 0.048540 kWh. Total CPU Power : 42.5 W\n",
      "[codecarbon INFO @ 15:46:51] 0.380785 kWh of electricity used since the beginning.\n",
      "     36/100        38G     0.3543     0.2662     0.9834        168        640:  39%|███▉      | 61/156 [00:39<01:01,  1.53it/s][codecarbon INFO @ 15:47:06] Energy consumed for RAM : 0.049250 kWh. RAM Power : 42.987337589263916 W\n",
      "[codecarbon INFO @ 15:47:06] Energy consumed for all GPUs : 0.284245 kWh. Total GPU Power : 256.99489011149615 W\n",
      "[codecarbon INFO @ 15:47:06] Energy consumed for all CPUs : 0.048717 kWh. Total CPU Power : 42.5 W\n",
      "[codecarbon INFO @ 15:47:06] 0.382212 kWh of electricity used since the beginning.\n",
      "     36/100        38G     0.3563     0.2681     0.9844        158        640:  54%|█████▍    | 84/156 [00:54<00:46,  1.53it/s][codecarbon INFO @ 15:47:21] Energy consumed for RAM : 0.049429 kWh. RAM Power : 42.987337589263916 W\n",
      "[codecarbon INFO @ 15:47:21] Energy consumed for all GPUs : 0.285323 kWh. Total GPU Power : 258.83069997334366 W\n",
      "[codecarbon INFO @ 15:47:21] Energy consumed for all CPUs : 0.048894 kWh. Total CPU Power : 42.5 W\n",
      "[codecarbon INFO @ 15:47:21] 0.383646 kWh of electricity used since the beginning.\n",
      "     36/100        38G     0.3577     0.2705     0.9829        159        640:  69%|██████▊   | 107/156 [01:09<00:31,  1.54it/s][codecarbon INFO @ 15:47:36] Energy consumed for RAM : 0.049608 kWh. RAM Power : 42.987337589263916 W\n",
      "[codecarbon INFO @ 15:47:36] Energy consumed for all GPUs : 0.286405 kWh. Total GPU Power : 259.6953270224758 W\n",
      "[codecarbon INFO @ 15:47:36] Energy consumed for all CPUs : 0.049071 kWh. Total CPU Power : 42.5 W\n",
      "[codecarbon INFO @ 15:47:36] 0.385084 kWh of electricity used since the beginning.\n",
      "     36/100        38G     0.3578     0.2702     0.9821        181        640:  83%|████████▎ | 130/156 [01:24<00:16,  1.53it/s][codecarbon INFO @ 15:47:51] Energy consumed for RAM : 0.049787 kWh. RAM Power : 42.987337589263916 W\n",
      "[codecarbon INFO @ 15:47:51] Energy consumed for all GPUs : 0.287485 kWh. Total GPU Power : 259.4525134164704 W\n",
      "[codecarbon INFO @ 15:47:51] Energy consumed for all CPUs : 0.049248 kWh. Total CPU Power : 42.5 W\n",
      "[codecarbon INFO @ 15:47:51] 0.386521 kWh of electricity used since the beginning.\n",
      "     36/100        38G     0.3578     0.2704     0.9817        173        640:  98%|█████████▊| 153/156 [01:40<00:01,  1.51it/s][codecarbon INFO @ 15:48:06] Energy consumed for RAM : 0.049966 kWh. RAM Power : 42.987337589263916 W\n",
      "[codecarbon INFO @ 15:48:06] Energy consumed for all GPUs : 0.288556 kWh. Total GPU Power : 257.03249908876586 W\n",
      "[codecarbon INFO @ 15:48:06] Energy consumed for all CPUs : 0.049425 kWh. Total CPU Power : 42.5 W\n",
      "[codecarbon INFO @ 15:48:06] 0.387948 kWh of electricity used since the beginning.\n",
      "     36/100        38G     0.3582     0.2707     0.9818         28        640: 100%|██████████| 156/156 [01:41<00:00,  1.54it/s]\n",
      "                 Class     Images  Instances      Box(P          R      mAP50  mAP50-95): 100%|██████████| 19/19 [00:11<00:00,  1.61it/s]"
     ]
    },
    {
     "name": "stdout",
     "output_type": "stream",
     "text": [
      "                   all       2844       3135       0.96      0.935      0.978      0.863\n"
     ]
    },
    {
     "name": "stderr",
     "output_type": "stream",
     "text": [
      "\n"
     ]
    },
    {
     "name": "stdout",
     "output_type": "stream",
     "text": [
      "\n",
      "      Epoch    GPU_mem   box_loss   cls_loss   dfl_loss  Instances       Size\n"
     ]
    },
    {
     "name": "stderr",
     "output_type": "stream",
     "text": [
      "     37/100        38G     0.3546     0.2599     0.9433        175        640:   1%|          | 1/156 [00:00<01:51,  1.39it/s][codecarbon INFO @ 15:48:21] Energy consumed for RAM : 0.050145 kWh. RAM Power : 42.987337589263916 W\n",
      "[codecarbon INFO @ 15:48:21] Energy consumed for all GPUs : 0.289450 kWh. Total GPU Power : 214.64689378313108 W\n",
      "[codecarbon INFO @ 15:48:21] Energy consumed for all CPUs : 0.049602 kWh. Total CPU Power : 42.5 W\n",
      "[codecarbon INFO @ 15:48:21] 0.389198 kWh of electricity used since the beginning.\n",
      "[codecarbon ERROR @ 15:48:21] Region:  not found for Country with ISO CODE : USA\n",
      "Traceback (most recent call last):\n",
      "  File \"/home/rocky/miniconda3/envs/jupyterlab/lib/python3.12/site-packages/codecarbon/core/emissions.py\", line 142, in get_private_infra_emissions\n",
      "    return self.get_region_emissions(energy, geo)\n",
      "           ^^^^^^^^^^^^^^^^^^^^^^^^^^^^^^^^^^^^^^\n",
      "  File \"/home/rocky/miniconda3/envs/jupyterlab/lib/python3.12/site-packages/codecarbon/core/emissions.py\", line 168, in get_region_emissions\n",
      "    raise ValueError(\n",
      "ValueError: Region:  not found for Country with ISO CODE : USA\n",
      "[codecarbon WARNING @ 15:48:21] Regional emissions retrieval failed. Falling back on country emissions.\n",
      "[codecarbon INFO @ 15:48:21] 0.034474 g.CO2eq/s mean an estimation of 1,087.168763972253 kg.CO2eq/year\n",
      "     37/100        38G      0.363     0.2771     0.9751        168        640:  15%|█▌        | 24/156 [00:15<01:26,  1.52it/s][codecarbon INFO @ 15:48:36] Energy consumed for RAM : 0.050324 kWh. RAM Power : 42.987337589263916 W\n",
      "[codecarbon INFO @ 15:48:36] Energy consumed for all GPUs : 0.290521 kWh. Total GPU Power : 257.07903796668967 W\n",
      "[codecarbon INFO @ 15:48:36] Energy consumed for all CPUs : 0.049779 kWh. Total CPU Power : 42.5 W\n",
      "[codecarbon INFO @ 15:48:36] 0.390625 kWh of electricity used since the beginning.\n",
      "     37/100        38G     0.3618     0.2738     0.9747        187        640:  29%|██▉       | 46/156 [00:30<01:12,  1.52it/s][codecarbon INFO @ 15:48:51] Energy consumed for RAM : 0.050503 kWh. RAM Power : 42.987337589263916 W\n",
      "[codecarbon INFO @ 15:48:51] Energy consumed for all GPUs : 0.291589 kWh. Total GPU Power : 256.51951243788227 W\n",
      "[codecarbon INFO @ 15:48:51] Energy consumed for all CPUs : 0.049956 kWh. Total CPU Power : 42.5 W\n",
      "[codecarbon INFO @ 15:48:51] 0.392049 kWh of electricity used since the beginning.\n",
      "     37/100        38G     0.3605     0.2719     0.9754        184        640:  44%|████▍     | 69/156 [00:45<00:57,  1.53it/s][codecarbon INFO @ 15:49:06] Energy consumed for RAM : 0.050682 kWh. RAM Power : 42.987337589263916 W\n",
      "[codecarbon INFO @ 15:49:06] Energy consumed for all GPUs : 0.292664 kWh. Total GPU Power : 258.0331761804184 W\n",
      "[codecarbon INFO @ 15:49:06] Energy consumed for all CPUs : 0.050134 kWh. Total CPU Power : 42.5 W\n",
      "[codecarbon INFO @ 15:49:06] 0.393480 kWh of electricity used since the beginning.\n",
      "     37/100        38G     0.3584     0.2695     0.9763        190        640:  59%|█████▉    | 92/156 [01:00<00:41,  1.53it/s][codecarbon INFO @ 15:49:21] Energy consumed for RAM : 0.050861 kWh. RAM Power : 42.987337589263916 W\n",
      "[codecarbon INFO @ 15:49:21] Energy consumed for all GPUs : 0.293745 kWh. Total GPU Power : 259.4623875222845 W\n",
      "[codecarbon INFO @ 15:49:21] Energy consumed for all CPUs : 0.050311 kWh. Total CPU Power : 42.5 W\n",
      "[codecarbon INFO @ 15:49:21] 0.394917 kWh of electricity used since the beginning.\n",
      "     37/100        38G     0.3576     0.2689     0.9767        178        640:  74%|███████▎  | 115/156 [01:15<00:26,  1.53it/s][codecarbon INFO @ 15:49:36] Energy consumed for RAM : 0.051041 kWh. RAM Power : 42.987337589263916 W\n",
      "[codecarbon INFO @ 15:49:36] Energy consumed for all GPUs : 0.294830 kWh. Total GPU Power : 260.4965709170122 W\n",
      "[codecarbon INFO @ 15:49:36] Energy consumed for all CPUs : 0.050488 kWh. Total CPU Power : 42.5 W\n",
      "[codecarbon INFO @ 15:49:36] 0.396359 kWh of electricity used since the beginning.\n",
      "     37/100        38G     0.3553     0.2676     0.9764        187        640:  88%|████████▊ | 138/156 [01:30<00:11,  1.53it/s][codecarbon INFO @ 15:49:51] Energy consumed for RAM : 0.051220 kWh. RAM Power : 42.987337589263916 W\n",
      "[codecarbon INFO @ 15:49:51] Energy consumed for all GPUs : 0.295906 kWh. Total GPU Power : 258.1966563387261 W\n",
      "[codecarbon INFO @ 15:49:51] Energy consumed for all CPUs : 0.050665 kWh. Total CPU Power : 42.5 W\n",
      "[codecarbon INFO @ 15:49:51] 0.397790 kWh of electricity used since the beginning.\n",
      "     37/100        38G     0.3556     0.2686     0.9771         28        640: 100%|██████████| 156/156 [01:41<00:00,  1.53it/s]\n",
      "                 Class     Images  Instances      Box(P          R      mAP50  mAP50-95):  32%|███▏      | 6/19 [00:03<00:08,  1.57it/s][codecarbon INFO @ 15:50:06] Energy consumed for RAM : 0.051399 kWh. RAM Power : 42.987337589263916 W\n",
      "[codecarbon INFO @ 15:50:06] Energy consumed for all GPUs : 0.296929 kWh. Total GPU Power : 245.69105977919565 W\n",
      "[codecarbon INFO @ 15:50:06] Energy consumed for all CPUs : 0.050842 kWh. Total CPU Power : 42.5 W\n",
      "[codecarbon INFO @ 15:50:06] 0.399170 kWh of electricity used since the beginning.\n",
      "                 Class     Images  Instances      Box(P          R      mAP50  mAP50-95): 100%|██████████| 19/19 [00:11<00:00,  1.67it/s]"
     ]
    },
    {
     "name": "stdout",
     "output_type": "stream",
     "text": [
      "                   all       2844       3135      0.964      0.915      0.973      0.868\n"
     ]
    },
    {
     "name": "stderr",
     "output_type": "stream",
     "text": [
      "\n"
     ]
    },
    {
     "name": "stdout",
     "output_type": "stream",
     "text": [
      "\n",
      "      Epoch    GPU_mem   box_loss   cls_loss   dfl_loss  Instances       Size\n"
     ]
    },
    {
     "name": "stderr",
     "output_type": "stream",
     "text": [
      "     38/100        38G      0.348     0.2682     0.9721        173        640:   6%|▌         | 9/156 [00:05<01:36,  1.52it/s][codecarbon INFO @ 15:50:21] Energy consumed for RAM : 0.051578 kWh. RAM Power : 42.987337589263916 W\n",
      "[codecarbon INFO @ 15:50:21] Energy consumed for all GPUs : 0.297884 kWh. Total GPU Power : 229.28377615483632 W\n",
      "[codecarbon INFO @ 15:50:21] Energy consumed for all CPUs : 0.051019 kWh. Total CPU Power : 42.5 W\n",
      "[codecarbon INFO @ 15:50:21] 0.400481 kWh of electricity used since the beginning.\n",
      "[codecarbon ERROR @ 15:50:21] Region:  not found for Country with ISO CODE : USA\n",
      "Traceback (most recent call last):\n",
      "  File \"/home/rocky/miniconda3/envs/jupyterlab/lib/python3.12/site-packages/codecarbon/core/emissions.py\", line 142, in get_private_infra_emissions\n",
      "    return self.get_region_emissions(energy, geo)\n",
      "           ^^^^^^^^^^^^^^^^^^^^^^^^^^^^^^^^^^^^^^\n",
      "  File \"/home/rocky/miniconda3/envs/jupyterlab/lib/python3.12/site-packages/codecarbon/core/emissions.py\", line 168, in get_region_emissions\n",
      "    raise ValueError(\n",
      "ValueError: Region:  not found for Country with ISO CODE : USA\n",
      "[codecarbon WARNING @ 15:50:21] Regional emissions retrieval failed. Falling back on country emissions.\n",
      "[codecarbon INFO @ 15:50:21] 0.034739 g.CO2eq/s mean an estimation of 1,095.5332628306876 kg.CO2eq/year\n",
      "     38/100        38G     0.3461     0.2669     0.9768        161        640:  21%|██        | 32/156 [00:21<01:20,  1.53it/s][codecarbon INFO @ 15:50:36] Energy consumed for RAM : 0.051757 kWh. RAM Power : 42.987337589263916 W\n",
      "[codecarbon INFO @ 15:50:36] Energy consumed for all GPUs : 0.298950 kWh. Total GPU Power : 255.8157971961011 W\n",
      "[codecarbon INFO @ 15:50:36] Energy consumed for all CPUs : 0.051196 kWh. Total CPU Power : 42.5 W\n",
      "[codecarbon INFO @ 15:50:36] 0.401903 kWh of electricity used since the beginning.\n",
      "     38/100        38G     0.3497     0.2704     0.9803        152        640:  35%|███▌      | 55/156 [00:36<01:05,  1.53it/s][codecarbon INFO @ 15:50:51] Energy consumed for RAM : 0.051936 kWh. RAM Power : 42.987337589263916 W\n",
      "[codecarbon INFO @ 15:50:51] Energy consumed for all GPUs : 0.300030 kWh. Total GPU Power : 259.2881189735502 W\n",
      "[codecarbon INFO @ 15:50:51] Energy consumed for all CPUs : 0.051373 kWh. Total CPU Power : 42.5 W\n",
      "[codecarbon INFO @ 15:50:51] 0.403339 kWh of electricity used since the beginning.\n",
      "     38/100        38G     0.3483     0.2663     0.9798        167        640:  50%|█████     | 78/156 [00:51<00:50,  1.53it/s][codecarbon INFO @ 15:51:06] Energy consumed for RAM : 0.052115 kWh. RAM Power : 42.987337589263916 W\n",
      "[codecarbon INFO @ 15:51:06] Energy consumed for all GPUs : 0.301108 kWh. Total GPU Power : 258.8723175808332 W\n",
      "[codecarbon INFO @ 15:51:06] Energy consumed for all CPUs : 0.051550 kWh. Total CPU Power : 42.5 W\n",
      "[codecarbon INFO @ 15:51:06] 0.404773 kWh of electricity used since the beginning.\n",
      "     38/100        38G     0.3487     0.2644     0.9786        184        640:  65%|██████▍   | 101/156 [01:06<00:35,  1.53it/s][codecarbon INFO @ 15:51:21] Energy consumed for RAM : 0.052294 kWh. RAM Power : 42.987337589263916 W\n",
      "[codecarbon INFO @ 15:51:21] Energy consumed for all GPUs : 0.302190 kWh. Total GPU Power : 259.6259306677493 W\n",
      "[codecarbon INFO @ 15:51:21] Energy consumed for all CPUs : 0.051727 kWh. Total CPU Power : 42.5 W\n",
      "[codecarbon INFO @ 15:51:21] 0.406211 kWh of electricity used since the beginning.\n",
      "     38/100        38G     0.3493     0.2657     0.9787        169        640:  79%|███████▉  | 124/156 [01:21<00:20,  1.54it/s][codecarbon INFO @ 15:51:36] Energy consumed for RAM : 0.052473 kWh. RAM Power : 42.987337589263916 W\n",
      "[codecarbon INFO @ 15:51:36] Energy consumed for all GPUs : 0.303274 kWh. Total GPU Power : 260.193437641394 W\n",
      "[codecarbon INFO @ 15:51:36] Energy consumed for all CPUs : 0.051904 kWh. Total CPU Power : 42.5 W\n",
      "[codecarbon INFO @ 15:51:36] 0.407651 kWh of electricity used since the beginning.\n",
      "     38/100        38G     0.3486     0.2642     0.9782        185        640:  94%|█████████▍| 147/156 [01:36<00:05,  1.53it/s][codecarbon INFO @ 15:51:51] Energy consumed for RAM : 0.052652 kWh. RAM Power : 42.987337589263916 W\n",
      "[codecarbon INFO @ 15:51:51] Energy consumed for all GPUs : 0.304342 kWh. Total GPU Power : 256.55235629945884 W\n",
      "[codecarbon INFO @ 15:51:51] Energy consumed for all CPUs : 0.052081 kWh. Total CPU Power : 42.5 W\n",
      "[codecarbon INFO @ 15:51:51] 0.409076 kWh of electricity used since the beginning.\n",
      "     38/100        38G     0.3473     0.2646     0.9776         23        640: 100%|██████████| 156/156 [01:41<00:00,  1.54it/s]\n",
      "                 Class     Images  Instances      Box(P          R      mAP50  mAP50-95):  79%|███████▉  | 15/19 [00:09<00:02,  1.65it/s][codecarbon INFO @ 15:52:06] Energy consumed for RAM : 0.052831 kWh. RAM Power : 42.987337589263916 W\n",
      "[codecarbon INFO @ 15:52:06] Energy consumed for all GPUs : 0.305307 kWh. Total GPU Power : 231.51362680613929 W\n",
      "[codecarbon INFO @ 15:52:06] Energy consumed for all CPUs : 0.052259 kWh. Total CPU Power : 42.5 W\n",
      "[codecarbon INFO @ 15:52:06] 0.410396 kWh of electricity used since the beginning.\n",
      "                 Class     Images  Instances      Box(P          R      mAP50  mAP50-95): 100%|██████████| 19/19 [00:11<00:00,  1.65it/s]"
     ]
    },
    {
     "name": "stdout",
     "output_type": "stream",
     "text": [
      "                   all       2844       3135      0.962      0.934      0.976      0.868\n"
     ]
    },
    {
     "name": "stderr",
     "output_type": "stream",
     "text": [
      "\n"
     ]
    },
    {
     "name": "stdout",
     "output_type": "stream",
     "text": [
      "\n",
      "      Epoch    GPU_mem   box_loss   cls_loss   dfl_loss  Instances       Size\n"
     ]
    },
    {
     "name": "stderr",
     "output_type": "stream",
     "text": [
      "     39/100      37.9G     0.3398     0.2625     0.9675        166        640:  12%|█▏        | 18/156 [00:11<01:30,  1.52it/s][codecarbon INFO @ 15:52:21] Energy consumed for RAM : 0.053010 kWh. RAM Power : 42.987337589263916 W\n",
      "[codecarbon INFO @ 15:52:21] Energy consumed for all GPUs : 0.306317 kWh. Total GPU Power : 242.45343954326736 W\n",
      "[codecarbon INFO @ 15:52:21] Energy consumed for all CPUs : 0.052436 kWh. Total CPU Power : 42.5 W\n",
      "[codecarbon INFO @ 15:52:21] 0.411762 kWh of electricity used since the beginning.\n",
      "[codecarbon ERROR @ 15:52:21] Region:  not found for Country with ISO CODE : USA\n",
      "Traceback (most recent call last):\n",
      "  File \"/home/rocky/miniconda3/envs/jupyterlab/lib/python3.12/site-packages/codecarbon/core/emissions.py\", line 142, in get_private_infra_emissions\n",
      "    return self.get_region_emissions(energy, geo)\n",
      "           ^^^^^^^^^^^^^^^^^^^^^^^^^^^^^^^^^^^^^^\n",
      "  File \"/home/rocky/miniconda3/envs/jupyterlab/lib/python3.12/site-packages/codecarbon/core/emissions.py\", line 168, in get_region_emissions\n",
      "    raise ValueError(\n",
      "ValueError: Region:  not found for Country with ISO CODE : USA\n",
      "[codecarbon WARNING @ 15:52:21] Regional emissions retrieval failed. Falling back on country emissions.\n",
      "[codecarbon INFO @ 15:52:21] 0.034733 g.CO2eq/s mean an estimation of 1,095.339506175096 kg.CO2eq/year\n",
      "     39/100      37.9G     0.3362     0.2602     0.9635        162        640:  26%|██▋       | 41/156 [00:26<01:15,  1.53it/s][codecarbon INFO @ 15:52:36] Energy consumed for RAM : 0.053189 kWh. RAM Power : 42.987337589263916 W\n",
      "[codecarbon INFO @ 15:52:36] Energy consumed for all GPUs : 0.307383 kWh. Total GPU Power : 255.9408350279156 W\n",
      "[codecarbon INFO @ 15:52:36] Energy consumed for all CPUs : 0.052613 kWh. Total CPU Power : 42.5 W\n",
      "[codecarbon INFO @ 15:52:36] 0.413184 kWh of electricity used since the beginning.\n",
      "     39/100      37.9G     0.3379     0.2592     0.9638        165        640:  41%|████      | 64/156 [00:42<01:00,  1.53it/s][codecarbon INFO @ 15:52:51] Energy consumed for RAM : 0.053368 kWh. RAM Power : 42.987337589263916 W\n",
      "[codecarbon INFO @ 15:52:51] Energy consumed for all GPUs : 0.308463 kWh. Total GPU Power : 259.2784065628273 W\n",
      "[codecarbon INFO @ 15:52:51] Energy consumed for all CPUs : 0.052790 kWh. Total CPU Power : 42.5 W\n",
      "[codecarbon INFO @ 15:52:51] 0.414621 kWh of electricity used since the beginning.\n",
      "     39/100      37.9G     0.3384      0.257     0.9673        158        640:  56%|█████▌    | 87/156 [00:57<00:45,  1.53it/s][codecarbon INFO @ 15:53:06] Energy consumed for RAM : 0.053547 kWh. RAM Power : 42.987337589263916 W\n",
      "[codecarbon INFO @ 15:53:06] Energy consumed for all GPUs : 0.309543 kWh. Total GPU Power : 259.2265432031064 W\n",
      "[codecarbon INFO @ 15:53:06] Energy consumed for all CPUs : 0.052967 kWh. Total CPU Power : 42.5 W\n",
      "[codecarbon INFO @ 15:53:06] 0.416057 kWh of electricity used since the beginning.\n",
      "     39/100      37.9G     0.3376     0.2565     0.9691        186        640:  71%|███████   | 110/156 [01:12<00:29,  1.53it/s][codecarbon INFO @ 15:53:21] Energy consumed for RAM : 0.053726 kWh. RAM Power : 42.987337589263916 W\n",
      "[codecarbon INFO @ 15:53:21] Energy consumed for all GPUs : 0.310624 kWh. Total GPU Power : 259.6509945149588 W\n",
      "[codecarbon INFO @ 15:53:21] Energy consumed for all CPUs : 0.053144 kWh. Total CPU Power : 42.5 W\n",
      "[codecarbon INFO @ 15:53:21] 0.417495 kWh of electricity used since the beginning.\n",
      "     39/100      37.9G     0.3385     0.2582     0.9713        171        640:  85%|████████▌ | 133/156 [01:27<00:14,  1.54it/s][codecarbon INFO @ 15:53:36] Energy consumed for RAM : 0.053905 kWh. RAM Power : 42.987337589263916 W\n",
      "[codecarbon INFO @ 15:53:36] Energy consumed for all GPUs : 0.311708 kWh. Total GPU Power : 260.0573618588159 W\n",
      "[codecarbon INFO @ 15:53:36] Energy consumed for all CPUs : 0.053321 kWh. Total CPU Power : 42.5 W\n",
      "[codecarbon INFO @ 15:53:36] 0.418934 kWh of electricity used since the beginning.\n",
      "     39/100      37.9G      0.338     0.2576     0.9714         25        640: 100%|██████████| 156/156 [01:41<00:00,  1.54it/s]\n",
      "                 Class     Images  Instances      Box(P          R      mAP50  mAP50-95):   5%|▌         | 1/19 [00:00<00:11,  1.53it/s][codecarbon INFO @ 15:53:51] Energy consumed for RAM : 0.054084 kWh. RAM Power : 42.987337589263916 W\n",
      "[codecarbon INFO @ 15:53:51] Energy consumed for all GPUs : 0.312769 kWh. Total GPU Power : 254.74518632983063 W\n",
      "[codecarbon INFO @ 15:53:51] Energy consumed for all CPUs : 0.053498 kWh. Total CPU Power : 42.5 W\n",
      "[codecarbon INFO @ 15:53:51] 0.420351 kWh of electricity used since the beginning.\n",
      "                 Class     Images  Instances      Box(P          R      mAP50  mAP50-95): 100%|██████████| 19/19 [00:11<00:00,  1.69it/s]"
     ]
    },
    {
     "name": "stdout",
     "output_type": "stream",
     "text": [
      "                   all       2844       3135      0.956      0.937      0.976      0.872\n"
     ]
    },
    {
     "name": "stderr",
     "output_type": "stream",
     "text": [
      "\n"
     ]
    },
    {
     "name": "stdout",
     "output_type": "stream",
     "text": [
      "\n",
      "      Epoch    GPU_mem   box_loss   cls_loss   dfl_loss  Instances       Size\n"
     ]
    },
    {
     "name": "stderr",
     "output_type": "stream",
     "text": [
      "     40/100        38G     0.3446     0.2709     0.9737        187        640:   3%|▎         | 4/156 [00:03<01:53,  1.34it/s][codecarbon INFO @ 15:54:06] Energy consumed for RAM : 0.054263 kWh. RAM Power : 42.987337589263916 W\n",
      "[codecarbon INFO @ 15:54:06] Energy consumed for all GPUs : 0.313671 kWh. Total GPU Power : 216.63997059188756 W\n",
      "[codecarbon INFO @ 15:54:06] Energy consumed for all CPUs : 0.053675 kWh. Total CPU Power : 42.5 W\n",
      "[codecarbon INFO @ 15:54:06] 0.421610 kWh of electricity used since the beginning.\n",
      "     40/100        38G     0.3472     0.2602     0.9752        201        640:  17%|█▋        | 27/156 [00:18<01:24,  1.52it/s][codecarbon INFO @ 15:54:21] Energy consumed for RAM : 0.054442 kWh. RAM Power : 42.987337589263916 W\n",
      "[codecarbon INFO @ 15:54:21] Energy consumed for all GPUs : 0.314730 kWh. Total GPU Power : 254.06465507762155 W\n",
      "[codecarbon INFO @ 15:54:21] Energy consumed for all CPUs : 0.053852 kWh. Total CPU Power : 42.5 W\n",
      "[codecarbon INFO @ 15:54:21] 0.423024 kWh of electricity used since the beginning.\n",
      "[codecarbon ERROR @ 15:54:21] Region:  not found for Country with ISO CODE : USA\n",
      "Traceback (most recent call last):\n",
      "  File \"/home/rocky/miniconda3/envs/jupyterlab/lib/python3.12/site-packages/codecarbon/core/emissions.py\", line 142, in get_private_infra_emissions\n",
      "    return self.get_region_emissions(energy, geo)\n",
      "           ^^^^^^^^^^^^^^^^^^^^^^^^^^^^^^^^^^^^^^\n",
      "  File \"/home/rocky/miniconda3/envs/jupyterlab/lib/python3.12/site-packages/codecarbon/core/emissions.py\", line 168, in get_region_emissions\n",
      "    raise ValueError(\n",
      "ValueError: Region:  not found for Country with ISO CODE : USA\n",
      "[codecarbon WARNING @ 15:54:21] Regional emissions retrieval failed. Falling back on country emissions.\n",
      "[codecarbon INFO @ 15:54:21] 0.034673 g.CO2eq/s mean an estimation of 1,093.4541941032026 kg.CO2eq/year\n",
      "     40/100        38G     0.3451      0.261     0.9778        188        640:  31%|███▏      | 49/156 [00:32<01:10,  1.52it/s][codecarbon INFO @ 15:54:36] Energy consumed for RAM : 0.054621 kWh. RAM Power : 42.987337589263916 W\n",
      "[codecarbon INFO @ 15:54:36] Energy consumed for all GPUs : 0.315804 kWh. Total GPU Power : 258.04846766503374 W\n",
      "[codecarbon INFO @ 15:54:36] Energy consumed for all CPUs : 0.054029 kWh. Total CPU Power : 42.5 W\n",
      "[codecarbon INFO @ 15:54:36] 0.424455 kWh of electricity used since the beginning.\n",
      "     40/100        38G     0.3411     0.2591     0.9755        188        640:  46%|████▌     | 72/156 [00:48<00:55,  1.53it/s][codecarbon INFO @ 15:54:51] Energy consumed for RAM : 0.054800 kWh. RAM Power : 42.987337589263916 W\n",
      "[codecarbon INFO @ 15:54:51] Energy consumed for all GPUs : 0.316881 kWh. Total GPU Power : 258.4589539841956 W\n",
      "[codecarbon INFO @ 15:54:51] Energy consumed for all CPUs : 0.054206 kWh. Total CPU Power : 42.5 W\n",
      "[codecarbon INFO @ 15:54:51] 0.425888 kWh of electricity used since the beginning.\n",
      "     40/100        38G     0.3398     0.2568     0.9742        173        640:  61%|██████    | 95/156 [01:03<00:39,  1.53it/s][codecarbon INFO @ 15:55:06] Energy consumed for RAM : 0.054980 kWh. RAM Power : 42.987337589263916 W\n",
      "[codecarbon INFO @ 15:55:06] Energy consumed for all GPUs : 0.317962 kWh. Total GPU Power : 259.4101566847523 W\n",
      "[codecarbon INFO @ 15:55:06] Energy consumed for all CPUs : 0.054383 kWh. Total CPU Power : 42.5 W\n",
      "[codecarbon INFO @ 15:55:06] 0.427324 kWh of electricity used since the beginning.\n",
      "     40/100        38G     0.3379     0.2552     0.9725        176        640:  76%|███████▌  | 118/156 [01:18<00:24,  1.53it/s][codecarbon INFO @ 15:55:21] Energy consumed for RAM : 0.055159 kWh. RAM Power : 42.987337589263916 W\n",
      "[codecarbon INFO @ 15:55:21] Energy consumed for all GPUs : 0.319041 kWh. Total GPU Power : 259.038556721805 W\n",
      "[codecarbon INFO @ 15:55:21] Energy consumed for all CPUs : 0.054561 kWh. Total CPU Power : 42.5 W\n",
      "[codecarbon INFO @ 15:55:21] 0.428760 kWh of electricity used since the beginning.\n",
      "     40/100        38G     0.3383     0.2559     0.9717        178        640:  90%|█████████ | 141/156 [01:33<00:09,  1.53it/s][codecarbon INFO @ 15:55:36] Energy consumed for RAM : 0.055338 kWh. RAM Power : 42.987337589263916 W\n",
      "[codecarbon INFO @ 15:55:36] Energy consumed for all GPUs : 0.320112 kWh. Total GPU Power : 257.1388572386697 W\n",
      "[codecarbon INFO @ 15:55:36] Energy consumed for all CPUs : 0.054738 kWh. Total CPU Power : 42.5 W\n",
      "[codecarbon INFO @ 15:55:36] 0.430187 kWh of electricity used since the beginning.\n",
      "     40/100        38G     0.3381     0.2559     0.9712         20        640: 100%|██████████| 156/156 [01:42<00:00,  1.52it/s]\n",
      "                 Class     Images  Instances      Box(P          R      mAP50  mAP50-95):  42%|████▏     | 8/19 [00:05<00:07,  1.52it/s][codecarbon INFO @ 15:55:51] Energy consumed for RAM : 0.055517 kWh. RAM Power : 42.987337589263916 W\n",
      "[codecarbon INFO @ 15:55:51] Energy consumed for all GPUs : 0.321117 kWh. Total GPU Power : 241.48622830184965 W\n",
      "[codecarbon INFO @ 15:55:51] Energy consumed for all CPUs : 0.054915 kWh. Total CPU Power : 42.5 W\n",
      "[codecarbon INFO @ 15:55:51] 0.431549 kWh of electricity used since the beginning.\n",
      "                 Class     Images  Instances      Box(P          R      mAP50  mAP50-95): 100%|██████████| 19/19 [00:11<00:00,  1.62it/s]"
     ]
    },
    {
     "name": "stdout",
     "output_type": "stream",
     "text": [
      "                   all       2844       3135      0.966      0.923      0.978      0.873\n"
     ]
    },
    {
     "name": "stderr",
     "output_type": "stream",
     "text": [
      "\n"
     ]
    },
    {
     "name": "stdout",
     "output_type": "stream",
     "text": [
      "\n",
      "      Epoch    GPU_mem   box_loss   cls_loss   dfl_loss  Instances       Size\n"
     ]
    },
    {
     "name": "stderr",
     "output_type": "stream",
     "text": [
      "     41/100        38G     0.3368     0.2537     0.9585        190        640:   8%|▊         | 12/156 [00:07<01:34,  1.53it/s][codecarbon INFO @ 15:56:06] Energy consumed for RAM : 0.055696 kWh. RAM Power : 42.987337589263916 W\n",
      "[codecarbon INFO @ 15:56:06] Energy consumed for all GPUs : 0.322071 kWh. Total GPU Power : 228.8579620105923 W\n",
      "[codecarbon INFO @ 15:56:06] Energy consumed for all CPUs : 0.055092 kWh. Total CPU Power : 42.5 W\n",
      "[codecarbon INFO @ 15:56:06] 0.432858 kWh of electricity used since the beginning.\n",
      "     41/100        38G     0.3382     0.2534     0.9666        167        640:  22%|██▏       | 35/156 [00:23<01:19,  1.53it/s][codecarbon INFO @ 15:56:21] Energy consumed for RAM : 0.055875 kWh. RAM Power : 42.987337589263916 W\n",
      "[codecarbon INFO @ 15:56:21] Energy consumed for all GPUs : 0.323152 kWh. Total GPU Power : 259.4522024444125 W\n",
      "[codecarbon INFO @ 15:56:21] Energy consumed for all CPUs : 0.055269 kWh. Total CPU Power : 42.5 W\n",
      "[codecarbon INFO @ 15:56:21] 0.434295 kWh of electricity used since the beginning.\n",
      "[codecarbon ERROR @ 15:56:21] Region:  not found for Country with ISO CODE : USA\n",
      "Traceback (most recent call last):\n",
      "  File \"/home/rocky/miniconda3/envs/jupyterlab/lib/python3.12/site-packages/codecarbon/core/emissions.py\", line 142, in get_private_infra_emissions\n",
      "    return self.get_region_emissions(energy, geo)\n",
      "           ^^^^^^^^^^^^^^^^^^^^^^^^^^^^^^^^^^^^^^\n",
      "  File \"/home/rocky/miniconda3/envs/jupyterlab/lib/python3.12/site-packages/codecarbon/core/emissions.py\", line 168, in get_region_emissions\n",
      "    raise ValueError(\n",
      "ValueError: Region:  not found for Country with ISO CODE : USA\n",
      "[codecarbon WARNING @ 15:56:21] Regional emissions retrieval failed. Falling back on country emissions.\n",
      "[codecarbon INFO @ 15:56:21] 0.034701 g.CO2eq/s mean an estimation of 1,094.3284124843287 kg.CO2eq/year\n",
      "     41/100        38G     0.3364     0.2539     0.9651        171        640:  37%|███▋      | 57/156 [00:37<01:05,  1.52it/s][codecarbon INFO @ 15:56:36] Energy consumed for RAM : 0.056054 kWh. RAM Power : 42.987337589263916 W\n",
      "[codecarbon INFO @ 15:56:36] Energy consumed for all GPUs : 0.324227 kWh. Total GPU Power : 258.19822971600706 W\n",
      "[codecarbon INFO @ 15:56:36] Energy consumed for all CPUs : 0.055446 kWh. Total CPU Power : 42.5 W\n",
      "[codecarbon INFO @ 15:56:36] 0.435727 kWh of electricity used since the beginning.\n",
      "     41/100        38G     0.3354      0.254     0.9629        187        640:  51%|█████▏    | 80/156 [00:52<00:49,  1.52it/s][codecarbon INFO @ 15:56:51] Energy consumed for RAM : 0.056233 kWh. RAM Power : 42.987337589263916 W\n",
      "[codecarbon INFO @ 15:56:51] Energy consumed for all GPUs : 0.325303 kWh. Total GPU Power : 258.2911925562992 W\n",
      "[codecarbon INFO @ 15:56:51] Energy consumed for all CPUs : 0.055623 kWh. Total CPU Power : 42.5 W\n",
      "[codecarbon INFO @ 15:56:51] 0.437159 kWh of electricity used since the beginning.\n",
      "     41/100        38G     0.3345     0.2548     0.9615        189        640:  66%|██████▌   | 103/156 [01:07<00:34,  1.53it/s][codecarbon INFO @ 15:57:06] Energy consumed for RAM : 0.056412 kWh. RAM Power : 42.987337589263916 W\n",
      "[codecarbon INFO @ 15:57:06] Energy consumed for all GPUs : 0.326380 kWh. Total GPU Power : 258.5728046667901 W\n",
      "[codecarbon INFO @ 15:57:06] Energy consumed for all CPUs : 0.055800 kWh. Total CPU Power : 42.5 W\n",
      "[codecarbon INFO @ 15:57:06] 0.438592 kWh of electricity used since the beginning.\n",
      "     41/100        38G     0.3354     0.2551     0.9625        192        640:  81%|████████  | 126/156 [01:22<00:19,  1.52it/s][codecarbon INFO @ 15:57:21] Energy consumed for RAM : 0.056591 kWh. RAM Power : 42.987337589263916 W\n",
      "[codecarbon INFO @ 15:57:21] Energy consumed for all GPUs : 0.327454 kWh. Total GPU Power : 257.7264340441296 W\n",
      "[codecarbon INFO @ 15:57:21] Energy consumed for all CPUs : 0.055977 kWh. Total CPU Power : 42.5 W\n",
      "[codecarbon INFO @ 15:57:21] 0.440022 kWh of electricity used since the beginning.\n",
      "     41/100        38G      0.334     0.2535     0.9619        178        640:  96%|█████████▌| 149/156 [01:37<00:04,  1.53it/s][codecarbon INFO @ 15:57:36] Energy consumed for RAM : 0.056770 kWh. RAM Power : 42.987337589263916 W\n",
      "[codecarbon INFO @ 15:57:36] Energy consumed for all GPUs : 0.328535 kWh. Total GPU Power : 259.4071459066992 W\n",
      "[codecarbon INFO @ 15:57:36] Energy consumed for all CPUs : 0.056154 kWh. Total CPU Power : 42.5 W\n",
      "[codecarbon INFO @ 15:57:36] 0.441460 kWh of electricity used since the beginning.\n",
      "     41/100        38G     0.3334     0.2535     0.9617         23        640: 100%|██████████| 156/156 [01:41<00:00,  1.53it/s]\n",
      "                 Class     Images  Instances      Box(P          R      mAP50  mAP50-95):  89%|████████▉ | 17/19 [00:11<00:01,  1.80it/s][codecarbon INFO @ 15:57:51] Energy consumed for RAM : 0.056949 kWh. RAM Power : 42.987337589263916 W\n",
      "[codecarbon INFO @ 15:57:51] Energy consumed for all GPUs : 0.329474 kWh. Total GPU Power : 225.31574321097565 W\n",
      "[codecarbon INFO @ 15:57:51] Energy consumed for all CPUs : 0.056331 kWh. Total CPU Power : 42.5 W\n",
      "[codecarbon INFO @ 15:57:51] 0.442754 kWh of electricity used since the beginning.\n",
      "                 Class     Images  Instances      Box(P          R      mAP50  mAP50-95): 100%|██████████| 19/19 [00:11<00:00,  1.59it/s]"
     ]
    },
    {
     "name": "stdout",
     "output_type": "stream",
     "text": [
      "                   all       2844       3135      0.958      0.936      0.977      0.874\n"
     ]
    },
    {
     "name": "stderr",
     "output_type": "stream",
     "text": [
      "\n",
      "[codecarbon INFO @ 15:57:53] \n",
      "Graceful stopping: collecting and writing information.\n",
      "Please wait a few seconds...\n",
      "[codecarbon INFO @ 15:57:53] Energy consumed for RAM : 0.056969 kWh. RAM Power : 42.987337589263916 W\n",
      "[codecarbon INFO @ 15:57:53] Energy consumed for all GPUs : 0.329553 kWh. Total GPU Power : 173.57095655212825 W\n",
      "[codecarbon INFO @ 15:57:53] Energy consumed for all CPUs : 0.056351 kWh. Total CPU Power : 42.5 W\n",
      "[codecarbon INFO @ 15:57:53] 0.442873 kWh of electricity used since the beginning.\n",
      "[codecarbon ERROR @ 15:57:53] Region:  not found for Country with ISO CODE : USA\n",
      "Traceback (most recent call last):\n",
      "  File \"/home/rocky/miniconda3/envs/jupyterlab/lib/python3.12/site-packages/codecarbon/emissions_tracker.py\", line 1163, in wrapped_fn\n",
      "    fn_result = fn(*args, **kwargs)\n",
      "                ^^^^^^^^^^^^^^^^^^^\n",
      "  File \"/tmp/ipykernel_2791/265447955.py\", line 5, in train\n",
      "    results = model.train(data=\"data.yaml\", epochs=100, imgsz=640, patience=20, batch=0.95, cache=True, device=0, single_cls=True, save=True, save_period=10, cos_lr=True, dropout=0.2, plots=True)\n",
      "              ^^^^^^^^^^^^^^^^^^^^^^^^^^^^^^^^^^^^^^^^^^^^^^^^^^^^^^^^^^^^^^^^^^^^^^^^^^^^^^^^^^^^^^^^^^^^^^^^^^^^^^^^^^^^^^^^^^^^^^^^^^^^^^^^^^^^^^^^^^^^^^^^^^^^^^^^^^^^^^^^^^^^^^^^^^^^^^^^^^^^^\n",
      "  File \"/home/rocky/miniconda3/envs/jupyterlab/lib/python3.12/site-packages/ultralytics/engine/model.py\", line 802, in train\n",
      "    self.trainer.train()\n",
      "  File \"/home/rocky/miniconda3/envs/jupyterlab/lib/python3.12/site-packages/ultralytics/engine/trainer.py\", line 207, in train\n",
      "    self._do_train(world_size)\n",
      "  File \"/home/rocky/miniconda3/envs/jupyterlab/lib/python3.12/site-packages/ultralytics/engine/trainer.py\", line 440, in _do_train\n",
      "    self.save_model()\n",
      "  File \"/home/rocky/miniconda3/envs/jupyterlab/lib/python3.12/site-packages/ultralytics/engine/trainer.py\", line 543, in save_model\n",
      "    (self.wdir / f\"epoch{self.epoch}.pt\").write_bytes(serialized_ckpt)  # save epoch, i.e. 'epoch3.pt'\n",
      "    ^^^^^^^^^^^^^^^^^^^^^^^^^^^^^^^^^^^^^^^^^^^^^^^^^^^^^^^^^^^^^^^^^^\n",
      "  File \"/home/rocky/miniconda3/envs/jupyterlab/lib/python3.12/pathlib.py\", line 1037, in write_bytes\n",
      "    return f.write(view)\n",
      "           ^^^^^^^^^^^^^\n",
      "OSError: [Errno 28] No space left on device\n",
      "\n",
      "During handling of the above exception, another exception occurred:\n",
      "\n",
      "Traceback (most recent call last):\n",
      "  File \"/home/rocky/miniconda3/envs/jupyterlab/lib/python3.12/site-packages/codecarbon/core/emissions.py\", line 142, in get_private_infra_emissions\n",
      "    return self.get_region_emissions(energy, geo)\n",
      "           ^^^^^^^^^^^^^^^^^^^^^^^^^^^^^^^^^^^^^^\n",
      "  File \"/home/rocky/miniconda3/envs/jupyterlab/lib/python3.12/site-packages/codecarbon/core/emissions.py\", line 168, in get_region_emissions\n",
      "    raise ValueError(\n",
      "ValueError: Region:  not found for Country with ISO CODE : USA\n",
      "[codecarbon WARNING @ 15:57:53] Regional emissions retrieval failed. Falling back on country emissions.\n",
      "[codecarbon INFO @ 15:57:53] Done!\n",
      "\n"
     ]
    },
    {
     "ename": "OSError",
     "evalue": "[Errno 28] No space left on device",
     "output_type": "error",
     "traceback": [
      "\u001b[0;31m---------------------------------------------------------------------------\u001b[0m",
      "\u001b[0;31mOSError\u001b[0m                                   Traceback (most recent call last)",
      "Cell \u001b[0;32mIn[18], line 7\u001b[0m\n\u001b[1;32m      3\u001b[0m \u001b[38;5;129m@track_emissions\u001b[39m()\n\u001b[1;32m      4\u001b[0m \u001b[38;5;28;01mdef\u001b[39;00m \u001b[38;5;21mtrain\u001b[39m():\n\u001b[1;32m      5\u001b[0m     results \u001b[38;5;241m=\u001b[39m model\u001b[38;5;241m.\u001b[39mtrain(data\u001b[38;5;241m=\u001b[39m\u001b[38;5;124m\"\u001b[39m\u001b[38;5;124mdata.yaml\u001b[39m\u001b[38;5;124m\"\u001b[39m, epochs\u001b[38;5;241m=\u001b[39m\u001b[38;5;241m100\u001b[39m, imgsz\u001b[38;5;241m=\u001b[39m\u001b[38;5;241m640\u001b[39m, patience\u001b[38;5;241m=\u001b[39m\u001b[38;5;241m20\u001b[39m, batch\u001b[38;5;241m=\u001b[39m\u001b[38;5;241m0.95\u001b[39m, cache\u001b[38;5;241m=\u001b[39m\u001b[38;5;28;01mTrue\u001b[39;00m, device\u001b[38;5;241m=\u001b[39m\u001b[38;5;241m0\u001b[39m, single_cls\u001b[38;5;241m=\u001b[39m\u001b[38;5;28;01mTrue\u001b[39;00m, save\u001b[38;5;241m=\u001b[39m\u001b[38;5;28;01mTrue\u001b[39;00m, save_period\u001b[38;5;241m=\u001b[39m\u001b[38;5;241m10\u001b[39m, cos_lr\u001b[38;5;241m=\u001b[39m\u001b[38;5;28;01mTrue\u001b[39;00m, dropout\u001b[38;5;241m=\u001b[39m\u001b[38;5;241m0.2\u001b[39m, plots\u001b[38;5;241m=\u001b[39m\u001b[38;5;28;01mTrue\u001b[39;00m)\n\u001b[0;32m----> 7\u001b[0m train()\n",
      "File \u001b[0;32m~/miniconda3/envs/jupyterlab/lib/python3.12/site-packages/codecarbon/emissions_tracker.py:1163\u001b[0m, in \u001b[0;36mtrack_emissions.<locals>._decorate.<locals>.wrapped_fn\u001b[0;34m(*args, **kwargs)\u001b[0m\n\u001b[1;32m   1161\u001b[0m tracker\u001b[38;5;241m.\u001b[39mstart()\n\u001b[1;32m   1162\u001b[0m \u001b[38;5;28;01mtry\u001b[39;00m:\n\u001b[0;32m-> 1163\u001b[0m     fn_result \u001b[38;5;241m=\u001b[39m fn(\u001b[38;5;241m*\u001b[39margs, \u001b[38;5;241m*\u001b[39m\u001b[38;5;241m*\u001b[39mkwargs)\n\u001b[1;32m   1164\u001b[0m \u001b[38;5;28;01mfinally\u001b[39;00m:\n\u001b[1;32m   1165\u001b[0m     logger\u001b[38;5;241m.\u001b[39minfo(\n\u001b[1;32m   1166\u001b[0m         \u001b[38;5;124m\"\u001b[39m\u001b[38;5;130;01m\\n\u001b[39;00m\u001b[38;5;124mGraceful stopping: collecting and writing information.\u001b[39m\u001b[38;5;130;01m\\n\u001b[39;00m\u001b[38;5;124m\"\u001b[39m\n\u001b[1;32m   1167\u001b[0m         \u001b[38;5;241m+\u001b[39m \u001b[38;5;124m\"\u001b[39m\u001b[38;5;124mPlease wait a few seconds...\u001b[39m\u001b[38;5;124m\"\u001b[39m\n\u001b[1;32m   1168\u001b[0m     )\n",
      "Cell \u001b[0;32mIn[18], line 5\u001b[0m, in \u001b[0;36mtrain\u001b[0;34m()\u001b[0m\n\u001b[1;32m      3\u001b[0m \u001b[38;5;129m@track_emissions\u001b[39m()\n\u001b[1;32m      4\u001b[0m \u001b[38;5;28;01mdef\u001b[39;00m \u001b[38;5;21mtrain\u001b[39m():\n\u001b[0;32m----> 5\u001b[0m     results \u001b[38;5;241m=\u001b[39m model\u001b[38;5;241m.\u001b[39mtrain(data\u001b[38;5;241m=\u001b[39m\u001b[38;5;124m\"\u001b[39m\u001b[38;5;124mdata.yaml\u001b[39m\u001b[38;5;124m\"\u001b[39m, epochs\u001b[38;5;241m=\u001b[39m\u001b[38;5;241m100\u001b[39m, imgsz\u001b[38;5;241m=\u001b[39m\u001b[38;5;241m640\u001b[39m, patience\u001b[38;5;241m=\u001b[39m\u001b[38;5;241m20\u001b[39m, batch\u001b[38;5;241m=\u001b[39m\u001b[38;5;241m0.95\u001b[39m, cache\u001b[38;5;241m=\u001b[39m\u001b[38;5;28;01mTrue\u001b[39;00m, device\u001b[38;5;241m=\u001b[39m\u001b[38;5;241m0\u001b[39m, single_cls\u001b[38;5;241m=\u001b[39m\u001b[38;5;28;01mTrue\u001b[39;00m, save\u001b[38;5;241m=\u001b[39m\u001b[38;5;28;01mTrue\u001b[39;00m, save_period\u001b[38;5;241m=\u001b[39m\u001b[38;5;241m10\u001b[39m, cos_lr\u001b[38;5;241m=\u001b[39m\u001b[38;5;28;01mTrue\u001b[39;00m, dropout\u001b[38;5;241m=\u001b[39m\u001b[38;5;241m0.2\u001b[39m, plots\u001b[38;5;241m=\u001b[39m\u001b[38;5;28;01mTrue\u001b[39;00m)\n",
      "File \u001b[0;32m~/miniconda3/envs/jupyterlab/lib/python3.12/site-packages/ultralytics/engine/model.py:802\u001b[0m, in \u001b[0;36mModel.train\u001b[0;34m(self, trainer, **kwargs)\u001b[0m\n\u001b[1;32m    799\u001b[0m     \u001b[38;5;28mself\u001b[39m\u001b[38;5;241m.\u001b[39mmodel \u001b[38;5;241m=\u001b[39m \u001b[38;5;28mself\u001b[39m\u001b[38;5;241m.\u001b[39mtrainer\u001b[38;5;241m.\u001b[39mmodel\n\u001b[1;32m    801\u001b[0m \u001b[38;5;28mself\u001b[39m\u001b[38;5;241m.\u001b[39mtrainer\u001b[38;5;241m.\u001b[39mhub_session \u001b[38;5;241m=\u001b[39m \u001b[38;5;28mself\u001b[39m\u001b[38;5;241m.\u001b[39msession  \u001b[38;5;66;03m# attach optional HUB session\u001b[39;00m\n\u001b[0;32m--> 802\u001b[0m \u001b[38;5;28mself\u001b[39m\u001b[38;5;241m.\u001b[39mtrainer\u001b[38;5;241m.\u001b[39mtrain()\n\u001b[1;32m    803\u001b[0m \u001b[38;5;66;03m# Update model and cfg after training\u001b[39;00m\n\u001b[1;32m    804\u001b[0m \u001b[38;5;28;01mif\u001b[39;00m RANK \u001b[38;5;129;01min\u001b[39;00m {\u001b[38;5;241m-\u001b[39m\u001b[38;5;241m1\u001b[39m, \u001b[38;5;241m0\u001b[39m}:\n",
      "File \u001b[0;32m~/miniconda3/envs/jupyterlab/lib/python3.12/site-packages/ultralytics/engine/trainer.py:207\u001b[0m, in \u001b[0;36mBaseTrainer.train\u001b[0;34m(self)\u001b[0m\n\u001b[1;32m    204\u001b[0m         ddp_cleanup(\u001b[38;5;28mself\u001b[39m, \u001b[38;5;28mstr\u001b[39m(file))\n\u001b[1;32m    206\u001b[0m \u001b[38;5;28;01melse\u001b[39;00m:\n\u001b[0;32m--> 207\u001b[0m     \u001b[38;5;28mself\u001b[39m\u001b[38;5;241m.\u001b[39m_do_train(world_size)\n",
      "File \u001b[0;32m~/miniconda3/envs/jupyterlab/lib/python3.12/site-packages/ultralytics/engine/trainer.py:440\u001b[0m, in \u001b[0;36mBaseTrainer._do_train\u001b[0;34m(self, world_size)\u001b[0m\n\u001b[1;32m    438\u001b[0m     \u001b[38;5;66;03m# Save model\u001b[39;00m\n\u001b[1;32m    439\u001b[0m     \u001b[38;5;28;01mif\u001b[39;00m \u001b[38;5;28mself\u001b[39m\u001b[38;5;241m.\u001b[39margs\u001b[38;5;241m.\u001b[39msave \u001b[38;5;129;01mor\u001b[39;00m final_epoch:\n\u001b[0;32m--> 440\u001b[0m         \u001b[38;5;28mself\u001b[39m\u001b[38;5;241m.\u001b[39msave_model()\n\u001b[1;32m    441\u001b[0m         \u001b[38;5;28mself\u001b[39m\u001b[38;5;241m.\u001b[39mrun_callbacks(\u001b[38;5;124m\"\u001b[39m\u001b[38;5;124mon_model_save\u001b[39m\u001b[38;5;124m\"\u001b[39m)\n\u001b[1;32m    443\u001b[0m \u001b[38;5;66;03m# Scheduler\u001b[39;00m\n",
      "File \u001b[0;32m~/miniconda3/envs/jupyterlab/lib/python3.12/site-packages/ultralytics/engine/trainer.py:543\u001b[0m, in \u001b[0;36mBaseTrainer.save_model\u001b[0;34m(self)\u001b[0m\n\u001b[1;32m    541\u001b[0m     \u001b[38;5;28mself\u001b[39m\u001b[38;5;241m.\u001b[39mbest\u001b[38;5;241m.\u001b[39mwrite_bytes(serialized_ckpt)  \u001b[38;5;66;03m# save best.pt\u001b[39;00m\n\u001b[1;32m    542\u001b[0m \u001b[38;5;28;01mif\u001b[39;00m (\u001b[38;5;28mself\u001b[39m\u001b[38;5;241m.\u001b[39msave_period \u001b[38;5;241m>\u001b[39m \u001b[38;5;241m0\u001b[39m) \u001b[38;5;129;01mand\u001b[39;00m (\u001b[38;5;28mself\u001b[39m\u001b[38;5;241m.\u001b[39mepoch \u001b[38;5;241m%\u001b[39m \u001b[38;5;28mself\u001b[39m\u001b[38;5;241m.\u001b[39msave_period \u001b[38;5;241m==\u001b[39m \u001b[38;5;241m0\u001b[39m):\n\u001b[0;32m--> 543\u001b[0m     (\u001b[38;5;28mself\u001b[39m\u001b[38;5;241m.\u001b[39mwdir \u001b[38;5;241m/\u001b[39m \u001b[38;5;124mf\u001b[39m\u001b[38;5;124m\"\u001b[39m\u001b[38;5;124mepoch\u001b[39m\u001b[38;5;132;01m{\u001b[39;00m\u001b[38;5;28mself\u001b[39m\u001b[38;5;241m.\u001b[39mepoch\u001b[38;5;132;01m}\u001b[39;00m\u001b[38;5;124m.pt\u001b[39m\u001b[38;5;124m\"\u001b[39m)\u001b[38;5;241m.\u001b[39mwrite_bytes(serialized_ckpt)\n",
      "File \u001b[0;32m~/miniconda3/envs/jupyterlab/lib/python3.12/pathlib.py:1037\u001b[0m, in \u001b[0;36mPath.write_bytes\u001b[0;34m(self, data)\u001b[0m\n\u001b[1;32m   1035\u001b[0m view \u001b[38;5;241m=\u001b[39m \u001b[38;5;28mmemoryview\u001b[39m(data)\n\u001b[1;32m   1036\u001b[0m \u001b[38;5;28;01mwith\u001b[39;00m \u001b[38;5;28mself\u001b[39m\u001b[38;5;241m.\u001b[39mopen(mode\u001b[38;5;241m=\u001b[39m\u001b[38;5;124m'\u001b[39m\u001b[38;5;124mwb\u001b[39m\u001b[38;5;124m'\u001b[39m) \u001b[38;5;28;01mas\u001b[39;00m f:\n\u001b[0;32m-> 1037\u001b[0m     \u001b[38;5;28;01mreturn\u001b[39;00m f\u001b[38;5;241m.\u001b[39mwrite(view)\n",
      "\u001b[0;31mOSError\u001b[0m: [Errno 28] No space left on device"
     ]
    }
   ],
   "source": [
    "# !rm /tmp/.codecarbon.lock\n",
    "\n",
    "@track_emissions()\n",
    "def train():\n",
    "    results = model.train(data=\"data.yaml\", epochs=100, imgsz=640, patience=20, batch=0.95, cache=True, device=0, single_cls=True, save=True, save_period=10, cos_lr=True, dropout=0.2, plots=True)\n",
    "\n",
    "train()"
   ]
  },
  {
   "cell_type": "code",
   "execution_count": 24,
   "id": "7f7d731f-d48d-477b-b75c-2a81747ea4d5",
   "metadata": {},
   "outputs": [
    {
     "name": "stdout",
     "output_type": "stream",
     "text": [
      "Ultralytics 8.3.34 🚀 Python-3.12.7 torch-2.5.1+cu124 CUDA:0 (NVIDIA A100-SXM4-40GB, 40444MiB)\n",
      "\u001b[34m\u001b[1mengine/trainer: \u001b[0mtask=detect, mode=train, model=runs/detect/train/weights/last.pt, data=data.yaml, epochs=100, time=None, patience=20, batch=76, imgsz=640, save=True, save_period=10, cache=True, device=0, workers=8, project=None, name=train, exist_ok=False, pretrained=True, optimizer=auto, verbose=True, seed=0, deterministic=True, single_cls=True, rect=False, cos_lr=True, close_mosaic=10, resume=runs/detect/train/weights/last.pt, amp=True, fraction=1.0, profile=False, freeze=None, multi_scale=False, overlap_mask=True, mask_ratio=4, dropout=0.2, val=True, split=val, save_json=False, save_hybrid=False, conf=None, iou=0.7, max_det=300, half=False, dnn=False, plots=True, source=None, vid_stride=1, stream_buffer=False, visualize=False, augment=False, agnostic_nms=False, classes=None, retina_masks=False, embed=None, show=False, save_frames=False, save_txt=False, save_conf=False, save_crop=False, show_labels=True, show_conf=True, show_boxes=True, line_width=None, format=torchscript, keras=False, optimize=False, int8=False, dynamic=False, simplify=True, opset=None, workspace=4, nms=False, lr0=0.01, lrf=0.01, momentum=0.937, weight_decay=0.0005, warmup_epochs=3.0, warmup_momentum=0.8, warmup_bias_lr=0.0, box=7.5, cls=0.5, dfl=1.5, pose=12.0, kobj=1.0, label_smoothing=0.0, nbs=64, hsv_h=0.015, hsv_s=0.7, hsv_v=0.4, degrees=0.0, translate=0.1, scale=0.5, shear=0.0, perspective=0.0, flipud=0.0, fliplr=0.5, bgr=0.0, mosaic=1.0, mixup=0.0, copy_paste=0.0, copy_paste_mode=flip, auto_augment=randaugment, erasing=0.4, crop_fraction=1.0, cfg=None, tracker=botsort.yaml, save_dir=runs/detect/train\n",
      "\u001b[34m\u001b[1mTensorBoard: \u001b[0mStart with 'tensorboard --logdir runs/detect/train', view at http://localhost:6006/\n",
      "\n",
      "                   from  n    params  module                                       arguments                     \n",
      "  0                  -1  1       928  ultralytics.nn.modules.conv.Conv             [3, 32, 3, 2]                 \n",
      "  1                  -1  1     18560  ultralytics.nn.modules.conv.Conv             [32, 64, 3, 2]                \n",
      "  2                  -1  1    171648  ultralytics.nn.modules.block.RepNCSPELAN4    [64, 128, 128, 64, 1]         \n",
      "  3                  -1  1    276960  ultralytics.nn.modules.block.AConv           [128, 240]                    \n",
      "  4                  -1  1    629520  ultralytics.nn.modules.block.RepNCSPELAN4    [240, 240, 240, 120, 1]       \n",
      "  5                  -1  1    778320  ultralytics.nn.modules.block.AConv           [240, 360]                    \n",
      "  6                  -1  1   1414080  ultralytics.nn.modules.block.RepNCSPELAN4    [360, 360, 360, 180, 1]       \n",
      "  7                  -1  1   1556160  ultralytics.nn.modules.block.AConv           [360, 480]                    \n",
      "  8                  -1  1   2511840  ultralytics.nn.modules.block.RepNCSPELAN4    [480, 480, 480, 240, 1]       \n",
      "  9                  -1  1    577440  ultralytics.nn.modules.block.SPPELAN         [480, 480, 240]               \n",
      " 10                  -1  1         0  torch.nn.modules.upsampling.Upsample         [None, 2, 'nearest']          \n",
      " 11             [-1, 6]  1         0  ultralytics.nn.modules.conv.Concat           [1]                           \n",
      " 12                  -1  1   1586880  ultralytics.nn.modules.block.RepNCSPELAN4    [840, 360, 360, 180, 1]       \n",
      " 13                  -1  1         0  torch.nn.modules.upsampling.Upsample         [None, 2, 'nearest']          \n",
      " 14             [-1, 4]  1         0  ultralytics.nn.modules.conv.Concat           [1]                           \n",
      " 15                  -1  1    715920  ultralytics.nn.modules.block.RepNCSPELAN4    [600, 240, 240, 120, 1]       \n",
      " 16                  -1  1    397808  ultralytics.nn.modules.block.AConv           [240, 184]                    \n",
      " 17            [-1, 12]  1         0  ultralytics.nn.modules.conv.Concat           [1]                           \n",
      " 18                  -1  1   1480320  ultralytics.nn.modules.block.RepNCSPELAN4    [544, 360, 360, 180, 1]       \n",
      " 19                  -1  1    778080  ultralytics.nn.modules.block.AConv           [360, 240]                    \n",
      " 20             [-1, 9]  1         0  ultralytics.nn.modules.conv.Concat           [1]                           \n",
      " 21                  -1  1   2627040  ultralytics.nn.modules.block.RepNCSPELAN4    [720, 480, 480, 240, 1]       \n",
      " 22        [15, 18, 21]  1   4637539  ultralytics.nn.modules.head.Detect           [1, [240, 360, 480]]          \n",
      "YOLOv9m summary: 603 layers, 20,159,043 parameters, 20,159,027 gradients, 77.5 GFLOPs\n",
      "\n",
      "Transferred 907/907 items from pretrained weights\n",
      "Freezing layer 'model.22.dfl.conv.weight'\n",
      "\u001b[34m\u001b[1mAMP: \u001b[0mrunning Automatic Mixed Precision (AMP) checks...\n",
      "\u001b[34m\u001b[1mAMP: \u001b[0mchecks passed ✅\n"
     ]
    },
    {
     "name": "stderr",
     "output_type": "stream",
     "text": [
      "\u001b[34m\u001b[1mtrain: \u001b[0mScanning /home/rocky/FindMyCat/scratchCat1/datasets/combined-dataset/train/labels.cache... 11902 images, 1672 backgrounds, 111 corrupt: 100%|██████████| 11902/11\u001b[0m"
     ]
    },
    {
     "name": "stdout",
     "output_type": "stream",
     "text": [
      "\u001b[34m\u001b[1mtrain: \u001b[0mWARNING ⚠️ /home/rocky/FindMyCat/scratchCat1/datasets/combined-dataset/train/images/066a8514-b906-49b8-995c-4c2d6d6061f9_jpg.rf.f77ed2231c7657551556cd59e24c3b17.jpg: ignoring corrupt image/label: Label class 5 exceeds dataset class count 1. Possible class labels are 0-0\n",
      "\u001b[34m\u001b[1mtrain: \u001b[0mWARNING ⚠️ /home/rocky/FindMyCat/scratchCat1/datasets/combined-dataset/train/images/073847c9-c3e0-4e68-a939-20f2d186cd82_jpg.rf.97e4aac9b537cb411a4a726bad9c3e36.jpg: ignoring corrupt image/label: Label class 6 exceeds dataset class count 1. Possible class labels are 0-0\n",
      "\u001b[34m\u001b[1mtrain: \u001b[0mWARNING ⚠️ /home/rocky/FindMyCat/scratchCat1/datasets/combined-dataset/train/images/0e559139-381c-4155-a996-fbea82a0c05d_jpg.rf.3c31371b68dae28f1c208cddce53145e.jpg: ignoring corrupt image/label: Label class 5 exceeds dataset class count 1. Possible class labels are 0-0\n",
      "\u001b[34m\u001b[1mtrain: \u001b[0mWARNING ⚠️ /home/rocky/FindMyCat/scratchCat1/datasets/combined-dataset/train/images/1174dcf4-2e6b-4d0b-b338-df639182a9d7_jpg.rf.d44c826dc120050745ea45d38469f6f9.jpg: ignoring corrupt image/label: Label class 5 exceeds dataset class count 1. Possible class labels are 0-0\n",
      "\u001b[34m\u001b[1mtrain: \u001b[0mWARNING ⚠️ /home/rocky/FindMyCat/scratchCat1/datasets/combined-dataset/train/images/16e75227-f66f-4d1a-abbf-82a5fd135763_jpg.rf.8b9eab26eed2bf82d1e2e0ae61f5246c.jpg: ignoring corrupt image/label: Label class 5 exceeds dataset class count 1. Possible class labels are 0-0\n",
      "\u001b[34m\u001b[1mtrain: \u001b[0mWARNING ⚠️ /home/rocky/FindMyCat/scratchCat1/datasets/combined-dataset/train/images/16e97112-fe0d-4f1f-b3da-9f3a80571f00_jpg.rf.000637694ff68161a2aa4951e054b379.jpg: ignoring corrupt image/label: Label class 6 exceeds dataset class count 1. Possible class labels are 0-0\n",
      "\u001b[34m\u001b[1mtrain: \u001b[0mWARNING ⚠️ /home/rocky/FindMyCat/scratchCat1/datasets/combined-dataset/train/images/18cdb22b-cd16-4ad0-970e-d761b083e88a_jpg.rf.cad0df90f3283d9242643d30e124bb62.jpg: ignoring corrupt image/label: Label class 5 exceeds dataset class count 1. Possible class labels are 0-0\n",
      "\u001b[34m\u001b[1mtrain: \u001b[0mWARNING ⚠️ /home/rocky/FindMyCat/scratchCat1/datasets/combined-dataset/train/images/192ec9c2-8bb1-4b2e-b01d-9e918a914898_jpg.rf.64e6ae59ae8c7608e02b54a80d5cae9e.jpg: ignoring corrupt image/label: Label class 5 exceeds dataset class count 1. Possible class labels are 0-0\n",
      "\u001b[34m\u001b[1mtrain: \u001b[0mWARNING ⚠️ /home/rocky/FindMyCat/scratchCat1/datasets/combined-dataset/train/images/2013010711390213112_jpg.rf.6d7b9709773087524886111f27c31a6b.jpg: ignoring corrupt image/label: Label class 3 exceeds dataset class count 1. Possible class labels are 0-0\n",
      "\u001b[34m\u001b[1mtrain: \u001b[0mWARNING ⚠️ /home/rocky/FindMyCat/scratchCat1/datasets/combined-dataset/train/images/2013010711390213118_jpg.rf.73743cfcd203a565e3da5980018537b8.jpg: ignoring corrupt image/label: Label class 5 exceeds dataset class count 1. Possible class labels are 0-0\n",
      "\u001b[34m\u001b[1mtrain: \u001b[0mWARNING ⚠️ /home/rocky/FindMyCat/scratchCat1/datasets/combined-dataset/train/images/2013010711390213119_jpg.rf.80750b9a5749922a39ac56a10ae8c3ce.jpg: ignoring corrupt image/label: Label class 5 exceeds dataset class count 1. Possible class labels are 0-0\n",
      "\u001b[34m\u001b[1mtrain: \u001b[0mWARNING ⚠️ /home/rocky/FindMyCat/scratchCat1/datasets/combined-dataset/train/images/2013010711390213120_jpg.rf.c24a92639987eef27c2b1579a97fa973.jpg: ignoring corrupt image/label: Label class 2 exceeds dataset class count 1. Possible class labels are 0-0\n",
      "\u001b[34m\u001b[1mtrain: \u001b[0mWARNING ⚠️ /home/rocky/FindMyCat/scratchCat1/datasets/combined-dataset/train/images/2013010711390213121_jpg.rf.c7ce251bee17129c8e4bb14a7ed55723.jpg: ignoring corrupt image/label: Label class 3 exceeds dataset class count 1. Possible class labels are 0-0\n",
      "\u001b[34m\u001b[1mtrain: \u001b[0mWARNING ⚠️ /home/rocky/FindMyCat/scratchCat1/datasets/combined-dataset/train/images/2040379f-dd40-4299-bca7-9cd6e5d7024f_jpg.rf.db0a197c8b9325035210e8c92caacf8b.jpg: ignoring corrupt image/label: Label class 6 exceeds dataset class count 1. Possible class labels are 0-0\n",
      "\u001b[34m\u001b[1mtrain: \u001b[0mWARNING ⚠️ /home/rocky/FindMyCat/scratchCat1/datasets/combined-dataset/train/images/2400a9be-28f0-4d20-818b-f929f36c1c0d_jpg.rf.9235f34106ba52157ccc7b9ec058c62a.jpg: ignoring corrupt image/label: Label class 5 exceeds dataset class count 1. Possible class labels are 0-0\n",
      "\u001b[34m\u001b[1mtrain: \u001b[0mWARNING ⚠️ /home/rocky/FindMyCat/scratchCat1/datasets/combined-dataset/train/images/285ad8fb-2b07-4f1e-98f6-dd6d517b0174_jpg.rf.115ed71f13abdcd0d4357b5070efaa71.jpg: ignoring corrupt image/label: Label class 5 exceeds dataset class count 1. Possible class labels are 0-0\n",
      "\u001b[34m\u001b[1mtrain: \u001b[0mWARNING ⚠️ /home/rocky/FindMyCat/scratchCat1/datasets/combined-dataset/train/images/2bd9fcd1-62c3-4eac-986e-c27b43cba0a7_jpg.rf.8aaa866788425fc9322b1516e1092517.jpg: ignoring corrupt image/label: Label class 5 exceeds dataset class count 1. Possible class labels are 0-0\n",
      "\u001b[34m\u001b[1mtrain: \u001b[0mWARNING ⚠️ /home/rocky/FindMyCat/scratchCat1/datasets/combined-dataset/train/images/320f0e25-1a5e-4bb4-96d6-1e250b02104e_jpg.rf.b8351a37ffcdce2f5e37fcca00bfdb8e.jpg: ignoring corrupt image/label: Label class 5 exceeds dataset class count 1. Possible class labels are 0-0\n",
      "\u001b[34m\u001b[1mtrain: \u001b[0mWARNING ⚠️ /home/rocky/FindMyCat/scratchCat1/datasets/combined-dataset/train/images/35607174-45b1-42e6-b64b-7cc346962e7c_jpg.rf.46100bb167aa45957ea04b5c6b15bf29.jpg: ignoring corrupt image/label: Label class 5 exceeds dataset class count 1. Possible class labels are 0-0\n",
      "\u001b[34m\u001b[1mtrain: \u001b[0mWARNING ⚠️ /home/rocky/FindMyCat/scratchCat1/datasets/combined-dataset/train/images/39255e9c-e164-42d7-b280-7366c96aa038_jpg.rf.38a72ed107c4e6d8846eda0a7cf699f2.jpg: ignoring corrupt image/label: Label class 4 exceeds dataset class count 1. Possible class labels are 0-0\n",
      "\u001b[34m\u001b[1mtrain: \u001b[0mWARNING ⚠️ /home/rocky/FindMyCat/scratchCat1/datasets/combined-dataset/train/images/396895ae-04d6-44e6-b377-c8ddc22d54af_jpg.rf.1a234c5545a674b7aef00a3a1ff8094c.jpg: ignoring corrupt image/label: Label class 6 exceeds dataset class count 1. Possible class labels are 0-0\n",
      "\u001b[34m\u001b[1mtrain: \u001b[0mWARNING ⚠️ /home/rocky/FindMyCat/scratchCat1/datasets/combined-dataset/train/images/3e5d0a6f-94bd-4887-aa82-214367dbe2ce_jpg.rf.f0705ffd9b1f2a2675a7fc779f0a3782.jpg: ignoring corrupt image/label: Label class 5 exceeds dataset class count 1. Possible class labels are 0-0\n",
      "\u001b[34m\u001b[1mtrain: \u001b[0mWARNING ⚠️ /home/rocky/FindMyCat/scratchCat1/datasets/combined-dataset/train/images/432aefeb-0827-441c-94ad-34342e04eafa_jpg.rf.e98f5b37438738ff132a06b77a6d404e.jpg: ignoring corrupt image/label: Label class 5 exceeds dataset class count 1. Possible class labels are 0-0\n",
      "\u001b[34m\u001b[1mtrain: \u001b[0mWARNING ⚠️ /home/rocky/FindMyCat/scratchCat1/datasets/combined-dataset/train/images/4643ec3c-ad6c-48f2-ab14-0841d350b2d0_jpg.rf.2fa1682a16cf1c8e92b2eaa214852614.jpg: ignoring corrupt image/label: Label class 5 exceeds dataset class count 1. Possible class labels are 0-0\n",
      "\u001b[34m\u001b[1mtrain: \u001b[0mWARNING ⚠️ /home/rocky/FindMyCat/scratchCat1/datasets/combined-dataset/train/images/48fafd44-7370-4cc7-8be2-75caaace2082_jpg.rf.4a86ded83e988f5a534882292d2c813d.jpg: ignoring corrupt image/label: Label class 5 exceeds dataset class count 1. Possible class labels are 0-0\n",
      "\u001b[34m\u001b[1mtrain: \u001b[0mWARNING ⚠️ /home/rocky/FindMyCat/scratchCat1/datasets/combined-dataset/train/images/4a64e23a-7ab0-4883-950a-b61113518460_jpg.rf.1ec8db0c4a5f786ecb41fa23f725a623.jpg: ignoring corrupt image/label: Label class 5 exceeds dataset class count 1. Possible class labels are 0-0\n",
      "\u001b[34m\u001b[1mtrain: \u001b[0mWARNING ⚠️ /home/rocky/FindMyCat/scratchCat1/datasets/combined-dataset/train/images/4adca938-3aa0-4da5-803a-99fece8d0796_jpg.rf.ac72dcf1b56f49843928ede667ba2f05.jpg: ignoring corrupt image/label: Label class 5 exceeds dataset class count 1. Possible class labels are 0-0\n",
      "\u001b[34m\u001b[1mtrain: \u001b[0mWARNING ⚠️ /home/rocky/FindMyCat/scratchCat1/datasets/combined-dataset/train/images/4c957fef-ceab-426e-808d-544e71162837_jpg.rf.2bcc27a8cbb65d21d7b4fc4acfdd05d7.jpg: ignoring corrupt image/label: Label class 5 exceeds dataset class count 1. Possible class labels are 0-0\n",
      "\u001b[34m\u001b[1mtrain: \u001b[0mWARNING ⚠️ /home/rocky/FindMyCat/scratchCat1/datasets/combined-dataset/train/images/520ca8cd-a5b8-4c97-a57a-85be6fd8b497_jpg.rf.323345adf0f7ce7159df72f3a168bca6.jpg: ignoring corrupt image/label: Label class 5 exceeds dataset class count 1. Possible class labels are 0-0\n",
      "\u001b[34m\u001b[1mtrain: \u001b[0mWARNING ⚠️ /home/rocky/FindMyCat/scratchCat1/datasets/combined-dataset/train/images/52_jpg.rf.0c3518e64a95885cede3cbd1efb9219e.jpg: ignoring corrupt image/label: Label class 2 exceeds dataset class count 1. Possible class labels are 0-0\n",
      "\u001b[34m\u001b[1mtrain: \u001b[0mWARNING ⚠️ /home/rocky/FindMyCat/scratchCat1/datasets/combined-dataset/train/images/54545_jpg.rf.d0c1dba2c9b76403833a0f1688f71370.jpg: ignoring corrupt image/label: Label class 2 exceeds dataset class count 1. Possible class labels are 0-0\n",
      "\u001b[34m\u001b[1mtrain: \u001b[0mWARNING ⚠️ /home/rocky/FindMyCat/scratchCat1/datasets/combined-dataset/train/images/56fac286-b306-42d8-92c5-5f1082e42d14_jpg.rf.e8fe62288ffab9fb01cf1be83ecec689.jpg: ignoring corrupt image/label: Label class 5 exceeds dataset class count 1. Possible class labels are 0-0\n",
      "\u001b[34m\u001b[1mtrain: \u001b[0mWARNING ⚠️ /home/rocky/FindMyCat/scratchCat1/datasets/combined-dataset/train/images/58d0fee0-b6ad-45f5-b192-0e4d65042152_jpg.rf.4b5e6c888863bfe090157db1c77f094e.jpg: ignoring corrupt image/label: Label class 5 exceeds dataset class count 1. Possible class labels are 0-0\n",
      "\u001b[34m\u001b[1mtrain: \u001b[0mWARNING ⚠️ /home/rocky/FindMyCat/scratchCat1/datasets/combined-dataset/train/images/5e44e2b8-ec1e-4f1d-b2c1-2388893b505a_jpg.rf.5ad2e3691eeaede673022f6c30bc75da.jpg: ignoring corrupt image/label: Label class 5 exceeds dataset class count 1. Possible class labels are 0-0\n",
      "\u001b[34m\u001b[1mtrain: \u001b[0mWARNING ⚠️ /home/rocky/FindMyCat/scratchCat1/datasets/combined-dataset/train/images/6360ae2d-9d6d-4ee0-a945-e1d4f57a79be_jpg.rf.bf314b45cb528578103e9ab12e587d1e.jpg: ignoring corrupt image/label: Label class 5 exceeds dataset class count 1. Possible class labels are 0-0\n",
      "\u001b[34m\u001b[1mtrain: \u001b[0mWARNING ⚠️ /home/rocky/FindMyCat/scratchCat1/datasets/combined-dataset/train/images/66_jpg.rf.6a278f8ee0229e6cf467b9af3b090396.jpg: ignoring corrupt image/label: Label class 2 exceeds dataset class count 1. Possible class labels are 0-0\n",
      "\u001b[34m\u001b[1mtrain: \u001b[0mWARNING ⚠️ /home/rocky/FindMyCat/scratchCat1/datasets/combined-dataset/train/images/683347f9-42f3-4eb2-98dc-9b564fff7fe5_jpg.rf.6f933069c50c3066f63e70f9a760b73b.jpg: ignoring corrupt image/label: Label class 6 exceeds dataset class count 1. Possible class labels are 0-0\n",
      "\u001b[34m\u001b[1mtrain: \u001b[0mWARNING ⚠️ /home/rocky/FindMyCat/scratchCat1/datasets/combined-dataset/train/images/6c15ed44-b992-4d3f-8edc-1e554f8eb6bf_jpg.rf.243674d20b8b6e87f5436ba8fb1ab0c6.jpg: ignoring corrupt image/label: Label class 2 exceeds dataset class count 1. Possible class labels are 0-0\n",
      "\u001b[34m\u001b[1mtrain: \u001b[0mWARNING ⚠️ /home/rocky/FindMyCat/scratchCat1/datasets/combined-dataset/train/images/6dbb9ab1-9120-4fa8-aa54-8c9b810a7f28_jpg.rf.ab6de8cedded022e93fbe1625f4e59be.jpg: ignoring corrupt image/label: Label class 5 exceeds dataset class count 1. Possible class labels are 0-0\n",
      "\u001b[34m\u001b[1mtrain: \u001b[0mWARNING ⚠️ /home/rocky/FindMyCat/scratchCat1/datasets/combined-dataset/train/images/7ae1a54a-674a-463f-a04f-353e9a088f57_jpg.rf.276cc2efa434f681e0b7b4a15cab31b6.jpg: ignoring corrupt image/label: Label class 5 exceeds dataset class count 1. Possible class labels are 0-0\n",
      "\u001b[34m\u001b[1mtrain: \u001b[0mWARNING ⚠️ /home/rocky/FindMyCat/scratchCat1/datasets/combined-dataset/train/images/7d05b53f-9854-490e-8d29-0ec10e149deb_jpg.rf.b7bcf1f39972922428079d33d377b0d4.jpg: ignoring corrupt image/label: Label class 5 exceeds dataset class count 1. Possible class labels are 0-0\n",
      "\u001b[34m\u001b[1mtrain: \u001b[0mWARNING ⚠️ /home/rocky/FindMyCat/scratchCat1/datasets/combined-dataset/train/images/82f5ff2d-ff07-4197-9c55-909204ab22f8_jpg.rf.073e73131aaedf1c56481006758d3268.jpg: ignoring corrupt image/label: Label class 5 exceeds dataset class count 1. Possible class labels are 0-0\n",
      "\u001b[34m\u001b[1mtrain: \u001b[0mWARNING ⚠️ /home/rocky/FindMyCat/scratchCat1/datasets/combined-dataset/train/images/83adf935-2f05-477c-8c7b-48b9af0e8b08_jpg.rf.60f1ce56fc116b6658f70f7cb053ede8.jpg: ignoring corrupt image/label: Label class 5 exceeds dataset class count 1. Possible class labels are 0-0\n",
      "\u001b[34m\u001b[1mtrain: \u001b[0mWARNING ⚠️ /home/rocky/FindMyCat/scratchCat1/datasets/combined-dataset/train/images/853dc8b1-96eb-40a4-8516-a5d949421b79_jpg.rf.140be4fb718f97eae064e990e01e2601.jpg: ignoring corrupt image/label: Label class 5 exceeds dataset class count 1. Possible class labels are 0-0\n",
      "\u001b[34m\u001b[1mtrain: \u001b[0mWARNING ⚠️ /home/rocky/FindMyCat/scratchCat1/datasets/combined-dataset/train/images/8770e061-e97f-4699-b2ca-9483cb181174_jpg.rf.e73af4d1e5eb1b6dc213a1283c979b50.jpg: ignoring corrupt image/label: Label class 5 exceeds dataset class count 1. Possible class labels are 0-0\n",
      "\u001b[34m\u001b[1mtrain: \u001b[0mWARNING ⚠️ /home/rocky/FindMyCat/scratchCat1/datasets/combined-dataset/train/images/8d7d0cac-ee99-43df-a002-231165138c69_jpg.rf.347427888e4c484246e5ecbd0bccb99a.jpg: ignoring corrupt image/label: Label class 5 exceeds dataset class count 1. Possible class labels are 0-0\n",
      "\u001b[34m\u001b[1mtrain: \u001b[0mWARNING ⚠️ /home/rocky/FindMyCat/scratchCat1/datasets/combined-dataset/train/images/9dfe9f08-0c72-46c3-b4cd-1781f258a3d8_jpg.rf.9e43b6ffd19b135450a276ca33a48ba6.jpg: ignoring corrupt image/label: Label class 5 exceeds dataset class count 1. Possible class labels are 0-0\n",
      "\u001b[34m\u001b[1mtrain: \u001b[0mWARNING ⚠️ /home/rocky/FindMyCat/scratchCat1/datasets/combined-dataset/train/images/a21f1edb-fccd-4a06-85e6-839b0e81b04f_jpg.rf.334dd17f1051a7c542d67b83022349f3.jpg: ignoring corrupt image/label: Label class 6 exceeds dataset class count 1. Possible class labels are 0-0\n",
      "\u001b[34m\u001b[1mtrain: \u001b[0mWARNING ⚠️ /home/rocky/FindMyCat/scratchCat1/datasets/combined-dataset/train/images/a2e6a203-c292-40af-bb9d-c26c9e720ca7_jpg.rf.ea4a2a5485b2915704fe5f27969cedd3.jpg: ignoring corrupt image/label: Label class 5 exceeds dataset class count 1. Possible class labels are 0-0\n",
      "\u001b[34m\u001b[1mtrain: \u001b[0mWARNING ⚠️ /home/rocky/FindMyCat/scratchCat1/datasets/combined-dataset/train/images/a42eb41e-7fc0-4692-9271-52ddc70720c7_jpg.rf.9e25da36944943b6f3cb722b7cb9928f.jpg: ignoring corrupt image/label: Label class 5 exceeds dataset class count 1. Possible class labels are 0-0\n",
      "\u001b[34m\u001b[1mtrain: \u001b[0mWARNING ⚠️ /home/rocky/FindMyCat/scratchCat1/datasets/combined-dataset/train/images/a4849f01-c5dc-4133-816e-e8120865b79d_jpg.rf.f4a56ca7b60b4141efc42dfea11a2d16.jpg: ignoring corrupt image/label: Label class 6 exceeds dataset class count 1. Possible class labels are 0-0\n",
      "\u001b[34m\u001b[1mtrain: \u001b[0mWARNING ⚠️ /home/rocky/FindMyCat/scratchCat1/datasets/combined-dataset/train/images/a4b4661e-bcb1-4f5d-88bd-bfe9424c6210_jpg.rf.4213a4cca2ce3bd5e61394eccf60c8d3.jpg: ignoring corrupt image/label: Label class 3 exceeds dataset class count 1. Possible class labels are 0-0\n",
      "\u001b[34m\u001b[1mtrain: \u001b[0mWARNING ⚠️ /home/rocky/FindMyCat/scratchCat1/datasets/combined-dataset/train/images/ac9079a6-5e0c-4395-bc0f-8332b9194ec8_jpg.rf.516a1b79906de8e06f4557caeb2f3f63.jpg: ignoring corrupt image/label: Label class 6 exceeds dataset class count 1. Possible class labels are 0-0\n",
      "\u001b[34m\u001b[1mtrain: \u001b[0mWARNING ⚠️ /home/rocky/FindMyCat/scratchCat1/datasets/combined-dataset/train/images/ad82088d-747e-479b-b09e-2bb0ed281ac2_jpg.rf.a01ff58bf1f848460123ff7a4ce9f092.jpg: ignoring corrupt image/label: Label class 5 exceeds dataset class count 1. Possible class labels are 0-0\n",
      "\u001b[34m\u001b[1mtrain: \u001b[0mWARNING ⚠️ /home/rocky/FindMyCat/scratchCat1/datasets/combined-dataset/train/images/ae949b04-5f1c-420b-ac31-c5ed86926b89_jpg.rf.a27b84f4c1f2d3be328a0dd19ecd2131.jpg: ignoring corrupt image/label: Label class 6 exceeds dataset class count 1. Possible class labels are 0-0\n",
      "\u001b[34m\u001b[1mtrain: \u001b[0mWARNING ⚠️ /home/rocky/FindMyCat/scratchCat1/datasets/combined-dataset/train/images/af93290c-2b40-40c8-9d74-0eb950d1e550_jpg.rf.d60623f85d43a6d76310ac1dde6ccb02.jpg: ignoring corrupt image/label: Label class 5 exceeds dataset class count 1. Possible class labels are 0-0\n",
      "\u001b[34m\u001b[1mtrain: \u001b[0mWARNING ⚠️ /home/rocky/FindMyCat/scratchCat1/datasets/combined-dataset/train/images/b0db1ed0-e237-4e28-b5e8-71e929b49899_jpg.rf.120ab992cb414daca54479f3b4d9a1fe.jpg: ignoring corrupt image/label: Label class 6 exceeds dataset class count 1. Possible class labels are 0-0\n",
      "\u001b[34m\u001b[1mtrain: \u001b[0mWARNING ⚠️ /home/rocky/FindMyCat/scratchCat1/datasets/combined-dataset/train/images/c3ecdd7f-fe45-4d60-bebf-ad248e31213e_jpg.rf.4b95b1da924cb6a175aabbd47852aff0.jpg: ignoring corrupt image/label: Label class 5 exceeds dataset class count 1. Possible class labels are 0-0\n",
      "\u001b[34m\u001b[1mtrain: \u001b[0mWARNING ⚠️ /home/rocky/FindMyCat/scratchCat1/datasets/combined-dataset/train/images/c4fec89f-15d0-4714-b7a4-0ba1245e14d7_jpg.rf.34316d5a78063d4be02778fe30194ea4.jpg: ignoring corrupt image/label: Label class 5 exceeds dataset class count 1. Possible class labels are 0-0\n",
      "\u001b[34m\u001b[1mtrain: \u001b[0mWARNING ⚠️ /home/rocky/FindMyCat/scratchCat1/datasets/combined-dataset/train/images/cb29c0f6-4b1f-419a-839c-e92d811df531_jpg.rf.267d1c618fa0aa4070235a7b42ec78eb.jpg: ignoring corrupt image/label: Label class 5 exceeds dataset class count 1. Possible class labels are 0-0\n",
      "\u001b[34m\u001b[1mtrain: \u001b[0mWARNING ⚠️ /home/rocky/FindMyCat/scratchCat1/datasets/combined-dataset/train/images/cd577ef3-d288-4d32-88af-b8592adfc632_jpg.rf.110f7910f8d3e2beba4705ab5b623c34.jpg: ignoring corrupt image/label: Label class 6 exceeds dataset class count 1. Possible class labels are 0-0\n",
      "\u001b[34m\u001b[1mtrain: \u001b[0mWARNING ⚠️ /home/rocky/FindMyCat/scratchCat1/datasets/combined-dataset/train/images/ce41d53e-9ef6-4e09-8fb0-5e5d6123b51c_jpg.rf.e3562e1679d2d28081d96cf3215dcb7b.jpg: ignoring corrupt image/label: Label class 5 exceeds dataset class count 1. Possible class labels are 0-0\n",
      "\u001b[34m\u001b[1mtrain: \u001b[0mWARNING ⚠️ /home/rocky/FindMyCat/scratchCat1/datasets/combined-dataset/train/images/d24dedc8-1376-4773-bccd-40d40fea05cb_jpg.rf.7e7266f53e7d04a1d69e670c0a723a0c.jpg: ignoring corrupt image/label: Label class 5 exceeds dataset class count 1. Possible class labels are 0-0\n",
      "\u001b[34m\u001b[1mtrain: \u001b[0mWARNING ⚠️ /home/rocky/FindMyCat/scratchCat1/datasets/combined-dataset/train/images/d368e30d-31ce-414c-91be-36db0301b8f6_jpg.rf.39dd86301a5e20b6d59526828c176974.jpg: ignoring corrupt image/label: Label class 5 exceeds dataset class count 1. Possible class labels are 0-0\n",
      "\u001b[34m\u001b[1mtrain: \u001b[0mWARNING ⚠️ /home/rocky/FindMyCat/scratchCat1/datasets/combined-dataset/train/images/dc7a97b0-dcc9-4994-b628-cffd1e9634ca_jpg.rf.ba8811671ddfdc047efa4da7423df3b7.jpg: ignoring corrupt image/label: Label class 5 exceeds dataset class count 1. Possible class labels are 0-0\n",
      "\u001b[34m\u001b[1mtrain: \u001b[0mWARNING ⚠️ /home/rocky/FindMyCat/scratchCat1/datasets/combined-dataset/train/images/ddcaf14b-7c9e-4c11-b831-5ad217be3bfa_jpg.rf.030a206581c935efc7532c33ff1a1e79.jpg: ignoring corrupt image/label: Label class 5 exceeds dataset class count 1. Possible class labels are 0-0\n",
      "\u001b[34m\u001b[1mtrain: \u001b[0mWARNING ⚠️ /home/rocky/FindMyCat/scratchCat1/datasets/combined-dataset/train/images/de2aff66-0d9d-4e52-9e03-77f4596f8896_jpg.rf.7fa8d5ce5b3c0b8885801e039961fa68.jpg: ignoring corrupt image/label: Label class 4 exceeds dataset class count 1. Possible class labels are 0-0\n",
      "\u001b[34m\u001b[1mtrain: \u001b[0mWARNING ⚠️ /home/rocky/FindMyCat/scratchCat1/datasets/combined-dataset/train/images/e46a2c36-4bab-468a-a42e-ff982fa2c69a_jpg.rf.765016753ebf74ae5a009773caf891be.jpg: ignoring corrupt image/label: Label class 5 exceeds dataset class count 1. Possible class labels are 0-0\n",
      "\u001b[34m\u001b[1mtrain: \u001b[0mWARNING ⚠️ /home/rocky/FindMyCat/scratchCat1/datasets/combined-dataset/train/images/e4ea66f7-78dc-4264-b64b-d0a0013ccf52_jpg.rf.c4cb6f4939b1bed8b2e07ad2d14fa0fd.jpg: ignoring corrupt image/label: Label class 5 exceeds dataset class count 1. Possible class labels are 0-0\n",
      "\u001b[34m\u001b[1mtrain: \u001b[0mWARNING ⚠️ /home/rocky/FindMyCat/scratchCat1/datasets/combined-dataset/train/images/ea448547-183a-43a8-8ef4-8066aaf3a0bd_jpg.rf.19405255a16944999730228b8563fe5f.jpg: ignoring corrupt image/label: Label class 6 exceeds dataset class count 1. Possible class labels are 0-0\n",
      "\u001b[34m\u001b[1mtrain: \u001b[0mWARNING ⚠️ /home/rocky/FindMyCat/scratchCat1/datasets/combined-dataset/train/images/ivqxasceu3aemg6wgybx16u4nyvmo8pa_jpg.rf.9afd41c849d6adf0bca313f174e85747.jpg: ignoring corrupt image/label: Label class 6 exceeds dataset class count 1. Possible class labels are 0-0\n",
      "\u001b[34m\u001b[1mtrain: \u001b[0mWARNING ⚠️ /home/rocky/FindMyCat/scratchCat1/datasets/combined-dataset/train/images/scale_2400_jpg.rf.b597a87670629181eab6d4d4d46706e1.jpg: ignoring corrupt image/label: Label class 3 exceeds dataset class count 1. Possible class labels are 0-0\n",
      "\u001b[34m\u001b[1mtrain: \u001b[0mWARNING ⚠️ /home/rocky/FindMyCat/scratchCat1/datasets/combined-dataset/train/images/yt-UR66VgcaFUk-0002_jpg.rf.df72d44d0ae7aeb82f49a885dd26367d.jpg: ignoring corrupt image/label: Label class 5 exceeds dataset class count 1. Possible class labels are 0-0\n",
      "\u001b[34m\u001b[1mtrain: \u001b[0mWARNING ⚠️ /home/rocky/FindMyCat/scratchCat1/datasets/combined-dataset/train/images/yt-UR66VgcaFUk-0003_jpg.rf.aad3c521f74866c469424907a637761c.jpg: ignoring corrupt image/label: Label class 2 exceeds dataset class count 1. Possible class labels are 0-0\n",
      "\u001b[34m\u001b[1mtrain: \u001b[0mWARNING ⚠️ /home/rocky/FindMyCat/scratchCat1/datasets/combined-dataset/train/images/yt-UR66VgcaFUk-0004_jpg.rf.cd65b3c59a1ba3f01ae1a45fbb2b4022.jpg: ignoring corrupt image/label: Label class 2 exceeds dataset class count 1. Possible class labels are 0-0\n",
      "\u001b[34m\u001b[1mtrain: \u001b[0mWARNING ⚠️ /home/rocky/FindMyCat/scratchCat1/datasets/combined-dataset/train/images/yt-UR66VgcaFUk-0008_jpg.rf.acb7ce2ec679c4cd96302c2ec8b609c8.jpg: ignoring corrupt image/label: Label class 5 exceeds dataset class count 1. Possible class labels are 0-0\n",
      "\u001b[34m\u001b[1mtrain: \u001b[0mWARNING ⚠️ /home/rocky/FindMyCat/scratchCat1/datasets/combined-dataset/train/images/yt-UR66VgcaFUk-0010_jpg.rf.9d02dd359adc78dfcfc51a3d8af52bb7.jpg: ignoring corrupt image/label: Label class 5 exceeds dataset class count 1. Possible class labels are 0-0\n",
      "\u001b[34m\u001b[1mtrain: \u001b[0mWARNING ⚠️ /home/rocky/FindMyCat/scratchCat1/datasets/combined-dataset/train/images/yt-UR66VgcaFUk-0011_jpg.rf.17136aaffc79202edc62c7f98664ebec.jpg: ignoring corrupt image/label: Label class 5 exceeds dataset class count 1. Possible class labels are 0-0\n",
      "\u001b[34m\u001b[1mtrain: \u001b[0mWARNING ⚠️ /home/rocky/FindMyCat/scratchCat1/datasets/combined-dataset/train/images/yt-UR66VgcaFUk-0012_jpg.rf.70eb8ce5e2e3f811bc04e34e5db02bc6.jpg: ignoring corrupt image/label: Label class 2 exceeds dataset class count 1. Possible class labels are 0-0\n",
      "\u001b[34m\u001b[1mtrain: \u001b[0mWARNING ⚠️ /home/rocky/FindMyCat/scratchCat1/datasets/combined-dataset/train/images/yt-UR66VgcaFUk-0014_jpg.rf.19b71e539cb3d9dd8b5610b51f8e0775.jpg: ignoring corrupt image/label: Label class 5 exceeds dataset class count 1. Possible class labels are 0-0\n",
      "\u001b[34m\u001b[1mtrain: \u001b[0mWARNING ⚠️ /home/rocky/FindMyCat/scratchCat1/datasets/combined-dataset/train/images/yt-UR66VgcaFUk-0015_jpg.rf.ebbfd536385d0b0cd922e16f4f9a2fc0.jpg: ignoring corrupt image/label: Label class 5 exceeds dataset class count 1. Possible class labels are 0-0\n",
      "\u001b[34m\u001b[1mtrain: \u001b[0mWARNING ⚠️ /home/rocky/FindMyCat/scratchCat1/datasets/combined-dataset/train/images/yt-UR66VgcaFUk-0017_jpg.rf.aacb56ef2596e469bdec2e39326efd1d.jpg: ignoring corrupt image/label: Label class 2 exceeds dataset class count 1. Possible class labels are 0-0\n",
      "\u001b[34m\u001b[1mtrain: \u001b[0mWARNING ⚠️ /home/rocky/FindMyCat/scratchCat1/datasets/combined-dataset/train/images/yt-UR66VgcaFUk-0021_jpg.rf.8a75c8baf826982b706cb1835251e2be.jpg: ignoring corrupt image/label: Label class 2 exceeds dataset class count 1. Possible class labels are 0-0\n",
      "\u001b[34m\u001b[1mtrain: \u001b[0mWARNING ⚠️ /home/rocky/FindMyCat/scratchCat1/datasets/combined-dataset/train/images/yt-UR66VgcaFUk-0022_jpg.rf.d82bdffa27753e20595756a41df48fdc.jpg: ignoring corrupt image/label: Label class 2 exceeds dataset class count 1. Possible class labels are 0-0\n",
      "\u001b[34m\u001b[1mtrain: \u001b[0mWARNING ⚠️ /home/rocky/FindMyCat/scratchCat1/datasets/combined-dataset/train/images/yt-UR66VgcaFUk-0024_jpg.rf.049471deaf49d70c4958789453c3b232.jpg: ignoring corrupt image/label: Label class 5 exceeds dataset class count 1. Possible class labels are 0-0\n",
      "\u001b[34m\u001b[1mtrain: \u001b[0mWARNING ⚠️ /home/rocky/FindMyCat/scratchCat1/datasets/combined-dataset/train/images/yt-UR66VgcaFUk-0025_jpg.rf.8c5ca3013e2444fe921c7932d1661ef3.jpg: ignoring corrupt image/label: Label class 5 exceeds dataset class count 1. Possible class labels are 0-0\n",
      "\u001b[34m\u001b[1mtrain: \u001b[0mWARNING ⚠️ /home/rocky/FindMyCat/scratchCat1/datasets/combined-dataset/train/images/yt-UR66VgcaFUk-0027_jpg.rf.588a9133c8bea4170132740122f6ac22.jpg: ignoring corrupt image/label: Label class 2 exceeds dataset class count 1. Possible class labels are 0-0\n",
      "\u001b[34m\u001b[1mtrain: \u001b[0mWARNING ⚠️ /home/rocky/FindMyCat/scratchCat1/datasets/combined-dataset/train/images/yt-UR66VgcaFUk-0028_jpg.rf.b0133fded934531d284149a9e14b418d.jpg: ignoring corrupt image/label: Label class 2 exceeds dataset class count 1. Possible class labels are 0-0\n",
      "\u001b[34m\u001b[1mtrain: \u001b[0mWARNING ⚠️ /home/rocky/FindMyCat/scratchCat1/datasets/combined-dataset/train/images/yt-UR66VgcaFUk-0030_jpg.rf.6aea805d8ebd1c2c20dd5c6a0da0b51a.jpg: ignoring corrupt image/label: Label class 6 exceeds dataset class count 1. Possible class labels are 0-0\n",
      "\u001b[34m\u001b[1mtrain: \u001b[0mWARNING ⚠️ /home/rocky/FindMyCat/scratchCat1/datasets/combined-dataset/train/images/yt-UR66VgcaFUk-0031_jpg.rf.a5af2f8e1c94ef8ff9ec87cad94e5027.jpg: ignoring corrupt image/label: Label class 5 exceeds dataset class count 1. Possible class labels are 0-0\n",
      "\u001b[34m\u001b[1mtrain: \u001b[0mWARNING ⚠️ /home/rocky/FindMyCat/scratchCat1/datasets/combined-dataset/train/images/yt-UR66VgcaFUk-0032_jpg.rf.ce9791aa7a33374fed015f5fb66e931c.jpg: ignoring corrupt image/label: Label class 5 exceeds dataset class count 1. Possible class labels are 0-0\n",
      "\u001b[34m\u001b[1mtrain: \u001b[0mWARNING ⚠️ /home/rocky/FindMyCat/scratchCat1/datasets/combined-dataset/train/images/yt-UR66VgcaFUk-0035_jpg.rf.8f22236cdcf77315cbc11d8099f8be0c.jpg: ignoring corrupt image/label: Label class 2 exceeds dataset class count 1. Possible class labels are 0-0\n",
      "\u001b[34m\u001b[1mtrain: \u001b[0mWARNING ⚠️ /home/rocky/FindMyCat/scratchCat1/datasets/combined-dataset/train/images/yt-UR66VgcaFUk-0037_jpg.rf.ba516fcbcb86cfb1b936887a8b0cb368.jpg: ignoring corrupt image/label: Label class 5 exceeds dataset class count 1. Possible class labels are 0-0\n",
      "\u001b[34m\u001b[1mtrain: \u001b[0mWARNING ⚠️ /home/rocky/FindMyCat/scratchCat1/datasets/combined-dataset/train/images/yt-UR66VgcaFUk-0038_jpg.rf.5957acfbed2e49869ccb57fcf6306858.jpg: ignoring corrupt image/label: Label class 3 exceeds dataset class count 1. Possible class labels are 0-0\n",
      "\u001b[34m\u001b[1mtrain: \u001b[0mWARNING ⚠️ /home/rocky/FindMyCat/scratchCat1/datasets/combined-dataset/train/images/yt-UR66VgcaFUk-0040_jpg.rf.2ec1a40b842a542737cf5b59640d7f4c.jpg: ignoring corrupt image/label: Label class 5 exceeds dataset class count 1. Possible class labels are 0-0\n",
      "\u001b[34m\u001b[1mtrain: \u001b[0mWARNING ⚠️ /home/rocky/FindMyCat/scratchCat1/datasets/combined-dataset/train/images/yt-UR66VgcaFUk-0041_jpg.rf.0ba3e4eb0caf8d0810f74aa3a4ae4072.jpg: ignoring corrupt image/label: Label class 5 exceeds dataset class count 1. Possible class labels are 0-0\n",
      "\u001b[34m\u001b[1mtrain: \u001b[0mWARNING ⚠️ /home/rocky/FindMyCat/scratchCat1/datasets/combined-dataset/train/images/yt-UR66VgcaFUk-0044_jpg.rf.217ecab0af0113b7682ac7ed3fef1494.jpg: ignoring corrupt image/label: Label class 5 exceeds dataset class count 1. Possible class labels are 0-0\n",
      "\u001b[34m\u001b[1mtrain: \u001b[0mWARNING ⚠️ /home/rocky/FindMyCat/scratchCat1/datasets/combined-dataset/train/images/yt-UR66VgcaFUk-0045_jpg.rf.5fd012f74082477f182e1325c0232713.jpg: ignoring corrupt image/label: Label class 5 exceeds dataset class count 1. Possible class labels are 0-0\n",
      "\u001b[34m\u001b[1mtrain: \u001b[0mWARNING ⚠️ /home/rocky/FindMyCat/scratchCat1/datasets/combined-dataset/train/images/yt-UR66VgcaFUk-0047_jpg.rf.4c88186310eeaf273311ba77b5d047fc.jpg: ignoring corrupt image/label: Label class 5 exceeds dataset class count 1. Possible class labels are 0-0\n",
      "\u001b[34m\u001b[1mtrain: \u001b[0mWARNING ⚠️ /home/rocky/FindMyCat/scratchCat1/datasets/combined-dataset/train/images/yt-UR66VgcaFUk-0051_jpg.rf.c338fb6cedec1607a8176e554b13b059.jpg: ignoring corrupt image/label: Label class 6 exceeds dataset class count 1. Possible class labels are 0-0\n",
      "\u001b[34m\u001b[1mtrain: \u001b[0mWARNING ⚠️ /home/rocky/FindMyCat/scratchCat1/datasets/combined-dataset/train/images/yt-UR66VgcaFUk-0052_jpg.rf.a57786db320b7d286c7df8652069e42c.jpg: ignoring corrupt image/label: Label class 5 exceeds dataset class count 1. Possible class labels are 0-0\n",
      "\u001b[34m\u001b[1mtrain: \u001b[0mWARNING ⚠️ /home/rocky/FindMyCat/scratchCat1/datasets/combined-dataset/train/images/yt-gY0YK6xEeGY-0000_jpg.rf.e0a189f2fed873d1b47d95aa39319e54.jpg: ignoring corrupt image/label: Label class 2 exceeds dataset class count 1. Possible class labels are 0-0\n",
      "\u001b[34m\u001b[1mtrain: \u001b[0mWARNING ⚠️ /home/rocky/FindMyCat/scratchCat1/datasets/combined-dataset/train/images/yt-gY0YK6xEeGY-0002_jpg.rf.4030e0a200eec6b06417b09ba35784d4.jpg: ignoring corrupt image/label: Label class 2 exceeds dataset class count 1. Possible class labels are 0-0\n",
      "\u001b[34m\u001b[1mtrain: \u001b[0mWARNING ⚠️ /home/rocky/FindMyCat/scratchCat1/datasets/combined-dataset/train/images/yt-gY0YK6xEeGY-0003_jpg.rf.be67abd82723538794fbeec1d877d85c.jpg: ignoring corrupt image/label: Label class 2 exceeds dataset class count 1. Possible class labels are 0-0\n",
      "\u001b[34m\u001b[1mtrain: \u001b[0mWARNING ⚠️ /home/rocky/FindMyCat/scratchCat1/datasets/combined-dataset/train/images/yt-gY0YK6xEeGY-0004_jpg.rf.6494e2879ad2dfcce7082f62e64886ed.jpg: ignoring corrupt image/label: Label class 2 exceeds dataset class count 1. Possible class labels are 0-0\n",
      "\u001b[34m\u001b[1mtrain: \u001b[0mWARNING ⚠️ /home/rocky/FindMyCat/scratchCat1/datasets/combined-dataset/train/images/yt-gY0YK6xEeGY-0005_jpg.rf.65c16147e39679a5c755d622c196a5a6.jpg: ignoring corrupt image/label: Label class 2 exceeds dataset class count 1. Possible class labels are 0-0\n",
      "\u001b[34m\u001b[1mtrain: \u001b[0mWARNING ⚠️ /home/rocky/FindMyCat/scratchCat1/datasets/combined-dataset/train/images/yt-gY0YK6xEeGY-0006_jpg.rf.e507bc4b8eb6dbb199efd00ce6b27fa1.jpg: ignoring corrupt image/label: Label class 2 exceeds dataset class count 1. Possible class labels are 0-0\n",
      "\u001b[34m\u001b[1mtrain: \u001b[0mWARNING ⚠️ /home/rocky/FindMyCat/scratchCat1/datasets/combined-dataset/train/images/yt-gY0YK6xEeGY-0007_jpg.rf.d4fded5e2457c8768c8470a0ebbbfa90.jpg: ignoring corrupt image/label: Label class 2 exceeds dataset class count 1. Possible class labels are 0-0\n",
      "\u001b[34m\u001b[1mtrain: \u001b[0mWARNING ⚠️ /home/rocky/FindMyCat/scratchCat1/datasets/combined-dataset/train/images/yt-gY0YK6xEeGY-0008_jpg.rf.8be9fcd243149a3b30f6499fcf6aa40b.jpg: ignoring corrupt image/label: Label class 2 exceeds dataset class count 1. Possible class labels are 0-0\n",
      "\u001b[34m\u001b[1mtrain: \u001b[0mWARNING ⚠️ /home/rocky/FindMyCat/scratchCat1/datasets/combined-dataset/train/images/yt-gY0YK6xEeGY-0010_jpg.rf.7dcd6b06c99c3d95833d97e19007095b.jpg: ignoring corrupt image/label: Label class 2 exceeds dataset class count 1. Possible class labels are 0-0\n",
      "\u001b[34m\u001b[1mtrain: \u001b[0mWARNING ⚠️ /home/rocky/FindMyCat/scratchCat1/datasets/combined-dataset/train/images/yt-gY0YK6xEeGY-0012_jpg.rf.3cd54eeb5c07c75b692084f21ef1485c.jpg: ignoring corrupt image/label: Label class 2 exceeds dataset class count 1. Possible class labels are 0-0\n",
      "WARNING ⚠️ Box and segment counts should be equal, but got len(segments) = 4, len(boxes) = 13172. To resolve this only boxes will be used and all segments will be removed. To avoid this please supply either a detect or segment dataset, not a detect-segment mixed dataset.\n"
     ]
    },
    {
     "name": "stderr",
     "output_type": "stream",
     "text": [
      "\n"
     ]
    },
    {
     "name": "stdout",
     "output_type": "stream",
     "text": [
      "WARNING ⚠️ cache='ram' may produce non-deterministic training results. Consider cache='disk' as a deterministic alternative if your disk space allows.\n"
     ]
    },
    {
     "name": "stderr",
     "output_type": "stream",
     "text": [
      "\u001b[34m\u001b[1mtrain: \u001b[0mCaching images (13.5GB RAM): 100%|██████████| 11791/11791 [00:04<00:00, 2817.41it/s]\u001b[0m"
     ]
    },
    {
     "name": "stdout",
     "output_type": "stream",
     "text": [
      "\u001b[34m\u001b[1malbumentations: \u001b[0mBlur(p=0.01, blur_limit=(3, 7)), MedianBlur(p=0.01, blur_limit=(3, 7)), ToGray(p=0.01, num_output_channels=3, method='weighted_average'), CLAHE(p=0.01, clip_limit=(1.0, 4.0), tile_grid_size=(8, 8))\n"
     ]
    },
    {
     "name": "stderr",
     "output_type": "stream",
     "text": [
      "\n",
      "\u001b[34m\u001b[1mval: \u001b[0mScanning /home/rocky/FindMyCat/scratchCat1/datasets/combined-dataset/valid/labels.cache... 2876 images, 488 backgrounds, 32 corrupt: 100%|██████████| 2876/2876 [00\u001b[0m"
     ]
    },
    {
     "name": "stdout",
     "output_type": "stream",
     "text": [
      "\u001b[34m\u001b[1mval: \u001b[0mWARNING ⚠️ /home/rocky/FindMyCat/scratchCat1/datasets/combined-dataset/valid/images/0f2da5ef-124e-4917-8f96-78e4f90c0b32_jpg.rf.f1c53ac49660d7cfa71963b48303ddb0.jpg: ignoring corrupt image/label: Label class 2 exceeds dataset class count 1. Possible class labels are 0-0\n",
      "\u001b[34m\u001b[1mval: \u001b[0mWARNING ⚠️ /home/rocky/FindMyCat/scratchCat1/datasets/combined-dataset/valid/images/1c72c86f-4846-465a-a6ee-87f91d04a8c7_jpg.rf.bbbc00035f4a66fa489487c029cb1dad.jpg: ignoring corrupt image/label: Label class 6 exceeds dataset class count 1. Possible class labels are 0-0\n",
      "\u001b[34m\u001b[1mval: \u001b[0mWARNING ⚠️ /home/rocky/FindMyCat/scratchCat1/datasets/combined-dataset/valid/images/2013010711390213123_jpg.rf.9ab468cd1d338ca599a96ef4b7ecfd28.jpg: ignoring corrupt image/label: Label class 3 exceeds dataset class count 1. Possible class labels are 0-0\n",
      "\u001b[34m\u001b[1mval: \u001b[0mWARNING ⚠️ /home/rocky/FindMyCat/scratchCat1/datasets/combined-dataset/valid/images/2013010711390213124_jpg.rf.da4f1e5e5ae484fb2a7fc38366c0a5ff.jpg: ignoring corrupt image/label: Label class 2 exceeds dataset class count 1. Possible class labels are 0-0\n",
      "\u001b[34m\u001b[1mval: \u001b[0mWARNING ⚠️ /home/rocky/FindMyCat/scratchCat1/datasets/combined-dataset/valid/images/300eb14f-9d9e-4c04-88c9-239dd498a044_jpg.rf.c0569dc7f1f8bdaa362b043f44d0900f.jpg: ignoring corrupt image/label: Label class 5 exceeds dataset class count 1. Possible class labels are 0-0\n",
      "\u001b[34m\u001b[1mval: \u001b[0mWARNING ⚠️ /home/rocky/FindMyCat/scratchCat1/datasets/combined-dataset/valid/images/3bd0ff4f-aa2e-455c-a6c6-bbe74394ccee_jpg.rf.ddda68d0f0b61dbc211febcc8f00c42b.jpg: ignoring corrupt image/label: Label class 5 exceeds dataset class count 1. Possible class labels are 0-0\n",
      "\u001b[34m\u001b[1mval: \u001b[0mWARNING ⚠️ /home/rocky/FindMyCat/scratchCat1/datasets/combined-dataset/valid/images/467e8444-fd26-4159-90a7-9b9b72373893_jpg.rf.9f454cb70bfa16c42f9bea55bc6fd321.jpg: ignoring corrupt image/label: Label class 5 exceeds dataset class count 1. Possible class labels are 0-0\n",
      "\u001b[34m\u001b[1mval: \u001b[0mWARNING ⚠️ /home/rocky/FindMyCat/scratchCat1/datasets/combined-dataset/valid/images/47c90418-00fe-4be3-b039-f91662464c77_jpg.rf.4082860860a59b94369edb496e7111ed.jpg: ignoring corrupt image/label: Label class 5 exceeds dataset class count 1. Possible class labels are 0-0\n",
      "\u001b[34m\u001b[1mval: \u001b[0mWARNING ⚠️ /home/rocky/FindMyCat/scratchCat1/datasets/combined-dataset/valid/images/4b990882-65fa-44c8-884d-6fbfb70f86d1_jpg.rf.9eaa139348b03595fa64b115f872a5bd.jpg: ignoring corrupt image/label: Label class 5 exceeds dataset class count 1. Possible class labels are 0-0\n",
      "\u001b[34m\u001b[1mval: \u001b[0mWARNING ⚠️ /home/rocky/FindMyCat/scratchCat1/datasets/combined-dataset/valid/images/66cde5da-86ee-4010-8af3-58a6ee2a15d1_jpg.rf.5ab069100532ce9cf8a2a10292f49b29.jpg: ignoring corrupt image/label: Label class 5 exceeds dataset class count 1. Possible class labels are 0-0\n",
      "\u001b[34m\u001b[1mval: \u001b[0mWARNING ⚠️ /home/rocky/FindMyCat/scratchCat1/datasets/combined-dataset/valid/images/7c86113a-2db6-4068-a2c2-fd426f369509_jpg.rf.d2eaf528b21ac5dd6436dc274147c294.jpg: ignoring corrupt image/label: Label class 5 exceeds dataset class count 1. Possible class labels are 0-0\n",
      "\u001b[34m\u001b[1mval: \u001b[0mWARNING ⚠️ /home/rocky/FindMyCat/scratchCat1/datasets/combined-dataset/valid/images/7e335748-8d9a-48a3-a89b-46d2560d7138_jpg.rf.e1600b2a35535e340f9221a203a61047.jpg: ignoring corrupt image/label: Label class 5 exceeds dataset class count 1. Possible class labels are 0-0\n",
      "\u001b[34m\u001b[1mval: \u001b[0mWARNING ⚠️ /home/rocky/FindMyCat/scratchCat1/datasets/combined-dataset/valid/images/813fd3f6-58b7-4969-880b-f1624ab7d4a8_jpg.rf.b623d3db7c5f7015357e2c42ccffc9b0.jpg: ignoring corrupt image/label: Label class 5 exceeds dataset class count 1. Possible class labels are 0-0\n",
      "\u001b[34m\u001b[1mval: \u001b[0mWARNING ⚠️ /home/rocky/FindMyCat/scratchCat1/datasets/combined-dataset/valid/images/8d10072c-59d2-4cce-a182-a5613ac17ddd_jpg.rf.c1b191cc11ab60e95aef5abace985037.jpg: ignoring corrupt image/label: Label class 5 exceeds dataset class count 1. Possible class labels are 0-0\n",
      "\u001b[34m\u001b[1mval: \u001b[0mWARNING ⚠️ /home/rocky/FindMyCat/scratchCat1/datasets/combined-dataset/valid/images/a0ecc4e8-6fc2-4b37-b080-d5e61b7b711e_jpg.rf.ee74691e6ba4e44c3184895223ed2555.jpg: ignoring corrupt image/label: Label class 5 exceeds dataset class count 1. Possible class labels are 0-0\n",
      "\u001b[34m\u001b[1mval: \u001b[0mWARNING ⚠️ /home/rocky/FindMyCat/scratchCat1/datasets/combined-dataset/valid/images/cb9eea71-4f06-47ed-ad11-4ea47873fb0b_jpg.rf.d029410b5c2c61ce39ddc4fd55d36c34.jpg: ignoring corrupt image/label: Label class 5 exceeds dataset class count 1. Possible class labels are 0-0\n",
      "\u001b[34m\u001b[1mval: \u001b[0mWARNING ⚠️ /home/rocky/FindMyCat/scratchCat1/datasets/combined-dataset/valid/images/df4f909c-df85-433a-912e-cef28eef8a51_jpg.rf.b666b4dc0f1f8b8058ddbd82ad6ea764.jpg: ignoring corrupt image/label: Label class 5 exceeds dataset class count 1. Possible class labels are 0-0\n",
      "\u001b[34m\u001b[1mval: \u001b[0mWARNING ⚠️ /home/rocky/FindMyCat/scratchCat1/datasets/combined-dataset/valid/images/e1e1060d-a30d-4478-a0b7-129b0ee51b6a_jpg.rf.aedebbad5be083ec68d4381cd3e279ac.jpg: ignoring corrupt image/label: Label class 2 exceeds dataset class count 1. Possible class labels are 0-0\n",
      "\u001b[34m\u001b[1mval: \u001b[0mWARNING ⚠️ /home/rocky/FindMyCat/scratchCat1/datasets/combined-dataset/valid/images/e97cfc98-4841-4eb7-aa8b-b63723202f88_jpg.rf.a1bb69fa89a6f191eef84dae5599ab9a.jpg: ignoring corrupt image/label: Label class 5 exceeds dataset class count 1. Possible class labels are 0-0\n",
      "\u001b[34m\u001b[1mval: \u001b[0mWARNING ⚠️ /home/rocky/FindMyCat/scratchCat1/datasets/combined-dataset/valid/images/f37acafd-5b07-42e3-9990-cdfbd8ba4ff8_jpg.rf.d7f32b8b2bb0de175bde7b1e04a82395.jpg: ignoring corrupt image/label: Label class 5 exceeds dataset class count 1. Possible class labels are 0-0\n",
      "\u001b[34m\u001b[1mval: \u001b[0mWARNING ⚠️ /home/rocky/FindMyCat/scratchCat1/datasets/combined-dataset/valid/images/gayka-1_jpg.rf.3e9fc52aed3fcba987b78aee5c650efc.jpg: ignoring corrupt image/label: Label class 5 exceeds dataset class count 1. Possible class labels are 0-0\n",
      "\u001b[34m\u001b[1mval: \u001b[0mWARNING ⚠️ /home/rocky/FindMyCat/scratchCat1/datasets/combined-dataset/valid/images/yt-UR66VgcaFUk-0009_jpg.rf.f93d61b5886669a719af9ea11349a8a2.jpg: ignoring corrupt image/label: Label class 5 exceeds dataset class count 1. Possible class labels are 0-0\n",
      "\u001b[34m\u001b[1mval: \u001b[0mWARNING ⚠️ /home/rocky/FindMyCat/scratchCat1/datasets/combined-dataset/valid/images/yt-UR66VgcaFUk-0013_jpg.rf.f040b5f00b849c57df74262e5ffc4d24.jpg: ignoring corrupt image/label: Label class 5 exceeds dataset class count 1. Possible class labels are 0-0\n",
      "\u001b[34m\u001b[1mval: \u001b[0mWARNING ⚠️ /home/rocky/FindMyCat/scratchCat1/datasets/combined-dataset/valid/images/yt-UR66VgcaFUk-0026_jpg.rf.e889f2a741b89a8755c78d6f0e174e50.jpg: ignoring corrupt image/label: Label class 5 exceeds dataset class count 1. Possible class labels are 0-0\n",
      "\u001b[34m\u001b[1mval: \u001b[0mWARNING ⚠️ /home/rocky/FindMyCat/scratchCat1/datasets/combined-dataset/valid/images/yt-UR66VgcaFUk-0033_jpg.rf.7179100557facb90a407d50ef69d16d6.jpg: ignoring corrupt image/label: Label class 2 exceeds dataset class count 1. Possible class labels are 0-0\n",
      "\u001b[34m\u001b[1mval: \u001b[0mWARNING ⚠️ /home/rocky/FindMyCat/scratchCat1/datasets/combined-dataset/valid/images/yt-UR66VgcaFUk-0034_jpg.rf.4dd2ecd693e7a896be68d769cefee220.jpg: ignoring corrupt image/label: Label class 5 exceeds dataset class count 1. Possible class labels are 0-0\n",
      "\u001b[34m\u001b[1mval: \u001b[0mWARNING ⚠️ /home/rocky/FindMyCat/scratchCat1/datasets/combined-dataset/valid/images/yt-UR66VgcaFUk-0039_jpg.rf.fcd368a4d4521d6e52fb454ffad25f8e.jpg: ignoring corrupt image/label: Label class 6 exceeds dataset class count 1. Possible class labels are 0-0\n",
      "\u001b[34m\u001b[1mval: \u001b[0mWARNING ⚠️ /home/rocky/FindMyCat/scratchCat1/datasets/combined-dataset/valid/images/yt-UR66VgcaFUk-0043_jpg.rf.09ba0be63be8573bf8c1071b9e957eed.jpg: ignoring corrupt image/label: Label class 5 exceeds dataset class count 1. Possible class labels are 0-0\n",
      "\u001b[34m\u001b[1mval: \u001b[0mWARNING ⚠️ /home/rocky/FindMyCat/scratchCat1/datasets/combined-dataset/valid/images/yt-UR66VgcaFUk-0054_jpg.rf.2d3cc88c369f00c2c05b86f0a5731cea.jpg: ignoring corrupt image/label: Label class 5 exceeds dataset class count 1. Possible class labels are 0-0\n",
      "\u001b[34m\u001b[1mval: \u001b[0mWARNING ⚠️ /home/rocky/FindMyCat/scratchCat1/datasets/combined-dataset/valid/images/yt-gY0YK6xEeGY-0001_jpg.rf.f783e1c6624b1b0302312cd132999b6c.jpg: ignoring corrupt image/label: Label class 2 exceeds dataset class count 1. Possible class labels are 0-0\n",
      "\u001b[34m\u001b[1mval: \u001b[0mWARNING ⚠️ /home/rocky/FindMyCat/scratchCat1/datasets/combined-dataset/valid/images/yt-gY0YK6xEeGY-0009_jpg.rf.1755b97ff90cbc27379fa7fcef0b28e7.jpg: ignoring corrupt image/label: Label class 2 exceeds dataset class count 1. Possible class labels are 0-0\n",
      "\u001b[34m\u001b[1mval: \u001b[0mWARNING ⚠️ /home/rocky/FindMyCat/scratchCat1/datasets/combined-dataset/valid/images/yt-gY0YK6xEeGY-0011_jpg.rf.41e760808ca7071a01dcd2aeb57ac126.jpg: ignoring corrupt image/label: Label class 2 exceeds dataset class count 1. Possible class labels are 0-0\n",
      "WARNING ⚠️ cache='ram' may produce non-deterministic training results. Consider cache='disk' as a deterministic alternative if your disk space allows.\n"
     ]
    },
    {
     "name": "stderr",
     "output_type": "stream",
     "text": [
      "\n",
      "\u001b[34m\u001b[1mval: \u001b[0mCaching images (3.3GB RAM): 100%|██████████| 2844/2844 [00:03<00:00, 913.44it/s]\u001b[0m\n"
     ]
    },
    {
     "name": "stdout",
     "output_type": "stream",
     "text": [
      "Plotting labels to runs/detect/train/labels.jpg... \n",
      "\u001b[34m\u001b[1moptimizer:\u001b[0m 'optimizer=auto' found, ignoring 'lr0=0.01' and 'momentum=0.937' and determining best 'optimizer', 'lr0' and 'momentum' automatically... \n",
      "\u001b[34m\u001b[1moptimizer:\u001b[0m SGD(lr=0.01, momentum=0.9) with parameter groups 149 weight(decay=0.0), 156 weight(decay=0.00059375), 155 bias(decay=0.0)\n",
      "Resuming training runs/detect/train/weights/last.pt from epoch 42 to 100 total epochs\n",
      "\u001b[34m\u001b[1mTensorBoard: \u001b[0mmodel graph visualization added ✅\n",
      "Image sizes 640 train, 640 val\n",
      "Using 8 dataloader workers\n",
      "Logging results to \u001b[1mruns/detect/train\u001b[0m\n",
      "Starting training for 100 epochs...\n",
      "\n",
      "      Epoch    GPU_mem   box_loss   cls_loss   dfl_loss  Instances       Size\n"
     ]
    },
    {
     "name": "stderr",
     "output_type": "stream",
     "text": [
      "     42/100      38.2G     0.3244     0.2438     0.9606         26        640: 100%|██████████| 156/156 [01:43<00:00,  1.51it/s]\n",
      "                 Class     Images  Instances      Box(P          R      mAP50  mAP50-95): 100%|██████████| 19/19 [00:11<00:00,  1.64it/s]"
     ]
    },
    {
     "name": "stdout",
     "output_type": "stream",
     "text": [
      "                   all       2844       3135      0.965      0.928      0.979      0.879\n"
     ]
    },
    {
     "name": "stderr",
     "output_type": "stream",
     "text": [
      "\n"
     ]
    },
    {
     "name": "stdout",
     "output_type": "stream",
     "text": [
      "\n",
      "      Epoch    GPU_mem   box_loss   cls_loss   dfl_loss  Instances       Size\n"
     ]
    },
    {
     "name": "stderr",
     "output_type": "stream",
     "text": [
      "     43/100      38.2G     0.3251     0.2484     0.9649         24        640: 100%|██████████| 156/156 [01:43<00:00,  1.51it/s]\n",
      "                 Class     Images  Instances      Box(P          R      mAP50  mAP50-95): 100%|██████████| 19/19 [00:11<00:00,  1.60it/s]"
     ]
    },
    {
     "name": "stdout",
     "output_type": "stream",
     "text": [
      "                   all       2844       3135      0.963      0.941       0.98      0.882\n"
     ]
    },
    {
     "name": "stderr",
     "output_type": "stream",
     "text": [
      "\n"
     ]
    },
    {
     "name": "stdout",
     "output_type": "stream",
     "text": [
      "\n",
      "      Epoch    GPU_mem   box_loss   cls_loss   dfl_loss  Instances       Size\n"
     ]
    },
    {
     "name": "stderr",
     "output_type": "stream",
     "text": [
      "     44/100      38.2G     0.3209     0.2443     0.9636         24        640: 100%|██████████| 156/156 [01:42<00:00,  1.53it/s]\n",
      "                 Class     Images  Instances      Box(P          R      mAP50  mAP50-95): 100%|██████████| 19/19 [00:11<00:00,  1.60it/s]"
     ]
    },
    {
     "name": "stdout",
     "output_type": "stream",
     "text": [
      "                   all       2844       3135      0.975      0.925       0.98       0.88\n"
     ]
    },
    {
     "name": "stderr",
     "output_type": "stream",
     "text": [
      "\n"
     ]
    },
    {
     "name": "stdout",
     "output_type": "stream",
     "text": [
      "\n",
      "      Epoch    GPU_mem   box_loss   cls_loss   dfl_loss  Instances       Size\n"
     ]
    },
    {
     "name": "stderr",
     "output_type": "stream",
     "text": [
      "     45/100      38.1G     0.3127     0.2416     0.9603         20        640: 100%|██████████| 156/156 [01:42<00:00,  1.53it/s]\n",
      "                 Class     Images  Instances      Box(P          R      mAP50  mAP50-95): 100%|██████████| 19/19 [00:11<00:00,  1.64it/s]"
     ]
    },
    {
     "name": "stdout",
     "output_type": "stream",
     "text": [
      "                   all       2844       3135      0.964      0.933      0.981      0.883\n"
     ]
    },
    {
     "name": "stderr",
     "output_type": "stream",
     "text": [
      "\n"
     ]
    },
    {
     "name": "stdout",
     "output_type": "stream",
     "text": [
      "\n",
      "      Epoch    GPU_mem   box_loss   cls_loss   dfl_loss  Instances       Size\n"
     ]
    },
    {
     "name": "stderr",
     "output_type": "stream",
     "text": [
      "     46/100      38.2G     0.3116     0.2384     0.9551         23        640: 100%|██████████| 156/156 [01:42<00:00,  1.53it/s]\n",
      "                 Class     Images  Instances      Box(P          R      mAP50  mAP50-95): 100%|██████████| 19/19 [00:11<00:00,  1.65it/s]"
     ]
    },
    {
     "name": "stdout",
     "output_type": "stream",
     "text": [
      "                   all       2844       3135      0.968       0.94      0.979      0.884\n"
     ]
    },
    {
     "name": "stderr",
     "output_type": "stream",
     "text": [
      "\n"
     ]
    },
    {
     "name": "stdout",
     "output_type": "stream",
     "text": [
      "\n",
      "      Epoch    GPU_mem   box_loss   cls_loss   dfl_loss  Instances       Size\n"
     ]
    },
    {
     "name": "stderr",
     "output_type": "stream",
     "text": [
      "     47/100      38.2G     0.3026      0.233      0.945        179        640:  10%|█         | 16/156 [00:11<01:37,  1.44it/s]\n"
     ]
    },
    {
     "ename": "KeyboardInterrupt",
     "evalue": "",
     "output_type": "error",
     "traceback": [
      "\u001b[0;31m---------------------------------------------------------------------------\u001b[0m",
      "\u001b[0;31mKeyboardInterrupt\u001b[0m                         Traceback (most recent call last)",
      "Cell \u001b[0;32mIn[24], line 3\u001b[0m\n\u001b[1;32m      1\u001b[0m get_ipython()\u001b[38;5;241m.\u001b[39mrun_line_magic(\u001b[38;5;124m'\u001b[39m\u001b[38;5;124mpwd\u001b[39m\u001b[38;5;124m'\u001b[39m, \u001b[38;5;124m'\u001b[39m\u001b[38;5;124m'\u001b[39m)\n\u001b[1;32m      2\u001b[0m modelcont \u001b[38;5;241m=\u001b[39m YOLO(\u001b[38;5;124m\"\u001b[39m\u001b[38;5;124mruns/detect/train/weights/last.pt\u001b[39m\u001b[38;5;124m\"\u001b[39m)\n\u001b[0;32m----> 3\u001b[0m modelcont\u001b[38;5;241m.\u001b[39mtrain(resume\u001b[38;5;241m=\u001b[39m\u001b[38;5;28;01mTrue\u001b[39;00m)\n",
      "File \u001b[0;32m~/miniconda3/envs/jupyterlab/lib/python3.12/site-packages/ultralytics/engine/model.py:802\u001b[0m, in \u001b[0;36mModel.train\u001b[0;34m(self, trainer, **kwargs)\u001b[0m\n\u001b[1;32m    799\u001b[0m     \u001b[38;5;28mself\u001b[39m\u001b[38;5;241m.\u001b[39mmodel \u001b[38;5;241m=\u001b[39m \u001b[38;5;28mself\u001b[39m\u001b[38;5;241m.\u001b[39mtrainer\u001b[38;5;241m.\u001b[39mmodel\n\u001b[1;32m    801\u001b[0m \u001b[38;5;28mself\u001b[39m\u001b[38;5;241m.\u001b[39mtrainer\u001b[38;5;241m.\u001b[39mhub_session \u001b[38;5;241m=\u001b[39m \u001b[38;5;28mself\u001b[39m\u001b[38;5;241m.\u001b[39msession  \u001b[38;5;66;03m# attach optional HUB session\u001b[39;00m\n\u001b[0;32m--> 802\u001b[0m \u001b[38;5;28mself\u001b[39m\u001b[38;5;241m.\u001b[39mtrainer\u001b[38;5;241m.\u001b[39mtrain()\n\u001b[1;32m    803\u001b[0m \u001b[38;5;66;03m# Update model and cfg after training\u001b[39;00m\n\u001b[1;32m    804\u001b[0m \u001b[38;5;28;01mif\u001b[39;00m RANK \u001b[38;5;129;01min\u001b[39;00m {\u001b[38;5;241m-\u001b[39m\u001b[38;5;241m1\u001b[39m, \u001b[38;5;241m0\u001b[39m}:\n",
      "File \u001b[0;32m~/miniconda3/envs/jupyterlab/lib/python3.12/site-packages/ultralytics/engine/trainer.py:207\u001b[0m, in \u001b[0;36mBaseTrainer.train\u001b[0;34m(self)\u001b[0m\n\u001b[1;32m    204\u001b[0m         ddp_cleanup(\u001b[38;5;28mself\u001b[39m, \u001b[38;5;28mstr\u001b[39m(file))\n\u001b[1;32m    206\u001b[0m \u001b[38;5;28;01melse\u001b[39;00m:\n\u001b[0;32m--> 207\u001b[0m     \u001b[38;5;28mself\u001b[39m\u001b[38;5;241m.\u001b[39m_do_train(world_size)\n",
      "File \u001b[0;32m~/miniconda3/envs/jupyterlab/lib/python3.12/site-packages/ultralytics/engine/trainer.py:388\u001b[0m, in \u001b[0;36mBaseTrainer._do_train\u001b[0;34m(self, world_size)\u001b[0m\n\u001b[1;32m    383\u001b[0m     \u001b[38;5;28mself\u001b[39m\u001b[38;5;241m.\u001b[39mtloss \u001b[38;5;241m=\u001b[39m (\n\u001b[1;32m    384\u001b[0m         (\u001b[38;5;28mself\u001b[39m\u001b[38;5;241m.\u001b[39mtloss \u001b[38;5;241m*\u001b[39m i \u001b[38;5;241m+\u001b[39m \u001b[38;5;28mself\u001b[39m\u001b[38;5;241m.\u001b[39mloss_items) \u001b[38;5;241m/\u001b[39m (i \u001b[38;5;241m+\u001b[39m \u001b[38;5;241m1\u001b[39m) \u001b[38;5;28;01mif\u001b[39;00m \u001b[38;5;28mself\u001b[39m\u001b[38;5;241m.\u001b[39mtloss \u001b[38;5;129;01mis\u001b[39;00m \u001b[38;5;129;01mnot\u001b[39;00m \u001b[38;5;28;01mNone\u001b[39;00m \u001b[38;5;28;01melse\u001b[39;00m \u001b[38;5;28mself\u001b[39m\u001b[38;5;241m.\u001b[39mloss_items\n\u001b[1;32m    385\u001b[0m     )\n\u001b[1;32m    387\u001b[0m \u001b[38;5;66;03m# Backward\u001b[39;00m\n\u001b[0;32m--> 388\u001b[0m \u001b[38;5;28mself\u001b[39m\u001b[38;5;241m.\u001b[39mscaler\u001b[38;5;241m.\u001b[39mscale(\u001b[38;5;28mself\u001b[39m\u001b[38;5;241m.\u001b[39mloss)\u001b[38;5;241m.\u001b[39mbackward()\n\u001b[1;32m    390\u001b[0m \u001b[38;5;66;03m# Optimize - https://pytorch.org/docs/master/notes/amp_examples.html\u001b[39;00m\n\u001b[1;32m    391\u001b[0m \u001b[38;5;28;01mif\u001b[39;00m ni \u001b[38;5;241m-\u001b[39m last_opt_step \u001b[38;5;241m>\u001b[39m\u001b[38;5;241m=\u001b[39m \u001b[38;5;28mself\u001b[39m\u001b[38;5;241m.\u001b[39maccumulate:\n",
      "File \u001b[0;32m~/miniconda3/envs/jupyterlab/lib/python3.12/site-packages/torch/_tensor.py:581\u001b[0m, in \u001b[0;36mTensor.backward\u001b[0;34m(self, gradient, retain_graph, create_graph, inputs)\u001b[0m\n\u001b[1;32m    571\u001b[0m \u001b[38;5;28;01mif\u001b[39;00m has_torch_function_unary(\u001b[38;5;28mself\u001b[39m):\n\u001b[1;32m    572\u001b[0m     \u001b[38;5;28;01mreturn\u001b[39;00m handle_torch_function(\n\u001b[1;32m    573\u001b[0m         Tensor\u001b[38;5;241m.\u001b[39mbackward,\n\u001b[1;32m    574\u001b[0m         (\u001b[38;5;28mself\u001b[39m,),\n\u001b[0;32m   (...)\u001b[0m\n\u001b[1;32m    579\u001b[0m         inputs\u001b[38;5;241m=\u001b[39minputs,\n\u001b[1;32m    580\u001b[0m     )\n\u001b[0;32m--> 581\u001b[0m torch\u001b[38;5;241m.\u001b[39mautograd\u001b[38;5;241m.\u001b[39mbackward(\n\u001b[1;32m    582\u001b[0m     \u001b[38;5;28mself\u001b[39m, gradient, retain_graph, create_graph, inputs\u001b[38;5;241m=\u001b[39minputs\n\u001b[1;32m    583\u001b[0m )\n",
      "File \u001b[0;32m~/miniconda3/envs/jupyterlab/lib/python3.12/site-packages/torch/autograd/__init__.py:347\u001b[0m, in \u001b[0;36mbackward\u001b[0;34m(tensors, grad_tensors, retain_graph, create_graph, grad_variables, inputs)\u001b[0m\n\u001b[1;32m    342\u001b[0m     retain_graph \u001b[38;5;241m=\u001b[39m create_graph\n\u001b[1;32m    344\u001b[0m \u001b[38;5;66;03m# The reason we repeat the same comment below is that\u001b[39;00m\n\u001b[1;32m    345\u001b[0m \u001b[38;5;66;03m# some Python versions print out the first line of a multi-line function\u001b[39;00m\n\u001b[1;32m    346\u001b[0m \u001b[38;5;66;03m# calls in the traceback and some print out the last line\u001b[39;00m\n\u001b[0;32m--> 347\u001b[0m _engine_run_backward(\n\u001b[1;32m    348\u001b[0m     tensors,\n\u001b[1;32m    349\u001b[0m     grad_tensors_,\n\u001b[1;32m    350\u001b[0m     retain_graph,\n\u001b[1;32m    351\u001b[0m     create_graph,\n\u001b[1;32m    352\u001b[0m     inputs,\n\u001b[1;32m    353\u001b[0m     allow_unreachable\u001b[38;5;241m=\u001b[39m\u001b[38;5;28;01mTrue\u001b[39;00m,\n\u001b[1;32m    354\u001b[0m     accumulate_grad\u001b[38;5;241m=\u001b[39m\u001b[38;5;28;01mTrue\u001b[39;00m,\n\u001b[1;32m    355\u001b[0m )\n",
      "File \u001b[0;32m~/miniconda3/envs/jupyterlab/lib/python3.12/site-packages/torch/autograd/graph.py:825\u001b[0m, in \u001b[0;36m_engine_run_backward\u001b[0;34m(t_outputs, *args, **kwargs)\u001b[0m\n\u001b[1;32m    823\u001b[0m     unregister_hooks \u001b[38;5;241m=\u001b[39m _register_logging_hooks_on_whole_graph(t_outputs)\n\u001b[1;32m    824\u001b[0m \u001b[38;5;28;01mtry\u001b[39;00m:\n\u001b[0;32m--> 825\u001b[0m     \u001b[38;5;28;01mreturn\u001b[39;00m Variable\u001b[38;5;241m.\u001b[39m_execution_engine\u001b[38;5;241m.\u001b[39mrun_backward(  \u001b[38;5;66;03m# Calls into the C++ engine to run the backward pass\u001b[39;00m\n\u001b[1;32m    826\u001b[0m         t_outputs, \u001b[38;5;241m*\u001b[39margs, \u001b[38;5;241m*\u001b[39m\u001b[38;5;241m*\u001b[39mkwargs\n\u001b[1;32m    827\u001b[0m     )  \u001b[38;5;66;03m# Calls into the C++ engine to run the backward pass\u001b[39;00m\n\u001b[1;32m    828\u001b[0m \u001b[38;5;28;01mfinally\u001b[39;00m:\n\u001b[1;32m    829\u001b[0m     \u001b[38;5;28;01mif\u001b[39;00m attach_logging_hooks:\n",
      "\u001b[0;31mKeyboardInterrupt\u001b[0m: "
     ]
    },
    {
     "name": "stderr",
     "output_type": "stream",
     "text": [
      "Traceback (most recent call last):\n",
      "  File \"/home/rocky/miniconda3/envs/jupyterlab/lib/python3.12/runpy.py\", line 198, in _run_module_as_main\n",
      "    return _run_code(code, main_globals, None,\n",
      "           ^^^^^^^^^^^^^^^^^^^^^^^^^^^^^^^^^^^\n",
      "  File \"/home/rocky/miniconda3/envs/jupyterlab/lib/python3.12/runpy.py\", line 88, in _run_code\n",
      "    exec(code, run_globals)\n",
      "  File \"/home/rocky/miniconda3/envs/jupyterlab/lib/python3.12/site-packages/ipykernel_launcher.py\", line 18, in <module>\n",
      "    app.launch_new_instance()\n",
      "  File \"/home/rocky/miniconda3/envs/jupyterlab/lib/python3.12/site-packages/traitlets/config/application.py\", line 1075, in launch_instance\n",
      "    app.start()\n",
      "  File \"/home/rocky/miniconda3/envs/jupyterlab/lib/python3.12/site-packages/ipykernel/kernelapp.py\", line 739, in start\n",
      "    self.io_loop.start()\n",
      "  File \"/home/rocky/miniconda3/envs/jupyterlab/lib/python3.12/site-packages/tornado/platform/asyncio.py\", line 205, in start\n",
      "    self.asyncio_loop.run_forever()\n",
      "  File \"/home/rocky/miniconda3/envs/jupyterlab/lib/python3.12/asyncio/base_events.py\", line 641, in run_forever\n",
      "    self._run_once()\n",
      "  File \"/home/rocky/miniconda3/envs/jupyterlab/lib/python3.12/asyncio/base_events.py\", line 1948, in _run_once\n",
      "    event_list = self._selector.select(timeout)\n",
      "                 ^^^^^^^^^^^^^^^^^^^^^^^^^^^^^^\n",
      "  File \"/home/rocky/miniconda3/envs/jupyterlab/lib/python3.12/selectors.py\", line 468, in select\n",
      "    fd_event_list = self._selector.poll(timeout, max_ev)\n",
      "                    ^^^^^^^^^^^^^^^^^^^^^^^^^^^^^^^^^^^^\n",
      "  File \"/home/rocky/miniconda3/envs/jupyterlab/lib/python3.12/site-packages/torch/utils/data/_utils/signal_handling.py\", line 73, in handler\n",
      "    _error_if_any_worker_fails()\n",
      "RuntimeError: DataLoader worker (pid 3451) exited unexpectedly with exit code 1. Details are lost due to multiprocessing. Rerunning with num_workers=0 may give better error trace.\n"
     ]
    }
   ],
   "source": [
    "%pwd\n",
    "modelcont = YOLO(\"runs/detect/train/weights/last.pt\")\n",
    "modelcont.train(resume=True)"
   ]
  },
  {
   "cell_type": "code",
   "execution_count": null,
   "id": "794416b2-ca72-47f2-9da5-4211811ba444",
   "metadata": {},
   "outputs": [
    {
     "name": "stderr",
     "output_type": "stream",
     "text": [
      "[codecarbon INFO @ 16:26:24] [setup] RAM Tracking...\n",
      "[codecarbon INFO @ 16:26:24] [setup] GPU Tracking...\n",
      "[codecarbon INFO @ 16:26:24] Tracking Nvidia GPU via pynvml\n",
      "[codecarbon INFO @ 16:26:24] [setup] CPU Tracking...\n",
      "[codecarbon WARNING @ 16:26:24] No CPU tracking mode found. Falling back on CPU constant mode. \n",
      " Linux OS detected: Please ensure RAPL files exist at \\sys\\class\\powercap\\intel-rapl to measure CPU\n",
      "\n",
      "[codecarbon WARNING @ 16:26:25] We saw that you have a AMD EPYC-Milan Processor but we don't know it. Please contact us.\n",
      "[codecarbon INFO @ 16:26:25] CPU Model on constant consumption mode: AMD EPYC-Milan Processor\n",
      "[codecarbon INFO @ 16:26:25] >>> Tracker's metadata:\n",
      "[codecarbon INFO @ 16:26:25]   Platform system: Linux-6.1.118-1.el9.elrepo.x86_64-x86_64-with-glibc2.34\n",
      "[codecarbon INFO @ 16:26:25]   Python version: 3.12.7\n",
      "[codecarbon INFO @ 16:26:25]   CodeCarbon version: 2.7.4\n",
      "[codecarbon INFO @ 16:26:25]   Available RAM : 114.633 GB\n",
      "[codecarbon INFO @ 16:26:25]   CPU count: 32\n",
      "[codecarbon INFO @ 16:26:25]   CPU model: AMD EPYC-Milan Processor\n",
      "[codecarbon INFO @ 16:26:25]   GPU count: 1\n",
      "[codecarbon INFO @ 16:26:25]   GPU model: 1 x NVIDIA A100-SXM4-40GB\n",
      "[codecarbon INFO @ 16:26:27] Saving emissions data to file /home/rocky/FindMyCat/scratchCat1/emissions.csv\n"
     ]
    },
    {
     "name": "stdout",
     "output_type": "stream",
     "text": [
      "Ultralytics 8.3.34 🚀 Python-3.12.7 torch-2.5.1+cu124 CUDA:0 (NVIDIA A100-SXM4-40GB, 40444MiB)\n",
      "\u001b[34m\u001b[1mengine/trainer: \u001b[0mtask=detect, mode=train, model=runs/detect/train/weights/last.pt, data=data.yaml, epochs=100, time=None, patience=20, batch=76, imgsz=640, save=True, save_period=10, cache=True, device=0, workers=8, project=None, name=train, exist_ok=False, pretrained=True, optimizer=auto, verbose=True, seed=0, deterministic=True, single_cls=True, rect=False, cos_lr=True, close_mosaic=10, resume=runs/detect/train/weights/last.pt, amp=True, fraction=1.0, profile=False, freeze=None, multi_scale=False, overlap_mask=True, mask_ratio=4, dropout=0.2, val=True, split=val, save_json=False, save_hybrid=False, conf=None, iou=0.7, max_det=300, half=False, dnn=False, plots=True, source=None, vid_stride=1, stream_buffer=False, visualize=False, augment=False, agnostic_nms=False, classes=None, retina_masks=False, embed=None, show=False, save_frames=False, save_txt=False, save_conf=False, save_crop=False, show_labels=True, show_conf=True, show_boxes=True, line_width=None, format=torchscript, keras=False, optimize=False, int8=False, dynamic=False, simplify=True, opset=None, workspace=4, nms=False, lr0=0.01, lrf=0.01, momentum=0.937, weight_decay=0.0005, warmup_epochs=3.0, warmup_momentum=0.8, warmup_bias_lr=0.0, box=7.5, cls=0.5, dfl=1.5, pose=12.0, kobj=1.0, label_smoothing=0.0, nbs=64, hsv_h=0.015, hsv_s=0.7, hsv_v=0.4, degrees=0.0, translate=0.1, scale=0.5, shear=0.0, perspective=0.0, flipud=0.0, fliplr=0.5, bgr=0.0, mosaic=1.0, mixup=0.0, copy_paste=0.0, copy_paste_mode=flip, auto_augment=randaugment, erasing=0.4, crop_fraction=1.0, cfg=None, tracker=botsort.yaml, save_dir=runs/detect/train\n",
      "\u001b[34m\u001b[1mTensorBoard: \u001b[0mStart with 'tensorboard --logdir runs/detect/train', view at http://localhost:6006/\n",
      "\n",
      "                   from  n    params  module                                       arguments                     \n",
      "  0                  -1  1       928  ultralytics.nn.modules.conv.Conv             [3, 32, 3, 2]                 \n",
      "  1                  -1  1     18560  ultralytics.nn.modules.conv.Conv             [32, 64, 3, 2]                \n",
      "  2                  -1  1    171648  ultralytics.nn.modules.block.RepNCSPELAN4    [64, 128, 128, 64, 1]         \n",
      "  3                  -1  1    276960  ultralytics.nn.modules.block.AConv           [128, 240]                    \n",
      "  4                  -1  1    629520  ultralytics.nn.modules.block.RepNCSPELAN4    [240, 240, 240, 120, 1]       \n",
      "  5                  -1  1    778320  ultralytics.nn.modules.block.AConv           [240, 360]                    \n",
      "  6                  -1  1   1414080  ultralytics.nn.modules.block.RepNCSPELAN4    [360, 360, 360, 180, 1]       \n",
      "  7                  -1  1   1556160  ultralytics.nn.modules.block.AConv           [360, 480]                    \n",
      "  8                  -1  1   2511840  ultralytics.nn.modules.block.RepNCSPELAN4    [480, 480, 480, 240, 1]       \n",
      "  9                  -1  1    577440  ultralytics.nn.modules.block.SPPELAN         [480, 480, 240]               \n",
      " 10                  -1  1         0  torch.nn.modules.upsampling.Upsample         [None, 2, 'nearest']          \n",
      " 11             [-1, 6]  1         0  ultralytics.nn.modules.conv.Concat           [1]                           \n",
      " 12                  -1  1   1586880  ultralytics.nn.modules.block.RepNCSPELAN4    [840, 360, 360, 180, 1]       \n",
      " 13                  -1  1         0  torch.nn.modules.upsampling.Upsample         [None, 2, 'nearest']          \n",
      " 14             [-1, 4]  1         0  ultralytics.nn.modules.conv.Concat           [1]                           \n",
      " 15                  -1  1    715920  ultralytics.nn.modules.block.RepNCSPELAN4    [600, 240, 240, 120, 1]       \n",
      " 16                  -1  1    397808  ultralytics.nn.modules.block.AConv           [240, 184]                    \n",
      " 17            [-1, 12]  1         0  ultralytics.nn.modules.conv.Concat           [1]                           \n",
      " 18                  -1  1   1480320  ultralytics.nn.modules.block.RepNCSPELAN4    [544, 360, 360, 180, 1]       \n",
      " 19                  -1  1    778080  ultralytics.nn.modules.block.AConv           [360, 240]                    \n",
      " 20             [-1, 9]  1         0  ultralytics.nn.modules.conv.Concat           [1]                           \n",
      " 21                  -1  1   2627040  ultralytics.nn.modules.block.RepNCSPELAN4    [720, 480, 480, 240, 1]       \n",
      " 22        [15, 18, 21]  1   4637539  ultralytics.nn.modules.head.Detect           [1, [240, 360, 480]]          \n",
      "YOLOv9m summary: 603 layers, 20,159,043 parameters, 20,159,027 gradients, 77.5 GFLOPs\n",
      "\n",
      "Transferred 907/907 items from pretrained weights\n",
      "Freezing layer 'model.22.dfl.conv.weight'\n",
      "\u001b[34m\u001b[1mAMP: \u001b[0mrunning Automatic Mixed Precision (AMP) checks...\n",
      "\u001b[34m\u001b[1mAMP: \u001b[0mchecks passed ✅\n"
     ]
    },
    {
     "name": "stderr",
     "output_type": "stream",
     "text": [
      "\u001b[34m\u001b[1mtrain: \u001b[0mScanning /home/rocky/FindMyCat/scratchCat1/datasets/combined-dataset/train/labels.cache... 11902 images, 1672 backgrounds, 111 corrupt: 100%|██████████| 11902/11\u001b[0m"
     ]
    },
    {
     "name": "stdout",
     "output_type": "stream",
     "text": [
      "\u001b[34m\u001b[1mtrain: \u001b[0mWARNING ⚠️ /home/rocky/FindMyCat/scratchCat1/datasets/combined-dataset/train/images/066a8514-b906-49b8-995c-4c2d6d6061f9_jpg.rf.f77ed2231c7657551556cd59e24c3b17.jpg: ignoring corrupt image/label: Label class 5 exceeds dataset class count 1. Possible class labels are 0-0\n",
      "\u001b[34m\u001b[1mtrain: \u001b[0mWARNING ⚠️ /home/rocky/FindMyCat/scratchCat1/datasets/combined-dataset/train/images/073847c9-c3e0-4e68-a939-20f2d186cd82_jpg.rf.97e4aac9b537cb411a4a726bad9c3e36.jpg: ignoring corrupt image/label: Label class 6 exceeds dataset class count 1. Possible class labels are 0-0\n",
      "\u001b[34m\u001b[1mtrain: \u001b[0mWARNING ⚠️ /home/rocky/FindMyCat/scratchCat1/datasets/combined-dataset/train/images/0e559139-381c-4155-a996-fbea82a0c05d_jpg.rf.3c31371b68dae28f1c208cddce53145e.jpg: ignoring corrupt image/label: Label class 5 exceeds dataset class count 1. Possible class labels are 0-0\n",
      "\u001b[34m\u001b[1mtrain: \u001b[0mWARNING ⚠️ /home/rocky/FindMyCat/scratchCat1/datasets/combined-dataset/train/images/1174dcf4-2e6b-4d0b-b338-df639182a9d7_jpg.rf.d44c826dc120050745ea45d38469f6f9.jpg: ignoring corrupt image/label: Label class 5 exceeds dataset class count 1. Possible class labels are 0-0\n",
      "\u001b[34m\u001b[1mtrain: \u001b[0mWARNING ⚠️ /home/rocky/FindMyCat/scratchCat1/datasets/combined-dataset/train/images/16e75227-f66f-4d1a-abbf-82a5fd135763_jpg.rf.8b9eab26eed2bf82d1e2e0ae61f5246c.jpg: ignoring corrupt image/label: Label class 5 exceeds dataset class count 1. Possible class labels are 0-0\n",
      "\u001b[34m\u001b[1mtrain: \u001b[0mWARNING ⚠️ /home/rocky/FindMyCat/scratchCat1/datasets/combined-dataset/train/images/16e97112-fe0d-4f1f-b3da-9f3a80571f00_jpg.rf.000637694ff68161a2aa4951e054b379.jpg: ignoring corrupt image/label: Label class 6 exceeds dataset class count 1. Possible class labels are 0-0\n",
      "\u001b[34m\u001b[1mtrain: \u001b[0mWARNING ⚠️ /home/rocky/FindMyCat/scratchCat1/datasets/combined-dataset/train/images/18cdb22b-cd16-4ad0-970e-d761b083e88a_jpg.rf.cad0df90f3283d9242643d30e124bb62.jpg: ignoring corrupt image/label: Label class 5 exceeds dataset class count 1. Possible class labels are 0-0\n",
      "\u001b[34m\u001b[1mtrain: \u001b[0mWARNING ⚠️ /home/rocky/FindMyCat/scratchCat1/datasets/combined-dataset/train/images/192ec9c2-8bb1-4b2e-b01d-9e918a914898_jpg.rf.64e6ae59ae8c7608e02b54a80d5cae9e.jpg: ignoring corrupt image/label: Label class 5 exceeds dataset class count 1. Possible class labels are 0-0\n",
      "\u001b[34m\u001b[1mtrain: \u001b[0mWARNING ⚠️ /home/rocky/FindMyCat/scratchCat1/datasets/combined-dataset/train/images/2013010711390213112_jpg.rf.6d7b9709773087524886111f27c31a6b.jpg: ignoring corrupt image/label: Label class 3 exceeds dataset class count 1. Possible class labels are 0-0\n",
      "\u001b[34m\u001b[1mtrain: \u001b[0mWARNING ⚠️ /home/rocky/FindMyCat/scratchCat1/datasets/combined-dataset/train/images/2013010711390213118_jpg.rf.73743cfcd203a565e3da5980018537b8.jpg: ignoring corrupt image/label: Label class 5 exceeds dataset class count 1. Possible class labels are 0-0\n",
      "\u001b[34m\u001b[1mtrain: \u001b[0mWARNING ⚠️ /home/rocky/FindMyCat/scratchCat1/datasets/combined-dataset/train/images/2013010711390213119_jpg.rf.80750b9a5749922a39ac56a10ae8c3ce.jpg: ignoring corrupt image/label: Label class 5 exceeds dataset class count 1. Possible class labels are 0-0\n",
      "\u001b[34m\u001b[1mtrain: \u001b[0mWARNING ⚠️ /home/rocky/FindMyCat/scratchCat1/datasets/combined-dataset/train/images/2013010711390213120_jpg.rf.c24a92639987eef27c2b1579a97fa973.jpg: ignoring corrupt image/label: Label class 2 exceeds dataset class count 1. Possible class labels are 0-0\n",
      "\u001b[34m\u001b[1mtrain: \u001b[0mWARNING ⚠️ /home/rocky/FindMyCat/scratchCat1/datasets/combined-dataset/train/images/2013010711390213121_jpg.rf.c7ce251bee17129c8e4bb14a7ed55723.jpg: ignoring corrupt image/label: Label class 3 exceeds dataset class count 1. Possible class labels are 0-0\n",
      "\u001b[34m\u001b[1mtrain: \u001b[0mWARNING ⚠️ /home/rocky/FindMyCat/scratchCat1/datasets/combined-dataset/train/images/2040379f-dd40-4299-bca7-9cd6e5d7024f_jpg.rf.db0a197c8b9325035210e8c92caacf8b.jpg: ignoring corrupt image/label: Label class 6 exceeds dataset class count 1. Possible class labels are 0-0\n",
      "\u001b[34m\u001b[1mtrain: \u001b[0mWARNING ⚠️ /home/rocky/FindMyCat/scratchCat1/datasets/combined-dataset/train/images/2400a9be-28f0-4d20-818b-f929f36c1c0d_jpg.rf.9235f34106ba52157ccc7b9ec058c62a.jpg: ignoring corrupt image/label: Label class 5 exceeds dataset class count 1. Possible class labels are 0-0\n",
      "\u001b[34m\u001b[1mtrain: \u001b[0mWARNING ⚠️ /home/rocky/FindMyCat/scratchCat1/datasets/combined-dataset/train/images/285ad8fb-2b07-4f1e-98f6-dd6d517b0174_jpg.rf.115ed71f13abdcd0d4357b5070efaa71.jpg: ignoring corrupt image/label: Label class 5 exceeds dataset class count 1. Possible class labels are 0-0\n",
      "\u001b[34m\u001b[1mtrain: \u001b[0mWARNING ⚠️ /home/rocky/FindMyCat/scratchCat1/datasets/combined-dataset/train/images/2bd9fcd1-62c3-4eac-986e-c27b43cba0a7_jpg.rf.8aaa866788425fc9322b1516e1092517.jpg: ignoring corrupt image/label: Label class 5 exceeds dataset class count 1. Possible class labels are 0-0\n",
      "\u001b[34m\u001b[1mtrain: \u001b[0mWARNING ⚠️ /home/rocky/FindMyCat/scratchCat1/datasets/combined-dataset/train/images/320f0e25-1a5e-4bb4-96d6-1e250b02104e_jpg.rf.b8351a37ffcdce2f5e37fcca00bfdb8e.jpg: ignoring corrupt image/label: Label class 5 exceeds dataset class count 1. Possible class labels are 0-0\n",
      "\u001b[34m\u001b[1mtrain: \u001b[0mWARNING ⚠️ /home/rocky/FindMyCat/scratchCat1/datasets/combined-dataset/train/images/35607174-45b1-42e6-b64b-7cc346962e7c_jpg.rf.46100bb167aa45957ea04b5c6b15bf29.jpg: ignoring corrupt image/label: Label class 5 exceeds dataset class count 1. Possible class labels are 0-0\n",
      "\u001b[34m\u001b[1mtrain: \u001b[0mWARNING ⚠️ /home/rocky/FindMyCat/scratchCat1/datasets/combined-dataset/train/images/39255e9c-e164-42d7-b280-7366c96aa038_jpg.rf.38a72ed107c4e6d8846eda0a7cf699f2.jpg: ignoring corrupt image/label: Label class 4 exceeds dataset class count 1. Possible class labels are 0-0\n",
      "\u001b[34m\u001b[1mtrain: \u001b[0mWARNING ⚠️ /home/rocky/FindMyCat/scratchCat1/datasets/combined-dataset/train/images/396895ae-04d6-44e6-b377-c8ddc22d54af_jpg.rf.1a234c5545a674b7aef00a3a1ff8094c.jpg: ignoring corrupt image/label: Label class 6 exceeds dataset class count 1. Possible class labels are 0-0\n",
      "\u001b[34m\u001b[1mtrain: \u001b[0mWARNING ⚠️ /home/rocky/FindMyCat/scratchCat1/datasets/combined-dataset/train/images/3e5d0a6f-94bd-4887-aa82-214367dbe2ce_jpg.rf.f0705ffd9b1f2a2675a7fc779f0a3782.jpg: ignoring corrupt image/label: Label class 5 exceeds dataset class count 1. Possible class labels are 0-0\n",
      "\u001b[34m\u001b[1mtrain: \u001b[0mWARNING ⚠️ /home/rocky/FindMyCat/scratchCat1/datasets/combined-dataset/train/images/432aefeb-0827-441c-94ad-34342e04eafa_jpg.rf.e98f5b37438738ff132a06b77a6d404e.jpg: ignoring corrupt image/label: Label class 5 exceeds dataset class count 1. Possible class labels are 0-0\n",
      "\u001b[34m\u001b[1mtrain: \u001b[0mWARNING ⚠️ /home/rocky/FindMyCat/scratchCat1/datasets/combined-dataset/train/images/4643ec3c-ad6c-48f2-ab14-0841d350b2d0_jpg.rf.2fa1682a16cf1c8e92b2eaa214852614.jpg: ignoring corrupt image/label: Label class 5 exceeds dataset class count 1. Possible class labels are 0-0\n",
      "\u001b[34m\u001b[1mtrain: \u001b[0mWARNING ⚠️ /home/rocky/FindMyCat/scratchCat1/datasets/combined-dataset/train/images/48fafd44-7370-4cc7-8be2-75caaace2082_jpg.rf.4a86ded83e988f5a534882292d2c813d.jpg: ignoring corrupt image/label: Label class 5 exceeds dataset class count 1. Possible class labels are 0-0\n",
      "\u001b[34m\u001b[1mtrain: \u001b[0mWARNING ⚠️ /home/rocky/FindMyCat/scratchCat1/datasets/combined-dataset/train/images/4a64e23a-7ab0-4883-950a-b61113518460_jpg.rf.1ec8db0c4a5f786ecb41fa23f725a623.jpg: ignoring corrupt image/label: Label class 5 exceeds dataset class count 1. Possible class labels are 0-0\n",
      "\u001b[34m\u001b[1mtrain: \u001b[0mWARNING ⚠️ /home/rocky/FindMyCat/scratchCat1/datasets/combined-dataset/train/images/4adca938-3aa0-4da5-803a-99fece8d0796_jpg.rf.ac72dcf1b56f49843928ede667ba2f05.jpg: ignoring corrupt image/label: Label class 5 exceeds dataset class count 1. Possible class labels are 0-0\n",
      "\u001b[34m\u001b[1mtrain: \u001b[0mWARNING ⚠️ /home/rocky/FindMyCat/scratchCat1/datasets/combined-dataset/train/images/4c957fef-ceab-426e-808d-544e71162837_jpg.rf.2bcc27a8cbb65d21d7b4fc4acfdd05d7.jpg: ignoring corrupt image/label: Label class 5 exceeds dataset class count 1. Possible class labels are 0-0\n",
      "\u001b[34m\u001b[1mtrain: \u001b[0mWARNING ⚠️ /home/rocky/FindMyCat/scratchCat1/datasets/combined-dataset/train/images/520ca8cd-a5b8-4c97-a57a-85be6fd8b497_jpg.rf.323345adf0f7ce7159df72f3a168bca6.jpg: ignoring corrupt image/label: Label class 5 exceeds dataset class count 1. Possible class labels are 0-0\n",
      "\u001b[34m\u001b[1mtrain: \u001b[0mWARNING ⚠️ /home/rocky/FindMyCat/scratchCat1/datasets/combined-dataset/train/images/52_jpg.rf.0c3518e64a95885cede3cbd1efb9219e.jpg: ignoring corrupt image/label: Label class 2 exceeds dataset class count 1. Possible class labels are 0-0\n",
      "\u001b[34m\u001b[1mtrain: \u001b[0mWARNING ⚠️ /home/rocky/FindMyCat/scratchCat1/datasets/combined-dataset/train/images/54545_jpg.rf.d0c1dba2c9b76403833a0f1688f71370.jpg: ignoring corrupt image/label: Label class 2 exceeds dataset class count 1. Possible class labels are 0-0\n",
      "\u001b[34m\u001b[1mtrain: \u001b[0mWARNING ⚠️ /home/rocky/FindMyCat/scratchCat1/datasets/combined-dataset/train/images/56fac286-b306-42d8-92c5-5f1082e42d14_jpg.rf.e8fe62288ffab9fb01cf1be83ecec689.jpg: ignoring corrupt image/label: Label class 5 exceeds dataset class count 1. Possible class labels are 0-0\n",
      "\u001b[34m\u001b[1mtrain: \u001b[0mWARNING ⚠️ /home/rocky/FindMyCat/scratchCat1/datasets/combined-dataset/train/images/58d0fee0-b6ad-45f5-b192-0e4d65042152_jpg.rf.4b5e6c888863bfe090157db1c77f094e.jpg: ignoring corrupt image/label: Label class 5 exceeds dataset class count 1. Possible class labels are 0-0\n",
      "\u001b[34m\u001b[1mtrain: \u001b[0mWARNING ⚠️ /home/rocky/FindMyCat/scratchCat1/datasets/combined-dataset/train/images/5e44e2b8-ec1e-4f1d-b2c1-2388893b505a_jpg.rf.5ad2e3691eeaede673022f6c30bc75da.jpg: ignoring corrupt image/label: Label class 5 exceeds dataset class count 1. Possible class labels are 0-0\n",
      "\u001b[34m\u001b[1mtrain: \u001b[0mWARNING ⚠️ /home/rocky/FindMyCat/scratchCat1/datasets/combined-dataset/train/images/6360ae2d-9d6d-4ee0-a945-e1d4f57a79be_jpg.rf.bf314b45cb528578103e9ab12e587d1e.jpg: ignoring corrupt image/label: Label class 5 exceeds dataset class count 1. Possible class labels are 0-0\n",
      "\u001b[34m\u001b[1mtrain: \u001b[0mWARNING ⚠️ /home/rocky/FindMyCat/scratchCat1/datasets/combined-dataset/train/images/66_jpg.rf.6a278f8ee0229e6cf467b9af3b090396.jpg: ignoring corrupt image/label: Label class 2 exceeds dataset class count 1. Possible class labels are 0-0\n",
      "\u001b[34m\u001b[1mtrain: \u001b[0mWARNING ⚠️ /home/rocky/FindMyCat/scratchCat1/datasets/combined-dataset/train/images/683347f9-42f3-4eb2-98dc-9b564fff7fe5_jpg.rf.6f933069c50c3066f63e70f9a760b73b.jpg: ignoring corrupt image/label: Label class 6 exceeds dataset class count 1. Possible class labels are 0-0\n",
      "\u001b[34m\u001b[1mtrain: \u001b[0mWARNING ⚠️ /home/rocky/FindMyCat/scratchCat1/datasets/combined-dataset/train/images/6c15ed44-b992-4d3f-8edc-1e554f8eb6bf_jpg.rf.243674d20b8b6e87f5436ba8fb1ab0c6.jpg: ignoring corrupt image/label: Label class 2 exceeds dataset class count 1. Possible class labels are 0-0\n",
      "\u001b[34m\u001b[1mtrain: \u001b[0mWARNING ⚠️ /home/rocky/FindMyCat/scratchCat1/datasets/combined-dataset/train/images/6dbb9ab1-9120-4fa8-aa54-8c9b810a7f28_jpg.rf.ab6de8cedded022e93fbe1625f4e59be.jpg: ignoring corrupt image/label: Label class 5 exceeds dataset class count 1. Possible class labels are 0-0\n",
      "\u001b[34m\u001b[1mtrain: \u001b[0mWARNING ⚠️ /home/rocky/FindMyCat/scratchCat1/datasets/combined-dataset/train/images/7ae1a54a-674a-463f-a04f-353e9a088f57_jpg.rf.276cc2efa434f681e0b7b4a15cab31b6.jpg: ignoring corrupt image/label: Label class 5 exceeds dataset class count 1. Possible class labels are 0-0\n",
      "\u001b[34m\u001b[1mtrain: \u001b[0mWARNING ⚠️ /home/rocky/FindMyCat/scratchCat1/datasets/combined-dataset/train/images/7d05b53f-9854-490e-8d29-0ec10e149deb_jpg.rf.b7bcf1f39972922428079d33d377b0d4.jpg: ignoring corrupt image/label: Label class 5 exceeds dataset class count 1. Possible class labels are 0-0\n",
      "\u001b[34m\u001b[1mtrain: \u001b[0mWARNING ⚠️ /home/rocky/FindMyCat/scratchCat1/datasets/combined-dataset/train/images/82f5ff2d-ff07-4197-9c55-909204ab22f8_jpg.rf.073e73131aaedf1c56481006758d3268.jpg: ignoring corrupt image/label: Label class 5 exceeds dataset class count 1. Possible class labels are 0-0\n",
      "\u001b[34m\u001b[1mtrain: \u001b[0mWARNING ⚠️ /home/rocky/FindMyCat/scratchCat1/datasets/combined-dataset/train/images/83adf935-2f05-477c-8c7b-48b9af0e8b08_jpg.rf.60f1ce56fc116b6658f70f7cb053ede8.jpg: ignoring corrupt image/label: Label class 5 exceeds dataset class count 1. Possible class labels are 0-0\n",
      "\u001b[34m\u001b[1mtrain: \u001b[0mWARNING ⚠️ /home/rocky/FindMyCat/scratchCat1/datasets/combined-dataset/train/images/853dc8b1-96eb-40a4-8516-a5d949421b79_jpg.rf.140be4fb718f97eae064e990e01e2601.jpg: ignoring corrupt image/label: Label class 5 exceeds dataset class count 1. Possible class labels are 0-0\n",
      "\u001b[34m\u001b[1mtrain: \u001b[0mWARNING ⚠️ /home/rocky/FindMyCat/scratchCat1/datasets/combined-dataset/train/images/8770e061-e97f-4699-b2ca-9483cb181174_jpg.rf.e73af4d1e5eb1b6dc213a1283c979b50.jpg: ignoring corrupt image/label: Label class 5 exceeds dataset class count 1. Possible class labels are 0-0\n",
      "\u001b[34m\u001b[1mtrain: \u001b[0mWARNING ⚠️ /home/rocky/FindMyCat/scratchCat1/datasets/combined-dataset/train/images/8d7d0cac-ee99-43df-a002-231165138c69_jpg.rf.347427888e4c484246e5ecbd0bccb99a.jpg: ignoring corrupt image/label: Label class 5 exceeds dataset class count 1. Possible class labels are 0-0\n",
      "\u001b[34m\u001b[1mtrain: \u001b[0mWARNING ⚠️ /home/rocky/FindMyCat/scratchCat1/datasets/combined-dataset/train/images/9dfe9f08-0c72-46c3-b4cd-1781f258a3d8_jpg.rf.9e43b6ffd19b135450a276ca33a48ba6.jpg: ignoring corrupt image/label: Label class 5 exceeds dataset class count 1. Possible class labels are 0-0\n",
      "\u001b[34m\u001b[1mtrain: \u001b[0mWARNING ⚠️ /home/rocky/FindMyCat/scratchCat1/datasets/combined-dataset/train/images/a21f1edb-fccd-4a06-85e6-839b0e81b04f_jpg.rf.334dd17f1051a7c542d67b83022349f3.jpg: ignoring corrupt image/label: Label class 6 exceeds dataset class count 1. Possible class labels are 0-0\n",
      "\u001b[34m\u001b[1mtrain: \u001b[0mWARNING ⚠️ /home/rocky/FindMyCat/scratchCat1/datasets/combined-dataset/train/images/a2e6a203-c292-40af-bb9d-c26c9e720ca7_jpg.rf.ea4a2a5485b2915704fe5f27969cedd3.jpg: ignoring corrupt image/label: Label class 5 exceeds dataset class count 1. Possible class labels are 0-0\n",
      "\u001b[34m\u001b[1mtrain: \u001b[0mWARNING ⚠️ /home/rocky/FindMyCat/scratchCat1/datasets/combined-dataset/train/images/a42eb41e-7fc0-4692-9271-52ddc70720c7_jpg.rf.9e25da36944943b6f3cb722b7cb9928f.jpg: ignoring corrupt image/label: Label class 5 exceeds dataset class count 1. Possible class labels are 0-0\n",
      "\u001b[34m\u001b[1mtrain: \u001b[0mWARNING ⚠️ /home/rocky/FindMyCat/scratchCat1/datasets/combined-dataset/train/images/a4849f01-c5dc-4133-816e-e8120865b79d_jpg.rf.f4a56ca7b60b4141efc42dfea11a2d16.jpg: ignoring corrupt image/label: Label class 6 exceeds dataset class count 1. Possible class labels are 0-0\n",
      "\u001b[34m\u001b[1mtrain: \u001b[0mWARNING ⚠️ /home/rocky/FindMyCat/scratchCat1/datasets/combined-dataset/train/images/a4b4661e-bcb1-4f5d-88bd-bfe9424c6210_jpg.rf.4213a4cca2ce3bd5e61394eccf60c8d3.jpg: ignoring corrupt image/label: Label class 3 exceeds dataset class count 1. Possible class labels are 0-0\n",
      "\u001b[34m\u001b[1mtrain: \u001b[0mWARNING ⚠️ /home/rocky/FindMyCat/scratchCat1/datasets/combined-dataset/train/images/ac9079a6-5e0c-4395-bc0f-8332b9194ec8_jpg.rf.516a1b79906de8e06f4557caeb2f3f63.jpg: ignoring corrupt image/label: Label class 6 exceeds dataset class count 1. Possible class labels are 0-0\n",
      "\u001b[34m\u001b[1mtrain: \u001b[0mWARNING ⚠️ /home/rocky/FindMyCat/scratchCat1/datasets/combined-dataset/train/images/ad82088d-747e-479b-b09e-2bb0ed281ac2_jpg.rf.a01ff58bf1f848460123ff7a4ce9f092.jpg: ignoring corrupt image/label: Label class 5 exceeds dataset class count 1. Possible class labels are 0-0\n",
      "\u001b[34m\u001b[1mtrain: \u001b[0mWARNING ⚠️ /home/rocky/FindMyCat/scratchCat1/datasets/combined-dataset/train/images/ae949b04-5f1c-420b-ac31-c5ed86926b89_jpg.rf.a27b84f4c1f2d3be328a0dd19ecd2131.jpg: ignoring corrupt image/label: Label class 6 exceeds dataset class count 1. Possible class labels are 0-0\n",
      "\u001b[34m\u001b[1mtrain: \u001b[0mWARNING ⚠️ /home/rocky/FindMyCat/scratchCat1/datasets/combined-dataset/train/images/af93290c-2b40-40c8-9d74-0eb950d1e550_jpg.rf.d60623f85d43a6d76310ac1dde6ccb02.jpg: ignoring corrupt image/label: Label class 5 exceeds dataset class count 1. Possible class labels are 0-0\n",
      "\u001b[34m\u001b[1mtrain: \u001b[0mWARNING ⚠️ /home/rocky/FindMyCat/scratchCat1/datasets/combined-dataset/train/images/b0db1ed0-e237-4e28-b5e8-71e929b49899_jpg.rf.120ab992cb414daca54479f3b4d9a1fe.jpg: ignoring corrupt image/label: Label class 6 exceeds dataset class count 1. Possible class labels are 0-0\n",
      "\u001b[34m\u001b[1mtrain: \u001b[0mWARNING ⚠️ /home/rocky/FindMyCat/scratchCat1/datasets/combined-dataset/train/images/c3ecdd7f-fe45-4d60-bebf-ad248e31213e_jpg.rf.4b95b1da924cb6a175aabbd47852aff0.jpg: ignoring corrupt image/label: Label class 5 exceeds dataset class count 1. Possible class labels are 0-0\n",
      "\u001b[34m\u001b[1mtrain: \u001b[0mWARNING ⚠️ /home/rocky/FindMyCat/scratchCat1/datasets/combined-dataset/train/images/c4fec89f-15d0-4714-b7a4-0ba1245e14d7_jpg.rf.34316d5a78063d4be02778fe30194ea4.jpg: ignoring corrupt image/label: Label class 5 exceeds dataset class count 1. Possible class labels are 0-0\n",
      "\u001b[34m\u001b[1mtrain: \u001b[0mWARNING ⚠️ /home/rocky/FindMyCat/scratchCat1/datasets/combined-dataset/train/images/cb29c0f6-4b1f-419a-839c-e92d811df531_jpg.rf.267d1c618fa0aa4070235a7b42ec78eb.jpg: ignoring corrupt image/label: Label class 5 exceeds dataset class count 1. Possible class labels are 0-0\n",
      "\u001b[34m\u001b[1mtrain: \u001b[0mWARNING ⚠️ /home/rocky/FindMyCat/scratchCat1/datasets/combined-dataset/train/images/cd577ef3-d288-4d32-88af-b8592adfc632_jpg.rf.110f7910f8d3e2beba4705ab5b623c34.jpg: ignoring corrupt image/label: Label class 6 exceeds dataset class count 1. Possible class labels are 0-0\n",
      "\u001b[34m\u001b[1mtrain: \u001b[0mWARNING ⚠️ /home/rocky/FindMyCat/scratchCat1/datasets/combined-dataset/train/images/ce41d53e-9ef6-4e09-8fb0-5e5d6123b51c_jpg.rf.e3562e1679d2d28081d96cf3215dcb7b.jpg: ignoring corrupt image/label: Label class 5 exceeds dataset class count 1. Possible class labels are 0-0\n",
      "\u001b[34m\u001b[1mtrain: \u001b[0mWARNING ⚠️ /home/rocky/FindMyCat/scratchCat1/datasets/combined-dataset/train/images/d24dedc8-1376-4773-bccd-40d40fea05cb_jpg.rf.7e7266f53e7d04a1d69e670c0a723a0c.jpg: ignoring corrupt image/label: Label class 5 exceeds dataset class count 1. Possible class labels are 0-0\n",
      "\u001b[34m\u001b[1mtrain: \u001b[0mWARNING ⚠️ /home/rocky/FindMyCat/scratchCat1/datasets/combined-dataset/train/images/d368e30d-31ce-414c-91be-36db0301b8f6_jpg.rf.39dd86301a5e20b6d59526828c176974.jpg: ignoring corrupt image/label: Label class 5 exceeds dataset class count 1. Possible class labels are 0-0\n",
      "\u001b[34m\u001b[1mtrain: \u001b[0mWARNING ⚠️ /home/rocky/FindMyCat/scratchCat1/datasets/combined-dataset/train/images/dc7a97b0-dcc9-4994-b628-cffd1e9634ca_jpg.rf.ba8811671ddfdc047efa4da7423df3b7.jpg: ignoring corrupt image/label: Label class 5 exceeds dataset class count 1. Possible class labels are 0-0\n",
      "\u001b[34m\u001b[1mtrain: \u001b[0mWARNING ⚠️ /home/rocky/FindMyCat/scratchCat1/datasets/combined-dataset/train/images/ddcaf14b-7c9e-4c11-b831-5ad217be3bfa_jpg.rf.030a206581c935efc7532c33ff1a1e79.jpg: ignoring corrupt image/label: Label class 5 exceeds dataset class count 1. Possible class labels are 0-0\n",
      "\u001b[34m\u001b[1mtrain: \u001b[0mWARNING ⚠️ /home/rocky/FindMyCat/scratchCat1/datasets/combined-dataset/train/images/de2aff66-0d9d-4e52-9e03-77f4596f8896_jpg.rf.7fa8d5ce5b3c0b8885801e039961fa68.jpg: ignoring corrupt image/label: Label class 4 exceeds dataset class count 1. Possible class labels are 0-0\n",
      "\u001b[34m\u001b[1mtrain: \u001b[0mWARNING ⚠️ /home/rocky/FindMyCat/scratchCat1/datasets/combined-dataset/train/images/e46a2c36-4bab-468a-a42e-ff982fa2c69a_jpg.rf.765016753ebf74ae5a009773caf891be.jpg: ignoring corrupt image/label: Label class 5 exceeds dataset class count 1. Possible class labels are 0-0\n",
      "\u001b[34m\u001b[1mtrain: \u001b[0mWARNING ⚠️ /home/rocky/FindMyCat/scratchCat1/datasets/combined-dataset/train/images/e4ea66f7-78dc-4264-b64b-d0a0013ccf52_jpg.rf.c4cb6f4939b1bed8b2e07ad2d14fa0fd.jpg: ignoring corrupt image/label: Label class 5 exceeds dataset class count 1. Possible class labels are 0-0\n",
      "\u001b[34m\u001b[1mtrain: \u001b[0mWARNING ⚠️ /home/rocky/FindMyCat/scratchCat1/datasets/combined-dataset/train/images/ea448547-183a-43a8-8ef4-8066aaf3a0bd_jpg.rf.19405255a16944999730228b8563fe5f.jpg: ignoring corrupt image/label: Label class 6 exceeds dataset class count 1. Possible class labels are 0-0\n",
      "\u001b[34m\u001b[1mtrain: \u001b[0mWARNING ⚠️ /home/rocky/FindMyCat/scratchCat1/datasets/combined-dataset/train/images/ivqxasceu3aemg6wgybx16u4nyvmo8pa_jpg.rf.9afd41c849d6adf0bca313f174e85747.jpg: ignoring corrupt image/label: Label class 6 exceeds dataset class count 1. Possible class labels are 0-0\n",
      "\u001b[34m\u001b[1mtrain: \u001b[0mWARNING ⚠️ /home/rocky/FindMyCat/scratchCat1/datasets/combined-dataset/train/images/scale_2400_jpg.rf.b597a87670629181eab6d4d4d46706e1.jpg: ignoring corrupt image/label: Label class 3 exceeds dataset class count 1. Possible class labels are 0-0\n",
      "\u001b[34m\u001b[1mtrain: \u001b[0mWARNING ⚠️ /home/rocky/FindMyCat/scratchCat1/datasets/combined-dataset/train/images/yt-UR66VgcaFUk-0002_jpg.rf.df72d44d0ae7aeb82f49a885dd26367d.jpg: ignoring corrupt image/label: Label class 5 exceeds dataset class count 1. Possible class labels are 0-0\n",
      "\u001b[34m\u001b[1mtrain: \u001b[0mWARNING ⚠️ /home/rocky/FindMyCat/scratchCat1/datasets/combined-dataset/train/images/yt-UR66VgcaFUk-0003_jpg.rf.aad3c521f74866c469424907a637761c.jpg: ignoring corrupt image/label: Label class 2 exceeds dataset class count 1. Possible class labels are 0-0\n",
      "\u001b[34m\u001b[1mtrain: \u001b[0mWARNING ⚠️ /home/rocky/FindMyCat/scratchCat1/datasets/combined-dataset/train/images/yt-UR66VgcaFUk-0004_jpg.rf.cd65b3c59a1ba3f01ae1a45fbb2b4022.jpg: ignoring corrupt image/label: Label class 2 exceeds dataset class count 1. Possible class labels are 0-0\n",
      "\u001b[34m\u001b[1mtrain: \u001b[0mWARNING ⚠️ /home/rocky/FindMyCat/scratchCat1/datasets/combined-dataset/train/images/yt-UR66VgcaFUk-0008_jpg.rf.acb7ce2ec679c4cd96302c2ec8b609c8.jpg: ignoring corrupt image/label: Label class 5 exceeds dataset class count 1. Possible class labels are 0-0\n",
      "\u001b[34m\u001b[1mtrain: \u001b[0mWARNING ⚠️ /home/rocky/FindMyCat/scratchCat1/datasets/combined-dataset/train/images/yt-UR66VgcaFUk-0010_jpg.rf.9d02dd359adc78dfcfc51a3d8af52bb7.jpg: ignoring corrupt image/label: Label class 5 exceeds dataset class count 1. Possible class labels are 0-0\n",
      "\u001b[34m\u001b[1mtrain: \u001b[0mWARNING ⚠️ /home/rocky/FindMyCat/scratchCat1/datasets/combined-dataset/train/images/yt-UR66VgcaFUk-0011_jpg.rf.17136aaffc79202edc62c7f98664ebec.jpg: ignoring corrupt image/label: Label class 5 exceeds dataset class count 1. Possible class labels are 0-0\n",
      "\u001b[34m\u001b[1mtrain: \u001b[0mWARNING ⚠️ /home/rocky/FindMyCat/scratchCat1/datasets/combined-dataset/train/images/yt-UR66VgcaFUk-0012_jpg.rf.70eb8ce5e2e3f811bc04e34e5db02bc6.jpg: ignoring corrupt image/label: Label class 2 exceeds dataset class count 1. Possible class labels are 0-0\n",
      "\u001b[34m\u001b[1mtrain: \u001b[0mWARNING ⚠️ /home/rocky/FindMyCat/scratchCat1/datasets/combined-dataset/train/images/yt-UR66VgcaFUk-0014_jpg.rf.19b71e539cb3d9dd8b5610b51f8e0775.jpg: ignoring corrupt image/label: Label class 5 exceeds dataset class count 1. Possible class labels are 0-0\n",
      "\u001b[34m\u001b[1mtrain: \u001b[0mWARNING ⚠️ /home/rocky/FindMyCat/scratchCat1/datasets/combined-dataset/train/images/yt-UR66VgcaFUk-0015_jpg.rf.ebbfd536385d0b0cd922e16f4f9a2fc0.jpg: ignoring corrupt image/label: Label class 5 exceeds dataset class count 1. Possible class labels are 0-0\n",
      "\u001b[34m\u001b[1mtrain: \u001b[0mWARNING ⚠️ /home/rocky/FindMyCat/scratchCat1/datasets/combined-dataset/train/images/yt-UR66VgcaFUk-0017_jpg.rf.aacb56ef2596e469bdec2e39326efd1d.jpg: ignoring corrupt image/label: Label class 2 exceeds dataset class count 1. Possible class labels are 0-0\n",
      "\u001b[34m\u001b[1mtrain: \u001b[0mWARNING ⚠️ /home/rocky/FindMyCat/scratchCat1/datasets/combined-dataset/train/images/yt-UR66VgcaFUk-0021_jpg.rf.8a75c8baf826982b706cb1835251e2be.jpg: ignoring corrupt image/label: Label class 2 exceeds dataset class count 1. Possible class labels are 0-0\n",
      "\u001b[34m\u001b[1mtrain: \u001b[0mWARNING ⚠️ /home/rocky/FindMyCat/scratchCat1/datasets/combined-dataset/train/images/yt-UR66VgcaFUk-0022_jpg.rf.d82bdffa27753e20595756a41df48fdc.jpg: ignoring corrupt image/label: Label class 2 exceeds dataset class count 1. Possible class labels are 0-0\n",
      "\u001b[34m\u001b[1mtrain: \u001b[0mWARNING ⚠️ /home/rocky/FindMyCat/scratchCat1/datasets/combined-dataset/train/images/yt-UR66VgcaFUk-0024_jpg.rf.049471deaf49d70c4958789453c3b232.jpg: ignoring corrupt image/label: Label class 5 exceeds dataset class count 1. Possible class labels are 0-0\n",
      "\u001b[34m\u001b[1mtrain: \u001b[0mWARNING ⚠️ /home/rocky/FindMyCat/scratchCat1/datasets/combined-dataset/train/images/yt-UR66VgcaFUk-0025_jpg.rf.8c5ca3013e2444fe921c7932d1661ef3.jpg: ignoring corrupt image/label: Label class 5 exceeds dataset class count 1. Possible class labels are 0-0\n",
      "\u001b[34m\u001b[1mtrain: \u001b[0mWARNING ⚠️ /home/rocky/FindMyCat/scratchCat1/datasets/combined-dataset/train/images/yt-UR66VgcaFUk-0027_jpg.rf.588a9133c8bea4170132740122f6ac22.jpg: ignoring corrupt image/label: Label class 2 exceeds dataset class count 1. Possible class labels are 0-0\n",
      "\u001b[34m\u001b[1mtrain: \u001b[0mWARNING ⚠️ /home/rocky/FindMyCat/scratchCat1/datasets/combined-dataset/train/images/yt-UR66VgcaFUk-0028_jpg.rf.b0133fded934531d284149a9e14b418d.jpg: ignoring corrupt image/label: Label class 2 exceeds dataset class count 1. Possible class labels are 0-0\n",
      "\u001b[34m\u001b[1mtrain: \u001b[0mWARNING ⚠️ /home/rocky/FindMyCat/scratchCat1/datasets/combined-dataset/train/images/yt-UR66VgcaFUk-0030_jpg.rf.6aea805d8ebd1c2c20dd5c6a0da0b51a.jpg: ignoring corrupt image/label: Label class 6 exceeds dataset class count 1. Possible class labels are 0-0\n",
      "\u001b[34m\u001b[1mtrain: \u001b[0mWARNING ⚠️ /home/rocky/FindMyCat/scratchCat1/datasets/combined-dataset/train/images/yt-UR66VgcaFUk-0031_jpg.rf.a5af2f8e1c94ef8ff9ec87cad94e5027.jpg: ignoring corrupt image/label: Label class 5 exceeds dataset class count 1. Possible class labels are 0-0\n",
      "\u001b[34m\u001b[1mtrain: \u001b[0mWARNING ⚠️ /home/rocky/FindMyCat/scratchCat1/datasets/combined-dataset/train/images/yt-UR66VgcaFUk-0032_jpg.rf.ce9791aa7a33374fed015f5fb66e931c.jpg: ignoring corrupt image/label: Label class 5 exceeds dataset class count 1. Possible class labels are 0-0\n",
      "\u001b[34m\u001b[1mtrain: \u001b[0mWARNING ⚠️ /home/rocky/FindMyCat/scratchCat1/datasets/combined-dataset/train/images/yt-UR66VgcaFUk-0035_jpg.rf.8f22236cdcf77315cbc11d8099f8be0c.jpg: ignoring corrupt image/label: Label class 2 exceeds dataset class count 1. Possible class labels are 0-0\n",
      "\u001b[34m\u001b[1mtrain: \u001b[0mWARNING ⚠️ /home/rocky/FindMyCat/scratchCat1/datasets/combined-dataset/train/images/yt-UR66VgcaFUk-0037_jpg.rf.ba516fcbcb86cfb1b936887a8b0cb368.jpg: ignoring corrupt image/label: Label class 5 exceeds dataset class count 1. Possible class labels are 0-0\n",
      "\u001b[34m\u001b[1mtrain: \u001b[0mWARNING ⚠️ /home/rocky/FindMyCat/scratchCat1/datasets/combined-dataset/train/images/yt-UR66VgcaFUk-0038_jpg.rf.5957acfbed2e49869ccb57fcf6306858.jpg: ignoring corrupt image/label: Label class 3 exceeds dataset class count 1. Possible class labels are 0-0\n",
      "\u001b[34m\u001b[1mtrain: \u001b[0mWARNING ⚠️ /home/rocky/FindMyCat/scratchCat1/datasets/combined-dataset/train/images/yt-UR66VgcaFUk-0040_jpg.rf.2ec1a40b842a542737cf5b59640d7f4c.jpg: ignoring corrupt image/label: Label class 5 exceeds dataset class count 1. Possible class labels are 0-0\n",
      "\u001b[34m\u001b[1mtrain: \u001b[0mWARNING ⚠️ /home/rocky/FindMyCat/scratchCat1/datasets/combined-dataset/train/images/yt-UR66VgcaFUk-0041_jpg.rf.0ba3e4eb0caf8d0810f74aa3a4ae4072.jpg: ignoring corrupt image/label: Label class 5 exceeds dataset class count 1. Possible class labels are 0-0\n",
      "\u001b[34m\u001b[1mtrain: \u001b[0mWARNING ⚠️ /home/rocky/FindMyCat/scratchCat1/datasets/combined-dataset/train/images/yt-UR66VgcaFUk-0044_jpg.rf.217ecab0af0113b7682ac7ed3fef1494.jpg: ignoring corrupt image/label: Label class 5 exceeds dataset class count 1. Possible class labels are 0-0\n",
      "\u001b[34m\u001b[1mtrain: \u001b[0mWARNING ⚠️ /home/rocky/FindMyCat/scratchCat1/datasets/combined-dataset/train/images/yt-UR66VgcaFUk-0045_jpg.rf.5fd012f74082477f182e1325c0232713.jpg: ignoring corrupt image/label: Label class 5 exceeds dataset class count 1. Possible class labels are 0-0\n",
      "\u001b[34m\u001b[1mtrain: \u001b[0mWARNING ⚠️ /home/rocky/FindMyCat/scratchCat1/datasets/combined-dataset/train/images/yt-UR66VgcaFUk-0047_jpg.rf.4c88186310eeaf273311ba77b5d047fc.jpg: ignoring corrupt image/label: Label class 5 exceeds dataset class count 1. Possible class labels are 0-0\n",
      "\u001b[34m\u001b[1mtrain: \u001b[0mWARNING ⚠️ /home/rocky/FindMyCat/scratchCat1/datasets/combined-dataset/train/images/yt-UR66VgcaFUk-0051_jpg.rf.c338fb6cedec1607a8176e554b13b059.jpg: ignoring corrupt image/label: Label class 6 exceeds dataset class count 1. Possible class labels are 0-0\n",
      "\u001b[34m\u001b[1mtrain: \u001b[0mWARNING ⚠️ /home/rocky/FindMyCat/scratchCat1/datasets/combined-dataset/train/images/yt-UR66VgcaFUk-0052_jpg.rf.a57786db320b7d286c7df8652069e42c.jpg: ignoring corrupt image/label: Label class 5 exceeds dataset class count 1. Possible class labels are 0-0\n",
      "\u001b[34m\u001b[1mtrain: \u001b[0mWARNING ⚠️ /home/rocky/FindMyCat/scratchCat1/datasets/combined-dataset/train/images/yt-gY0YK6xEeGY-0000_jpg.rf.e0a189f2fed873d1b47d95aa39319e54.jpg: ignoring corrupt image/label: Label class 2 exceeds dataset class count 1. Possible class labels are 0-0\n",
      "\u001b[34m\u001b[1mtrain: \u001b[0mWARNING ⚠️ /home/rocky/FindMyCat/scratchCat1/datasets/combined-dataset/train/images/yt-gY0YK6xEeGY-0002_jpg.rf.4030e0a200eec6b06417b09ba35784d4.jpg: ignoring corrupt image/label: Label class 2 exceeds dataset class count 1. Possible class labels are 0-0\n",
      "\u001b[34m\u001b[1mtrain: \u001b[0mWARNING ⚠️ /home/rocky/FindMyCat/scratchCat1/datasets/combined-dataset/train/images/yt-gY0YK6xEeGY-0003_jpg.rf.be67abd82723538794fbeec1d877d85c.jpg: ignoring corrupt image/label: Label class 2 exceeds dataset class count 1. Possible class labels are 0-0\n",
      "\u001b[34m\u001b[1mtrain: \u001b[0mWARNING ⚠️ /home/rocky/FindMyCat/scratchCat1/datasets/combined-dataset/train/images/yt-gY0YK6xEeGY-0004_jpg.rf.6494e2879ad2dfcce7082f62e64886ed.jpg: ignoring corrupt image/label: Label class 2 exceeds dataset class count 1. Possible class labels are 0-0\n",
      "\u001b[34m\u001b[1mtrain: \u001b[0mWARNING ⚠️ /home/rocky/FindMyCat/scratchCat1/datasets/combined-dataset/train/images/yt-gY0YK6xEeGY-0005_jpg.rf.65c16147e39679a5c755d622c196a5a6.jpg: ignoring corrupt image/label: Label class 2 exceeds dataset class count 1. Possible class labels are 0-0\n",
      "\u001b[34m\u001b[1mtrain: \u001b[0mWARNING ⚠️ /home/rocky/FindMyCat/scratchCat1/datasets/combined-dataset/train/images/yt-gY0YK6xEeGY-0006_jpg.rf.e507bc4b8eb6dbb199efd00ce6b27fa1.jpg: ignoring corrupt image/label: Label class 2 exceeds dataset class count 1. Possible class labels are 0-0\n",
      "\u001b[34m\u001b[1mtrain: \u001b[0mWARNING ⚠️ /home/rocky/FindMyCat/scratchCat1/datasets/combined-dataset/train/images/yt-gY0YK6xEeGY-0007_jpg.rf.d4fded5e2457c8768c8470a0ebbbfa90.jpg: ignoring corrupt image/label: Label class 2 exceeds dataset class count 1. Possible class labels are 0-0\n",
      "\u001b[34m\u001b[1mtrain: \u001b[0mWARNING ⚠️ /home/rocky/FindMyCat/scratchCat1/datasets/combined-dataset/train/images/yt-gY0YK6xEeGY-0008_jpg.rf.8be9fcd243149a3b30f6499fcf6aa40b.jpg: ignoring corrupt image/label: Label class 2 exceeds dataset class count 1. Possible class labels are 0-0\n",
      "\u001b[34m\u001b[1mtrain: \u001b[0mWARNING ⚠️ /home/rocky/FindMyCat/scratchCat1/datasets/combined-dataset/train/images/yt-gY0YK6xEeGY-0010_jpg.rf.7dcd6b06c99c3d95833d97e19007095b.jpg: ignoring corrupt image/label: Label class 2 exceeds dataset class count 1. Possible class labels are 0-0\n",
      "\u001b[34m\u001b[1mtrain: \u001b[0mWARNING ⚠️ /home/rocky/FindMyCat/scratchCat1/datasets/combined-dataset/train/images/yt-gY0YK6xEeGY-0012_jpg.rf.3cd54eeb5c07c75b692084f21ef1485c.jpg: ignoring corrupt image/label: Label class 2 exceeds dataset class count 1. Possible class labels are 0-0\n"
     ]
    },
    {
     "name": "stderr",
     "output_type": "stream",
     "text": [
      "\n"
     ]
    },
    {
     "name": "stdout",
     "output_type": "stream",
     "text": [
      "WARNING ⚠️ Box and segment counts should be equal, but got len(segments) = 4, len(boxes) = 13172. To resolve this only boxes will be used and all segments will be removed. To avoid this please supply either a detect or segment dataset, not a detect-segment mixed dataset.\n",
      "WARNING ⚠️ cache='ram' may produce non-deterministic training results. Consider cache='disk' as a deterministic alternative if your disk space allows.\n"
     ]
    },
    {
     "name": "stderr",
     "output_type": "stream",
     "text": [
      "\u001b[34m\u001b[1mtrain: \u001b[0mCaching images (13.5GB RAM): 100%|██████████| 11791/11791 [00:03<00:00, 2958.99it/s]\u001b[0m\n"
     ]
    },
    {
     "name": "stdout",
     "output_type": "stream",
     "text": [
      "\u001b[34m\u001b[1malbumentations: \u001b[0mBlur(p=0.01, blur_limit=(3, 7)), MedianBlur(p=0.01, blur_limit=(3, 7)), ToGray(p=0.01, num_output_channels=3, method='weighted_average'), CLAHE(p=0.01, clip_limit=(1.0, 4.0), tile_grid_size=(8, 8))\n"
     ]
    },
    {
     "name": "stderr",
     "output_type": "stream",
     "text": [
      "\u001b[34m\u001b[1mval: \u001b[0mScanning /home/rocky/FindMyCat/scratchCat1/datasets/combined-dataset/valid/labels.cache... 2876 images, 488 backgrounds, 32 corrupt: 100%|██████████| 2876/2876 [00\u001b[0m"
     ]
    },
    {
     "name": "stdout",
     "output_type": "stream",
     "text": [
      "\u001b[34m\u001b[1mval: \u001b[0mWARNING ⚠️ /home/rocky/FindMyCat/scratchCat1/datasets/combined-dataset/valid/images/0f2da5ef-124e-4917-8f96-78e4f90c0b32_jpg.rf.f1c53ac49660d7cfa71963b48303ddb0.jpg: ignoring corrupt image/label: Label class 2 exceeds dataset class count 1. Possible class labels are 0-0\n",
      "\u001b[34m\u001b[1mval: \u001b[0mWARNING ⚠️ /home/rocky/FindMyCat/scratchCat1/datasets/combined-dataset/valid/images/1c72c86f-4846-465a-a6ee-87f91d04a8c7_jpg.rf.bbbc00035f4a66fa489487c029cb1dad.jpg: ignoring corrupt image/label: Label class 6 exceeds dataset class count 1. Possible class labels are 0-0\n",
      "\u001b[34m\u001b[1mval: \u001b[0mWARNING ⚠️ /home/rocky/FindMyCat/scratchCat1/datasets/combined-dataset/valid/images/2013010711390213123_jpg.rf.9ab468cd1d338ca599a96ef4b7ecfd28.jpg: ignoring corrupt image/label: Label class 3 exceeds dataset class count 1. Possible class labels are 0-0\n",
      "\u001b[34m\u001b[1mval: \u001b[0mWARNING ⚠️ /home/rocky/FindMyCat/scratchCat1/datasets/combined-dataset/valid/images/2013010711390213124_jpg.rf.da4f1e5e5ae484fb2a7fc38366c0a5ff.jpg: ignoring corrupt image/label: Label class 2 exceeds dataset class count 1. Possible class labels are 0-0\n",
      "\u001b[34m\u001b[1mval: \u001b[0mWARNING ⚠️ /home/rocky/FindMyCat/scratchCat1/datasets/combined-dataset/valid/images/300eb14f-9d9e-4c04-88c9-239dd498a044_jpg.rf.c0569dc7f1f8bdaa362b043f44d0900f.jpg: ignoring corrupt image/label: Label class 5 exceeds dataset class count 1. Possible class labels are 0-0\n",
      "\u001b[34m\u001b[1mval: \u001b[0mWARNING ⚠️ /home/rocky/FindMyCat/scratchCat1/datasets/combined-dataset/valid/images/3bd0ff4f-aa2e-455c-a6c6-bbe74394ccee_jpg.rf.ddda68d0f0b61dbc211febcc8f00c42b.jpg: ignoring corrupt image/label: Label class 5 exceeds dataset class count 1. Possible class labels are 0-0\n",
      "\u001b[34m\u001b[1mval: \u001b[0mWARNING ⚠️ /home/rocky/FindMyCat/scratchCat1/datasets/combined-dataset/valid/images/467e8444-fd26-4159-90a7-9b9b72373893_jpg.rf.9f454cb70bfa16c42f9bea55bc6fd321.jpg: ignoring corrupt image/label: Label class 5 exceeds dataset class count 1. Possible class labels are 0-0\n",
      "\u001b[34m\u001b[1mval: \u001b[0mWARNING ⚠️ /home/rocky/FindMyCat/scratchCat1/datasets/combined-dataset/valid/images/47c90418-00fe-4be3-b039-f91662464c77_jpg.rf.4082860860a59b94369edb496e7111ed.jpg: ignoring corrupt image/label: Label class 5 exceeds dataset class count 1. Possible class labels are 0-0\n",
      "\u001b[34m\u001b[1mval: \u001b[0mWARNING ⚠️ /home/rocky/FindMyCat/scratchCat1/datasets/combined-dataset/valid/images/4b990882-65fa-44c8-884d-6fbfb70f86d1_jpg.rf.9eaa139348b03595fa64b115f872a5bd.jpg: ignoring corrupt image/label: Label class 5 exceeds dataset class count 1. Possible class labels are 0-0\n",
      "\u001b[34m\u001b[1mval: \u001b[0mWARNING ⚠️ /home/rocky/FindMyCat/scratchCat1/datasets/combined-dataset/valid/images/66cde5da-86ee-4010-8af3-58a6ee2a15d1_jpg.rf.5ab069100532ce9cf8a2a10292f49b29.jpg: ignoring corrupt image/label: Label class 5 exceeds dataset class count 1. Possible class labels are 0-0\n",
      "\u001b[34m\u001b[1mval: \u001b[0mWARNING ⚠️ /home/rocky/FindMyCat/scratchCat1/datasets/combined-dataset/valid/images/7c86113a-2db6-4068-a2c2-fd426f369509_jpg.rf.d2eaf528b21ac5dd6436dc274147c294.jpg: ignoring corrupt image/label: Label class 5 exceeds dataset class count 1. Possible class labels are 0-0\n",
      "\u001b[34m\u001b[1mval: \u001b[0mWARNING ⚠️ /home/rocky/FindMyCat/scratchCat1/datasets/combined-dataset/valid/images/7e335748-8d9a-48a3-a89b-46d2560d7138_jpg.rf.e1600b2a35535e340f9221a203a61047.jpg: ignoring corrupt image/label: Label class 5 exceeds dataset class count 1. Possible class labels are 0-0\n",
      "\u001b[34m\u001b[1mval: \u001b[0mWARNING ⚠️ /home/rocky/FindMyCat/scratchCat1/datasets/combined-dataset/valid/images/813fd3f6-58b7-4969-880b-f1624ab7d4a8_jpg.rf.b623d3db7c5f7015357e2c42ccffc9b0.jpg: ignoring corrupt image/label: Label class 5 exceeds dataset class count 1. Possible class labels are 0-0\n",
      "\u001b[34m\u001b[1mval: \u001b[0mWARNING ⚠️ /home/rocky/FindMyCat/scratchCat1/datasets/combined-dataset/valid/images/8d10072c-59d2-4cce-a182-a5613ac17ddd_jpg.rf.c1b191cc11ab60e95aef5abace985037.jpg: ignoring corrupt image/label: Label class 5 exceeds dataset class count 1. Possible class labels are 0-0\n",
      "\u001b[34m\u001b[1mval: \u001b[0mWARNING ⚠️ /home/rocky/FindMyCat/scratchCat1/datasets/combined-dataset/valid/images/a0ecc4e8-6fc2-4b37-b080-d5e61b7b711e_jpg.rf.ee74691e6ba4e44c3184895223ed2555.jpg: ignoring corrupt image/label: Label class 5 exceeds dataset class count 1. Possible class labels are 0-0\n",
      "\u001b[34m\u001b[1mval: \u001b[0mWARNING ⚠️ /home/rocky/FindMyCat/scratchCat1/datasets/combined-dataset/valid/images/cb9eea71-4f06-47ed-ad11-4ea47873fb0b_jpg.rf.d029410b5c2c61ce39ddc4fd55d36c34.jpg: ignoring corrupt image/label: Label class 5 exceeds dataset class count 1. Possible class labels are 0-0\n",
      "\u001b[34m\u001b[1mval: \u001b[0mWARNING ⚠️ /home/rocky/FindMyCat/scratchCat1/datasets/combined-dataset/valid/images/df4f909c-df85-433a-912e-cef28eef8a51_jpg.rf.b666b4dc0f1f8b8058ddbd82ad6ea764.jpg: ignoring corrupt image/label: Label class 5 exceeds dataset class count 1. Possible class labels are 0-0\n",
      "\u001b[34m\u001b[1mval: \u001b[0mWARNING ⚠️ /home/rocky/FindMyCat/scratchCat1/datasets/combined-dataset/valid/images/e1e1060d-a30d-4478-a0b7-129b0ee51b6a_jpg.rf.aedebbad5be083ec68d4381cd3e279ac.jpg: ignoring corrupt image/label: Label class 2 exceeds dataset class count 1. Possible class labels are 0-0\n",
      "\u001b[34m\u001b[1mval: \u001b[0mWARNING ⚠️ /home/rocky/FindMyCat/scratchCat1/datasets/combined-dataset/valid/images/e97cfc98-4841-4eb7-aa8b-b63723202f88_jpg.rf.a1bb69fa89a6f191eef84dae5599ab9a.jpg: ignoring corrupt image/label: Label class 5 exceeds dataset class count 1. Possible class labels are 0-0\n",
      "\u001b[34m\u001b[1mval: \u001b[0mWARNING ⚠️ /home/rocky/FindMyCat/scratchCat1/datasets/combined-dataset/valid/images/f37acafd-5b07-42e3-9990-cdfbd8ba4ff8_jpg.rf.d7f32b8b2bb0de175bde7b1e04a82395.jpg: ignoring corrupt image/label: Label class 5 exceeds dataset class count 1. Possible class labels are 0-0\n",
      "\u001b[34m\u001b[1mval: \u001b[0mWARNING ⚠️ /home/rocky/FindMyCat/scratchCat1/datasets/combined-dataset/valid/images/gayka-1_jpg.rf.3e9fc52aed3fcba987b78aee5c650efc.jpg: ignoring corrupt image/label: Label class 5 exceeds dataset class count 1. Possible class labels are 0-0\n",
      "\u001b[34m\u001b[1mval: \u001b[0mWARNING ⚠️ /home/rocky/FindMyCat/scratchCat1/datasets/combined-dataset/valid/images/yt-UR66VgcaFUk-0009_jpg.rf.f93d61b5886669a719af9ea11349a8a2.jpg: ignoring corrupt image/label: Label class 5 exceeds dataset class count 1. Possible class labels are 0-0\n",
      "\u001b[34m\u001b[1mval: \u001b[0mWARNING ⚠️ /home/rocky/FindMyCat/scratchCat1/datasets/combined-dataset/valid/images/yt-UR66VgcaFUk-0013_jpg.rf.f040b5f00b849c57df74262e5ffc4d24.jpg: ignoring corrupt image/label: Label class 5 exceeds dataset class count 1. Possible class labels are 0-0\n",
      "\u001b[34m\u001b[1mval: \u001b[0mWARNING ⚠️ /home/rocky/FindMyCat/scratchCat1/datasets/combined-dataset/valid/images/yt-UR66VgcaFUk-0026_jpg.rf.e889f2a741b89a8755c78d6f0e174e50.jpg: ignoring corrupt image/label: Label class 5 exceeds dataset class count 1. Possible class labels are 0-0\n",
      "\u001b[34m\u001b[1mval: \u001b[0mWARNING ⚠️ /home/rocky/FindMyCat/scratchCat1/datasets/combined-dataset/valid/images/yt-UR66VgcaFUk-0033_jpg.rf.7179100557facb90a407d50ef69d16d6.jpg: ignoring corrupt image/label: Label class 2 exceeds dataset class count 1. Possible class labels are 0-0\n",
      "\u001b[34m\u001b[1mval: \u001b[0mWARNING ⚠️ /home/rocky/FindMyCat/scratchCat1/datasets/combined-dataset/valid/images/yt-UR66VgcaFUk-0034_jpg.rf.4dd2ecd693e7a896be68d769cefee220.jpg: ignoring corrupt image/label: Label class 5 exceeds dataset class count 1. Possible class labels are 0-0\n",
      "\u001b[34m\u001b[1mval: \u001b[0mWARNING ⚠️ /home/rocky/FindMyCat/scratchCat1/datasets/combined-dataset/valid/images/yt-UR66VgcaFUk-0039_jpg.rf.fcd368a4d4521d6e52fb454ffad25f8e.jpg: ignoring corrupt image/label: Label class 6 exceeds dataset class count 1. Possible class labels are 0-0\n",
      "\u001b[34m\u001b[1mval: \u001b[0mWARNING ⚠️ /home/rocky/FindMyCat/scratchCat1/datasets/combined-dataset/valid/images/yt-UR66VgcaFUk-0043_jpg.rf.09ba0be63be8573bf8c1071b9e957eed.jpg: ignoring corrupt image/label: Label class 5 exceeds dataset class count 1. Possible class labels are 0-0\n",
      "\u001b[34m\u001b[1mval: \u001b[0mWARNING ⚠️ /home/rocky/FindMyCat/scratchCat1/datasets/combined-dataset/valid/images/yt-UR66VgcaFUk-0054_jpg.rf.2d3cc88c369f00c2c05b86f0a5731cea.jpg: ignoring corrupt image/label: Label class 5 exceeds dataset class count 1. Possible class labels are 0-0\n",
      "\u001b[34m\u001b[1mval: \u001b[0mWARNING ⚠️ /home/rocky/FindMyCat/scratchCat1/datasets/combined-dataset/valid/images/yt-gY0YK6xEeGY-0001_jpg.rf.f783e1c6624b1b0302312cd132999b6c.jpg: ignoring corrupt image/label: Label class 2 exceeds dataset class count 1. Possible class labels are 0-0\n",
      "\u001b[34m\u001b[1mval: \u001b[0mWARNING ⚠️ /home/rocky/FindMyCat/scratchCat1/datasets/combined-dataset/valid/images/yt-gY0YK6xEeGY-0009_jpg.rf.1755b97ff90cbc27379fa7fcef0b28e7.jpg: ignoring corrupt image/label: Label class 2 exceeds dataset class count 1. Possible class labels are 0-0\n",
      "\u001b[34m\u001b[1mval: \u001b[0mWARNING ⚠️ /home/rocky/FindMyCat/scratchCat1/datasets/combined-dataset/valid/images/yt-gY0YK6xEeGY-0011_jpg.rf.41e760808ca7071a01dcd2aeb57ac126.jpg: ignoring corrupt image/label: Label class 2 exceeds dataset class count 1. Possible class labels are 0-0\n",
      "WARNING ⚠️ cache='ram' may produce non-deterministic training results. Consider cache='disk' as a deterministic alternative if your disk space allows.\n"
     ]
    },
    {
     "name": "stderr",
     "output_type": "stream",
     "text": [
      "\n",
      "\u001b[34m\u001b[1mval: \u001b[0mCaching images (3.3GB RAM): 100%|██████████| 2844/2844 [00:01<00:00, 2125.51it/s]\u001b[0m\n",
      "[codecarbon INFO @ 16:26:43] Energy consumed for RAM : 0.000180 kWh. RAM Power : 42.987337589263916 W\n",
      "[codecarbon INFO @ 16:26:43] Energy consumed for all GPUs : 0.000233 kWh. Total GPU Power : 54.405538839027805 W\n",
      "[codecarbon INFO @ 16:26:43] Energy consumed for all CPUs : 0.000186 kWh. Total CPU Power : 42.5 W\n",
      "[codecarbon INFO @ 16:26:43] 0.000599 kWh of electricity used since the beginning.\n"
     ]
    },
    {
     "name": "stdout",
     "output_type": "stream",
     "text": [
      "Plotting labels to runs/detect/train/labels.jpg... \n",
      "\u001b[34m\u001b[1moptimizer:\u001b[0m 'optimizer=auto' found, ignoring 'lr0=0.01' and 'momentum=0.937' and determining best 'optimizer', 'lr0' and 'momentum' automatically... \n",
      "\u001b[34m\u001b[1moptimizer:\u001b[0m SGD(lr=0.01, momentum=0.9) with parameter groups 149 weight(decay=0.0), 156 weight(decay=0.00059375), 155 bias(decay=0.0)\n",
      "Resuming training runs/detect/train/weights/last.pt from epoch 47 to 100 total epochs\n"
     ]
    },
    {
     "name": "stderr",
     "output_type": "stream",
     "text": [
      "[codecarbon INFO @ 16:26:57] Energy consumed for RAM : 0.000351 kWh. RAM Power : 42.987337589263916 W\n",
      "[codecarbon INFO @ 16:26:58] Energy consumed for all GPUs : 0.000459 kWh. Total GPU Power : 56.614582444383935 W\n",
      "[codecarbon INFO @ 16:26:58] Energy consumed for all CPUs : 0.000356 kWh. Total CPU Power : 42.5 W\n",
      "[codecarbon INFO @ 16:26:58] 0.001165 kWh of electricity used since the beginning.\n"
     ]
    },
    {
     "name": "stdout",
     "output_type": "stream",
     "text": [
      "\u001b[34m\u001b[1mTensorBoard: \u001b[0mmodel graph visualization added ✅\n",
      "Image sizes 640 train, 640 val\n",
      "Using 8 dataloader workers\n",
      "Logging results to \u001b[1mruns/detect/train\u001b[0m\n",
      "Starting training for 100 epochs...\n",
      "\n",
      "      Epoch    GPU_mem   box_loss   cls_loss   dfl_loss  Instances       Size\n"
     ]
    },
    {
     "name": "stderr",
     "output_type": "stream",
     "text": [
      "     47/100      38.3G     0.2738     0.2089     0.9424        187        640:   5%|▌         | 8/156 [00:05<01:38,  1.50it/s][codecarbon INFO @ 16:27:12] Energy consumed for RAM : 0.000529 kWh. RAM Power : 42.987337589263916 W\n",
      "[codecarbon INFO @ 16:27:13] Energy consumed for all GPUs : 0.000959 kWh. Total GPU Power : 120.87204945172135 W\n",
      "[codecarbon INFO @ 16:27:13] Energy consumed for all CPUs : 0.000532 kWh. Total CPU Power : 42.5 W\n",
      "[codecarbon INFO @ 16:27:13] 0.002020 kWh of electricity used since the beginning.\n",
      "     47/100      38.3G      0.281     0.2103     0.9378        198        640:  19%|█▉        | 30/156 [00:20<01:22,  1.52it/s][codecarbon INFO @ 16:27:27] Energy consumed for RAM : 0.000708 kWh. RAM Power : 42.987337589263916 W\n",
      "[codecarbon INFO @ 16:27:28] Energy consumed for all GPUs : 0.001992 kWh. Total GPU Power : 247.87088996345898 W\n",
      "[codecarbon INFO @ 16:27:28] Energy consumed for all CPUs : 0.000709 kWh. Total CPU Power : 42.5 W\n",
      "[codecarbon INFO @ 16:27:28] 0.003408 kWh of electricity used since the beginning.\n",
      "     47/100      38.3G     0.2824     0.2107     0.9368        174        640:  34%|███▍      | 53/156 [00:35<01:07,  1.52it/s][codecarbon INFO @ 16:27:42] Energy consumed for RAM : 0.000887 kWh. RAM Power : 42.987337589263916 W\n",
      "[codecarbon INFO @ 16:27:43] Energy consumed for all GPUs : 0.003046 kWh. Total GPU Power : 253.12134381728023 W\n",
      "[codecarbon INFO @ 16:27:43] Energy consumed for all CPUs : 0.000886 kWh. Total CPU Power : 42.5 W\n",
      "[codecarbon INFO @ 16:27:43] 0.004819 kWh of electricity used since the beginning.\n",
      "     47/100      38.3G      0.287     0.2161     0.9397        161        640:  49%|████▊     | 76/156 [00:50<00:52,  1.52it/s][codecarbon INFO @ 16:27:57] Energy consumed for RAM : 0.001066 kWh. RAM Power : 42.987337589263916 W\n",
      "[codecarbon INFO @ 16:27:58] Energy consumed for all GPUs : 0.004102 kWh. Total GPU Power : 253.57392403312545 W\n",
      "[codecarbon INFO @ 16:27:58] Energy consumed for all CPUs : 0.001063 kWh. Total CPU Power : 42.5 W\n",
      "[codecarbon INFO @ 16:27:58] 0.006231 kWh of electricity used since the beginning.\n",
      "     47/100      38.3G     0.2896     0.2185     0.9416        175        640:  63%|██████▎   | 99/156 [01:05<00:37,  1.53it/s][codecarbon INFO @ 16:28:12] Energy consumed for RAM : 0.001245 kWh. RAM Power : 42.987337589263916 W\n",
      "[codecarbon INFO @ 16:28:13] Energy consumed for all GPUs : 0.005173 kWh. Total GPU Power : 257.0145218183266 W\n",
      "[codecarbon INFO @ 16:28:13] Energy consumed for all CPUs : 0.001240 kWh. Total CPU Power : 42.5 W\n",
      "[codecarbon INFO @ 16:28:13] 0.007658 kWh of electricity used since the beginning.\n",
      "     47/100      38.3G       0.29     0.2193     0.9416        169        640:  78%|███████▊  | 122/156 [01:20<00:22,  1.52it/s][codecarbon INFO @ 16:28:27] Energy consumed for RAM : 0.001424 kWh. RAM Power : 42.987337589263916 W\n",
      "[codecarbon INFO @ 16:28:28] Energy consumed for all GPUs : 0.006248 kWh. Total GPU Power : 258.04845160796634 W\n",
      "[codecarbon INFO @ 16:28:28] Energy consumed for all CPUs : 0.001417 kWh. Total CPU Power : 42.5 W\n",
      "[codecarbon INFO @ 16:28:28] 0.009089 kWh of electricity used since the beginning.\n",
      "[codecarbon ERROR @ 16:28:28] Region:  not found for Country with ISO CODE : USA\n",
      "Traceback (most recent call last):\n",
      "  File \"/home/rocky/miniconda3/envs/jupyterlab/lib/python3.12/site-packages/codecarbon/core/emissions.py\", line 142, in get_private_infra_emissions\n",
      "    return self.get_region_emissions(energy, geo)\n",
      "           ^^^^^^^^^^^^^^^^^^^^^^^^^^^^^^^^^^^^^^\n",
      "  File \"/home/rocky/miniconda3/envs/jupyterlab/lib/python3.12/site-packages/codecarbon/core/emissions.py\", line 168, in get_region_emissions\n",
      "    raise ValueError(\n",
      "ValueError: Region:  not found for Country with ISO CODE : USA\n",
      "[codecarbon WARNING @ 16:28:28] Regional emissions retrieval failed. Falling back on country emissions.\n",
      "[codecarbon INFO @ 16:28:28] 0.027963 g.CO2eq/s mean an estimation of 881.8292327418952 kg.CO2eq/year\n",
      "     47/100      38.3G     0.2915     0.2205     0.9431        166        640:  93%|█████████▎| 145/156 [01:35<00:07,  1.53it/s][codecarbon INFO @ 16:28:43] Energy consumed for RAM : 0.001603 kWh. RAM Power : 42.987337589263916 W\n",
      "[codecarbon INFO @ 16:28:43] Energy consumed for all GPUs : 0.007322 kWh. Total GPU Power : 257.7338251590464 W\n",
      "[codecarbon INFO @ 16:28:43] Energy consumed for all CPUs : 0.001594 kWh. Total CPU Power : 42.5 W\n",
      "[codecarbon INFO @ 16:28:43] 0.010519 kWh of electricity used since the beginning.\n",
      "     47/100      38.3G     0.2928     0.2209     0.9436         26        640: 100%|██████████| 156/156 [01:42<00:00,  1.52it/s]\n",
      "                 Class     Images  Instances      Box(P          R      mAP50  mAP50-95):  63%|██████▎   | 12/19 [00:07<00:04,  1.66it/s][codecarbon INFO @ 16:28:58] Energy consumed for RAM : 0.001782 kWh. RAM Power : 42.987337589263916 W\n",
      "[codecarbon INFO @ 16:28:58] Energy consumed for all GPUs : 0.008282 kWh. Total GPU Power : 230.69890587895628 W\n",
      "[codecarbon INFO @ 16:28:58] Energy consumed for all CPUs : 0.001771 kWh. Total CPU Power : 42.5 W\n",
      "[codecarbon INFO @ 16:28:58] 0.011836 kWh of electricity used since the beginning.\n",
      "                 Class     Images  Instances      Box(P          R      mAP50  mAP50-95): 100%|██████████| 19/19 [00:11<00:00,  1.63it/s]"
     ]
    },
    {
     "name": "stdout",
     "output_type": "stream",
     "text": [
      "                   all       2844       3135      0.969      0.939      0.981      0.888\n"
     ]
    },
    {
     "name": "stderr",
     "output_type": "stream",
     "text": [
      "\n"
     ]
    },
    {
     "name": "stdout",
     "output_type": "stream",
     "text": [
      "\n",
      "      Epoch    GPU_mem   box_loss   cls_loss   dfl_loss  Instances       Size\n"
     ]
    },
    {
     "name": "stderr",
     "output_type": "stream",
     "text": [
      "     48/100        38G     0.2872     0.2238     0.9337        178        640:  10%|▉         | 15/156 [00:09<01:33,  1.52it/s][codecarbon INFO @ 16:29:13] Energy consumed for RAM : 0.001961 kWh. RAM Power : 42.987337589263916 W\n",
      "[codecarbon INFO @ 16:29:13] Energy consumed for all GPUs : 0.009264 kWh. Total GPU Power : 235.73628566680785 W\n",
      "[codecarbon INFO @ 16:29:13] Energy consumed for all CPUs : 0.001948 kWh. Total CPU Power : 42.5 W\n",
      "[codecarbon INFO @ 16:29:13] 0.013174 kWh of electricity used since the beginning.\n",
      "     48/100        38G     0.2954     0.2284     0.9441        148        640:  24%|██▍       | 38/156 [00:25<01:17,  1.53it/s][codecarbon INFO @ 16:29:28] Energy consumed for RAM : 0.002140 kWh. RAM Power : 42.987337589263916 W\n",
      "[codecarbon INFO @ 16:29:28] Energy consumed for all GPUs : 0.010344 kWh. Total GPU Power : 259.1570754465558 W\n",
      "[codecarbon INFO @ 16:29:28] Energy consumed for all CPUs : 0.002125 kWh. Total CPU Power : 42.5 W\n",
      "[codecarbon INFO @ 16:29:28] 0.014610 kWh of electricity used since the beginning.\n",
      "     48/100        38G     0.2946     0.2258     0.9412        193        640:  39%|███▉      | 61/156 [00:40<01:02,  1.53it/s][codecarbon INFO @ 16:29:43] Energy consumed for RAM : 0.002319 kWh. RAM Power : 42.987337589263916 W\n",
      "[codecarbon INFO @ 16:29:43] Energy consumed for all GPUs : 0.011426 kWh. Total GPU Power : 259.841587850292 W\n",
      "[codecarbon INFO @ 16:29:43] Energy consumed for all CPUs : 0.002302 kWh. Total CPU Power : 42.5 W\n",
      "[codecarbon INFO @ 16:29:43] 0.016048 kWh of electricity used since the beginning.\n",
      "     48/100        38G      0.292     0.2245     0.9407        190        640:  54%|█████▍    | 84/156 [00:55<00:47,  1.52it/s][codecarbon INFO @ 16:29:58] Energy consumed for RAM : 0.002498 kWh. RAM Power : 42.987337589263916 W\n",
      "[codecarbon INFO @ 16:29:58] Energy consumed for all GPUs : 0.012506 kWh. Total GPU Power : 259.3271128981739 W\n",
      "[codecarbon INFO @ 16:29:58] Energy consumed for all CPUs : 0.002480 kWh. Total CPU Power : 42.5 W\n",
      "[codecarbon INFO @ 16:29:58] 0.017484 kWh of electricity used since the beginning.\n",
      "     48/100        38G     0.2942      0.225     0.9433        184        640:  69%|██████▊   | 107/156 [01:10<00:32,  1.53it/s][codecarbon INFO @ 16:30:13] Energy consumed for RAM : 0.002677 kWh. RAM Power : 42.987337589263916 W\n",
      "[codecarbon INFO @ 16:30:13] Energy consumed for all GPUs : 0.013594 kWh. Total GPU Power : 260.9771413174841 W\n",
      "[codecarbon INFO @ 16:30:13] Energy consumed for all CPUs : 0.002657 kWh. Total CPU Power : 42.5 W\n",
      "[codecarbon INFO @ 16:30:13] 0.018928 kWh of electricity used since the beginning.\n",
      "     48/100        38G     0.2926     0.2244     0.9426        165        640:  83%|████████▎ | 129/156 [01:24<00:17,  1.52it/s][codecarbon INFO @ 16:30:28] Energy consumed for RAM : 0.002856 kWh. RAM Power : 42.987337589263916 W\n",
      "[codecarbon INFO @ 16:30:28] Energy consumed for all GPUs : 0.014680 kWh. Total GPU Power : 260.88032943449355 W\n",
      "[codecarbon INFO @ 16:30:28] Energy consumed for all CPUs : 0.002834 kWh. Total CPU Power : 42.5 W\n",
      "[codecarbon INFO @ 16:30:28] 0.020370 kWh of electricity used since the beginning.\n",
      "[codecarbon ERROR @ 16:30:28] Region:  not found for Country with ISO CODE : USA\n",
      "Traceback (most recent call last):\n",
      "  File \"/home/rocky/miniconda3/envs/jupyterlab/lib/python3.12/site-packages/codecarbon/core/emissions.py\", line 142, in get_private_infra_emissions\n",
      "    return self.get_region_emissions(energy, geo)\n",
      "           ^^^^^^^^^^^^^^^^^^^^^^^^^^^^^^^^^^^^^^\n",
      "  File \"/home/rocky/miniconda3/envs/jupyterlab/lib/python3.12/site-packages/codecarbon/core/emissions.py\", line 168, in get_region_emissions\n",
      "    raise ValueError(\n",
      "ValueError: Region:  not found for Country with ISO CODE : USA\n",
      "[codecarbon WARNING @ 16:30:28] Regional emissions retrieval failed. Falling back on country emissions.\n",
      "[codecarbon INFO @ 16:30:28] 0.034734 g.CO2eq/s mean an estimation of 1,095.3581960479098 kg.CO2eq/year\n",
      "     48/100        38G     0.2918     0.2237     0.9428        166        640:  97%|█████████▋| 152/156 [01:39<00:02,  1.52it/s][codecarbon INFO @ 16:30:43] Energy consumed for RAM : 0.003036 kWh. RAM Power : 42.987337589263916 W\n",
      "[codecarbon INFO @ 16:30:43] Energy consumed for all GPUs : 0.015764 kWh. Total GPU Power : 260.19869206243936 W\n",
      "[codecarbon INFO @ 16:30:43] Energy consumed for all CPUs : 0.003011 kWh. Total CPU Power : 42.5 W\n",
      "[codecarbon INFO @ 16:30:43] 0.021811 kWh of electricity used since the beginning.\n",
      "     48/100        38G     0.2922     0.2242     0.9431         23        640: 100%|██████████| 156/156 [01:41<00:00,  1.53it/s]\n",
      "                 Class     Images  Instances      Box(P          R      mAP50  mAP50-95): 100%|██████████| 19/19 [00:11<00:00,  1.63it/s]"
     ]
    },
    {
     "name": "stdout",
     "output_type": "stream",
     "text": [
      "                   all       2844       3135      0.958      0.949      0.984      0.891\n"
     ]
    },
    {
     "name": "stderr",
     "output_type": "stream",
     "text": [
      "\n"
     ]
    },
    {
     "name": "stdout",
     "output_type": "stream",
     "text": [
      "\n",
      "      Epoch    GPU_mem   box_loss   cls_loss   dfl_loss  Instances       Size\n"
     ]
    },
    {
     "name": "stderr",
     "output_type": "stream",
     "text": [
      "  0%|          | 0/156 [00:00<?, ?it/s][codecarbon INFO @ 16:30:58] Energy consumed for RAM : 0.003215 kWh. RAM Power : 42.987337589263916 W\n",
      "[codecarbon INFO @ 16:30:58] Energy consumed for all GPUs : 0.016658 kWh. Total GPU Power : 214.53526855774035 W\n",
      "[codecarbon INFO @ 16:30:58] Energy consumed for all CPUs : 0.003188 kWh. Total CPU Power : 42.5 W\n",
      "[codecarbon INFO @ 16:30:58] 0.023060 kWh of electricity used since the beginning.\n",
      "     49/100      37.9G     0.2975     0.2282     0.9484        165        640:  15%|█▍        | 23/156 [00:15<01:26,  1.53it/s][codecarbon INFO @ 16:31:13] Energy consumed for RAM : 0.003394 kWh. RAM Power : 42.987337589263916 W\n",
      "[codecarbon INFO @ 16:31:13] Energy consumed for all GPUs : 0.017735 kWh. Total GPU Power : 258.5947899122235 W\n",
      "[codecarbon INFO @ 16:31:13] Energy consumed for all CPUs : 0.003365 kWh. Total CPU Power : 42.5 W\n",
      "[codecarbon INFO @ 16:31:13] 0.024494 kWh of electricity used since the beginning.\n",
      "     49/100      37.9G     0.2922     0.2299     0.9428        192        640:  29%|██▉       | 46/156 [00:30<01:12,  1.53it/s][codecarbon INFO @ 16:31:28] Energy consumed for RAM : 0.003573 kWh. RAM Power : 42.987337589263916 W\n",
      "[codecarbon INFO @ 16:31:28] Energy consumed for all GPUs : 0.018807 kWh. Total GPU Power : 257.39894135838665 W\n",
      "[codecarbon INFO @ 16:31:28] Energy consumed for all CPUs : 0.003542 kWh. Total CPU Power : 42.5 W\n",
      "[codecarbon INFO @ 16:31:28] 0.025922 kWh of electricity used since the beginning.\n",
      "     49/100      37.9G     0.2882     0.2267     0.9399        176        640:  44%|████▍     | 69/156 [00:45<00:56,  1.53it/s][codecarbon INFO @ 16:31:43] Energy consumed for RAM : 0.003752 kWh. RAM Power : 42.987337589263916 W\n",
      "[codecarbon INFO @ 16:31:43] Energy consumed for all GPUs : 0.019889 kWh. Total GPU Power : 259.6149036632481 W\n",
      "[codecarbon INFO @ 16:31:43] Energy consumed for all CPUs : 0.003719 kWh. Total CPU Power : 42.5 W\n",
      "[codecarbon INFO @ 16:31:43] 0.027360 kWh of electricity used since the beginning.\n",
      "     49/100      37.9G     0.2884     0.2248     0.9417        185        640:  59%|█████▉    | 92/156 [01:00<00:42,  1.52it/s][codecarbon INFO @ 16:31:58] Energy consumed for RAM : 0.003931 kWh. RAM Power : 42.987337589263916 W\n",
      "[codecarbon INFO @ 16:31:58] Energy consumed for all GPUs : 0.020972 kWh. Total GPU Power : 260.1383514209519 W\n",
      "[codecarbon INFO @ 16:31:58] Energy consumed for all CPUs : 0.003896 kWh. Total CPU Power : 42.5 W\n",
      "[codecarbon INFO @ 16:31:58] 0.028799 kWh of electricity used since the beginning.\n",
      "     49/100      37.9G     0.2889     0.2241     0.9419        182        640:  74%|███████▎  | 115/156 [01:15<00:26,  1.52it/s][codecarbon INFO @ 16:32:13] Energy consumed for RAM : 0.004110 kWh. RAM Power : 42.987337589263916 W\n",
      "[codecarbon INFO @ 16:32:13] Energy consumed for all GPUs : 0.022054 kWh. Total GPU Power : 259.7951619161603 W\n",
      "[codecarbon INFO @ 16:32:13] Energy consumed for all CPUs : 0.004073 kWh. Total CPU Power : 42.5 W\n",
      "[codecarbon INFO @ 16:32:13] 0.030237 kWh of electricity used since the beginning.\n",
      "     49/100      37.9G     0.2891     0.2239     0.9419        164        640:  88%|████████▊ | 137/156 [01:29<00:12,  1.52it/s][codecarbon INFO @ 16:32:28] Energy consumed for RAM : 0.004289 kWh. RAM Power : 42.987337589263916 W\n",
      "[codecarbon INFO @ 16:32:28] Energy consumed for all GPUs : 0.023141 kWh. Total GPU Power : 260.87002188200086 W\n",
      "[codecarbon INFO @ 16:32:28] Energy consumed for all CPUs : 0.004250 kWh. Total CPU Power : 42.5 W\n",
      "[codecarbon INFO @ 16:32:28] 0.031680 kWh of electricity used since the beginning.\n",
      "[codecarbon ERROR @ 16:32:28] Region:  not found for Country with ISO CODE : USA\n",
      "Traceback (most recent call last):\n",
      "  File \"/home/rocky/miniconda3/envs/jupyterlab/lib/python3.12/site-packages/codecarbon/core/emissions.py\", line 142, in get_private_infra_emissions\n",
      "    return self.get_region_emissions(energy, geo)\n",
      "           ^^^^^^^^^^^^^^^^^^^^^^^^^^^^^^^^^^^^^^\n",
      "  File \"/home/rocky/miniconda3/envs/jupyterlab/lib/python3.12/site-packages/codecarbon/core/emissions.py\", line 168, in get_region_emissions\n",
      "    raise ValueError(\n",
      "ValueError: Region:  not found for Country with ISO CODE : USA\n",
      "[codecarbon WARNING @ 16:32:28] Regional emissions retrieval failed. Falling back on country emissions.\n",
      "[codecarbon INFO @ 16:32:28] 0.034820 g.CO2eq/s mean an estimation of 1,098.0972663013777 kg.CO2eq/year\n",
      "     49/100      37.9G     0.2883     0.2235     0.9401         29        640: 100%|██████████| 156/156 [01:41<00:00,  1.53it/s]\n",
      "                 Class     Images  Instances      Box(P          R      mAP50  mAP50-95):  26%|██▋       | 5/19 [00:03<00:09,  1.54it/s][codecarbon INFO @ 16:32:43] Energy consumed for RAM : 0.004468 kWh. RAM Power : 42.987337589263916 W\n",
      "[codecarbon INFO @ 16:32:43] Energy consumed for all GPUs : 0.024174 kWh. Total GPU Power : 247.85316840131907 W\n",
      "[codecarbon INFO @ 16:32:43] Energy consumed for all CPUs : 0.004427 kWh. Total CPU Power : 42.5 W\n",
      "[codecarbon INFO @ 16:32:43] 0.033069 kWh of electricity used since the beginning.\n",
      "                 Class     Images  Instances      Box(P          R      mAP50  mAP50-95): 100%|██████████| 19/19 [00:11<00:00,  1.67it/s]"
     ]
    },
    {
     "name": "stdout",
     "output_type": "stream",
     "text": [
      "                   all       2844       3135      0.965      0.949      0.982      0.892\n"
     ]
    },
    {
     "name": "stderr",
     "output_type": "stream",
     "text": [
      "\n"
     ]
    },
    {
     "name": "stdout",
     "output_type": "stream",
     "text": [
      "\n",
      "      Epoch    GPU_mem   box_loss   cls_loss   dfl_loss  Instances       Size\n"
     ]
    },
    {
     "name": "stderr",
     "output_type": "stream",
     "text": [
      "     50/100        38G     0.3037     0.2241     0.9439        180        640:   5%|▌         | 8/156 [00:05<01:40,  1.48it/s][codecarbon INFO @ 16:32:58] Energy consumed for RAM : 0.004647 kWh. RAM Power : 42.987337589263916 W\n",
      "[codecarbon INFO @ 16:32:58] Energy consumed for all GPUs : 0.025075 kWh. Total GPU Power : 216.49927424740957 W\n",
      "[codecarbon INFO @ 16:32:58] Energy consumed for all CPUs : 0.004604 kWh. Total CPU Power : 42.5 W\n",
      "[codecarbon INFO @ 16:32:58] 0.034327 kWh of electricity used since the beginning.\n",
      "     50/100        38G     0.2902     0.2202     0.9422        164        640:  19%|█▉        | 30/156 [00:20<01:22,  1.52it/s][codecarbon INFO @ 16:33:13] Energy consumed for RAM : 0.004826 kWh. RAM Power : 42.987337589263916 W\n",
      "[codecarbon INFO @ 16:33:13] Energy consumed for all GPUs : 0.026152 kWh. Total GPU Power : 258.5639589035402 W\n",
      "[codecarbon INFO @ 16:33:13] Energy consumed for all CPUs : 0.004782 kWh. Total CPU Power : 42.5 W\n",
      "[codecarbon INFO @ 16:33:13] 0.035760 kWh of electricity used since the beginning.\n",
      "     50/100        38G     0.2864     0.2201     0.9383        187        640:  34%|███▍      | 53/156 [00:35<01:07,  1.51it/s][codecarbon INFO @ 16:33:28] Energy consumed for RAM : 0.005005 kWh. RAM Power : 42.987337589263916 W\n",
      "[codecarbon INFO @ 16:33:28] Energy consumed for all GPUs : 0.027230 kWh. Total GPU Power : 258.6886317008433 W\n",
      "[codecarbon INFO @ 16:33:28] Energy consumed for all CPUs : 0.004959 kWh. Total CPU Power : 42.5 W\n",
      "[codecarbon INFO @ 16:33:28] 0.037194 kWh of electricity used since the beginning.\n",
      "     50/100        38G     0.2833     0.2181     0.9368        184        640:  49%|████▊     | 76/156 [00:50<00:52,  1.52it/s][codecarbon INFO @ 16:33:43] Energy consumed for RAM : 0.005184 kWh. RAM Power : 42.987337589263916 W\n",
      "[codecarbon INFO @ 16:33:43] Energy consumed for all GPUs : 0.028304 kWh. Total GPU Power : 257.7820788768926 W\n",
      "[codecarbon INFO @ 16:33:43] Energy consumed for all CPUs : 0.005136 kWh. Total CPU Power : 42.5 W\n",
      "[codecarbon INFO @ 16:33:43] 0.038623 kWh of electricity used since the beginning.\n",
      "     50/100        38G     0.2853     0.2208     0.9389        172        640:  63%|██████▎   | 99/156 [01:05<00:37,  1.53it/s][codecarbon INFO @ 16:33:58] Energy consumed for RAM : 0.005363 kWh. RAM Power : 42.987337589263916 W\n",
      "[codecarbon INFO @ 16:33:58] Energy consumed for all GPUs : 0.029384 kWh. Total GPU Power : 259.2923895776603 W\n",
      "[codecarbon INFO @ 16:33:58] Energy consumed for all CPUs : 0.005313 kWh. Total CPU Power : 42.5 W\n",
      "[codecarbon INFO @ 16:33:58] 0.040060 kWh of electricity used since the beginning.\n",
      "     50/100        38G     0.2835     0.2191     0.9385        187        640:  78%|███████▊  | 122/156 [01:20<00:22,  1.53it/s][codecarbon INFO @ 16:34:13] Energy consumed for RAM : 0.005542 kWh. RAM Power : 42.987337589263916 W\n",
      "[codecarbon INFO @ 16:34:13] Energy consumed for all GPUs : 0.030466 kWh. Total GPU Power : 259.7018746235934 W\n",
      "[codecarbon INFO @ 16:34:13] Energy consumed for all CPUs : 0.005490 kWh. Total CPU Power : 42.5 W\n",
      "[codecarbon INFO @ 16:34:13] 0.041498 kWh of electricity used since the beginning.\n",
      "     50/100        38G     0.2833     0.2174     0.9391        156        640:  93%|█████████▎| 145/156 [01:35<00:07,  1.53it/s][codecarbon INFO @ 16:34:28] Energy consumed for RAM : 0.005721 kWh. RAM Power : 42.987337589263916 W\n",
      "[codecarbon INFO @ 16:34:28] Energy consumed for all GPUs : 0.031550 kWh. Total GPU Power : 260.4540532291448 W\n",
      "[codecarbon INFO @ 16:34:28] Energy consumed for all CPUs : 0.005667 kWh. Total CPU Power : 42.5 W\n",
      "[codecarbon INFO @ 16:34:28] 0.042939 kWh of electricity used since the beginning.\n",
      "[codecarbon ERROR @ 16:34:28] Region:  not found for Country with ISO CODE : USA\n",
      "Traceback (most recent call last):\n",
      "  File \"/home/rocky/miniconda3/envs/jupyterlab/lib/python3.12/site-packages/codecarbon/core/emissions.py\", line 142, in get_private_infra_emissions\n",
      "    return self.get_region_emissions(energy, geo)\n",
      "           ^^^^^^^^^^^^^^^^^^^^^^^^^^^^^^^^^^^^^^\n",
      "  File \"/home/rocky/miniconda3/envs/jupyterlab/lib/python3.12/site-packages/codecarbon/core/emissions.py\", line 168, in get_region_emissions\n",
      "    raise ValueError(\n",
      "ValueError: Region:  not found for Country with ISO CODE : USA\n",
      "[codecarbon WARNING @ 16:34:28] Regional emissions retrieval failed. Falling back on country emissions.\n",
      "[codecarbon INFO @ 16:34:28] 0.034662 g.CO2eq/s mean an estimation of 1,093.1100142578478 kg.CO2eq/year\n",
      "     50/100        38G     0.2824      0.217     0.9391         17        640: 100%|██████████| 156/156 [01:42<00:00,  1.52it/s]\n",
      "                 Class     Images  Instances      Box(P          R      mAP50  mAP50-95):  63%|██████▎   | 12/19 [00:07<00:04,  1.64it/s][codecarbon INFO @ 16:34:43] Energy consumed for RAM : 0.005900 kWh. RAM Power : 42.987337589263916 W\n",
      "[codecarbon INFO @ 16:34:43] Energy consumed for all GPUs : 0.032525 kWh. Total GPU Power : 233.97791016158968 W\n",
      "[codecarbon INFO @ 16:34:43] Energy consumed for all CPUs : 0.005844 kWh. Total CPU Power : 42.5 W\n",
      "[codecarbon INFO @ 16:34:43] 0.044269 kWh of electricity used since the beginning.\n",
      "                 Class     Images  Instances      Box(P          R      mAP50  mAP50-95): 100%|██████████| 19/19 [00:11<00:00,  1.62it/s]"
     ]
    },
    {
     "name": "stdout",
     "output_type": "stream",
     "text": [
      "                   all       2844       3135      0.958      0.946      0.984      0.892\n"
     ]
    },
    {
     "name": "stderr",
     "output_type": "stream",
     "text": [
      "\n"
     ]
    },
    {
     "name": "stdout",
     "output_type": "stream",
     "text": [
      "\n",
      "      Epoch    GPU_mem   box_loss   cls_loss   dfl_loss  Instances       Size\n"
     ]
    },
    {
     "name": "stderr",
     "output_type": "stream",
     "text": [
      "     51/100        38G     0.2781     0.2126     0.9309        172        640:  10%|█         | 16/156 [00:10<01:32,  1.51it/s][codecarbon INFO @ 16:34:58] Energy consumed for RAM : 0.006079 kWh. RAM Power : 42.987337589263916 W\n",
      "[codecarbon INFO @ 16:34:58] Energy consumed for all GPUs : 0.033524 kWh. Total GPU Power : 239.70345452852294 W\n",
      "[codecarbon INFO @ 16:34:58] Energy consumed for all CPUs : 0.006021 kWh. Total CPU Power : 42.5 W\n",
      "[codecarbon INFO @ 16:34:58] 0.045624 kWh of electricity used since the beginning.\n",
      "     51/100        38G     0.2804     0.2165     0.9324        166        640:  24%|██▍       | 38/156 [00:25<01:17,  1.52it/s][codecarbon INFO @ 16:35:13] Energy consumed for RAM : 0.006258 kWh. RAM Power : 42.987337589263916 W\n",
      "[codecarbon INFO @ 16:35:13] Energy consumed for all GPUs : 0.034603 kWh. Total GPU Power : 259.2771916461268 W\n",
      "[codecarbon INFO @ 16:35:13] Energy consumed for all CPUs : 0.006198 kWh. Total CPU Power : 42.5 W\n",
      "[codecarbon INFO @ 16:35:13] 0.047060 kWh of electricity used since the beginning.\n",
      "     51/100        38G     0.2818     0.2153     0.9361        176        640:  39%|███▉      | 61/156 [00:40<01:02,  1.53it/s][codecarbon INFO @ 16:35:28] Energy consumed for RAM : 0.006437 kWh. RAM Power : 42.987337589263916 W\n",
      "[codecarbon INFO @ 16:35:28] Energy consumed for all GPUs : 0.035682 kWh. Total GPU Power : 258.87691650336325 W\n",
      "[codecarbon INFO @ 16:35:28] Energy consumed for all CPUs : 0.006375 kWh. Total CPU Power : 42.5 W\n",
      "[codecarbon INFO @ 16:35:28] 0.048494 kWh of electricity used since the beginning.\n",
      "     51/100        38G     0.2817      0.215     0.9372        180        640:  54%|█████▍    | 84/156 [00:55<00:47,  1.52it/s][codecarbon INFO @ 16:35:43] Energy consumed for RAM : 0.006616 kWh. RAM Power : 42.987337589263916 W\n",
      "[codecarbon INFO @ 16:35:43] Energy consumed for all GPUs : 0.036753 kWh. Total GPU Power : 257.13179178425713 W\n",
      "[codecarbon INFO @ 16:35:43] Energy consumed for all CPUs : 0.006552 kWh. Total CPU Power : 42.5 W\n",
      "[codecarbon INFO @ 16:35:43] 0.049921 kWh of electricity used since the beginning.\n",
      "     51/100        38G     0.2809     0.2152     0.9382        180        640:  69%|██████▊   | 107/156 [01:10<00:32,  1.52it/s][codecarbon INFO @ 16:35:58] Energy consumed for RAM : 0.006795 kWh. RAM Power : 42.987337589263916 W\n",
      "[codecarbon INFO @ 16:35:58] Energy consumed for all GPUs : 0.037833 kWh. Total GPU Power : 259.2647941568533 W\n",
      "[codecarbon INFO @ 16:35:58] Energy consumed for all CPUs : 0.006729 kWh. Total CPU Power : 42.5 W\n",
      "[codecarbon INFO @ 16:35:58] 0.051357 kWh of electricity used since the beginning.\n",
      "     51/100        38G     0.2806     0.2151     0.9387        156        640:  83%|████████▎ | 130/156 [01:25<00:17,  1.53it/s][codecarbon INFO @ 16:36:13] Energy consumed for RAM : 0.006974 kWh. RAM Power : 42.987337589263916 W\n",
      "[codecarbon INFO @ 16:36:13] Energy consumed for all GPUs : 0.038917 kWh. Total GPU Power : 260.39972184763525 W\n",
      "[codecarbon INFO @ 16:36:13] Energy consumed for all CPUs : 0.006906 kWh. Total CPU Power : 42.5 W\n",
      "[codecarbon INFO @ 16:36:13] 0.052798 kWh of electricity used since the beginning.\n",
      "     51/100        38G     0.2815     0.2166     0.9396        168        640:  98%|█████████▊| 153/156 [01:40<00:01,  1.53it/s][codecarbon INFO @ 16:36:28] Energy consumed for RAM : 0.007153 kWh. RAM Power : 42.987337589263916 W\n",
      "[codecarbon INFO @ 16:36:28] Energy consumed for all GPUs : 0.040004 kWh. Total GPU Power : 260.7691333108297 W\n",
      "[codecarbon INFO @ 16:36:28] Energy consumed for all CPUs : 0.007083 kWh. Total CPU Power : 42.5 W\n",
      "[codecarbon INFO @ 16:36:28] 0.054240 kWh of electricity used since the beginning.\n",
      "[codecarbon ERROR @ 16:36:28] Region:  not found for Country with ISO CODE : USA\n",
      "Traceback (most recent call last):\n",
      "  File \"/home/rocky/miniconda3/envs/jupyterlab/lib/python3.12/site-packages/codecarbon/core/emissions.py\", line 142, in get_private_infra_emissions\n",
      "    return self.get_region_emissions(energy, geo)\n",
      "           ^^^^^^^^^^^^^^^^^^^^^^^^^^^^^^^^^^^^^^\n",
      "  File \"/home/rocky/miniconda3/envs/jupyterlab/lib/python3.12/site-packages/codecarbon/core/emissions.py\", line 168, in get_region_emissions\n",
      "    raise ValueError(\n",
      "ValueError: Region:  not found for Country with ISO CODE : USA\n",
      "[codecarbon WARNING @ 16:36:28] Regional emissions retrieval failed. Falling back on country emissions.\n",
      "[codecarbon INFO @ 16:36:28] 0.034797 g.CO2eq/s mean an estimation of 1,097.3518085610963 kg.CO2eq/year\n",
      "     51/100        38G      0.281     0.2163     0.9393         23        640: 100%|██████████| 156/156 [01:41<00:00,  1.53it/s]\n",
      "                 Class     Images  Instances      Box(P          R      mAP50  mAP50-95): 100%|██████████| 19/19 [00:11<00:00,  1.61it/s]"
     ]
    },
    {
     "name": "stdout",
     "output_type": "stream",
     "text": [
      "                   all       2844       3135      0.961      0.951      0.982      0.897\n"
     ]
    },
    {
     "name": "stderr",
     "output_type": "stream",
     "text": [
      "\n"
     ]
    },
    {
     "name": "stdout",
     "output_type": "stream",
     "text": [
      "\n",
      "      Epoch    GPU_mem   box_loss   cls_loss   dfl_loss  Instances       Size\n"
     ]
    },
    {
     "name": "stderr",
     "output_type": "stream",
     "text": [
      "  0%|          | 0/156 [00:00<?, ?it/s][codecarbon INFO @ 16:36:43] Energy consumed for RAM : 0.007332 kWh. RAM Power : 42.987337589263916 W\n",
      "[codecarbon INFO @ 16:36:43] Energy consumed for all GPUs : 0.040881 kWh. Total GPU Power : 210.67584121058704 W\n",
      "[codecarbon INFO @ 16:36:43] Energy consumed for all CPUs : 0.007261 kWh. Total CPU Power : 42.5 W\n",
      "[codecarbon INFO @ 16:36:43] 0.055474 kWh of electricity used since the beginning.\n",
      "     52/100      37.9G     0.2823     0.2226     0.9418        176        640:  15%|█▍        | 23/156 [00:15<01:28,  1.50it/s][codecarbon INFO @ 16:36:58] Energy consumed for RAM : 0.007512 kWh. RAM Power : 42.987337589263916 W\n",
      "[codecarbon INFO @ 16:36:58] Energy consumed for all GPUs : 0.041958 kWh. Total GPU Power : 258.5751906437705 W\n",
      "[codecarbon INFO @ 16:36:58] Energy consumed for all CPUs : 0.007438 kWh. Total CPU Power : 42.5 W\n",
      "[codecarbon INFO @ 16:36:58] 0.056907 kWh of electricity used since the beginning.\n",
      "     52/100      37.9G     0.2861     0.2246     0.9435        171        640:  29%|██▉       | 46/156 [00:30<01:11,  1.54it/s][codecarbon INFO @ 16:37:13] Energy consumed for RAM : 0.007691 kWh. RAM Power : 42.987337589263916 W\n",
      "[codecarbon INFO @ 16:37:13] Energy consumed for all GPUs : 0.043035 kWh. Total GPU Power : 258.5013780810471 W\n",
      "[codecarbon INFO @ 16:37:13] Energy consumed for all CPUs : 0.007615 kWh. Total CPU Power : 42.5 W\n",
      "[codecarbon INFO @ 16:37:13] 0.058340 kWh of electricity used since the beginning.\n",
      "     52/100      37.9G     0.2861     0.2258     0.9443        206        640:  44%|████▍     | 69/156 [00:45<00:56,  1.53it/s][codecarbon INFO @ 16:37:28] Energy consumed for RAM : 0.007870 kWh. RAM Power : 42.987337589263916 W\n",
      "[codecarbon INFO @ 16:37:28] Energy consumed for all GPUs : 0.044122 kWh. Total GPU Power : 260.84278627268696 W\n",
      "[codecarbon INFO @ 16:37:28] Energy consumed for all CPUs : 0.007792 kWh. Total CPU Power : 42.5 W\n",
      "[codecarbon INFO @ 16:37:28] 0.059783 kWh of electricity used since the beginning.\n",
      "     52/100      37.9G     0.2832     0.2217     0.9425        180        640:  59%|█████▉    | 92/156 [01:00<00:41,  1.53it/s][codecarbon INFO @ 16:37:43] Energy consumed for RAM : 0.008049 kWh. RAM Power : 42.987337589263916 W\n",
      "[codecarbon INFO @ 16:37:43] Energy consumed for all GPUs : 0.045212 kWh. Total GPU Power : 261.66879376773176 W\n",
      "[codecarbon INFO @ 16:37:43] Energy consumed for all CPUs : 0.007969 kWh. Total CPU Power : 42.5 W\n",
      "[codecarbon INFO @ 16:37:43] 0.061229 kWh of electricity used since the beginning.\n",
      "     52/100      37.9G     0.2816     0.2196     0.9426        168        640:  74%|███████▎  | 115/156 [01:15<00:26,  1.53it/s][codecarbon INFO @ 16:37:58] Energy consumed for RAM : 0.008228 kWh. RAM Power : 42.987337589263916 W\n",
      "[codecarbon INFO @ 16:37:58] Energy consumed for all GPUs : 0.046300 kWh. Total GPU Power : 261.35921780016616 W\n",
      "[codecarbon INFO @ 16:37:58] Energy consumed for all CPUs : 0.008146 kWh. Total CPU Power : 42.5 W\n",
      "[codecarbon INFO @ 16:37:58] 0.062674 kWh of electricity used since the beginning.\n",
      "     52/100      37.9G     0.2827     0.2195      0.943        192        640:  88%|████████▊ | 138/156 [01:30<00:11,  1.53it/s][codecarbon INFO @ 16:38:13] Energy consumed for RAM : 0.008407 kWh. RAM Power : 42.987337589263916 W\n",
      "[codecarbon INFO @ 16:38:13] Energy consumed for all GPUs : 0.047381 kWh. Total GPU Power : 259.4368199439799 W\n",
      "[codecarbon INFO @ 16:38:13] Energy consumed for all CPUs : 0.008323 kWh. Total CPU Power : 42.5 W\n",
      "[codecarbon INFO @ 16:38:13] 0.064111 kWh of electricity used since the beginning.\n",
      "     52/100      37.9G      0.283     0.2202      0.943         21        640: 100%|██████████| 156/156 [01:41<00:00,  1.54it/s]\n",
      "                 Class     Images  Instances      Box(P          R      mAP50  mAP50-95):  32%|███▏      | 6/19 [00:03<00:08,  1.54it/s][codecarbon INFO @ 16:38:28] Energy consumed for RAM : 0.008586 kWh. RAM Power : 42.987337589263916 W\n",
      "[codecarbon INFO @ 16:38:28] Energy consumed for all GPUs : 0.048416 kWh. Total GPU Power : 248.35601741671832 W\n",
      "[codecarbon INFO @ 16:38:28] Energy consumed for all CPUs : 0.008500 kWh. Total CPU Power : 42.5 W\n",
      "[codecarbon INFO @ 16:38:28] 0.065502 kWh of electricity used since the beginning.\n",
      "[codecarbon ERROR @ 16:38:28] Region:  not found for Country with ISO CODE : USA\n",
      "Traceback (most recent call last):\n",
      "  File \"/home/rocky/miniconda3/envs/jupyterlab/lib/python3.12/site-packages/codecarbon/core/emissions.py\", line 142, in get_private_infra_emissions\n",
      "    return self.get_region_emissions(energy, geo)\n",
      "           ^^^^^^^^^^^^^^^^^^^^^^^^^^^^^^^^^^^^^^\n",
      "  File \"/home/rocky/miniconda3/envs/jupyterlab/lib/python3.12/site-packages/codecarbon/core/emissions.py\", line 168, in get_region_emissions\n",
      "    raise ValueError(\n",
      "ValueError: Region:  not found for Country with ISO CODE : USA\n",
      "[codecarbon WARNING @ 16:38:28] Regional emissions retrieval failed. Falling back on country emissions.\n",
      "[codecarbon INFO @ 16:38:28] 0.034670 g.CO2eq/s mean an estimation of 1,093.3617289401498 kg.CO2eq/year\n",
      "                 Class     Images  Instances      Box(P          R      mAP50  mAP50-95): 100%|██████████| 19/19 [00:11<00:00,  1.67it/s]"
     ]
    },
    {
     "name": "stdout",
     "output_type": "stream",
     "text": [
      "                   all       2844       3135      0.964      0.953      0.981      0.899\n"
     ]
    },
    {
     "name": "stderr",
     "output_type": "stream",
     "text": [
      "\n"
     ]
    },
    {
     "name": "stdout",
     "output_type": "stream",
     "text": [
      "\n",
      "      Epoch    GPU_mem   box_loss   cls_loss   dfl_loss  Instances       Size\n"
     ]
    },
    {
     "name": "stderr",
     "output_type": "stream",
     "text": [
      "     53/100        38G     0.2955     0.2245     0.9521        195        640:   5%|▌         | 8/156 [00:05<01:40,  1.48it/s][codecarbon INFO @ 16:38:43] Energy consumed for RAM : 0.008765 kWh. RAM Power : 42.987337589263916 W\n",
      "[codecarbon INFO @ 16:38:43] Energy consumed for all GPUs : 0.049338 kWh. Total GPU Power : 221.54201860470968 W\n",
      "[codecarbon INFO @ 16:38:43] Energy consumed for all CPUs : 0.008677 kWh. Total CPU Power : 42.5 W\n",
      "[codecarbon INFO @ 16:38:43] 0.066780 kWh of electricity used since the beginning.\n",
      "     53/100        38G     0.2901     0.2224     0.9475        193        640:  20%|█▉        | 31/156 [00:21<01:22,  1.52it/s][codecarbon INFO @ 16:38:58] Energy consumed for RAM : 0.008944 kWh. RAM Power : 42.987337589263916 W\n",
      "[codecarbon INFO @ 16:38:58] Energy consumed for all GPUs : 0.050412 kWh. Total GPU Power : 257.61640134464136 W\n",
      "[codecarbon INFO @ 16:38:58] Energy consumed for all CPUs : 0.008854 kWh. Total CPU Power : 42.5 W\n",
      "[codecarbon INFO @ 16:38:58] 0.068210 kWh of electricity used since the beginning.\n",
      "     53/100        38G      0.283     0.2172     0.9406        179        640:  35%|███▍      | 54/156 [00:36<01:07,  1.52it/s][codecarbon INFO @ 16:39:13] Energy consumed for RAM : 0.009123 kWh. RAM Power : 42.987337589263916 W\n",
      "[codecarbon INFO @ 16:39:13] Energy consumed for all GPUs : 0.051487 kWh. Total GPU Power : 258.0846396523214 W\n",
      "[codecarbon INFO @ 16:39:13] Energy consumed for all CPUs : 0.009031 kWh. Total CPU Power : 42.5 W\n",
      "[codecarbon INFO @ 16:39:13] 0.069641 kWh of electricity used since the beginning.\n",
      "     53/100        38G     0.2813     0.2168     0.9378        185        640:  49%|████▉     | 77/156 [00:51<00:51,  1.53it/s][codecarbon INFO @ 16:39:28] Energy consumed for RAM : 0.009302 kWh. RAM Power : 42.987337589263916 W\n",
      "[codecarbon INFO @ 16:39:28] Energy consumed for all GPUs : 0.052568 kWh. Total GPU Power : 259.5790322759462 W\n",
      "[codecarbon INFO @ 16:39:28] Energy consumed for all CPUs : 0.009208 kWh. Total CPU Power : 42.5 W\n",
      "[codecarbon INFO @ 16:39:28] 0.071078 kWh of electricity used since the beginning.\n",
      "     53/100        38G     0.2798     0.2148     0.9375        160        640:  64%|██████▍   | 100/156 [01:06<00:36,  1.53it/s][codecarbon INFO @ 16:39:43] Energy consumed for RAM : 0.009481 kWh. RAM Power : 42.987337589263916 W\n",
      "[codecarbon INFO @ 16:39:43] Energy consumed for all GPUs : 0.053650 kWh. Total GPU Power : 259.87409681797504 W\n",
      "[codecarbon INFO @ 16:39:43] Energy consumed for all CPUs : 0.009386 kWh. Total CPU Power : 42.5 W\n",
      "[codecarbon INFO @ 16:39:43] 0.072517 kWh of electricity used since the beginning.\n",
      "     53/100        38G     0.2798     0.2138     0.9364        155        640:  79%|███████▉  | 123/156 [01:21<00:21,  1.52it/s][codecarbon INFO @ 16:39:58] Energy consumed for RAM : 0.009660 kWh. RAM Power : 42.987337589263916 W\n",
      "[codecarbon INFO @ 16:39:58] Energy consumed for all GPUs : 0.054729 kWh. Total GPU Power : 258.86210437655467 W\n",
      "[codecarbon INFO @ 16:39:58] Energy consumed for all CPUs : 0.009563 kWh. Total CPU Power : 42.5 W\n",
      "[codecarbon INFO @ 16:39:58] 0.073951 kWh of electricity used since the beginning.\n",
      "     53/100        38G     0.2809     0.2141     0.9373        155        640:  93%|█████████▎| 145/156 [01:35<00:07,  1.52it/s][codecarbon INFO @ 16:40:13] Energy consumed for RAM : 0.009839 kWh. RAM Power : 42.987337589263916 W\n",
      "[codecarbon INFO @ 16:40:13] Energy consumed for all GPUs : 0.055809 kWh. Total GPU Power : 259.470881818513 W\n",
      "[codecarbon INFO @ 16:40:13] Energy consumed for all CPUs : 0.009740 kWh. Total CPU Power : 42.5 W\n",
      "[codecarbon INFO @ 16:40:13] 0.075388 kWh of electricity used since the beginning.\n",
      "     53/100        38G     0.2816     0.2156     0.9375         20        640: 100%|██████████| 156/156 [01:42<00:00,  1.52it/s]\n",
      "                 Class     Images  Instances      Box(P          R      mAP50  mAP50-95):  68%|██████▊   | 13/19 [00:08<00:03,  1.67it/s][codecarbon INFO @ 16:40:28] Energy consumed for RAM : 0.010018 kWh. RAM Power : 42.987337589263916 W\n",
      "[codecarbon INFO @ 16:40:28] Energy consumed for all GPUs : 0.056779 kWh. Total GPU Power : 232.8502246519412 W\n",
      "[codecarbon INFO @ 16:40:28] Energy consumed for all CPUs : 0.009917 kWh. Total CPU Power : 42.5 W\n",
      "[codecarbon INFO @ 16:40:28] 0.076714 kWh of electricity used since the beginning.\n",
      "[codecarbon ERROR @ 16:40:28] Region:  not found for Country with ISO CODE : USA\n",
      "Traceback (most recent call last):\n",
      "  File \"/home/rocky/miniconda3/envs/jupyterlab/lib/python3.12/site-packages/codecarbon/core/emissions.py\", line 142, in get_private_infra_emissions\n",
      "    return self.get_region_emissions(energy, geo)\n",
      "           ^^^^^^^^^^^^^^^^^^^^^^^^^^^^^^^^^^^^^^\n",
      "  File \"/home/rocky/miniconda3/envs/jupyterlab/lib/python3.12/site-packages/codecarbon/core/emissions.py\", line 168, in get_region_emissions\n",
      "    raise ValueError(\n",
      "ValueError: Region:  not found for Country with ISO CODE : USA\n",
      "[codecarbon WARNING @ 16:40:28] Regional emissions retrieval failed. Falling back on country emissions.\n",
      "[codecarbon INFO @ 16:40:28] 0.034522 g.CO2eq/s mean an estimation of 1,088.680622004882 kg.CO2eq/year\n",
      "                 Class     Images  Instances      Box(P          R      mAP50  mAP50-95): 100%|██████████| 19/19 [00:11<00:00,  1.63it/s]"
     ]
    },
    {
     "name": "stdout",
     "output_type": "stream",
     "text": [
      "                   all       2844       3135       0.96      0.956      0.983      0.899\n"
     ]
    },
    {
     "name": "stderr",
     "output_type": "stream",
     "text": [
      "\n"
     ]
    },
    {
     "name": "stdout",
     "output_type": "stream",
     "text": [
      "\n",
      "      Epoch    GPU_mem   box_loss   cls_loss   dfl_loss  Instances       Size\n"
     ]
    },
    {
     "name": "stderr",
     "output_type": "stream",
     "text": [
      "     54/100      37.9G      0.281      0.209     0.9325        169        640:  10%|█         | 16/156 [00:10<01:31,  1.53it/s][codecarbon INFO @ 16:40:43] Energy consumed for RAM : 0.010197 kWh. RAM Power : 42.987337589263916 W\n",
      "[codecarbon INFO @ 16:40:43] Energy consumed for all GPUs : 0.057773 kWh. Total GPU Power : 238.4452465957554 W\n",
      "[codecarbon INFO @ 16:40:43] Energy consumed for all CPUs : 0.010094 kWh. Total CPU Power : 42.5 W\n",
      "[codecarbon INFO @ 16:40:43] 0.078064 kWh of electricity used since the beginning.\n",
      "     54/100      37.9G     0.2777     0.2131     0.9319        177        640:  25%|██▌       | 39/156 [00:25<01:16,  1.53it/s][codecarbon INFO @ 16:40:58] Energy consumed for RAM : 0.010376 kWh. RAM Power : 42.987337589263916 W\n",
      "[codecarbon INFO @ 16:40:58] Energy consumed for all GPUs : 0.058857 kWh. Total GPU Power : 260.21297114403257 W\n",
      "[codecarbon INFO @ 16:40:58] Energy consumed for all CPUs : 0.010271 kWh. Total CPU Power : 42.5 W\n",
      "[codecarbon INFO @ 16:40:58] 0.079504 kWh of electricity used since the beginning.\n",
      "     54/100      37.9G     0.2778     0.2132     0.9328        176        640:  40%|███▉      | 62/156 [00:40<01:01,  1.53it/s][codecarbon INFO @ 16:41:13] Energy consumed for RAM : 0.010555 kWh. RAM Power : 42.987337589263916 W\n",
      "[codecarbon INFO @ 16:41:13] Energy consumed for all GPUs : 0.059938 kWh. Total GPU Power : 259.52822066882356 W\n",
      "[codecarbon INFO @ 16:41:13] Energy consumed for all CPUs : 0.010448 kWh. Total CPU Power : 42.5 W\n",
      "[codecarbon INFO @ 16:41:13] 0.080941 kWh of electricity used since the beginning.\n",
      "     54/100      37.9G     0.2782     0.2133     0.9309        171        640:  54%|█████▍    | 85/156 [00:55<00:46,  1.53it/s][codecarbon INFO @ 16:41:28] Energy consumed for RAM : 0.010734 kWh. RAM Power : 42.987337589263916 W\n",
      "[codecarbon INFO @ 16:41:28] Energy consumed for all GPUs : 0.061018 kWh. Total GPU Power : 259.3147423023623 W\n",
      "[codecarbon INFO @ 16:41:28] Energy consumed for all CPUs : 0.010625 kWh. Total CPU Power : 42.5 W\n",
      "[codecarbon INFO @ 16:41:28] 0.082377 kWh of electricity used since the beginning.\n",
      "     54/100      37.9G     0.2776     0.2135     0.9317        171        640:  69%|██████▉   | 108/156 [01:10<00:31,  1.53it/s][codecarbon INFO @ 16:41:43] Energy consumed for RAM : 0.010913 kWh. RAM Power : 42.987337589263916 W\n",
      "[codecarbon INFO @ 16:41:43] Energy consumed for all GPUs : 0.062103 kWh. Total GPU Power : 260.60835169135134 W\n",
      "[codecarbon INFO @ 16:41:43] Energy consumed for all CPUs : 0.010802 kWh. Total CPU Power : 42.5 W\n",
      "[codecarbon INFO @ 16:41:43] 0.083819 kWh of electricity used since the beginning.\n",
      "     54/100      37.9G     0.2779     0.2134     0.9316        166        640:  84%|████████▍ | 131/156 [01:25<00:16,  1.53it/s][codecarbon INFO @ 16:41:58] Energy consumed for RAM : 0.011092 kWh. RAM Power : 42.987337589263916 W\n",
      "[codecarbon INFO @ 16:41:58] Energy consumed for all GPUs : 0.063190 kWh. Total GPU Power : 260.92536401570527 W\n",
      "[codecarbon INFO @ 16:41:58] Energy consumed for all CPUs : 0.010979 kWh. Total CPU Power : 42.5 W\n",
      "[codecarbon INFO @ 16:41:58] 0.085262 kWh of electricity used since the beginning.\n",
      "     54/100      37.9G     0.2783     0.2119     0.9327        153        640:  99%|█████████▊| 154/156 [01:40<00:01,  1.53it/s][codecarbon INFO @ 16:42:13] Energy consumed for RAM : 0.011271 kWh. RAM Power : 42.987337589263916 W\n",
      "[codecarbon INFO @ 16:42:13] Energy consumed for all GPUs : 0.064281 kWh. Total GPU Power : 261.87894919077377 W\n",
      "[codecarbon INFO @ 16:42:13] Energy consumed for all CPUs : 0.011156 kWh. Total CPU Power : 42.5 W\n",
      "[codecarbon INFO @ 16:42:13] 0.086709 kWh of electricity used since the beginning.\n",
      "     54/100      37.9G     0.2791     0.2134     0.9332         20        640: 100%|██████████| 156/156 [01:41<00:00,  1.53it/s]\n",
      "                 Class     Images  Instances      Box(P          R      mAP50  mAP50-95): 100%|██████████| 19/19 [00:11<00:00,  1.67it/s]"
     ]
    },
    {
     "name": "stdout",
     "output_type": "stream",
     "text": [
      "                   all       2844       3135      0.968      0.951      0.985      0.898\n"
     ]
    },
    {
     "name": "stderr",
     "output_type": "stream",
     "text": [
      "\n"
     ]
    },
    {
     "name": "stdout",
     "output_type": "stream",
     "text": [
      "\n",
      "      Epoch    GPU_mem   box_loss   cls_loss   dfl_loss  Instances       Size\n"
     ]
    },
    {
     "name": "stderr",
     "output_type": "stream",
     "text": [
      "     55/100        38G     0.2655      0.227     0.9259        181        640:   1%|▏         | 2/156 [00:01<02:22,  1.08it/s][codecarbon INFO @ 16:42:28] Energy consumed for RAM : 0.011450 kWh. RAM Power : 42.987337589263916 W\n",
      "[codecarbon INFO @ 16:42:28] Energy consumed for all GPUs : 0.065162 kWh. Total GPU Power : 211.54490175602155 W\n",
      "[codecarbon INFO @ 16:42:28] Energy consumed for all CPUs : 0.011333 kWh. Total CPU Power : 42.5 W\n",
      "[codecarbon INFO @ 16:42:28] 0.087946 kWh of electricity used since the beginning.\n",
      "[codecarbon ERROR @ 16:42:28] Region:  not found for Country with ISO CODE : USA\n",
      "Traceback (most recent call last):\n",
      "  File \"/home/rocky/miniconda3/envs/jupyterlab/lib/python3.12/site-packages/codecarbon/core/emissions.py\", line 142, in get_private_infra_emissions\n",
      "    return self.get_region_emissions(energy, geo)\n",
      "           ^^^^^^^^^^^^^^^^^^^^^^^^^^^^^^^^^^^^^^\n",
      "  File \"/home/rocky/miniconda3/envs/jupyterlab/lib/python3.12/site-packages/codecarbon/core/emissions.py\", line 168, in get_region_emissions\n",
      "    raise ValueError(\n",
      "ValueError: Region:  not found for Country with ISO CODE : USA\n",
      "[codecarbon WARNING @ 16:42:28] Regional emissions retrieval failed. Falling back on country emissions.\n",
      "[codecarbon INFO @ 16:42:28] 0.034580 g.CO2eq/s mean an estimation of 1,090.530474565633 kg.CO2eq/year\n",
      "     55/100        38G     0.2681     0.2127     0.9322        174        640:  15%|█▌        | 24/156 [00:16<01:26,  1.53it/s][codecarbon INFO @ 16:42:43] Energy consumed for RAM : 0.011630 kWh. RAM Power : 42.987337589263916 W\n",
      "[codecarbon INFO @ 16:42:43] Energy consumed for all GPUs : 0.066242 kWh. Total GPU Power : 259.32095061610744 W\n",
      "[codecarbon INFO @ 16:42:43] Energy consumed for all CPUs : 0.011510 kWh. Total CPU Power : 42.5 W\n",
      "[codecarbon INFO @ 16:42:43] 0.089382 kWh of electricity used since the beginning.\n",
      "     55/100        38G     0.2714     0.2084     0.9326        177        640:  30%|███       | 47/156 [00:31<01:11,  1.53it/s][codecarbon INFO @ 16:42:58] Energy consumed for RAM : 0.011809 kWh. RAM Power : 42.987337589263916 W\n",
      "[codecarbon INFO @ 16:42:58] Energy consumed for all GPUs : 0.067327 kWh. Total GPU Power : 260.4336429369627 W\n",
      "[codecarbon INFO @ 16:42:58] Energy consumed for all CPUs : 0.011688 kWh. Total CPU Power : 42.5 W\n",
      "[codecarbon INFO @ 16:42:58] 0.090823 kWh of electricity used since the beginning.\n",
      "     55/100        38G     0.2712     0.2099     0.9333        176        640:  45%|████▍     | 70/156 [00:46<00:56,  1.52it/s][codecarbon INFO @ 16:43:13] Energy consumed for RAM : 0.011988 kWh. RAM Power : 42.987337589263916 W\n",
      "[codecarbon INFO @ 16:43:13] Energy consumed for all GPUs : 0.068400 kWh. Total GPU Power : 257.6601178404743 W\n",
      "[codecarbon INFO @ 16:43:13] Energy consumed for all CPUs : 0.011865 kWh. Total CPU Power : 42.5 W\n",
      "[codecarbon INFO @ 16:43:13] 0.092253 kWh of electricity used since the beginning.\n",
      "     55/100        38G     0.2712     0.2082     0.9327        172        640:  60%|█████▉    | 93/156 [01:01<00:41,  1.53it/s][codecarbon INFO @ 16:43:28] Energy consumed for RAM : 0.012167 kWh. RAM Power : 42.987337589263916 W\n",
      "[codecarbon INFO @ 16:43:28] Energy consumed for all GPUs : 0.069487 kWh. Total GPU Power : 260.91536583625356 W\n",
      "[codecarbon INFO @ 16:43:28] Energy consumed for all CPUs : 0.012042 kWh. Total CPU Power : 42.5 W\n",
      "[codecarbon INFO @ 16:43:28] 0.093696 kWh of electricity used since the beginning.\n",
      "     55/100        38G     0.2704     0.2085     0.9337        186        640:  74%|███████▍  | 116/156 [01:16<00:26,  1.53it/s][codecarbon INFO @ 16:43:43] Energy consumed for RAM : 0.012346 kWh. RAM Power : 42.987337589263916 W\n",
      "[codecarbon INFO @ 16:43:43] Energy consumed for all GPUs : 0.070575 kWh. Total GPU Power : 261.1508253475478 W\n",
      "[codecarbon INFO @ 16:43:43] Energy consumed for all CPUs : 0.012219 kWh. Total CPU Power : 42.5 W\n",
      "[codecarbon INFO @ 16:43:43] 0.095140 kWh of electricity used since the beginning.\n",
      "     55/100        38G     0.2697     0.2085     0.9331        171        640:  89%|████████▉ | 139/156 [01:31<00:11,  1.52it/s][codecarbon INFO @ 16:43:58] Energy consumed for RAM : 0.012525 kWh. RAM Power : 42.987337589263916 W\n",
      "[codecarbon INFO @ 16:43:58] Energy consumed for all GPUs : 0.071661 kWh. Total GPU Power : 260.7910435586685 W\n",
      "[codecarbon INFO @ 16:43:58] Energy consumed for all CPUs : 0.012396 kWh. Total CPU Power : 42.5 W\n",
      "[codecarbon INFO @ 16:43:58] 0.096582 kWh of electricity used since the beginning.\n",
      "     55/100        38G      0.269     0.2077     0.9337         23        640: 100%|██████████| 156/156 [01:42<00:00,  1.52it/s]\n",
      "                 Class     Images  Instances      Box(P          R      mAP50  mAP50-95):  32%|███▏      | 6/19 [00:04<00:08,  1.48it/s][codecarbon INFO @ 16:44:13] Energy consumed for RAM : 0.012704 kWh. RAM Power : 42.987337589263916 W\n",
      "[codecarbon INFO @ 16:44:13] Energy consumed for all GPUs : 0.072668 kWh. Total GPU Power : 241.58402100105744 W\n",
      "[codecarbon INFO @ 16:44:13] Energy consumed for all CPUs : 0.012573 kWh. Total CPU Power : 42.5 W\n",
      "[codecarbon INFO @ 16:44:13] 0.097945 kWh of electricity used since the beginning.\n",
      "                 Class     Images  Instances      Box(P          R      mAP50  mAP50-95): 100%|██████████| 19/19 [00:11<00:00,  1.61it/s]"
     ]
    },
    {
     "name": "stdout",
     "output_type": "stream",
     "text": [
      "                   all       2844       3135       0.96      0.961      0.983      0.901\n"
     ]
    },
    {
     "name": "stderr",
     "output_type": "stream",
     "text": [
      "\n"
     ]
    },
    {
     "name": "stdout",
     "output_type": "stream",
     "text": [
      "\n",
      "      Epoch    GPU_mem   box_loss   cls_loss   dfl_loss  Instances       Size\n"
     ]
    },
    {
     "name": "stderr",
     "output_type": "stream",
     "text": [
      "     56/100      37.9G     0.2702     0.2108     0.9374        176        640:   6%|▋         | 10/156 [00:06<01:36,  1.52it/s][codecarbon INFO @ 16:44:28] Energy consumed for RAM : 0.012883 kWh. RAM Power : 42.987337589263916 W\n",
      "[codecarbon INFO @ 16:44:28] Energy consumed for all GPUs : 0.073618 kWh. Total GPU Power : 228.06368629131447 W\n",
      "[codecarbon INFO @ 16:44:28] Energy consumed for all CPUs : 0.012750 kWh. Total CPU Power : 42.5 W\n",
      "[codecarbon INFO @ 16:44:28] 0.099250 kWh of electricity used since the beginning.\n",
      "[codecarbon ERROR @ 16:44:28] Region:  not found for Country with ISO CODE : USA\n",
      "Traceback (most recent call last):\n",
      "  File \"/home/rocky/miniconda3/envs/jupyterlab/lib/python3.12/site-packages/codecarbon/core/emissions.py\", line 142, in get_private_infra_emissions\n",
      "    return self.get_region_emissions(energy, geo)\n",
      "           ^^^^^^^^^^^^^^^^^^^^^^^^^^^^^^^^^^^^^^\n",
      "  File \"/home/rocky/miniconda3/envs/jupyterlab/lib/python3.12/site-packages/codecarbon/core/emissions.py\", line 168, in get_region_emissions\n",
      "    raise ValueError(\n",
      "ValueError: Region:  not found for Country with ISO CODE : USA\n",
      "[codecarbon WARNING @ 16:44:28] Regional emissions retrieval failed. Falling back on country emissions.\n",
      "[codecarbon INFO @ 16:44:28] 0.034804 g.CO2eq/s mean an estimation of 1,097.5815668242037 kg.CO2eq/year\n",
      "     56/100      37.9G     0.2755     0.2135     0.9379        171        640:  21%|██        | 33/156 [00:21<01:20,  1.53it/s][codecarbon INFO @ 16:44:43] Energy consumed for RAM : 0.013062 kWh. RAM Power : 42.987337589263916 W\n",
      "[codecarbon INFO @ 16:44:43] Energy consumed for all GPUs : 0.074693 kWh. Total GPU Power : 258.0506352258111 W\n",
      "[codecarbon INFO @ 16:44:43] Energy consumed for all CPUs : 0.012927 kWh. Total CPU Power : 42.5 W\n",
      "[codecarbon INFO @ 16:44:43] 0.100681 kWh of electricity used since the beginning.\n",
      "     56/100      37.9G     0.2717     0.2108     0.9363        166        640:  35%|███▌      | 55/156 [00:36<01:06,  1.52it/s][codecarbon INFO @ 16:44:58] Energy consumed for RAM : 0.013241 kWh. RAM Power : 42.987337589263916 W\n",
      "[codecarbon INFO @ 16:44:58] Energy consumed for all GPUs : 0.075767 kWh. Total GPU Power : 258.01998817443325 W\n",
      "[codecarbon INFO @ 16:44:58] Energy consumed for all CPUs : 0.013104 kWh. Total CPU Power : 42.5 W\n",
      "[codecarbon INFO @ 16:44:58] 0.102112 kWh of electricity used since the beginning.\n",
      "     56/100      37.9G      0.273     0.2104     0.9359        196        640:  50%|█████     | 78/156 [00:51<00:51,  1.52it/s][codecarbon INFO @ 16:45:13] Energy consumed for RAM : 0.013420 kWh. RAM Power : 42.987337589263916 W\n",
      "[codecarbon INFO @ 16:45:13] Energy consumed for all GPUs : 0.076846 kWh. Total GPU Power : 258.93777563259505 W\n",
      "[codecarbon INFO @ 16:45:13] Energy consumed for all CPUs : 0.013281 kWh. Total CPU Power : 42.5 W\n",
      "[codecarbon INFO @ 16:45:13] 0.103547 kWh of electricity used since the beginning.\n",
      "     56/100      37.9G     0.2739     0.2109     0.9358        171        640:  65%|██████▍   | 101/156 [01:06<00:36,  1.53it/s][codecarbon INFO @ 16:45:28] Energy consumed for RAM : 0.013599 kWh. RAM Power : 42.987337589263916 W\n",
      "[codecarbon INFO @ 16:45:28] Energy consumed for all GPUs : 0.077924 kWh. Total GPU Power : 258.8484397137237 W\n",
      "[codecarbon INFO @ 16:45:28] Energy consumed for all CPUs : 0.013458 kWh. Total CPU Power : 42.5 W\n",
      "[codecarbon INFO @ 16:45:28] 0.104981 kWh of electricity used since the beginning.\n",
      "     56/100      37.9G     0.2719     0.2091     0.9348        196        640:  79%|███████▉  | 124/156 [01:21<00:21,  1.52it/s][codecarbon INFO @ 16:45:43] Energy consumed for RAM : 0.013778 kWh. RAM Power : 42.987337589263916 W\n",
      "[codecarbon INFO @ 16:45:43] Energy consumed for all GPUs : 0.079001 kWh. Total GPU Power : 258.593437554173 W\n",
      "[codecarbon INFO @ 16:45:43] Energy consumed for all CPUs : 0.013635 kWh. Total CPU Power : 42.5 W\n",
      "[codecarbon INFO @ 16:45:43] 0.106415 kWh of electricity used since the beginning.\n",
      "     56/100      37.9G     0.2707     0.2083     0.9336        189        640:  94%|█████████▍| 147/156 [01:36<00:05,  1.53it/s][codecarbon INFO @ 16:45:58] Energy consumed for RAM : 0.013957 kWh. RAM Power : 42.987337589263916 W\n",
      "[codecarbon INFO @ 16:45:58] Energy consumed for all GPUs : 0.080080 kWh. Total GPU Power : 259.09064105744625 W\n",
      "[codecarbon INFO @ 16:45:58] Energy consumed for all CPUs : 0.013812 kWh. Total CPU Power : 42.5 W\n",
      "[codecarbon INFO @ 16:45:58] 0.107850 kWh of electricity used since the beginning.\n",
      "     56/100      37.9G     0.2706     0.2085     0.9336         26        640: 100%|██████████| 156/156 [01:41<00:00,  1.53it/s]\n",
      "                 Class     Images  Instances      Box(P          R      mAP50  mAP50-95):  79%|███████▉  | 15/19 [00:09<00:02,  1.62it/s][codecarbon INFO @ 16:46:13] Energy consumed for RAM : 0.014136 kWh. RAM Power : 42.987337589263916 W\n",
      "[codecarbon INFO @ 16:46:13] Energy consumed for all GPUs : 0.081060 kWh. Total GPU Power : 235.20415103030396 W\n",
      "[codecarbon INFO @ 16:46:13] Energy consumed for all CPUs : 0.013990 kWh. Total CPU Power : 42.5 W\n",
      "[codecarbon INFO @ 16:46:13] 0.109186 kWh of electricity used since the beginning.\n",
      "                 Class     Images  Instances      Box(P          R      mAP50  mAP50-95): 100%|██████████| 19/19 [00:11<00:00,  1.67it/s]"
     ]
    },
    {
     "name": "stdout",
     "output_type": "stream",
     "text": [
      "                   all       2844       3135      0.973      0.939      0.983      0.902\n"
     ]
    },
    {
     "name": "stderr",
     "output_type": "stream",
     "text": [
      "\n"
     ]
    },
    {
     "name": "stdout",
     "output_type": "stream",
     "text": [
      "\n",
      "      Epoch    GPU_mem   box_loss   cls_loss   dfl_loss  Instances       Size\n"
     ]
    },
    {
     "name": "stderr",
     "output_type": "stream",
     "text": [
      "     57/100        38G     0.2723     0.2105     0.9407        190        640:  11%|█         | 17/156 [00:11<01:31,  1.52it/s][codecarbon INFO @ 16:46:28] Energy consumed for RAM : 0.014315 kWh. RAM Power : 42.987337589263916 W\n",
      "[codecarbon INFO @ 16:46:28] Energy consumed for all GPUs : 0.082034 kWh. Total GPU Power : 233.69214283307693 W\n",
      "[codecarbon INFO @ 16:46:28] Energy consumed for all CPUs : 0.014167 kWh. Total CPU Power : 42.5 W\n",
      "[codecarbon INFO @ 16:46:28] 0.110515 kWh of electricity used since the beginning.\n",
      "[codecarbon ERROR @ 16:46:28] Region:  not found for Country with ISO CODE : USA\n",
      "Traceback (most recent call last):\n",
      "  File \"/home/rocky/miniconda3/envs/jupyterlab/lib/python3.12/site-packages/codecarbon/core/emissions.py\", line 142, in get_private_infra_emissions\n",
      "    return self.get_region_emissions(energy, geo)\n",
      "           ^^^^^^^^^^^^^^^^^^^^^^^^^^^^^^^^^^^^^^\n",
      "  File \"/home/rocky/miniconda3/envs/jupyterlab/lib/python3.12/site-packages/codecarbon/core/emissions.py\", line 168, in get_region_emissions\n",
      "    raise ValueError(\n",
      "ValueError: Region:  not found for Country with ISO CODE : USA\n",
      "[codecarbon WARNING @ 16:46:28] Regional emissions retrieval failed. Falling back on country emissions.\n",
      "[codecarbon INFO @ 16:46:28] 0.034683 g.CO2eq/s mean an estimation of 1,093.7574356655282 kg.CO2eq/year\n",
      "     57/100        38G     0.2707     0.2082     0.9375        180        640:  26%|██▌       | 40/156 [00:26<01:16,  1.52it/s][codecarbon INFO @ 16:46:43] Energy consumed for RAM : 0.014494 kWh. RAM Power : 42.987337589263916 W\n",
      "[codecarbon INFO @ 16:46:43] Energy consumed for all GPUs : 0.083106 kWh. Total GPU Power : 257.4961553398109 W\n",
      "[codecarbon INFO @ 16:46:43] Energy consumed for all CPUs : 0.014344 kWh. Total CPU Power : 42.5 W\n",
      "[codecarbon INFO @ 16:46:43] 0.111944 kWh of electricity used since the beginning.\n",
      "     57/100        38G     0.2672     0.2056     0.9359        181        640:  40%|████      | 63/156 [00:41<01:01,  1.52it/s][codecarbon INFO @ 16:46:58] Energy consumed for RAM : 0.014673 kWh. RAM Power : 42.987337589263916 W\n",
      "[codecarbon INFO @ 16:46:58] Energy consumed for all GPUs : 0.084192 kWh. Total GPU Power : 260.5027344211356 W\n",
      "[codecarbon INFO @ 16:46:58] Energy consumed for all CPUs : 0.014521 kWh. Total CPU Power : 42.5 W\n",
      "[codecarbon INFO @ 16:46:58] 0.113386 kWh of electricity used since the beginning.\n",
      "     57/100        38G     0.2647      0.204     0.9331        158        640:  55%|█████▌    | 86/156 [00:57<00:45,  1.53it/s][codecarbon INFO @ 16:47:13] Energy consumed for RAM : 0.014853 kWh. RAM Power : 42.987337589263916 W\n",
      "[codecarbon INFO @ 16:47:13] Energy consumed for all GPUs : 0.085278 kWh. Total GPU Power : 260.3552848874474 W\n",
      "[codecarbon INFO @ 16:47:13] Energy consumed for all CPUs : 0.014698 kWh. Total CPU Power : 42.5 W\n",
      "[codecarbon INFO @ 16:47:13] 0.114828 kWh of electricity used since the beginning.\n",
      "     57/100        38G     0.2646     0.2038     0.9335        183        640:  70%|██████▉   | 109/156 [01:12<00:30,  1.53it/s][codecarbon INFO @ 16:47:28] Energy consumed for RAM : 0.015032 kWh. RAM Power : 42.987337589263916 W\n",
      "[codecarbon INFO @ 16:47:28] Energy consumed for all GPUs : 0.086359 kWh. Total GPU Power : 259.4819542965006 W\n",
      "[codecarbon INFO @ 16:47:28] Energy consumed for all CPUs : 0.014875 kWh. Total CPU Power : 42.5 W\n",
      "[codecarbon INFO @ 16:47:28] 0.116265 kWh of electricity used since the beginning.\n",
      "     57/100        38G     0.2636     0.2034     0.9337        165        640:  85%|████████▍ | 132/156 [01:27<00:15,  1.52it/s][codecarbon INFO @ 16:47:43] Energy consumed for RAM : 0.015211 kWh. RAM Power : 42.987337589263916 W\n",
      "[codecarbon INFO @ 16:47:43] Energy consumed for all GPUs : 0.087444 kWh. Total GPU Power : 260.5304020024272 W\n",
      "[codecarbon INFO @ 16:47:43] Energy consumed for all CPUs : 0.015052 kWh. Total CPU Power : 42.5 W\n",
      "[codecarbon INFO @ 16:47:43] 0.117707 kWh of electricity used since the beginning.\n",
      "     57/100        38G     0.2642     0.2038      0.933        163        640:  99%|█████████▊| 154/156 [01:41<00:01,  1.53it/s][codecarbon INFO @ 16:47:58] Energy consumed for RAM : 0.015390 kWh. RAM Power : 42.987337589263916 W\n",
      "[codecarbon INFO @ 16:47:58] Energy consumed for all GPUs : 0.088530 kWh. Total GPU Power : 260.72730669181834 W\n",
      "[codecarbon INFO @ 16:47:58] Energy consumed for all CPUs : 0.015229 kWh. Total CPU Power : 42.5 W\n",
      "[codecarbon INFO @ 16:47:58] 0.119149 kWh of electricity used since the beginning.\n",
      "     57/100        38G     0.2641      0.204     0.9327         25        640: 100%|██████████| 156/156 [01:42<00:00,  1.52it/s]\n",
      "                 Class     Images  Instances      Box(P          R      mAP50  mAP50-95): 100%|██████████| 19/19 [00:11<00:00,  1.63it/s]"
     ]
    },
    {
     "name": "stdout",
     "output_type": "stream",
     "text": [
      "                   all       2844       3135      0.959      0.955      0.984      0.906\n"
     ]
    },
    {
     "name": "stderr",
     "output_type": "stream",
     "text": [
      "\n"
     ]
    },
    {
     "name": "stdout",
     "output_type": "stream",
     "text": [
      "\n",
      "      Epoch    GPU_mem   box_loss   cls_loss   dfl_loss  Instances       Size\n"
     ]
    },
    {
     "name": "stderr",
     "output_type": "stream",
     "text": [
      "     58/100      37.9G     0.2604     0.1968     0.9207        170        640:   1%|▏         | 2/156 [00:01<01:43,  1.49it/s][codecarbon INFO @ 16:48:13] Energy consumed for RAM : 0.015569 kWh. RAM Power : 42.987337589263916 W\n",
      "[codecarbon INFO @ 16:48:13] Energy consumed for all GPUs : 0.089417 kWh. Total GPU Power : 213.0971138406122 W\n",
      "[codecarbon INFO @ 16:48:13] Energy consumed for all CPUs : 0.015406 kWh. Total CPU Power : 42.5 W\n",
      "[codecarbon INFO @ 16:48:13] 0.120393 kWh of electricity used since the beginning.\n",
      "     58/100      37.9G     0.2643     0.2022     0.9369        161        640:  16%|█▌        | 25/156 [00:16<01:25,  1.53it/s][codecarbon INFO @ 16:48:28] Energy consumed for RAM : 0.015748 kWh. RAM Power : 42.987337589263916 W\n",
      "[codecarbon INFO @ 16:48:28] Energy consumed for all GPUs : 0.090500 kWh. Total GPU Power : 259.8359004202359 W\n",
      "[codecarbon INFO @ 16:48:28] Energy consumed for all CPUs : 0.015584 kWh. Total CPU Power : 42.5 W\n",
      "[codecarbon INFO @ 16:48:28] 0.121831 kWh of electricity used since the beginning.\n",
      "[codecarbon ERROR @ 16:48:28] Region:  not found for Country with ISO CODE : USA\n",
      "Traceback (most recent call last):\n",
      "  File \"/home/rocky/miniconda3/envs/jupyterlab/lib/python3.12/site-packages/codecarbon/core/emissions.py\", line 142, in get_private_infra_emissions\n",
      "    return self.get_region_emissions(energy, geo)\n",
      "           ^^^^^^^^^^^^^^^^^^^^^^^^^^^^^^^^^^^^^^\n",
      "  File \"/home/rocky/miniconda3/envs/jupyterlab/lib/python3.12/site-packages/codecarbon/core/emissions.py\", line 168, in get_region_emissions\n",
      "    raise ValueError(\n",
      "ValueError: Region:  not found for Country with ISO CODE : USA\n",
      "[codecarbon WARNING @ 16:48:28] Regional emissions retrieval failed. Falling back on country emissions.\n",
      "[codecarbon INFO @ 16:48:28] 0.034832 g.CO2eq/s mean an estimation of 1,098.4466538157337 kg.CO2eq/year\n",
      "     58/100      37.9G     0.2652      0.204     0.9366        170        640:  31%|███       | 48/156 [00:31<01:10,  1.53it/s][codecarbon INFO @ 16:48:43] Energy consumed for RAM : 0.015927 kWh. RAM Power : 42.987337589263916 W\n",
      "[codecarbon INFO @ 16:48:43] Energy consumed for all GPUs : 0.091583 kWh. Total GPU Power : 260.0950530930831 W\n",
      "[codecarbon INFO @ 16:48:43] Energy consumed for all CPUs : 0.015761 kWh. Total CPU Power : 42.5 W\n",
      "[codecarbon INFO @ 16:48:43] 0.123271 kWh of electricity used since the beginning.\n",
      "     58/100      37.9G     0.2611     0.2017     0.9341        150        640:  46%|████▌     | 71/156 [00:46<00:55,  1.53it/s][codecarbon INFO @ 16:48:58] Energy consumed for RAM : 0.016106 kWh. RAM Power : 42.987337589263916 W\n",
      "[codecarbon INFO @ 16:48:58] Energy consumed for all GPUs : 0.092658 kWh. Total GPU Power : 258.01993341545045 W\n",
      "[codecarbon INFO @ 16:48:58] Energy consumed for all CPUs : 0.015938 kWh. Total CPU Power : 42.5 W\n",
      "[codecarbon INFO @ 16:48:58] 0.124701 kWh of electricity used since the beginning.\n",
      "     58/100      37.9G     0.2615     0.2035      0.934        205        640:  60%|██████    | 94/156 [01:01<00:40,  1.53it/s][codecarbon INFO @ 16:49:13] Energy consumed for RAM : 0.016285 kWh. RAM Power : 42.987337589263916 W\n",
      "[codecarbon INFO @ 16:49:13] Energy consumed for all GPUs : 0.093741 kWh. Total GPU Power : 260.03934032636715 W\n",
      "[codecarbon INFO @ 16:49:13] Energy consumed for all CPUs : 0.016115 kWh. Total CPU Power : 42.5 W\n",
      "[codecarbon INFO @ 16:49:13] 0.126141 kWh of electricity used since the beginning.\n",
      "     58/100      37.9G     0.2605     0.2032     0.9331        181        640:  75%|███████▌  | 117/156 [01:16<00:25,  1.53it/s][codecarbon INFO @ 16:49:28] Energy consumed for RAM : 0.016464 kWh. RAM Power : 42.987337589263916 W\n",
      "[codecarbon INFO @ 16:49:28] Energy consumed for all GPUs : 0.094827 kWh. Total GPU Power : 260.8342103640997 W\n",
      "[codecarbon INFO @ 16:49:28] Energy consumed for all CPUs : 0.016292 kWh. Total CPU Power : 42.5 W\n",
      "[codecarbon INFO @ 16:49:28] 0.127583 kWh of electricity used since the beginning.\n",
      "     58/100      37.9G     0.2602     0.2031      0.932        141        640:  90%|████████▉ | 140/156 [01:31<00:10,  1.52it/s][codecarbon INFO @ 16:49:43] Energy consumed for RAM : 0.016643 kWh. RAM Power : 42.987337589263916 W\n",
      "[codecarbon INFO @ 16:49:43] Energy consumed for all GPUs : 0.095907 kWh. Total GPU Power : 259.2925667490444 W\n",
      "[codecarbon INFO @ 16:49:43] Energy consumed for all CPUs : 0.016469 kWh. Total CPU Power : 42.5 W\n",
      "[codecarbon INFO @ 16:49:43] 0.129019 kWh of electricity used since the beginning.\n",
      "     58/100      37.9G     0.2613     0.2034     0.9331         13        640: 100%|██████████| 156/156 [01:41<00:00,  1.53it/s]\n",
      "                 Class     Images  Instances      Box(P          R      mAP50  mAP50-95):  37%|███▋      | 7/19 [00:04<00:07,  1.56it/s][codecarbon INFO @ 16:49:58] Energy consumed for RAM : 0.016822 kWh. RAM Power : 42.987337589263916 W\n",
      "[codecarbon INFO @ 16:49:58] Energy consumed for all GPUs : 0.096923 kWh. Total GPU Power : 243.65302515337723 W\n",
      "[codecarbon INFO @ 16:49:58] Energy consumed for all CPUs : 0.016646 kWh. Total CPU Power : 42.5 W\n",
      "[codecarbon INFO @ 16:49:58] 0.130390 kWh of electricity used since the beginning.\n",
      "                 Class     Images  Instances      Box(P          R      mAP50  mAP50-95): 100%|██████████| 19/19 [00:11<00:00,  1.68it/s]"
     ]
    },
    {
     "name": "stdout",
     "output_type": "stream",
     "text": [
      "                   all       2844       3135      0.961      0.955      0.983      0.905\n"
     ]
    },
    {
     "name": "stderr",
     "output_type": "stream",
     "text": [
      "\n"
     ]
    },
    {
     "name": "stdout",
     "output_type": "stream",
     "text": [
      "\n",
      "      Epoch    GPU_mem   box_loss   cls_loss   dfl_loss  Instances       Size\n"
     ]
    },
    {
     "name": "stderr",
     "output_type": "stream",
     "text": [
      "     59/100        38G     0.2673     0.2107     0.9368        185        640:   6%|▋         | 10/156 [00:07<01:36,  1.51it/s][codecarbon INFO @ 16:50:13] Energy consumed for RAM : 0.017001 kWh. RAM Power : 42.987337589263916 W\n",
      "[codecarbon INFO @ 16:50:13] Energy consumed for all GPUs : 0.097862 kWh. Total GPU Power : 225.60910484654863 W\n",
      "[codecarbon INFO @ 16:50:13] Energy consumed for all CPUs : 0.016823 kWh. Total CPU Power : 42.5 W\n",
      "[codecarbon INFO @ 16:50:13] 0.131686 kWh of electricity used since the beginning.\n",
      "     59/100        38G     0.2582     0.2028     0.9297        167        640:  21%|██        | 33/156 [00:22<01:20,  1.53it/s][codecarbon INFO @ 16:50:28] Energy consumed for RAM : 0.017180 kWh. RAM Power : 42.987337589263916 W\n",
      "[codecarbon INFO @ 16:50:28] Energy consumed for all GPUs : 0.098940 kWh. Total GPU Power : 258.8755935478531 W\n",
      "[codecarbon INFO @ 16:50:28] Energy consumed for all CPUs : 0.017000 kWh. Total CPU Power : 42.5 W\n",
      "[codecarbon INFO @ 16:50:28] 0.133121 kWh of electricity used since the beginning.\n",
      "[codecarbon ERROR @ 16:50:28] Region:  not found for Country with ISO CODE : USA\n",
      "Traceback (most recent call last):\n",
      "  File \"/home/rocky/miniconda3/envs/jupyterlab/lib/python3.12/site-packages/codecarbon/core/emissions.py\", line 142, in get_private_infra_emissions\n",
      "    return self.get_region_emissions(energy, geo)\n",
      "           ^^^^^^^^^^^^^^^^^^^^^^^^^^^^^^^^^^^^^^\n",
      "  File \"/home/rocky/miniconda3/envs/jupyterlab/lib/python3.12/site-packages/codecarbon/core/emissions.py\", line 168, in get_region_emissions\n",
      "    raise ValueError(\n",
      "ValueError: Region:  not found for Country with ISO CODE : USA\n",
      "[codecarbon WARNING @ 16:50:28] Regional emissions retrieval failed. Falling back on country emissions.\n",
      "[codecarbon INFO @ 16:50:28] 0.034759 g.CO2eq/s mean an estimation of 1,096.1575525699589 kg.CO2eq/year\n",
      "     59/100        38G     0.2582      0.199     0.9332        179        640:  36%|███▌      | 56/156 [00:37<01:05,  1.53it/s][codecarbon INFO @ 16:50:43] Energy consumed for RAM : 0.017359 kWh. RAM Power : 42.987337589263916 W\n",
      "[codecarbon INFO @ 16:50:43] Energy consumed for all GPUs : 0.100010 kWh. Total GPU Power : 256.76022244336787 W\n",
      "[codecarbon INFO @ 16:50:43] Energy consumed for all CPUs : 0.017177 kWh. Total CPU Power : 42.5 W\n",
      "[codecarbon INFO @ 16:50:43] 0.134546 kWh of electricity used since the beginning.\n",
      "     59/100        38G     0.2561     0.1987     0.9308        165        640:  51%|█████     | 79/156 [00:52<00:50,  1.53it/s][codecarbon INFO @ 16:50:58] Energy consumed for RAM : 0.017538 kWh. RAM Power : 42.987337589263916 W\n",
      "[codecarbon INFO @ 16:50:58] Energy consumed for all GPUs : 0.101093 kWh. Total GPU Power : 259.87454395409986 W\n",
      "[codecarbon INFO @ 16:50:58] Energy consumed for all CPUs : 0.017354 kWh. Total CPU Power : 42.5 W\n",
      "[codecarbon INFO @ 16:50:58] 0.135985 kWh of electricity used since the beginning.\n",
      "     59/100        38G      0.256     0.1988     0.9297        205        640:  65%|██████▌   | 102/156 [01:07<00:35,  1.53it/s][codecarbon INFO @ 16:51:13] Energy consumed for RAM : 0.017717 kWh. RAM Power : 42.987337589263916 W\n",
      "[codecarbon INFO @ 16:51:13] Energy consumed for all GPUs : 0.102174 kWh. Total GPU Power : 259.6375558716759 W\n",
      "[codecarbon INFO @ 16:51:13] Energy consumed for all CPUs : 0.017531 kWh. Total CPU Power : 42.5 W\n",
      "[codecarbon INFO @ 16:51:13] 0.137422 kWh of electricity used since the beginning.\n",
      "     59/100        38G      0.255     0.1976     0.9292        195        640:  80%|████████  | 125/156 [01:22<00:20,  1.53it/s][codecarbon INFO @ 16:51:28] Energy consumed for RAM : 0.017896 kWh. RAM Power : 42.987337589263916 W\n",
      "[codecarbon INFO @ 16:51:28] Energy consumed for all GPUs : 0.103251 kWh. Total GPU Power : 258.3902516145115 W\n",
      "[codecarbon INFO @ 16:51:28] Energy consumed for all CPUs : 0.017708 kWh. Total CPU Power : 42.5 W\n",
      "[codecarbon INFO @ 16:51:28] 0.138856 kWh of electricity used since the beginning.\n",
      "     59/100        38G     0.2565      0.197     0.9296        175        640:  95%|█████████▍| 148/156 [01:37<00:05,  1.53it/s][codecarbon INFO @ 16:51:43] Energy consumed for RAM : 0.018075 kWh. RAM Power : 42.987337589263916 W\n",
      "[codecarbon INFO @ 16:51:43] Energy consumed for all GPUs : 0.104338 kWh. Total GPU Power : 260.915969901085 W\n",
      "[codecarbon INFO @ 16:51:43] Energy consumed for all CPUs : 0.017886 kWh. Total CPU Power : 42.5 W\n",
      "[codecarbon INFO @ 16:51:43] 0.140299 kWh of electricity used since the beginning.\n",
      "     59/100        38G     0.2572      0.197     0.9304         29        640: 100%|██████████| 156/156 [01:42<00:00,  1.53it/s]\n",
      "                 Class     Images  Instances      Box(P          R      mAP50  mAP50-95):  84%|████████▍ | 16/19 [00:10<00:01,  1.67it/s][codecarbon INFO @ 16:51:58] Energy consumed for RAM : 0.018254 kWh. RAM Power : 42.987337589263916 W\n",
      "[codecarbon INFO @ 16:51:58] Energy consumed for all GPUs : 0.105299 kWh. Total GPU Power : 230.71722368562138 W\n",
      "[codecarbon INFO @ 16:51:58] Energy consumed for all CPUs : 0.018063 kWh. Total CPU Power : 42.5 W\n",
      "[codecarbon INFO @ 16:51:58] 0.141616 kWh of electricity used since the beginning.\n",
      "                 Class     Images  Instances      Box(P          R      mAP50  mAP50-95): 100%|██████████| 19/19 [00:11<00:00,  1.65it/s]"
     ]
    },
    {
     "name": "stdout",
     "output_type": "stream",
     "text": [
      "                   all       2844       3135      0.965      0.952      0.984      0.906\n"
     ]
    },
    {
     "name": "stderr",
     "output_type": "stream",
     "text": [
      "\n"
     ]
    },
    {
     "name": "stdout",
     "output_type": "stream",
     "text": [
      "\n",
      "      Epoch    GPU_mem   box_loss   cls_loss   dfl_loss  Instances       Size\n"
     ]
    },
    {
     "name": "stderr",
     "output_type": "stream",
     "text": [
      "     60/100        38G     0.2646     0.2037     0.9292        179        640:  12%|█▏        | 19/156 [00:12<01:30,  1.52it/s][codecarbon INFO @ 16:52:13] Energy consumed for RAM : 0.018433 kWh. RAM Power : 42.987337589263916 W\n",
      "[codecarbon INFO @ 16:52:13] Energy consumed for all GPUs : 0.106303 kWh. Total GPU Power : 241.24157614221946 W\n",
      "[codecarbon INFO @ 16:52:13] Energy consumed for all CPUs : 0.018240 kWh. Total CPU Power : 42.5 W\n",
      "[codecarbon INFO @ 16:52:13] 0.142976 kWh of electricity used since the beginning.\n",
      "     60/100        38G     0.2625     0.1992     0.9262        179        640:  27%|██▋       | 42/156 [00:27<01:14,  1.53it/s][codecarbon INFO @ 16:52:28] Energy consumed for RAM : 0.018612 kWh. RAM Power : 42.987337589263916 W\n",
      "[codecarbon INFO @ 16:52:28] Energy consumed for all GPUs : 0.107375 kWh. Total GPU Power : 257.18567863126736 W\n",
      "[codecarbon INFO @ 16:52:28] Energy consumed for all CPUs : 0.018417 kWh. Total CPU Power : 42.5 W\n",
      "[codecarbon INFO @ 16:52:28] 0.144404 kWh of electricity used since the beginning.\n",
      "[codecarbon ERROR @ 16:52:28] Region:  not found for Country with ISO CODE : USA\n",
      "Traceback (most recent call last):\n",
      "  File \"/home/rocky/miniconda3/envs/jupyterlab/lib/python3.12/site-packages/codecarbon/core/emissions.py\", line 142, in get_private_infra_emissions\n",
      "    return self.get_region_emissions(energy, geo)\n",
      "           ^^^^^^^^^^^^^^^^^^^^^^^^^^^^^^^^^^^^^^\n",
      "  File \"/home/rocky/miniconda3/envs/jupyterlab/lib/python3.12/site-packages/codecarbon/core/emissions.py\", line 168, in get_region_emissions\n",
      "    raise ValueError(\n",
      "ValueError: Region:  not found for Country with ISO CODE : USA\n",
      "[codecarbon WARNING @ 16:52:28] Regional emissions retrieval failed. Falling back on country emissions.\n",
      "[codecarbon INFO @ 16:52:28] 0.034737 g.CO2eq/s mean an estimation of 1,095.4535414241034 kg.CO2eq/year\n",
      "     60/100        38G     0.2585      0.197      0.923        181        640:  42%|████▏     | 65/156 [00:42<00:59,  1.53it/s][codecarbon INFO @ 16:52:43] Energy consumed for RAM : 0.018791 kWh. RAM Power : 42.987337589263916 W\n",
      "[codecarbon INFO @ 16:52:43] Energy consumed for all GPUs : 0.108451 kWh. Total GPU Power : 258.4124410049529 W\n",
      "[codecarbon INFO @ 16:52:43] Energy consumed for all CPUs : 0.018594 kWh. Total CPU Power : 42.5 W\n",
      "[codecarbon INFO @ 16:52:43] 0.145836 kWh of electricity used since the beginning.\n",
      "     60/100        38G     0.2586     0.1977     0.9239        180        640:  56%|█████▌    | 87/156 [00:57<00:45,  1.53it/s][codecarbon INFO @ 16:52:58] Energy consumed for RAM : 0.018971 kWh. RAM Power : 42.987337589263916 W\n",
      "[codecarbon INFO @ 16:52:58] Energy consumed for all GPUs : 0.109533 kWh. Total GPU Power : 259.7593588644619 W\n",
      "[codecarbon INFO @ 16:52:58] Energy consumed for all CPUs : 0.018771 kWh. Total CPU Power : 42.5 W\n",
      "[codecarbon INFO @ 16:52:58] 0.147275 kWh of electricity used since the beginning.\n",
      "     60/100        38G     0.2557     0.1963     0.9228        157        640:  71%|███████   | 110/156 [01:12<00:30,  1.53it/s][codecarbon INFO @ 16:53:13] Energy consumed for RAM : 0.019150 kWh. RAM Power : 42.987337589263916 W\n",
      "[codecarbon INFO @ 16:53:13] Energy consumed for all GPUs : 0.110617 kWh. Total GPU Power : 260.1463577226681 W\n",
      "[codecarbon INFO @ 16:53:13] Energy consumed for all CPUs : 0.018948 kWh. Total CPU Power : 42.5 W\n",
      "[codecarbon INFO @ 16:53:13] 0.148714 kWh of electricity used since the beginning.\n",
      "     60/100        38G     0.2549     0.1957     0.9224        179        640:  85%|████████▌ | 133/156 [01:27<00:15,  1.53it/s][codecarbon INFO @ 16:53:28] Energy consumed for RAM : 0.019329 kWh. RAM Power : 42.987337589263916 W\n",
      "[codecarbon INFO @ 16:53:28] Energy consumed for all GPUs : 0.111692 kWh. Total GPU Power : 258.07284630340007 W\n",
      "[codecarbon INFO @ 16:53:28] Energy consumed for all CPUs : 0.019125 kWh. Total CPU Power : 42.5 W\n",
      "[codecarbon INFO @ 16:53:28] 0.150145 kWh of electricity used since the beginning.\n",
      "     60/100        38G     0.2556      0.196      0.923         22        640: 100%|██████████| 156/156 [01:41<00:00,  1.53it/s]\n",
      "                 Class     Images  Instances      Box(P          R      mAP50  mAP50-95):   5%|▌         | 1/19 [00:00<00:11,  1.51it/s][codecarbon INFO @ 16:53:43] Energy consumed for RAM : 0.019508 kWh. RAM Power : 42.987337589263916 W\n",
      "[codecarbon INFO @ 16:53:43] Energy consumed for all GPUs : 0.112764 kWh. Total GPU Power : 257.3112168535837 W\n",
      "[codecarbon INFO @ 16:53:43] Energy consumed for all CPUs : 0.019302 kWh. Total CPU Power : 42.5 W\n",
      "[codecarbon INFO @ 16:53:43] 0.151573 kWh of electricity used since the beginning.\n",
      "                 Class     Images  Instances      Box(P          R      mAP50  mAP50-95): 100%|██████████| 19/19 [00:11<00:00,  1.68it/s]"
     ]
    },
    {
     "name": "stdout",
     "output_type": "stream",
     "text": [
      "                   all       2844       3135      0.966      0.954      0.985      0.909\n"
     ]
    },
    {
     "name": "stderr",
     "output_type": "stream",
     "text": [
      "\n"
     ]
    },
    {
     "name": "stdout",
     "output_type": "stream",
     "text": [
      "\n",
      "      Epoch    GPU_mem   box_loss   cls_loss   dfl_loss  Instances       Size\n"
     ]
    },
    {
     "name": "stderr",
     "output_type": "stream",
     "text": [
      "     61/100      37.9G     0.2544     0.1974     0.9214        179        640:   3%|▎         | 5/156 [00:03<01:39,  1.52it/s][codecarbon INFO @ 16:53:58] Energy consumed for RAM : 0.019687 kWh. RAM Power : 42.987337589263916 W\n",
      "[codecarbon INFO @ 16:53:58] Energy consumed for all GPUs : 0.113679 kWh. Total GPU Power : 219.70546823510662 W\n",
      "[codecarbon INFO @ 16:53:58] Energy consumed for all CPUs : 0.019479 kWh. Total CPU Power : 42.5 W\n",
      "[codecarbon INFO @ 16:53:58] 0.152845 kWh of electricity used since the beginning.\n",
      "     61/100      37.9G     0.2541      0.193     0.9224        174        640:  18%|█▊        | 28/156 [00:18<01:23,  1.53it/s][codecarbon INFO @ 16:54:13] Energy consumed for RAM : 0.019866 kWh. RAM Power : 42.987337589263916 W\n",
      "[codecarbon INFO @ 16:54:13] Energy consumed for all GPUs : 0.114750 kWh. Total GPU Power : 257.31003363825675 W\n",
      "[codecarbon INFO @ 16:54:13] Energy consumed for all CPUs : 0.019656 kWh. Total CPU Power : 42.5 W\n",
      "[codecarbon INFO @ 16:54:13] 0.154272 kWh of electricity used since the beginning.\n",
      "     61/100      37.9G       0.25     0.1911     0.9209        181        640:  32%|███▏      | 50/156 [00:32<01:09,  1.53it/s][codecarbon INFO @ 16:54:28] Energy consumed for RAM : 0.020045 kWh. RAM Power : 42.987337589263916 W\n",
      "[codecarbon INFO @ 16:54:28] Energy consumed for all GPUs : 0.115829 kWh. Total GPU Power : 259.02194082115534 W\n",
      "[codecarbon INFO @ 16:54:28] Energy consumed for all CPUs : 0.019833 kWh. Total CPU Power : 42.5 W\n",
      "[codecarbon INFO @ 16:54:28] 0.155708 kWh of electricity used since the beginning.\n",
      "[codecarbon ERROR @ 16:54:28] Region:  not found for Country with ISO CODE : USA\n",
      "Traceback (most recent call last):\n",
      "  File \"/home/rocky/miniconda3/envs/jupyterlab/lib/python3.12/site-packages/codecarbon/core/emissions.py\", line 142, in get_private_infra_emissions\n",
      "    return self.get_region_emissions(energy, geo)\n",
      "           ^^^^^^^^^^^^^^^^^^^^^^^^^^^^^^^^^^^^^^\n",
      "  File \"/home/rocky/miniconda3/envs/jupyterlab/lib/python3.12/site-packages/codecarbon/core/emissions.py\", line 168, in get_region_emissions\n",
      "    raise ValueError(\n",
      "ValueError: Region:  not found for Country with ISO CODE : USA\n",
      "[codecarbon WARNING @ 16:54:28] Regional emissions retrieval failed. Falling back on country emissions.\n",
      "[codecarbon INFO @ 16:54:28] 0.034802 g.CO2eq/s mean an estimation of 1,097.5258787404669 kg.CO2eq/year\n",
      "     61/100      37.9G     0.2494     0.1927     0.9214        165        640:  47%|████▋     | 73/156 [00:47<00:54,  1.53it/s][codecarbon INFO @ 16:54:43] Energy consumed for RAM : 0.020224 kWh. RAM Power : 42.987337589263916 W\n",
      "[codecarbon INFO @ 16:54:43] Energy consumed for all GPUs : 0.116913 kWh. Total GPU Power : 260.098245338115 W\n",
      "[codecarbon INFO @ 16:54:43] Energy consumed for all CPUs : 0.020011 kWh. Total CPU Power : 42.5 W\n",
      "[codecarbon INFO @ 16:54:43] 0.157147 kWh of electricity used since the beginning.\n",
      "     61/100      37.9G     0.2489     0.1907     0.9217        188        640:  62%|██████▏   | 96/156 [01:02<00:39,  1.53it/s][codecarbon INFO @ 16:54:58] Energy consumed for RAM : 0.020403 kWh. RAM Power : 42.987337589263916 W\n",
      "[codecarbon INFO @ 16:54:58] Energy consumed for all GPUs : 0.117991 kWh. Total GPU Power : 258.9188155879542 W\n",
      "[codecarbon INFO @ 16:54:58] Energy consumed for all CPUs : 0.020188 kWh. Total CPU Power : 42.5 W\n",
      "[codecarbon INFO @ 16:54:58] 0.158582 kWh of electricity used since the beginning.\n",
      "     61/100      37.9G     0.2504     0.1912     0.9222        182        640:  76%|███████▋  | 119/156 [01:18<00:24,  1.52it/s][codecarbon INFO @ 16:55:13] Energy consumed for RAM : 0.020582 kWh. RAM Power : 42.987337589263916 W\n",
      "[codecarbon INFO @ 16:55:13] Energy consumed for all GPUs : 0.119071 kWh. Total GPU Power : 259.22839154335315 W\n",
      "[codecarbon INFO @ 16:55:13] Energy consumed for all CPUs : 0.020365 kWh. Total CPU Power : 42.5 W\n",
      "[codecarbon INFO @ 16:55:13] 0.160018 kWh of electricity used since the beginning.\n",
      "     61/100      37.9G     0.2501     0.1915     0.9224        167        640:  91%|█████████ | 142/156 [01:33<00:09,  1.52it/s][codecarbon INFO @ 16:55:28] Energy consumed for RAM : 0.020761 kWh. RAM Power : 42.987337589263916 W\n",
      "[codecarbon INFO @ 16:55:28] Energy consumed for all GPUs : 0.120146 kWh. Total GPU Power : 257.8683809846064 W\n",
      "[codecarbon INFO @ 16:55:28] Energy consumed for all CPUs : 0.020542 kWh. Total CPU Power : 42.5 W\n",
      "[codecarbon INFO @ 16:55:28] 0.161449 kWh of electricity used since the beginning.\n",
      "     61/100      37.9G     0.2497     0.1923     0.9219         27        640: 100%|██████████| 156/156 [01:41<00:00,  1.53it/s]\n",
      "                 Class     Images  Instances      Box(P          R      mAP50  mAP50-95):  53%|█████▎    | 10/19 [00:06<00:05,  1.56it/s][codecarbon INFO @ 16:55:43] Energy consumed for RAM : 0.020940 kWh. RAM Power : 42.987337589263916 W\n",
      "[codecarbon INFO @ 16:55:43] Energy consumed for all GPUs : 0.121135 kWh. Total GPU Power : 237.4736738925507 W\n",
      "[codecarbon INFO @ 16:55:43] Energy consumed for all CPUs : 0.020719 kWh. Total CPU Power : 42.5 W\n",
      "[codecarbon INFO @ 16:55:43] 0.162794 kWh of electricity used since the beginning.\n",
      "                 Class     Images  Instances      Box(P          R      mAP50  mAP50-95): 100%|██████████| 19/19 [00:11<00:00,  1.67it/s]"
     ]
    },
    {
     "name": "stdout",
     "output_type": "stream",
     "text": [
      "                   all       2844       3135      0.969      0.959      0.988      0.909\n"
     ]
    },
    {
     "name": "stderr",
     "output_type": "stream",
     "text": [
      "\n"
     ]
    },
    {
     "name": "stdout",
     "output_type": "stream",
     "text": [
      "\n",
      "      Epoch    GPU_mem   box_loss   cls_loss   dfl_loss  Instances       Size\n"
     ]
    },
    {
     "name": "stderr",
     "output_type": "stream",
     "text": [
      "     62/100        38G     0.2526     0.1904     0.9199        162        640:   8%|▊         | 12/156 [00:08<01:34,  1.52it/s][codecarbon INFO @ 16:55:58] Energy consumed for RAM : 0.021119 kWh. RAM Power : 42.987337589263916 W\n",
      "[codecarbon INFO @ 16:55:58] Energy consumed for all GPUs : 0.122072 kWh. Total GPU Power : 224.93698066679553 W\n",
      "[codecarbon INFO @ 16:55:58] Energy consumed for all CPUs : 0.020896 kWh. Total CPU Power : 42.5 W\n",
      "[codecarbon INFO @ 16:55:58] 0.164087 kWh of electricity used since the beginning.\n",
      "     62/100        38G      0.251     0.1937     0.9206        183        640:  22%|██▏       | 35/156 [00:23<01:19,  1.53it/s][codecarbon INFO @ 16:56:13] Energy consumed for RAM : 0.021298 kWh. RAM Power : 42.987337589263916 W\n",
      "[codecarbon INFO @ 16:56:13] Energy consumed for all GPUs : 0.123140 kWh. Total GPU Power : 256.4431205043594 W\n",
      "[codecarbon INFO @ 16:56:13] Energy consumed for all CPUs : 0.021073 kWh. Total CPU Power : 42.5 W\n",
      "[codecarbon INFO @ 16:56:13] 0.165512 kWh of electricity used since the beginning.\n",
      "     62/100        38G     0.2485     0.1923     0.9202        177        640:  37%|███▋      | 58/156 [00:38<01:04,  1.53it/s][codecarbon INFO @ 16:56:28] Energy consumed for RAM : 0.021477 kWh. RAM Power : 42.987337589263916 W\n",
      "[codecarbon INFO @ 16:56:28] Energy consumed for all GPUs : 0.124216 kWh. Total GPU Power : 258.1095617466559 W\n",
      "[codecarbon INFO @ 16:56:28] Energy consumed for all CPUs : 0.021250 kWh. Total CPU Power : 42.5 W\n",
      "[codecarbon INFO @ 16:56:28] 0.166943 kWh of electricity used since the beginning.\n",
      "[codecarbon ERROR @ 16:56:28] Region:  not found for Country with ISO CODE : USA\n",
      "Traceback (most recent call last):\n",
      "  File \"/home/rocky/miniconda3/envs/jupyterlab/lib/python3.12/site-packages/codecarbon/core/emissions.py\", line 142, in get_private_infra_emissions\n",
      "    return self.get_region_emissions(energy, geo)\n",
      "           ^^^^^^^^^^^^^^^^^^^^^^^^^^^^^^^^^^^^^^\n",
      "  File \"/home/rocky/miniconda3/envs/jupyterlab/lib/python3.12/site-packages/codecarbon/core/emissions.py\", line 168, in get_region_emissions\n",
      "    raise ValueError(\n",
      "ValueError: Region:  not found for Country with ISO CODE : USA\n",
      "[codecarbon WARNING @ 16:56:28] Regional emissions retrieval failed. Falling back on country emissions.\n",
      "[codecarbon INFO @ 16:56:28] 0.034587 g.CO2eq/s mean an estimation of 1,090.74690344176 kg.CO2eq/year\n",
      "     62/100        38G     0.2466     0.1928     0.9181        201        640:  52%|█████▏    | 81/156 [00:53<00:49,  1.53it/s][codecarbon INFO @ 16:56:43] Energy consumed for RAM : 0.021656 kWh. RAM Power : 42.987337589263916 W\n",
      "[codecarbon INFO @ 16:56:43] Energy consumed for all GPUs : 0.125290 kWh. Total GPU Power : 257.90286922294496 W\n",
      "[codecarbon INFO @ 16:56:43] Energy consumed for all CPUs : 0.021427 kWh. Total CPU Power : 42.5 W\n",
      "[codecarbon INFO @ 16:56:43] 0.168373 kWh of electricity used since the beginning.\n",
      "     62/100        38G     0.2473     0.1927     0.9187        172        640:  67%|██████▋   | 104/156 [01:08<00:34,  1.53it/s][codecarbon INFO @ 16:56:58] Energy consumed for RAM : 0.021835 kWh. RAM Power : 42.987337589263916 W\n",
      "[codecarbon INFO @ 16:56:58] Energy consumed for all GPUs : 0.126374 kWh. Total GPU Power : 260.34138181431024 W\n",
      "[codecarbon INFO @ 16:56:58] Energy consumed for all CPUs : 0.021604 kWh. Total CPU Power : 42.5 W\n",
      "[codecarbon INFO @ 16:56:58] 0.169813 kWh of electricity used since the beginning.\n",
      "     62/100        38G     0.2463     0.1918     0.9185        161        640:  81%|████████  | 126/156 [01:23<00:19,  1.53it/s][codecarbon INFO @ 16:57:13] Energy consumed for RAM : 0.022014 kWh. RAM Power : 42.987337589263916 W\n",
      "[codecarbon INFO @ 16:57:13] Energy consumed for all GPUs : 0.127454 kWh. Total GPU Power : 259.258860383821 W\n",
      "[codecarbon INFO @ 16:57:13] Energy consumed for all CPUs : 0.021781 kWh. Total CPU Power : 42.5 W\n",
      "[codecarbon INFO @ 16:57:13] 0.171250 kWh of electricity used since the beginning.\n",
      "     62/100        38G     0.2465     0.1926     0.9194        173        640:  96%|█████████▌| 149/156 [01:38<00:04,  1.53it/s][codecarbon INFO @ 16:57:28] Energy consumed for RAM : 0.022193 kWh. RAM Power : 42.987337589263916 W\n",
      "[codecarbon INFO @ 16:57:28] Energy consumed for all GPUs : 0.128529 kWh. Total GPU Power : 258.16400158657376 W\n",
      "[codecarbon INFO @ 16:57:28] Energy consumed for all CPUs : 0.021958 kWh. Total CPU Power : 42.5 W\n",
      "[codecarbon INFO @ 16:57:28] 0.172681 kWh of electricity used since the beginning.\n",
      "     62/100        38G     0.2463     0.1927     0.9192         27        640: 100%|██████████| 156/156 [01:42<00:00,  1.52it/s]\n",
      "                 Class     Images  Instances      Box(P          R      mAP50  mAP50-95):  95%|█████████▍| 18/19 [00:11<00:00,  1.94it/s][codecarbon INFO @ 16:57:43] Energy consumed for RAM : 0.022372 kWh. RAM Power : 42.987337589263916 W\n",
      "[codecarbon INFO @ 16:57:43] Energy consumed for all GPUs : 0.129470 kWh. Total GPU Power : 225.87399855884948 W\n",
      "[codecarbon INFO @ 16:57:43] Energy consumed for all CPUs : 0.022136 kWh. Total CPU Power : 42.5 W\n",
      "[codecarbon INFO @ 16:57:43] 0.173978 kWh of electricity used since the beginning.\n",
      "                 Class     Images  Instances      Box(P          R      mAP50  mAP50-95): 100%|██████████| 19/19 [00:11<00:00,  1.64it/s]"
     ]
    },
    {
     "name": "stdout",
     "output_type": "stream",
     "text": [
      "                   all       2844       3135      0.965      0.959      0.987       0.91\n"
     ]
    },
    {
     "name": "stderr",
     "output_type": "stream",
     "text": [
      "\n"
     ]
    },
    {
     "name": "stdout",
     "output_type": "stream",
     "text": [
      "\n",
      "      Epoch    GPU_mem   box_loss   cls_loss   dfl_loss  Instances       Size\n"
     ]
    },
    {
     "name": "stderr",
     "output_type": "stream",
     "text": [
      "     63/100        38G     0.2472     0.1953     0.9216        175        640:  13%|█▎        | 20/156 [00:13<01:28,  1.53it/s][codecarbon INFO @ 16:57:58] Energy consumed for RAM : 0.022551 kWh. RAM Power : 42.987337589263916 W\n",
      "[codecarbon INFO @ 16:57:58] Energy consumed for all GPUs : 0.130471 kWh. Total GPU Power : 240.4196847961539 W\n",
      "[codecarbon INFO @ 16:57:58] Energy consumed for all CPUs : 0.022313 kWh. Total CPU Power : 42.5 W\n",
      "[codecarbon INFO @ 16:57:58] 0.175335 kWh of electricity used since the beginning.\n",
      "     63/100        38G     0.2442     0.1914     0.9216        178        640:  28%|██▊       | 43/156 [00:28<01:13,  1.54it/s][codecarbon INFO @ 16:58:13] Energy consumed for RAM : 0.022730 kWh. RAM Power : 42.987337589263916 W\n",
      "[codecarbon INFO @ 16:58:13] Energy consumed for all GPUs : 0.131540 kWh. Total GPU Power : 256.46509881714036 W\n",
      "[codecarbon INFO @ 16:58:13] Energy consumed for all CPUs : 0.022490 kWh. Total CPU Power : 42.5 W\n",
      "[codecarbon INFO @ 16:58:13] 0.176760 kWh of electricity used since the beginning.\n",
      "     63/100        38G      0.243     0.1886     0.9207        190        640:  42%|████▏     | 66/156 [00:43<00:58,  1.53it/s][codecarbon INFO @ 16:58:28] Energy consumed for RAM : 0.022909 kWh. RAM Power : 42.987337589263916 W\n",
      "[codecarbon INFO @ 16:58:28] Energy consumed for all GPUs : 0.132604 kWh. Total GPU Power : 255.42314168782244 W\n",
      "[codecarbon INFO @ 16:58:28] Energy consumed for all CPUs : 0.022667 kWh. Total CPU Power : 42.5 W\n",
      "[codecarbon INFO @ 16:58:28] 0.178180 kWh of electricity used since the beginning.\n",
      "[codecarbon ERROR @ 16:58:28] Region:  not found for Country with ISO CODE : USA\n",
      "Traceback (most recent call last):\n",
      "  File \"/home/rocky/miniconda3/envs/jupyterlab/lib/python3.12/site-packages/codecarbon/core/emissions.py\", line 142, in get_private_infra_emissions\n",
      "    return self.get_region_emissions(energy, geo)\n",
      "           ^^^^^^^^^^^^^^^^^^^^^^^^^^^^^^^^^^^^^^\n",
      "  File \"/home/rocky/miniconda3/envs/jupyterlab/lib/python3.12/site-packages/codecarbon/core/emissions.py\", line 168, in get_region_emissions\n",
      "    raise ValueError(\n",
      "ValueError: Region:  not found for Country with ISO CODE : USA\n",
      "[codecarbon WARNING @ 16:58:28] Regional emissions retrieval failed. Falling back on country emissions.\n",
      "[codecarbon INFO @ 16:58:28] 0.034598 g.CO2eq/s mean an estimation of 1,091.0843530727693 kg.CO2eq/year\n",
      "     63/100        38G     0.2433     0.1886       0.92        170        640:  57%|█████▋    | 89/156 [00:58<00:43,  1.53it/s][codecarbon INFO @ 16:58:43] Energy consumed for RAM : 0.023089 kWh. RAM Power : 42.987337589263916 W\n",
      "[codecarbon INFO @ 16:58:43] Energy consumed for all GPUs : 0.133664 kWh. Total GPU Power : 254.53808810142513 W\n",
      "[codecarbon INFO @ 16:58:43] Energy consumed for all CPUs : 0.022844 kWh. Total CPU Power : 42.5 W\n",
      "[codecarbon INFO @ 16:58:43] 0.179596 kWh of electricity used since the beginning.\n",
      "     63/100        38G     0.2423      0.187     0.9197        167        640:  72%|███████▏  | 112/156 [01:13<00:28,  1.53it/s][codecarbon INFO @ 16:58:58] Energy consumed for RAM : 0.023268 kWh. RAM Power : 42.987337589263916 W\n",
      "[codecarbon INFO @ 16:58:58] Energy consumed for all GPUs : 0.134712 kWh. Total GPU Power : 251.55556767222336 W\n",
      "[codecarbon INFO @ 16:58:58] Energy consumed for all CPUs : 0.023021 kWh. Total CPU Power : 42.5 W\n",
      "[codecarbon INFO @ 16:58:58] 0.181000 kWh of electricity used since the beginning.\n",
      "     63/100        38G     0.2417     0.1869       0.92        188        640:  87%|████████▋ | 135/156 [01:28<00:13,  1.53it/s][codecarbon INFO @ 16:59:13] Energy consumed for RAM : 0.023447 kWh. RAM Power : 42.987337589263916 W\n",
      "[codecarbon INFO @ 16:59:13] Energy consumed for all GPUs : 0.135751 kWh. Total GPU Power : 249.49063719271098 W\n",
      "[codecarbon INFO @ 16:59:13] Energy consumed for all CPUs : 0.023198 kWh. Total CPU Power : 42.5 W\n",
      "[codecarbon INFO @ 16:59:13] 0.182396 kWh of electricity used since the beginning.\n",
      "     63/100        38G     0.2406     0.1863     0.9199         26        640: 100%|██████████| 156/156 [01:41<00:00,  1.54it/s]\n",
      "                 Class     Images  Instances      Box(P          R      mAP50  mAP50-95):  16%|█▌        | 3/19 [00:01<00:10,  1.55it/s][codecarbon INFO @ 16:59:28] Energy consumed for RAM : 0.023626 kWh. RAM Power : 42.987337589263916 W\n",
      "[codecarbon INFO @ 16:59:28] Energy consumed for all GPUs : 0.136764 kWh. Total GPU Power : 243.16388932836207 W\n",
      "[codecarbon INFO @ 16:59:28] Energy consumed for all CPUs : 0.023375 kWh. Total CPU Power : 42.5 W\n",
      "[codecarbon INFO @ 16:59:28] 0.183765 kWh of electricity used since the beginning.\n",
      "                 Class     Images  Instances      Box(P          R      mAP50  mAP50-95): 100%|██████████| 19/19 [00:11<00:00,  1.70it/s]"
     ]
    },
    {
     "name": "stdout",
     "output_type": "stream",
     "text": [
      "                   all       2844       3135      0.969      0.957      0.987      0.908\n"
     ]
    },
    {
     "name": "stderr",
     "output_type": "stream",
     "text": [
      "\n"
     ]
    },
    {
     "name": "stdout",
     "output_type": "stream",
     "text": [
      "\n",
      "      Epoch    GPU_mem   box_loss   cls_loss   dfl_loss  Instances       Size\n"
     ]
    },
    {
     "name": "stderr",
     "output_type": "stream",
     "text": [
      "     64/100        38G     0.2405     0.1789     0.9222        178        640:   4%|▍         | 7/156 [00:04<01:37,  1.52it/s][codecarbon INFO @ 16:59:43] Energy consumed for RAM : 0.023805 kWh. RAM Power : 42.987337589263916 W\n",
      "[codecarbon INFO @ 16:59:43] Energy consumed for all GPUs : 0.137664 kWh. Total GPU Power : 216.09396201970776 W\n",
      "[codecarbon INFO @ 16:59:43] Energy consumed for all CPUs : 0.023552 kWh. Total CPU Power : 42.5 W\n",
      "[codecarbon INFO @ 16:59:43] 0.185021 kWh of electricity used since the beginning.\n",
      "     64/100        38G     0.2376     0.1845     0.9184        158        640:  19%|█▉        | 30/156 [00:19<01:23,  1.51it/s][codecarbon INFO @ 16:59:58] Energy consumed for RAM : 0.023984 kWh. RAM Power : 42.987337589263916 W\n",
      "[codecarbon INFO @ 16:59:58] Energy consumed for all GPUs : 0.138689 kWh. Total GPU Power : 245.6068879722391 W\n",
      "[codecarbon INFO @ 16:59:58] Energy consumed for all CPUs : 0.023729 kWh. Total CPU Power : 42.5 W\n",
      "[codecarbon INFO @ 16:59:58] 0.186402 kWh of electricity used since the beginning.\n",
      "     64/100        38G     0.2379     0.1828     0.9171        177        640:  34%|███▍      | 53/156 [00:34<01:07,  1.53it/s][codecarbon INFO @ 17:00:13] Energy consumed for RAM : 0.024163 kWh. RAM Power : 42.987337589263916 W\n",
      "[codecarbon INFO @ 17:00:13] Energy consumed for all GPUs : 0.139727 kWh. Total GPU Power : 249.36181377193702 W\n",
      "[codecarbon INFO @ 17:00:13] Energy consumed for all CPUs : 0.023906 kWh. Total CPU Power : 42.5 W\n",
      "[codecarbon INFO @ 17:00:13] 0.187797 kWh of electricity used since the beginning.\n",
      "     64/100        38G     0.2381     0.1821     0.9183        167        640:  48%|████▊     | 75/156 [00:49<00:53,  1.52it/s][codecarbon INFO @ 17:00:28] Energy consumed for RAM : 0.024342 kWh. RAM Power : 42.987337589263916 W\n",
      "[codecarbon INFO @ 17:00:28] Energy consumed for all GPUs : 0.140763 kWh. Total GPU Power : 248.5932984108673 W\n",
      "[codecarbon INFO @ 17:00:28] Energy consumed for all CPUs : 0.024084 kWh. Total CPU Power : 42.5 W\n",
      "[codecarbon INFO @ 17:00:28] 0.189188 kWh of electricity used since the beginning.\n",
      "[codecarbon ERROR @ 17:00:28] Region:  not found for Country with ISO CODE : USA\n",
      "Traceback (most recent call last):\n",
      "  File \"/home/rocky/miniconda3/envs/jupyterlab/lib/python3.12/site-packages/codecarbon/core/emissions.py\", line 142, in get_private_infra_emissions\n",
      "    return self.get_region_emissions(energy, geo)\n",
      "           ^^^^^^^^^^^^^^^^^^^^^^^^^^^^^^^^^^^^^^\n",
      "  File \"/home/rocky/miniconda3/envs/jupyterlab/lib/python3.12/site-packages/codecarbon/core/emissions.py\", line 168, in get_region_emissions\n",
      "    raise ValueError(\n",
      "ValueError: Region:  not found for Country with ISO CODE : USA\n",
      "[codecarbon WARNING @ 17:00:28] Regional emissions retrieval failed. Falling back on country emissions.\n",
      "[codecarbon INFO @ 17:00:28] 0.033888 g.CO2eq/s mean an estimation of 1,068.6959302566734 kg.CO2eq/year\n",
      "     64/100        38G     0.2365     0.1817     0.9163        189        640:  63%|██████▎   | 98/156 [01:04<00:38,  1.52it/s][codecarbon INFO @ 17:00:43] Energy consumed for RAM : 0.024521 kWh. RAM Power : 42.987337589263916 W\n",
      "[codecarbon INFO @ 17:00:43] Energy consumed for all GPUs : 0.141797 kWh. Total GPU Power : 248.23593299711013 W\n",
      "[codecarbon INFO @ 17:00:43] Energy consumed for all CPUs : 0.024261 kWh. Total CPU Power : 42.5 W\n",
      "[codecarbon INFO @ 17:00:43] 0.190578 kWh of electricity used since the beginning.\n",
      "     64/100        38G      0.237     0.1818     0.9168        193        640:  78%|███████▊  | 121/156 [01:19<00:22,  1.53it/s][codecarbon INFO @ 17:00:58] Energy consumed for RAM : 0.024700 kWh. RAM Power : 42.987337589263916 W\n",
      "[codecarbon INFO @ 17:00:58] Energy consumed for all GPUs : 0.142829 kWh. Total GPU Power : 247.83185861406636 W\n",
      "[codecarbon INFO @ 17:00:58] Energy consumed for all CPUs : 0.024438 kWh. Total CPU Power : 42.5 W\n",
      "[codecarbon INFO @ 17:00:58] 0.191967 kWh of electricity used since the beginning.\n",
      "     64/100        38G     0.2373     0.1823     0.9177        190        640:  92%|█████████▏| 144/156 [01:34<00:07,  1.52it/s][codecarbon INFO @ 17:01:13] Energy consumed for RAM : 0.024879 kWh. RAM Power : 42.987337589263916 W\n",
      "[codecarbon INFO @ 17:01:13] Energy consumed for all GPUs : 0.143864 kWh. Total GPU Power : 248.48602858249984 W\n",
      "[codecarbon INFO @ 17:01:13] Energy consumed for all CPUs : 0.024615 kWh. Total CPU Power : 42.5 W\n",
      "[codecarbon INFO @ 17:01:13] 0.193358 kWh of electricity used since the beginning.\n",
      "     64/100        38G     0.2378     0.1821     0.9185         24        640: 100%|██████████| 156/156 [01:42<00:00,  1.53it/s]\n",
      "                 Class     Images  Instances      Box(P          R      mAP50  mAP50-95):  58%|█████▊    | 11/19 [00:07<00:04,  1.69it/s][codecarbon INFO @ 17:01:28] Energy consumed for RAM : 0.025058 kWh. RAM Power : 42.987337589263916 W\n",
      "[codecarbon INFO @ 17:01:28] Energy consumed for all GPUs : 0.144801 kWh. Total GPU Power : 224.8079739124181 W\n",
      "[codecarbon INFO @ 17:01:28] Energy consumed for all CPUs : 0.024792 kWh. Total CPU Power : 42.5 W\n",
      "[codecarbon INFO @ 17:01:28] 0.194651 kWh of electricity used since the beginning.\n",
      "                 Class     Images  Instances      Box(P          R      mAP50  mAP50-95): 100%|██████████| 19/19 [00:11<00:00,  1.64it/s]"
     ]
    },
    {
     "name": "stdout",
     "output_type": "stream",
     "text": [
      "                   all       2844       3135       0.97      0.957      0.986       0.91\n"
     ]
    },
    {
     "name": "stderr",
     "output_type": "stream",
     "text": [
      "\n"
     ]
    },
    {
     "name": "stdout",
     "output_type": "stream",
     "text": [
      "\n",
      "      Epoch    GPU_mem   box_loss   cls_loss   dfl_loss  Instances       Size\n"
     ]
    },
    {
     "name": "stderr",
     "output_type": "stream",
     "text": [
      "     65/100        38G     0.2328      0.174      0.917        196        640:  10%|▉         | 15/156 [00:09<01:32,  1.52it/s][codecarbon INFO @ 17:01:43] Energy consumed for RAM : 0.025237 kWh. RAM Power : 42.987337589263916 W\n",
      "[codecarbon INFO @ 17:01:43] Energy consumed for all GPUs : 0.145746 kWh. Total GPU Power : 226.9971117314766 W\n",
      "[codecarbon INFO @ 17:01:43] Energy consumed for all CPUs : 0.024969 kWh. Total CPU Power : 42.5 W\n",
      "[codecarbon INFO @ 17:01:43] 0.195952 kWh of electricity used since the beginning.\n",
      "     65/100        38G     0.2371     0.1812     0.9166        185        640:  24%|██▍       | 38/156 [00:24<01:17,  1.53it/s][codecarbon INFO @ 17:01:58] Energy consumed for RAM : 0.025416 kWh. RAM Power : 42.987337589263916 W\n",
      "[codecarbon INFO @ 17:01:58] Energy consumed for all GPUs : 0.146783 kWh. Total GPU Power : 248.81633967730332 W\n",
      "[codecarbon INFO @ 17:01:58] Energy consumed for all CPUs : 0.025146 kWh. Total CPU Power : 42.5 W\n",
      "[codecarbon INFO @ 17:01:58] 0.197345 kWh of electricity used since the beginning.\n",
      "     65/100        38G     0.2368     0.1826     0.9175        188        640:  39%|███▉      | 61/156 [00:40<01:02,  1.53it/s][codecarbon INFO @ 17:02:13] Energy consumed for RAM : 0.025595 kWh. RAM Power : 42.987337589263916 W\n",
      "[codecarbon INFO @ 17:02:13] Energy consumed for all GPUs : 0.147822 kWh. Total GPU Power : 249.63442848841603 W\n",
      "[codecarbon INFO @ 17:02:13] Energy consumed for all CPUs : 0.025323 kWh. Total CPU Power : 42.5 W\n",
      "[codecarbon INFO @ 17:02:13] 0.198741 kWh of electricity used since the beginning.\n",
      "     65/100        38G     0.2366     0.1832     0.9179        162        640:  53%|█████▎    | 83/156 [00:54<00:47,  1.53it/s][codecarbon INFO @ 17:02:28] Energy consumed for RAM : 0.025774 kWh. RAM Power : 42.987337589263916 W\n",
      "[codecarbon INFO @ 17:02:28] Energy consumed for all GPUs : 0.148861 kWh. Total GPU Power : 249.30363731935884 W\n",
      "[codecarbon INFO @ 17:02:28] Energy consumed for all CPUs : 0.025500 kWh. Total CPU Power : 42.5 W\n",
      "[codecarbon INFO @ 17:02:28] 0.200135 kWh of electricity used since the beginning.\n",
      "[codecarbon ERROR @ 17:02:28] Region:  not found for Country with ISO CODE : USA\n",
      "Traceback (most recent call last):\n",
      "  File \"/home/rocky/miniconda3/envs/jupyterlab/lib/python3.12/site-packages/codecarbon/core/emissions.py\", line 142, in get_private_infra_emissions\n",
      "    return self.get_region_emissions(energy, geo)\n",
      "           ^^^^^^^^^^^^^^^^^^^^^^^^^^^^^^^^^^^^^^\n",
      "  File \"/home/rocky/miniconda3/envs/jupyterlab/lib/python3.12/site-packages/codecarbon/core/emissions.py\", line 168, in get_region_emissions\n",
      "    raise ValueError(\n",
      "ValueError: Region:  not found for Country with ISO CODE : USA\n",
      "[codecarbon WARNING @ 17:02:28] Regional emissions retrieval failed. Falling back on country emissions.\n",
      "[codecarbon INFO @ 17:02:28] 0.033704 g.CO2eq/s mean an estimation of 1,062.888531680197 kg.CO2eq/year\n",
      "     65/100        38G     0.2347      0.182     0.9159        181        640:  68%|██████▊   | 106/156 [01:09<00:32,  1.53it/s][codecarbon INFO @ 17:02:43] Energy consumed for RAM : 0.025953 kWh. RAM Power : 42.987337589263916 W\n",
      "[codecarbon INFO @ 17:02:43] Energy consumed for all GPUs : 0.149900 kWh. Total GPU Power : 249.34588725083205 W\n",
      "[codecarbon INFO @ 17:02:43] Energy consumed for all CPUs : 0.025677 kWh. Total CPU Power : 42.5 W\n",
      "[codecarbon INFO @ 17:02:43] 0.201530 kWh of electricity used since the beginning.\n",
      "     65/100        38G     0.2357     0.1816     0.9166        178        640:  83%|████████▎ | 129/156 [01:24<00:17,  1.53it/s][codecarbon INFO @ 17:02:58] Energy consumed for RAM : 0.026132 kWh. RAM Power : 42.987337589263916 W\n",
      "[codecarbon INFO @ 17:02:58] Energy consumed for all GPUs : 0.150941 kWh. Total GPU Power : 250.0141350931953 W\n",
      "[codecarbon INFO @ 17:02:58] Energy consumed for all CPUs : 0.025854 kWh. Total CPU Power : 42.5 W\n",
      "[codecarbon INFO @ 17:02:58] 0.202928 kWh of electricity used since the beginning.\n",
      "     65/100        38G     0.2339     0.1805     0.9158        169        640:  97%|█████████▋| 152/156 [01:39<00:02,  1.53it/s][codecarbon INFO @ 17:03:13] Energy consumed for RAM : 0.026311 kWh. RAM Power : 42.987337589263916 W\n",
      "[codecarbon INFO @ 17:03:13] Energy consumed for all GPUs : 0.151973 kWh. Total GPU Power : 247.653879979402 W\n",
      "[codecarbon INFO @ 17:03:13] Energy consumed for all CPUs : 0.026031 kWh. Total CPU Power : 42.5 W\n",
      "[codecarbon INFO @ 17:03:13] 0.204315 kWh of electricity used since the beginning.\n",
      "     65/100        38G     0.2337     0.1804     0.9155         25        640: 100%|██████████| 156/156 [01:41<00:00,  1.53it/s]\n",
      "                 Class     Images  Instances      Box(P          R      mAP50  mAP50-95): 100%|██████████| 19/19 [00:11<00:00,  1.62it/s]"
     ]
    },
    {
     "name": "stdout",
     "output_type": "stream",
     "text": [
      "                   all       2844       3135      0.967      0.965      0.986      0.912\n"
     ]
    },
    {
     "name": "stderr",
     "output_type": "stream",
     "text": [
      "\n"
     ]
    },
    {
     "name": "stdout",
     "output_type": "stream",
     "text": [
      "\n",
      "      Epoch    GPU_mem   box_loss   cls_loss   dfl_loss  Instances       Size\n"
     ]
    },
    {
     "name": "stderr",
     "output_type": "stream",
     "text": [
      "  0%|          | 0/156 [00:00<?, ?it/s][codecarbon INFO @ 17:03:28] Energy consumed for RAM : 0.026491 kWh. RAM Power : 42.987337589263916 W\n",
      "[codecarbon INFO @ 17:03:28] Energy consumed for all GPUs : 0.152827 kWh. Total GPU Power : 205.01516313789838 W\n",
      "[codecarbon INFO @ 17:03:28] Energy consumed for all CPUs : 0.026209 kWh. Total CPU Power : 42.5 W\n",
      "[codecarbon INFO @ 17:03:28] 0.205526 kWh of electricity used since the beginning.\n",
      "     66/100        38G     0.2297     0.1744     0.9135        175        640:  15%|█▍        | 23/156 [00:15<01:28,  1.51it/s][codecarbon INFO @ 17:03:43] Energy consumed for RAM : 0.026669 kWh. RAM Power : 42.987337589263916 W\n",
      "[codecarbon INFO @ 17:03:43] Energy consumed for all GPUs : 0.153848 kWh. Total GPU Power : 245.4233992192746 W\n",
      "[codecarbon INFO @ 17:03:43] Energy consumed for all CPUs : 0.026386 kWh. Total CPU Power : 42.5 W\n",
      "[codecarbon INFO @ 17:03:43] 0.206903 kWh of electricity used since the beginning.\n",
      "     66/100        38G     0.2301     0.1764     0.9123        184        640:  29%|██▉       | 46/156 [00:30<01:12,  1.52it/s][codecarbon INFO @ 17:03:58] Energy consumed for RAM : 0.026849 kWh. RAM Power : 42.987337589263916 W\n",
      "[codecarbon INFO @ 17:03:58] Energy consumed for all GPUs : 0.154882 kWh. Total GPU Power : 248.1908641836169 W\n",
      "[codecarbon INFO @ 17:03:58] Energy consumed for all CPUs : 0.026563 kWh. Total CPU Power : 42.5 W\n",
      "[codecarbon INFO @ 17:03:58] 0.208293 kWh of electricity used since the beginning.\n",
      "     66/100        38G     0.2279     0.1782     0.9108        182        640:  44%|████▎     | 68/156 [00:45<00:58,  1.51it/s][codecarbon INFO @ 17:04:13] Energy consumed for RAM : 0.027028 kWh. RAM Power : 42.987337589263916 W\n",
      "[codecarbon INFO @ 17:04:13] Energy consumed for all GPUs : 0.155913 kWh. Total GPU Power : 247.60155216150014 W\n",
      "[codecarbon INFO @ 17:04:13] Energy consumed for all CPUs : 0.026740 kWh. Total CPU Power : 42.5 W\n",
      "[codecarbon INFO @ 17:04:13] 0.209681 kWh of electricity used since the beginning.\n",
      "     66/100        38G     0.2267     0.1776     0.9116        180        640:  58%|█████▊    | 91/156 [01:00<00:43,  1.50it/s][codecarbon INFO @ 17:04:28] Energy consumed for RAM : 0.027207 kWh. RAM Power : 42.987337589263916 W\n",
      "[codecarbon INFO @ 17:04:28] Energy consumed for all GPUs : 0.156935 kWh. Total GPU Power : 245.1277897192274 W\n",
      "[codecarbon INFO @ 17:04:28] Energy consumed for all CPUs : 0.026917 kWh. Total CPU Power : 42.5 W\n",
      "[codecarbon INFO @ 17:04:28] 0.211058 kWh of electricity used since the beginning.\n",
      "[codecarbon ERROR @ 17:04:28] Region:  not found for Country with ISO CODE : USA\n",
      "Traceback (most recent call last):\n",
      "  File \"/home/rocky/miniconda3/envs/jupyterlab/lib/python3.12/site-packages/codecarbon/core/emissions.py\", line 142, in get_private_infra_emissions\n",
      "    return self.get_region_emissions(energy, geo)\n",
      "           ^^^^^^^^^^^^^^^^^^^^^^^^^^^^^^^^^^^^^^\n",
      "  File \"/home/rocky/miniconda3/envs/jupyterlab/lib/python3.12/site-packages/codecarbon/core/emissions.py\", line 168, in get_region_emissions\n",
      "    raise ValueError(\n",
      "ValueError: Region:  not found for Country with ISO CODE : USA\n",
      "[codecarbon WARNING @ 17:04:28] Regional emissions retrieval failed. Falling back on country emissions.\n",
      "[codecarbon INFO @ 17:04:28] 0.033629 g.CO2eq/s mean an estimation of 1,060.5183586669164 kg.CO2eq/year\n",
      "     66/100        38G      0.228     0.1785     0.9129        174        640:  73%|███████▎  | 114/156 [01:15<00:27,  1.52it/s][codecarbon INFO @ 17:04:43] Energy consumed for RAM : 0.027386 kWh. RAM Power : 42.987337589263916 W\n",
      "[codecarbon INFO @ 17:04:43] Energy consumed for all GPUs : 0.157970 kWh. Total GPU Power : 248.66655225979113 W\n",
      "[codecarbon INFO @ 17:04:43] Energy consumed for all CPUs : 0.027094 kWh. Total CPU Power : 42.5 W\n",
      "[codecarbon INFO @ 17:04:43] 0.212450 kWh of electricity used since the beginning.\n",
      "     66/100        38G     0.2278     0.1776     0.9131        182        640:  87%|████████▋ | 136/156 [01:29<00:13,  1.52it/s][codecarbon INFO @ 17:04:58] Energy consumed for RAM : 0.027565 kWh. RAM Power : 42.987337589263916 W\n",
      "[codecarbon INFO @ 17:04:58] Energy consumed for all GPUs : 0.159007 kWh. Total GPU Power : 248.88461779820184 W\n",
      "[codecarbon INFO @ 17:04:58] Energy consumed for all CPUs : 0.027271 kWh. Total CPU Power : 42.5 W\n",
      "[codecarbon INFO @ 17:04:58] 0.213843 kWh of electricity used since the beginning.\n",
      "     66/100        38G     0.2282     0.1778     0.9132         32        640: 100%|██████████| 156/156 [01:42<00:00,  1.52it/s]\n",
      "                 Class     Images  Instances      Box(P          R      mAP50  mAP50-95):  16%|█▌        | 3/19 [00:02<00:12,  1.33it/s][codecarbon INFO @ 17:05:13] Energy consumed for RAM : 0.027744 kWh. RAM Power : 42.987337589263916 W\n",
      "[codecarbon INFO @ 17:05:13] Energy consumed for all GPUs : 0.159995 kWh. Total GPU Power : 237.26354764085715 W\n",
      "[codecarbon INFO @ 17:05:13] Energy consumed for all CPUs : 0.027448 kWh. Total CPU Power : 42.5 W\n",
      "[codecarbon INFO @ 17:05:13] 0.215187 kWh of electricity used since the beginning.\n",
      "                 Class     Images  Instances      Box(P          R      mAP50  mAP50-95): 100%|██████████| 19/19 [00:11<00:00,  1.62it/s]"
     ]
    },
    {
     "name": "stdout",
     "output_type": "stream",
     "text": [
      "                   all       2844       3135      0.971      0.964      0.988      0.914\n"
     ]
    },
    {
     "name": "stderr",
     "output_type": "stream",
     "text": [
      "\n"
     ]
    },
    {
     "name": "stdout",
     "output_type": "stream",
     "text": [
      "\n",
      "      Epoch    GPU_mem   box_loss   cls_loss   dfl_loss  Instances       Size\n"
     ]
    },
    {
     "name": "stderr",
     "output_type": "stream",
     "text": [
      "     67/100        38G      0.217     0.1778     0.9022        199        640:   4%|▍         | 7/156 [00:04<01:37,  1.52it/s][codecarbon INFO @ 17:05:28] Energy consumed for RAM : 0.027923 kWh. RAM Power : 42.987337589263916 W\n",
      "[codecarbon INFO @ 17:05:28] Energy consumed for all GPUs : 0.160895 kWh. Total GPU Power : 215.99110390347178 W\n",
      "[codecarbon INFO @ 17:05:28] Energy consumed for all CPUs : 0.027625 kWh. Total CPU Power : 42.5 W\n",
      "[codecarbon INFO @ 17:05:28] 0.216443 kWh of electricity used since the beginning.\n",
      "     67/100        38G      0.223     0.1747     0.9091        186        640:  19%|█▉        | 30/156 [00:19<01:22,  1.53it/s][codecarbon INFO @ 17:05:43] Energy consumed for RAM : 0.028102 kWh. RAM Power : 42.987337589263916 W\n",
      "[codecarbon INFO @ 17:05:43] Energy consumed for all GPUs : 0.161931 kWh. Total GPU Power : 248.60605401888162 W\n",
      "[codecarbon INFO @ 17:05:43] Energy consumed for all CPUs : 0.027802 kWh. Total CPU Power : 42.5 W\n",
      "[codecarbon INFO @ 17:05:43] 0.217835 kWh of electricity used since the beginning.\n",
      "     67/100        38G     0.2215     0.1736     0.9079        173        640:  34%|███▍      | 53/156 [00:34<01:07,  1.53it/s][codecarbon INFO @ 17:05:58] Energy consumed for RAM : 0.028281 kWh. RAM Power : 42.987337589263916 W\n",
      "[codecarbon INFO @ 17:05:58] Energy consumed for all GPUs : 0.162966 kWh. Total GPU Power : 248.4185887719768 W\n",
      "[codecarbon INFO @ 17:05:58] Energy consumed for all CPUs : 0.027979 kWh. Total CPU Power : 42.5 W\n",
      "[codecarbon INFO @ 17:05:58] 0.219227 kWh of electricity used since the beginning.\n",
      "     67/100        38G     0.2242      0.175     0.9082        159        640:  49%|████▊     | 76/156 [00:49<00:52,  1.53it/s][codecarbon INFO @ 17:06:13] Energy consumed for RAM : 0.028460 kWh. RAM Power : 42.987337589263916 W\n",
      "[codecarbon INFO @ 17:06:13] Energy consumed for all GPUs : 0.164006 kWh. Total GPU Power : 249.59715215866092 W\n",
      "[codecarbon INFO @ 17:06:13] Energy consumed for all CPUs : 0.028156 kWh. Total CPU Power : 42.5 W\n",
      "[codecarbon INFO @ 17:06:13] 0.220622 kWh of electricity used since the beginning.\n",
      "     67/100        38G     0.2249     0.1757     0.9103        162        640:  63%|██████▎   | 99/156 [01:04<00:37,  1.53it/s][codecarbon INFO @ 17:06:28] Energy consumed for RAM : 0.028639 kWh. RAM Power : 42.987337589263916 W\n",
      "[codecarbon INFO @ 17:06:28] Energy consumed for all GPUs : 0.165044 kWh. Total GPU Power : 249.25556383977784 W\n",
      "[codecarbon INFO @ 17:06:28] Energy consumed for all CPUs : 0.028334 kWh. Total CPU Power : 42.5 W\n",
      "[codecarbon INFO @ 17:06:28] 0.222017 kWh of electricity used since the beginning.\n",
      "[codecarbon ERROR @ 17:06:28] Region:  not found for Country with ISO CODE : USA\n",
      "Traceback (most recent call last):\n",
      "  File \"/home/rocky/miniconda3/envs/jupyterlab/lib/python3.12/site-packages/codecarbon/core/emissions.py\", line 142, in get_private_infra_emissions\n",
      "    return self.get_region_emissions(energy, geo)\n",
      "           ^^^^^^^^^^^^^^^^^^^^^^^^^^^^^^^^^^^^^^\n",
      "  File \"/home/rocky/miniconda3/envs/jupyterlab/lib/python3.12/site-packages/codecarbon/core/emissions.py\", line 168, in get_region_emissions\n",
      "    raise ValueError(\n",
      "ValueError: Region:  not found for Country with ISO CODE : USA\n",
      "[codecarbon WARNING @ 17:06:28] Regional emissions retrieval failed. Falling back on country emissions.\n",
      "[codecarbon INFO @ 17:06:28] 0.033738 g.CO2eq/s mean an estimation of 1,063.9608270747838 kg.CO2eq/year\n",
      "     67/100        38G     0.2247     0.1754     0.9106        189        640:  78%|███████▊  | 122/156 [01:20<00:22,  1.53it/s][codecarbon INFO @ 17:06:43] Energy consumed for RAM : 0.028818 kWh. RAM Power : 42.987337589263916 W\n",
      "[codecarbon INFO @ 17:06:43] Energy consumed for all GPUs : 0.166082 kWh. Total GPU Power : 249.22444592208987 W\n",
      "[codecarbon INFO @ 17:06:43] Energy consumed for all CPUs : 0.028511 kWh. Total CPU Power : 42.5 W\n",
      "[codecarbon INFO @ 17:06:43] 0.223411 kWh of electricity used since the beginning.\n",
      "     67/100        38G     0.2245     0.1749     0.9093        190        640:  93%|█████████▎| 145/156 [01:35<00:07,  1.52it/s][codecarbon INFO @ 17:06:58] Energy consumed for RAM : 0.028997 kWh. RAM Power : 42.987337589263916 W\n",
      "[codecarbon INFO @ 17:06:58] Energy consumed for all GPUs : 0.167113 kWh. Total GPU Power : 247.38224146365286 W\n",
      "[codecarbon INFO @ 17:06:58] Energy consumed for all CPUs : 0.028688 kWh. Total CPU Power : 42.5 W\n",
      "[codecarbon INFO @ 17:06:58] 0.224798 kWh of electricity used since the beginning.\n",
      "     67/100        38G     0.2235     0.1747     0.9094         27        640: 100%|██████████| 156/156 [01:41<00:00,  1.53it/s]\n",
      "                 Class     Images  Instances      Box(P          R      mAP50  mAP50-95):  68%|██████▊   | 13/19 [00:08<00:03,  1.66it/s][codecarbon INFO @ 17:07:13] Energy consumed for RAM : 0.029176 kWh. RAM Power : 42.987337589263916 W\n",
      "[codecarbon INFO @ 17:07:13] Energy consumed for all GPUs : 0.168057 kWh. Total GPU Power : 226.64717318231396 W\n",
      "[codecarbon INFO @ 17:07:13] Energy consumed for all CPUs : 0.028865 kWh. Total CPU Power : 42.5 W\n",
      "[codecarbon INFO @ 17:07:13] 0.226098 kWh of electricity used since the beginning.\n",
      "                 Class     Images  Instances      Box(P          R      mAP50  mAP50-95): 100%|██████████| 19/19 [00:11<00:00,  1.68it/s]"
     ]
    },
    {
     "name": "stdout",
     "output_type": "stream",
     "text": [
      "                   all       2844       3135      0.975       0.96      0.988      0.914\n"
     ]
    },
    {
     "name": "stderr",
     "output_type": "stream",
     "text": [
      "\n"
     ]
    },
    {
     "name": "stdout",
     "output_type": "stream",
     "text": [
      "\n",
      "      Epoch    GPU_mem   box_loss   cls_loss   dfl_loss  Instances       Size\n"
     ]
    },
    {
     "name": "stderr",
     "output_type": "stream",
     "text": [
      "     68/100        38G     0.2247     0.1738     0.9126        178        640:  10%|█         | 16/156 [00:10<01:31,  1.53it/s][codecarbon INFO @ 17:07:28] Energy consumed for RAM : 0.029355 kWh. RAM Power : 42.987337589263916 W\n",
      "[codecarbon INFO @ 17:07:28] Energy consumed for all GPUs : 0.169019 kWh. Total GPU Power : 230.98750363948574 W\n",
      "[codecarbon INFO @ 17:07:28] Energy consumed for all CPUs : 0.029042 kWh. Total CPU Power : 42.5 W\n",
      "[codecarbon INFO @ 17:07:28] 0.227416 kWh of electricity used since the beginning.\n",
      "     68/100        38G     0.2247     0.1712     0.9121        177        640:  25%|██▌       | 39/156 [00:25<01:16,  1.52it/s][codecarbon INFO @ 17:07:43] Energy consumed for RAM : 0.029534 kWh. RAM Power : 42.987337589263916 W\n",
      "[codecarbon INFO @ 17:07:43] Energy consumed for all GPUs : 0.170078 kWh. Total GPU Power : 254.30600112693526 W\n",
      "[codecarbon INFO @ 17:07:43] Energy consumed for all CPUs : 0.029219 kWh. Total CPU Power : 42.5 W\n",
      "[codecarbon INFO @ 17:07:43] 0.228831 kWh of electricity used since the beginning.\n",
      "     68/100        38G     0.2267     0.1754      0.915        143        640:  39%|███▉      | 61/156 [00:40<01:02,  1.52it/s][codecarbon INFO @ 17:07:58] Energy consumed for RAM : 0.029713 kWh. RAM Power : 42.987337589263916 W\n",
      "[codecarbon INFO @ 17:07:58] Energy consumed for all GPUs : 0.171146 kWh. Total GPU Power : 256.3193919369776 W\n",
      "[codecarbon INFO @ 17:07:58] Energy consumed for all CPUs : 0.029396 kWh. Total CPU Power : 42.5 W\n",
      "[codecarbon INFO @ 17:07:58] 0.230255 kWh of electricity used since the beginning.\n",
      "     68/100        38G     0.2253     0.1737     0.9142        178        640:  54%|█████▍    | 84/156 [00:55<00:47,  1.52it/s][codecarbon INFO @ 17:08:13] Energy consumed for RAM : 0.029892 kWh. RAM Power : 42.987337589263916 W\n",
      "[codecarbon INFO @ 17:08:13] Energy consumed for all GPUs : 0.172215 kWh. Total GPU Power : 256.70887266823183 W\n",
      "[codecarbon INFO @ 17:08:13] Energy consumed for all CPUs : 0.029573 kWh. Total CPU Power : 42.5 W\n",
      "[codecarbon INFO @ 17:08:13] 0.231681 kWh of electricity used since the beginning.\n",
      "     68/100        38G     0.2244     0.1736     0.9127        177        640:  69%|██████▊   | 107/156 [01:10<00:32,  1.52it/s][codecarbon INFO @ 17:08:28] Energy consumed for RAM : 0.030071 kWh. RAM Power : 42.987337589263916 W\n",
      "[codecarbon INFO @ 17:08:28] Energy consumed for all GPUs : 0.173283 kWh. Total GPU Power : 256.4123671390819 W\n",
      "[codecarbon INFO @ 17:08:28] Energy consumed for all CPUs : 0.029750 kWh. Total CPU Power : 42.5 W\n",
      "[codecarbon INFO @ 17:08:28] 0.233105 kWh of electricity used since the beginning.\n",
      "[codecarbon ERROR @ 17:08:28] Region:  not found for Country with ISO CODE : USA\n",
      "Traceback (most recent call last):\n",
      "  File \"/home/rocky/miniconda3/envs/jupyterlab/lib/python3.12/site-packages/codecarbon/core/emissions.py\", line 142, in get_private_infra_emissions\n",
      "    return self.get_region_emissions(energy, geo)\n",
      "           ^^^^^^^^^^^^^^^^^^^^^^^^^^^^^^^^^^^^^^\n",
      "  File \"/home/rocky/miniconda3/envs/jupyterlab/lib/python3.12/site-packages/codecarbon/core/emissions.py\", line 168, in get_region_emissions\n",
      "    raise ValueError(\n",
      "ValueError: Region:  not found for Country with ISO CODE : USA\n",
      "[codecarbon WARNING @ 17:08:28] Regional emissions retrieval failed. Falling back on country emissions.\n",
      "[codecarbon INFO @ 17:08:28] 0.034138 g.CO2eq/s mean an estimation of 1,076.5741681018499 kg.CO2eq/year\n",
      "     68/100        38G     0.2239     0.1743     0.9124        188        640:  83%|████████▎ | 130/156 [01:25<00:17,  1.52it/s][codecarbon INFO @ 17:08:43] Energy consumed for RAM : 0.030251 kWh. RAM Power : 42.987337589263916 W\n",
      "[codecarbon INFO @ 17:08:43] Energy consumed for all GPUs : 0.174354 kWh. Total GPU Power : 257.0040673858479 W\n",
      "[codecarbon INFO @ 17:08:43] Energy consumed for all CPUs : 0.029927 kWh. Total CPU Power : 42.5 W\n",
      "[codecarbon INFO @ 17:08:43] 0.234532 kWh of electricity used since the beginning.\n",
      "     68/100        38G     0.2237     0.1741     0.9112        184        640:  98%|█████████▊| 153/156 [01:40<00:01,  1.52it/s][codecarbon INFO @ 17:08:58] Energy consumed for RAM : 0.030430 kWh. RAM Power : 42.987337589263916 W\n",
      "[codecarbon INFO @ 17:08:58] Energy consumed for all GPUs : 0.175419 kWh. Total GPU Power : 255.6044962290649 W\n",
      "[codecarbon INFO @ 17:08:58] Energy consumed for all CPUs : 0.030104 kWh. Total CPU Power : 42.5 W\n",
      "[codecarbon INFO @ 17:08:58] 0.235952 kWh of electricity used since the beginning.\n",
      "     68/100        38G     0.2242     0.1751     0.9114         33        640: 100%|██████████| 156/156 [01:42<00:00,  1.53it/s]\n",
      "                 Class     Images  Instances      Box(P          R      mAP50  mAP50-95): 100%|██████████| 19/19 [00:11<00:00,  1.62it/s]"
     ]
    },
    {
     "name": "stdout",
     "output_type": "stream",
     "text": [
      "                   all       2844       3135      0.973      0.959      0.988      0.914\n"
     ]
    },
    {
     "name": "stderr",
     "output_type": "stream",
     "text": [
      "\n"
     ]
    },
    {
     "name": "stdout",
     "output_type": "stream",
     "text": [
      "\n",
      "      Epoch    GPU_mem   box_loss   cls_loss   dfl_loss  Instances       Size\n"
     ]
    },
    {
     "name": "stderr",
     "output_type": "stream",
     "text": [
      "     69/100        38G     0.2511     0.1932     0.9012        172        640:   1%|          | 1/156 [00:00<01:52,  1.38it/s][codecarbon INFO @ 17:09:13] Energy consumed for RAM : 0.030609 kWh. RAM Power : 42.987337589263916 W\n",
      "[codecarbon INFO @ 17:09:13] Energy consumed for all GPUs : 0.176303 kWh. Total GPU Power : 212.22673692730558 W\n",
      "[codecarbon INFO @ 17:09:13] Energy consumed for all CPUs : 0.030281 kWh. Total CPU Power : 42.5 W\n",
      "[codecarbon INFO @ 17:09:13] 0.237193 kWh of electricity used since the beginning.\n",
      "     69/100        38G     0.2149     0.1717     0.9036        170        640:  15%|█▍        | 23/156 [00:15<01:27,  1.52it/s][codecarbon INFO @ 17:09:28] Energy consumed for RAM : 0.030788 kWh. RAM Power : 42.987337589263916 W\n",
      "[codecarbon INFO @ 17:09:28] Energy consumed for all GPUs : 0.177373 kWh. Total GPU Power : 256.96587602402224 W\n",
      "[codecarbon INFO @ 17:09:28] Energy consumed for all CPUs : 0.030458 kWh. Total CPU Power : 42.5 W\n",
      "[codecarbon INFO @ 17:09:28] 0.238619 kWh of electricity used since the beginning.\n",
      "     69/100        38G     0.2191     0.1709     0.9081        156        640:  29%|██▉       | 46/156 [00:30<01:12,  1.51it/s][codecarbon INFO @ 17:09:43] Energy consumed for RAM : 0.030967 kWh. RAM Power : 42.987337589263916 W\n",
      "[codecarbon INFO @ 17:09:43] Energy consumed for all GPUs : 0.178444 kWh. Total GPU Power : 257.20253964053705 W\n",
      "[codecarbon INFO @ 17:09:43] Energy consumed for all CPUs : 0.030636 kWh. Total CPU Power : 42.5 W\n",
      "[codecarbon INFO @ 17:09:43] 0.240047 kWh of electricity used since the beginning.\n",
      "     69/100        38G     0.2168     0.1704     0.9079        169        640:  44%|████▍     | 69/156 [00:45<00:56,  1.53it/s][codecarbon INFO @ 17:09:58] Energy consumed for RAM : 0.031146 kWh. RAM Power : 42.987337589263916 W\n",
      "[codecarbon INFO @ 17:09:58] Energy consumed for all GPUs : 0.179518 kWh. Total GPU Power : 257.7138766606309 W\n",
      "[codecarbon INFO @ 17:09:58] Energy consumed for all CPUs : 0.030813 kWh. Total CPU Power : 42.5 W\n",
      "[codecarbon INFO @ 17:09:58] 0.241476 kWh of electricity used since the beginning.\n",
      "     69/100        38G     0.2154     0.1702      0.907        169        640:  59%|█████▉    | 92/156 [01:00<00:41,  1.53it/s][codecarbon INFO @ 17:10:13] Energy consumed for RAM : 0.031325 kWh. RAM Power : 42.987337589263916 W\n",
      "[codecarbon INFO @ 17:10:13] Energy consumed for all GPUs : 0.180589 kWh. Total GPU Power : 257.160312728496 W\n",
      "[codecarbon INFO @ 17:10:13] Energy consumed for all CPUs : 0.030990 kWh. Total CPU Power : 42.5 W\n",
      "[codecarbon INFO @ 17:10:13] 0.242904 kWh of electricity used since the beginning.\n",
      "     69/100        38G     0.2159     0.1704     0.9073        185        640:  74%|███████▎  | 115/156 [01:15<00:26,  1.53it/s][codecarbon INFO @ 17:10:28] Energy consumed for RAM : 0.031504 kWh. RAM Power : 42.987337589263916 W\n",
      "[codecarbon INFO @ 17:10:28] Energy consumed for all GPUs : 0.181659 kWh. Total GPU Power : 256.7695438628963 W\n",
      "[codecarbon INFO @ 17:10:28] Energy consumed for all CPUs : 0.031167 kWh. Total CPU Power : 42.5 W\n",
      "[codecarbon INFO @ 17:10:28] 0.244329 kWh of electricity used since the beginning.\n",
      "[codecarbon ERROR @ 17:10:28] Region:  not found for Country with ISO CODE : USA\n",
      "Traceback (most recent call last):\n",
      "  File \"/home/rocky/miniconda3/envs/jupyterlab/lib/python3.12/site-packages/codecarbon/core/emissions.py\", line 142, in get_private_infra_emissions\n",
      "    return self.get_region_emissions(energy, geo)\n",
      "           ^^^^^^^^^^^^^^^^^^^^^^^^^^^^^^^^^^^^^^\n",
      "  File \"/home/rocky/miniconda3/envs/jupyterlab/lib/python3.12/site-packages/codecarbon/core/emissions.py\", line 168, in get_region_emissions\n",
      "    raise ValueError(\n",
      "ValueError: Region:  not found for Country with ISO CODE : USA\n",
      "[codecarbon WARNING @ 17:10:28] Regional emissions retrieval failed. Falling back on country emissions.\n",
      "[codecarbon INFO @ 17:10:28] 0.034558 g.CO2eq/s mean an estimation of 1,089.8066597670622 kg.CO2eq/year\n",
      "     69/100        38G     0.2152       0.17     0.9072        159        640:  88%|████████▊ | 138/156 [01:30<00:11,  1.52it/s][codecarbon INFO @ 17:10:43] Energy consumed for RAM : 0.031683 kWh. RAM Power : 42.987337589263916 W\n",
      "[codecarbon INFO @ 17:10:43] Energy consumed for all GPUs : 0.182726 kWh. Total GPU Power : 256.0492852772392 W\n",
      "[codecarbon INFO @ 17:10:43] Energy consumed for all CPUs : 0.031344 kWh. Total CPU Power : 42.5 W\n",
      "[codecarbon INFO @ 17:10:43] 0.245753 kWh of electricity used since the beginning.\n",
      "     69/100        38G      0.217     0.1704     0.9083         34        640: 100%|██████████| 156/156 [01:41<00:00,  1.53it/s]\n",
      "                 Class     Images  Instances      Box(P          R      mAP50  mAP50-95):  26%|██▋       | 5/19 [00:03<00:09,  1.46it/s][codecarbon INFO @ 17:10:58] Energy consumed for RAM : 0.031862 kWh. RAM Power : 42.987337589263916 W\n",
      "[codecarbon INFO @ 17:10:58] Energy consumed for all GPUs : 0.183736 kWh. Total GPU Power : 242.4173940199232 W\n",
      "[codecarbon INFO @ 17:10:58] Energy consumed for all CPUs : 0.031521 kWh. Total CPU Power : 42.5 W\n",
      "[codecarbon INFO @ 17:10:58] 0.247120 kWh of electricity used since the beginning.\n",
      "                 Class     Images  Instances      Box(P          R      mAP50  mAP50-95): 100%|██████████| 19/19 [00:11<00:00,  1.63it/s]"
     ]
    },
    {
     "name": "stdout",
     "output_type": "stream",
     "text": [
      "                   all       2844       3135      0.971       0.96      0.988      0.914\n"
     ]
    },
    {
     "name": "stderr",
     "output_type": "stream",
     "text": [
      "\n"
     ]
    },
    {
     "name": "stdout",
     "output_type": "stream",
     "text": [
      "\n",
      "      Epoch    GPU_mem   box_loss   cls_loss   dfl_loss  Instances       Size\n"
     ]
    },
    {
     "name": "stderr",
     "output_type": "stream",
     "text": [
      "     70/100        38G      0.218     0.1716     0.9103        162        640:   6%|▌         | 9/156 [00:05<01:36,  1.52it/s][codecarbon INFO @ 17:11:13] Energy consumed for RAM : 0.032041 kWh. RAM Power : 42.987337589263916 W\n",
      "[codecarbon INFO @ 17:11:13] Energy consumed for all GPUs : 0.184682 kWh. Total GPU Power : 227.05450054095851 W\n",
      "[codecarbon INFO @ 17:11:13] Energy consumed for all CPUs : 0.031698 kWh. Total CPU Power : 42.5 W\n",
      "[codecarbon INFO @ 17:11:13] 0.248422 kWh of electricity used since the beginning.\n",
      "     70/100        38G     0.2151     0.1692     0.9099        161        640:  20%|█▉        | 31/156 [00:20<01:22,  1.51it/s][codecarbon INFO @ 17:11:28] Energy consumed for RAM : 0.032220 kWh. RAM Power : 42.987337589263916 W\n",
      "[codecarbon INFO @ 17:11:28] Energy consumed for all GPUs : 0.185753 kWh. Total GPU Power : 257.0533296624927 W\n",
      "[codecarbon INFO @ 17:11:28] Energy consumed for all CPUs : 0.031875 kWh. Total CPU Power : 42.5 W\n",
      "[codecarbon INFO @ 17:11:28] 0.249848 kWh of electricity used since the beginning.\n",
      "     70/100        38G     0.2176     0.1704     0.9118        183        640:  35%|███▍      | 54/156 [00:35<01:06,  1.53it/s][codecarbon INFO @ 17:11:43] Energy consumed for RAM : 0.032399 kWh. RAM Power : 42.987337589263916 W\n",
      "[codecarbon INFO @ 17:11:43] Energy consumed for all GPUs : 0.186825 kWh. Total GPU Power : 257.46964593145896 W\n",
      "[codecarbon INFO @ 17:11:43] Energy consumed for all CPUs : 0.032052 kWh. Total CPU Power : 42.5 W\n",
      "[codecarbon INFO @ 17:11:43] 0.251277 kWh of electricity used since the beginning.\n",
      "     70/100        38G     0.2165     0.1684       0.91        168        640:  49%|████▉     | 77/156 [00:50<00:51,  1.53it/s][codecarbon INFO @ 17:11:58] Energy consumed for RAM : 0.032578 kWh. RAM Power : 42.987337589263916 W\n",
      "[codecarbon INFO @ 17:11:58] Energy consumed for all GPUs : 0.187904 kWh. Total GPU Power : 259.07675531131684 W\n",
      "[codecarbon INFO @ 17:11:58] Energy consumed for all CPUs : 0.032229 kWh. Total CPU Power : 42.5 W\n",
      "[codecarbon INFO @ 17:11:58] 0.252712 kWh of electricity used since the beginning.\n",
      "     70/100        38G     0.2141     0.1671     0.9087        192        640:  64%|██████▍   | 100/156 [01:05<00:36,  1.53it/s][codecarbon INFO @ 17:12:13] Energy consumed for RAM : 0.032757 kWh. RAM Power : 42.987337589263916 W\n",
      "[codecarbon INFO @ 17:12:13] Energy consumed for all GPUs : 0.188982 kWh. Total GPU Power : 258.7493613264046 W\n",
      "[codecarbon INFO @ 17:12:13] Energy consumed for all CPUs : 0.032407 kWh. Total CPU Power : 42.5 W\n",
      "[codecarbon INFO @ 17:12:13] 0.254146 kWh of electricity used since the beginning.\n",
      "     70/100        38G     0.2153     0.1669     0.9089        174        640:  79%|███████▉  | 123/156 [01:20<00:21,  1.52it/s][codecarbon INFO @ 17:12:28] Energy consumed for RAM : 0.032936 kWh. RAM Power : 42.987337589263916 W\n",
      "[codecarbon INFO @ 17:12:28] Energy consumed for all GPUs : 0.190051 kWh. Total GPU Power : 256.55110182337 W\n",
      "[codecarbon INFO @ 17:12:28] Energy consumed for all CPUs : 0.032584 kWh. Total CPU Power : 42.5 W\n",
      "[codecarbon INFO @ 17:12:28] 0.255571 kWh of electricity used since the beginning.\n",
      "[codecarbon ERROR @ 17:12:28] Region:  not found for Country with ISO CODE : USA\n",
      "Traceback (most recent call last):\n",
      "  File \"/home/rocky/miniconda3/envs/jupyterlab/lib/python3.12/site-packages/codecarbon/core/emissions.py\", line 142, in get_private_infra_emissions\n",
      "    return self.get_region_emissions(energy, geo)\n",
      "           ^^^^^^^^^^^^^^^^^^^^^^^^^^^^^^^^^^^^^^\n",
      "  File \"/home/rocky/miniconda3/envs/jupyterlab/lib/python3.12/site-packages/codecarbon/core/emissions.py\", line 168, in get_region_emissions\n",
      "    raise ValueError(\n",
      "ValueError: Region:  not found for Country with ISO CODE : USA\n",
      "[codecarbon WARNING @ 17:12:28] Regional emissions retrieval failed. Falling back on country emissions.\n",
      "[codecarbon INFO @ 17:12:28] 0.034606 g.CO2eq/s mean an estimation of 1,091.3450042111385 kg.CO2eq/year\n",
      "     70/100        38G     0.2167     0.1673     0.9091        182        640:  94%|█████████▎| 146/156 [01:35<00:06,  1.53it/s][codecarbon INFO @ 17:12:43] Energy consumed for RAM : 0.033115 kWh. RAM Power : 42.987337589263916 W\n",
      "[codecarbon INFO @ 17:12:43] Energy consumed for all GPUs : 0.191123 kWh. Total GPU Power : 257.3304815615447 W\n",
      "[codecarbon INFO @ 17:12:43] Energy consumed for all CPUs : 0.032761 kWh. Total CPU Power : 42.5 W\n",
      "[codecarbon INFO @ 17:12:43] 0.256999 kWh of electricity used since the beginning.\n",
      "     70/100        38G     0.2164     0.1677      0.909         30        640: 100%|██████████| 156/156 [01:41<00:00,  1.53it/s]\n",
      "                 Class     Images  Instances      Box(P          R      mAP50  mAP50-95):  74%|███████▎  | 14/19 [00:08<00:03,  1.65it/s][codecarbon INFO @ 17:12:58] Energy consumed for RAM : 0.033294 kWh. RAM Power : 42.987337589263916 W\n",
      "[codecarbon INFO @ 17:12:58] Energy consumed for all GPUs : 0.192089 kWh. Total GPU Power : 231.80046957847097 W\n",
      "[codecarbon INFO @ 17:12:58] Energy consumed for all CPUs : 0.032938 kWh. Total CPU Power : 42.5 W\n",
      "[codecarbon INFO @ 17:12:58] 0.258321 kWh of electricity used since the beginning.\n",
      "                 Class     Images  Instances      Box(P          R      mAP50  mAP50-95): 100%|██████████| 19/19 [00:11<00:00,  1.65it/s]"
     ]
    },
    {
     "name": "stdout",
     "output_type": "stream",
     "text": [
      "                   all       2844       3135      0.974      0.961      0.988      0.915\n"
     ]
    },
    {
     "name": "stderr",
     "output_type": "stream",
     "text": [
      "\n"
     ]
    },
    {
     "name": "stdout",
     "output_type": "stream",
     "text": [
      "\n",
      "      Epoch    GPU_mem   box_loss   cls_loss   dfl_loss  Instances       Size\n"
     ]
    },
    {
     "name": "stderr",
     "output_type": "stream",
     "text": [
      "     71/100        38G     0.2149     0.1736     0.9167        175        640:  11%|█         | 17/156 [00:11<01:31,  1.53it/s][codecarbon INFO @ 17:13:13] Energy consumed for RAM : 0.033474 kWh. RAM Power : 42.987337589263916 W\n",
      "[codecarbon INFO @ 17:13:13] Energy consumed for all GPUs : 0.193080 kWh. Total GPU Power : 237.96646438069195 W\n",
      "[codecarbon INFO @ 17:13:13] Energy consumed for all CPUs : 0.033115 kWh. Total CPU Power : 42.5 W\n",
      "[codecarbon INFO @ 17:13:13] 0.259668 kWh of electricity used since the beginning.\n",
      "     71/100        38G      0.213     0.1694     0.9109        198        640:  26%|██▌       | 40/156 [00:26<01:16,  1.51it/s][codecarbon INFO @ 17:13:28] Energy consumed for RAM : 0.033653 kWh. RAM Power : 42.987337589263916 W\n",
      "[codecarbon INFO @ 17:13:28] Energy consumed for all GPUs : 0.194149 kWh. Total GPU Power : 256.63237805952724 W\n",
      "[codecarbon INFO @ 17:13:28] Energy consumed for all CPUs : 0.033292 kWh. Total CPU Power : 42.5 W\n",
      "[codecarbon INFO @ 17:13:28] 0.261093 kWh of electricity used since the beginning.\n",
      "     71/100        38G      0.211     0.1655     0.9083        179        640:  40%|███▉      | 62/156 [00:40<01:01,  1.52it/s][codecarbon INFO @ 17:13:43] Energy consumed for RAM : 0.033832 kWh. RAM Power : 42.987337589263916 W\n",
      "[codecarbon INFO @ 17:13:43] Energy consumed for all GPUs : 0.195227 kWh. Total GPU Power : 258.78898152781716 W\n",
      "[codecarbon INFO @ 17:13:43] Energy consumed for all CPUs : 0.033469 kWh. Total CPU Power : 42.5 W\n",
      "[codecarbon INFO @ 17:13:43] 0.262527 kWh of electricity used since the beginning.\n",
      "     71/100        38G     0.2103     0.1643     0.9081        185        640:  54%|█████▍    | 85/156 [00:55<00:46,  1.53it/s][codecarbon INFO @ 17:13:58] Energy consumed for RAM : 0.034011 kWh. RAM Power : 42.987337589263916 W\n",
      "[codecarbon INFO @ 17:13:58] Energy consumed for all GPUs : 0.196302 kWh. Total GPU Power : 258.24152297588773 W\n",
      "[codecarbon INFO @ 17:13:58] Energy consumed for all CPUs : 0.033646 kWh. Total CPU Power : 42.5 W\n",
      "[codecarbon INFO @ 17:13:58] 0.263959 kWh of electricity used since the beginning.\n",
      "     71/100        38G     0.2107     0.1649     0.9086        161        640:  69%|██████▉   | 108/156 [01:10<00:31,  1.53it/s][codecarbon INFO @ 17:14:13] Energy consumed for RAM : 0.034190 kWh. RAM Power : 42.987337589263916 W\n",
      "[codecarbon INFO @ 17:14:13] Energy consumed for all GPUs : 0.197379 kWh. Total GPU Power : 258.39030094391427 W\n",
      "[codecarbon INFO @ 17:14:13] Energy consumed for all CPUs : 0.033823 kWh. Total CPU Power : 42.5 W\n",
      "[codecarbon INFO @ 17:14:13] 0.265392 kWh of electricity used since the beginning.\n",
      "     71/100        38G     0.2103     0.1645      0.908        172        640:  84%|████████▍ | 131/156 [01:25<00:16,  1.54it/s][codecarbon INFO @ 17:14:28] Energy consumed for RAM : 0.034369 kWh. RAM Power : 42.987337589263916 W\n",
      "[codecarbon INFO @ 17:14:28] Energy consumed for all GPUs : 0.198460 kWh. Total GPU Power : 259.470349158043 W\n",
      "[codecarbon INFO @ 17:14:28] Energy consumed for all CPUs : 0.034000 kWh. Total CPU Power : 42.5 W\n",
      "[codecarbon INFO @ 17:14:28] 0.266829 kWh of electricity used since the beginning.\n",
      "[codecarbon ERROR @ 17:14:28] Region:  not found for Country with ISO CODE : USA\n",
      "Traceback (most recent call last):\n",
      "  File \"/home/rocky/miniconda3/envs/jupyterlab/lib/python3.12/site-packages/codecarbon/core/emissions.py\", line 142, in get_private_infra_emissions\n",
      "    return self.get_region_emissions(energy, geo)\n",
      "           ^^^^^^^^^^^^^^^^^^^^^^^^^^^^^^^^^^^^^^\n",
      "  File \"/home/rocky/miniconda3/envs/jupyterlab/lib/python3.12/site-packages/codecarbon/core/emissions.py\", line 168, in get_region_emissions\n",
      "    raise ValueError(\n",
      "ValueError: Region:  not found for Country with ISO CODE : USA\n",
      "[codecarbon WARNING @ 17:14:28] Regional emissions retrieval failed. Falling back on country emissions.\n",
      "[codecarbon INFO @ 17:14:28] 0.034660 g.CO2eq/s mean an estimation of 1,093.0515542340613 kg.CO2eq/year\n",
      "     71/100        38G     0.2101     0.1642     0.9074        189        640:  99%|█████████▊| 154/156 [01:40<00:01,  1.53it/s][codecarbon INFO @ 17:14:43] Energy consumed for RAM : 0.034548 kWh. RAM Power : 42.987337589263916 W\n",
      "[codecarbon INFO @ 17:14:43] Energy consumed for all GPUs : 0.199529 kWh. Total GPU Power : 256.6766056473061 W\n",
      "[codecarbon INFO @ 17:14:43] Energy consumed for all CPUs : 0.034177 kWh. Total CPU Power : 42.5 W\n",
      "[codecarbon INFO @ 17:14:43] 0.268254 kWh of electricity used since the beginning.\n",
      "     71/100        38G       0.21     0.1642     0.9079         24        640: 100%|██████████| 156/156 [01:41<00:00,  1.53it/s]\n",
      "                 Class     Images  Instances      Box(P          R      mAP50  mAP50-95): 100%|██████████| 19/19 [00:11<00:00,  1.63it/s]"
     ]
    },
    {
     "name": "stdout",
     "output_type": "stream",
     "text": [
      "                   all       2844       3135      0.976      0.958      0.988      0.917\n"
     ]
    },
    {
     "name": "stderr",
     "output_type": "stream",
     "text": [
      "\n"
     ]
    },
    {
     "name": "stdout",
     "output_type": "stream",
     "text": [
      "\n",
      "      Epoch    GPU_mem   box_loss   cls_loss   dfl_loss  Instances       Size\n"
     ]
    },
    {
     "name": "stderr",
     "output_type": "stream",
     "text": [
      "     72/100        38G     0.2359     0.1819     0.9294        182        640:   1%|▏         | 2/156 [00:01<01:44,  1.48it/s][codecarbon INFO @ 17:14:58] Energy consumed for RAM : 0.034727 kWh. RAM Power : 42.987337589263916 W\n",
      "[codecarbon INFO @ 17:14:58] Energy consumed for all GPUs : 0.200399 kWh. Total GPU Power : 208.81354162991232 W\n",
      "[codecarbon INFO @ 17:14:58] Energy consumed for all CPUs : 0.034354 kWh. Total CPU Power : 42.5 W\n",
      "[codecarbon INFO @ 17:14:58] 0.269480 kWh of electricity used since the beginning.\n",
      "     72/100        38G     0.2072     0.1614     0.9051        168        640:  15%|█▌        | 24/156 [00:15<01:27,  1.51it/s][codecarbon INFO @ 17:15:13] Energy consumed for RAM : 0.034906 kWh. RAM Power : 42.987337589263916 W\n",
      "[codecarbon INFO @ 17:15:13] Energy consumed for all GPUs : 0.201457 kWh. Total GPU Power : 254.15006379019707 W\n",
      "[codecarbon INFO @ 17:15:13] Energy consumed for all CPUs : 0.034531 kWh. Total CPU Power : 42.5 W\n",
      "[codecarbon INFO @ 17:15:13] 0.270895 kWh of electricity used since the beginning.\n",
      "     72/100        38G     0.2123     0.1657     0.9074        174        640:  30%|███       | 47/156 [00:31<01:11,  1.51it/s][codecarbon INFO @ 17:15:28] Energy consumed for RAM : 0.035085 kWh. RAM Power : 42.987337589263916 W\n",
      "[codecarbon INFO @ 17:15:28] Energy consumed for all GPUs : 0.202526 kWh. Total GPU Power : 256.62901011063735 W\n",
      "[codecarbon INFO @ 17:15:28] Energy consumed for all CPUs : 0.034709 kWh. Total CPU Power : 42.5 W\n",
      "[codecarbon INFO @ 17:15:28] 0.272320 kWh of electricity used since the beginning.\n",
      "     72/100        38G     0.2108     0.1651     0.9072        184        640:  45%|████▍     | 70/156 [00:46<00:56,  1.51it/s][codecarbon INFO @ 17:15:43] Energy consumed for RAM : 0.035264 kWh. RAM Power : 42.987337589263916 W\n",
      "[codecarbon INFO @ 17:15:43] Energy consumed for all GPUs : 0.203597 kWh. Total GPU Power : 257.12941782144475 W\n",
      "[codecarbon INFO @ 17:15:43] Energy consumed for all CPUs : 0.034886 kWh. Total CPU Power : 42.5 W\n",
      "[codecarbon INFO @ 17:15:43] 0.273747 kWh of electricity used since the beginning.\n",
      "     72/100        38G     0.2099     0.1642     0.9079        168        640:  59%|█████▉    | 92/156 [01:00<00:42,  1.51it/s][codecarbon INFO @ 17:15:58] Energy consumed for RAM : 0.035443 kWh. RAM Power : 42.987337589263916 W\n",
      "[codecarbon INFO @ 17:15:58] Energy consumed for all GPUs : 0.204668 kWh. Total GPU Power : 257.0663489634761 W\n",
      "[codecarbon INFO @ 17:15:58] Energy consumed for all CPUs : 0.035063 kWh. Total CPU Power : 42.5 W\n",
      "[codecarbon INFO @ 17:15:58] 0.275174 kWh of electricity used since the beginning.\n",
      "     72/100        38G     0.2087     0.1635     0.9074        166        640:  74%|███████▎  | 115/156 [01:16<00:27,  1.52it/s][codecarbon INFO @ 17:16:13] Energy consumed for RAM : 0.035622 kWh. RAM Power : 42.987337589263916 W\n",
      "[codecarbon INFO @ 17:16:13] Energy consumed for all GPUs : 0.205741 kWh. Total GPU Power : 257.47975255485034 W\n",
      "[codecarbon INFO @ 17:16:13] Energy consumed for all CPUs : 0.035240 kWh. Total CPU Power : 42.5 W\n",
      "[codecarbon INFO @ 17:16:13] 0.276603 kWh of electricity used since the beginning.\n",
      "     72/100        38G     0.2093     0.1633     0.9077        184        640:  88%|████████▊ | 138/156 [01:31<00:11,  1.51it/s][codecarbon INFO @ 17:16:28] Energy consumed for RAM : 0.035801 kWh. RAM Power : 42.987337589263916 W\n",
      "[codecarbon INFO @ 17:16:28] Energy consumed for all GPUs : 0.206806 kWh. Total GPU Power : 255.72435286880184 W\n",
      "[codecarbon INFO @ 17:16:28] Energy consumed for all CPUs : 0.035417 kWh. Total CPU Power : 42.5 W\n",
      "[codecarbon INFO @ 17:16:28] 0.278024 kWh of electricity used since the beginning.\n",
      "[codecarbon ERROR @ 17:16:28] Region:  not found for Country with ISO CODE : USA\n",
      "Traceback (most recent call last):\n",
      "  File \"/home/rocky/miniconda3/envs/jupyterlab/lib/python3.12/site-packages/codecarbon/core/emissions.py\", line 142, in get_private_infra_emissions\n",
      "    return self.get_region_emissions(energy, geo)\n",
      "           ^^^^^^^^^^^^^^^^^^^^^^^^^^^^^^^^^^^^^^\n",
      "  File \"/home/rocky/miniconda3/envs/jupyterlab/lib/python3.12/site-packages/codecarbon/core/emissions.py\", line 168, in get_region_emissions\n",
      "    raise ValueError(\n",
      "ValueError: Region:  not found for Country with ISO CODE : USA\n",
      "[codecarbon WARNING @ 17:16:28] Regional emissions retrieval failed. Falling back on country emissions.\n",
      "[codecarbon INFO @ 17:16:28] 0.034468 g.CO2eq/s mean an estimation of 1,086.9980683906858 kg.CO2eq/year\n",
      "     72/100        38G     0.2083     0.1627     0.9069         29        640: 100%|██████████| 156/156 [01:42<00:00,  1.52it/s]\n",
      "                 Class     Images  Instances      Box(P          R      mAP50  mAP50-95):  26%|██▋       | 5/19 [00:03<00:09,  1.48it/s][codecarbon INFO @ 17:16:43] Energy consumed for RAM : 0.035980 kWh. RAM Power : 42.987337589263916 W\n",
      "[codecarbon INFO @ 17:16:43] Energy consumed for all GPUs : 0.207810 kWh. Total GPU Power : 241.10527043886117 W\n",
      "[codecarbon INFO @ 17:16:43] Energy consumed for all CPUs : 0.035594 kWh. Total CPU Power : 42.5 W\n",
      "[codecarbon INFO @ 17:16:43] 0.279385 kWh of electricity used since the beginning.\n",
      "                 Class     Images  Instances      Box(P          R      mAP50  mAP50-95): 100%|██████████| 19/19 [00:11<00:00,  1.63it/s]"
     ]
    },
    {
     "name": "stdout",
     "output_type": "stream",
     "text": [
      "                   all       2844       3135      0.976      0.959      0.986      0.918\n"
     ]
    },
    {
     "name": "stderr",
     "output_type": "stream",
     "text": [
      "\n"
     ]
    },
    {
     "name": "stdout",
     "output_type": "stream",
     "text": [
      "\n",
      "      Epoch    GPU_mem   box_loss   cls_loss   dfl_loss  Instances       Size\n"
     ]
    },
    {
     "name": "stderr",
     "output_type": "stream",
     "text": [
      "     73/100        38G     0.2121     0.1659     0.9101        187        640:   5%|▌         | 8/156 [00:05<01:38,  1.50it/s][codecarbon INFO @ 17:16:58] Energy consumed for RAM : 0.036159 kWh. RAM Power : 42.987337589263916 W\n",
      "[codecarbon INFO @ 17:16:58] Energy consumed for all GPUs : 0.208755 kWh. Total GPU Power : 226.66991100404456 W\n",
      "[codecarbon INFO @ 17:16:58] Energy consumed for all CPUs : 0.035771 kWh. Total CPU Power : 42.5 W\n",
      "[codecarbon INFO @ 17:16:58] 0.280685 kWh of electricity used since the beginning.\n",
      "     73/100        38G     0.2056     0.1589     0.9037        164        640:  20%|█▉        | 31/156 [00:20<01:22,  1.51it/s][codecarbon INFO @ 17:17:13] Energy consumed for RAM : 0.036338 kWh. RAM Power : 42.987337589263916 W\n",
      "[codecarbon INFO @ 17:17:13] Energy consumed for all GPUs : 0.209818 kWh. Total GPU Power : 255.34298357318403 W\n",
      "[codecarbon INFO @ 17:17:13] Energy consumed for all CPUs : 0.035948 kWh. Total CPU Power : 42.5 W\n",
      "[codecarbon INFO @ 17:17:13] 0.282105 kWh of electricity used since the beginning.\n",
      "     73/100        38G     0.2037     0.1593     0.9023        188        640:  35%|███▍      | 54/156 [00:35<01:06,  1.53it/s][codecarbon INFO @ 17:17:28] Energy consumed for RAM : 0.036517 kWh. RAM Power : 42.987337589263916 W\n",
      "[codecarbon INFO @ 17:17:28] Energy consumed for all GPUs : 0.210882 kWh. Total GPU Power : 255.31999011403644 W\n",
      "[codecarbon INFO @ 17:17:28] Energy consumed for all CPUs : 0.036125 kWh. Total CPU Power : 42.5 W\n",
      "[codecarbon INFO @ 17:17:28] 0.283524 kWh of electricity used since the beginning.\n",
      "     73/100        38G     0.2044     0.1581     0.9039        183        640:  49%|████▉     | 77/156 [00:50<00:51,  1.53it/s][codecarbon INFO @ 17:17:43] Energy consumed for RAM : 0.036696 kWh. RAM Power : 42.987337589263916 W\n",
      "[codecarbon INFO @ 17:17:43] Energy consumed for all GPUs : 0.211959 kWh. Total GPU Power : 258.54092269004144 W\n",
      "[codecarbon INFO @ 17:17:43] Energy consumed for all CPUs : 0.036302 kWh. Total CPU Power : 42.5 W\n",
      "[codecarbon INFO @ 17:17:43] 0.284957 kWh of electricity used since the beginning.\n",
      "     73/100        38G     0.2039     0.1584     0.9046        183        640:  64%|██████▍   | 100/156 [01:05<00:36,  1.53it/s][codecarbon INFO @ 17:17:58] Energy consumed for RAM : 0.036875 kWh. RAM Power : 42.987337589263916 W\n",
      "[codecarbon INFO @ 17:17:58] Energy consumed for all GPUs : 0.213040 kWh. Total GPU Power : 259.61019977538916 W\n",
      "[codecarbon INFO @ 17:17:58] Energy consumed for all CPUs : 0.036479 kWh. Total CPU Power : 42.5 W\n",
      "[codecarbon INFO @ 17:17:58] 0.286395 kWh of electricity used since the beginning.\n",
      "     73/100        38G     0.2036     0.1579     0.9044        164        640:  78%|███████▊  | 122/156 [01:20<00:22,  1.52it/s][codecarbon INFO @ 17:18:13] Energy consumed for RAM : 0.037054 kWh. RAM Power : 42.987337589263916 W\n",
      "[codecarbon INFO @ 17:18:13] Energy consumed for all GPUs : 0.214115 kWh. Total GPU Power : 257.98422791400833 W\n",
      "[codecarbon INFO @ 17:18:13] Energy consumed for all CPUs : 0.036656 kWh. Total CPU Power : 42.5 W\n",
      "[codecarbon INFO @ 17:18:13] 0.287826 kWh of electricity used since the beginning.\n",
      "     73/100        38G     0.2036     0.1583     0.9041        162        640:  93%|█████████▎| 145/156 [01:35<00:07,  1.53it/s][codecarbon INFO @ 17:18:28] Energy consumed for RAM : 0.037233 kWh. RAM Power : 42.987337589263916 W\n",
      "[codecarbon INFO @ 17:18:28] Energy consumed for all GPUs : 0.215191 kWh. Total GPU Power : 258.27881772237896 W\n",
      "[codecarbon INFO @ 17:18:28] Energy consumed for all CPUs : 0.036834 kWh. Total CPU Power : 42.5 W\n",
      "[codecarbon INFO @ 17:18:28] 0.289258 kWh of electricity used since the beginning.\n",
      "[codecarbon ERROR @ 17:18:28] Region:  not found for Country with ISO CODE : USA\n",
      "Traceback (most recent call last):\n",
      "  File \"/home/rocky/miniconda3/envs/jupyterlab/lib/python3.12/site-packages/codecarbon/core/emissions.py\", line 142, in get_private_infra_emissions\n",
      "    return self.get_region_emissions(energy, geo)\n",
      "           ^^^^^^^^^^^^^^^^^^^^^^^^^^^^^^^^^^^^^^\n",
      "  File \"/home/rocky/miniconda3/envs/jupyterlab/lib/python3.12/site-packages/codecarbon/core/emissions.py\", line 168, in get_region_emissions\n",
      "    raise ValueError(\n",
      "ValueError: Region:  not found for Country with ISO CODE : USA\n",
      "[codecarbon WARNING @ 17:18:28] Regional emissions retrieval failed. Falling back on country emissions.\n",
      "[codecarbon INFO @ 17:18:28] 0.034587 g.CO2eq/s mean an estimation of 1,090.730915335952 kg.CO2eq/year\n",
      "     73/100        38G      0.204     0.1588     0.9043         28        640: 100%|██████████| 156/156 [01:42<00:00,  1.53it/s]\n",
      "                 Class     Images  Instances      Box(P          R      mAP50  mAP50-95):  68%|██████▊   | 13/19 [00:08<00:03,  1.65it/s][codecarbon INFO @ 17:18:43] Energy consumed for RAM : 0.037413 kWh. RAM Power : 42.987337589263916 W\n",
      "[codecarbon INFO @ 17:18:43] Energy consumed for all GPUs : 0.216162 kWh. Total GPU Power : 233.06415056906116 W\n",
      "[codecarbon INFO @ 17:18:43] Energy consumed for all CPUs : 0.037011 kWh. Total CPU Power : 42.5 W\n",
      "[codecarbon INFO @ 17:18:43] 0.290585 kWh of electricity used since the beginning.\n",
      "                 Class     Images  Instances      Box(P          R      mAP50  mAP50-95): 100%|██████████| 19/19 [00:11<00:00,  1.64it/s]"
     ]
    },
    {
     "name": "stdout",
     "output_type": "stream",
     "text": [
      "                   all       2844       3135      0.976      0.958      0.988      0.919\n"
     ]
    },
    {
     "name": "stderr",
     "output_type": "stream",
     "text": [
      "\n"
     ]
    },
    {
     "name": "stdout",
     "output_type": "stream",
     "text": [
      "\n",
      "      Epoch    GPU_mem   box_loss   cls_loss   dfl_loss  Instances       Size\n"
     ]
    },
    {
     "name": "stderr",
     "output_type": "stream",
     "text": [
      "     74/100        38G     0.2108     0.1597      0.903        177        640:  10%|█         | 16/156 [00:10<01:31,  1.52it/s][codecarbon INFO @ 17:18:58] Energy consumed for RAM : 0.037592 kWh. RAM Power : 42.987337589263916 W\n",
      "[codecarbon INFO @ 17:18:58] Energy consumed for all GPUs : 0.217141 kWh. Total GPU Power : 235.11139818103632 W\n",
      "[codecarbon INFO @ 17:18:58] Energy consumed for all CPUs : 0.037188 kWh. Total CPU Power : 42.5 W\n",
      "[codecarbon INFO @ 17:18:58] 0.291920 kWh of electricity used since the beginning.\n",
      "     74/100        38G     0.2066     0.1613     0.9029        172        640:  25%|██▌       | 39/156 [00:25<01:16,  1.53it/s][codecarbon INFO @ 17:19:13] Energy consumed for RAM : 0.037771 kWh. RAM Power : 42.987337589263916 W\n",
      "[codecarbon INFO @ 17:19:13] Energy consumed for all GPUs : 0.218213 kWh. Total GPU Power : 257.3022802699312 W\n",
      "[codecarbon INFO @ 17:19:13] Energy consumed for all CPUs : 0.037365 kWh. Total CPU Power : 42.5 W\n",
      "[codecarbon INFO @ 17:19:13] 0.293348 kWh of electricity used since the beginning.\n",
      "     74/100        38G      0.205     0.1615     0.9022        160        640:  40%|███▉      | 62/156 [00:40<01:01,  1.53it/s][codecarbon INFO @ 17:19:28] Energy consumed for RAM : 0.037950 kWh. RAM Power : 42.987337589263916 W\n",
      "[codecarbon INFO @ 17:19:28] Energy consumed for all GPUs : 0.219291 kWh. Total GPU Power : 258.86388053015264 W\n",
      "[codecarbon INFO @ 17:19:28] Energy consumed for all CPUs : 0.037542 kWh. Total CPU Power : 42.5 W\n",
      "[codecarbon INFO @ 17:19:28] 0.294782 kWh of electricity used since the beginning.\n",
      "     74/100        38G      0.204     0.1617     0.9029        196        640:  54%|█████▍    | 85/156 [00:55<00:46,  1.52it/s][codecarbon INFO @ 17:19:43] Energy consumed for RAM : 0.038129 kWh. RAM Power : 42.987337589263916 W\n",
      "[codecarbon INFO @ 17:19:43] Energy consumed for all GPUs : 0.220367 kWh. Total GPU Power : 258.4051067925053 W\n",
      "[codecarbon INFO @ 17:19:43] Energy consumed for all CPUs : 0.037719 kWh. Total CPU Power : 42.5 W\n",
      "[codecarbon INFO @ 17:19:43] 0.296215 kWh of electricity used since the beginning.\n",
      "     74/100        38G     0.2037     0.1608     0.9026        193        640:  69%|██████▉   | 108/156 [01:10<00:31,  1.52it/s][codecarbon INFO @ 17:19:58] Energy consumed for RAM : 0.038308 kWh. RAM Power : 42.987337589263916 W\n",
      "[codecarbon INFO @ 17:19:58] Energy consumed for all GPUs : 0.221445 kWh. Total GPU Power : 258.7076583669389 W\n",
      "[codecarbon INFO @ 17:19:58] Energy consumed for all CPUs : 0.037896 kWh. Total CPU Power : 42.5 W\n",
      "[codecarbon INFO @ 17:19:58] 0.297649 kWh of electricity used since the beginning.\n",
      "     74/100        38G     0.2025     0.1606     0.9013        157        640:  84%|████████▍ | 131/156 [01:25<00:16,  1.53it/s][codecarbon INFO @ 17:20:13] Energy consumed for RAM : 0.038487 kWh. RAM Power : 42.987337589263916 W\n",
      "[codecarbon INFO @ 17:20:13] Energy consumed for all GPUs : 0.222522 kWh. Total GPU Power : 258.48240079171745 W\n",
      "[codecarbon INFO @ 17:20:13] Energy consumed for all CPUs : 0.038073 kWh. Total CPU Power : 42.5 W\n",
      "[codecarbon INFO @ 17:20:13] 0.299081 kWh of electricity used since the beginning.\n",
      "     74/100        38G      0.202     0.1601      0.902        212        640:  98%|█████████▊| 153/156 [01:40<00:01,  1.52it/s][codecarbon INFO @ 17:20:28] Energy consumed for RAM : 0.038666 kWh. RAM Power : 42.987337589263916 W\n",
      "[codecarbon INFO @ 17:20:28] Energy consumed for all GPUs : 0.223597 kWh. Total GPU Power : 258.2413132204949 W\n",
      "[codecarbon INFO @ 17:20:28] Energy consumed for all CPUs : 0.038250 kWh. Total CPU Power : 42.5 W\n",
      "[codecarbon INFO @ 17:20:28] 0.300513 kWh of electricity used since the beginning.\n",
      "[codecarbon ERROR @ 17:20:28] Region:  not found for Country with ISO CODE : USA\n",
      "Traceback (most recent call last):\n",
      "  File \"/home/rocky/miniconda3/envs/jupyterlab/lib/python3.12/site-packages/codecarbon/core/emissions.py\", line 142, in get_private_infra_emissions\n",
      "    return self.get_region_emissions(energy, geo)\n",
      "           ^^^^^^^^^^^^^^^^^^^^^^^^^^^^^^^^^^^^^^\n",
      "  File \"/home/rocky/miniconda3/envs/jupyterlab/lib/python3.12/site-packages/codecarbon/core/emissions.py\", line 168, in get_region_emissions\n",
      "    raise ValueError(\n",
      "ValueError: Region:  not found for Country with ISO CODE : USA\n",
      "[codecarbon WARNING @ 17:20:28] Regional emissions retrieval failed. Falling back on country emissions.\n",
      "[codecarbon INFO @ 17:20:28] 0.034653 g.CO2eq/s mean an estimation of 1,092.8284499582078 kg.CO2eq/year\n",
      "     74/100        38G     0.2024     0.1606     0.9023         22        640: 100%|██████████| 156/156 [01:41<00:00,  1.53it/s]\n",
      "                 Class     Images  Instances      Box(P          R      mAP50  mAP50-95): 100%|██████████| 19/19 [00:11<00:00,  1.64it/s]"
     ]
    },
    {
     "name": "stdout",
     "output_type": "stream",
     "text": [
      "                   all       2844       3135      0.969      0.968      0.989      0.919\n"
     ]
    },
    {
     "name": "stderr",
     "output_type": "stream",
     "text": [
      "\n"
     ]
    },
    {
     "name": "stdout",
     "output_type": "stream",
     "text": [
      "\n",
      "      Epoch    GPU_mem   box_loss   cls_loss   dfl_loss  Instances       Size\n"
     ]
    },
    {
     "name": "stderr",
     "output_type": "stream",
     "text": [
      "     75/100        38G     0.2162     0.1943     0.9031        191        640:   1%|          | 1/156 [00:00<01:50,  1.40it/s][codecarbon INFO @ 17:20:43] Energy consumed for RAM : 0.038845 kWh. RAM Power : 42.987337589263916 W\n",
      "[codecarbon INFO @ 17:20:43] Energy consumed for all GPUs : 0.224476 kWh. Total GPU Power : 210.90226713983208 W\n",
      "[codecarbon INFO @ 17:20:43] Energy consumed for all CPUs : 0.038427 kWh. Total CPU Power : 42.5 W\n",
      "[codecarbon INFO @ 17:20:43] 0.301748 kWh of electricity used since the beginning.\n",
      "     75/100        38G     0.2033     0.1615     0.9081        189        640:  15%|█▌        | 24/156 [00:15<01:26,  1.52it/s][codecarbon INFO @ 17:20:58] Energy consumed for RAM : 0.039024 kWh. RAM Power : 42.987337589263916 W\n",
      "[codecarbon INFO @ 17:20:58] Energy consumed for all GPUs : 0.225544 kWh. Total GPU Power : 256.4183175252737 W\n",
      "[codecarbon INFO @ 17:20:58] Energy consumed for all CPUs : 0.038604 kWh. Total CPU Power : 42.5 W\n",
      "[codecarbon INFO @ 17:20:58] 0.303172 kWh of electricity used since the beginning.\n",
      "     75/100        38G     0.2037     0.1601     0.9076        167        640:  30%|███       | 47/156 [00:30<01:11,  1.53it/s][codecarbon INFO @ 17:21:13] Energy consumed for RAM : 0.039203 kWh. RAM Power : 42.987337589263916 W\n",
      "[codecarbon INFO @ 17:21:13] Energy consumed for all GPUs : 0.226618 kWh. Total GPU Power : 257.6876046629416 W\n",
      "[codecarbon INFO @ 17:21:13] Energy consumed for all CPUs : 0.038782 kWh. Total CPU Power : 42.5 W\n",
      "[codecarbon INFO @ 17:21:13] 0.304603 kWh of electricity used since the beginning.\n",
      "     75/100        38G     0.2011     0.1595     0.9044        160        640:  45%|████▍     | 70/156 [00:46<00:56,  1.52it/s][codecarbon INFO @ 17:21:28] Energy consumed for RAM : 0.039382 kWh. RAM Power : 42.987337589263916 W\n",
      "[codecarbon INFO @ 17:21:28] Energy consumed for all GPUs : 0.227682 kWh. Total GPU Power : 255.35080294794855 W\n",
      "[codecarbon INFO @ 17:21:28] Energy consumed for all CPUs : 0.038959 kWh. Total CPU Power : 42.5 W\n",
      "[codecarbon INFO @ 17:21:28] 0.306023 kWh of electricity used since the beginning.\n",
      "     75/100        38G     0.2008     0.1585     0.9036        170        640:  59%|█████▉    | 92/156 [01:00<00:42,  1.51it/s][codecarbon INFO @ 17:21:43] Energy consumed for RAM : 0.039561 kWh. RAM Power : 42.987337589263916 W\n",
      "[codecarbon INFO @ 17:21:43] Energy consumed for all GPUs : 0.228755 kWh. Total GPU Power : 257.4625971720439 W\n",
      "[codecarbon INFO @ 17:21:43] Energy consumed for all CPUs : 0.039136 kWh. Total CPU Power : 42.5 W\n",
      "[codecarbon INFO @ 17:21:43] 0.307451 kWh of electricity used since the beginning.\n",
      "     75/100        38G     0.2004      0.158     0.9025        163        640:  74%|███████▎  | 115/156 [01:15<00:26,  1.53it/s][codecarbon INFO @ 17:21:58] Energy consumed for RAM : 0.039740 kWh. RAM Power : 42.987337589263916 W\n",
      "[codecarbon INFO @ 17:21:58] Energy consumed for all GPUs : 0.229833 kWh. Total GPU Power : 258.85568662663906 W\n",
      "[codecarbon INFO @ 17:21:58] Energy consumed for all CPUs : 0.039313 kWh. Total CPU Power : 42.5 W\n",
      "[codecarbon INFO @ 17:21:58] 0.308886 kWh of electricity used since the beginning.\n",
      "     75/100        38G     0.2001     0.1569     0.9016        163        640:  88%|████████▊ | 138/156 [01:30<00:11,  1.53it/s][codecarbon INFO @ 17:22:13] Energy consumed for RAM : 0.039919 kWh. RAM Power : 42.987337589263916 W\n",
      "[codecarbon INFO @ 17:22:13] Energy consumed for all GPUs : 0.230909 kWh. Total GPU Power : 258.3670167037067 W\n",
      "[codecarbon INFO @ 17:22:13] Energy consumed for all CPUs : 0.039490 kWh. Total CPU Power : 42.5 W\n",
      "[codecarbon INFO @ 17:22:13] 0.310318 kWh of electricity used since the beginning.\n",
      "     75/100        38G     0.1995     0.1574     0.9013         21        640: 100%|██████████| 156/156 [01:42<00:00,  1.53it/s]\n",
      "                 Class     Images  Instances      Box(P          R      mAP50  mAP50-95):  26%|██▋       | 5/19 [00:03<00:09,  1.46it/s][codecarbon INFO @ 17:22:28] Energy consumed for RAM : 0.040098 kWh. RAM Power : 42.987337589263916 W\n",
      "[codecarbon INFO @ 17:22:28] Energy consumed for all GPUs : 0.231918 kWh. Total GPU Power : 242.22188525745435 W\n",
      "[codecarbon INFO @ 17:22:28] Energy consumed for all CPUs : 0.039667 kWh. Total CPU Power : 42.5 W\n",
      "[codecarbon INFO @ 17:22:28] 0.311683 kWh of electricity used since the beginning.\n",
      "[codecarbon ERROR @ 17:22:28] Region:  not found for Country with ISO CODE : USA\n",
      "Traceback (most recent call last):\n",
      "  File \"/home/rocky/miniconda3/envs/jupyterlab/lib/python3.12/site-packages/codecarbon/core/emissions.py\", line 142, in get_private_infra_emissions\n",
      "    return self.get_region_emissions(energy, geo)\n",
      "           ^^^^^^^^^^^^^^^^^^^^^^^^^^^^^^^^^^^^^^\n",
      "  File \"/home/rocky/miniconda3/envs/jupyterlab/lib/python3.12/site-packages/codecarbon/core/emissions.py\", line 168, in get_region_emissions\n",
      "    raise ValueError(\n",
      "ValueError: Region:  not found for Country with ISO CODE : USA\n",
      "[codecarbon WARNING @ 17:22:28] Regional emissions retrieval failed. Falling back on country emissions.\n",
      "[codecarbon INFO @ 17:22:28] 0.034386 g.CO2eq/s mean an estimation of 1,084.3821533341898 kg.CO2eq/year\n",
      "                 Class     Images  Instances      Box(P          R      mAP50  mAP50-95): 100%|██████████| 19/19 [00:11<00:00,  1.62it/s]"
     ]
    },
    {
     "name": "stdout",
     "output_type": "stream",
     "text": [
      "                   all       2844       3135      0.976      0.961      0.989       0.92\n"
     ]
    },
    {
     "name": "stderr",
     "output_type": "stream",
     "text": [
      "\n"
     ]
    },
    {
     "name": "stdout",
     "output_type": "stream",
     "text": [
      "\n",
      "      Epoch    GPU_mem   box_loss   cls_loss   dfl_loss  Instances       Size\n"
     ]
    },
    {
     "name": "stderr",
     "output_type": "stream",
     "text": [
      "     76/100        38G     0.1962     0.1485     0.8927        174        640:   6%|▌         | 9/156 [00:05<01:36,  1.52it/s][codecarbon INFO @ 17:22:43] Energy consumed for RAM : 0.040277 kWh. RAM Power : 42.987337589263916 W\n",
      "[codecarbon INFO @ 17:22:43] Energy consumed for all GPUs : 0.232856 kWh. Total GPU Power : 225.24729496565152 W\n",
      "[codecarbon INFO @ 17:22:43] Energy consumed for all CPUs : 0.039844 kWh. Total CPU Power : 42.5 W\n",
      "[codecarbon INFO @ 17:22:43] 0.312978 kWh of electricity used since the beginning.\n",
      "     76/100        38G     0.1923     0.1491     0.8976        175        640:  21%|██        | 32/156 [00:21<01:21,  1.53it/s][codecarbon INFO @ 17:22:58] Energy consumed for RAM : 0.040456 kWh. RAM Power : 42.987337589263916 W\n",
      "[codecarbon INFO @ 17:22:58] Energy consumed for all GPUs : 0.233931 kWh. Total GPU Power : 258.1273039326074 W\n",
      "[codecarbon INFO @ 17:22:58] Energy consumed for all CPUs : 0.040021 kWh. Total CPU Power : 42.5 W\n",
      "[codecarbon INFO @ 17:22:58] 0.314409 kWh of electricity used since the beginning.\n",
      "     76/100        38G     0.1938     0.1497     0.8969        174        640:  35%|███▌      | 55/156 [00:36<01:06,  1.52it/s][codecarbon INFO @ 17:23:13] Energy consumed for RAM : 0.040635 kWh. RAM Power : 42.987337589263916 W\n",
      "[codecarbon INFO @ 17:23:13] Energy consumed for all GPUs : 0.235006 kWh. Total GPU Power : 258.0477806217566 W\n",
      "[codecarbon INFO @ 17:23:13] Energy consumed for all CPUs : 0.040198 kWh. Total CPU Power : 42.5 W\n",
      "[codecarbon INFO @ 17:23:13] 0.315840 kWh of electricity used since the beginning.\n",
      "     76/100        38G     0.1943     0.1498     0.8966        176        640:  50%|█████     | 78/156 [00:51<00:51,  1.53it/s][codecarbon INFO @ 17:23:28] Energy consumed for RAM : 0.040814 kWh. RAM Power : 42.987337589263916 W\n",
      "[codecarbon INFO @ 17:23:28] Energy consumed for all GPUs : 0.236074 kWh. Total GPU Power : 256.37524531248545 W\n",
      "[codecarbon INFO @ 17:23:28] Energy consumed for all CPUs : 0.040375 kWh. Total CPU Power : 42.5 W\n",
      "[codecarbon INFO @ 17:23:28] 0.317264 kWh of electricity used since the beginning.\n",
      "     76/100        38G     0.1943     0.1508      0.896        173        640:  65%|██████▍   | 101/156 [01:06<00:36,  1.53it/s][codecarbon INFO @ 17:23:43] Energy consumed for RAM : 0.040994 kWh. RAM Power : 42.987337589263916 W\n",
      "[codecarbon INFO @ 17:23:43] Energy consumed for all GPUs : 0.237155 kWh. Total GPU Power : 259.4920531612212 W\n",
      "[codecarbon INFO @ 17:23:43] Energy consumed for all CPUs : 0.040552 kWh. Total CPU Power : 42.5 W\n",
      "[codecarbon INFO @ 17:23:43] 0.318701 kWh of electricity used since the beginning.\n",
      "     76/100        38G     0.1943     0.1509     0.8962        159        640:  79%|███████▉  | 123/156 [01:20<00:21,  1.53it/s][codecarbon INFO @ 17:23:58] Energy consumed for RAM : 0.041173 kWh. RAM Power : 42.987337589263916 W\n",
      "[codecarbon INFO @ 17:23:58] Energy consumed for all GPUs : 0.238229 kWh. Total GPU Power : 257.82184724143747 W\n",
      "[codecarbon INFO @ 17:23:58] Energy consumed for all CPUs : 0.040729 kWh. Total CPU Power : 42.5 W\n",
      "[codecarbon INFO @ 17:23:58] 0.320131 kWh of electricity used since the beginning.\n",
      "     76/100        38G     0.1943     0.1508     0.8969        175        640:  94%|█████████▎| 146/156 [01:35<00:06,  1.53it/s][codecarbon INFO @ 17:24:13] Energy consumed for RAM : 0.041352 kWh. RAM Power : 42.987337589263916 W\n",
      "[codecarbon INFO @ 17:24:13] Energy consumed for all GPUs : 0.239309 kWh. Total GPU Power : 259.23613157707985 W\n",
      "[codecarbon INFO @ 17:24:13] Energy consumed for all CPUs : 0.040906 kWh. Total CPU Power : 42.5 W\n",
      "[codecarbon INFO @ 17:24:13] 0.321567 kWh of electricity used since the beginning.\n",
      "     76/100        38G     0.1939     0.1504     0.8968         19        640: 100%|██████████| 156/156 [01:41<00:00,  1.53it/s]\n",
      "                 Class     Images  Instances      Box(P          R      mAP50  mAP50-95):  74%|███████▎  | 14/19 [00:09<00:03,  1.64it/s][codecarbon INFO @ 17:24:28] Energy consumed for RAM : 0.041531 kWh. RAM Power : 42.987337589263916 W\n",
      "[codecarbon INFO @ 17:24:28] Energy consumed for all GPUs : 0.240272 kWh. Total GPU Power : 231.13397841193532 W\n",
      "[codecarbon INFO @ 17:24:28] Energy consumed for all CPUs : 0.041084 kWh. Total CPU Power : 42.5 W\n",
      "[codecarbon INFO @ 17:24:28] 0.322886 kWh of electricity used since the beginning.\n",
      "[codecarbon ERROR @ 17:24:28] Region:  not found for Country with ISO CODE : USA\n",
      "Traceback (most recent call last):\n",
      "  File \"/home/rocky/miniconda3/envs/jupyterlab/lib/python3.12/site-packages/codecarbon/core/emissions.py\", line 142, in get_private_infra_emissions\n",
      "    return self.get_region_emissions(energy, geo)\n",
      "           ^^^^^^^^^^^^^^^^^^^^^^^^^^^^^^^^^^^^^^\n",
      "  File \"/home/rocky/miniconda3/envs/jupyterlab/lib/python3.12/site-packages/codecarbon/core/emissions.py\", line 168, in get_region_emissions\n",
      "    raise ValueError(\n",
      "ValueError: Region:  not found for Country with ISO CODE : USA\n",
      "[codecarbon WARNING @ 17:24:28] Regional emissions retrieval failed. Falling back on country emissions.\n",
      "[codecarbon INFO @ 17:24:28] 0.034491 g.CO2eq/s mean an estimation of 1,087.7097592000957 kg.CO2eq/year\n",
      "                 Class     Images  Instances      Box(P          R      mAP50  mAP50-95): 100%|██████████| 19/19 [00:11<00:00,  1.63it/s]"
     ]
    },
    {
     "name": "stdout",
     "output_type": "stream",
     "text": [
      "                   all       2844       3135      0.974       0.96      0.988      0.921\n"
     ]
    },
    {
     "name": "stderr",
     "output_type": "stream",
     "text": [
      "\n"
     ]
    },
    {
     "name": "stdout",
     "output_type": "stream",
     "text": [
      "\n",
      "      Epoch    GPU_mem   box_loss   cls_loss   dfl_loss  Instances       Size\n"
     ]
    },
    {
     "name": "stderr",
     "output_type": "stream",
     "text": [
      "     77/100        38G     0.1968     0.1596     0.9024        169        640:  11%|█         | 17/156 [00:11<01:31,  1.52it/s][codecarbon INFO @ 17:24:43] Energy consumed for RAM : 0.041710 kWh. RAM Power : 42.987337589263916 W\n",
      "[codecarbon INFO @ 17:24:43] Energy consumed for all GPUs : 0.241261 kWh. Total GPU Power : 237.4221128871386 W\n",
      "[codecarbon INFO @ 17:24:43] Energy consumed for all CPUs : 0.041261 kWh. Total CPU Power : 42.5 W\n",
      "[codecarbon INFO @ 17:24:43] 0.324231 kWh of electricity used since the beginning.\n",
      "     77/100        38G     0.1957     0.1559     0.8989        184        640:  26%|██▌       | 40/156 [00:26<01:15,  1.53it/s][codecarbon INFO @ 17:24:58] Energy consumed for RAM : 0.041889 kWh. RAM Power : 42.987337589263916 W\n",
      "[codecarbon INFO @ 17:24:58] Energy consumed for all GPUs : 0.242325 kWh. Total GPU Power : 255.40547967360695 W\n",
      "[codecarbon INFO @ 17:24:58] Energy consumed for all CPUs : 0.041438 kWh. Total CPU Power : 42.5 W\n",
      "[codecarbon INFO @ 17:24:58] 0.325651 kWh of electricity used since the beginning.\n",
      "     77/100        38G     0.1937     0.1543     0.8977        195        640:  40%|████      | 63/156 [00:41<01:01,  1.52it/s][codecarbon INFO @ 17:25:13] Energy consumed for RAM : 0.042068 kWh. RAM Power : 42.987337589263916 W\n",
      "[codecarbon INFO @ 17:25:13] Energy consumed for all GPUs : 0.243395 kWh. Total GPU Power : 256.8769010422727 W\n",
      "[codecarbon INFO @ 17:25:13] Energy consumed for all CPUs : 0.041615 kWh. Total CPU Power : 42.5 W\n",
      "[codecarbon INFO @ 17:25:13] 0.327077 kWh of electricity used since the beginning.\n",
      "     77/100        38G     0.1944     0.1537     0.8988        167        640:  54%|█████▍    | 85/156 [00:55<00:46,  1.51it/s][codecarbon INFO @ 17:25:28] Energy consumed for RAM : 0.042247 kWh. RAM Power : 42.987337589263916 W\n",
      "[codecarbon INFO @ 17:25:28] Energy consumed for all GPUs : 0.244469 kWh. Total GPU Power : 257.88598527994804 W\n",
      "[codecarbon INFO @ 17:25:28] Energy consumed for all CPUs : 0.041792 kWh. Total CPU Power : 42.5 W\n",
      "[codecarbon INFO @ 17:25:28] 0.328508 kWh of electricity used since the beginning.\n",
      "     77/100        38G     0.1948     0.1532     0.8987        166        640:  69%|██████▉   | 108/156 [01:11<00:31,  1.52it/s][codecarbon INFO @ 17:25:43] Energy consumed for RAM : 0.042426 kWh. RAM Power : 42.987337589263916 W\n",
      "[codecarbon INFO @ 17:25:43] Energy consumed for all GPUs : 0.245538 kWh. Total GPU Power : 256.587103584729 W\n",
      "[codecarbon INFO @ 17:25:43] Energy consumed for all CPUs : 0.041969 kWh. Total CPU Power : 42.5 W\n",
      "[codecarbon INFO @ 17:25:43] 0.329933 kWh of electricity used since the beginning.\n",
      "     77/100        38G     0.1953     0.1528      0.899        176        640:  84%|████████▍ | 131/156 [01:26<00:16,  1.52it/s][codecarbon INFO @ 17:25:58] Energy consumed for RAM : 0.042605 kWh. RAM Power : 42.987337589263916 W\n",
      "[codecarbon INFO @ 17:25:58] Energy consumed for all GPUs : 0.246614 kWh. Total GPU Power : 258.3243499118962 W\n",
      "[codecarbon INFO @ 17:25:58] Energy consumed for all CPUs : 0.042146 kWh. Total CPU Power : 42.5 W\n",
      "[codecarbon INFO @ 17:25:58] 0.331365 kWh of electricity used since the beginning.\n",
      "     77/100        38G     0.1941     0.1523     0.8984        173        640:  99%|█████████▊| 154/156 [01:41<00:01,  1.52it/s][codecarbon INFO @ 17:26:13] Energy consumed for RAM : 0.042784 kWh. RAM Power : 42.987337589263916 W\n",
      "[codecarbon INFO @ 17:26:13] Energy consumed for all GPUs : 0.247682 kWh. Total GPU Power : 256.32438377796745 W\n",
      "[codecarbon INFO @ 17:26:13] Energy consumed for all CPUs : 0.042323 kWh. Total CPU Power : 42.5 W\n",
      "[codecarbon INFO @ 17:26:13] 0.332789 kWh of electricity used since the beginning.\n",
      "     77/100        38G     0.1945      0.153     0.8985         17        640: 100%|██████████| 156/156 [01:42<00:00,  1.53it/s]\n",
      "                 Class     Images  Instances      Box(P          R      mAP50  mAP50-95): 100%|██████████| 19/19 [00:11<00:00,  1.65it/s]"
     ]
    },
    {
     "name": "stdout",
     "output_type": "stream",
     "text": [
      "                   all       2844       3135      0.976      0.962      0.989      0.921\n"
     ]
    },
    {
     "name": "stderr",
     "output_type": "stream",
     "text": [
      "\n"
     ]
    },
    {
     "name": "stdout",
     "output_type": "stream",
     "text": [
      "\n",
      "      Epoch    GPU_mem   box_loss   cls_loss   dfl_loss  Instances       Size\n"
     ]
    },
    {
     "name": "stderr",
     "output_type": "stream",
     "text": [
      "     78/100        38G     0.1822     0.1372     0.8854        190        640:   1%|▏         | 2/156 [00:01<01:45,  1.46it/s][codecarbon INFO @ 17:26:28] Energy consumed for RAM : 0.042963 kWh. RAM Power : 42.987337589263916 W\n",
      "[codecarbon INFO @ 17:26:28] Energy consumed for all GPUs : 0.248580 kWh. Total GPU Power : 215.56634488522516 W\n",
      "[codecarbon INFO @ 17:26:28] Energy consumed for all CPUs : 0.042500 kWh. Total CPU Power : 42.5 W\n",
      "[codecarbon INFO @ 17:26:28] 0.334043 kWh of electricity used since the beginning.\n",
      "[codecarbon ERROR @ 17:26:28] Region:  not found for Country with ISO CODE : USA\n",
      "Traceback (most recent call last):\n",
      "  File \"/home/rocky/miniconda3/envs/jupyterlab/lib/python3.12/site-packages/codecarbon/core/emissions.py\", line 142, in get_private_infra_emissions\n",
      "    return self.get_region_emissions(energy, geo)\n",
      "           ^^^^^^^^^^^^^^^^^^^^^^^^^^^^^^^^^^^^^^\n",
      "  File \"/home/rocky/miniconda3/envs/jupyterlab/lib/python3.12/site-packages/codecarbon/core/emissions.py\", line 168, in get_region_emissions\n",
      "    raise ValueError(\n",
      "ValueError: Region:  not found for Country with ISO CODE : USA\n",
      "[codecarbon WARNING @ 17:26:28] Regional emissions retrieval failed. Falling back on country emissions.\n",
      "[codecarbon INFO @ 17:26:28] 0.034350 g.CO2eq/s mean an estimation of 1,083.2539593851645 kg.CO2eq/year\n",
      "     78/100        38G       0.19     0.1455     0.8998        191        640:  16%|█▌        | 25/156 [00:16<01:25,  1.53it/s][codecarbon INFO @ 17:26:43] Energy consumed for RAM : 0.043142 kWh. RAM Power : 42.987337589263916 W\n",
      "[codecarbon INFO @ 17:26:43] Energy consumed for all GPUs : 0.249649 kWh. Total GPU Power : 256.7829628858892 W\n",
      "[codecarbon INFO @ 17:26:43] Energy consumed for all CPUs : 0.042677 kWh. Total CPU Power : 42.5 W\n",
      "[codecarbon INFO @ 17:26:43] 0.335469 kWh of electricity used since the beginning.\n",
      "     78/100        38G     0.1958     0.1499     0.9046        175        640:  31%|███       | 48/156 [00:31<01:10,  1.53it/s][codecarbon INFO @ 17:26:58] Energy consumed for RAM : 0.043321 kWh. RAM Power : 42.987337589263916 W\n",
      "[codecarbon INFO @ 17:26:58] Energy consumed for all GPUs : 0.250725 kWh. Total GPU Power : 258.39317245263896 W\n",
      "[codecarbon INFO @ 17:26:58] Energy consumed for all CPUs : 0.042854 kWh. Total CPU Power : 42.5 W\n",
      "[codecarbon INFO @ 17:26:58] 0.336901 kWh of electricity used since the beginning.\n",
      "     78/100        38G     0.1954     0.1504     0.9028        159        640:  46%|████▌     | 71/156 [00:46<00:55,  1.53it/s][codecarbon INFO @ 17:27:13] Energy consumed for RAM : 0.043500 kWh. RAM Power : 42.987337589263916 W\n",
      "[codecarbon INFO @ 17:27:13] Energy consumed for all GPUs : 0.251804 kWh. Total GPU Power : 258.90175199619694 W\n",
      "[codecarbon INFO @ 17:27:13] Energy consumed for all CPUs : 0.043031 kWh. Total CPU Power : 42.5 W\n",
      "[codecarbon INFO @ 17:27:13] 0.338336 kWh of electricity used since the beginning.\n",
      "     78/100        38G      0.194     0.1498      0.901        186        640:  60%|██████    | 94/156 [01:01<00:40,  1.53it/s][codecarbon INFO @ 17:27:28] Energy consumed for RAM : 0.043679 kWh. RAM Power : 42.987337589263916 W\n",
      "[codecarbon INFO @ 17:27:28] Energy consumed for all GPUs : 0.252872 kWh. Total GPU Power : 256.4512685761844 W\n",
      "[codecarbon INFO @ 17:27:28] Energy consumed for all CPUs : 0.043208 kWh. Total CPU Power : 42.5 W\n",
      "[codecarbon INFO @ 17:27:28] 0.339760 kWh of electricity used since the beginning.\n",
      "     78/100        38G     0.1934     0.1492     0.9002        190        640:  75%|███████▌  | 117/156 [01:16<00:25,  1.53it/s][codecarbon INFO @ 17:27:43] Energy consumed for RAM : 0.043858 kWh. RAM Power : 42.987337589263916 W\n",
      "[codecarbon INFO @ 17:27:43] Energy consumed for all GPUs : 0.253956 kWh. Total GPU Power : 260.1873791472949 W\n",
      "[codecarbon INFO @ 17:27:43] Energy consumed for all CPUs : 0.043386 kWh. Total CPU Power : 42.5 W\n",
      "[codecarbon INFO @ 17:27:43] 0.341200 kWh of electricity used since the beginning.\n",
      "     78/100        38G      0.192     0.1482     0.8989        162        640:  90%|████████▉ | 140/156 [01:31<00:10,  1.53it/s][codecarbon INFO @ 17:27:58] Energy consumed for RAM : 0.044037 kWh. RAM Power : 42.987337589263916 W\n",
      "[codecarbon INFO @ 17:27:58] Energy consumed for all GPUs : 0.255041 kWh. Total GPU Power : 260.38830364512586 W\n",
      "[codecarbon INFO @ 17:27:58] Energy consumed for all CPUs : 0.043563 kWh. Total CPU Power : 42.5 W\n",
      "[codecarbon INFO @ 17:27:58] 0.342641 kWh of electricity used since the beginning.\n",
      "     78/100        38G     0.1916     0.1483     0.8989         25        640: 100%|██████████| 156/156 [01:41<00:00,  1.54it/s]\n",
      "                 Class     Images  Instances      Box(P          R      mAP50  mAP50-95):  42%|████▏     | 8/19 [00:05<00:07,  1.54it/s][codecarbon INFO @ 17:28:13] Energy consumed for RAM : 0.044216 kWh. RAM Power : 42.987337589263916 W\n",
      "[codecarbon INFO @ 17:28:13] Energy consumed for all GPUs : 0.256061 kWh. Total GPU Power : 245.0330074384204 W\n",
      "[codecarbon INFO @ 17:28:13] Energy consumed for all CPUs : 0.043740 kWh. Total CPU Power : 42.5 W\n",
      "[codecarbon INFO @ 17:28:13] 0.344017 kWh of electricity used since the beginning.\n",
      "                 Class     Images  Instances      Box(P          R      mAP50  mAP50-95): 100%|██████████| 19/19 [00:11<00:00,  1.68it/s]"
     ]
    },
    {
     "name": "stdout",
     "output_type": "stream",
     "text": [
      "                   all       2844       3135      0.979      0.959      0.988      0.922\n"
     ]
    },
    {
     "name": "stderr",
     "output_type": "stream",
     "text": [
      "\n"
     ]
    },
    {
     "name": "stdout",
     "output_type": "stream",
     "text": [
      "\n",
      "      Epoch    GPU_mem   box_loss   cls_loss   dfl_loss  Instances       Size\n"
     ]
    },
    {
     "name": "stderr",
     "output_type": "stream",
     "text": [
      "     79/100        38G     0.1892     0.1511      0.901        171        640:   8%|▊         | 12/156 [00:07<01:34,  1.53it/s][codecarbon INFO @ 17:28:28] Energy consumed for RAM : 0.044395 kWh. RAM Power : 42.987337589263916 W\n",
      "[codecarbon INFO @ 17:28:28] Energy consumed for all GPUs : 0.257029 kWh. Total GPU Power : 232.14942237544724 W\n",
      "[codecarbon INFO @ 17:28:28] Energy consumed for all CPUs : 0.043917 kWh. Total CPU Power : 42.5 W\n",
      "[codecarbon INFO @ 17:28:28] 0.345341 kWh of electricity used since the beginning.\n",
      "[codecarbon ERROR @ 17:28:28] Region:  not found for Country with ISO CODE : USA\n",
      "Traceback (most recent call last):\n",
      "  File \"/home/rocky/miniconda3/envs/jupyterlab/lib/python3.12/site-packages/codecarbon/core/emissions.py\", line 142, in get_private_infra_emissions\n",
      "    return self.get_region_emissions(energy, geo)\n",
      "           ^^^^^^^^^^^^^^^^^^^^^^^^^^^^^^^^^^^^^^\n",
      "  File \"/home/rocky/miniconda3/envs/jupyterlab/lib/python3.12/site-packages/codecarbon/core/emissions.py\", line 168, in get_region_emissions\n",
      "    raise ValueError(\n",
      "ValueError: Region:  not found for Country with ISO CODE : USA\n",
      "[codecarbon WARNING @ 17:28:28] Regional emissions retrieval failed. Falling back on country emissions.\n",
      "[codecarbon INFO @ 17:28:28] 0.034783 g.CO2eq/s mean an estimation of 1,096.9224186135013 kg.CO2eq/year\n",
      "     79/100        38G     0.1855     0.1472     0.8977        170        640:  22%|██▏       | 34/156 [00:22<01:19,  1.53it/s][codecarbon INFO @ 17:28:43] Energy consumed for RAM : 0.044574 kWh. RAM Power : 42.987337589263916 W\n",
      "[codecarbon INFO @ 17:28:43] Energy consumed for all GPUs : 0.258109 kWh. Total GPU Power : 259.51181277500973 W\n",
      "[codecarbon INFO @ 17:28:43] Energy consumed for all CPUs : 0.044094 kWh. Total CPU Power : 42.5 W\n",
      "[codecarbon INFO @ 17:28:43] 0.346778 kWh of electricity used since the beginning.\n",
      "     79/100        38G     0.1865     0.1469     0.8968        212        640:  37%|███▋      | 57/156 [00:37<01:04,  1.53it/s][codecarbon INFO @ 17:28:58] Energy consumed for RAM : 0.044753 kWh. RAM Power : 42.987337589263916 W\n",
      "[codecarbon INFO @ 17:28:58] Energy consumed for all GPUs : 0.259182 kWh. Total GPU Power : 257.5556731281725 W\n",
      "[codecarbon INFO @ 17:28:58] Energy consumed for all CPUs : 0.044271 kWh. Total CPU Power : 42.5 W\n",
      "[codecarbon INFO @ 17:28:58] 0.348207 kWh of electricity used since the beginning.\n",
      "     79/100        38G     0.1861     0.1471     0.8954        181        640:  51%|█████▏    | 80/156 [00:52<00:49,  1.53it/s][codecarbon INFO @ 17:29:13] Energy consumed for RAM : 0.044932 kWh. RAM Power : 42.987337589263916 W\n",
      "[codecarbon INFO @ 17:29:13] Energy consumed for all GPUs : 0.260251 kWh. Total GPU Power : 256.56685812541593 W\n",
      "[codecarbon INFO @ 17:29:13] Energy consumed for all CPUs : 0.044448 kWh. Total CPU Power : 42.5 W\n",
      "[codecarbon INFO @ 17:29:13] 0.349631 kWh of electricity used since the beginning.\n",
      "     79/100        38G     0.1865     0.1479     0.8952        178        640:  66%|██████▌   | 103/156 [01:07<00:34,  1.53it/s][codecarbon INFO @ 17:29:28] Energy consumed for RAM : 0.045112 kWh. RAM Power : 42.987337589263916 W\n",
      "[codecarbon INFO @ 17:29:28] Energy consumed for all GPUs : 0.261326 kWh. Total GPU Power : 258.1526336949051 W\n",
      "[codecarbon INFO @ 17:29:28] Energy consumed for all CPUs : 0.044625 kWh. Total CPU Power : 42.5 W\n",
      "[codecarbon INFO @ 17:29:28] 0.351063 kWh of electricity used since the beginning.\n",
      "     79/100        38G     0.1864     0.1471     0.8953        172        640:  81%|████████  | 126/156 [01:22<00:19,  1.53it/s][codecarbon INFO @ 17:29:43] Energy consumed for RAM : 0.045291 kWh. RAM Power : 42.987337589263916 W\n",
      "[codecarbon INFO @ 17:29:43] Energy consumed for all GPUs : 0.262405 kWh. Total GPU Power : 258.8693984957076 W\n",
      "[codecarbon INFO @ 17:29:43] Energy consumed for all CPUs : 0.044802 kWh. Total CPU Power : 42.5 W\n",
      "[codecarbon INFO @ 17:29:43] 0.352497 kWh of electricity used since the beginning.\n",
      "     79/100        38G     0.1857     0.1469     0.8952        181        640:  96%|█████████▌| 149/156 [01:37<00:04,  1.53it/s][codecarbon INFO @ 17:29:58] Energy consumed for RAM : 0.045470 kWh. RAM Power : 42.987337589263916 W\n",
      "[codecarbon INFO @ 17:29:58] Energy consumed for all GPUs : 0.263482 kWh. Total GPU Power : 258.71046354862153 W\n",
      "[codecarbon INFO @ 17:29:58] Energy consumed for all CPUs : 0.044979 kWh. Total CPU Power : 42.5 W\n",
      "[codecarbon INFO @ 17:29:58] 0.353931 kWh of electricity used since the beginning.\n",
      "     79/100        38G     0.1863     0.1469     0.8956         31        640: 100%|██████████| 156/156 [01:41<00:00,  1.53it/s]\n",
      "                 Class     Images  Instances      Box(P          R      mAP50  mAP50-95):  89%|████████▉ | 17/19 [00:10<00:01,  1.87it/s][codecarbon INFO @ 17:30:13] Energy consumed for RAM : 0.045649 kWh. RAM Power : 42.987337589263916 W\n",
      "[codecarbon INFO @ 17:30:13] Energy consumed for all GPUs : 0.264440 kWh. Total GPU Power : 230.047788990007 W\n",
      "[codecarbon INFO @ 17:30:13] Energy consumed for all CPUs : 0.045156 kWh. Total CPU Power : 42.5 W\n",
      "[codecarbon INFO @ 17:30:13] 0.355245 kWh of electricity used since the beginning.\n",
      "                 Class     Images  Instances      Box(P          R      mAP50  mAP50-95): 100%|██████████| 19/19 [00:11<00:00,  1.63it/s]"
     ]
    },
    {
     "name": "stdout",
     "output_type": "stream",
     "text": [
      "                   all       2844       3135      0.978       0.96      0.988      0.922\n"
     ]
    },
    {
     "name": "stderr",
     "output_type": "stream",
     "text": [
      "\n"
     ]
    },
    {
     "name": "stdout",
     "output_type": "stream",
     "text": [
      "\n",
      "      Epoch    GPU_mem   box_loss   cls_loss   dfl_loss  Instances       Size\n"
     ]
    },
    {
     "name": "stderr",
     "output_type": "stream",
     "text": [
      "     80/100      37.9G     0.1831     0.1456     0.8975        165        640:  13%|█▎        | 20/156 [00:13<01:28,  1.53it/s][codecarbon INFO @ 17:30:28] Energy consumed for RAM : 0.045828 kWh. RAM Power : 42.987337589263916 W\n",
      "[codecarbon INFO @ 17:30:28] Energy consumed for all GPUs : 0.265456 kWh. Total GPU Power : 243.81120304526905 W\n",
      "[codecarbon INFO @ 17:30:28] Energy consumed for all CPUs : 0.045333 kWh. Total CPU Power : 42.5 W\n",
      "[codecarbon INFO @ 17:30:28] 0.356617 kWh of electricity used since the beginning.\n",
      "[codecarbon ERROR @ 17:30:28] Region:  not found for Country with ISO CODE : USA\n",
      "Traceback (most recent call last):\n",
      "  File \"/home/rocky/miniconda3/envs/jupyterlab/lib/python3.12/site-packages/codecarbon/core/emissions.py\", line 142, in get_private_infra_emissions\n",
      "    return self.get_region_emissions(energy, geo)\n",
      "           ^^^^^^^^^^^^^^^^^^^^^^^^^^^^^^^^^^^^^^\n",
      "  File \"/home/rocky/miniconda3/envs/jupyterlab/lib/python3.12/site-packages/codecarbon/core/emissions.py\", line 168, in get_region_emissions\n",
      "    raise ValueError(\n",
      "ValueError: Region:  not found for Country with ISO CODE : USA\n",
      "[codecarbon WARNING @ 17:30:28] Regional emissions retrieval failed. Falling back on country emissions.\n",
      "[codecarbon INFO @ 17:30:28] 0.034717 g.CO2eq/s mean an estimation of 1,094.8255998814186 kg.CO2eq/year\n",
      "     80/100      37.9G     0.1838     0.1437     0.8956        164        640:  28%|██▊       | 43/156 [00:28<01:13,  1.53it/s][codecarbon INFO @ 17:30:43] Energy consumed for RAM : 0.046007 kWh. RAM Power : 42.987337589263916 W\n",
      "[codecarbon INFO @ 17:30:43] Energy consumed for all GPUs : 0.266529 kWh. Total GPU Power : 257.6354906780793 W\n",
      "[codecarbon INFO @ 17:30:43] Energy consumed for all CPUs : 0.045510 kWh. Total CPU Power : 42.5 W\n",
      "[codecarbon INFO @ 17:30:43] 0.358046 kWh of electricity used since the beginning.\n",
      "     80/100      37.9G     0.1833      0.143     0.8937        164        640:  42%|████▏     | 66/156 [00:43<00:58,  1.53it/s][codecarbon INFO @ 17:30:58] Energy consumed for RAM : 0.046186 kWh. RAM Power : 42.987337589263916 W\n",
      "[codecarbon INFO @ 17:30:58] Energy consumed for all GPUs : 0.267609 kWh. Total GPU Power : 259.2231381332306 W\n",
      "[codecarbon INFO @ 17:30:58] Energy consumed for all CPUs : 0.045688 kWh. Total CPU Power : 42.5 W\n",
      "[codecarbon INFO @ 17:30:58] 0.359482 kWh of electricity used since the beginning.\n",
      "     80/100      37.9G     0.1841     0.1433     0.8929        185        640:  57%|█████▋    | 89/156 [00:58<00:43,  1.53it/s][codecarbon INFO @ 17:31:13] Energy consumed for RAM : 0.046365 kWh. RAM Power : 42.987337589263916 W\n",
      "[codecarbon INFO @ 17:31:13] Energy consumed for all GPUs : 0.268687 kWh. Total GPU Power : 258.9885735613301 W\n",
      "[codecarbon INFO @ 17:31:13] Energy consumed for all CPUs : 0.045865 kWh. Total CPU Power : 42.5 W\n",
      "[codecarbon INFO @ 17:31:13] 0.360917 kWh of electricity used since the beginning.\n",
      "     80/100      37.9G      0.185     0.1441     0.8936        187        640:  72%|███████▏  | 112/156 [01:13<00:28,  1.52it/s][codecarbon INFO @ 17:31:28] Energy consumed for RAM : 0.046544 kWh. RAM Power : 42.987337589263916 W\n",
      "[codecarbon INFO @ 17:31:28] Energy consumed for all GPUs : 0.269762 kWh. Total GPU Power : 257.85218613324497 W\n",
      "[codecarbon INFO @ 17:31:28] Energy consumed for all CPUs : 0.046042 kWh. Total CPU Power : 42.5 W\n",
      "[codecarbon INFO @ 17:31:28] 0.362347 kWh of electricity used since the beginning.\n",
      "     80/100      37.9G     0.1846     0.1435     0.8938        168        640:  87%|████████▋ | 135/156 [01:28<00:13,  1.53it/s][codecarbon INFO @ 17:31:43] Energy consumed for RAM : 0.046723 kWh. RAM Power : 42.987337589263916 W\n",
      "[codecarbon INFO @ 17:31:43] Energy consumed for all GPUs : 0.270842 kWh. Total GPU Power : 259.2964790163926 W\n",
      "[codecarbon INFO @ 17:31:43] Energy consumed for all CPUs : 0.046219 kWh. Total CPU Power : 42.5 W\n",
      "[codecarbon INFO @ 17:31:43] 0.363783 kWh of electricity used since the beginning.\n",
      "     80/100      37.9G     0.1837     0.1433     0.8932         30        640: 100%|██████████| 156/156 [01:41<00:00,  1.53it/s]\n",
      "                 Class     Images  Instances      Box(P          R      mAP50  mAP50-95):  11%|█         | 2/19 [00:01<00:11,  1.53it/s][codecarbon INFO @ 17:31:58] Energy consumed for RAM : 0.046902 kWh. RAM Power : 42.987337589263916 W\n",
      "[codecarbon INFO @ 17:31:58] Energy consumed for all GPUs : 0.271903 kWh. Total GPU Power : 254.76613678812416 W\n",
      "[codecarbon INFO @ 17:31:58] Energy consumed for all CPUs : 0.046396 kWh. Total CPU Power : 42.5 W\n",
      "[codecarbon INFO @ 17:31:58] 0.365201 kWh of electricity used since the beginning.\n",
      "                 Class     Images  Instances      Box(P          R      mAP50  mAP50-95): 100%|██████████| 19/19 [00:11<00:00,  1.68it/s]"
     ]
    },
    {
     "name": "stdout",
     "output_type": "stream",
     "text": [
      "                   all       2844       3135      0.977      0.958      0.988      0.923\n"
     ]
    },
    {
     "name": "stderr",
     "output_type": "stream",
     "text": [
      "\n"
     ]
    },
    {
     "name": "stdout",
     "output_type": "stream",
     "text": [
      "\n",
      "      Epoch    GPU_mem   box_loss   cls_loss   dfl_loss  Instances       Size\n"
     ]
    },
    {
     "name": "stderr",
     "output_type": "stream",
     "text": [
      "     81/100      37.9G     0.1888     0.1441     0.8968        170        640:   3%|▎         | 5/156 [00:03<01:47,  1.40it/s][codecarbon INFO @ 17:32:13] Energy consumed for RAM : 0.047081 kWh. RAM Power : 42.987337589263916 W\n",
      "[codecarbon INFO @ 17:32:13] Energy consumed for all GPUs : 0.272792 kWh. Total GPU Power : 213.36214209593172 W\n",
      "[codecarbon INFO @ 17:32:13] Energy consumed for all CPUs : 0.046573 kWh. Total CPU Power : 42.5 W\n",
      "[codecarbon INFO @ 17:32:13] 0.366445 kWh of electricity used since the beginning.\n",
      "     81/100      37.9G     0.1837     0.1433     0.8939        179        640:  18%|█▊        | 28/156 [00:19<01:23,  1.53it/s][codecarbon INFO @ 17:32:28] Energy consumed for RAM : 0.047260 kWh. RAM Power : 42.987337589263916 W\n",
      "[codecarbon INFO @ 17:32:28] Energy consumed for all GPUs : 0.273868 kWh. Total GPU Power : 258.4424288119998 W\n",
      "[codecarbon INFO @ 17:32:28] Energy consumed for all CPUs : 0.046750 kWh. Total CPU Power : 42.5 W\n",
      "[codecarbon INFO @ 17:32:28] 0.367878 kWh of electricity used since the beginning.\n",
      "[codecarbon ERROR @ 17:32:28] Region:  not found for Country with ISO CODE : USA\n",
      "Traceback (most recent call last):\n",
      "  File \"/home/rocky/miniconda3/envs/jupyterlab/lib/python3.12/site-packages/codecarbon/core/emissions.py\", line 142, in get_private_infra_emissions\n",
      "    return self.get_region_emissions(energy, geo)\n",
      "           ^^^^^^^^^^^^^^^^^^^^^^^^^^^^^^^^^^^^^^\n",
      "  File \"/home/rocky/miniconda3/envs/jupyterlab/lib/python3.12/site-packages/codecarbon/core/emissions.py\", line 168, in get_region_emissions\n",
      "    raise ValueError(\n",
      "ValueError: Region:  not found for Country with ISO CODE : USA\n",
      "[codecarbon WARNING @ 17:32:28] Regional emissions retrieval failed. Falling back on country emissions.\n",
      "[codecarbon INFO @ 17:32:28] 0.034671 g.CO2eq/s mean an estimation of 1,093.3978523406174 kg.CO2eq/year\n",
      "     81/100      37.9G     0.1815     0.1408     0.8931        164        640:  33%|███▎      | 51/156 [00:34<01:08,  1.53it/s][codecarbon INFO @ 17:32:43] Energy consumed for RAM : 0.047439 kWh. RAM Power : 42.987337589263916 W\n",
      "[codecarbon INFO @ 17:32:43] Energy consumed for all GPUs : 0.274938 kWh. Total GPU Power : 256.77408899693194 W\n",
      "[codecarbon INFO @ 17:32:43] Energy consumed for all CPUs : 0.046927 kWh. Total CPU Power : 42.5 W\n",
      "[codecarbon INFO @ 17:32:43] 0.369304 kWh of electricity used since the beginning.\n",
      "     81/100      37.9G     0.1814     0.1416     0.8922        180        640:  47%|████▋     | 74/156 [00:49<00:53,  1.53it/s][codecarbon INFO @ 17:32:58] Energy consumed for RAM : 0.047618 kWh. RAM Power : 42.987337589263916 W\n",
      "[codecarbon INFO @ 17:32:58] Energy consumed for all GPUs : 0.276015 kWh. Total GPU Power : 258.57449540919635 W\n",
      "[codecarbon INFO @ 17:32:58] Energy consumed for all CPUs : 0.047104 kWh. Total CPU Power : 42.5 W\n",
      "[codecarbon INFO @ 17:32:58] 0.370737 kWh of electricity used since the beginning.\n",
      "     81/100      37.9G     0.1809     0.1418     0.8923        170        640:  62%|██████▏   | 97/156 [01:04<00:38,  1.52it/s][codecarbon INFO @ 17:33:13] Energy consumed for RAM : 0.047797 kWh. RAM Power : 42.987337589263916 W\n",
      "[codecarbon INFO @ 17:33:13] Energy consumed for all GPUs : 0.277088 kWh. Total GPU Power : 257.5924539872826 W\n",
      "[codecarbon INFO @ 17:33:13] Energy consumed for all CPUs : 0.047281 kWh. Total CPU Power : 42.5 W\n",
      "[codecarbon INFO @ 17:33:13] 0.372166 kWh of electricity used since the beginning.\n",
      "     81/100      37.9G     0.1813     0.1421     0.8924        164        640:  77%|███████▋  | 120/156 [01:19<00:23,  1.53it/s][codecarbon INFO @ 17:33:28] Energy consumed for RAM : 0.047976 kWh. RAM Power : 42.987337589263916 W\n",
      "[codecarbon INFO @ 17:33:28] Energy consumed for all GPUs : 0.278169 kWh. Total GPU Power : 259.54337218872837 W\n",
      "[codecarbon INFO @ 17:33:28] Energy consumed for all CPUs : 0.047458 kWh. Total CPU Power : 42.5 W\n",
      "[codecarbon INFO @ 17:33:28] 0.373603 kWh of electricity used since the beginning.\n",
      "     81/100      37.9G     0.1805     0.1421     0.8923        182        640:  92%|█████████▏| 143/156 [01:34<00:08,  1.53it/s][codecarbon INFO @ 17:33:43] Energy consumed for RAM : 0.048155 kWh. RAM Power : 42.987337589263916 W\n",
      "[codecarbon INFO @ 17:33:43] Energy consumed for all GPUs : 0.279254 kWh. Total GPU Power : 260.4560706705315 W\n",
      "[codecarbon INFO @ 17:33:43] Energy consumed for all CPUs : 0.047635 kWh. Total CPU Power : 42.5 W\n",
      "[codecarbon INFO @ 17:33:43] 0.375044 kWh of electricity used since the beginning.\n",
      "     81/100      37.9G     0.1811     0.1426     0.8923         26        640: 100%|██████████| 156/156 [01:42<00:00,  1.52it/s]\n",
      "                 Class     Images  Instances      Box(P          R      mAP50  mAP50-95):  58%|█████▊    | 11/19 [00:06<00:04,  1.69it/s][codecarbon INFO @ 17:33:58] Energy consumed for RAM : 0.048334 kWh. RAM Power : 42.987337589263916 W\n",
      "[codecarbon INFO @ 17:33:58] Energy consumed for all GPUs : 0.280256 kWh. Total GPU Power : 240.56774573419864 W\n",
      "[codecarbon INFO @ 17:33:58] Energy consumed for all CPUs : 0.047812 kWh. Total CPU Power : 42.5 W\n",
      "[codecarbon INFO @ 17:33:58] 0.376402 kWh of electricity used since the beginning.\n",
      "                 Class     Images  Instances      Box(P          R      mAP50  mAP50-95): 100%|██████████| 19/19 [00:11<00:00,  1.68it/s]"
     ]
    },
    {
     "name": "stdout",
     "output_type": "stream",
     "text": [
      "                   all       2844       3135      0.976      0.961      0.988      0.923\n"
     ]
    },
    {
     "name": "stderr",
     "output_type": "stream",
     "text": [
      "\n"
     ]
    },
    {
     "name": "stdout",
     "output_type": "stream",
     "text": [
      "\n",
      "      Epoch    GPU_mem   box_loss   cls_loss   dfl_loss  Instances       Size\n"
     ]
    },
    {
     "name": "stderr",
     "output_type": "stream",
     "text": [
      "     82/100        38G     0.1807     0.1425     0.8891        172        640:   8%|▊         | 13/156 [00:09<01:34,  1.52it/s][codecarbon INFO @ 17:34:13] Energy consumed for RAM : 0.048513 kWh. RAM Power : 42.987337589263916 W\n",
      "[codecarbon INFO @ 17:34:13] Energy consumed for all GPUs : 0.281202 kWh. Total GPU Power : 227.296068406506 W\n",
      "[codecarbon INFO @ 17:34:13] Energy consumed for all CPUs : 0.047989 kWh. Total CPU Power : 42.5 W\n",
      "[codecarbon INFO @ 17:34:13] 0.377705 kWh of electricity used since the beginning.\n",
      "     82/100        38G     0.1795     0.1402     0.8905        199        640:  23%|██▎       | 36/156 [00:24<01:18,  1.52it/s][codecarbon INFO @ 17:34:28] Energy consumed for RAM : 0.048692 kWh. RAM Power : 42.987337589263916 W\n",
      "[codecarbon INFO @ 17:34:28] Energy consumed for all GPUs : 0.282276 kWh. Total GPU Power : 257.8622385147769 W\n",
      "[codecarbon INFO @ 17:34:28] Energy consumed for all CPUs : 0.048167 kWh. Total CPU Power : 42.5 W\n",
      "[codecarbon INFO @ 17:34:28] 0.379135 kWh of electricity used since the beginning.\n",
      "[codecarbon ERROR @ 17:34:28] Region:  not found for Country with ISO CODE : USA\n",
      "Traceback (most recent call last):\n",
      "  File \"/home/rocky/miniconda3/envs/jupyterlab/lib/python3.12/site-packages/codecarbon/core/emissions.py\", line 142, in get_private_infra_emissions\n",
      "    return self.get_region_emissions(energy, geo)\n",
      "           ^^^^^^^^^^^^^^^^^^^^^^^^^^^^^^^^^^^^^^\n",
      "  File \"/home/rocky/miniconda3/envs/jupyterlab/lib/python3.12/site-packages/codecarbon/core/emissions.py\", line 168, in get_region_emissions\n",
      "    raise ValueError(\n",
      "ValueError: Region:  not found for Country with ISO CODE : USA\n",
      "[codecarbon WARNING @ 17:34:28] Regional emissions retrieval failed. Falling back on country emissions.\n",
      "[codecarbon INFO @ 17:34:28] 0.034659 g.CO2eq/s mean an estimation of 1,093.0013240310907 kg.CO2eq/year\n",
      "     82/100        38G     0.1789     0.1418     0.8898        184        640:  38%|███▊      | 59/156 [00:39<01:03,  1.53it/s][codecarbon INFO @ 17:34:43] Energy consumed for RAM : 0.048871 kWh. RAM Power : 42.987337589263916 W\n",
      "[codecarbon INFO @ 17:34:43] Energy consumed for all GPUs : 0.283356 kWh. Total GPU Power : 259.07418125450084 W\n",
      "[codecarbon INFO @ 17:34:43] Energy consumed for all CPUs : 0.048344 kWh. Total CPU Power : 42.5 W\n",
      "[codecarbon INFO @ 17:34:43] 0.380571 kWh of electricity used since the beginning.\n",
      "     82/100        38G     0.1783     0.1407     0.8896        160        640:  53%|█████▎    | 82/156 [00:54<00:48,  1.53it/s][codecarbon INFO @ 17:34:58] Energy consumed for RAM : 0.049050 kWh. RAM Power : 42.987337589263916 W\n",
      "[codecarbon INFO @ 17:34:58] Energy consumed for all GPUs : 0.284433 kWh. Total GPU Power : 258.62776958822985 W\n",
      "[codecarbon INFO @ 17:34:58] Energy consumed for all CPUs : 0.048521 kWh. Total CPU Power : 42.5 W\n",
      "[codecarbon INFO @ 17:34:58] 0.382004 kWh of electricity used since the beginning.\n",
      "     82/100        38G      0.179     0.1416     0.8904        161        640:  67%|██████▋   | 105/156 [01:09<00:33,  1.53it/s][codecarbon INFO @ 17:35:13] Energy consumed for RAM : 0.049229 kWh. RAM Power : 42.987337589263916 W\n",
      "[codecarbon INFO @ 17:35:13] Energy consumed for all GPUs : 0.285505 kWh. Total GPU Power : 257.25947223610814 W\n",
      "[codecarbon INFO @ 17:35:13] Energy consumed for all CPUs : 0.048698 kWh. Total CPU Power : 42.5 W\n",
      "[codecarbon INFO @ 17:35:13] 0.383432 kWh of electricity used since the beginning.\n",
      "     82/100        38G     0.1791     0.1414     0.8899        171        640:  81%|████████▏ | 127/156 [01:24<00:18,  1.53it/s][codecarbon INFO @ 17:35:28] Energy consumed for RAM : 0.049408 kWh. RAM Power : 42.987337589263916 W\n",
      "[codecarbon INFO @ 17:35:28] Energy consumed for all GPUs : 0.286590 kWh. Total GPU Power : 260.59641475396785 W\n",
      "[codecarbon INFO @ 17:35:28] Energy consumed for all CPUs : 0.048875 kWh. Total CPU Power : 42.5 W\n",
      "[codecarbon INFO @ 17:35:28] 0.384873 kWh of electricity used since the beginning.\n",
      "     82/100        38G      0.179     0.1414     0.8903        188        640:  96%|█████████▌| 150/156 [01:39<00:03,  1.53it/s][codecarbon INFO @ 17:35:43] Energy consumed for RAM : 0.049587 kWh. RAM Power : 42.987337589263916 W\n",
      "[codecarbon INFO @ 17:35:43] Energy consumed for all GPUs : 0.287671 kWh. Total GPU Power : 259.59760020385784 W\n",
      "[codecarbon INFO @ 17:35:43] Energy consumed for all CPUs : 0.049052 kWh. Total CPU Power : 42.5 W\n",
      "[codecarbon INFO @ 17:35:43] 0.386311 kWh of electricity used since the beginning.\n",
      "     82/100        38G     0.1795     0.1419     0.8902         28        640: 100%|██████████| 156/156 [01:42<00:00,  1.52it/s]\n",
      "                 Class     Images  Instances      Box(P          R      mAP50  mAP50-95): 100%|██████████| 19/19 [00:11<00:00,  1.62it/s]"
     ]
    },
    {
     "name": "stdout",
     "output_type": "stream",
     "text": [
      "                   all       2844       3135      0.979      0.961      0.988      0.924\n"
     ]
    },
    {
     "name": "stderr",
     "output_type": "stream",
     "text": [
      "\n",
      "[codecarbon INFO @ 17:35:58] Energy consumed for RAM : 0.049766 kWh. RAM Power : 42.987337589263916 W\n",
      "[codecarbon INFO @ 17:35:58] Energy consumed for all GPUs : 0.288597 kWh. Total GPU Power : 222.28441216760223 W\n",
      "[codecarbon INFO @ 17:35:58] Energy consumed for all CPUs : 0.049229 kWh. Total CPU Power : 42.5 W\n",
      "[codecarbon INFO @ 17:35:58] 0.387593 kWh of electricity used since the beginning.\n"
     ]
    },
    {
     "name": "stdout",
     "output_type": "stream",
     "text": [
      "\n",
      "      Epoch    GPU_mem   box_loss   cls_loss   dfl_loss  Instances       Size\n"
     ]
    },
    {
     "name": "stderr",
     "output_type": "stream",
     "text": [
      "     83/100        38G     0.1854     0.1447       0.89        152        640:  13%|█▎        | 21/156 [00:13<01:28,  1.52it/s][codecarbon INFO @ 17:36:13] Energy consumed for RAM : 0.049946 kWh. RAM Power : 42.987337589263916 W\n",
      "[codecarbon INFO @ 17:36:13] Energy consumed for all GPUs : 0.289619 kWh. Total GPU Power : 245.21516817542107 W\n",
      "[codecarbon INFO @ 17:36:13] Energy consumed for all CPUs : 0.049406 kWh. Total CPU Power : 42.5 W\n",
      "[codecarbon INFO @ 17:36:13] 0.388970 kWh of electricity used since the beginning.\n",
      "     83/100        38G     0.1832     0.1454     0.8897        172        640:  28%|██▊       | 44/156 [00:28<01:13,  1.53it/s][codecarbon INFO @ 17:36:28] Energy consumed for RAM : 0.050125 kWh. RAM Power : 42.987337589263916 W\n",
      "[codecarbon INFO @ 17:36:28] Energy consumed for all GPUs : 0.290694 kWh. Total GPU Power : 258.1337065333253 W\n",
      "[codecarbon INFO @ 17:36:28] Energy consumed for all CPUs : 0.049583 kWh. Total CPU Power : 42.5 W\n",
      "[codecarbon INFO @ 17:36:28] 0.390402 kWh of electricity used since the beginning.\n",
      "[codecarbon ERROR @ 17:36:28] Region:  not found for Country with ISO CODE : USA\n",
      "Traceback (most recent call last):\n",
      "  File \"/home/rocky/miniconda3/envs/jupyterlab/lib/python3.12/site-packages/codecarbon/core/emissions.py\", line 142, in get_private_infra_emissions\n",
      "    return self.get_region_emissions(energy, geo)\n",
      "           ^^^^^^^^^^^^^^^^^^^^^^^^^^^^^^^^^^^^^^\n",
      "  File \"/home/rocky/miniconda3/envs/jupyterlab/lib/python3.12/site-packages/codecarbon/core/emissions.py\", line 168, in get_region_emissions\n",
      "    raise ValueError(\n",
      "ValueError: Region:  not found for Country with ISO CODE : USA\n",
      "[codecarbon WARNING @ 17:36:28] Regional emissions retrieval failed. Falling back on country emissions.\n",
      "[codecarbon INFO @ 17:36:28] 0.034687 g.CO2eq/s mean an estimation of 1,093.892759878758 kg.CO2eq/year\n",
      "     83/100        38G      0.182      0.144     0.8911        178        640:  43%|████▎     | 67/156 [00:44<00:58,  1.52it/s][codecarbon INFO @ 17:36:43] Energy consumed for RAM : 0.050304 kWh. RAM Power : 42.987337589263916 W\n",
      "[codecarbon INFO @ 17:36:43] Energy consumed for all GPUs : 0.291764 kWh. Total GPU Power : 256.8619778023189 W\n",
      "[codecarbon INFO @ 17:36:43] Energy consumed for all CPUs : 0.049760 kWh. Total CPU Power : 42.5 W\n",
      "[codecarbon INFO @ 17:36:43] 0.391828 kWh of electricity used since the beginning.\n",
      "     83/100        38G     0.1802     0.1422      0.891        185        640:  57%|█████▋    | 89/156 [00:58<00:43,  1.52it/s][codecarbon INFO @ 17:36:58] Energy consumed for RAM : 0.050483 kWh. RAM Power : 42.987337589263916 W\n",
      "[codecarbon INFO @ 17:36:58] Energy consumed for all GPUs : 0.292834 kWh. Total GPU Power : 256.90006945387023 W\n",
      "[codecarbon INFO @ 17:36:58] Energy consumed for all CPUs : 0.049937 kWh. Total CPU Power : 42.5 W\n",
      "[codecarbon INFO @ 17:36:58] 0.393254 kWh of electricity used since the beginning.\n",
      "     83/100        38G     0.1805     0.1422     0.8902        155        640:  72%|███████▏  | 112/156 [01:13<00:28,  1.53it/s][codecarbon INFO @ 17:37:13] Energy consumed for RAM : 0.050662 kWh. RAM Power : 42.987337589263916 W\n",
      "[codecarbon INFO @ 17:37:13] Energy consumed for all GPUs : 0.293917 kWh. Total GPU Power : 259.91979032163243 W\n",
      "[codecarbon INFO @ 17:37:13] Energy consumed for all CPUs : 0.050114 kWh. Total CPU Power : 42.5 W\n",
      "[codecarbon INFO @ 17:37:13] 0.394693 kWh of electricity used since the beginning.\n",
      "     83/100        38G     0.1793     0.1412     0.8904        184        640:  87%|████████▋ | 135/156 [01:28<00:13,  1.52it/s][codecarbon INFO @ 17:37:28] Energy consumed for RAM : 0.050841 kWh. RAM Power : 42.987337589263916 W\n",
      "[codecarbon INFO @ 17:37:28] Energy consumed for all GPUs : 0.294997 kWh. Total GPU Power : 259.31632440600106 W\n",
      "[codecarbon INFO @ 17:37:28] Energy consumed for all CPUs : 0.050291 kWh. Total CPU Power : 42.5 W\n",
      "[codecarbon INFO @ 17:37:28] 0.396129 kWh of electricity used since the beginning.\n",
      "     83/100        38G     0.1798     0.1416     0.8911         26        640: 100%|██████████| 156/156 [01:41<00:00,  1.53it/s]\n",
      "                 Class     Images  Instances      Box(P          R      mAP50  mAP50-95):  16%|█▌        | 3/19 [00:01<00:10,  1.53it/s][codecarbon INFO @ 17:37:43] Energy consumed for RAM : 0.051020 kWh. RAM Power : 42.987337589263916 W\n",
      "[codecarbon INFO @ 17:37:43] Energy consumed for all GPUs : 0.296052 kWh. Total GPU Power : 253.21441171489488 W\n",
      "[codecarbon INFO @ 17:37:43] Energy consumed for all CPUs : 0.050469 kWh. Total CPU Power : 42.5 W\n",
      "[codecarbon INFO @ 17:37:43] 0.397540 kWh of electricity used since the beginning.\n",
      "                 Class     Images  Instances      Box(P          R      mAP50  mAP50-95): 100%|██████████| 19/19 [00:11<00:00,  1.68it/s]"
     ]
    },
    {
     "name": "stdout",
     "output_type": "stream",
     "text": [
      "                   all       2844       3135      0.979      0.963      0.988      0.923\n"
     ]
    },
    {
     "name": "stderr",
     "output_type": "stream",
     "text": [
      "\n"
     ]
    },
    {
     "name": "stdout",
     "output_type": "stream",
     "text": [
      "\n",
      "      Epoch    GPU_mem   box_loss   cls_loss   dfl_loss  Instances       Size\n"
     ]
    },
    {
     "name": "stderr",
     "output_type": "stream",
     "text": [
      "     84/100        38G     0.1804     0.1423     0.8874        187        640:   4%|▍         | 7/156 [00:04<01:38,  1.51it/s][codecarbon INFO @ 17:37:58] Energy consumed for RAM : 0.051199 kWh. RAM Power : 42.987337589263916 W\n",
      "[codecarbon INFO @ 17:37:58] Energy consumed for all GPUs : 0.296988 kWh. Total GPU Power : 224.7690580643265 W\n",
      "[codecarbon INFO @ 17:37:58] Energy consumed for all CPUs : 0.050646 kWh. Total CPU Power : 42.5 W\n",
      "[codecarbon INFO @ 17:37:58] 0.398832 kWh of electricity used since the beginning.\n",
      "     84/100        38G     0.1831     0.1455     0.8892        137        640:   8%|▊         | 13/156 [00:08<01:33,  1.53it/s]"
     ]
    }
   ],
   "source": [
    "@track_emissions()\n",
    "def contTrain():\n",
    "    model3 = YOLO(\"runs/detect/train/weights/last.pt\")\n",
    "    model3.train(resume=True)\n",
    "\n",
    "contTrain()"
   ]
  },
  {
   "cell_type": "code",
   "execution_count": null,
   "id": "390bd4f7-22db-40e1-85af-676c8553be0e",
   "metadata": {},
   "outputs": [],
   "source": [
    "# from utils.general import strip_optimizer\n",
    "\n",
    "# strip_optimizer('path/to/best.pt')"
   ]
  },
  {
   "cell_type": "code",
   "execution_count": 1,
   "id": "a69e5461-4387-4b78-9d34-20b7387e1835",
   "metadata": {},
   "outputs": [
    {
     "ename": "NameError",
     "evalue": "name 'track_emissions' is not defined",
     "output_type": "error",
     "traceback": [
      "\u001b[0;31m---------------------------------------------------------------------------\u001b[0m",
      "\u001b[0;31mNameError\u001b[0m                                 Traceback (most recent call last)",
      "Cell \u001b[0;32mIn[1], line 1\u001b[0m\n\u001b[0;32m----> 1\u001b[0m \u001b[38;5;129m@track_emissions\u001b[39m()\n\u001b[1;32m      2\u001b[0m \u001b[38;5;28;01mdef\u001b[39;00m \u001b[38;5;21mfinalTrain\u001b[39m():\n\u001b[1;32m      3\u001b[0m     model4 \u001b[38;5;241m=\u001b[39m YOLO(\u001b[38;5;124m\"\u001b[39m\u001b[38;5;124mruns/detect/train/weights/epoch70.pt\u001b[39m\u001b[38;5;124m\"\u001b[39m)\n\u001b[1;32m      4\u001b[0m     model4\u001b[38;5;241m.\u001b[39mtrain(resume\u001b[38;5;241m=\u001b[39m\u001b[38;5;28;01mTrue\u001b[39;00m, epochs\u001b[38;5;241m=\u001b[39m\u001b[38;5;241m78\u001b[39m)\n",
      "\u001b[0;31mNameError\u001b[0m: name 'track_emissions' is not defined"
     ]
    }
   ],
   "source": [
    "@track_emissions()\n",
    "def finalTrain():\n",
    "    model4 = YOLO(\"runs/detect/train/weights/epoch70.pt\")\n",
    "    model4.train(resume=True, epochs=78)\n",
    "\n",
    "finalTrain()"
   ]
  }
 ],
 "metadata": {
  "kernelspec": {
   "display_name": "Python 3 (ipykernel)",
   "language": "python",
   "name": "python3"
  },
  "language_info": {
   "codemirror_mode": {
    "name": "ipython",
    "version": 3
   },
   "file_extension": ".py",
   "mimetype": "text/x-python",
   "name": "python",
   "nbconvert_exporter": "python",
   "pygments_lexer": "ipython3",
   "version": "3.12.7"
  }
 },
 "nbformat": 4,
 "nbformat_minor": 5
}
